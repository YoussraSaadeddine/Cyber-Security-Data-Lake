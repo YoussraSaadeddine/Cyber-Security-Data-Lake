{
  "nbformat": 4,
  "nbformat_minor": 0,
  "metadata": {
    "colab": {
      "name": "AElog for anomaly detection.ipynb",
      "provenance": [],
      "collapsed_sections": []
    },
    "kernelspec": {
      "name": "python3",
      "display_name": "Python 3"
    },
    "language_info": {
      "name": "python"
    },
    "accelerator": "GPU"
  },
  "cells": [
    {
      "cell_type": "markdown",
      "metadata": {
        "id": "a-_hnw-Xku3g"
      },
      "source": [
        "#I- Introduction\n",
        "Il existe plusieurs types de modèles qui pourraient être utilisés pour créer la solution pour la classification de texte. Quelques exemples sont :\n",
        "\n",
        "\n",
        "*   **1D- Conv Net** \n",
        "\n",
        "*   **Modèles basés sur RNN (LSTM, GRU)** \n",
        "\n",
        "* **Modèles basés sur des transformers (BERT, GPT2)** \n",
        "\n",
        "####nous avons testé les 3 types de modèles et les CNN et Bert ont montré des très bonne performance\n",
        "####Dans ce projet nous allons essayer de combiner les deux pour avoir un model plus puissant qui tire parti des atouts de chaque type pour donner des meilleurs résultats.\n"
      ]
    },
    {
      "cell_type": "markdown",
      "metadata": {
        "id": "VeCrjgooScfD"
      },
      "source": [
        "### 1. Importing libraries and modules"
      ]
    },
    {
      "cell_type": "code",
      "metadata": {
        "colab": {
          "base_uri": "https://localhost:8080/",
          "height": 1000
        },
        "id": "wkrSDBft4YV_",
        "outputId": "4284c997-a883-4e86-82ff-1f76956ea338"
      },
      "source": [
        "!pip install tensorflow==2.3.0\n",
        "!pip install tensorflow-gpu==2.3.0\n",
        "!pip install keras==2.4.3\n",
        "!pip cudatoolkit==11.0.221"
      ],
      "execution_count": 1,
      "outputs": [
        {
          "output_type": "stream",
          "text": [
            "Collecting tensorflow==2.3.0\n",
            "\u001b[?25l  Downloading https://files.pythonhosted.org/packages/16/89/f2d29c2eafc2eeafb17d5634340e06366af904d332341200a49d954bce85/tensorflow-2.3.0-cp37-cp37m-manylinux2010_x86_64.whl (320.4MB)\n",
            "\u001b[K     |████████████████████████████████| 320.4MB 49kB/s \n",
            "\u001b[?25hRequirement already satisfied: opt-einsum>=2.3.2 in /usr/local/lib/python3.7/dist-packages (from tensorflow==2.3.0) (3.3.0)\n",
            "Collecting gast==0.3.3\n",
            "  Downloading https://files.pythonhosted.org/packages/d6/84/759f5dd23fec8ba71952d97bcc7e2c9d7d63bdc582421f3cd4be845f0c98/gast-0.3.3-py2.py3-none-any.whl\n",
            "Requirement already satisfied: keras-preprocessing<1.2,>=1.1.1 in /usr/local/lib/python3.7/dist-packages (from tensorflow==2.3.0) (1.1.2)\n",
            "Requirement already satisfied: google-pasta>=0.1.8 in /usr/local/lib/python3.7/dist-packages (from tensorflow==2.3.0) (0.2.0)\n",
            "Requirement already satisfied: termcolor>=1.1.0 in /usr/local/lib/python3.7/dist-packages (from tensorflow==2.3.0) (1.1.0)\n",
            "Requirement already satisfied: six>=1.12.0 in /usr/local/lib/python3.7/dist-packages (from tensorflow==2.3.0) (1.15.0)\n",
            "Requirement already satisfied: absl-py>=0.7.0 in /usr/local/lib/python3.7/dist-packages (from tensorflow==2.3.0) (0.12.0)\n",
            "Requirement already satisfied: wrapt>=1.11.1 in /usr/local/lib/python3.7/dist-packages (from tensorflow==2.3.0) (1.12.1)\n",
            "Requirement already satisfied: grpcio>=1.8.6 in /usr/local/lib/python3.7/dist-packages (from tensorflow==2.3.0) (1.34.1)\n",
            "Requirement already satisfied: scipy==1.4.1 in /usr/local/lib/python3.7/dist-packages (from tensorflow==2.3.0) (1.4.1)\n",
            "Collecting h5py<2.11.0,>=2.10.0\n",
            "\u001b[?25l  Downloading https://files.pythonhosted.org/packages/3f/c0/abde58b837e066bca19a3f7332d9d0493521d7dd6b48248451a9e3fe2214/h5py-2.10.0-cp37-cp37m-manylinux1_x86_64.whl (2.9MB)\n",
            "\u001b[K     |████████████████████████████████| 2.9MB 31.7MB/s \n",
            "\u001b[?25hRequirement already satisfied: wheel>=0.26 in /usr/local/lib/python3.7/dist-packages (from tensorflow==2.3.0) (0.36.2)\n",
            "Requirement already satisfied: astunparse==1.6.3 in /usr/local/lib/python3.7/dist-packages (from tensorflow==2.3.0) (1.6.3)\n",
            "Collecting numpy<1.19.0,>=1.16.0\n",
            "\u001b[?25l  Downloading https://files.pythonhosted.org/packages/d6/c6/58e517e8b1fb192725cfa23c01c2e60e4e6699314ee9684a1c5f5c9b27e1/numpy-1.18.5-cp37-cp37m-manylinux1_x86_64.whl (20.1MB)\n",
            "\u001b[K     |████████████████████████████████| 20.1MB 6.0MB/s \n",
            "\u001b[?25hCollecting tensorflow-estimator<2.4.0,>=2.3.0\n",
            "\u001b[?25l  Downloading https://files.pythonhosted.org/packages/e9/ed/5853ec0ae380cba4588eab1524e18ece1583b65f7ae0e97321f5ff9dfd60/tensorflow_estimator-2.3.0-py2.py3-none-any.whl (459kB)\n",
            "\u001b[K     |████████████████████████████████| 460kB 44.4MB/s \n",
            "\u001b[?25hRequirement already satisfied: tensorboard<3,>=2.3.0 in /usr/local/lib/python3.7/dist-packages (from tensorflow==2.3.0) (2.5.0)\n",
            "Requirement already satisfied: protobuf>=3.9.2 in /usr/local/lib/python3.7/dist-packages (from tensorflow==2.3.0) (3.12.4)\n",
            "Requirement already satisfied: werkzeug>=0.11.15 in /usr/local/lib/python3.7/dist-packages (from tensorboard<3,>=2.3.0->tensorflow==2.3.0) (1.0.1)\n",
            "Requirement already satisfied: google-auth<2,>=1.6.3 in /usr/local/lib/python3.7/dist-packages (from tensorboard<3,>=2.3.0->tensorflow==2.3.0) (1.30.0)\n",
            "Requirement already satisfied: google-auth-oauthlib<0.5,>=0.4.1 in /usr/local/lib/python3.7/dist-packages (from tensorboard<3,>=2.3.0->tensorflow==2.3.0) (0.4.4)\n",
            "Requirement already satisfied: requests<3,>=2.21.0 in /usr/local/lib/python3.7/dist-packages (from tensorboard<3,>=2.3.0->tensorflow==2.3.0) (2.23.0)\n",
            "Requirement already satisfied: tensorboard-data-server<0.7.0,>=0.6.0 in /usr/local/lib/python3.7/dist-packages (from tensorboard<3,>=2.3.0->tensorflow==2.3.0) (0.6.1)\n",
            "Requirement already satisfied: setuptools>=41.0.0 in /usr/local/lib/python3.7/dist-packages (from tensorboard<3,>=2.3.0->tensorflow==2.3.0) (57.0.0)\n",
            "Requirement already satisfied: tensorboard-plugin-wit>=1.6.0 in /usr/local/lib/python3.7/dist-packages (from tensorboard<3,>=2.3.0->tensorflow==2.3.0) (1.8.0)\n",
            "Requirement already satisfied: markdown>=2.6.8 in /usr/local/lib/python3.7/dist-packages (from tensorboard<3,>=2.3.0->tensorflow==2.3.0) (3.3.4)\n",
            "Requirement already satisfied: pyasn1-modules>=0.2.1 in /usr/local/lib/python3.7/dist-packages (from google-auth<2,>=1.6.3->tensorboard<3,>=2.3.0->tensorflow==2.3.0) (0.2.8)\n",
            "Requirement already satisfied: rsa<5,>=3.1.4; python_version >= \"3.6\" in /usr/local/lib/python3.7/dist-packages (from google-auth<2,>=1.6.3->tensorboard<3,>=2.3.0->tensorflow==2.3.0) (4.7.2)\n",
            "Requirement already satisfied: cachetools<5.0,>=2.0.0 in /usr/local/lib/python3.7/dist-packages (from google-auth<2,>=1.6.3->tensorboard<3,>=2.3.0->tensorflow==2.3.0) (4.2.2)\n",
            "Requirement already satisfied: requests-oauthlib>=0.7.0 in /usr/local/lib/python3.7/dist-packages (from google-auth-oauthlib<0.5,>=0.4.1->tensorboard<3,>=2.3.0->tensorflow==2.3.0) (1.3.0)\n",
            "Requirement already satisfied: urllib3!=1.25.0,!=1.25.1,<1.26,>=1.21.1 in /usr/local/lib/python3.7/dist-packages (from requests<3,>=2.21.0->tensorboard<3,>=2.3.0->tensorflow==2.3.0) (1.24.3)\n",
            "Requirement already satisfied: idna<3,>=2.5 in /usr/local/lib/python3.7/dist-packages (from requests<3,>=2.21.0->tensorboard<3,>=2.3.0->tensorflow==2.3.0) (2.10)\n",
            "Requirement already satisfied: chardet<4,>=3.0.2 in /usr/local/lib/python3.7/dist-packages (from requests<3,>=2.21.0->tensorboard<3,>=2.3.0->tensorflow==2.3.0) (3.0.4)\n",
            "Requirement already satisfied: certifi>=2017.4.17 in /usr/local/lib/python3.7/dist-packages (from requests<3,>=2.21.0->tensorboard<3,>=2.3.0->tensorflow==2.3.0) (2020.12.5)\n",
            "Requirement already satisfied: importlib-metadata; python_version < \"3.8\" in /usr/local/lib/python3.7/dist-packages (from markdown>=2.6.8->tensorboard<3,>=2.3.0->tensorflow==2.3.0) (4.0.1)\n",
            "Requirement already satisfied: pyasn1<0.5.0,>=0.4.6 in /usr/local/lib/python3.7/dist-packages (from pyasn1-modules>=0.2.1->google-auth<2,>=1.6.3->tensorboard<3,>=2.3.0->tensorflow==2.3.0) (0.4.8)\n",
            "Requirement already satisfied: oauthlib>=3.0.0 in /usr/local/lib/python3.7/dist-packages (from requests-oauthlib>=0.7.0->google-auth-oauthlib<0.5,>=0.4.1->tensorboard<3,>=2.3.0->tensorflow==2.3.0) (3.1.0)\n",
            "Requirement already satisfied: zipp>=0.5 in /usr/local/lib/python3.7/dist-packages (from importlib-metadata; python_version < \"3.8\"->markdown>=2.6.8->tensorboard<3,>=2.3.0->tensorflow==2.3.0) (3.4.1)\n",
            "Requirement already satisfied: typing-extensions>=3.6.4; python_version < \"3.8\" in /usr/local/lib/python3.7/dist-packages (from importlib-metadata; python_version < \"3.8\"->markdown>=2.6.8->tensorboard<3,>=2.3.0->tensorflow==2.3.0) (3.7.4.3)\n",
            "\u001b[31mERROR: datascience 0.10.6 has requirement folium==0.2.1, but you'll have folium 0.8.3 which is incompatible.\u001b[0m\n",
            "\u001b[31mERROR: albumentations 0.1.12 has requirement imgaug<0.2.7,>=0.2.5, but you'll have imgaug 0.2.9 which is incompatible.\u001b[0m\n",
            "Installing collected packages: gast, numpy, h5py, tensorflow-estimator, tensorflow\n",
            "  Found existing installation: gast 0.4.0\n",
            "    Uninstalling gast-0.4.0:\n",
            "      Successfully uninstalled gast-0.4.0\n",
            "  Found existing installation: numpy 1.19.5\n",
            "    Uninstalling numpy-1.19.5:\n",
            "      Successfully uninstalled numpy-1.19.5\n",
            "  Found existing installation: h5py 3.1.0\n",
            "    Uninstalling h5py-3.1.0:\n",
            "      Successfully uninstalled h5py-3.1.0\n",
            "  Found existing installation: tensorflow-estimator 2.5.0\n",
            "    Uninstalling tensorflow-estimator-2.5.0:\n",
            "      Successfully uninstalled tensorflow-estimator-2.5.0\n",
            "  Found existing installation: tensorflow 2.5.0\n",
            "    Uninstalling tensorflow-2.5.0:\n",
            "      Successfully uninstalled tensorflow-2.5.0\n",
            "Successfully installed gast-0.3.3 h5py-2.10.0 numpy-1.18.5 tensorflow-2.3.0 tensorflow-estimator-2.3.0\n"
          ],
          "name": "stdout"
        },
        {
          "output_type": "display_data",
          "data": {
            "application/vnd.colab-display-data+json": {
              "pip_warning": {
                "packages": [
                  "numpy"
                ]
              }
            }
          },
          "metadata": {
            "tags": []
          }
        },
        {
          "output_type": "stream",
          "text": [
            "Collecting tensorflow-gpu==2.3.0\n",
            "\u001b[?25l  Downloading https://files.pythonhosted.org/packages/42/b0/1b3ec22178c021b5ec6c1ace4c3ed20156dabdfcfd998071a7cb9186b1a0/tensorflow_gpu-2.3.0-cp37-cp37m-manylinux2010_x86_64.whl (320.4MB)\n",
            "\u001b[K     |████████████████████████████████| 320.4MB 52kB/s \n",
            "\u001b[?25hRequirement already satisfied: google-pasta>=0.1.8 in /usr/local/lib/python3.7/dist-packages (from tensorflow-gpu==2.3.0) (0.2.0)\n",
            "Requirement already satisfied: wheel>=0.26 in /usr/local/lib/python3.7/dist-packages (from tensorflow-gpu==2.3.0) (0.36.2)\n",
            "Requirement already satisfied: grpcio>=1.8.6 in /usr/local/lib/python3.7/dist-packages (from tensorflow-gpu==2.3.0) (1.34.1)\n",
            "Requirement already satisfied: scipy==1.4.1 in /usr/local/lib/python3.7/dist-packages (from tensorflow-gpu==2.3.0) (1.4.1)\n",
            "Requirement already satisfied: tensorflow-estimator<2.4.0,>=2.3.0 in /usr/local/lib/python3.7/dist-packages (from tensorflow-gpu==2.3.0) (2.3.0)\n",
            "Requirement already satisfied: h5py<2.11.0,>=2.10.0 in /usr/local/lib/python3.7/dist-packages (from tensorflow-gpu==2.3.0) (2.10.0)\n",
            "Requirement already satisfied: keras-preprocessing<1.2,>=1.1.1 in /usr/local/lib/python3.7/dist-packages (from tensorflow-gpu==2.3.0) (1.1.2)\n",
            "Requirement already satisfied: numpy<1.19.0,>=1.16.0 in /usr/local/lib/python3.7/dist-packages (from tensorflow-gpu==2.3.0) (1.18.5)\n",
            "Requirement already satisfied: wrapt>=1.11.1 in /usr/local/lib/python3.7/dist-packages (from tensorflow-gpu==2.3.0) (1.12.1)\n",
            "Requirement already satisfied: absl-py>=0.7.0 in /usr/local/lib/python3.7/dist-packages (from tensorflow-gpu==2.3.0) (0.12.0)\n",
            "Requirement already satisfied: tensorboard<3,>=2.3.0 in /usr/local/lib/python3.7/dist-packages (from tensorflow-gpu==2.3.0) (2.5.0)\n",
            "Requirement already satisfied: protobuf>=3.9.2 in /usr/local/lib/python3.7/dist-packages (from tensorflow-gpu==2.3.0) (3.12.4)\n",
            "Requirement already satisfied: six>=1.12.0 in /usr/local/lib/python3.7/dist-packages (from tensorflow-gpu==2.3.0) (1.15.0)\n",
            "Requirement already satisfied: opt-einsum>=2.3.2 in /usr/local/lib/python3.7/dist-packages (from tensorflow-gpu==2.3.0) (3.3.0)\n",
            "Requirement already satisfied: astunparse==1.6.3 in /usr/local/lib/python3.7/dist-packages (from tensorflow-gpu==2.3.0) (1.6.3)\n",
            "Requirement already satisfied: termcolor>=1.1.0 in /usr/local/lib/python3.7/dist-packages (from tensorflow-gpu==2.3.0) (1.1.0)\n",
            "Requirement already satisfied: gast==0.3.3 in /usr/local/lib/python3.7/dist-packages (from tensorflow-gpu==2.3.0) (0.3.3)\n",
            "Requirement already satisfied: setuptools>=41.0.0 in /usr/local/lib/python3.7/dist-packages (from tensorboard<3,>=2.3.0->tensorflow-gpu==2.3.0) (57.0.0)\n",
            "Requirement already satisfied: werkzeug>=0.11.15 in /usr/local/lib/python3.7/dist-packages (from tensorboard<3,>=2.3.0->tensorflow-gpu==2.3.0) (1.0.1)\n",
            "Requirement already satisfied: tensorboard-plugin-wit>=1.6.0 in /usr/local/lib/python3.7/dist-packages (from tensorboard<3,>=2.3.0->tensorflow-gpu==2.3.0) (1.8.0)\n",
            "Requirement already satisfied: google-auth-oauthlib<0.5,>=0.4.1 in /usr/local/lib/python3.7/dist-packages (from tensorboard<3,>=2.3.0->tensorflow-gpu==2.3.0) (0.4.4)\n",
            "Requirement already satisfied: tensorboard-data-server<0.7.0,>=0.6.0 in /usr/local/lib/python3.7/dist-packages (from tensorboard<3,>=2.3.0->tensorflow-gpu==2.3.0) (0.6.1)\n",
            "Requirement already satisfied: google-auth<2,>=1.6.3 in /usr/local/lib/python3.7/dist-packages (from tensorboard<3,>=2.3.0->tensorflow-gpu==2.3.0) (1.30.0)\n",
            "Requirement already satisfied: requests<3,>=2.21.0 in /usr/local/lib/python3.7/dist-packages (from tensorboard<3,>=2.3.0->tensorflow-gpu==2.3.0) (2.23.0)\n",
            "Requirement already satisfied: markdown>=2.6.8 in /usr/local/lib/python3.7/dist-packages (from tensorboard<3,>=2.3.0->tensorflow-gpu==2.3.0) (3.3.4)\n",
            "Requirement already satisfied: requests-oauthlib>=0.7.0 in /usr/local/lib/python3.7/dist-packages (from google-auth-oauthlib<0.5,>=0.4.1->tensorboard<3,>=2.3.0->tensorflow-gpu==2.3.0) (1.3.0)\n",
            "Requirement already satisfied: pyasn1-modules>=0.2.1 in /usr/local/lib/python3.7/dist-packages (from google-auth<2,>=1.6.3->tensorboard<3,>=2.3.0->tensorflow-gpu==2.3.0) (0.2.8)\n",
            "Requirement already satisfied: cachetools<5.0,>=2.0.0 in /usr/local/lib/python3.7/dist-packages (from google-auth<2,>=1.6.3->tensorboard<3,>=2.3.0->tensorflow-gpu==2.3.0) (4.2.2)\n",
            "Requirement already satisfied: rsa<5,>=3.1.4; python_version >= \"3.6\" in /usr/local/lib/python3.7/dist-packages (from google-auth<2,>=1.6.3->tensorboard<3,>=2.3.0->tensorflow-gpu==2.3.0) (4.7.2)\n",
            "Requirement already satisfied: certifi>=2017.4.17 in /usr/local/lib/python3.7/dist-packages (from requests<3,>=2.21.0->tensorboard<3,>=2.3.0->tensorflow-gpu==2.3.0) (2020.12.5)\n",
            "Requirement already satisfied: chardet<4,>=3.0.2 in /usr/local/lib/python3.7/dist-packages (from requests<3,>=2.21.0->tensorboard<3,>=2.3.0->tensorflow-gpu==2.3.0) (3.0.4)\n",
            "Requirement already satisfied: urllib3!=1.25.0,!=1.25.1,<1.26,>=1.21.1 in /usr/local/lib/python3.7/dist-packages (from requests<3,>=2.21.0->tensorboard<3,>=2.3.0->tensorflow-gpu==2.3.0) (1.24.3)\n",
            "Requirement already satisfied: idna<3,>=2.5 in /usr/local/lib/python3.7/dist-packages (from requests<3,>=2.21.0->tensorboard<3,>=2.3.0->tensorflow-gpu==2.3.0) (2.10)\n",
            "Requirement already satisfied: importlib-metadata; python_version < \"3.8\" in /usr/local/lib/python3.7/dist-packages (from markdown>=2.6.8->tensorboard<3,>=2.3.0->tensorflow-gpu==2.3.0) (4.0.1)\n",
            "Requirement already satisfied: oauthlib>=3.0.0 in /usr/local/lib/python3.7/dist-packages (from requests-oauthlib>=0.7.0->google-auth-oauthlib<0.5,>=0.4.1->tensorboard<3,>=2.3.0->tensorflow-gpu==2.3.0) (3.1.0)\n",
            "Requirement already satisfied: pyasn1<0.5.0,>=0.4.6 in /usr/local/lib/python3.7/dist-packages (from pyasn1-modules>=0.2.1->google-auth<2,>=1.6.3->tensorboard<3,>=2.3.0->tensorflow-gpu==2.3.0) (0.4.8)\n",
            "Requirement already satisfied: zipp>=0.5 in /usr/local/lib/python3.7/dist-packages (from importlib-metadata; python_version < \"3.8\"->markdown>=2.6.8->tensorboard<3,>=2.3.0->tensorflow-gpu==2.3.0) (3.4.1)\n",
            "Requirement already satisfied: typing-extensions>=3.6.4; python_version < \"3.8\" in /usr/local/lib/python3.7/dist-packages (from importlib-metadata; python_version < \"3.8\"->markdown>=2.6.8->tensorboard<3,>=2.3.0->tensorflow-gpu==2.3.0) (3.7.4.3)\n",
            "Installing collected packages: tensorflow-gpu\n",
            "Successfully installed tensorflow-gpu-2.3.0\n",
            "Requirement already satisfied: keras==2.4.3 in /usr/local/lib/python3.7/dist-packages (2.4.3)\n",
            "Requirement already satisfied: pyyaml in /usr/local/lib/python3.7/dist-packages (from keras==2.4.3) (3.13)\n",
            "Requirement already satisfied: h5py in /usr/local/lib/python3.7/dist-packages (from keras==2.4.3) (2.10.0)\n",
            "Requirement already satisfied: numpy>=1.9.1 in /usr/local/lib/python3.7/dist-packages (from keras==2.4.3) (1.18.5)\n",
            "Requirement already satisfied: scipy>=0.14 in /usr/local/lib/python3.7/dist-packages (from keras==2.4.3) (1.4.1)\n",
            "Requirement already satisfied: six in /usr/local/lib/python3.7/dist-packages (from h5py->keras==2.4.3) (1.15.0)\n",
            "ERROR: unknown command \"cudatoolkit==11.0.221\"\n"
          ],
          "name": "stdout"
        }
      ]
    },
    {
      "cell_type": "code",
      "metadata": {
        "id": "up70LU93J0fb"
      },
      "source": [
        "import numpy as np\n",
        "import pandas as pd\n",
        "import tensorflow as tf\n",
        "import tensorflow_hub as hub\n",
        "import logging\n",
        "logging.basicConfig(level=logging.INFO)"
      ],
      "execution_count": 2,
      "outputs": []
    },
    {
      "cell_type": "code",
      "metadata": {
        "id": "5bErBhoUltZS"
      },
      "source": [
        "import matplotlib.pyplot as plt\n",
        "import seaborn as sns\n",
        "import re\n",
        "from numpy import array\n",
        "from tensorflow import keras \n",
        "from tensorflow.keras.preprocessing.sequence import pad_sequences\n",
        "from tensorflow.keras.models import Sequential\n",
        "#from tensorflow.keras.layers.core import Activation, Dropout, Dense\n",
        "from tensorflow.keras.layers import Flatten\n",
        "from tensorflow.keras.layers import GlobalMaxPooling1D\n",
        "#from tensorflow.keras.layers.embeddings import Embedding\n",
        "from tensorflow.keras.preprocessing.text import Tokenizer\n",
        "from sklearn.utils import shuffle\n",
        "from google.colab import drive\n",
        "from sklearn.model_selection import train_test_split\n",
        "from tensorflow.keras.layers import Dense\n",
        "from tensorflow.keras.layers import Input, Dense, Dropout, Embedding, LSTM, Flatten\n",
        "from tensorflow.keras.models import Model\n",
        "from sklearn.metrics import accuracy_score"
      ],
      "execution_count": 3,
      "outputs": []
    },
    {
      "cell_type": "code",
      "metadata": {
        "id": "f3ESMlRaKRTw"
      },
      "source": [
        "!wget --quiet https://raw.githubusercontent.com/tensorflow/models/master/official/nlp/bert/tokenization.py"
      ],
      "execution_count": 4,
      "outputs": []
    },
    {
      "cell_type": "markdown",
      "metadata": {
        "id": "FQRMWg6qlJsg"
      },
      "source": [
        "###2. Loading Data"
      ]
    },
    {
      "cell_type": "markdown",
      "metadata": {
        "id": "bK_C6jL3Swj9"
      },
      "source": [
        "####**Importing files from Google Drive in Colab**\n",
        "notre dataset est stockée dans Google Drive donc nous avons besoin de \n",
        "lier notre compte Google Drive avec notre notebook.\n",
        "1. La première étape consiste à monter notre Google Drive en exécutant le code en dessous.\n",
        "2.  nous obtenons le code d'autorisation en nous connectant à notre compte Google.\n",
        "3.   nous collons le code d'autorisation et nous appuyons sur Entrée."
      ]
    },
    {
      "cell_type": "code",
      "metadata": {
        "colab": {
          "base_uri": "https://localhost:8080/"
        },
        "id": "JmsF7wREKZOO",
        "outputId": "4a0c9878-6720-49fc-d0f4-ea449f36afa6"
      },
      "source": [
        "drive.mount('/gdrive')\n",
        "%cd /gdrive"
      ],
      "execution_count": 5,
      "outputs": [
        {
          "output_type": "stream",
          "text": [
            "Mounted at /gdrive\n",
            "/gdrive\n"
          ],
          "name": "stdout"
        }
      ]
    },
    {
      "cell_type": "code",
      "metadata": {
        "id": "B-qhA6JMK9wd"
      },
      "source": [
        "data_access=pd.read_csv(r'/gdrive/My Drive/access.csv')\n",
        "data_maillog=pd.read_csv(r'/gdrive/My Drive/maillog.csv')\n",
        "data_messages=pd.read_csv(r'/gdrive/My Drive/messages.csv')"
      ],
      "execution_count": 6,
      "outputs": []
    },
    {
      "cell_type": "markdown",
      "metadata": {
        "id": "K2VsEYm0lgcI"
      },
      "source": [
        "###3. Data Preprocessing"
      ]
    },
    {
      "cell_type": "code",
      "metadata": {
        "id": "BPPgOMpRK9lN"
      },
      "source": [
        "del data_access['Unnamed: 0']\n",
        "del data_maillog['Unnamed: 0']\n",
        "del data_messages['Unnamed: 0']"
      ],
      "execution_count": 7,
      "outputs": []
    },
    {
      "cell_type": "code",
      "metadata": {
        "colab": {
          "base_uri": "https://localhost:8080/",
          "height": 359
        },
        "id": "UnZJJUa7K9bY",
        "outputId": "4b31dbd1-40c7-4724-e198-a331c9e2e961"
      },
      "source": [
        "#concatinate\n",
        "df=pd.concat([data_access,data_maillog,data_messages])\n",
        "# Shuffle the data\n",
        "df = shuffle(df).reset_index(drop=True)\n",
        "df.sample(10)"
      ],
      "execution_count": 8,
      "outputs": [
        {
          "output_type": "execute_result",
          "data": {
            "text/html": [
              "<div>\n",
              "<style scoped>\n",
              "    .dataframe tbody tr th:only-of-type {\n",
              "        vertical-align: middle;\n",
              "    }\n",
              "\n",
              "    .dataframe tbody tr th {\n",
              "        vertical-align: top;\n",
              "    }\n",
              "\n",
              "    .dataframe thead th {\n",
              "        text-align: right;\n",
              "    }\n",
              "</style>\n",
              "<table border=\"1\" class=\"dataframe\">\n",
              "  <thead>\n",
              "    <tr style=\"text-align: right;\">\n",
              "      <th></th>\n",
              "      <th>log</th>\n",
              "      <th>label</th>\n",
              "    </tr>\n",
              "  </thead>\n",
              "  <tbody>\n",
              "    <tr>\n",
              "      <th>8742</th>\n",
              "      <td>64.161.31.252 - - [04/Jul/2005:08:58:47 -0400]...</td>\n",
              "      <td>0</td>\n",
              "    </tr>\n",
              "    <tr>\n",
              "      <th>5996</th>\n",
              "      <td>67.154.68.133 - - [25/Jul/2005:18:02:33 -0400]...</td>\n",
              "      <td>0</td>\n",
              "    </tr>\n",
              "    <tr>\n",
              "      <th>18418</th>\n",
              "      <td>Aug  6 20:48:38 combo sendmail[11317]: j770mcb...</td>\n",
              "      <td>0</td>\n",
              "    </tr>\n",
              "    <tr>\n",
              "      <th>10535</th>\n",
              "      <td>Jul 22 04:35:01 combo sendmail[11827]: j6M8Xve...</td>\n",
              "      <td>0</td>\n",
              "    </tr>\n",
              "    <tr>\n",
              "      <th>2524</th>\n",
              "      <td>Jul  3 23:16:09 combo ftpd[762]: connection fr...</td>\n",
              "      <td>0</td>\n",
              "    </tr>\n",
              "    <tr>\n",
              "      <th>1853</th>\n",
              "      <td>Jun 27 15:41:47 combo sendmail[8981]: j5Q4McUb...</td>\n",
              "      <td>0</td>\n",
              "    </tr>\n",
              "    <tr>\n",
              "      <th>19252</th>\n",
              "      <td>Aug 14 17:06:18 combo sendmail[11039]: j7E2gGG...</td>\n",
              "      <td>0</td>\n",
              "    </tr>\n",
              "    <tr>\n",
              "      <th>6319</th>\n",
              "      <td>Aug 14 04:07:31 combo sendmail[5108]: j7DFQqcD...</td>\n",
              "      <td>0</td>\n",
              "    </tr>\n",
              "    <tr>\n",
              "      <th>18545</th>\n",
              "      <td>Aug 15 05:56:17 combo sendmail[12494]: j7E4gGG...</td>\n",
              "      <td>0</td>\n",
              "    </tr>\n",
              "    <tr>\n",
              "      <th>16532</th>\n",
              "      <td>Aug  3 04:03:16 combo ctl_mboxlist[27341]: DBE...</td>\n",
              "      <td>1</td>\n",
              "    </tr>\n",
              "  </tbody>\n",
              "</table>\n",
              "</div>"
            ],
            "text/plain": [
              "                                                     log  label\n",
              "8742   64.161.31.252 - - [04/Jul/2005:08:58:47 -0400]...      0\n",
              "5996   67.154.68.133 - - [25/Jul/2005:18:02:33 -0400]...      0\n",
              "18418  Aug  6 20:48:38 combo sendmail[11317]: j770mcb...      0\n",
              "10535  Jul 22 04:35:01 combo sendmail[11827]: j6M8Xve...      0\n",
              "2524   Jul  3 23:16:09 combo ftpd[762]: connection fr...      0\n",
              "1853   Jun 27 15:41:47 combo sendmail[8981]: j5Q4McUb...      0\n",
              "19252  Aug 14 17:06:18 combo sendmail[11039]: j7E2gGG...      0\n",
              "6319   Aug 14 04:07:31 combo sendmail[5108]: j7DFQqcD...      0\n",
              "18545  Aug 15 05:56:17 combo sendmail[12494]: j7E4gGG...      0\n",
              "16532  Aug  3 04:03:16 combo ctl_mboxlist[27341]: DBE...      1"
            ]
          },
          "metadata": {
            "tags": []
          },
          "execution_count": 8
        }
      ]
    },
    {
      "cell_type": "code",
      "metadata": {
        "colab": {
          "base_uri": "https://localhost:8080/"
        },
        "id": "sa5Fqzy4SBNR",
        "outputId": "013fba98-7af7-4ce8-b279-5910b0cb0066"
      },
      "source": [
        "df.info()"
      ],
      "execution_count": 9,
      "outputs": [
        {
          "output_type": "stream",
          "text": [
            "<class 'pandas.core.frame.DataFrame'>\n",
            "RangeIndex: 22278 entries, 0 to 22277\n",
            "Data columns (total 2 columns):\n",
            " #   Column  Non-Null Count  Dtype \n",
            "---  ------  --------------  ----- \n",
            " 0   log     22278 non-null  object\n",
            " 1   label   22278 non-null  int64 \n",
            "dtypes: int64(1), object(1)\n",
            "memory usage: 348.2+ KB\n"
          ],
          "name": "stdout"
        }
      ]
    },
    {
      "cell_type": "markdown",
      "metadata": {
        "id": "t94COKNemxbH"
      },
      "source": [
        "* Split the dataset into train set 80% & test sets 20%"
      ]
    },
    {
      "cell_type": "code",
      "metadata": {
        "id": "9XTMjK1il01g"
      },
      "source": [
        "X_train, X_test, y_train, y_test = train_test_split(df['log'],df['label'], test_size=0.2,random_state=42)"
      ],
      "execution_count": 10,
      "outputs": []
    },
    {
      "cell_type": "markdown",
      "metadata": {
        "id": "sTZUqjFK4pqu"
      },
      "source": [
        "### CNN Processing Part:"
      ]
    },
    {
      "cell_type": "markdown",
      "metadata": {
        "id": "Fs6cPEVJDvFm"
      },
      "source": [
        "#### Preparing the Embedding Layer"
      ]
    },
    {
      "cell_type": "markdown",
      "metadata": {
        "id": "Y6erncuPFx81"
      },
      "source": [
        "nous utiliserons la classe Tokenizer du module keras.preprocessing.text pour créer un dictionnaire de word-to-index . Dans le dictionnaire, chaque mot est utilisé comme clé, tandis qu'un index unique correspondant est utilisé comme valeur pour la clé."
      ]
    },
    {
      "cell_type": "code",
      "metadata": {
        "id": "etXzifLgl1ua"
      },
      "source": [
        "tokenizer = Tokenizer()\n",
        "tokenizer.fit_on_texts(X_train)\n",
        "\n",
        "X_train = tokenizer.texts_to_sequences(X_train)\n",
        "X_test = tokenizer.texts_to_sequences(X_test)"
      ],
      "execution_count": 11,
      "outputs": []
    },
    {
      "cell_type": "markdown",
      "metadata": {
        "id": "TOo_yb2QGP2q"
      },
      "source": [
        "Nous fixons la taille maximale à 100. Les listes de taille supérieure à 100 seront tronquées à 100. Pour les listes dont la longueur est inférieure à 100, nous ajouterons 0 à la fin de la liste jusqu'à ce qu'elle atteigne la longueur maximale."
      ]
    },
    {
      "cell_type": "code",
      "metadata": {
        "id": "X-zUSi5Ll6HV"
      },
      "source": [
        "vocab_size = len(tokenizer.word_index) + 1\n",
        "\n",
        "maxlen = 100\n",
        "\n",
        "X_train = pad_sequences(X_train, padding='post', maxlen=maxlen)\n",
        "X_test = pad_sequences(X_test, padding='post', maxlen=maxlen)"
      ],
      "execution_count": 12,
      "outputs": []
    },
    {
      "cell_type": "markdown",
      "metadata": {
        "id": "04wvSErOG3FK"
      },
      "source": [
        "Nous utiliserons GloVe embeddings pour créer feature matrix, j'ai essayé d'importer Glove sur mon drive\n",
        "* vous pouvez la trouver sur : https://drive.google.com/file/d/17PIgUPWrXOLFbUYqTAnl1cgWqnWHgX1B/view?usp=sharing"
      ]
    },
    {
      "cell_type": "code",
      "metadata": {
        "id": "VriS9Fsrl-YA"
      },
      "source": [
        "from numpy import array\n",
        "from numpy import asarray\n",
        "from numpy import zeros\n",
        "\n",
        "glove_path=r'/gdrive/My Drive/glove.6B.100d.txt'\n",
        "embeddings_dictionary = dict()\n",
        "glove_file = open(glove_path, encoding=\"utf8\")\n",
        "\n",
        "for line in glove_file:\n",
        "    records = line.split()\n",
        "    word = records[0]\n",
        "    vector_dimensions = asarray(records[1:], dtype='float32')\n",
        "    embeddings_dictionary [word] = vector_dimensions\n",
        "glove_file.close()"
      ],
      "execution_count": 13,
      "outputs": []
    },
    {
      "cell_type": "markdown",
      "metadata": {
        "id": "jxW3vnn6INGC"
      },
      "source": [
        "Enfin, nous allons créer une embedding matrix où chaque numéro de ligne correspondra à l'index du mot. La matrice aura 100 colonnes où chaque colonne contiendra les embeddings de mots GloVe."
      ]
    },
    {
      "cell_type": "code",
      "metadata": {
        "id": "EjvP0cNlmEvK"
      },
      "source": [
        "embedding_matrix = zeros((vocab_size,100))\n",
        "for word, index in tokenizer.word_index.items():\n",
        "    embedding_vector = embeddings_dictionary.get(word)\n",
        "    if embedding_vector is not None:\n",
        "      embedding_matrix[index] = embedding_vector"
      ],
      "execution_count": 14,
      "outputs": []
    },
    {
      "cell_type": "markdown",
      "metadata": {
        "id": "AAG-IbUc59uV"
      },
      "source": [
        "### Bert Processing Part:"
      ]
    },
    {
      "cell_type": "markdown",
      "metadata": {
        "id": "WAsvx_cr8OS9"
      },
      "source": [
        "### Build a BERT Layer"
      ]
    },
    {
      "cell_type": "code",
      "metadata": {
        "colab": {
          "base_uri": "https://localhost:8080/"
        },
        "id": "ENRgLwLVKZZj",
        "outputId": "fb4b83da-c425-4968-a77f-95e36b119755"
      },
      "source": [
        "import tensorflow as tf\n",
        "from tensorflow.keras.layers import MaxPooling1D,Conv1D,GlobalMaxPooling1D\n",
        "from tensorflow.keras.models import Sequential, Model\n",
        "from tensorflow.keras.layers import Activation, Dense, Dropout, Flatten, Input,Concatenate\n",
        "import tensorflow_hub as hub\n",
        "module_url = 'https://tfhub.dev/tensorflow/bert_en_uncased_L-12_H-768_A-12/2'\n",
        "bert_layer = hub.KerasLayer(module_url, trainable=True)"
      ],
      "execution_count": 15,
      "outputs": [
        {
          "output_type": "stream",
          "text": [
            "INFO:absl:Using /tmp/tfhub_modules to cache modules.\n",
            "INFO:absl:Downloading TF-Hub Module 'https://tfhub.dev/tensorflow/bert_en_uncased_L-12_H-768_A-12/2'.\n",
            "INFO:absl:Downloaded https://tfhub.dev/tensorflow/bert_en_uncased_L-12_H-768_A-12/2, Total size: 421.50MB\n",
            "INFO:absl:Downloaded TF-Hub Module 'https://tfhub.dev/tensorflow/bert_en_uncased_L-12_H-768_A-12/2'.\n"
          ],
          "name": "stderr"
        }
      ]
    },
    {
      "cell_type": "markdown",
      "metadata": {
        "id": "Axwnig5jKz1Z"
      },
      "source": [
        "### **PS: Pour Bert layer:**\n",
        "* Inputs:\n",
        "\n",
        "a) input token ids (tokenizer convertir les tokens à l'aide d'un vocab file)\n",
        "\n",
        "b) input masks (1 pour vrai tokens, 0 pour padding)\n",
        "\n",
        "c) segment ids (for 2 text training: 0 for the first one, 1 for the second one)\n",
        "\n",
        "* Outputs:\n",
        "\n",
        "a) pooled_output: shape [batch_size, 768] avec des représentations pour input sequences\n",
        "\n",
        "b) sequence_output: shape [batch_size, max_len, 768] avec des représentation pour chaque input token"
      ]
    },
    {
      "cell_type": "markdown",
      "metadata": {
        "id": "TVOrNhhKsfMx"
      },
      "source": [
        "### Bert Tokenization "
      ]
    },
    {
      "cell_type": "markdown",
      "metadata": {
        "id": "UR8otIdCFf0y"
      },
      "source": [
        "* Bert accepte un type spécifique des inputs pour y répondre nous sommes tenus de:\n",
        "1. Ajouter des tokens spéciaux au début[CLS] et à la fin[SEP] de chaque log.\n",
        "2. Compléter et tronquer toutes les logs à une seule longueur constante \"padding\".\n",
        "3. Différencier explicitement les vrais tokens des tokens de remplissage avec le \"attention mask\" 1 vrai 0 vide.\n"
      ]
    },
    {
      "cell_type": "code",
      "metadata": {
        "colab": {
          "base_uri": "https://localhost:8080/"
        },
        "id": "DmGLYThLMuG4",
        "outputId": "0464f0c1-2512-4721-a43c-7bba0b4d64a4"
      },
      "source": [
        "!pip install sentencepiece"
      ],
      "execution_count": 16,
      "outputs": [
        {
          "output_type": "stream",
          "text": [
            "Collecting sentencepiece\n",
            "\u001b[?25l  Downloading https://files.pythonhosted.org/packages/f5/99/e0808cb947ba10f575839c43e8fafc9cc44e4a7a2c8f79c60db48220a577/sentencepiece-0.1.95-cp37-cp37m-manylinux2014_x86_64.whl (1.2MB)\n",
            "\u001b[K     |████████████████████████████████| 1.2MB 8.1MB/s \n",
            "\u001b[?25hInstalling collected packages: sentencepiece\n",
            "Successfully installed sentencepiece-0.1.95\n"
          ],
          "name": "stdout"
        }
      ]
    },
    {
      "cell_type": "code",
      "metadata": {
        "id": "R2mObaFwEETF"
      },
      "source": [
        "!wget --quiet https://raw.githubusercontent.com/tensorflow/models/master/official/nlp/bert/tokenization.py\n",
        "import tokenization"
      ],
      "execution_count": 17,
      "outputs": []
    },
    {
      "cell_type": "markdown",
      "metadata": {
        "id": "gRBYU10-NvYF"
      },
      "source": [
        "Importons le tokenizer à l'aide du vocab file d'origine, écrivons tous les mots en minuscules, puis tokenisons les logs."
      ]
    },
    {
      "cell_type": "code",
      "metadata": {
        "id": "0O7azPH2KZAa"
      },
      "source": [
        "vocab_file = bert_layer.resolved_object.vocab_file.asset_path.numpy()\n",
        "do_lower_case = bert_layer.resolved_object.do_lower_case.numpy()\n",
        "tokenizer = tokenization.FullTokenizer(vocab_file, do_lower_case)\n",
        "\n",
        "def bert_encode(texts, tokenizer, max_len=100):\n",
        "    all_tokens = []\n",
        "    all_masks = []\n",
        "    all_segments = []\n",
        "    \n",
        "    for text in texts:\n",
        "        text = tokenizer.tokenize(text)\n",
        "            \n",
        "        text = text[:max_len-2]\n",
        "        input_sequence = [\"[CLS]\"] + text + [\"[SEP]\"]\n",
        "        pad_len = max_len - len(input_sequence)\n",
        "        \n",
        "        tokens = tokenizer.convert_tokens_to_ids(input_sequence) + [0] * pad_len\n",
        "        pad_masks = [1] * len(input_sequence) + [0] * pad_len\n",
        "        segment_ids = [0] * max_len\n",
        "        \n",
        "        all_tokens.append(tokens)\n",
        "        all_masks.append(pad_masks)\n",
        "        all_segments.append(segment_ids)\n",
        "    \n",
        "    return np.array(all_tokens), np.array(all_masks), np.array(all_segments)"
      ],
      "execution_count": 18,
      "outputs": []
    },
    {
      "cell_type": "code",
      "metadata": {
        "id": "YNcgvXpSvcSx"
      },
      "source": [
        "X_train0, X_test0, y_train0, y_test0 = train_test_split(df['log'],df['label'], test_size=0.2,random_state=42)"
      ],
      "execution_count": 19,
      "outputs": []
    },
    {
      "cell_type": "code",
      "metadata": {
        "id": "ZpEeHgqLvTAr"
      },
      "source": [
        "max_len = 100\n",
        "train_input = bert_encode(X_train0, tokenizer, max_len=max_len)\n",
        "test_input = bert_encode(X_test0, tokenizer, max_len=max_len)\n",
        "train_labels = keras.utils.to_categorical(y_train0, num_classes=2)"
      ],
      "execution_count": 20,
      "outputs": []
    },
    {
      "cell_type": "code",
      "metadata": {
        "id": "wXI-ZEX2Qm9m"
      },
      "source": [
        "def AElog():\n",
        "    max_len=100\n",
        "    #Bert layer input a besoin des trois vect (input_word_ids,input_mask,segment_ids)\n",
        "    input_word_ids = tf.keras.Input(shape=(max_len,), dtype=tf.int32, name=\"input_word_ids\")\n",
        "\n",
        "    input_mask = tf.keras.Input(shape=(max_len,), dtype=tf.int32, name=\"input_mask\")\n",
        "    \n",
        "    segment_ids = tf.keras.Input(shape=(max_len,), dtype=tf.int32, name=\"segment_ids\")\n",
        "    # Créer un Bert layer\n",
        "    pooled_output, sequence_output = bert_layer([input_word_ids, input_mask, segment_ids])\n",
        "    clf_output = sequence_output[:, 0, :]\n",
        "    #CNN Part\n",
        "    ###Building the Model. \n",
        "    input_tensor = Input(shape=(100,))\n",
        "    # Créer un embedding layer(2D)\n",
        "    input_layer= Embedding(vocab_size,100, weights=[embedding_matrix], input_length=maxlen , trainable=False)(input_tensor)\n",
        "    #liste où on va stocker l'output\n",
        "    uni_vec = []\n",
        "    #nous allons utiliser 3 filtres avec des n-grams différents( 2-grams, 3-grams, 4-grams)\n",
        "    filter_sizes = (2,3,4)\n",
        "    for ks in filter_sizes:\n",
        "    #applique 3 convolutions différents à l'embedding layer\n",
        "      conv_layer= Conv1D(128, kernel_size=ks, activation='relu')(input_layer)\n",
        "      maxpool_layer = MaxPooling1D(pool_size=maxlen-ks+1,strides=None, padding='valid')(conv_layer)\n",
        "      flat_layer= Flatten()(maxpool_layer)\n",
        "      uni_vec.append(flat_layer)\n",
        "    # concatiner les outputs de CNN\n",
        "    single_feature_vector = keras.layers.concatenate(uni_vec)\n",
        "    #AElog:\n",
        "    #nous allons concatiner l'output de BERT \"CLS\" et l'output de CNN \"single_feature_vector\"\n",
        "    outp = tf.keras.layers.concatenate([clf_output, single_feature_vector])\n",
        "    #AElog fully Connected Layers\n",
        "    dense = Dense(128, activation='relu')(outp)\n",
        "    dense2 = Dense(128, activation='relu')(dense)\n",
        "    out = Dense(2, activation='softmax')(dense2)\n",
        "    #input de CNN input_tensor\n",
        "    input1=input_tensor\n",
        "    #input de Bert layers et input_word_ids, input_mask, segment_ids\n",
        "    input2=[input_word_ids, input_mask, segment_ids]\n",
        "    # donc input du models est les 2\n",
        "    model = Model(inputs=[input1,input2],outputs=out)\n",
        "   #Compile Model\n",
        "    model.compile(tf.keras.optimizers.Adam(lr=1e-5), loss='categorical_crossentropy', metrics=['accuracy'])\n",
        "    return model"
      ],
      "execution_count": 21,
      "outputs": []
    },
    {
      "cell_type": "code",
      "metadata": {
        "id": "uMEWeF39TJlt"
      },
      "source": [
        "model = AElog()"
      ],
      "execution_count": 22,
      "outputs": []
    },
    {
      "cell_type": "code",
      "metadata": {
        "colab": {
          "base_uri": "https://localhost:8080/",
          "height": 858
        },
        "id": "FcmAdGXj9ssj",
        "outputId": "bc55728f-bf17-4a74-c755-9505c5b4ab3f"
      },
      "source": [
        "from IPython.display import SVG\n",
        "SVG(tf.keras.utils.model_to_dot(model, show_shapes=True, show_layer_names=True, dpi=55).create(prog='dot', format='svg'))"
      ],
      "execution_count": 23,
      "outputs": [
        {
          "output_type": "execute_result",
          "data": {
            "text/plain": [
              "<IPython.core.display.SVG object>"
            ],
            "image/svg+xml": "<svg height=\"613pt\" viewBox=\"0.00 0.00 2053.00 802.00\" width=\"1568pt\" xmlns=\"http://www.w3.org/2000/svg\" xmlns:xlink=\"http://www.w3.org/1999/xlink\">\n<g class=\"graph\" id=\"graph0\" transform=\"scale(.7639 .7639) rotate(0) translate(4 798)\">\n<title>G</title>\n<polygon fill=\"#ffffff\" points=\"-4,4 -4,-798 2049,-798 2049,4 -4,4\" stroke=\"transparent\"/>\n<!-- 140636936797072 -->\n<g class=\"node\" id=\"node1\">\n<title>140636936797072</title>\n<polygon fill=\"none\" points=\"417,-747.5 417,-793.5 679,-793.5 679,-747.5 417,-747.5\" stroke=\"#000000\"/>\n<text fill=\"#000000\" font-family=\"Times,serif\" font-size=\"14.00\" text-anchor=\"middle\" x=\"483.5\" y=\"-766.8\">input_1: InputLayer</text>\n<polyline fill=\"none\" points=\"550,-747.5 550,-793.5 \" stroke=\"#000000\"/>\n<text fill=\"#000000\" font-family=\"Times,serif\" font-size=\"14.00\" text-anchor=\"middle\" x=\"579\" y=\"-778.3\">input:</text>\n<polyline fill=\"none\" points=\"550,-770.5 608,-770.5 \" stroke=\"#000000\"/>\n<text fill=\"#000000\" font-family=\"Times,serif\" font-size=\"14.00\" text-anchor=\"middle\" x=\"579\" y=\"-755.3\">output:</text>\n<polyline fill=\"none\" points=\"608,-747.5 608,-793.5 \" stroke=\"#000000\"/>\n<text fill=\"#000000\" font-family=\"Times,serif\" font-size=\"14.00\" text-anchor=\"middle\" x=\"643.5\" y=\"-778.3\">[(?, 100)]</text>\n<polyline fill=\"none\" points=\"608,-770.5 679,-770.5 \" stroke=\"#000000\"/>\n<text fill=\"#000000\" font-family=\"Times,serif\" font-size=\"14.00\" text-anchor=\"middle\" x=\"643.5\" y=\"-755.3\">[(?, 100)]</text>\n</g>\n<!-- 140636959973904 -->\n<g class=\"node\" id=\"node2\">\n<title>140636959973904</title>\n<polygon fill=\"none\" points=\"395,-664.5 395,-710.5 701,-710.5 701,-664.5 395,-664.5\" stroke=\"#000000\"/>\n<text fill=\"#000000\" font-family=\"Times,serif\" font-size=\"14.00\" text-anchor=\"middle\" x=\"473\" y=\"-683.8\">embedding: Embedding</text>\n<polyline fill=\"none\" points=\"551,-664.5 551,-710.5 \" stroke=\"#000000\"/>\n<text fill=\"#000000\" font-family=\"Times,serif\" font-size=\"14.00\" text-anchor=\"middle\" x=\"580\" y=\"-695.3\">input:</text>\n<polyline fill=\"none\" points=\"551,-687.5 609,-687.5 \" stroke=\"#000000\"/>\n<text fill=\"#000000\" font-family=\"Times,serif\" font-size=\"14.00\" text-anchor=\"middle\" x=\"580\" y=\"-672.3\">output:</text>\n<polyline fill=\"none\" points=\"609,-664.5 609,-710.5 \" stroke=\"#000000\"/>\n<text fill=\"#000000\" font-family=\"Times,serif\" font-size=\"14.00\" text-anchor=\"middle\" x=\"655\" y=\"-695.3\">(?, 100)</text>\n<polyline fill=\"none\" points=\"609,-687.5 701,-687.5 \" stroke=\"#000000\"/>\n<text fill=\"#000000\" font-family=\"Times,serif\" font-size=\"14.00\" text-anchor=\"middle\" x=\"655\" y=\"-672.3\">(?, 100, 100)</text>\n</g>\n<!-- 140636936797072&#45;&gt;140636959973904 -->\n<g class=\"edge\" id=\"edge1\">\n<title>140636936797072-&gt;140636959973904</title>\n<path d=\"M548,-747.3799C548,-739.1745 548,-729.7679 548,-720.8786\" fill=\"none\" stroke=\"#000000\"/>\n<polygon fill=\"#000000\" points=\"551.5001,-720.784 548,-710.784 544.5001,-720.784 551.5001,-720.784\" stroke=\"#000000\"/>\n</g>\n<!-- 140634988341520 -->\n<g class=\"node\" id=\"node3\">\n<title>140634988341520</title>\n<polygon fill=\"none\" points=\"80,-581.5 80,-627.5 348,-627.5 348,-581.5 80,-581.5\" stroke=\"#000000\"/>\n<text fill=\"#000000\" font-family=\"Times,serif\" font-size=\"14.00\" text-anchor=\"middle\" x=\"139\" y=\"-600.8\">conv1d: Conv1D</text>\n<polyline fill=\"none\" points=\"198,-581.5 198,-627.5 \" stroke=\"#000000\"/>\n<text fill=\"#000000\" font-family=\"Times,serif\" font-size=\"14.00\" text-anchor=\"middle\" x=\"227\" y=\"-612.3\">input:</text>\n<polyline fill=\"none\" points=\"198,-604.5 256,-604.5 \" stroke=\"#000000\"/>\n<text fill=\"#000000\" font-family=\"Times,serif\" font-size=\"14.00\" text-anchor=\"middle\" x=\"227\" y=\"-589.3\">output:</text>\n<polyline fill=\"none\" points=\"256,-581.5 256,-627.5 \" stroke=\"#000000\"/>\n<text fill=\"#000000\" font-family=\"Times,serif\" font-size=\"14.00\" text-anchor=\"middle\" x=\"302\" y=\"-612.3\">(?, 100, 100)</text>\n<polyline fill=\"none\" points=\"256,-604.5 348,-604.5 \" stroke=\"#000000\"/>\n<text fill=\"#000000\" font-family=\"Times,serif\" font-size=\"14.00\" text-anchor=\"middle\" x=\"302\" y=\"-589.3\">(?, 99, 128)</text>\n</g>\n<!-- 140636959973904&#45;&gt;140634988341520 -->\n<g class=\"edge\" id=\"edge2\">\n<title>140636959973904-&gt;140634988341520</title>\n<path d=\"M455.4059,-664.4901C412.3299,-653.7856 360.9519,-641.018 316.6884,-630.0184\" fill=\"none\" stroke=\"#000000\"/>\n<polygon fill=\"#000000\" points=\"317.3231,-626.5697 306.7742,-627.5547 315.6349,-633.3631 317.3231,-626.5697\" stroke=\"#000000\"/>\n</g>\n<!-- 140634968814608 -->\n<g class=\"node\" id=\"node4\">\n<title>140634968814608</title>\n<polygon fill=\"none\" points=\"406.5,-581.5 406.5,-627.5 689.5,-627.5 689.5,-581.5 406.5,-581.5\" stroke=\"#000000\"/>\n<text fill=\"#000000\" font-family=\"Times,serif\" font-size=\"14.00\" text-anchor=\"middle\" x=\"473\" y=\"-600.8\">conv1d_1: Conv1D</text>\n<polyline fill=\"none\" points=\"539.5,-581.5 539.5,-627.5 \" stroke=\"#000000\"/>\n<text fill=\"#000000\" font-family=\"Times,serif\" font-size=\"14.00\" text-anchor=\"middle\" x=\"568.5\" y=\"-612.3\">input:</text>\n<polyline fill=\"none\" points=\"539.5,-604.5 597.5,-604.5 \" stroke=\"#000000\"/>\n<text fill=\"#000000\" font-family=\"Times,serif\" font-size=\"14.00\" text-anchor=\"middle\" x=\"568.5\" y=\"-589.3\">output:</text>\n<polyline fill=\"none\" points=\"597.5,-581.5 597.5,-627.5 \" stroke=\"#000000\"/>\n<text fill=\"#000000\" font-family=\"Times,serif\" font-size=\"14.00\" text-anchor=\"middle\" x=\"643.5\" y=\"-612.3\">(?, 100, 100)</text>\n<polyline fill=\"none\" points=\"597.5,-604.5 689.5,-604.5 \" stroke=\"#000000\"/>\n<text fill=\"#000000\" font-family=\"Times,serif\" font-size=\"14.00\" text-anchor=\"middle\" x=\"643.5\" y=\"-589.3\">(?, 98, 128)</text>\n</g>\n<!-- 140636959973904&#45;&gt;140634968814608 -->\n<g class=\"edge\" id=\"edge3\">\n<title>140636959973904-&gt;140634968814608</title>\n<path d=\"M548,-664.3799C548,-656.1745 548,-646.7679 548,-637.8786\" fill=\"none\" stroke=\"#000000\"/>\n<polygon fill=\"#000000\" points=\"551.5001,-637.784 548,-627.784 544.5001,-637.784 551.5001,-637.784\" stroke=\"#000000\"/>\n</g>\n<!-- 140634989417360 -->\n<g class=\"node\" id=\"node5\">\n<title>140634989417360</title>\n<polygon fill=\"none\" points=\"747.5,-581.5 747.5,-627.5 1030.5,-627.5 1030.5,-581.5 747.5,-581.5\" stroke=\"#000000\"/>\n<text fill=\"#000000\" font-family=\"Times,serif\" font-size=\"14.00\" text-anchor=\"middle\" x=\"814\" y=\"-600.8\">conv1d_2: Conv1D</text>\n<polyline fill=\"none\" points=\"880.5,-581.5 880.5,-627.5 \" stroke=\"#000000\"/>\n<text fill=\"#000000\" font-family=\"Times,serif\" font-size=\"14.00\" text-anchor=\"middle\" x=\"909.5\" y=\"-612.3\">input:</text>\n<polyline fill=\"none\" points=\"880.5,-604.5 938.5,-604.5 \" stroke=\"#000000\"/>\n<text fill=\"#000000\" font-family=\"Times,serif\" font-size=\"14.00\" text-anchor=\"middle\" x=\"909.5\" y=\"-589.3\">output:</text>\n<polyline fill=\"none\" points=\"938.5,-581.5 938.5,-627.5 \" stroke=\"#000000\"/>\n<text fill=\"#000000\" font-family=\"Times,serif\" font-size=\"14.00\" text-anchor=\"middle\" x=\"984.5\" y=\"-612.3\">(?, 100, 100)</text>\n<polyline fill=\"none\" points=\"938.5,-604.5 1030.5,-604.5 \" stroke=\"#000000\"/>\n<text fill=\"#000000\" font-family=\"Times,serif\" font-size=\"14.00\" text-anchor=\"middle\" x=\"984.5\" y=\"-589.3\">(?, 97, 128)</text>\n</g>\n<!-- 140636959973904&#45;&gt;140634989417360 -->\n<g class=\"edge\" id=\"edge4\">\n<title>140636959973904-&gt;140634989417360</title>\n<path d=\"M642.5347,-664.4901C686.6059,-653.7631 739.1887,-640.9643 784.4442,-629.9491\" fill=\"none\" stroke=\"#000000\"/>\n<polygon fill=\"#000000\" points=\"785.3929,-633.3204 794.2814,-627.5547 783.7373,-626.519 785.3929,-633.3204\" stroke=\"#000000\"/>\n</g>\n<!-- 140636935433104 -->\n<g class=\"node\" id=\"node9\">\n<title>140636935433104</title>\n<polygon fill=\"none\" points=\"0,-498.5 0,-544.5 348,-544.5 348,-498.5 0,-498.5\" stroke=\"#000000\"/>\n<text fill=\"#000000\" font-family=\"Times,serif\" font-size=\"14.00\" text-anchor=\"middle\" x=\"103\" y=\"-517.8\">max_pooling1d: MaxPooling1D</text>\n<polyline fill=\"none\" points=\"206,-498.5 206,-544.5 \" stroke=\"#000000\"/>\n<text fill=\"#000000\" font-family=\"Times,serif\" font-size=\"14.00\" text-anchor=\"middle\" x=\"235\" y=\"-529.3\">input:</text>\n<polyline fill=\"none\" points=\"206,-521.5 264,-521.5 \" stroke=\"#000000\"/>\n<text fill=\"#000000\" font-family=\"Times,serif\" font-size=\"14.00\" text-anchor=\"middle\" x=\"235\" y=\"-506.3\">output:</text>\n<polyline fill=\"none\" points=\"264,-498.5 264,-544.5 \" stroke=\"#000000\"/>\n<text fill=\"#000000\" font-family=\"Times,serif\" font-size=\"14.00\" text-anchor=\"middle\" x=\"306\" y=\"-529.3\">(?, 99, 128)</text>\n<polyline fill=\"none\" points=\"264,-521.5 348,-521.5 \" stroke=\"#000000\"/>\n<text fill=\"#000000\" font-family=\"Times,serif\" font-size=\"14.00\" text-anchor=\"middle\" x=\"306\" y=\"-506.3\">(?, 1, 128)</text>\n</g>\n<!-- 140634988341520&#45;&gt;140636935433104 -->\n<g class=\"edge\" id=\"edge5\">\n<title>140634988341520-&gt;140636935433104</title>\n<path d=\"M202.8578,-581.3799C198.7744,-572.907 194.0738,-563.1531 189.6678,-554.0107\" fill=\"none\" stroke=\"#000000\"/>\n<polygon fill=\"#000000\" points=\"192.7156,-552.2729 185.2212,-544.784 186.4097,-555.312 192.7156,-552.2729\" stroke=\"#000000\"/>\n</g>\n<!-- 140636934085520 -->\n<g class=\"node\" id=\"node10\">\n<title>140636934085520</title>\n<polygon fill=\"none\" points=\"366.5,-498.5 366.5,-544.5 729.5,-544.5 729.5,-498.5 366.5,-498.5\" stroke=\"#000000\"/>\n<text fill=\"#000000\" font-family=\"Times,serif\" font-size=\"14.00\" text-anchor=\"middle\" x=\"477\" y=\"-517.8\">max_pooling1d_1: MaxPooling1D</text>\n<polyline fill=\"none\" points=\"587.5,-498.5 587.5,-544.5 \" stroke=\"#000000\"/>\n<text fill=\"#000000\" font-family=\"Times,serif\" font-size=\"14.00\" text-anchor=\"middle\" x=\"616.5\" y=\"-529.3\">input:</text>\n<polyline fill=\"none\" points=\"587.5,-521.5 645.5,-521.5 \" stroke=\"#000000\"/>\n<text fill=\"#000000\" font-family=\"Times,serif\" font-size=\"14.00\" text-anchor=\"middle\" x=\"616.5\" y=\"-506.3\">output:</text>\n<polyline fill=\"none\" points=\"645.5,-498.5 645.5,-544.5 \" stroke=\"#000000\"/>\n<text fill=\"#000000\" font-family=\"Times,serif\" font-size=\"14.00\" text-anchor=\"middle\" x=\"687.5\" y=\"-529.3\">(?, 98, 128)</text>\n<polyline fill=\"none\" points=\"645.5,-521.5 729.5,-521.5 \" stroke=\"#000000\"/>\n<text fill=\"#000000\" font-family=\"Times,serif\" font-size=\"14.00\" text-anchor=\"middle\" x=\"687.5\" y=\"-506.3\">(?, 1, 128)</text>\n</g>\n<!-- 140634968814608&#45;&gt;140636934085520 -->\n<g class=\"edge\" id=\"edge6\">\n<title>140634968814608-&gt;140636934085520</title>\n<path d=\"M548,-581.3799C548,-573.1745 548,-563.7679 548,-554.8786\" fill=\"none\" stroke=\"#000000\"/>\n<polygon fill=\"#000000\" points=\"551.5001,-554.784 548,-544.784 544.5001,-554.784 551.5001,-554.784\" stroke=\"#000000\"/>\n</g>\n<!-- 140634988855504 -->\n<g class=\"node\" id=\"node11\">\n<title>140634988855504</title>\n<polygon fill=\"none\" points=\"747.5,-498.5 747.5,-544.5 1110.5,-544.5 1110.5,-498.5 747.5,-498.5\" stroke=\"#000000\"/>\n<text fill=\"#000000\" font-family=\"Times,serif\" font-size=\"14.00\" text-anchor=\"middle\" x=\"858\" y=\"-517.8\">max_pooling1d_2: MaxPooling1D</text>\n<polyline fill=\"none\" points=\"968.5,-498.5 968.5,-544.5 \" stroke=\"#000000\"/>\n<text fill=\"#000000\" font-family=\"Times,serif\" font-size=\"14.00\" text-anchor=\"middle\" x=\"997.5\" y=\"-529.3\">input:</text>\n<polyline fill=\"none\" points=\"968.5,-521.5 1026.5,-521.5 \" stroke=\"#000000\"/>\n<text fill=\"#000000\" font-family=\"Times,serif\" font-size=\"14.00\" text-anchor=\"middle\" x=\"997.5\" y=\"-506.3\">output:</text>\n<polyline fill=\"none\" points=\"1026.5,-498.5 1026.5,-544.5 \" stroke=\"#000000\"/>\n<text fill=\"#000000\" font-family=\"Times,serif\" font-size=\"14.00\" text-anchor=\"middle\" x=\"1068.5\" y=\"-529.3\">(?, 97, 128)</text>\n<polyline fill=\"none\" points=\"1026.5,-521.5 1110.5,-521.5 \" stroke=\"#000000\"/>\n<text fill=\"#000000\" font-family=\"Times,serif\" font-size=\"14.00\" text-anchor=\"middle\" x=\"1068.5\" y=\"-506.3\">(?, 1, 128)</text>\n</g>\n<!-- 140634989417360&#45;&gt;140634988855504 -->\n<g class=\"edge\" id=\"edge7\">\n<title>140634989417360-&gt;140634988855504</title>\n<path d=\"M900.1422,-581.3799C904.2256,-572.907 908.9262,-563.1531 913.3322,-554.0107\" fill=\"none\" stroke=\"#000000\"/>\n<polygon fill=\"#000000\" points=\"916.5903,-555.312 917.7788,-544.784 910.2844,-552.2729 916.5903,-555.312\" stroke=\"#000000\"/>\n</g>\n<!-- 140636935943440 -->\n<g class=\"node\" id=\"node6\">\n<title>140636935943440</title>\n<polygon fill=\"none\" points=\"1129,-498.5 1129,-544.5 1437,-544.5 1437,-498.5 1129,-498.5\" stroke=\"#000000\"/>\n<text fill=\"#000000\" font-family=\"Times,serif\" font-size=\"14.00\" text-anchor=\"middle\" x=\"1218.5\" y=\"-517.8\">input_word_ids: InputLayer</text>\n<polyline fill=\"none\" points=\"1308,-498.5 1308,-544.5 \" stroke=\"#000000\"/>\n<text fill=\"#000000\" font-family=\"Times,serif\" font-size=\"14.00\" text-anchor=\"middle\" x=\"1337\" y=\"-529.3\">input:</text>\n<polyline fill=\"none\" points=\"1308,-521.5 1366,-521.5 \" stroke=\"#000000\"/>\n<text fill=\"#000000\" font-family=\"Times,serif\" font-size=\"14.00\" text-anchor=\"middle\" x=\"1337\" y=\"-506.3\">output:</text>\n<polyline fill=\"none\" points=\"1366,-498.5 1366,-544.5 \" stroke=\"#000000\"/>\n<text fill=\"#000000\" font-family=\"Times,serif\" font-size=\"14.00\" text-anchor=\"middle\" x=\"1401.5\" y=\"-529.3\">[(?, 100)]</text>\n<polyline fill=\"none\" points=\"1366,-521.5 1437,-521.5 \" stroke=\"#000000\"/>\n<text fill=\"#000000\" font-family=\"Times,serif\" font-size=\"14.00\" text-anchor=\"middle\" x=\"1401.5\" y=\"-506.3\">[(?, 100)]</text>\n</g>\n<!-- 140636875716944 -->\n<g class=\"node\" id=\"node12\">\n<title>140636875716944</title>\n<polygon fill=\"none\" points=\"1246,-415.5 1246,-461.5 1634,-461.5 1634,-415.5 1246,-415.5\" stroke=\"#000000\"/>\n<text fill=\"#000000\" font-family=\"Times,serif\" font-size=\"14.00\" text-anchor=\"middle\" x=\"1323\" y=\"-434.8\">keras_layer: KerasLayer</text>\n<polyline fill=\"none\" points=\"1400,-415.5 1400,-461.5 \" stroke=\"#000000\"/>\n<text fill=\"#000000\" font-family=\"Times,serif\" font-size=\"14.00\" text-anchor=\"middle\" x=\"1429\" y=\"-446.3\">input:</text>\n<polyline fill=\"none\" points=\"1400,-438.5 1458,-438.5 \" stroke=\"#000000\"/>\n<text fill=\"#000000\" font-family=\"Times,serif\" font-size=\"14.00\" text-anchor=\"middle\" x=\"1429\" y=\"-423.3\">output:</text>\n<polyline fill=\"none\" points=\"1458,-415.5 1458,-461.5 \" stroke=\"#000000\"/>\n<text fill=\"#000000\" font-family=\"Times,serif\" font-size=\"14.00\" text-anchor=\"middle\" x=\"1546\" y=\"-446.3\">[(?, 100), (?, 100), (?, 100)]</text>\n<polyline fill=\"none\" points=\"1458,-438.5 1634,-438.5 \" stroke=\"#000000\"/>\n<text fill=\"#000000\" font-family=\"Times,serif\" font-size=\"14.00\" text-anchor=\"middle\" x=\"1546\" y=\"-423.3\">[(?, 768), (?, 100, 768)]</text>\n</g>\n<!-- 140636935943440&#45;&gt;140636875716944 -->\n<g class=\"edge\" id=\"edge8\">\n<title>140636935943440-&gt;140636875716944</title>\n<path d=\"M1326.7333,-498.3799C1345.5383,-488.4384 1367.679,-476.7334 1387.3734,-466.3217\" fill=\"none\" stroke=\"#000000\"/>\n<polygon fill=\"#000000\" points=\"1389.0244,-469.4079 1396.2293,-461.6399 1385.7528,-463.2195 1389.0244,-469.4079\" stroke=\"#000000\"/>\n</g>\n<!-- 140636935682832 -->\n<g class=\"node\" id=\"node7\">\n<title>140636935682832</title>\n<polygon fill=\"none\" points=\"1455,-498.5 1455,-544.5 1739,-544.5 1739,-498.5 1455,-498.5\" stroke=\"#000000\"/>\n<text fill=\"#000000\" font-family=\"Times,serif\" font-size=\"14.00\" text-anchor=\"middle\" x=\"1532.5\" y=\"-517.8\">input_mask: InputLayer</text>\n<polyline fill=\"none\" points=\"1610,-498.5 1610,-544.5 \" stroke=\"#000000\"/>\n<text fill=\"#000000\" font-family=\"Times,serif\" font-size=\"14.00\" text-anchor=\"middle\" x=\"1639\" y=\"-529.3\">input:</text>\n<polyline fill=\"none\" points=\"1610,-521.5 1668,-521.5 \" stroke=\"#000000\"/>\n<text fill=\"#000000\" font-family=\"Times,serif\" font-size=\"14.00\" text-anchor=\"middle\" x=\"1639\" y=\"-506.3\">output:</text>\n<polyline fill=\"none\" points=\"1668,-498.5 1668,-544.5 \" stroke=\"#000000\"/>\n<text fill=\"#000000\" font-family=\"Times,serif\" font-size=\"14.00\" text-anchor=\"middle\" x=\"1703.5\" y=\"-529.3\">[(?, 100)]</text>\n<polyline fill=\"none\" points=\"1668,-521.5 1739,-521.5 \" stroke=\"#000000\"/>\n<text fill=\"#000000\" font-family=\"Times,serif\" font-size=\"14.00\" text-anchor=\"middle\" x=\"1703.5\" y=\"-506.3\">[(?, 100)]</text>\n</g>\n<!-- 140636935682832&#45;&gt;140636875716944 -->\n<g class=\"edge\" id=\"edge9\">\n<title>140636935682832-&gt;140636875716944</title>\n<path d=\"M1553.2667,-498.3799C1534.4617,-488.4384 1512.321,-476.7334 1492.6266,-466.3217\" fill=\"none\" stroke=\"#000000\"/>\n<polygon fill=\"#000000\" points=\"1494.2472,-463.2195 1483.7707,-461.6399 1490.9756,-469.4079 1494.2472,-463.2195\" stroke=\"#000000\"/>\n</g>\n<!-- 140636935684048 -->\n<g class=\"node\" id=\"node8\">\n<title>140636935684048</title>\n<polygon fill=\"none\" points=\"1757,-498.5 1757,-544.5 2045,-544.5 2045,-498.5 1757,-498.5\" stroke=\"#000000\"/>\n<text fill=\"#000000\" font-family=\"Times,serif\" font-size=\"14.00\" text-anchor=\"middle\" x=\"1836.5\" y=\"-517.8\">segment_ids: InputLayer</text>\n<polyline fill=\"none\" points=\"1916,-498.5 1916,-544.5 \" stroke=\"#000000\"/>\n<text fill=\"#000000\" font-family=\"Times,serif\" font-size=\"14.00\" text-anchor=\"middle\" x=\"1945\" y=\"-529.3\">input:</text>\n<polyline fill=\"none\" points=\"1916,-521.5 1974,-521.5 \" stroke=\"#000000\"/>\n<text fill=\"#000000\" font-family=\"Times,serif\" font-size=\"14.00\" text-anchor=\"middle\" x=\"1945\" y=\"-506.3\">output:</text>\n<polyline fill=\"none\" points=\"1974,-498.5 1974,-544.5 \" stroke=\"#000000\"/>\n<text fill=\"#000000\" font-family=\"Times,serif\" font-size=\"14.00\" text-anchor=\"middle\" x=\"2009.5\" y=\"-529.3\">[(?, 100)]</text>\n<polyline fill=\"none\" points=\"1974,-521.5 2045,-521.5 \" stroke=\"#000000\"/>\n<text fill=\"#000000\" font-family=\"Times,serif\" font-size=\"14.00\" text-anchor=\"middle\" x=\"2009.5\" y=\"-506.3\">[(?, 100)]</text>\n</g>\n<!-- 140636935684048&#45;&gt;140636875716944 -->\n<g class=\"edge\" id=\"edge10\">\n<title>140636935684048-&gt;140636875716944</title>\n<path d=\"M1773.198,-498.4901C1712.4937,-487.5607 1639.8441,-474.4806 1577.8973,-463.3275\" fill=\"none\" stroke=\"#000000\"/>\n<polygon fill=\"#000000\" points=\"1578.5126,-459.8821 1568.0506,-461.5547 1577.2722,-466.7713 1578.5126,-459.8821\" stroke=\"#000000\"/>\n</g>\n<!-- 140634968793808 -->\n<g class=\"node\" id=\"node13\">\n<title>140634968793808</title>\n<polygon fill=\"none\" points=\"144.5,-415.5 144.5,-461.5 377.5,-461.5 377.5,-415.5 144.5,-415.5\" stroke=\"#000000\"/>\n<text fill=\"#000000\" font-family=\"Times,serif\" font-size=\"14.00\" text-anchor=\"middle\" x=\"193.5\" y=\"-434.8\">flatten: Flatten</text>\n<polyline fill=\"none\" points=\"242.5,-415.5 242.5,-461.5 \" stroke=\"#000000\"/>\n<text fill=\"#000000\" font-family=\"Times,serif\" font-size=\"14.00\" text-anchor=\"middle\" x=\"271.5\" y=\"-446.3\">input:</text>\n<polyline fill=\"none\" points=\"242.5,-438.5 300.5,-438.5 \" stroke=\"#000000\"/>\n<text fill=\"#000000\" font-family=\"Times,serif\" font-size=\"14.00\" text-anchor=\"middle\" x=\"271.5\" y=\"-423.3\">output:</text>\n<polyline fill=\"none\" points=\"300.5,-415.5 300.5,-461.5 \" stroke=\"#000000\"/>\n<text fill=\"#000000\" font-family=\"Times,serif\" font-size=\"14.00\" text-anchor=\"middle\" x=\"339\" y=\"-446.3\">(?, 1, 128)</text>\n<polyline fill=\"none\" points=\"300.5,-438.5 377.5,-438.5 \" stroke=\"#000000\"/>\n<text fill=\"#000000\" font-family=\"Times,serif\" font-size=\"14.00\" text-anchor=\"middle\" x=\"339\" y=\"-423.3\">(?, 128)</text>\n</g>\n<!-- 140636935433104&#45;&gt;140634968793808 -->\n<g class=\"edge\" id=\"edge11\">\n<title>140636935433104-&gt;140634968793808</title>\n<path d=\"M198.2344,-498.3799C207.8635,-489.1935 219.0709,-478.5013 229.3286,-468.7152\" fill=\"none\" stroke=\"#000000\"/>\n<polygon fill=\"#000000\" points=\"231.7744,-471.2192 236.5939,-461.784 226.9424,-466.1544 231.7744,-471.2192\" stroke=\"#000000\"/>\n</g>\n<!-- 140634968867920 -->\n<g class=\"node\" id=\"node14\">\n<title>140634968867920</title>\n<polygon fill=\"none\" points=\"453,-415.5 453,-461.5 701,-461.5 701,-415.5 453,-415.5\" stroke=\"#000000\"/>\n<text fill=\"#000000\" font-family=\"Times,serif\" font-size=\"14.00\" text-anchor=\"middle\" x=\"509.5\" y=\"-434.8\">flatten_1: Flatten</text>\n<polyline fill=\"none\" points=\"566,-415.5 566,-461.5 \" stroke=\"#000000\"/>\n<text fill=\"#000000\" font-family=\"Times,serif\" font-size=\"14.00\" text-anchor=\"middle\" x=\"595\" y=\"-446.3\">input:</text>\n<polyline fill=\"none\" points=\"566,-438.5 624,-438.5 \" stroke=\"#000000\"/>\n<text fill=\"#000000\" font-family=\"Times,serif\" font-size=\"14.00\" text-anchor=\"middle\" x=\"595\" y=\"-423.3\">output:</text>\n<polyline fill=\"none\" points=\"624,-415.5 624,-461.5 \" stroke=\"#000000\"/>\n<text fill=\"#000000\" font-family=\"Times,serif\" font-size=\"14.00\" text-anchor=\"middle\" x=\"662.5\" y=\"-446.3\">(?, 1, 128)</text>\n<polyline fill=\"none\" points=\"624,-438.5 701,-438.5 \" stroke=\"#000000\"/>\n<text fill=\"#000000\" font-family=\"Times,serif\" font-size=\"14.00\" text-anchor=\"middle\" x=\"662.5\" y=\"-423.3\">(?, 128)</text>\n</g>\n<!-- 140636934085520&#45;&gt;140634968867920 -->\n<g class=\"edge\" id=\"edge12\">\n<title>140636934085520-&gt;140634968867920</title>\n<path d=\"M556.0781,-498.3799C559.0074,-489.9962 562.3748,-480.3584 565.5399,-471.2996\" fill=\"none\" stroke=\"#000000\"/>\n<polygon fill=\"#000000\" points=\"568.8702,-472.3788 568.8646,-461.784 562.262,-470.0699 568.8702,-472.3788\" stroke=\"#000000\"/>\n</g>\n<!-- 140634988804432 -->\n<g class=\"node\" id=\"node15\">\n<title>140634988804432</title>\n<polygon fill=\"none\" points=\"748,-415.5 748,-461.5 996,-461.5 996,-415.5 748,-415.5\" stroke=\"#000000\"/>\n<text fill=\"#000000\" font-family=\"Times,serif\" font-size=\"14.00\" text-anchor=\"middle\" x=\"804.5\" y=\"-434.8\">flatten_2: Flatten</text>\n<polyline fill=\"none\" points=\"861,-415.5 861,-461.5 \" stroke=\"#000000\"/>\n<text fill=\"#000000\" font-family=\"Times,serif\" font-size=\"14.00\" text-anchor=\"middle\" x=\"890\" y=\"-446.3\">input:</text>\n<polyline fill=\"none\" points=\"861,-438.5 919,-438.5 \" stroke=\"#000000\"/>\n<text fill=\"#000000\" font-family=\"Times,serif\" font-size=\"14.00\" text-anchor=\"middle\" x=\"890\" y=\"-423.3\">output:</text>\n<polyline fill=\"none\" points=\"919,-415.5 919,-461.5 \" stroke=\"#000000\"/>\n<text fill=\"#000000\" font-family=\"Times,serif\" font-size=\"14.00\" text-anchor=\"middle\" x=\"957.5\" y=\"-446.3\">(?, 1, 128)</text>\n<polyline fill=\"none\" points=\"919,-438.5 996,-438.5 \" stroke=\"#000000\"/>\n<text fill=\"#000000\" font-family=\"Times,serif\" font-size=\"14.00\" text-anchor=\"middle\" x=\"957.5\" y=\"-423.3\">(?, 128)</text>\n</g>\n<!-- 140634988855504&#45;&gt;140634988804432 -->\n<g class=\"edge\" id=\"edge13\">\n<title>140634988855504-&gt;140634988804432</title>\n<path d=\"M913.1223,-498.3799C907.1198,-489.6394 900.1812,-479.5358 893.7331,-470.1465\" fill=\"none\" stroke=\"#000000\"/>\n<polygon fill=\"#000000\" points=\"896.5365,-468.0459 887.9902,-461.784 890.7662,-472.0087 896.5365,-468.0459\" stroke=\"#000000\"/>\n</g>\n<!-- 140635003799056 -->\n<g class=\"node\" id=\"node16\">\n<title>140635003799056</title>\n<polygon fill=\"none\" points=\"1017,-332.5 1017,-378.5 1455,-378.5 1455,-332.5 1017,-332.5\" stroke=\"#000000\"/>\n<text fill=\"#000000\" font-family=\"Times,serif\" font-size=\"14.00\" text-anchor=\"middle\" x=\"1161\" y=\"-351.8\">tf_op_layer_strided_slice: TensorFlowOpLayer</text>\n<polyline fill=\"none\" points=\"1305,-332.5 1305,-378.5 \" stroke=\"#000000\"/>\n<text fill=\"#000000\" font-family=\"Times,serif\" font-size=\"14.00\" text-anchor=\"middle\" x=\"1334\" y=\"-363.3\">input:</text>\n<polyline fill=\"none\" points=\"1305,-355.5 1363,-355.5 \" stroke=\"#000000\"/>\n<text fill=\"#000000\" font-family=\"Times,serif\" font-size=\"14.00\" text-anchor=\"middle\" x=\"1334\" y=\"-340.3\">output:</text>\n<polyline fill=\"none\" points=\"1363,-332.5 1363,-378.5 \" stroke=\"#000000\"/>\n<text fill=\"#000000\" font-family=\"Times,serif\" font-size=\"14.00\" text-anchor=\"middle\" x=\"1409\" y=\"-363.3\">(?, 100, 768)</text>\n<polyline fill=\"none\" points=\"1363,-355.5 1455,-355.5 \" stroke=\"#000000\"/>\n<text fill=\"#000000\" font-family=\"Times,serif\" font-size=\"14.00\" text-anchor=\"middle\" x=\"1409\" y=\"-340.3\">[(?, 768)]</text>\n</g>\n<!-- 140636875716944&#45;&gt;140635003799056 -->\n<g class=\"edge\" id=\"edge14\">\n<title>140636875716944-&gt;140635003799056</title>\n<path d=\"M1383.4455,-415.4901C1358.2411,-405.2353 1328.3831,-393.0872 1302.15,-382.414\" fill=\"none\" stroke=\"#000000\"/>\n<polygon fill=\"#000000\" points=\"1303.2462,-379.0814 1292.6645,-378.5547 1300.6081,-385.5653 1303.2462,-379.0814\" stroke=\"#000000\"/>\n</g>\n<!-- 140634988805136 -->\n<g class=\"node\" id=\"node17\">\n<title>140634988805136</title>\n<polygon fill=\"none\" points=\"530,-332.5 530,-378.5 924,-378.5 924,-332.5 530,-332.5\" stroke=\"#000000\"/>\n<text fill=\"#000000\" font-family=\"Times,serif\" font-size=\"14.00\" text-anchor=\"middle\" x=\"610\" y=\"-351.8\">concatenate: Concatenate</text>\n<polyline fill=\"none\" points=\"690,-332.5 690,-378.5 \" stroke=\"#000000\"/>\n<text fill=\"#000000\" font-family=\"Times,serif\" font-size=\"14.00\" text-anchor=\"middle\" x=\"719\" y=\"-363.3\">input:</text>\n<polyline fill=\"none\" points=\"690,-355.5 748,-355.5 \" stroke=\"#000000\"/>\n<text fill=\"#000000\" font-family=\"Times,serif\" font-size=\"14.00\" text-anchor=\"middle\" x=\"719\" y=\"-340.3\">output:</text>\n<polyline fill=\"none\" points=\"748,-332.5 748,-378.5 \" stroke=\"#000000\"/>\n<text fill=\"#000000\" font-family=\"Times,serif\" font-size=\"14.00\" text-anchor=\"middle\" x=\"836\" y=\"-363.3\">[(?, 128), (?, 128), (?, 128)]</text>\n<polyline fill=\"none\" points=\"748,-355.5 924,-355.5 \" stroke=\"#000000\"/>\n<text fill=\"#000000\" font-family=\"Times,serif\" font-size=\"14.00\" text-anchor=\"middle\" x=\"836\" y=\"-340.3\">(?, 384)</text>\n</g>\n<!-- 140634968793808&#45;&gt;140634988805136 -->\n<g class=\"edge\" id=\"edge15\">\n<title>140634968793808-&gt;140634988805136</title>\n<path d=\"M377.6896,-417.7162C441.2843,-406.3893 520.4268,-392.2931 587.2914,-380.3837\" fill=\"none\" stroke=\"#000000\"/>\n<polygon fill=\"#000000\" points=\"588.2567,-383.767 597.488,-378.5676 587.0292,-376.8754 588.2567,-383.767\" stroke=\"#000000\"/>\n</g>\n<!-- 140634968867920&#45;&gt;140634988805136 -->\n<g class=\"edge\" id=\"edge16\">\n<title>140634968867920-&gt;140634988805136</title>\n<path d=\"M618.7834,-415.3799C636.5881,-405.5279 657.5226,-393.9442 676.2107,-383.6034\" fill=\"none\" stroke=\"#000000\"/>\n<polygon fill=\"#000000\" points=\"678.1256,-386.544 685.1808,-378.6399 674.7364,-380.4191 678.1256,-386.544\" stroke=\"#000000\"/>\n</g>\n<!-- 140634988804432&#45;&gt;140634988805136 -->\n<g class=\"edge\" id=\"edge17\">\n<title>140634988804432-&gt;140634988805136</title>\n<path d=\"M831.6094,-415.3799C814.5547,-405.6175 794.5292,-394.1546 776.5896,-383.8857\" fill=\"none\" stroke=\"#000000\"/>\n<polygon fill=\"#000000\" points=\"777.8427,-380.5703 767.4252,-378.6399 774.3652,-386.6454 777.8427,-380.5703\" stroke=\"#000000\"/>\n</g>\n<!-- 140634968949968 -->\n<g class=\"node\" id=\"node18\">\n<title>140634968949968</title>\n<polygon fill=\"none\" points=\"766,-249.5 766,-295.5 1122,-295.5 1122,-249.5 766,-249.5\" stroke=\"#000000\"/>\n<text fill=\"#000000\" font-family=\"Times,serif\" font-size=\"14.00\" text-anchor=\"middle\" x=\"853.5\" y=\"-268.8\">concatenate_1: Concatenate</text>\n<polyline fill=\"none\" points=\"941,-249.5 941,-295.5 \" stroke=\"#000000\"/>\n<text fill=\"#000000\" font-family=\"Times,serif\" font-size=\"14.00\" text-anchor=\"middle\" x=\"970\" y=\"-280.3\">input:</text>\n<polyline fill=\"none\" points=\"941,-272.5 999,-272.5 \" stroke=\"#000000\"/>\n<text fill=\"#000000\" font-family=\"Times,serif\" font-size=\"14.00\" text-anchor=\"middle\" x=\"970\" y=\"-257.3\">output:</text>\n<polyline fill=\"none\" points=\"999,-249.5 999,-295.5 \" stroke=\"#000000\"/>\n<text fill=\"#000000\" font-family=\"Times,serif\" font-size=\"14.00\" text-anchor=\"middle\" x=\"1060.5\" y=\"-280.3\">[(?, 768), (?, 384)]</text>\n<polyline fill=\"none\" points=\"999,-272.5 1122,-272.5 \" stroke=\"#000000\"/>\n<text fill=\"#000000\" font-family=\"Times,serif\" font-size=\"14.00\" text-anchor=\"middle\" x=\"1060.5\" y=\"-257.3\">(?, 1152)</text>\n</g>\n<!-- 140635003799056&#45;&gt;140634968949968 -->\n<g class=\"edge\" id=\"edge18\">\n<title>140635003799056-&gt;140634968949968</title>\n<path d=\"M1155.0495,-332.4901C1117.7067,-321.8755 1073.2273,-309.2324 1034.7524,-298.2961\" fill=\"none\" stroke=\"#000000\"/>\n<polygon fill=\"#000000\" points=\"1035.6839,-294.9223 1025.108,-295.5547 1033.77,-301.6555 1035.6839,-294.9223\" stroke=\"#000000\"/>\n</g>\n<!-- 140634988805136&#45;&gt;140634968949968 -->\n<g class=\"edge\" id=\"edge19\">\n<title>140634988805136-&gt;140634968949968</title>\n<path d=\"M787.1584,-332.4901C814.2042,-322.1454 846.2873,-309.874 874.368,-299.1334\" fill=\"none\" stroke=\"#000000\"/>\n<polygon fill=\"#000000\" points=\"875.6348,-302.3962 883.7246,-295.5547 873.1341,-295.8582 875.6348,-302.3962\" stroke=\"#000000\"/>\n</g>\n<!-- 140634986294992 -->\n<g class=\"node\" id=\"node19\">\n<title>140634986294992</title>\n<polygon fill=\"none\" points=\"835,-166.5 835,-212.5 1053,-212.5 1053,-166.5 835,-166.5\" stroke=\"#000000\"/>\n<text fill=\"#000000\" font-family=\"Times,serif\" font-size=\"14.00\" text-anchor=\"middle\" x=\"881\" y=\"-185.8\">dense: Dense</text>\n<polyline fill=\"none\" points=\"927,-166.5 927,-212.5 \" stroke=\"#000000\"/>\n<text fill=\"#000000\" font-family=\"Times,serif\" font-size=\"14.00\" text-anchor=\"middle\" x=\"956\" y=\"-197.3\">input:</text>\n<polyline fill=\"none\" points=\"927,-189.5 985,-189.5 \" stroke=\"#000000\"/>\n<text fill=\"#000000\" font-family=\"Times,serif\" font-size=\"14.00\" text-anchor=\"middle\" x=\"956\" y=\"-174.3\">output:</text>\n<polyline fill=\"none\" points=\"985,-166.5 985,-212.5 \" stroke=\"#000000\"/>\n<text fill=\"#000000\" font-family=\"Times,serif\" font-size=\"14.00\" text-anchor=\"middle\" x=\"1019\" y=\"-197.3\">(?, 1152)</text>\n<polyline fill=\"none\" points=\"985,-189.5 1053,-189.5 \" stroke=\"#000000\"/>\n<text fill=\"#000000\" font-family=\"Times,serif\" font-size=\"14.00\" text-anchor=\"middle\" x=\"1019\" y=\"-174.3\">(?, 128)</text>\n</g>\n<!-- 140634968949968&#45;&gt;140634986294992 -->\n<g class=\"edge\" id=\"edge20\">\n<title>140634968949968-&gt;140634986294992</title>\n<path d=\"M944,-249.3799C944,-241.1745 944,-231.7679 944,-222.8786\" fill=\"none\" stroke=\"#000000\"/>\n<polygon fill=\"#000000\" points=\"947.5001,-222.784 944,-212.784 940.5001,-222.784 947.5001,-222.784\" stroke=\"#000000\"/>\n</g>\n<!-- 140636936673104 -->\n<g class=\"node\" id=\"node20\">\n<title>140636936673104</title>\n<polygon fill=\"none\" points=\"830.5,-83.5 830.5,-129.5 1057.5,-129.5 1057.5,-83.5 830.5,-83.5\" stroke=\"#000000\"/>\n<text fill=\"#000000\" font-family=\"Times,serif\" font-size=\"14.00\" text-anchor=\"middle\" x=\"884\" y=\"-102.8\">dense_1: Dense</text>\n<polyline fill=\"none\" points=\"937.5,-83.5 937.5,-129.5 \" stroke=\"#000000\"/>\n<text fill=\"#000000\" font-family=\"Times,serif\" font-size=\"14.00\" text-anchor=\"middle\" x=\"966.5\" y=\"-114.3\">input:</text>\n<polyline fill=\"none\" points=\"937.5,-106.5 995.5,-106.5 \" stroke=\"#000000\"/>\n<text fill=\"#000000\" font-family=\"Times,serif\" font-size=\"14.00\" text-anchor=\"middle\" x=\"966.5\" y=\"-91.3\">output:</text>\n<polyline fill=\"none\" points=\"995.5,-83.5 995.5,-129.5 \" stroke=\"#000000\"/>\n<text fill=\"#000000\" font-family=\"Times,serif\" font-size=\"14.00\" text-anchor=\"middle\" x=\"1026.5\" y=\"-114.3\">(?, 128)</text>\n<polyline fill=\"none\" points=\"995.5,-106.5 1057.5,-106.5 \" stroke=\"#000000\"/>\n<text fill=\"#000000\" font-family=\"Times,serif\" font-size=\"14.00\" text-anchor=\"middle\" x=\"1026.5\" y=\"-91.3\">(?, 128)</text>\n</g>\n<!-- 140634986294992&#45;&gt;140636936673104 -->\n<g class=\"edge\" id=\"edge21\">\n<title>140634986294992-&gt;140636936673104</title>\n<path d=\"M944,-166.3799C944,-158.1745 944,-148.7679 944,-139.8786\" fill=\"none\" stroke=\"#000000\"/>\n<polygon fill=\"#000000\" points=\"947.5001,-139.784 944,-129.784 940.5001,-139.784 947.5001,-139.784\" stroke=\"#000000\"/>\n</g>\n<!-- 140635003800080 -->\n<g class=\"node\" id=\"node21\">\n<title>140635003800080</title>\n<polygon fill=\"none\" points=\"830.5,-.5 830.5,-46.5 1057.5,-46.5 1057.5,-.5 830.5,-.5\" stroke=\"#000000\"/>\n<text fill=\"#000000\" font-family=\"Times,serif\" font-size=\"14.00\" text-anchor=\"middle\" x=\"884\" y=\"-19.8\">dense_2: Dense</text>\n<polyline fill=\"none\" points=\"937.5,-.5 937.5,-46.5 \" stroke=\"#000000\"/>\n<text fill=\"#000000\" font-family=\"Times,serif\" font-size=\"14.00\" text-anchor=\"middle\" x=\"966.5\" y=\"-31.3\">input:</text>\n<polyline fill=\"none\" points=\"937.5,-23.5 995.5,-23.5 \" stroke=\"#000000\"/>\n<text fill=\"#000000\" font-family=\"Times,serif\" font-size=\"14.00\" text-anchor=\"middle\" x=\"966.5\" y=\"-8.3\">output:</text>\n<polyline fill=\"none\" points=\"995.5,-.5 995.5,-46.5 \" stroke=\"#000000\"/>\n<text fill=\"#000000\" font-family=\"Times,serif\" font-size=\"14.00\" text-anchor=\"middle\" x=\"1026.5\" y=\"-31.3\">(?, 128)</text>\n<polyline fill=\"none\" points=\"995.5,-23.5 1057.5,-23.5 \" stroke=\"#000000\"/>\n<text fill=\"#000000\" font-family=\"Times,serif\" font-size=\"14.00\" text-anchor=\"middle\" x=\"1026.5\" y=\"-8.3\">(?, 2)</text>\n</g>\n<!-- 140636936673104&#45;&gt;140635003800080 -->\n<g class=\"edge\" id=\"edge22\">\n<title>140636936673104-&gt;140635003800080</title>\n<path d=\"M944,-83.3799C944,-75.1745 944,-65.7679 944,-56.8786\" fill=\"none\" stroke=\"#000000\"/>\n<polygon fill=\"#000000\" points=\"947.5001,-56.784 944,-46.784 940.5001,-56.784 947.5001,-56.784\" stroke=\"#000000\"/>\n</g>\n</g>\n</svg>"
          },
          "metadata": {
            "tags": []
          },
          "execution_count": 23
        }
      ]
    },
    {
      "cell_type": "code",
      "metadata": {
        "colab": {
          "base_uri": "https://localhost:8080/"
        },
        "id": "dkzl9o2rOl9d",
        "outputId": "57833fe8-9dc8-435e-a44e-d2e303fb9ba7"
      },
      "source": [
        "history = model.fit([X_train,train_input],train_labels,validation_split=0.2,epochs=3,batch_size=16)"
      ],
      "execution_count": 24,
      "outputs": [
        {
          "output_type": "stream",
          "text": [
            "Epoch 1/3\n",
            "892/892 [==============================] - 357s 401ms/step - loss: 0.0274 - accuracy: 0.9928 - val_loss: 0.0020 - val_accuracy: 0.9994\n",
            "Epoch 2/3\n",
            "892/892 [==============================] - 362s 406ms/step - loss: 0.0021 - accuracy: 0.9995 - val_loss: 4.6012e-04 - val_accuracy: 0.9997\n",
            "Epoch 3/3\n",
            "892/892 [==============================] - 362s 406ms/step - loss: 8.6432e-04 - accuracy: 0.9996 - val_loss: 5.1721e-05 - val_accuracy: 1.0000\n"
          ],
          "name": "stdout"
        }
      ]
    },
    {
      "cell_type": "code",
      "metadata": {
        "id": "jNE4sgkV4Dtn"
      },
      "source": [
        "test_labels = keras.utils.to_categorical(y_test0, num_classes=2)"
      ],
      "execution_count": 25,
      "outputs": []
    },
    {
      "cell_type": "code",
      "metadata": {
        "colab": {
          "base_uri": "https://localhost:8080/"
        },
        "id": "O7YmpY7j4BO0",
        "outputId": "2427b4ea-4335-4ea1-b778-026553bcfd20"
      },
      "source": [
        "score = model.evaluate([X_test,test_input], test_labels, verbose=1)"
      ],
      "execution_count": 26,
      "outputs": [
        {
          "output_type": "stream",
          "text": [
            "140/140 [==============================] - 36s 260ms/step - loss: 2.4344e-05 - accuracy: 1.0000\n"
          ],
          "name": "stdout"
        }
      ]
    }
  ]
}