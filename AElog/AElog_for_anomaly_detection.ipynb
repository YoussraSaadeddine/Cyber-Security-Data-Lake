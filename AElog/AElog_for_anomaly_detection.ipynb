{
  "nbformat": 4,
  "nbformat_minor": 0,
  "metadata": {
    "colab": {
      "name": "AElog for anomaly detection.ipynb",
      "provenance": [],
      "collapsed_sections": []
    },
    "kernelspec": {
      "name": "python3",
      "display_name": "Python 3"
    },
    "language_info": {
      "name": "python"
    },
    "accelerator": "GPU"
  },
  "cells": [
    {
      "cell_type": "markdown",
      "metadata": {
        "id": "a-_hnw-Xku3g"
      },
      "source": [
        "#I- Introduction\n",
        "Il existe plusieurs types de modèles qui pourraient être utilisés pour la classification de texte. Quelques exemples sont :\n",
        "\n",
        "\n",
        "*   **1D- Conv Net** \n",
        "\n",
        "*   **Modèles basés sur RNN (LSTM, GRU)** \n",
        "\n",
        "* **Modèles basés sur des transformers (BERT, GPT2)** \n",
        "\n",
        "####nous avons testé les 3 types de modèles et les CNN et Bert ont montré des très bonne performance\n",
        "####Dans ce projet nous allons essayer de combiner les deux pour avoir un model plus puissant qui tire parti des atouts de chaque type pour donner des meilleurs résultats.\n"
      ]
    },
    {
      "cell_type": "markdown",
      "metadata": {
        "id": "VeCrjgooScfD"
      },
      "source": [
        "### 1. Importing libraries and modules"
      ]
    },
    {
      "cell_type": "code",
      "metadata": {
        "colab": {
          "base_uri": "https://localhost:8080/",
          "height": 1000
        },
        "id": "wkrSDBft4YV_",
        "outputId": "4284c997-a883-4e86-82ff-1f76956ea338"
      },
      "source": [
        "!pip install tensorflow==2.3.0\n",
        "!pip install tensorflow-gpu==2.3.0\n",
        "!pip install keras==2.4.3\n",
        "!pip cudatoolkit==11.0.221"
      ],
      "execution_count": 1,
      "outputs": [
        {
          "output_type": "stream",
          "text": [
            "Collecting tensorflow==2.3.0\n",
            "\u001b[?25l  Downloading https://files.pythonhosted.org/packages/16/89/f2d29c2eafc2eeafb17d5634340e06366af904d332341200a49d954bce85/tensorflow-2.3.0-cp37-cp37m-manylinux2010_x86_64.whl (320.4MB)\n",
            "\u001b[K     |████████████████████████████████| 320.4MB 49kB/s \n",
            "\u001b[?25hRequirement already satisfied: opt-einsum>=2.3.2 in /usr/local/lib/python3.7/dist-packages (from tensorflow==2.3.0) (3.3.0)\n",
            "Collecting gast==0.3.3\n",
            "  Downloading https://files.pythonhosted.org/packages/d6/84/759f5dd23fec8ba71952d97bcc7e2c9d7d63bdc582421f3cd4be845f0c98/gast-0.3.3-py2.py3-none-any.whl\n",
            "Requirement already satisfied: keras-preprocessing<1.2,>=1.1.1 in /usr/local/lib/python3.7/dist-packages (from tensorflow==2.3.0) (1.1.2)\n",
            "Requirement already satisfied: google-pasta>=0.1.8 in /usr/local/lib/python3.7/dist-packages (from tensorflow==2.3.0) (0.2.0)\n",
            "Requirement already satisfied: termcolor>=1.1.0 in /usr/local/lib/python3.7/dist-packages (from tensorflow==2.3.0) (1.1.0)\n",
            "Requirement already satisfied: six>=1.12.0 in /usr/local/lib/python3.7/dist-packages (from tensorflow==2.3.0) (1.15.0)\n",
            "Requirement already satisfied: absl-py>=0.7.0 in /usr/local/lib/python3.7/dist-packages (from tensorflow==2.3.0) (0.12.0)\n",
            "Requirement already satisfied: wrapt>=1.11.1 in /usr/local/lib/python3.7/dist-packages (from tensorflow==2.3.0) (1.12.1)\n",
            "Requirement already satisfied: grpcio>=1.8.6 in /usr/local/lib/python3.7/dist-packages (from tensorflow==2.3.0) (1.34.1)\n",
            "Requirement already satisfied: scipy==1.4.1 in /usr/local/lib/python3.7/dist-packages (from tensorflow==2.3.0) (1.4.1)\n",
            "Collecting h5py<2.11.0,>=2.10.0\n",
            "\u001b[?25l  Downloading https://files.pythonhosted.org/packages/3f/c0/abde58b837e066bca19a3f7332d9d0493521d7dd6b48248451a9e3fe2214/h5py-2.10.0-cp37-cp37m-manylinux1_x86_64.whl (2.9MB)\n",
            "\u001b[K     |████████████████████████████████| 2.9MB 31.7MB/s \n",
            "\u001b[?25hRequirement already satisfied: wheel>=0.26 in /usr/local/lib/python3.7/dist-packages (from tensorflow==2.3.0) (0.36.2)\n",
            "Requirement already satisfied: astunparse==1.6.3 in /usr/local/lib/python3.7/dist-packages (from tensorflow==2.3.0) (1.6.3)\n",
            "Collecting numpy<1.19.0,>=1.16.0\n",
            "\u001b[?25l  Downloading https://files.pythonhosted.org/packages/d6/c6/58e517e8b1fb192725cfa23c01c2e60e4e6699314ee9684a1c5f5c9b27e1/numpy-1.18.5-cp37-cp37m-manylinux1_x86_64.whl (20.1MB)\n",
            "\u001b[K     |████████████████████████████████| 20.1MB 6.0MB/s \n",
            "\u001b[?25hCollecting tensorflow-estimator<2.4.0,>=2.3.0\n",
            "\u001b[?25l  Downloading https://files.pythonhosted.org/packages/e9/ed/5853ec0ae380cba4588eab1524e18ece1583b65f7ae0e97321f5ff9dfd60/tensorflow_estimator-2.3.0-py2.py3-none-any.whl (459kB)\n",
            "\u001b[K     |████████████████████████████████| 460kB 44.4MB/s \n",
            "\u001b[?25hRequirement already satisfied: tensorboard<3,>=2.3.0 in /usr/local/lib/python3.7/dist-packages (from tensorflow==2.3.0) (2.5.0)\n",
            "Requirement already satisfied: protobuf>=3.9.2 in /usr/local/lib/python3.7/dist-packages (from tensorflow==2.3.0) (3.12.4)\n",
            "Requirement already satisfied: werkzeug>=0.11.15 in /usr/local/lib/python3.7/dist-packages (from tensorboard<3,>=2.3.0->tensorflow==2.3.0) (1.0.1)\n",
            "Requirement already satisfied: google-auth<2,>=1.6.3 in /usr/local/lib/python3.7/dist-packages (from tensorboard<3,>=2.3.0->tensorflow==2.3.0) (1.30.0)\n",
            "Requirement already satisfied: google-auth-oauthlib<0.5,>=0.4.1 in /usr/local/lib/python3.7/dist-packages (from tensorboard<3,>=2.3.0->tensorflow==2.3.0) (0.4.4)\n",
            "Requirement already satisfied: requests<3,>=2.21.0 in /usr/local/lib/python3.7/dist-packages (from tensorboard<3,>=2.3.0->tensorflow==2.3.0) (2.23.0)\n",
            "Requirement already satisfied: tensorboard-data-server<0.7.0,>=0.6.0 in /usr/local/lib/python3.7/dist-packages (from tensorboard<3,>=2.3.0->tensorflow==2.3.0) (0.6.1)\n",
            "Requirement already satisfied: setuptools>=41.0.0 in /usr/local/lib/python3.7/dist-packages (from tensorboard<3,>=2.3.0->tensorflow==2.3.0) (57.0.0)\n",
            "Requirement already satisfied: tensorboard-plugin-wit>=1.6.0 in /usr/local/lib/python3.7/dist-packages (from tensorboard<3,>=2.3.0->tensorflow==2.3.0) (1.8.0)\n",
            "Requirement already satisfied: markdown>=2.6.8 in /usr/local/lib/python3.7/dist-packages (from tensorboard<3,>=2.3.0->tensorflow==2.3.0) (3.3.4)\n",
            "Requirement already satisfied: pyasn1-modules>=0.2.1 in /usr/local/lib/python3.7/dist-packages (from google-auth<2,>=1.6.3->tensorboard<3,>=2.3.0->tensorflow==2.3.0) (0.2.8)\n",
            "Requirement already satisfied: rsa<5,>=3.1.4; python_version >= \"3.6\" in /usr/local/lib/python3.7/dist-packages (from google-auth<2,>=1.6.3->tensorboard<3,>=2.3.0->tensorflow==2.3.0) (4.7.2)\n",
            "Requirement already satisfied: cachetools<5.0,>=2.0.0 in /usr/local/lib/python3.7/dist-packages (from google-auth<2,>=1.6.3->tensorboard<3,>=2.3.0->tensorflow==2.3.0) (4.2.2)\n",
            "Requirement already satisfied: requests-oauthlib>=0.7.0 in /usr/local/lib/python3.7/dist-packages (from google-auth-oauthlib<0.5,>=0.4.1->tensorboard<3,>=2.3.0->tensorflow==2.3.0) (1.3.0)\n",
            "Requirement already satisfied: urllib3!=1.25.0,!=1.25.1,<1.26,>=1.21.1 in /usr/local/lib/python3.7/dist-packages (from requests<3,>=2.21.0->tensorboard<3,>=2.3.0->tensorflow==2.3.0) (1.24.3)\n",
            "Requirement already satisfied: idna<3,>=2.5 in /usr/local/lib/python3.7/dist-packages (from requests<3,>=2.21.0->tensorboard<3,>=2.3.0->tensorflow==2.3.0) (2.10)\n",
            "Requirement already satisfied: chardet<4,>=3.0.2 in /usr/local/lib/python3.7/dist-packages (from requests<3,>=2.21.0->tensorboard<3,>=2.3.0->tensorflow==2.3.0) (3.0.4)\n",
            "Requirement already satisfied: certifi>=2017.4.17 in /usr/local/lib/python3.7/dist-packages (from requests<3,>=2.21.0->tensorboard<3,>=2.3.0->tensorflow==2.3.0) (2020.12.5)\n",
            "Requirement already satisfied: importlib-metadata; python_version < \"3.8\" in /usr/local/lib/python3.7/dist-packages (from markdown>=2.6.8->tensorboard<3,>=2.3.0->tensorflow==2.3.0) (4.0.1)\n",
            "Requirement already satisfied: pyasn1<0.5.0,>=0.4.6 in /usr/local/lib/python3.7/dist-packages (from pyasn1-modules>=0.2.1->google-auth<2,>=1.6.3->tensorboard<3,>=2.3.0->tensorflow==2.3.0) (0.4.8)\n",
            "Requirement already satisfied: oauthlib>=3.0.0 in /usr/local/lib/python3.7/dist-packages (from requests-oauthlib>=0.7.0->google-auth-oauthlib<0.5,>=0.4.1->tensorboard<3,>=2.3.0->tensorflow==2.3.0) (3.1.0)\n",
            "Requirement already satisfied: zipp>=0.5 in /usr/local/lib/python3.7/dist-packages (from importlib-metadata; python_version < \"3.8\"->markdown>=2.6.8->tensorboard<3,>=2.3.0->tensorflow==2.3.0) (3.4.1)\n",
            "Requirement already satisfied: typing-extensions>=3.6.4; python_version < \"3.8\" in /usr/local/lib/python3.7/dist-packages (from importlib-metadata; python_version < \"3.8\"->markdown>=2.6.8->tensorboard<3,>=2.3.0->tensorflow==2.3.0) (3.7.4.3)\n",
            "\u001b[31mERROR: datascience 0.10.6 has requirement folium==0.2.1, but you'll have folium 0.8.3 which is incompatible.\u001b[0m\n",
            "\u001b[31mERROR: albumentations 0.1.12 has requirement imgaug<0.2.7,>=0.2.5, but you'll have imgaug 0.2.9 which is incompatible.\u001b[0m\n",
            "Installing collected packages: gast, numpy, h5py, tensorflow-estimator, tensorflow\n",
            "  Found existing installation: gast 0.4.0\n",
            "    Uninstalling gast-0.4.0:\n",
            "      Successfully uninstalled gast-0.4.0\n",
            "  Found existing installation: numpy 1.19.5\n",
            "    Uninstalling numpy-1.19.5:\n",
            "      Successfully uninstalled numpy-1.19.5\n",
            "  Found existing installation: h5py 3.1.0\n",
            "    Uninstalling h5py-3.1.0:\n",
            "      Successfully uninstalled h5py-3.1.0\n",
            "  Found existing installation: tensorflow-estimator 2.5.0\n",
            "    Uninstalling tensorflow-estimator-2.5.0:\n",
            "      Successfully uninstalled tensorflow-estimator-2.5.0\n",
            "  Found existing installation: tensorflow 2.5.0\n",
            "    Uninstalling tensorflow-2.5.0:\n",
            "      Successfully uninstalled tensorflow-2.5.0\n",
            "Successfully installed gast-0.3.3 h5py-2.10.0 numpy-1.18.5 tensorflow-2.3.0 tensorflow-estimator-2.3.0\n"
          ],
          "name": "stdout"
        },
        {
          "output_type": "display_data",
          "data": {
            "application/vnd.colab-display-data+json": {
              "pip_warning": {
                "packages": [
                  "numpy"
                ]
              }
            }
          },
          "metadata": {
            "tags": []
          }
        },
        {
          "output_type": "stream",
          "text": [
            "Collecting tensorflow-gpu==2.3.0\n",
            "\u001b[?25l  Downloading https://files.pythonhosted.org/packages/42/b0/1b3ec22178c021b5ec6c1ace4c3ed20156dabdfcfd998071a7cb9186b1a0/tensorflow_gpu-2.3.0-cp37-cp37m-manylinux2010_x86_64.whl (320.4MB)\n",
            "\u001b[K     |████████████████████████████████| 320.4MB 52kB/s \n",
            "\u001b[?25hRequirement already satisfied: google-pasta>=0.1.8 in /usr/local/lib/python3.7/dist-packages (from tensorflow-gpu==2.3.0) (0.2.0)\n",
            "Requirement already satisfied: wheel>=0.26 in /usr/local/lib/python3.7/dist-packages (from tensorflow-gpu==2.3.0) (0.36.2)\n",
            "Requirement already satisfied: grpcio>=1.8.6 in /usr/local/lib/python3.7/dist-packages (from tensorflow-gpu==2.3.0) (1.34.1)\n",
            "Requirement already satisfied: scipy==1.4.1 in /usr/local/lib/python3.7/dist-packages (from tensorflow-gpu==2.3.0) (1.4.1)\n",
            "Requirement already satisfied: tensorflow-estimator<2.4.0,>=2.3.0 in /usr/local/lib/python3.7/dist-packages (from tensorflow-gpu==2.3.0) (2.3.0)\n",
            "Requirement already satisfied: h5py<2.11.0,>=2.10.0 in /usr/local/lib/python3.7/dist-packages (from tensorflow-gpu==2.3.0) (2.10.0)\n",
            "Requirement already satisfied: keras-preprocessing<1.2,>=1.1.1 in /usr/local/lib/python3.7/dist-packages (from tensorflow-gpu==2.3.0) (1.1.2)\n",
            "Requirement already satisfied: numpy<1.19.0,>=1.16.0 in /usr/local/lib/python3.7/dist-packages (from tensorflow-gpu==2.3.0) (1.18.5)\n",
            "Requirement already satisfied: wrapt>=1.11.1 in /usr/local/lib/python3.7/dist-packages (from tensorflow-gpu==2.3.0) (1.12.1)\n",
            "Requirement already satisfied: absl-py>=0.7.0 in /usr/local/lib/python3.7/dist-packages (from tensorflow-gpu==2.3.0) (0.12.0)\n",
            "Requirement already satisfied: tensorboard<3,>=2.3.0 in /usr/local/lib/python3.7/dist-packages (from tensorflow-gpu==2.3.0) (2.5.0)\n",
            "Requirement already satisfied: protobuf>=3.9.2 in /usr/local/lib/python3.7/dist-packages (from tensorflow-gpu==2.3.0) (3.12.4)\n",
            "Requirement already satisfied: six>=1.12.0 in /usr/local/lib/python3.7/dist-packages (from tensorflow-gpu==2.3.0) (1.15.0)\n",
            "Requirement already satisfied: opt-einsum>=2.3.2 in /usr/local/lib/python3.7/dist-packages (from tensorflow-gpu==2.3.0) (3.3.0)\n",
            "Requirement already satisfied: astunparse==1.6.3 in /usr/local/lib/python3.7/dist-packages (from tensorflow-gpu==2.3.0) (1.6.3)\n",
            "Requirement already satisfied: termcolor>=1.1.0 in /usr/local/lib/python3.7/dist-packages (from tensorflow-gpu==2.3.0) (1.1.0)\n",
            "Requirement already satisfied: gast==0.3.3 in /usr/local/lib/python3.7/dist-packages (from tensorflow-gpu==2.3.0) (0.3.3)\n",
            "Requirement already satisfied: setuptools>=41.0.0 in /usr/local/lib/python3.7/dist-packages (from tensorboard<3,>=2.3.0->tensorflow-gpu==2.3.0) (57.0.0)\n",
            "Requirement already satisfied: werkzeug>=0.11.15 in /usr/local/lib/python3.7/dist-packages (from tensorboard<3,>=2.3.0->tensorflow-gpu==2.3.0) (1.0.1)\n",
            "Requirement already satisfied: tensorboard-plugin-wit>=1.6.0 in /usr/local/lib/python3.7/dist-packages (from tensorboard<3,>=2.3.0->tensorflow-gpu==2.3.0) (1.8.0)\n",
            "Requirement already satisfied: google-auth-oauthlib<0.5,>=0.4.1 in /usr/local/lib/python3.7/dist-packages (from tensorboard<3,>=2.3.0->tensorflow-gpu==2.3.0) (0.4.4)\n",
            "Requirement already satisfied: tensorboard-data-server<0.7.0,>=0.6.0 in /usr/local/lib/python3.7/dist-packages (from tensorboard<3,>=2.3.0->tensorflow-gpu==2.3.0) (0.6.1)\n",
            "Requirement already satisfied: google-auth<2,>=1.6.3 in /usr/local/lib/python3.7/dist-packages (from tensorboard<3,>=2.3.0->tensorflow-gpu==2.3.0) (1.30.0)\n",
            "Requirement already satisfied: requests<3,>=2.21.0 in /usr/local/lib/python3.7/dist-packages (from tensorboard<3,>=2.3.0->tensorflow-gpu==2.3.0) (2.23.0)\n",
            "Requirement already satisfied: markdown>=2.6.8 in /usr/local/lib/python3.7/dist-packages (from tensorboard<3,>=2.3.0->tensorflow-gpu==2.3.0) (3.3.4)\n",
            "Requirement already satisfied: requests-oauthlib>=0.7.0 in /usr/local/lib/python3.7/dist-packages (from google-auth-oauthlib<0.5,>=0.4.1->tensorboard<3,>=2.3.0->tensorflow-gpu==2.3.0) (1.3.0)\n",
            "Requirement already satisfied: pyasn1-modules>=0.2.1 in /usr/local/lib/python3.7/dist-packages (from google-auth<2,>=1.6.3->tensorboard<3,>=2.3.0->tensorflow-gpu==2.3.0) (0.2.8)\n",
            "Requirement already satisfied: cachetools<5.0,>=2.0.0 in /usr/local/lib/python3.7/dist-packages (from google-auth<2,>=1.6.3->tensorboard<3,>=2.3.0->tensorflow-gpu==2.3.0) (4.2.2)\n",
            "Requirement already satisfied: rsa<5,>=3.1.4; python_version >= \"3.6\" in /usr/local/lib/python3.7/dist-packages (from google-auth<2,>=1.6.3->tensorboard<3,>=2.3.0->tensorflow-gpu==2.3.0) (4.7.2)\n",
            "Requirement already satisfied: certifi>=2017.4.17 in /usr/local/lib/python3.7/dist-packages (from requests<3,>=2.21.0->tensorboard<3,>=2.3.0->tensorflow-gpu==2.3.0) (2020.12.5)\n",
            "Requirement already satisfied: chardet<4,>=3.0.2 in /usr/local/lib/python3.7/dist-packages (from requests<3,>=2.21.0->tensorboard<3,>=2.3.0->tensorflow-gpu==2.3.0) (3.0.4)\n",
            "Requirement already satisfied: urllib3!=1.25.0,!=1.25.1,<1.26,>=1.21.1 in /usr/local/lib/python3.7/dist-packages (from requests<3,>=2.21.0->tensorboard<3,>=2.3.0->tensorflow-gpu==2.3.0) (1.24.3)\n",
            "Requirement already satisfied: idna<3,>=2.5 in /usr/local/lib/python3.7/dist-packages (from requests<3,>=2.21.0->tensorboard<3,>=2.3.0->tensorflow-gpu==2.3.0) (2.10)\n",
            "Requirement already satisfied: importlib-metadata; python_version < \"3.8\" in /usr/local/lib/python3.7/dist-packages (from markdown>=2.6.8->tensorboard<3,>=2.3.0->tensorflow-gpu==2.3.0) (4.0.1)\n",
            "Requirement already satisfied: oauthlib>=3.0.0 in /usr/local/lib/python3.7/dist-packages (from requests-oauthlib>=0.7.0->google-auth-oauthlib<0.5,>=0.4.1->tensorboard<3,>=2.3.0->tensorflow-gpu==2.3.0) (3.1.0)\n",
            "Requirement already satisfied: pyasn1<0.5.0,>=0.4.6 in /usr/local/lib/python3.7/dist-packages (from pyasn1-modules>=0.2.1->google-auth<2,>=1.6.3->tensorboard<3,>=2.3.0->tensorflow-gpu==2.3.0) (0.4.8)\n",
            "Requirement already satisfied: zipp>=0.5 in /usr/local/lib/python3.7/dist-packages (from importlib-metadata; python_version < \"3.8\"->markdown>=2.6.8->tensorboard<3,>=2.3.0->tensorflow-gpu==2.3.0) (3.4.1)\n",
            "Requirement already satisfied: typing-extensions>=3.6.4; python_version < \"3.8\" in /usr/local/lib/python3.7/dist-packages (from importlib-metadata; python_version < \"3.8\"->markdown>=2.6.8->tensorboard<3,>=2.3.0->tensorflow-gpu==2.3.0) (3.7.4.3)\n",
            "Installing collected packages: tensorflow-gpu\n",
            "Successfully installed tensorflow-gpu-2.3.0\n",
            "Requirement already satisfied: keras==2.4.3 in /usr/local/lib/python3.7/dist-packages (2.4.3)\n",
            "Requirement already satisfied: pyyaml in /usr/local/lib/python3.7/dist-packages (from keras==2.4.3) (3.13)\n",
            "Requirement already satisfied: h5py in /usr/local/lib/python3.7/dist-packages (from keras==2.4.3) (2.10.0)\n",
            "Requirement already satisfied: numpy>=1.9.1 in /usr/local/lib/python3.7/dist-packages (from keras==2.4.3) (1.18.5)\n",
            "Requirement already satisfied: scipy>=0.14 in /usr/local/lib/python3.7/dist-packages (from keras==2.4.3) (1.4.1)\n",
            "Requirement already satisfied: six in /usr/local/lib/python3.7/dist-packages (from h5py->keras==2.4.3) (1.15.0)\n",
            "ERROR: unknown command \"cudatoolkit==11.0.221\"\n"
          ],
          "name": "stdout"
        }
      ]
    },
    {
      "cell_type": "code",
      "metadata": {
        "id": "up70LU93J0fb"
      },
      "source": [
        "import numpy as np\n",
        "import pandas as pd\n",
        "import tensorflow as tf\n",
        "import tensorflow_hub as hub\n",
        "import logging\n",
        "logging.basicConfig(level=logging.INFO)"
      ],
      "execution_count": 2,
      "outputs": []
    },
    {
      "cell_type": "code",
      "metadata": {
        "id": "5bErBhoUltZS"
      },
      "source": [
        "import matplotlib.pyplot as plt\n",
        "import seaborn as sns\n",
        "import re\n",
        "from numpy import array\n",
        "from tensorflow import keras \n",
        "from tensorflow.keras.preprocessing.sequence import pad_sequences\n",
        "from tensorflow.keras.models import Sequential\n",
        "#from tensorflow.keras.layers.core import Activation, Dropout, Dense\n",
        "from tensorflow.keras.layers import Flatten\n",
        "from tensorflow.keras.layers import GlobalMaxPooling1D\n",
        "#from tensorflow.keras.layers.embeddings import Embedding\n",
        "from tensorflow.keras.preprocessing.text import Tokenizer\n",
        "from sklearn.utils import shuffle\n",
        "from google.colab import drive\n",
        "from sklearn.model_selection import train_test_split\n",
        "from tensorflow.keras.layers import Dense\n",
        "from tensorflow.keras.layers import Input, Dense, Dropout, Embedding, LSTM, Flatten\n",
        "from tensorflow.keras.models import Model\n",
        "from sklearn.metrics import accuracy_score"
      ],
      "execution_count": 3,
      "outputs": []
    },
    {
      "cell_type": "code",
      "metadata": {
        "id": "f3ESMlRaKRTw"
      },
      "source": [
        "!wget --quiet https://raw.githubusercontent.com/tensorflow/models/master/official/nlp/bert/tokenization.py"
      ],
      "execution_count": 4,
      "outputs": []
    },
    {
      "cell_type": "markdown",
      "metadata": {
        "id": "FQRMWg6qlJsg"
      },
      "source": [
        "###2. Loading Data"
      ]
    },
    {
      "cell_type": "markdown",
      "metadata": {
        "id": "bK_C6jL3Swj9"
      },
      "source": [
        "####**Importing files from Google Drive in Colab**\n",
        "notre dataset est stockée dans Google Drive donc nous avons besoin de \n",
        "lier notre compte Google Drive avec notre notebook.\n",
        "1. La première étape consiste à monter notre Google Drive en exécutant le code en dessous.\n",
        "2.  nous obtenons le code d'autorisation en nous connectant à notre compte Google.\n",
        "3.   nous collons le code d'autorisation et nous appuyons sur Entrée."
      ]
    },
    {
      "cell_type": "code",
      "metadata": {
        "colab": {
          "base_uri": "https://localhost:8080/"
        },
        "id": "JmsF7wREKZOO",
        "outputId": "4a0c9878-6720-49fc-d0f4-ea449f36afa6"
      },
      "source": [
        "drive.mount('/gdrive')\n",
        "%cd /gdrive"
      ],
      "execution_count": 5,
      "outputs": [
        {
          "output_type": "stream",
          "text": [
            "Mounted at /gdrive\n",
            "/gdrive\n"
          ],
          "name": "stdout"
        }
      ]
    },
    {
      "cell_type": "code",
      "metadata": {
        "id": "B-qhA6JMK9wd"
      },
      "source": [
        "data_access=pd.read_csv(r'/gdrive/My Drive/access.csv')\n",
        "data_maillog=pd.read_csv(r'/gdrive/My Drive/maillog.csv')\n",
        "data_messages=pd.read_csv(r'/gdrive/My Drive/messages.csv')"
      ],
      "execution_count": 6,
      "outputs": []
    },
    {
      "cell_type": "markdown",
      "metadata": {
        "id": "K2VsEYm0lgcI"
      },
      "source": [
        "###3. Data Preprocessing"
      ]
    },
    {
      "cell_type": "code",
      "metadata": {
        "id": "BPPgOMpRK9lN"
      },
      "source": [
        "del data_access['Unnamed: 0']\n",
        "del data_maillog['Unnamed: 0']\n",
        "del data_messages['Unnamed: 0']"
      ],
      "execution_count": 7,
      "outputs": []
    },
    {
      "cell_type": "code",
      "metadata": {
        "colab": {
          "base_uri": "https://localhost:8080/",
          "height": 359
        },
        "id": "UnZJJUa7K9bY",
        "outputId": "4b31dbd1-40c7-4724-e198-a331c9e2e961"
      },
      "source": [
        "#concatinate\n",
        "df=pd.concat([data_access,data_maillog,data_messages])\n",
        "# Shuffle the data\n",
        "df = shuffle(df).reset_index(drop=True)\n",
        "df.sample(10)"
      ],
      "execution_count": 8,
      "outputs": [
        {
          "output_type": "execute_result",
          "data": {
            "text/html": [
              "<div>\n",
              "<style scoped>\n",
              "    .dataframe tbody tr th:only-of-type {\n",
              "        vertical-align: middle;\n",
              "    }\n",
              "\n",
              "    .dataframe tbody tr th {\n",
              "        vertical-align: top;\n",
              "    }\n",
              "\n",
              "    .dataframe thead th {\n",
              "        text-align: right;\n",
              "    }\n",
              "</style>\n",
              "<table border=\"1\" class=\"dataframe\">\n",
              "  <thead>\n",
              "    <tr style=\"text-align: right;\">\n",
              "      <th></th>\n",
              "      <th>log</th>\n",
              "      <th>label</th>\n",
              "    </tr>\n",
              "  </thead>\n",
              "  <tbody>\n",
              "    <tr>\n",
              "      <th>8742</th>\n",
              "      <td>64.161.31.252 - - [04/Jul/2005:08:58:47 -0400]...</td>\n",
              "      <td>0</td>\n",
              "    </tr>\n",
              "    <tr>\n",
              "      <th>5996</th>\n",
              "      <td>67.154.68.133 - - [25/Jul/2005:18:02:33 -0400]...</td>\n",
              "      <td>0</td>\n",
              "    </tr>\n",
              "    <tr>\n",
              "      <th>18418</th>\n",
              "      <td>Aug  6 20:48:38 combo sendmail[11317]: j770mcb...</td>\n",
              "      <td>0</td>\n",
              "    </tr>\n",
              "    <tr>\n",
              "      <th>10535</th>\n",
              "      <td>Jul 22 04:35:01 combo sendmail[11827]: j6M8Xve...</td>\n",
              "      <td>0</td>\n",
              "    </tr>\n",
              "    <tr>\n",
              "      <th>2524</th>\n",
              "      <td>Jul  3 23:16:09 combo ftpd[762]: connection fr...</td>\n",
              "      <td>0</td>\n",
              "    </tr>\n",
              "    <tr>\n",
              "      <th>1853</th>\n",
              "      <td>Jun 27 15:41:47 combo sendmail[8981]: j5Q4McUb...</td>\n",
              "      <td>0</td>\n",
              "    </tr>\n",
              "    <tr>\n",
              "      <th>19252</th>\n",
              "      <td>Aug 14 17:06:18 combo sendmail[11039]: j7E2gGG...</td>\n",
              "      <td>0</td>\n",
              "    </tr>\n",
              "    <tr>\n",
              "      <th>6319</th>\n",
              "      <td>Aug 14 04:07:31 combo sendmail[5108]: j7DFQqcD...</td>\n",
              "      <td>0</td>\n",
              "    </tr>\n",
              "    <tr>\n",
              "      <th>18545</th>\n",
              "      <td>Aug 15 05:56:17 combo sendmail[12494]: j7E4gGG...</td>\n",
              "      <td>0</td>\n",
              "    </tr>\n",
              "    <tr>\n",
              "      <th>16532</th>\n",
              "      <td>Aug  3 04:03:16 combo ctl_mboxlist[27341]: DBE...</td>\n",
              "      <td>1</td>\n",
              "    </tr>\n",
              "  </tbody>\n",
              "</table>\n",
              "</div>"
            ],
            "text/plain": [
              "                                                     log  label\n",
              "8742   64.161.31.252 - - [04/Jul/2005:08:58:47 -0400]...      0\n",
              "5996   67.154.68.133 - - [25/Jul/2005:18:02:33 -0400]...      0\n",
              "18418  Aug  6 20:48:38 combo sendmail[11317]: j770mcb...      0\n",
              "10535  Jul 22 04:35:01 combo sendmail[11827]: j6M8Xve...      0\n",
              "2524   Jul  3 23:16:09 combo ftpd[762]: connection fr...      0\n",
              "1853   Jun 27 15:41:47 combo sendmail[8981]: j5Q4McUb...      0\n",
              "19252  Aug 14 17:06:18 combo sendmail[11039]: j7E2gGG...      0\n",
              "6319   Aug 14 04:07:31 combo sendmail[5108]: j7DFQqcD...      0\n",
              "18545  Aug 15 05:56:17 combo sendmail[12494]: j7E4gGG...      0\n",
              "16532  Aug  3 04:03:16 combo ctl_mboxlist[27341]: DBE...      1"
            ]
          },
          "metadata": {
            "tags": []
          },
          "execution_count": 8
        }
      ]
    },
    {
      "cell_type": "code",
      "metadata": {
        "colab": {
          "base_uri": "https://localhost:8080/"
        },
        "id": "sa5Fqzy4SBNR",
        "outputId": "013fba98-7af7-4ce8-b279-5910b0cb0066"
      },
      "source": [
        "df.info()"
      ],
      "execution_count": 9,
      "outputs": [
        {
          "output_type": "stream",
          "text": [
            "<class 'pandas.core.frame.DataFrame'>\n",
            "RangeIndex: 22278 entries, 0 to 22277\n",
            "Data columns (total 2 columns):\n",
            " #   Column  Non-Null Count  Dtype \n",
            "---  ------  --------------  ----- \n",
            " 0   log     22278 non-null  object\n",
            " 1   label   22278 non-null  int64 \n",
            "dtypes: int64(1), object(1)\n",
            "memory usage: 348.2+ KB\n"
          ],
          "name": "stdout"
        }
      ]
    },
    {
      "cell_type": "markdown",
      "metadata": {
        "id": "t94COKNemxbH"
      },
      "source": [
        "* Split the dataset into train set 80% & test sets 20%"
      ]
    },
    {
      "cell_type": "code",
      "metadata": {
        "id": "9XTMjK1il01g"
      },
      "source": [
        "X_train, X_test, y_train, y_test = train_test_split(df['log'],df['label'], test_size=0.2,random_state=42)"
      ],
      "execution_count": 10,
      "outputs": []
    },
    {
      "cell_type": "markdown",
      "metadata": {
        "id": "sTZUqjFK4pqu"
      },
      "source": [
        "### CNN Processing Part:"
      ]
    },
    {
      "cell_type": "markdown",
      "metadata": {
        "id": "Fs6cPEVJDvFm"
      },
      "source": [
        "#### Preparing the Embedding Layer"
      ]
    },
    {
      "cell_type": "markdown",
      "metadata": {
        "id": "Y6erncuPFx81"
      },
      "source": [
        "nous utiliserons la classe Tokenizer du module keras.preprocessing.text pour créer un dictionnaire de word-to-index . Dans le dictionnaire, chaque mot est utilisé comme clé, tandis qu'un index unique correspondant est utilisé comme valeur pour la clé."
      ]
    },
    {
      "cell_type": "code",
      "metadata": {
        "id": "etXzifLgl1ua"
      },
      "source": [
        "tokenizer = Tokenizer()\n",
        "tokenizer.fit_on_texts(X_train)\n",
        "\n",
        "X_train = tokenizer.texts_to_sequences(X_train)\n",
        "X_test = tokenizer.texts_to_sequences(X_test)"
      ],
      "execution_count": 11,
      "outputs": []
    },
    {
      "cell_type": "markdown",
      "metadata": {
        "id": "TOo_yb2QGP2q"
      },
      "source": [
        "Nous fixons la taille maximale à 100. Les listes de taille supérieure à 100 seront tronquées à 100. Pour les listes dont la longueur est inférieure à 100, nous ajouterons 0 à la fin de la liste jusqu'à ce qu'elle atteigne la longueur maximale."
      ]
    },
    {
      "cell_type": "code",
      "metadata": {
        "id": "X-zUSi5Ll6HV"
      },
      "source": [
        "vocab_size = len(tokenizer.word_index) + 1\n",
        "\n",
        "maxlen = 100\n",
        "\n",
        "X_train = pad_sequences(X_train, padding='post', maxlen=maxlen)\n",
        "X_test = pad_sequences(X_test, padding='post', maxlen=maxlen)"
      ],
      "execution_count": 12,
      "outputs": []
    },
    {
      "cell_type": "markdown",
      "metadata": {
        "id": "04wvSErOG3FK"
      },
      "source": [
        "Nous utiliserons GloVe embeddings pour créer feature matrix, j'ai essayé d'importer Glove sur mon drive\n",
        "* vous pouvez la trouver sur : https://drive.google.com/file/d/17PIgUPWrXOLFbUYqTAnl1cgWqnWHgX1B/view?usp=sharing"
      ]
    },
    {
      "cell_type": "code",
      "metadata": {
        "id": "VriS9Fsrl-YA"
      },
      "source": [
        "from numpy import array\n",
        "from numpy import asarray\n",
        "from numpy import zeros\n",
        "\n",
        "glove_path=r'/gdrive/My Drive/glove.6B.100d.txt'\n",
        "embeddings_dictionary = dict()\n",
        "glove_file = open(glove_path, encoding=\"utf8\")\n",
        "\n",
        "for line in glove_file:\n",
        "    records = line.split()\n",
        "    word = records[0]\n",
        "    vector_dimensions = asarray(records[1:], dtype='float32')\n",
        "    embeddings_dictionary [word] = vector_dimensions\n",
        "glove_file.close()"
      ],
      "execution_count": 13,
      "outputs": []
    },
    {
      "cell_type": "markdown",
      "metadata": {
        "id": "jxW3vnn6INGC"
      },
      "source": [
        "Enfin, nous allons créer une embedding matrix où chaque numéro de ligne correspondra à l'index du mot. La matrice aura 100 colonnes où chaque colonne contiendra les embeddings de mots GloVe."
      ]
    },
    {
      "cell_type": "code",
      "metadata": {
        "id": "EjvP0cNlmEvK"
      },
      "source": [
        "embedding_matrix = zeros((vocab_size,100))\n",
        "for word, index in tokenizer.word_index.items():\n",
        "    embedding_vector = embeddings_dictionary.get(word)\n",
        "    if embedding_vector is not None:\n",
        "      embedding_matrix[index] = embedding_vector"
      ],
      "execution_count": 14,
      "outputs": []
    },
    {
      "cell_type": "markdown",
      "metadata": {
        "id": "AAG-IbUc59uV"
      },
      "source": [
        "### Bert Processing Part:"
      ]
    },
    {
      "cell_type": "markdown",
      "metadata": {
        "id": "WAsvx_cr8OS9"
      },
      "source": [
        "### Build a BERT Layer"
      ]
    },
    {
      "cell_type": "code",
      "metadata": {
        "colab": {
          "base_uri": "https://localhost:8080/"
        },
        "id": "ENRgLwLVKZZj",
        "outputId": "fb4b83da-c425-4968-a77f-95e36b119755"
      },
      "source": [
        "import tensorflow as tf\n",
        "from tensorflow.keras.layers import MaxPooling1D,Conv1D,GlobalMaxPooling1D\n",
        "from tensorflow.keras.models import Sequential, Model\n",
        "from tensorflow.keras.layers import Activation, Dense, Dropout, Flatten, Input,Concatenate\n",
        "import tensorflow_hub as hub\n",
        "module_url = 'https://tfhub.dev/tensorflow/bert_en_uncased_L-12_H-768_A-12/2'\n",
        "bert_layer = hub.KerasLayer(module_url, trainable=True)"
      ],
      "execution_count": 15,
      "outputs": [
        {
          "output_type": "stream",
          "text": [
            "INFO:absl:Using /tmp/tfhub_modules to cache modules.\n",
            "INFO:absl:Downloading TF-Hub Module 'https://tfhub.dev/tensorflow/bert_en_uncased_L-12_H-768_A-12/2'.\n",
            "INFO:absl:Downloaded https://tfhub.dev/tensorflow/bert_en_uncased_L-12_H-768_A-12/2, Total size: 421.50MB\n",
            "INFO:absl:Downloaded TF-Hub Module 'https://tfhub.dev/tensorflow/bert_en_uncased_L-12_H-768_A-12/2'.\n"
          ],
          "name": "stderr"
        }
      ]
    },
    {
      "cell_type": "markdown",
      "metadata": {
        "id": "Axwnig5jKz1Z"
      },
      "source": [
        "### **PS: Pour Bert layer:**\n",
        "* Inputs:\n",
        "\n",
        "a) input token ids (tokenizer convertir les tokens à l'aide d'un vocab file)\n",
        "\n",
        "b) input masks (1 pour vrai tokens, 0 pour padding)\n",
        "\n",
        "c) segment ids (for 2 text training: 0 for the first one, 1 for the second one)\n",
        "\n",
        "* Outputs:\n",
        "\n",
        "a) pooled_output: shape [batch_size, 768] avec des représentations pour input sequences\n",
        "\n",
        "b) sequence_output: shape [batch_size, max_len, 768] avec des représentation pour chaque input token"
      ]
    },
    {
      "cell_type": "markdown",
      "metadata": {
        "id": "TVOrNhhKsfMx"
      },
      "source": [
        "### Bert Tokenization "
      ]
    },
    {
      "cell_type": "markdown",
      "metadata": {
        "id": "UR8otIdCFf0y"
      },
      "source": [
        "* Bert accepte un type spécifique des inputs pour y répondre nous sommes tenus de:\n",
        "1. Ajouter des tokens spéciaux au début[CLS] et à la fin[SEP] de chaque log.\n",
        "2. Compléter et tronquer toutes les logs à une seule longueur constante \"padding\".\n",
        "3. Différencier explicitement les vrais tokens des tokens de remplissage avec le \"attention mask\" 1 vrai 0 vide.\n"
      ]
    },
    {
      "cell_type": "code",
      "metadata": {
        "colab": {
          "base_uri": "https://localhost:8080/"
        },
        "id": "DmGLYThLMuG4",
        "outputId": "0464f0c1-2512-4721-a43c-7bba0b4d64a4"
      },
      "source": [
        "!pip install sentencepiece"
      ],
      "execution_count": 16,
      "outputs": [
        {
          "output_type": "stream",
          "text": [
            "Collecting sentencepiece\n",
            "\u001b[?25l  Downloading https://files.pythonhosted.org/packages/f5/99/e0808cb947ba10f575839c43e8fafc9cc44e4a7a2c8f79c60db48220a577/sentencepiece-0.1.95-cp37-cp37m-manylinux2014_x86_64.whl (1.2MB)\n",
            "\u001b[K     |████████████████████████████████| 1.2MB 8.1MB/s \n",
            "\u001b[?25hInstalling collected packages: sentencepiece\n",
            "Successfully installed sentencepiece-0.1.95\n"
          ],
          "name": "stdout"
        }
      ]
    },
    {
      "cell_type": "code",
      "metadata": {
        "id": "R2mObaFwEETF"
      },
      "source": [
        "!wget --quiet https://raw.githubusercontent.com/tensorflow/models/master/official/nlp/bert/tokenization.py\n",
        "import tokenization"
      ],
      "execution_count": 17,
      "outputs": []
    },
    {
      "cell_type": "markdown",
      "metadata": {
        "id": "gRBYU10-NvYF"
      },
      "source": [
        "Importons le tokenizer à l'aide du vocab file d'origine, écrivons tous les mots en minuscules, puis tokenisons les logs."
      ]
    },
    {
      "cell_type": "code",
      "metadata": {
        "id": "0O7azPH2KZAa"
      },
      "source": [
        "vocab_file = bert_layer.resolved_object.vocab_file.asset_path.numpy()\n",
        "do_lower_case = bert_layer.resolved_object.do_lower_case.numpy()\n",
        "tokenizer = tokenization.FullTokenizer(vocab_file, do_lower_case)\n",
        "\n",
        "def bert_encode(texts, tokenizer, max_len=100):\n",
        "    all_tokens = []\n",
        "    all_masks = []\n",
        "    all_segments = []\n",
        "    \n",
        "    for text in texts:\n",
        "        text = tokenizer.tokenize(text)\n",
        "            \n",
        "        text = text[:max_len-2]\n",
        "        input_sequence = [\"[CLS]\"] + text + [\"[SEP]\"]\n",
        "        pad_len = max_len - len(input_sequence)\n",
        "        \n",
        "        tokens = tokenizer.convert_tokens_to_ids(input_sequence) + [0] * pad_len\n",
        "        pad_masks = [1] * len(input_sequence) + [0] * pad_len\n",
        "        segment_ids = [0] * max_len\n",
        "        \n",
        "        all_tokens.append(tokens)\n",
        "        all_masks.append(pad_masks)\n",
        "        all_segments.append(segment_ids)\n",
        "    \n",
        "    return np.array(all_tokens), np.array(all_masks), np.array(all_segments)"
      ],
      "execution_count": 18,
      "outputs": []
    },
    {
      "cell_type": "code",
      "metadata": {
        "id": "YNcgvXpSvcSx"
      },
      "source": [
        "X_train0, X_test0, y_train0, y_test0 = train_test_split(df['log'],df['label'], test_size=0.2,random_state=42)"
      ],
      "execution_count": 19,
      "outputs": []
    },
    {
      "cell_type": "code",
      "metadata": {
        "id": "ZpEeHgqLvTAr"
      },
      "source": [
        "max_len = 100\n",
        "train_input = bert_encode(X_train0, tokenizer, max_len=max_len)\n",
        "test_input = bert_encode(X_test0, tokenizer, max_len=max_len)\n",
        "train_labels = keras.utils.to_categorical(y_train0, num_classes=2)"
      ],
      "execution_count": 20,
      "outputs": []
    },
    {
      "cell_type": "markdown",
      "metadata": {
        "id": "ylqKV-TlU235"
      },
      "source": [
        " ### **Building the Model**"
      ]
    },
    {
      "cell_type": "markdown",
      "metadata": {
        "id": "WOj0pvKRWhsv"
      },
      "source": [
        "Avant de voir l'architecture du modèle clarifions quelques choses\n",
        "Prenons un exemple de \"I am fine\".\n",
        "\n",
        "Avant de le transmettre au modèle bert, nous devons ajouter le token [CLS] au début et le token [SEP] à la fin de la phrase.\n",
        "\n",
        "Maintenant, la phrase est \"[CLS] I am fine [SEP]\".\n",
        "\n",
        "Maintenant, si nous donnons la phrase ci-dessus à Bert layer, nous obtiendrons 768 dimension embedding pour chaque token dans le log. Alors, \"sequence output\" donnera une sortie de dimension [1, 5, 768] puisqu'il y a 5 tokens dont [CLS] et [SEP] et \"pooled output\" donnera une sortie de dimension [1, 1, 768] qui est l'embedding de [CLS] token.\n"
      ]
    },
    {
      "cell_type": "code",
      "metadata": {
        "id": "wXI-ZEX2Qm9m"
      },
      "source": [
        "def AElog():\n",
        "    max_len=100\n",
        "    #Bert layer input a besoin des trois vect (input_word_ids,input_mask,segment_ids)\n",
        "    input_word_ids = tf.keras.Input(shape=(max_len,), dtype=tf.int32, name=\"input_word_ids\")\n",
        "\n",
        "    input_mask = tf.keras.Input(shape=(max_len,), dtype=tf.int32, name=\"input_mask\")\n",
        "    \n",
        "    segment_ids = tf.keras.Input(shape=(max_len,), dtype=tf.int32, name=\"segment_ids\")\n",
        "    # Créer un Bert layer\n",
        "    pooled_output, sequence_output = bert_layer([input_word_ids, input_mask, segment_ids])\n",
        "    # CLS \n",
        "    cls_output = pooled_output\n",
        "    #CNN Part\n",
        "    ###Building the Model. \n",
        "    input_tensor = Input(shape=(100,))\n",
        "    # Créer un embedding layer(2D)\n",
        "    input_layer= Embedding(vocab_size,100, weights=[embedding_matrix], input_length=maxlen , trainable=False)(input_tensor)\n",
        "    #liste où on va stocker l'output\n",
        "    uni_vec = []\n",
        "    #nous allons utiliser 3 filtres avec des n-grams différents( 2-grams, 3-grams, 4-grams)\n",
        "    filter_sizes = (2,3,4)\n",
        "    for ks in filter_sizes:\n",
        "    #applique 3 convolutions différents à l'embedding layer\n",
        "      conv_layer= Conv1D(128, kernel_size=ks, activation='relu')(input_layer)\n",
        "      maxpool_layer = MaxPooling1D(pool_size=maxlen-ks+1,strides=None, padding='valid')(conv_layer)\n",
        "      flat_layer= Flatten()(maxpool_layer)\n",
        "      uni_vec.append(flat_layer)\n",
        "    # concatiner les outputs de CNN\n",
        "    single_feature_vector = keras.layers.concatenate(uni_vec)\n",
        "    #AElog:\n",
        "    #nous allons concatiner l'output de BERT \"CLS\" et l'output de CNN \"single_feature_vector\"\n",
        "    outp = tf.keras.layers.concatenate([cls_output, single_feature_vector])\n",
        "    #AElog fully Connected Layers\n",
        "    dense = Dense(128, activation='relu')(outp)\n",
        "    dense2 = Dense(128, activation='relu')(dense)\n",
        "    out = Dense(2, activation='softmax')(dense2)\n",
        "    #input de CNN input_tensor\n",
        "    input1=input_tensor\n",
        "    #input de Bert layers et input_word_ids, input_mask, segment_ids\n",
        "    input2=[input_word_ids, input_mask, segment_ids]\n",
        "    # donc input du models est les 2\n",
        "    model = Model(inputs=[input1,input2],outputs=out)\n",
        "   #Compile Model\n",
        "    model.compile(tf.keras.optimizers.Adam(lr=1e-5), loss='categorical_crossentropy', metrics=['accuracy'])\n",
        "    return model"
      ],
      "execution_count": 27,
      "outputs": []
    },
    {
      "cell_type": "code",
      "metadata": {
        "id": "uMEWeF39TJlt"
      },
      "source": [
        "model = AElog()"
      ],
      "execution_count": 28,
      "outputs": []
    },
    {
      "cell_type": "code",
      "metadata": {
        "colab": {
          "base_uri": "https://localhost:8080/",
          "height": 1000
        },
        "id": "FcmAdGXj9ssj",
        "outputId": "768a56cf-3a02-451c-e457-0c07fa3d050c"
      },
      "source": [
        "from IPython.display import SVG\n",
        "SVG(tf.keras.utils.model_to_dot(model, show_shapes=True, show_layer_names=True, dpi=65).create(prog='dot', format='svg'))"
      ],
      "execution_count": 30,
      "outputs": [
        {
          "output_type": "execute_result",
          "data": {
            "text/plain": [
              "<IPython.core.display.SVG object>"
            ],
            "image/svg+xml": "<svg height=\"724pt\" viewBox=\"0.00 0.00 1894.50 802.00\" width=\"1710pt\" xmlns=\"http://www.w3.org/2000/svg\" xmlns:xlink=\"http://www.w3.org/1999/xlink\">\n<g class=\"graph\" id=\"graph0\" transform=\"scale(.9028 .9028) rotate(0) translate(4 798)\">\n<title>G</title>\n<polygon fill=\"#ffffff\" points=\"-4,4 -4,-798 1890.5,-798 1890.5,4 -4,4\" stroke=\"transparent\"/>\n<!-- 140634986264976 -->\n<g class=\"node\" id=\"node1\">\n<title>140634986264976</title>\n<polygon fill=\"none\" points=\"431.5,-747.5 431.5,-793.5 693.5,-793.5 693.5,-747.5 431.5,-747.5\" stroke=\"#000000\"/>\n<text fill=\"#000000\" font-family=\"Times,serif\" font-size=\"14.00\" text-anchor=\"middle\" x=\"498\" y=\"-766.8\">input_2: InputLayer</text>\n<polyline fill=\"none\" points=\"564.5,-747.5 564.5,-793.5 \" stroke=\"#000000\"/>\n<text fill=\"#000000\" font-family=\"Times,serif\" font-size=\"14.00\" text-anchor=\"middle\" x=\"593.5\" y=\"-778.3\">input:</text>\n<polyline fill=\"none\" points=\"564.5,-770.5 622.5,-770.5 \" stroke=\"#000000\"/>\n<text fill=\"#000000\" font-family=\"Times,serif\" font-size=\"14.00\" text-anchor=\"middle\" x=\"593.5\" y=\"-755.3\">output:</text>\n<polyline fill=\"none\" points=\"622.5,-747.5 622.5,-793.5 \" stroke=\"#000000\"/>\n<text fill=\"#000000\" font-family=\"Times,serif\" font-size=\"14.00\" text-anchor=\"middle\" x=\"658\" y=\"-778.3\">[(?, 100)]</text>\n<polyline fill=\"none\" points=\"622.5,-770.5 693.5,-770.5 \" stroke=\"#000000\"/>\n<text fill=\"#000000\" font-family=\"Times,serif\" font-size=\"14.00\" text-anchor=\"middle\" x=\"658\" y=\"-755.3\">[(?, 100)]</text>\n</g>\n<!-- 140636957550096 -->\n<g class=\"node\" id=\"node2\">\n<title>140636957550096</title>\n<polygon fill=\"none\" points=\"402,-664.5 402,-710.5 723,-710.5 723,-664.5 402,-664.5\" stroke=\"#000000\"/>\n<text fill=\"#000000\" font-family=\"Times,serif\" font-size=\"14.00\" text-anchor=\"middle\" x=\"487.5\" y=\"-683.8\">embedding_1: Embedding</text>\n<polyline fill=\"none\" points=\"573,-664.5 573,-710.5 \" stroke=\"#000000\"/>\n<text fill=\"#000000\" font-family=\"Times,serif\" font-size=\"14.00\" text-anchor=\"middle\" x=\"602\" y=\"-695.3\">input:</text>\n<polyline fill=\"none\" points=\"573,-687.5 631,-687.5 \" stroke=\"#000000\"/>\n<text fill=\"#000000\" font-family=\"Times,serif\" font-size=\"14.00\" text-anchor=\"middle\" x=\"602\" y=\"-672.3\">output:</text>\n<polyline fill=\"none\" points=\"631,-664.5 631,-710.5 \" stroke=\"#000000\"/>\n<text fill=\"#000000\" font-family=\"Times,serif\" font-size=\"14.00\" text-anchor=\"middle\" x=\"677\" y=\"-695.3\">(?, 100)</text>\n<polyline fill=\"none\" points=\"631,-687.5 723,-687.5 \" stroke=\"#000000\"/>\n<text fill=\"#000000\" font-family=\"Times,serif\" font-size=\"14.00\" text-anchor=\"middle\" x=\"677\" y=\"-672.3\">(?, 100, 100)</text>\n</g>\n<!-- 140634986264976&#45;&gt;140636957550096 -->\n<g class=\"edge\" id=\"edge1\">\n<title>140634986264976-&gt;140636957550096</title>\n<path d=\"M562.5,-747.3799C562.5,-739.1745 562.5,-729.7679 562.5,-720.8786\" fill=\"none\" stroke=\"#000000\"/>\n<polygon fill=\"#000000\" points=\"566.0001,-720.784 562.5,-710.784 559.0001,-720.784 566.0001,-720.784\" stroke=\"#000000\"/>\n</g>\n<!-- 140635205244048 -->\n<g class=\"node\" id=\"node3\">\n<title>140635205244048</title>\n<polygon fill=\"none\" points=\"80,-581.5 80,-627.5 363,-627.5 363,-581.5 80,-581.5\" stroke=\"#000000\"/>\n<text fill=\"#000000\" font-family=\"Times,serif\" font-size=\"14.00\" text-anchor=\"middle\" x=\"146.5\" y=\"-600.8\">conv1d_3: Conv1D</text>\n<polyline fill=\"none\" points=\"213,-581.5 213,-627.5 \" stroke=\"#000000\"/>\n<text fill=\"#000000\" font-family=\"Times,serif\" font-size=\"14.00\" text-anchor=\"middle\" x=\"242\" y=\"-612.3\">input:</text>\n<polyline fill=\"none\" points=\"213,-604.5 271,-604.5 \" stroke=\"#000000\"/>\n<text fill=\"#000000\" font-family=\"Times,serif\" font-size=\"14.00\" text-anchor=\"middle\" x=\"242\" y=\"-589.3\">output:</text>\n<polyline fill=\"none\" points=\"271,-581.5 271,-627.5 \" stroke=\"#000000\"/>\n<text fill=\"#000000\" font-family=\"Times,serif\" font-size=\"14.00\" text-anchor=\"middle\" x=\"317\" y=\"-612.3\">(?, 100, 100)</text>\n<polyline fill=\"none\" points=\"271,-604.5 363,-604.5 \" stroke=\"#000000\"/>\n<text fill=\"#000000\" font-family=\"Times,serif\" font-size=\"14.00\" text-anchor=\"middle\" x=\"317\" y=\"-589.3\">(?, 99, 128)</text>\n</g>\n<!-- 140636957550096&#45;&gt;140635205244048 -->\n<g class=\"edge\" id=\"edge2\">\n<title>140636957550096-&gt;140635205244048</title>\n<path d=\"M467.9653,-664.4901C423.8941,-653.7631 371.3113,-640.9643 326.0558,-629.9491\" fill=\"none\" stroke=\"#000000\"/>\n<polygon fill=\"#000000\" points=\"326.7627,-626.519 316.2186,-627.5547 325.1071,-633.3204 326.7627,-626.519\" stroke=\"#000000\"/>\n</g>\n<!-- 140635195583568 -->\n<g class=\"node\" id=\"node4\">\n<title>140635195583568</title>\n<polygon fill=\"none\" points=\"421,-581.5 421,-627.5 704,-627.5 704,-581.5 421,-581.5\" stroke=\"#000000\"/>\n<text fill=\"#000000\" font-family=\"Times,serif\" font-size=\"14.00\" text-anchor=\"middle\" x=\"487.5\" y=\"-600.8\">conv1d_4: Conv1D</text>\n<polyline fill=\"none\" points=\"554,-581.5 554,-627.5 \" stroke=\"#000000\"/>\n<text fill=\"#000000\" font-family=\"Times,serif\" font-size=\"14.00\" text-anchor=\"middle\" x=\"583\" y=\"-612.3\">input:</text>\n<polyline fill=\"none\" points=\"554,-604.5 612,-604.5 \" stroke=\"#000000\"/>\n<text fill=\"#000000\" font-family=\"Times,serif\" font-size=\"14.00\" text-anchor=\"middle\" x=\"583\" y=\"-589.3\">output:</text>\n<polyline fill=\"none\" points=\"612,-581.5 612,-627.5 \" stroke=\"#000000\"/>\n<text fill=\"#000000\" font-family=\"Times,serif\" font-size=\"14.00\" text-anchor=\"middle\" x=\"658\" y=\"-612.3\">(?, 100, 100)</text>\n<polyline fill=\"none\" points=\"612,-604.5 704,-604.5 \" stroke=\"#000000\"/>\n<text fill=\"#000000\" font-family=\"Times,serif\" font-size=\"14.00\" text-anchor=\"middle\" x=\"658\" y=\"-589.3\">(?, 98, 128)</text>\n</g>\n<!-- 140636957550096&#45;&gt;140635195583568 -->\n<g class=\"edge\" id=\"edge3\">\n<title>140636957550096-&gt;140635195583568</title>\n<path d=\"M562.5,-664.3799C562.5,-656.1745 562.5,-646.7679 562.5,-637.8786\" fill=\"none\" stroke=\"#000000\"/>\n<polygon fill=\"#000000\" points=\"566.0001,-637.784 562.5,-627.784 559.0001,-637.784 566.0001,-637.784\" stroke=\"#000000\"/>\n</g>\n<!-- 140635187989712 -->\n<g class=\"node\" id=\"node5\">\n<title>140635187989712</title>\n<polygon fill=\"none\" points=\"762,-581.5 762,-627.5 1045,-627.5 1045,-581.5 762,-581.5\" stroke=\"#000000\"/>\n<text fill=\"#000000\" font-family=\"Times,serif\" font-size=\"14.00\" text-anchor=\"middle\" x=\"828.5\" y=\"-600.8\">conv1d_5: Conv1D</text>\n<polyline fill=\"none\" points=\"895,-581.5 895,-627.5 \" stroke=\"#000000\"/>\n<text fill=\"#000000\" font-family=\"Times,serif\" font-size=\"14.00\" text-anchor=\"middle\" x=\"924\" y=\"-612.3\">input:</text>\n<polyline fill=\"none\" points=\"895,-604.5 953,-604.5 \" stroke=\"#000000\"/>\n<text fill=\"#000000\" font-family=\"Times,serif\" font-size=\"14.00\" text-anchor=\"middle\" x=\"924\" y=\"-589.3\">output:</text>\n<polyline fill=\"none\" points=\"953,-581.5 953,-627.5 \" stroke=\"#000000\"/>\n<text fill=\"#000000\" font-family=\"Times,serif\" font-size=\"14.00\" text-anchor=\"middle\" x=\"999\" y=\"-612.3\">(?, 100, 100)</text>\n<polyline fill=\"none\" points=\"953,-604.5 1045,-604.5 \" stroke=\"#000000\"/>\n<text fill=\"#000000\" font-family=\"Times,serif\" font-size=\"14.00\" text-anchor=\"middle\" x=\"999\" y=\"-589.3\">(?, 97, 128)</text>\n</g>\n<!-- 140636957550096&#45;&gt;140635187989712 -->\n<g class=\"edge\" id=\"edge4\">\n<title>140636957550096-&gt;140635187989712</title>\n<path d=\"M657.0347,-664.4901C701.1059,-653.7631 753.6887,-640.9643 798.9442,-629.9491\" fill=\"none\" stroke=\"#000000\"/>\n<polygon fill=\"#000000\" points=\"799.8929,-633.3204 808.7814,-627.5547 798.2373,-626.519 799.8929,-633.3204\" stroke=\"#000000\"/>\n</g>\n<!-- 140635188129104 -->\n<g class=\"node\" id=\"node6\">\n<title>140635188129104</title>\n<polygon fill=\"none\" points=\"0,-498.5 0,-544.5 363,-544.5 363,-498.5 0,-498.5\" stroke=\"#000000\"/>\n<text fill=\"#000000\" font-family=\"Times,serif\" font-size=\"14.00\" text-anchor=\"middle\" x=\"110.5\" y=\"-517.8\">max_pooling1d_3: MaxPooling1D</text>\n<polyline fill=\"none\" points=\"221,-498.5 221,-544.5 \" stroke=\"#000000\"/>\n<text fill=\"#000000\" font-family=\"Times,serif\" font-size=\"14.00\" text-anchor=\"middle\" x=\"250\" y=\"-529.3\">input:</text>\n<polyline fill=\"none\" points=\"221,-521.5 279,-521.5 \" stroke=\"#000000\"/>\n<text fill=\"#000000\" font-family=\"Times,serif\" font-size=\"14.00\" text-anchor=\"middle\" x=\"250\" y=\"-506.3\">output:</text>\n<polyline fill=\"none\" points=\"279,-498.5 279,-544.5 \" stroke=\"#000000\"/>\n<text fill=\"#000000\" font-family=\"Times,serif\" font-size=\"14.00\" text-anchor=\"middle\" x=\"321\" y=\"-529.3\">(?, 99, 128)</text>\n<polyline fill=\"none\" points=\"279,-521.5 363,-521.5 \" stroke=\"#000000\"/>\n<text fill=\"#000000\" font-family=\"Times,serif\" font-size=\"14.00\" text-anchor=\"middle\" x=\"321\" y=\"-506.3\">(?, 1, 128)</text>\n</g>\n<!-- 140635205244048&#45;&gt;140635188129104 -->\n<g class=\"edge\" id=\"edge5\">\n<title>140635205244048-&gt;140635188129104</title>\n<path d=\"M210.3578,-581.3799C206.2744,-572.907 201.5738,-563.1531 197.1678,-554.0107\" fill=\"none\" stroke=\"#000000\"/>\n<polygon fill=\"#000000\" points=\"200.2156,-552.2729 192.7212,-544.784 193.9097,-555.312 200.2156,-552.2729\" stroke=\"#000000\"/>\n</g>\n<!-- 140635188087312 -->\n<g class=\"node\" id=\"node7\">\n<title>140635188087312</title>\n<polygon fill=\"none\" points=\"381,-498.5 381,-544.5 744,-544.5 744,-498.5 381,-498.5\" stroke=\"#000000\"/>\n<text fill=\"#000000\" font-family=\"Times,serif\" font-size=\"14.00\" text-anchor=\"middle\" x=\"491.5\" y=\"-517.8\">max_pooling1d_4: MaxPooling1D</text>\n<polyline fill=\"none\" points=\"602,-498.5 602,-544.5 \" stroke=\"#000000\"/>\n<text fill=\"#000000\" font-family=\"Times,serif\" font-size=\"14.00\" text-anchor=\"middle\" x=\"631\" y=\"-529.3\">input:</text>\n<polyline fill=\"none\" points=\"602,-521.5 660,-521.5 \" stroke=\"#000000\"/>\n<text fill=\"#000000\" font-family=\"Times,serif\" font-size=\"14.00\" text-anchor=\"middle\" x=\"631\" y=\"-506.3\">output:</text>\n<polyline fill=\"none\" points=\"660,-498.5 660,-544.5 \" stroke=\"#000000\"/>\n<text fill=\"#000000\" font-family=\"Times,serif\" font-size=\"14.00\" text-anchor=\"middle\" x=\"702\" y=\"-529.3\">(?, 98, 128)</text>\n<polyline fill=\"none\" points=\"660,-521.5 744,-521.5 \" stroke=\"#000000\"/>\n<text fill=\"#000000\" font-family=\"Times,serif\" font-size=\"14.00\" text-anchor=\"middle\" x=\"702\" y=\"-506.3\">(?, 1, 128)</text>\n</g>\n<!-- 140635195583568&#45;&gt;140635188087312 -->\n<g class=\"edge\" id=\"edge6\">\n<title>140635195583568-&gt;140635188087312</title>\n<path d=\"M562.5,-581.3799C562.5,-573.1745 562.5,-563.7679 562.5,-554.8786\" fill=\"none\" stroke=\"#000000\"/>\n<polygon fill=\"#000000\" points=\"566.0001,-554.784 562.5,-544.784 559.0001,-554.784 566.0001,-554.784\" stroke=\"#000000\"/>\n</g>\n<!-- 140635188086864 -->\n<g class=\"node\" id=\"node8\">\n<title>140635188086864</title>\n<polygon fill=\"none\" points=\"762,-498.5 762,-544.5 1125,-544.5 1125,-498.5 762,-498.5\" stroke=\"#000000\"/>\n<text fill=\"#000000\" font-family=\"Times,serif\" font-size=\"14.00\" text-anchor=\"middle\" x=\"872.5\" y=\"-517.8\">max_pooling1d_5: MaxPooling1D</text>\n<polyline fill=\"none\" points=\"983,-498.5 983,-544.5 \" stroke=\"#000000\"/>\n<text fill=\"#000000\" font-family=\"Times,serif\" font-size=\"14.00\" text-anchor=\"middle\" x=\"1012\" y=\"-529.3\">input:</text>\n<polyline fill=\"none\" points=\"983,-521.5 1041,-521.5 \" stroke=\"#000000\"/>\n<text fill=\"#000000\" font-family=\"Times,serif\" font-size=\"14.00\" text-anchor=\"middle\" x=\"1012\" y=\"-506.3\">output:</text>\n<polyline fill=\"none\" points=\"1041,-498.5 1041,-544.5 \" stroke=\"#000000\"/>\n<text fill=\"#000000\" font-family=\"Times,serif\" font-size=\"14.00\" text-anchor=\"middle\" x=\"1083\" y=\"-529.3\">(?, 97, 128)</text>\n<polyline fill=\"none\" points=\"1041,-521.5 1125,-521.5 \" stroke=\"#000000\"/>\n<text fill=\"#000000\" font-family=\"Times,serif\" font-size=\"14.00\" text-anchor=\"middle\" x=\"1083\" y=\"-506.3\">(?, 1, 128)</text>\n</g>\n<!-- 140635187989712&#45;&gt;140635188086864 -->\n<g class=\"edge\" id=\"edge7\">\n<title>140635187989712-&gt;140635188086864</title>\n<path d=\"M914.6422,-581.3799C918.7256,-572.907 923.4262,-563.1531 927.8322,-554.0107\" fill=\"none\" stroke=\"#000000\"/>\n<polygon fill=\"#000000\" points=\"931.0903,-555.312 932.2788,-544.784 924.7844,-552.2729 931.0903,-555.312\" stroke=\"#000000\"/>\n</g>\n<!-- 140635187975120 -->\n<g class=\"node\" id=\"node12\">\n<title>140635187975120</title>\n<polygon fill=\"none\" points=\"115.5,-415.5 115.5,-461.5 363.5,-461.5 363.5,-415.5 115.5,-415.5\" stroke=\"#000000\"/>\n<text fill=\"#000000\" font-family=\"Times,serif\" font-size=\"14.00\" text-anchor=\"middle\" x=\"172\" y=\"-434.8\">flatten_3: Flatten</text>\n<polyline fill=\"none\" points=\"228.5,-415.5 228.5,-461.5 \" stroke=\"#000000\"/>\n<text fill=\"#000000\" font-family=\"Times,serif\" font-size=\"14.00\" text-anchor=\"middle\" x=\"257.5\" y=\"-446.3\">input:</text>\n<polyline fill=\"none\" points=\"228.5,-438.5 286.5,-438.5 \" stroke=\"#000000\"/>\n<text fill=\"#000000\" font-family=\"Times,serif\" font-size=\"14.00\" text-anchor=\"middle\" x=\"257.5\" y=\"-423.3\">output:</text>\n<polyline fill=\"none\" points=\"286.5,-415.5 286.5,-461.5 \" stroke=\"#000000\"/>\n<text fill=\"#000000\" font-family=\"Times,serif\" font-size=\"14.00\" text-anchor=\"middle\" x=\"325\" y=\"-446.3\">(?, 1, 128)</text>\n<polyline fill=\"none\" points=\"286.5,-438.5 363.5,-438.5 \" stroke=\"#000000\"/>\n<text fill=\"#000000\" font-family=\"Times,serif\" font-size=\"14.00\" text-anchor=\"middle\" x=\"325\" y=\"-423.3\">(?, 128)</text>\n</g>\n<!-- 140635188129104&#45;&gt;140635187975120 -->\n<g class=\"edge\" id=\"edge8\">\n<title>140635188129104-&gt;140635187975120</title>\n<path d=\"M197.6562,-498.3799C203.764,-489.6394 210.8244,-479.5358 217.3856,-470.1465\" fill=\"none\" stroke=\"#000000\"/>\n<polygon fill=\"#000000\" points=\"220.3702,-471.9858 223.2292,-461.784 214.6323,-467.9762 220.3702,-471.9858\" stroke=\"#000000\"/>\n</g>\n<!-- 140635188052496 -->\n<g class=\"node\" id=\"node13\">\n<title>140635188052496</title>\n<polygon fill=\"none\" points=\"438.5,-415.5 438.5,-461.5 686.5,-461.5 686.5,-415.5 438.5,-415.5\" stroke=\"#000000\"/>\n<text fill=\"#000000\" font-family=\"Times,serif\" font-size=\"14.00\" text-anchor=\"middle\" x=\"495\" y=\"-434.8\">flatten_4: Flatten</text>\n<polyline fill=\"none\" points=\"551.5,-415.5 551.5,-461.5 \" stroke=\"#000000\"/>\n<text fill=\"#000000\" font-family=\"Times,serif\" font-size=\"14.00\" text-anchor=\"middle\" x=\"580.5\" y=\"-446.3\">input:</text>\n<polyline fill=\"none\" points=\"551.5,-438.5 609.5,-438.5 \" stroke=\"#000000\"/>\n<text fill=\"#000000\" font-family=\"Times,serif\" font-size=\"14.00\" text-anchor=\"middle\" x=\"580.5\" y=\"-423.3\">output:</text>\n<polyline fill=\"none\" points=\"609.5,-415.5 609.5,-461.5 \" stroke=\"#000000\"/>\n<text fill=\"#000000\" font-family=\"Times,serif\" font-size=\"14.00\" text-anchor=\"middle\" x=\"648\" y=\"-446.3\">(?, 1, 128)</text>\n<polyline fill=\"none\" points=\"609.5,-438.5 686.5,-438.5 \" stroke=\"#000000\"/>\n<text fill=\"#000000\" font-family=\"Times,serif\" font-size=\"14.00\" text-anchor=\"middle\" x=\"648\" y=\"-423.3\">(?, 128)</text>\n</g>\n<!-- 140635188087312&#45;&gt;140635188052496 -->\n<g class=\"edge\" id=\"edge9\">\n<title>140635188087312-&gt;140635188052496</title>\n<path d=\"M562.5,-498.3799C562.5,-490.1745 562.5,-480.7679 562.5,-471.8786\" fill=\"none\" stroke=\"#000000\"/>\n<polygon fill=\"#000000\" points=\"566.0001,-471.784 562.5,-461.784 559.0001,-471.784 566.0001,-471.784\" stroke=\"#000000\"/>\n</g>\n<!-- 140635195627792 -->\n<g class=\"node\" id=\"node14\">\n<title>140635195627792</title>\n<polygon fill=\"none\" points=\"704.5,-415.5 704.5,-461.5 952.5,-461.5 952.5,-415.5 704.5,-415.5\" stroke=\"#000000\"/>\n<text fill=\"#000000\" font-family=\"Times,serif\" font-size=\"14.00\" text-anchor=\"middle\" x=\"761\" y=\"-434.8\">flatten_5: Flatten</text>\n<polyline fill=\"none\" points=\"817.5,-415.5 817.5,-461.5 \" stroke=\"#000000\"/>\n<text fill=\"#000000\" font-family=\"Times,serif\" font-size=\"14.00\" text-anchor=\"middle\" x=\"846.5\" y=\"-446.3\">input:</text>\n<polyline fill=\"none\" points=\"817.5,-438.5 875.5,-438.5 \" stroke=\"#000000\"/>\n<text fill=\"#000000\" font-family=\"Times,serif\" font-size=\"14.00\" text-anchor=\"middle\" x=\"846.5\" y=\"-423.3\">output:</text>\n<polyline fill=\"none\" points=\"875.5,-415.5 875.5,-461.5 \" stroke=\"#000000\"/>\n<text fill=\"#000000\" font-family=\"Times,serif\" font-size=\"14.00\" text-anchor=\"middle\" x=\"914\" y=\"-446.3\">(?, 1, 128)</text>\n<polyline fill=\"none\" points=\"875.5,-438.5 952.5,-438.5 \" stroke=\"#000000\"/>\n<text fill=\"#000000\" font-family=\"Times,serif\" font-size=\"14.00\" text-anchor=\"middle\" x=\"914\" y=\"-423.3\">(?, 128)</text>\n</g>\n<!-- 140635188086864&#45;&gt;140635195627792 -->\n<g class=\"edge\" id=\"edge10\">\n<title>140635188086864-&gt;140635195627792</title>\n<path d=\"M911.4661,-498.3799C898.3672,-488.9259 883.0588,-477.8772 869.1829,-467.8625\" fill=\"none\" stroke=\"#000000\"/>\n<polygon fill=\"#000000\" points=\"870.918,-464.7983 860.761,-461.784 866.8213,-470.4744 870.918,-464.7983\" stroke=\"#000000\"/>\n</g>\n<!-- 140634988736912 -->\n<g class=\"node\" id=\"node9\">\n<title>140634988736912</title>\n<polygon fill=\"none\" points=\"970.5,-415.5 970.5,-461.5 1278.5,-461.5 1278.5,-415.5 970.5,-415.5\" stroke=\"#000000\"/>\n<text fill=\"#000000\" font-family=\"Times,serif\" font-size=\"14.00\" text-anchor=\"middle\" x=\"1060\" y=\"-434.8\">input_word_ids: InputLayer</text>\n<polyline fill=\"none\" points=\"1149.5,-415.5 1149.5,-461.5 \" stroke=\"#000000\"/>\n<text fill=\"#000000\" font-family=\"Times,serif\" font-size=\"14.00\" text-anchor=\"middle\" x=\"1178.5\" y=\"-446.3\">input:</text>\n<polyline fill=\"none\" points=\"1149.5,-438.5 1207.5,-438.5 \" stroke=\"#000000\"/>\n<text fill=\"#000000\" font-family=\"Times,serif\" font-size=\"14.00\" text-anchor=\"middle\" x=\"1178.5\" y=\"-423.3\">output:</text>\n<polyline fill=\"none\" points=\"1207.5,-415.5 1207.5,-461.5 \" stroke=\"#000000\"/>\n<text fill=\"#000000\" font-family=\"Times,serif\" font-size=\"14.00\" text-anchor=\"middle\" x=\"1243\" y=\"-446.3\">[(?, 100)]</text>\n<polyline fill=\"none\" points=\"1207.5,-438.5 1278.5,-438.5 \" stroke=\"#000000\"/>\n<text fill=\"#000000\" font-family=\"Times,serif\" font-size=\"14.00\" text-anchor=\"middle\" x=\"1243\" y=\"-423.3\">[(?, 100)]</text>\n</g>\n<!-- 140636875716944 -->\n<g class=\"node\" id=\"node15\">\n<title>140636875716944</title>\n<polygon fill=\"none\" points=\"1026.5,-332.5 1026.5,-378.5 1414.5,-378.5 1414.5,-332.5 1026.5,-332.5\" stroke=\"#000000\"/>\n<text fill=\"#000000\" font-family=\"Times,serif\" font-size=\"14.00\" text-anchor=\"middle\" x=\"1103.5\" y=\"-351.8\">keras_layer: KerasLayer</text>\n<polyline fill=\"none\" points=\"1180.5,-332.5 1180.5,-378.5 \" stroke=\"#000000\"/>\n<text fill=\"#000000\" font-family=\"Times,serif\" font-size=\"14.00\" text-anchor=\"middle\" x=\"1209.5\" y=\"-363.3\">input:</text>\n<polyline fill=\"none\" points=\"1180.5,-355.5 1238.5,-355.5 \" stroke=\"#000000\"/>\n<text fill=\"#000000\" font-family=\"Times,serif\" font-size=\"14.00\" text-anchor=\"middle\" x=\"1209.5\" y=\"-340.3\">output:</text>\n<polyline fill=\"none\" points=\"1238.5,-332.5 1238.5,-378.5 \" stroke=\"#000000\"/>\n<text fill=\"#000000\" font-family=\"Times,serif\" font-size=\"14.00\" text-anchor=\"middle\" x=\"1326.5\" y=\"-363.3\">[(?, 100), (?, 100), (?, 100)]</text>\n<polyline fill=\"none\" points=\"1238.5,-355.5 1414.5,-355.5 \" stroke=\"#000000\"/>\n<text fill=\"#000000\" font-family=\"Times,serif\" font-size=\"14.00\" text-anchor=\"middle\" x=\"1326.5\" y=\"-340.3\">[(?, 768), (?, 100, 768)]</text>\n</g>\n<!-- 140634988736912&#45;&gt;140636875716944 -->\n<g class=\"edge\" id=\"edge11\">\n<title>140634988736912-&gt;140636875716944</title>\n<path d=\"M1151.2414,-415.3799C1161.9697,-406.1043 1174.4737,-395.2936 1185.8817,-385.4304\" fill=\"none\" stroke=\"#000000\"/>\n<polygon fill=\"#000000\" points=\"1188.2935,-387.972 1193.5691,-378.784 1183.7153,-382.6767 1188.2935,-387.972\" stroke=\"#000000\"/>\n</g>\n<!-- 140635196370640 -->\n<g class=\"node\" id=\"node10\">\n<title>140635196370640</title>\n<polygon fill=\"none\" points=\"1296.5,-415.5 1296.5,-461.5 1580.5,-461.5 1580.5,-415.5 1296.5,-415.5\" stroke=\"#000000\"/>\n<text fill=\"#000000\" font-family=\"Times,serif\" font-size=\"14.00\" text-anchor=\"middle\" x=\"1374\" y=\"-434.8\">input_mask: InputLayer</text>\n<polyline fill=\"none\" points=\"1451.5,-415.5 1451.5,-461.5 \" stroke=\"#000000\"/>\n<text fill=\"#000000\" font-family=\"Times,serif\" font-size=\"14.00\" text-anchor=\"middle\" x=\"1480.5\" y=\"-446.3\">input:</text>\n<polyline fill=\"none\" points=\"1451.5,-438.5 1509.5,-438.5 \" stroke=\"#000000\"/>\n<text fill=\"#000000\" font-family=\"Times,serif\" font-size=\"14.00\" text-anchor=\"middle\" x=\"1480.5\" y=\"-423.3\">output:</text>\n<polyline fill=\"none\" points=\"1509.5,-415.5 1509.5,-461.5 \" stroke=\"#000000\"/>\n<text fill=\"#000000\" font-family=\"Times,serif\" font-size=\"14.00\" text-anchor=\"middle\" x=\"1545\" y=\"-446.3\">[(?, 100)]</text>\n<polyline fill=\"none\" points=\"1509.5,-438.5 1580.5,-438.5 \" stroke=\"#000000\"/>\n<text fill=\"#000000\" font-family=\"Times,serif\" font-size=\"14.00\" text-anchor=\"middle\" x=\"1545\" y=\"-423.3\">[(?, 100)]</text>\n</g>\n<!-- 140635196370640&#45;&gt;140636875716944 -->\n<g class=\"edge\" id=\"edge12\">\n<title>140635196370640-&gt;140636875716944</title>\n<path d=\"M1378.0643,-415.4901C1350.8939,-405.1454 1318.663,-392.874 1290.4529,-382.1334\" fill=\"none\" stroke=\"#000000\"/>\n<polygon fill=\"#000000\" points=\"1291.6442,-378.842 1281.0532,-378.5547 1289.1534,-385.3838 1291.6442,-378.842\" stroke=\"#000000\"/>\n</g>\n<!-- 140635196367632 -->\n<g class=\"node\" id=\"node11\">\n<title>140635196367632</title>\n<polygon fill=\"none\" points=\"1598.5,-415.5 1598.5,-461.5 1886.5,-461.5 1886.5,-415.5 1598.5,-415.5\" stroke=\"#000000\"/>\n<text fill=\"#000000\" font-family=\"Times,serif\" font-size=\"14.00\" text-anchor=\"middle\" x=\"1678\" y=\"-434.8\">segment_ids: InputLayer</text>\n<polyline fill=\"none\" points=\"1757.5,-415.5 1757.5,-461.5 \" stroke=\"#000000\"/>\n<text fill=\"#000000\" font-family=\"Times,serif\" font-size=\"14.00\" text-anchor=\"middle\" x=\"1786.5\" y=\"-446.3\">input:</text>\n<polyline fill=\"none\" points=\"1757.5,-438.5 1815.5,-438.5 \" stroke=\"#000000\"/>\n<text fill=\"#000000\" font-family=\"Times,serif\" font-size=\"14.00\" text-anchor=\"middle\" x=\"1786.5\" y=\"-423.3\">output:</text>\n<polyline fill=\"none\" points=\"1815.5,-415.5 1815.5,-461.5 \" stroke=\"#000000\"/>\n<text fill=\"#000000\" font-family=\"Times,serif\" font-size=\"14.00\" text-anchor=\"middle\" x=\"1851\" y=\"-446.3\">[(?, 100)]</text>\n<polyline fill=\"none\" points=\"1815.5,-438.5 1886.5,-438.5 \" stroke=\"#000000\"/>\n<text fill=\"#000000\" font-family=\"Times,serif\" font-size=\"14.00\" text-anchor=\"middle\" x=\"1851\" y=\"-423.3\">[(?, 100)]</text>\n</g>\n<!-- 140635196367632&#45;&gt;140636875716944 -->\n<g class=\"edge\" id=\"edge13\">\n<title>140635196367632-&gt;140636875716944</title>\n<path d=\"M1598.4794,-415.6002C1529.1628,-404.5786 1445.9666,-391.35 1375.2953,-380.113\" fill=\"none\" stroke=\"#000000\"/>\n<polygon fill=\"#000000\" points=\"1375.8347,-376.6549 1365.4091,-378.5411 1374.7354,-383.5681 1375.8347,-376.6549\" stroke=\"#000000\"/>\n</g>\n<!-- 140635195610448 -->\n<g class=\"node\" id=\"node16\">\n<title>140635195610448</title>\n<polygon fill=\"none\" points=\"527,-332.5 527,-378.5 936,-378.5 936,-332.5 527,-332.5\" stroke=\"#000000\"/>\n<text fill=\"#000000\" font-family=\"Times,serif\" font-size=\"14.00\" text-anchor=\"middle\" x=\"614.5\" y=\"-351.8\">concatenate_2: Concatenate</text>\n<polyline fill=\"none\" points=\"702,-332.5 702,-378.5 \" stroke=\"#000000\"/>\n<text fill=\"#000000\" font-family=\"Times,serif\" font-size=\"14.00\" text-anchor=\"middle\" x=\"731\" y=\"-363.3\">input:</text>\n<polyline fill=\"none\" points=\"702,-355.5 760,-355.5 \" stroke=\"#000000\"/>\n<text fill=\"#000000\" font-family=\"Times,serif\" font-size=\"14.00\" text-anchor=\"middle\" x=\"731\" y=\"-340.3\">output:</text>\n<polyline fill=\"none\" points=\"760,-332.5 760,-378.5 \" stroke=\"#000000\"/>\n<text fill=\"#000000\" font-family=\"Times,serif\" font-size=\"14.00\" text-anchor=\"middle\" x=\"848\" y=\"-363.3\">[(?, 128), (?, 128), (?, 128)]</text>\n<polyline fill=\"none\" points=\"760,-355.5 936,-355.5 \" stroke=\"#000000\"/>\n<text fill=\"#000000\" font-family=\"Times,serif\" font-size=\"14.00\" text-anchor=\"middle\" x=\"848\" y=\"-340.3\">(?, 384)</text>\n</g>\n<!-- 140635187975120&#45;&gt;140635195610448 -->\n<g class=\"edge\" id=\"edge14\">\n<title>140635187975120-&gt;140635195610448</title>\n<path d=\"M363.6524,-417.5556C430.8055,-406.2269 514.1654,-392.1642 584.5426,-380.2916\" fill=\"none\" stroke=\"#000000\"/>\n<polygon fill=\"#000000\" points=\"585.55,-383.6712 594.8284,-378.5564 584.3855,-376.7687 585.55,-383.6712\" stroke=\"#000000\"/>\n</g>\n<!-- 140635188052496&#45;&gt;140635195610448 -->\n<g class=\"edge\" id=\"edge15\">\n<title>140635188052496-&gt;140635195610448</title>\n<path d=\"M609.5759,-415.3799C629.9094,-405.3936 653.8661,-393.6279 675.1373,-383.1811\" fill=\"none\" stroke=\"#000000\"/>\n<polygon fill=\"#000000\" points=\"676.9507,-386.1899 684.3837,-378.6399 673.8649,-379.9067 676.9507,-386.1899\" stroke=\"#000000\"/>\n</g>\n<!-- 140635195627792&#45;&gt;140635195610448 -->\n<g class=\"edge\" id=\"edge16\">\n<title>140635195627792-&gt;140635195610448</title>\n<path d=\"M801.4801,-415.3799C790.6399,-406.1043 778.0057,-395.2936 766.4789,-385.4304\" fill=\"none\" stroke=\"#000000\"/>\n<polygon fill=\"#000000\" points=\"768.5851,-382.6262 758.7114,-378.784 764.034,-387.9448 768.5851,-382.6262\" stroke=\"#000000\"/>\n</g>\n<!-- 140635195644240 -->\n<g class=\"node\" id=\"node17\">\n<title>140635195644240</title>\n<polygon fill=\"none\" points=\"761.5,-249.5 761.5,-295.5 1117.5,-295.5 1117.5,-249.5 761.5,-249.5\" stroke=\"#000000\"/>\n<text fill=\"#000000\" font-family=\"Times,serif\" font-size=\"14.00\" text-anchor=\"middle\" x=\"849\" y=\"-268.8\">concatenate_3: Concatenate</text>\n<polyline fill=\"none\" points=\"936.5,-249.5 936.5,-295.5 \" stroke=\"#000000\"/>\n<text fill=\"#000000\" font-family=\"Times,serif\" font-size=\"14.00\" text-anchor=\"middle\" x=\"965.5\" y=\"-280.3\">input:</text>\n<polyline fill=\"none\" points=\"936.5,-272.5 994.5,-272.5 \" stroke=\"#000000\"/>\n<text fill=\"#000000\" font-family=\"Times,serif\" font-size=\"14.00\" text-anchor=\"middle\" x=\"965.5\" y=\"-257.3\">output:</text>\n<polyline fill=\"none\" points=\"994.5,-249.5 994.5,-295.5 \" stroke=\"#000000\"/>\n<text fill=\"#000000\" font-family=\"Times,serif\" font-size=\"14.00\" text-anchor=\"middle\" x=\"1056\" y=\"-280.3\">[(?, 768), (?, 384)]</text>\n<polyline fill=\"none\" points=\"994.5,-272.5 1117.5,-272.5 \" stroke=\"#000000\"/>\n<text fill=\"#000000\" font-family=\"Times,serif\" font-size=\"14.00\" text-anchor=\"middle\" x=\"1056\" y=\"-257.3\">(?, 1152)</text>\n</g>\n<!-- 140636875716944&#45;&gt;140635195644240 -->\n<g class=\"edge\" id=\"edge17\">\n<title>140636875716944-&gt;140635195644240</title>\n<path d=\"M1142.599,-332.4901C1106.8152,-321.9205 1064.2218,-309.3395 1027.3046,-298.4352\" fill=\"none\" stroke=\"#000000\"/>\n<polygon fill=\"#000000\" points=\"1028.1344,-295.0308 1017.5525,-295.5547 1026.1514,-301.7441 1028.1344,-295.0308\" stroke=\"#000000\"/>\n</g>\n<!-- 140635195610448&#45;&gt;140635195644240 -->\n<g class=\"edge\" id=\"edge18\">\n<title>140635195610448-&gt;140635195644240</title>\n<path d=\"M789.1634,-332.4901C814.9747,-322.1904 845.5726,-309.9806 872.4047,-299.2736\" fill=\"none\" stroke=\"#000000\"/>\n<polygon fill=\"#000000\" points=\"873.7338,-302.5117 881.7245,-295.5547 871.1394,-296.0102 873.7338,-302.5117\" stroke=\"#000000\"/>\n</g>\n<!-- 140635195643792 -->\n<g class=\"node\" id=\"node18\">\n<title>140635195643792</title>\n<polygon fill=\"none\" points=\"823,-166.5 823,-212.5 1056,-212.5 1056,-166.5 823,-166.5\" stroke=\"#000000\"/>\n<text fill=\"#000000\" font-family=\"Times,serif\" font-size=\"14.00\" text-anchor=\"middle\" x=\"876.5\" y=\"-185.8\">dense_3: Dense</text>\n<polyline fill=\"none\" points=\"930,-166.5 930,-212.5 \" stroke=\"#000000\"/>\n<text fill=\"#000000\" font-family=\"Times,serif\" font-size=\"14.00\" text-anchor=\"middle\" x=\"959\" y=\"-197.3\">input:</text>\n<polyline fill=\"none\" points=\"930,-189.5 988,-189.5 \" stroke=\"#000000\"/>\n<text fill=\"#000000\" font-family=\"Times,serif\" font-size=\"14.00\" text-anchor=\"middle\" x=\"959\" y=\"-174.3\">output:</text>\n<polyline fill=\"none\" points=\"988,-166.5 988,-212.5 \" stroke=\"#000000\"/>\n<text fill=\"#000000\" font-family=\"Times,serif\" font-size=\"14.00\" text-anchor=\"middle\" x=\"1022\" y=\"-197.3\">(?, 1152)</text>\n<polyline fill=\"none\" points=\"988,-189.5 1056,-189.5 \" stroke=\"#000000\"/>\n<text fill=\"#000000\" font-family=\"Times,serif\" font-size=\"14.00\" text-anchor=\"middle\" x=\"1022\" y=\"-174.3\">(?, 128)</text>\n</g>\n<!-- 140635195644240&#45;&gt;140635195643792 -->\n<g class=\"edge\" id=\"edge19\">\n<title>140635195644240-&gt;140635195643792</title>\n<path d=\"M939.5,-249.3799C939.5,-241.1745 939.5,-231.7679 939.5,-222.8786\" fill=\"none\" stroke=\"#000000\"/>\n<polygon fill=\"#000000\" points=\"943.0001,-222.784 939.5,-212.784 936.0001,-222.784 943.0001,-222.784\" stroke=\"#000000\"/>\n</g>\n<!-- 140635195661264 -->\n<g class=\"node\" id=\"node19\">\n<title>140635195661264</title>\n<polygon fill=\"none\" points=\"826,-83.5 826,-129.5 1053,-129.5 1053,-83.5 826,-83.5\" stroke=\"#000000\"/>\n<text fill=\"#000000\" font-family=\"Times,serif\" font-size=\"14.00\" text-anchor=\"middle\" x=\"879.5\" y=\"-102.8\">dense_4: Dense</text>\n<polyline fill=\"none\" points=\"933,-83.5 933,-129.5 \" stroke=\"#000000\"/>\n<text fill=\"#000000\" font-family=\"Times,serif\" font-size=\"14.00\" text-anchor=\"middle\" x=\"962\" y=\"-114.3\">input:</text>\n<polyline fill=\"none\" points=\"933,-106.5 991,-106.5 \" stroke=\"#000000\"/>\n<text fill=\"#000000\" font-family=\"Times,serif\" font-size=\"14.00\" text-anchor=\"middle\" x=\"962\" y=\"-91.3\">output:</text>\n<polyline fill=\"none\" points=\"991,-83.5 991,-129.5 \" stroke=\"#000000\"/>\n<text fill=\"#000000\" font-family=\"Times,serif\" font-size=\"14.00\" text-anchor=\"middle\" x=\"1022\" y=\"-114.3\">(?, 128)</text>\n<polyline fill=\"none\" points=\"991,-106.5 1053,-106.5 \" stroke=\"#000000\"/>\n<text fill=\"#000000\" font-family=\"Times,serif\" font-size=\"14.00\" text-anchor=\"middle\" x=\"1022\" y=\"-91.3\">(?, 128)</text>\n</g>\n<!-- 140635195643792&#45;&gt;140635195661264 -->\n<g class=\"edge\" id=\"edge20\">\n<title>140635195643792-&gt;140635195661264</title>\n<path d=\"M939.5,-166.3799C939.5,-158.1745 939.5,-148.7679 939.5,-139.8786\" fill=\"none\" stroke=\"#000000\"/>\n<polygon fill=\"#000000\" points=\"943.0001,-139.784 939.5,-129.784 936.0001,-139.784 943.0001,-139.784\" stroke=\"#000000\"/>\n</g>\n<!-- 140635195682320 -->\n<g class=\"node\" id=\"node20\">\n<title>140635195682320</title>\n<polygon fill=\"none\" points=\"826,-.5 826,-46.5 1053,-46.5 1053,-.5 826,-.5\" stroke=\"#000000\"/>\n<text fill=\"#000000\" font-family=\"Times,serif\" font-size=\"14.00\" text-anchor=\"middle\" x=\"879.5\" y=\"-19.8\">dense_5: Dense</text>\n<polyline fill=\"none\" points=\"933,-.5 933,-46.5 \" stroke=\"#000000\"/>\n<text fill=\"#000000\" font-family=\"Times,serif\" font-size=\"14.00\" text-anchor=\"middle\" x=\"962\" y=\"-31.3\">input:</text>\n<polyline fill=\"none\" points=\"933,-23.5 991,-23.5 \" stroke=\"#000000\"/>\n<text fill=\"#000000\" font-family=\"Times,serif\" font-size=\"14.00\" text-anchor=\"middle\" x=\"962\" y=\"-8.3\">output:</text>\n<polyline fill=\"none\" points=\"991,-.5 991,-46.5 \" stroke=\"#000000\"/>\n<text fill=\"#000000\" font-family=\"Times,serif\" font-size=\"14.00\" text-anchor=\"middle\" x=\"1022\" y=\"-31.3\">(?, 128)</text>\n<polyline fill=\"none\" points=\"991,-23.5 1053,-23.5 \" stroke=\"#000000\"/>\n<text fill=\"#000000\" font-family=\"Times,serif\" font-size=\"14.00\" text-anchor=\"middle\" x=\"1022\" y=\"-8.3\">(?, 2)</text>\n</g>\n<!-- 140635195661264&#45;&gt;140635195682320 -->\n<g class=\"edge\" id=\"edge21\">\n<title>140635195661264-&gt;140635195682320</title>\n<path d=\"M939.5,-83.3799C939.5,-75.1745 939.5,-65.7679 939.5,-56.8786\" fill=\"none\" stroke=\"#000000\"/>\n<polygon fill=\"#000000\" points=\"943.0001,-56.784 939.5,-46.784 936.0001,-56.784 943.0001,-56.784\" stroke=\"#000000\"/>\n</g>\n</g>\n</svg>"
          },
          "metadata": {
            "tags": []
          },
          "execution_count": 30
        }
      ]
    },
    {
      "cell_type": "code",
      "metadata": {
        "colab": {
          "base_uri": "https://localhost:8080/"
        },
        "id": "dkzl9o2rOl9d",
        "outputId": "d1a156f9-caa8-4fc8-8e25-cdfd05b29a43"
      },
      "source": [
        "history = model.fit([X_train,train_input],train_labels,validation_split=0.2,epochs=3,batch_size=16)"
      ],
      "execution_count": 31,
      "outputs": [
        {
          "output_type": "stream",
          "text": [
            "Epoch 1/3\n",
            "892/892 [==============================] - 365s 409ms/step - loss: 0.0122 - accuracy: 0.9969 - val_loss: 2.6701e-04 - val_accuracy: 1.0000\n",
            "Epoch 2/3\n",
            "892/892 [==============================] - 364s 408ms/step - loss: 0.0035 - accuracy: 0.9993 - val_loss: 1.0115e-04 - val_accuracy: 1.0000\n",
            "Epoch 3/3\n",
            "892/892 [==============================] - 363s 407ms/step - loss: 9.6957e-05 - accuracy: 1.0000 - val_loss: 3.0819e-05 - val_accuracy: 1.0000\n"
          ],
          "name": "stdout"
        }
      ]
    },
    {
      "cell_type": "code",
      "metadata": {
        "id": "jNE4sgkV4Dtn"
      },
      "source": [
        "test_labels = keras.utils.to_categorical(y_test0, num_classes=2)"
      ],
      "execution_count": 25,
      "outputs": []
    },
    {
      "cell_type": "code",
      "metadata": {
        "colab": {
          "base_uri": "https://localhost:8080/"
        },
        "id": "O7YmpY7j4BO0",
        "outputId": "2427b4ea-4335-4ea1-b778-026553bcfd20"
      },
      "source": [
        "score = model.evaluate([X_test,test_input], test_labels, verbose=1)"
      ],
      "execution_count": 26,
      "outputs": [
        {
          "output_type": "stream",
          "text": [
            "140/140 [==============================] - 36s 260ms/step - loss: 2.4344e-05 - accuracy: 1.0000\n"
          ],
          "name": "stdout"
        }
      ]
    }
  ]
}