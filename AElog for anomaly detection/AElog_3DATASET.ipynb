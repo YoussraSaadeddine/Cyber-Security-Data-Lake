{
  "nbformat": 4,
  "nbformat_minor": 0,
  "metadata": {
    "accelerator": "GPU",
    "colab": {
      "name": "AElog_anomalie detection.ipynb",
      "provenance": [],
      "collapsed_sections": [],
      "machine_shape": "hm"
    },
    "kernelspec": {
      "display_name": "Python 3",
      "name": "python3"
    },
    "language_info": {
      "name": "python"
    }
  },
  "cells": [
    {
      "cell_type": "markdown",
      "metadata": {
        "id": "a-_hnw-Xku3g"
      },
      "source": [
        "#I- Introduction\n",
        "Il existe plusieurs types de modèles qui pourraient être utilisés pour la classification de texte. Quelques exemples sont :\n",
        "\n",
        "\n",
        "*   **1D- Conv Net** \n",
        "\n",
        "*   **Modèles basés sur RNN (LSTM, GRU)** \n",
        "\n",
        "* **Modèles basés sur des transformers (BERT, GPT2)** \n",
        "\n",
        "####nous avons testé les 3 types de modèles et les CNN et Bert ont montré des très bonne performance\n",
        "####Dans ce projet nous allons essayer de combiner les deux pour avoir un model plus puissant qui tire parti des atouts de chaque type pour donner des meilleurs résultats.\n"
      ]
    },
    {
      "cell_type": "markdown",
      "metadata": {
        "id": "VeCrjgooScfD"
      },
      "source": [
        "### 1. Importing libraries and modules"
      ]
    },
    {
      "cell_type": "code",
      "metadata": {
        "colab": {
          "base_uri": "https://localhost:8080/",
          "height": 1000
        },
        "id": "wkrSDBft4YV_",
        "outputId": "ebcb2f92-5d0a-469d-839e-097d7abdcf86"
      },
      "source": [
        "!pip install tensorflow==2.3.0\n",
        "!pip install tensorflow-gpu==2.3.0\n",
        "!pip install keras==2.4.3\n",
        "!pip cudatoolkit==11.0.221"
      ],
      "execution_count": 1,
      "outputs": [
        {
          "output_type": "stream",
          "text": [
            "Collecting tensorflow==2.3.0\n",
            "\u001b[?25l  Downloading https://files.pythonhosted.org/packages/16/89/f2d29c2eafc2eeafb17d5634340e06366af904d332341200a49d954bce85/tensorflow-2.3.0-cp37-cp37m-manylinux2010_x86_64.whl (320.4MB)\n",
            "\u001b[K     |████████████████████████████████| 320.4MB 45kB/s \n",
            "\u001b[?25hRequirement already satisfied: scipy==1.4.1 in /usr/local/lib/python3.7/dist-packages (from tensorflow==2.3.0) (1.4.1)\n",
            "Requirement already satisfied: grpcio>=1.8.6 in /usr/local/lib/python3.7/dist-packages (from tensorflow==2.3.0) (1.34.1)\n",
            "Requirement already satisfied: opt-einsum>=2.3.2 in /usr/local/lib/python3.7/dist-packages (from tensorflow==2.3.0) (3.3.0)\n",
            "Collecting tensorflow-estimator<2.4.0,>=2.3.0\n",
            "\u001b[?25l  Downloading https://files.pythonhosted.org/packages/e9/ed/5853ec0ae380cba4588eab1524e18ece1583b65f7ae0e97321f5ff9dfd60/tensorflow_estimator-2.3.0-py2.py3-none-any.whl (459kB)\n",
            "\u001b[K     |████████████████████████████████| 460kB 33.0MB/s \n",
            "\u001b[?25hRequirement already satisfied: tensorboard<3,>=2.3.0 in /usr/local/lib/python3.7/dist-packages (from tensorflow==2.3.0) (2.5.0)\n",
            "Requirement already satisfied: astunparse==1.6.3 in /usr/local/lib/python3.7/dist-packages (from tensorflow==2.3.0) (1.6.3)\n",
            "Requirement already satisfied: termcolor>=1.1.0 in /usr/local/lib/python3.7/dist-packages (from tensorflow==2.3.0) (1.1.0)\n",
            "Requirement already satisfied: wheel>=0.26 in /usr/local/lib/python3.7/dist-packages (from tensorflow==2.3.0) (0.36.2)\n",
            "Requirement already satisfied: protobuf>=3.9.2 in /usr/local/lib/python3.7/dist-packages (from tensorflow==2.3.0) (3.12.4)\n",
            "Collecting h5py<2.11.0,>=2.10.0\n",
            "\u001b[?25l  Downloading https://files.pythonhosted.org/packages/3f/c0/abde58b837e066bca19a3f7332d9d0493521d7dd6b48248451a9e3fe2214/h5py-2.10.0-cp37-cp37m-manylinux1_x86_64.whl (2.9MB)\n",
            "\u001b[K     |████████████████████████████████| 2.9MB 15.4MB/s \n",
            "\u001b[?25hRequirement already satisfied: wrapt>=1.11.1 in /usr/local/lib/python3.7/dist-packages (from tensorflow==2.3.0) (1.12.1)\n",
            "Collecting numpy<1.19.0,>=1.16.0\n",
            "\u001b[?25l  Downloading https://files.pythonhosted.org/packages/d6/c6/58e517e8b1fb192725cfa23c01c2e60e4e6699314ee9684a1c5f5c9b27e1/numpy-1.18.5-cp37-cp37m-manylinux1_x86_64.whl (20.1MB)\n",
            "\u001b[K     |████████████████████████████████| 20.1MB 312kB/s \n",
            "\u001b[?25hRequirement already satisfied: google-pasta>=0.1.8 in /usr/local/lib/python3.7/dist-packages (from tensorflow==2.3.0) (0.2.0)\n",
            "Requirement already satisfied: absl-py>=0.7.0 in /usr/local/lib/python3.7/dist-packages (from tensorflow==2.3.0) (0.12.0)\n",
            "Requirement already satisfied: six>=1.12.0 in /usr/local/lib/python3.7/dist-packages (from tensorflow==2.3.0) (1.15.0)\n",
            "Collecting gast==0.3.3\n",
            "  Downloading https://files.pythonhosted.org/packages/d6/84/759f5dd23fec8ba71952d97bcc7e2c9d7d63bdc582421f3cd4be845f0c98/gast-0.3.3-py2.py3-none-any.whl\n",
            "Requirement already satisfied: keras-preprocessing<1.2,>=1.1.1 in /usr/local/lib/python3.7/dist-packages (from tensorflow==2.3.0) (1.1.2)\n",
            "Requirement already satisfied: google-auth<2,>=1.6.3 in /usr/local/lib/python3.7/dist-packages (from tensorboard<3,>=2.3.0->tensorflow==2.3.0) (1.31.0)\n",
            "Requirement already satisfied: requests<3,>=2.21.0 in /usr/local/lib/python3.7/dist-packages (from tensorboard<3,>=2.3.0->tensorflow==2.3.0) (2.23.0)\n",
            "Requirement already satisfied: tensorboard-data-server<0.7.0,>=0.6.0 in /usr/local/lib/python3.7/dist-packages (from tensorboard<3,>=2.3.0->tensorflow==2.3.0) (0.6.1)\n",
            "Requirement already satisfied: setuptools>=41.0.0 in /usr/local/lib/python3.7/dist-packages (from tensorboard<3,>=2.3.0->tensorflow==2.3.0) (57.0.0)\n",
            "Requirement already satisfied: tensorboard-plugin-wit>=1.6.0 in /usr/local/lib/python3.7/dist-packages (from tensorboard<3,>=2.3.0->tensorflow==2.3.0) (1.8.0)\n",
            "Requirement already satisfied: google-auth-oauthlib<0.5,>=0.4.1 in /usr/local/lib/python3.7/dist-packages (from tensorboard<3,>=2.3.0->tensorflow==2.3.0) (0.4.4)\n",
            "Requirement already satisfied: werkzeug>=0.11.15 in /usr/local/lib/python3.7/dist-packages (from tensorboard<3,>=2.3.0->tensorflow==2.3.0) (1.0.1)\n",
            "Requirement already satisfied: markdown>=2.6.8 in /usr/local/lib/python3.7/dist-packages (from tensorboard<3,>=2.3.0->tensorflow==2.3.0) (3.3.4)\n",
            "Requirement already satisfied: cachetools<5.0,>=2.0.0 in /usr/local/lib/python3.7/dist-packages (from google-auth<2,>=1.6.3->tensorboard<3,>=2.3.0->tensorflow==2.3.0) (4.2.2)\n",
            "Requirement already satisfied: rsa<5,>=3.1.4; python_version >= \"3.6\" in /usr/local/lib/python3.7/dist-packages (from google-auth<2,>=1.6.3->tensorboard<3,>=2.3.0->tensorflow==2.3.0) (4.7.2)\n",
            "Requirement already satisfied: pyasn1-modules>=0.2.1 in /usr/local/lib/python3.7/dist-packages (from google-auth<2,>=1.6.3->tensorboard<3,>=2.3.0->tensorflow==2.3.0) (0.2.8)\n",
            "Requirement already satisfied: chardet<4,>=3.0.2 in /usr/local/lib/python3.7/dist-packages (from requests<3,>=2.21.0->tensorboard<3,>=2.3.0->tensorflow==2.3.0) (3.0.4)\n",
            "Requirement already satisfied: certifi>=2017.4.17 in /usr/local/lib/python3.7/dist-packages (from requests<3,>=2.21.0->tensorboard<3,>=2.3.0->tensorflow==2.3.0) (2021.5.30)\n",
            "Requirement already satisfied: idna<3,>=2.5 in /usr/local/lib/python3.7/dist-packages (from requests<3,>=2.21.0->tensorboard<3,>=2.3.0->tensorflow==2.3.0) (2.10)\n",
            "Requirement already satisfied: urllib3!=1.25.0,!=1.25.1,<1.26,>=1.21.1 in /usr/local/lib/python3.7/dist-packages (from requests<3,>=2.21.0->tensorboard<3,>=2.3.0->tensorflow==2.3.0) (1.24.3)\n",
            "Requirement already satisfied: requests-oauthlib>=0.7.0 in /usr/local/lib/python3.7/dist-packages (from google-auth-oauthlib<0.5,>=0.4.1->tensorboard<3,>=2.3.0->tensorflow==2.3.0) (1.3.0)\n",
            "Requirement already satisfied: importlib-metadata; python_version < \"3.8\" in /usr/local/lib/python3.7/dist-packages (from markdown>=2.6.8->tensorboard<3,>=2.3.0->tensorflow==2.3.0) (4.5.0)\n",
            "Requirement already satisfied: pyasn1>=0.1.3 in /usr/local/lib/python3.7/dist-packages (from rsa<5,>=3.1.4; python_version >= \"3.6\"->google-auth<2,>=1.6.3->tensorboard<3,>=2.3.0->tensorflow==2.3.0) (0.4.8)\n",
            "Requirement already satisfied: oauthlib>=3.0.0 in /usr/local/lib/python3.7/dist-packages (from requests-oauthlib>=0.7.0->google-auth-oauthlib<0.5,>=0.4.1->tensorboard<3,>=2.3.0->tensorflow==2.3.0) (3.1.1)\n",
            "Requirement already satisfied: typing-extensions>=3.6.4; python_version < \"3.8\" in /usr/local/lib/python3.7/dist-packages (from importlib-metadata; python_version < \"3.8\"->markdown>=2.6.8->tensorboard<3,>=2.3.0->tensorflow==2.3.0) (3.7.4.3)\n",
            "Requirement already satisfied: zipp>=0.5 in /usr/local/lib/python3.7/dist-packages (from importlib-metadata; python_version < \"3.8\"->markdown>=2.6.8->tensorboard<3,>=2.3.0->tensorflow==2.3.0) (3.4.1)\n",
            "\u001b[31mERROR: datascience 0.10.6 has requirement folium==0.2.1, but you'll have folium 0.8.3 which is incompatible.\u001b[0m\n",
            "\u001b[31mERROR: albumentations 0.1.12 has requirement imgaug<0.2.7,>=0.2.5, but you'll have imgaug 0.2.9 which is incompatible.\u001b[0m\n",
            "Installing collected packages: tensorflow-estimator, numpy, h5py, gast, tensorflow\n",
            "  Found existing installation: tensorflow-estimator 2.5.0\n",
            "    Uninstalling tensorflow-estimator-2.5.0:\n",
            "      Successfully uninstalled tensorflow-estimator-2.5.0\n",
            "  Found existing installation: numpy 1.19.5\n",
            "    Uninstalling numpy-1.19.5:\n",
            "      Successfully uninstalled numpy-1.19.5\n",
            "  Found existing installation: h5py 3.1.0\n",
            "    Uninstalling h5py-3.1.0:\n",
            "      Successfully uninstalled h5py-3.1.0\n",
            "  Found existing installation: gast 0.4.0\n",
            "    Uninstalling gast-0.4.0:\n",
            "      Successfully uninstalled gast-0.4.0\n",
            "  Found existing installation: tensorflow 2.5.0\n",
            "    Uninstalling tensorflow-2.5.0:\n",
            "      Successfully uninstalled tensorflow-2.5.0\n",
            "Successfully installed gast-0.3.3 h5py-2.10.0 numpy-1.18.5 tensorflow-2.3.0 tensorflow-estimator-2.3.0\n"
          ],
          "name": "stdout"
        },
        {
          "output_type": "display_data",
          "data": {
            "application/vnd.colab-display-data+json": {
              "pip_warning": {
                "packages": [
                  "numpy"
                ]
              }
            }
          },
          "metadata": {
            "tags": []
          }
        },
        {
          "output_type": "stream",
          "text": [
            "Collecting tensorflow-gpu==2.3.0\n",
            "\u001b[?25l  Downloading https://files.pythonhosted.org/packages/42/b0/1b3ec22178c021b5ec6c1ace4c3ed20156dabdfcfd998071a7cb9186b1a0/tensorflow_gpu-2.3.0-cp37-cp37m-manylinux2010_x86_64.whl (320.4MB)\n",
            "\u001b[K     |████████████████████████████████| 320.4MB 46kB/s \n",
            "\u001b[?25hRequirement already satisfied: h5py<2.11.0,>=2.10.0 in /usr/local/lib/python3.7/dist-packages (from tensorflow-gpu==2.3.0) (2.10.0)\n",
            "Requirement already satisfied: google-pasta>=0.1.8 in /usr/local/lib/python3.7/dist-packages (from tensorflow-gpu==2.3.0) (0.2.0)\n",
            "Requirement already satisfied: tensorboard<3,>=2.3.0 in /usr/local/lib/python3.7/dist-packages (from tensorflow-gpu==2.3.0) (2.5.0)\n",
            "Requirement already satisfied: termcolor>=1.1.0 in /usr/local/lib/python3.7/dist-packages (from tensorflow-gpu==2.3.0) (1.1.0)\n",
            "Requirement already satisfied: six>=1.12.0 in /usr/local/lib/python3.7/dist-packages (from tensorflow-gpu==2.3.0) (1.15.0)\n",
            "Requirement already satisfied: numpy<1.19.0,>=1.16.0 in /usr/local/lib/python3.7/dist-packages (from tensorflow-gpu==2.3.0) (1.18.5)\n",
            "Requirement already satisfied: scipy==1.4.1 in /usr/local/lib/python3.7/dist-packages (from tensorflow-gpu==2.3.0) (1.4.1)\n",
            "Requirement already satisfied: gast==0.3.3 in /usr/local/lib/python3.7/dist-packages (from tensorflow-gpu==2.3.0) (0.3.3)\n",
            "Requirement already satisfied: opt-einsum>=2.3.2 in /usr/local/lib/python3.7/dist-packages (from tensorflow-gpu==2.3.0) (3.3.0)\n",
            "Requirement already satisfied: wheel>=0.26 in /usr/local/lib/python3.7/dist-packages (from tensorflow-gpu==2.3.0) (0.36.2)\n",
            "Requirement already satisfied: keras-preprocessing<1.2,>=1.1.1 in /usr/local/lib/python3.7/dist-packages (from tensorflow-gpu==2.3.0) (1.1.2)\n",
            "Requirement already satisfied: tensorflow-estimator<2.4.0,>=2.3.0 in /usr/local/lib/python3.7/dist-packages (from tensorflow-gpu==2.3.0) (2.3.0)\n",
            "Requirement already satisfied: grpcio>=1.8.6 in /usr/local/lib/python3.7/dist-packages (from tensorflow-gpu==2.3.0) (1.34.1)\n",
            "Requirement already satisfied: astunparse==1.6.3 in /usr/local/lib/python3.7/dist-packages (from tensorflow-gpu==2.3.0) (1.6.3)\n",
            "Requirement already satisfied: absl-py>=0.7.0 in /usr/local/lib/python3.7/dist-packages (from tensorflow-gpu==2.3.0) (0.12.0)\n",
            "Requirement already satisfied: wrapt>=1.11.1 in /usr/local/lib/python3.7/dist-packages (from tensorflow-gpu==2.3.0) (1.12.1)\n",
            "Requirement already satisfied: protobuf>=3.9.2 in /usr/local/lib/python3.7/dist-packages (from tensorflow-gpu==2.3.0) (3.12.4)\n",
            "Requirement already satisfied: requests<3,>=2.21.0 in /usr/local/lib/python3.7/dist-packages (from tensorboard<3,>=2.3.0->tensorflow-gpu==2.3.0) (2.23.0)\n",
            "Requirement already satisfied: google-auth<2,>=1.6.3 in /usr/local/lib/python3.7/dist-packages (from tensorboard<3,>=2.3.0->tensorflow-gpu==2.3.0) (1.31.0)\n",
            "Requirement already satisfied: markdown>=2.6.8 in /usr/local/lib/python3.7/dist-packages (from tensorboard<3,>=2.3.0->tensorflow-gpu==2.3.0) (3.3.4)\n",
            "Requirement already satisfied: setuptools>=41.0.0 in /usr/local/lib/python3.7/dist-packages (from tensorboard<3,>=2.3.0->tensorflow-gpu==2.3.0) (57.0.0)\n",
            "Requirement already satisfied: werkzeug>=0.11.15 in /usr/local/lib/python3.7/dist-packages (from tensorboard<3,>=2.3.0->tensorflow-gpu==2.3.0) (1.0.1)\n",
            "Requirement already satisfied: tensorboard-plugin-wit>=1.6.0 in /usr/local/lib/python3.7/dist-packages (from tensorboard<3,>=2.3.0->tensorflow-gpu==2.3.0) (1.8.0)\n",
            "Requirement already satisfied: tensorboard-data-server<0.7.0,>=0.6.0 in /usr/local/lib/python3.7/dist-packages (from tensorboard<3,>=2.3.0->tensorflow-gpu==2.3.0) (0.6.1)\n",
            "Requirement already satisfied: google-auth-oauthlib<0.5,>=0.4.1 in /usr/local/lib/python3.7/dist-packages (from tensorboard<3,>=2.3.0->tensorflow-gpu==2.3.0) (0.4.4)\n",
            "Requirement already satisfied: urllib3!=1.25.0,!=1.25.1,<1.26,>=1.21.1 in /usr/local/lib/python3.7/dist-packages (from requests<3,>=2.21.0->tensorboard<3,>=2.3.0->tensorflow-gpu==2.3.0) (1.24.3)\n",
            "Requirement already satisfied: idna<3,>=2.5 in /usr/local/lib/python3.7/dist-packages (from requests<3,>=2.21.0->tensorboard<3,>=2.3.0->tensorflow-gpu==2.3.0) (2.10)\n",
            "Requirement already satisfied: certifi>=2017.4.17 in /usr/local/lib/python3.7/dist-packages (from requests<3,>=2.21.0->tensorboard<3,>=2.3.0->tensorflow-gpu==2.3.0) (2021.5.30)\n",
            "Requirement already satisfied: chardet<4,>=3.0.2 in /usr/local/lib/python3.7/dist-packages (from requests<3,>=2.21.0->tensorboard<3,>=2.3.0->tensorflow-gpu==2.3.0) (3.0.4)\n",
            "Requirement already satisfied: pyasn1-modules>=0.2.1 in /usr/local/lib/python3.7/dist-packages (from google-auth<2,>=1.6.3->tensorboard<3,>=2.3.0->tensorflow-gpu==2.3.0) (0.2.8)\n",
            "Requirement already satisfied: rsa<5,>=3.1.4; python_version >= \"3.6\" in /usr/local/lib/python3.7/dist-packages (from google-auth<2,>=1.6.3->tensorboard<3,>=2.3.0->tensorflow-gpu==2.3.0) (4.7.2)\n",
            "Requirement already satisfied: cachetools<5.0,>=2.0.0 in /usr/local/lib/python3.7/dist-packages (from google-auth<2,>=1.6.3->tensorboard<3,>=2.3.0->tensorflow-gpu==2.3.0) (4.2.2)\n",
            "Requirement already satisfied: importlib-metadata; python_version < \"3.8\" in /usr/local/lib/python3.7/dist-packages (from markdown>=2.6.8->tensorboard<3,>=2.3.0->tensorflow-gpu==2.3.0) (4.5.0)\n",
            "Requirement already satisfied: requests-oauthlib>=0.7.0 in /usr/local/lib/python3.7/dist-packages (from google-auth-oauthlib<0.5,>=0.4.1->tensorboard<3,>=2.3.0->tensorflow-gpu==2.3.0) (1.3.0)\n",
            "Requirement already satisfied: pyasn1<0.5.0,>=0.4.6 in /usr/local/lib/python3.7/dist-packages (from pyasn1-modules>=0.2.1->google-auth<2,>=1.6.3->tensorboard<3,>=2.3.0->tensorflow-gpu==2.3.0) (0.4.8)\n",
            "Requirement already satisfied: zipp>=0.5 in /usr/local/lib/python3.7/dist-packages (from importlib-metadata; python_version < \"3.8\"->markdown>=2.6.8->tensorboard<3,>=2.3.0->tensorflow-gpu==2.3.0) (3.4.1)\n",
            "Requirement already satisfied: typing-extensions>=3.6.4; python_version < \"3.8\" in /usr/local/lib/python3.7/dist-packages (from importlib-metadata; python_version < \"3.8\"->markdown>=2.6.8->tensorboard<3,>=2.3.0->tensorflow-gpu==2.3.0) (3.7.4.3)\n",
            "Requirement already satisfied: oauthlib>=3.0.0 in /usr/local/lib/python3.7/dist-packages (from requests-oauthlib>=0.7.0->google-auth-oauthlib<0.5,>=0.4.1->tensorboard<3,>=2.3.0->tensorflow-gpu==2.3.0) (3.1.1)\n",
            "Installing collected packages: tensorflow-gpu\n",
            "Successfully installed tensorflow-gpu-2.3.0\n",
            "Requirement already satisfied: keras==2.4.3 in /usr/local/lib/python3.7/dist-packages (2.4.3)\n",
            "Requirement already satisfied: numpy>=1.9.1 in /usr/local/lib/python3.7/dist-packages (from keras==2.4.3) (1.18.5)\n",
            "Requirement already satisfied: pyyaml in /usr/local/lib/python3.7/dist-packages (from keras==2.4.3) (3.13)\n",
            "Requirement already satisfied: scipy>=0.14 in /usr/local/lib/python3.7/dist-packages (from keras==2.4.3) (1.4.1)\n",
            "Requirement already satisfied: h5py in /usr/local/lib/python3.7/dist-packages (from keras==2.4.3) (2.10.0)\n",
            "Requirement already satisfied: six in /usr/local/lib/python3.7/dist-packages (from h5py->keras==2.4.3) (1.15.0)\n",
            "ERROR: unknown command \"cudatoolkit==11.0.221\"\n"
          ],
          "name": "stdout"
        }
      ]
    },
    {
      "cell_type": "code",
      "metadata": {
        "id": "up70LU93J0fb"
      },
      "source": [
        "import numpy as np\n",
        "import pandas as pd\n",
        "import tensorflow as tf\n",
        "import tensorflow_hub as hub\n",
        "import logging\n",
        "logging.basicConfig(level=logging.INFO)"
      ],
      "execution_count": 2,
      "outputs": []
    },
    {
      "cell_type": "code",
      "metadata": {
        "id": "5bErBhoUltZS"
      },
      "source": [
        "import matplotlib.pyplot as plt\n",
        "import seaborn as sns\n",
        "import re\n",
        "from numpy import array\n",
        "from tensorflow import keras \n",
        "from tensorflow.keras.preprocessing.sequence import pad_sequences\n",
        "from tensorflow.keras.models import Sequential\n",
        "#from tensorflow.keras.layers.core import Activation, Dropout, Dense\n",
        "from tensorflow.keras.layers import Flatten\n",
        "from tensorflow.keras.layers import GlobalMaxPooling1D\n",
        "#from tensorflow.keras.layers.embeddings import Embedding\n",
        "from tensorflow.keras.preprocessing.text import Tokenizer\n",
        "from sklearn.utils import shuffle\n",
        "from google.colab import drive\n",
        "from sklearn.model_selection import train_test_split\n",
        "from tensorflow.keras.layers import Dense\n",
        "from tensorflow.keras.layers import Input, Dense, Dropout, Embedding, LSTM, Flatten\n",
        "from tensorflow.keras.models import Model\n",
        "from sklearn.metrics import accuracy_score"
      ],
      "execution_count": 3,
      "outputs": []
    },
    {
      "cell_type": "code",
      "metadata": {
        "id": "f3ESMlRaKRTw"
      },
      "source": [
        "!wget --quiet https://raw.githubusercontent.com/tensorflow/models/master/official/nlp/bert/tokenization.py"
      ],
      "execution_count": 4,
      "outputs": []
    },
    {
      "cell_type": "markdown",
      "metadata": {
        "id": "FQRMWg6qlJsg"
      },
      "source": [
        "###2. Loading Data"
      ]
    },
    {
      "cell_type": "code",
      "metadata": {
        "id": "QQpX1Fv24KLS",
        "colab": {
          "base_uri": "https://localhost:8080/"
        },
        "outputId": "64be99d4-a30e-4344-8627-f0aa6a9711e7"
      },
      "source": [
        "drive.mount('/gdrive')\n",
        "%cd /gdrive"
      ],
      "execution_count": 5,
      "outputs": [
        {
          "output_type": "stream",
          "text": [
            "Mounted at /gdrive\n",
            "/gdrive\n"
          ],
          "name": "stdout"
        }
      ]
    },
    {
      "cell_type": "code",
      "metadata": {
        "id": "B-qhA6JMK9wd"
      },
      "source": [
        "df1 = pd.read_csv(r'/gdrive/My Drive/bgl1.csv')\n",
        "df2 = pd.read_csv(r'/gdrive/My Drive/t3.csv')\n",
        "df3 = pd.read_csv(r'/gdrive/My Drive/open stack normal.csv')\n",
        "df4 = pd.read_csv(r'/gdrive/My Drive/open stack abnormal.csv')"
      ],
      "execution_count": 6,
      "outputs": []
    },
    {
      "cell_type": "code",
      "metadata": {
        "id": "Vma_DxNgXvx-"
      },
      "source": [
        "dfa= df1.loc[0:400000,:]\n",
        "dfb= df2.loc[0:400000,:]"
      ],
      "execution_count": 7,
      "outputs": []
    },
    {
      "cell_type": "code",
      "metadata": {
        "id": "pyPzBcZf6Yfp"
      },
      "source": [
        "df3['label']=0\n",
        "df4['label']=1"
      ],
      "execution_count": 8,
      "outputs": []
    },
    {
      "cell_type": "code",
      "metadata": {
        "id": "FC5NsRsQ59Px",
        "colab": {
          "base_uri": "https://localhost:8080/",
          "height": 359
        },
        "outputId": "f64574a8-527d-466b-cb4b-b64f28cb83f4"
      },
      "source": [
        "#concatinate\n",
        "df=pd.concat([dfa,dfb,df3,df4])\n",
        "# Shuffle the data\n",
        "df = shuffle(df).reset_index(drop=True)\n",
        "df.sample(10)"
      ],
      "execution_count": 9,
      "outputs": [
        {
          "output_type": "execute_result",
          "data": {
            "text/html": [
              "<div>\n",
              "<style scoped>\n",
              "    .dataframe tbody tr th:only-of-type {\n",
              "        vertical-align: middle;\n",
              "    }\n",
              "\n",
              "    .dataframe tbody tr th {\n",
              "        vertical-align: top;\n",
              "    }\n",
              "\n",
              "    .dataframe thead th {\n",
              "        text-align: right;\n",
              "    }\n",
              "</style>\n",
              "<table border=\"1\" class=\"dataframe\">\n",
              "  <thead>\n",
              "    <tr style=\"text-align: right;\">\n",
              "      <th></th>\n",
              "      <th>Unnamed: 0</th>\n",
              "      <th>log</th>\n",
              "      <th>label</th>\n",
              "    </tr>\n",
              "  </thead>\n",
              "  <tbody>\n",
              "    <tr>\n",
              "      <th>995050</th>\n",
              "      <td>98245</td>\n",
              "      <td>- 1117989454 2005.06.05 R35-M0-N0-C:J06-U01 20...</td>\n",
              "      <td>0</td>\n",
              "    </tr>\n",
              "    <tr>\n",
              "      <th>998473</th>\n",
              "      <td>95907</td>\n",
              "      <td>- 1117988395 2005.06.05 R34-M0-NA-C:J11-U11 20...</td>\n",
              "      <td>0</td>\n",
              "    </tr>\n",
              "    <tr>\n",
              "      <th>326317</th>\n",
              "      <td>154943</td>\n",
              "      <td>- 1131774831 2005.11.11 bn387 Nov 11 21:53:51 ...</td>\n",
              "      <td>0</td>\n",
              "    </tr>\n",
              "    <tr>\n",
              "      <th>403774</th>\n",
              "      <td>46169</td>\n",
              "      <td>nova-api.log.1.2017-05-16_13:53:08 2017-05-16 ...</td>\n",
              "      <td>0</td>\n",
              "    </tr>\n",
              "    <tr>\n",
              "      <th>929275</th>\n",
              "      <td>353491</td>\n",
              "      <td>KERNDTLB 1118555129 2005.06.11 R30-M0-N9-C:J16...</td>\n",
              "      <td>1</td>\n",
              "    </tr>\n",
              "    <tr>\n",
              "      <th>659272</th>\n",
              "      <td>68155</td>\n",
              "      <td>nova-compute.log.1.2017-05-17_12:02:35 2017-05...</td>\n",
              "      <td>0</td>\n",
              "    </tr>\n",
              "    <tr>\n",
              "      <th>772824</th>\n",
              "      <td>195945</td>\n",
              "      <td>- 1118290051 2005.06.08 R27-M0-NB-C:J02-U01 20...</td>\n",
              "      <td>0</td>\n",
              "    </tr>\n",
              "    <tr>\n",
              "      <th>898434</th>\n",
              "      <td>22429</td>\n",
              "      <td>nova-api.log.1.2017-05-16_13:53:08 2017-05-16 ...</td>\n",
              "      <td>0</td>\n",
              "    </tr>\n",
              "    <tr>\n",
              "      <th>812330</th>\n",
              "      <td>63133</td>\n",
              "      <td>- 1117979968 2005.06.05 R22-M0-N4-C:J09-U01 20...</td>\n",
              "      <td>0</td>\n",
              "    </tr>\n",
              "    <tr>\n",
              "      <th>302692</th>\n",
              "      <td>395909</td>\n",
              "      <td>KERNSTOR 1118709779 2005.06.13 R10-M1-N0-C:J10...</td>\n",
              "      <td>1</td>\n",
              "    </tr>\n",
              "  </tbody>\n",
              "</table>\n",
              "</div>"
            ],
            "text/plain": [
              "        Unnamed: 0                                                log  label\n",
              "995050       98245  - 1117989454 2005.06.05 R35-M0-N0-C:J06-U01 20...      0\n",
              "998473       95907  - 1117988395 2005.06.05 R34-M0-NA-C:J11-U11 20...      0\n",
              "326317      154943  - 1131774831 2005.11.11 bn387 Nov 11 21:53:51 ...      0\n",
              "403774       46169  nova-api.log.1.2017-05-16_13:53:08 2017-05-16 ...      0\n",
              "929275      353491  KERNDTLB 1118555129 2005.06.11 R30-M0-N9-C:J16...      1\n",
              "659272       68155  nova-compute.log.1.2017-05-17_12:02:35 2017-05...      0\n",
              "772824      195945  - 1118290051 2005.06.08 R27-M0-NB-C:J02-U01 20...      0\n",
              "898434       22429  nova-api.log.1.2017-05-16_13:53:08 2017-05-16 ...      0\n",
              "812330       63133  - 1117979968 2005.06.05 R22-M0-N4-C:J09-U01 20...      0\n",
              "302692      395909  KERNSTOR 1118709779 2005.06.13 R10-M1-N0-C:J10...      1"
            ]
          },
          "metadata": {
            "tags": []
          },
          "execution_count": 9
        }
      ]
    },
    {
      "cell_type": "markdown",
      "metadata": {
        "id": "K2VsEYm0lgcI"
      },
      "source": [
        "###3. Data Preprocessing"
      ]
    },
    {
      "cell_type": "code",
      "metadata": {
        "id": "BPPgOMpRK9lN"
      },
      "source": [
        "del df['Unnamed: 0']"
      ],
      "execution_count": 10,
      "outputs": []
    },
    {
      "cell_type": "code",
      "metadata": {
        "id": "thheKfyzuYk0",
        "colab": {
          "base_uri": "https://localhost:8080/"
        },
        "outputId": "56ee872f-f885-4071-9c51-633abb6e3e81"
      },
      "source": [
        "df.shape"
      ],
      "execution_count": 11,
      "outputs": [
        {
          "output_type": "execute_result",
          "data": {
            "text/plain": [
              "(1007822, 2)"
            ]
          },
          "metadata": {
            "tags": []
          },
          "execution_count": 11
        }
      ]
    },
    {
      "cell_type": "code",
      "metadata": {
        "id": "sa5Fqzy4SBNR"
      },
      "source": [
        "def clean_data(log):\n",
        "    log = re.sub(\"'\", \"\", log)\n",
        "    log = re.sub(\"-\", \"\", log)\n",
        "    log = re.sub(\"_\", \"\", log)\n",
        "    log = re.sub(\"(\\\\W)+\", \" \", log)\n",
        "    log = log.lower()\n",
        "    return log"
      ],
      "execution_count": 12,
      "outputs": []
    },
    {
      "cell_type": "code",
      "metadata": {
        "id": "wQqZAi_F_kW7"
      },
      "source": [
        "df['log'] = df['log'].apply(clean_data)"
      ],
      "execution_count": 13,
      "outputs": []
    },
    {
      "cell_type": "markdown",
      "metadata": {
        "id": "t94COKNemxbH"
      },
      "source": [
        "* Split the dataset into train set 80% & test sets 20%"
      ]
    },
    {
      "cell_type": "code",
      "metadata": {
        "id": "9XTMjK1il01g"
      },
      "source": [
        "X_train, X_test, y_train, y_test = train_test_split(df['log'],df['label'], test_size=0.2,random_state=42)"
      ],
      "execution_count": 14,
      "outputs": []
    },
    {
      "cell_type": "markdown",
      "metadata": {
        "id": "sTZUqjFK4pqu"
      },
      "source": [
        "### CNN Processing Part:"
      ]
    },
    {
      "cell_type": "markdown",
      "metadata": {
        "id": "Fs6cPEVJDvFm"
      },
      "source": [
        "#### Preparing the Embedding Layer"
      ]
    },
    {
      "cell_type": "markdown",
      "metadata": {
        "id": "Y6erncuPFx81"
      },
      "source": [
        "nous utiliserons la classe Tokenizer du module keras.preprocessing.text pour créer un dictionnaire de word-to-index . Dans le dictionnaire, chaque mot est utilisé comme clé, tandis qu'un index unique correspondant est utilisé comme valeur pour la clé."
      ]
    },
    {
      "cell_type": "code",
      "metadata": {
        "id": "etXzifLgl1ua"
      },
      "source": [
        "tokenizer = Tokenizer()\n",
        "tokenizer.fit_on_texts(X_train)\n",
        "\n",
        "X_train = tokenizer.texts_to_sequences(X_train)\n",
        "X_test = tokenizer.texts_to_sequences(X_test)"
      ],
      "execution_count": 15,
      "outputs": []
    },
    {
      "cell_type": "markdown",
      "metadata": {
        "id": "TOo_yb2QGP2q"
      },
      "source": [
        "Nous fixons la taille maximale à 100. Les listes de taille supérieure à 100 seront tronquées à 100. Pour les listes dont la longueur est inférieure à 100, nous ajouterons 0 à la fin de la liste jusqu'à ce qu'elle atteigne la longueur maximale."
      ]
    },
    {
      "cell_type": "code",
      "metadata": {
        "id": "X-zUSi5Ll6HV"
      },
      "source": [
        "vocab_size = len(tokenizer.word_index) + 1\n",
        "\n",
        "maxlen = 100\n",
        "X_train = pad_sequences(X_train, padding='post', maxlen=maxlen)\n",
        "X_test = pad_sequences(X_test, padding='post', maxlen=maxlen)"
      ],
      "execution_count": 16,
      "outputs": []
    },
    {
      "cell_type": "markdown",
      "metadata": {
        "id": "04wvSErOG3FK"
      },
      "source": [
        "Nous utiliserons GloVe embeddings pour créer feature matrix, j'ai essayé d'importer Glove sur mon drive\n",
        "* vous pouvez la trouver sur : https://drive.google.com/file/d/17PIgUPWrXOLFbUYqTAnl1cgWqnWHgX1B/view?usp=sharing"
      ]
    },
    {
      "cell_type": "code",
      "metadata": {
        "id": "VriS9Fsrl-YA"
      },
      "source": [
        "from numpy import array\n",
        "from numpy import asarray\n",
        "from numpy import zeros\n",
        "\n",
        "glove_path=r'/gdrive/My Drive/glove.6B.100d.txt'\n",
        "embeddings_dictionary = dict()\n",
        "glove_file = open(glove_path, encoding=\"utf8\")\n",
        "\n",
        "for line in glove_file:\n",
        "    records = line.split()\n",
        "    word = records[0]\n",
        "    vector_dimensions = asarray(records[1:], dtype='float32')\n",
        "    embeddings_dictionary [word] = vector_dimensions\n",
        "glove_file.close()"
      ],
      "execution_count": 17,
      "outputs": []
    },
    {
      "cell_type": "markdown",
      "metadata": {
        "id": "jxW3vnn6INGC"
      },
      "source": [
        "Enfin, nous allons créer une embedding matrix où chaque numéro de ligne correspondra à l'index du mot. La matrice aura 100 colonnes où chaque colonne contiendra les embeddings de mots GloVe."
      ]
    },
    {
      "cell_type": "code",
      "metadata": {
        "id": "EjvP0cNlmEvK"
      },
      "source": [
        "embedding_matrix = zeros((vocab_size,100))\n",
        "for word, index in tokenizer.word_index.items():\n",
        "    embedding_vector = embeddings_dictionary.get(word)\n",
        "    if embedding_vector is not None:\n",
        "      embedding_matrix[index] = embedding_vector"
      ],
      "execution_count": 18,
      "outputs": []
    },
    {
      "cell_type": "markdown",
      "metadata": {
        "id": "AAG-IbUc59uV"
      },
      "source": [
        "### Bert Processing Part:"
      ]
    },
    {
      "cell_type": "markdown",
      "metadata": {
        "id": "WAsvx_cr8OS9"
      },
      "source": [
        "### Build a BERT Layer"
      ]
    },
    {
      "cell_type": "code",
      "metadata": {
        "id": "ENRgLwLVKZZj",
        "colab": {
          "base_uri": "https://localhost:8080/"
        },
        "outputId": "f622f1a8-b993-4b4c-e5b3-3aad7530b674"
      },
      "source": [
        "import tensorflow as tf\n",
        "from tensorflow.keras.layers import MaxPooling1D,Conv1D,GlobalMaxPooling1D\n",
        "from tensorflow.keras.models import Sequential, Model\n",
        "from tensorflow.keras.layers import Activation, Dense, Dropout, Flatten, Input,Concatenate\n",
        "import tensorflow_hub as hub\n",
        "module_url = 'https://tfhub.dev/tensorflow/bert_en_uncased_L-12_H-768_A-12/2'\n",
        "bert_layer = hub.KerasLayer(module_url, trainable=True)"
      ],
      "execution_count": 19,
      "outputs": [
        {
          "output_type": "stream",
          "text": [
            "INFO:absl:Using /tmp/tfhub_modules to cache modules.\n",
            "INFO:absl:Downloading TF-Hub Module 'https://tfhub.dev/tensorflow/bert_en_uncased_L-12_H-768_A-12/2'.\n",
            "INFO:absl:Downloaded https://tfhub.dev/tensorflow/bert_en_uncased_L-12_H-768_A-12/2, Total size: 421.50MB\n",
            "INFO:absl:Downloaded TF-Hub Module 'https://tfhub.dev/tensorflow/bert_en_uncased_L-12_H-768_A-12/2'.\n"
          ],
          "name": "stderr"
        }
      ]
    },
    {
      "cell_type": "markdown",
      "metadata": {
        "id": "Axwnig5jKz1Z"
      },
      "source": [
        "### **PS: Pour Bert layer:**\n",
        "* Inputs:\n",
        "\n",
        "a) input token ids (tokenizer convertir les tokens à l'aide d'un vocab file)\n",
        "\n",
        "b) input masks (1 pour vrai tokens, 0 pour padding)\n",
        "\n",
        "c) segment ids (for 2 text training: 0 for the first one, 1 for the second one)\n",
        "\n",
        "* Outputs:\n",
        "\n",
        "a) pooled_output: shape [batch_size, 768] avec des représentations pour input sequences\n",
        "\n",
        "b) sequence_output: shape [batch_size, max_len, 768] avec des représentation pour chaque input token"
      ]
    },
    {
      "cell_type": "markdown",
      "metadata": {
        "id": "TVOrNhhKsfMx"
      },
      "source": [
        "### Bert Tokenization "
      ]
    },
    {
      "cell_type": "markdown",
      "metadata": {
        "id": "UR8otIdCFf0y"
      },
      "source": [
        "* Bert accepte un type spécifique des inputs pour y répondre nous sommes tenus de:\n",
        "1. Ajouter des tokens spéciaux au début[CLS] et à la fin[SEP] de chaque log.\n",
        "2. Compléter et tronquer toutes les logs à une seule longueur constante \"padding\".\n",
        "3. Différencier explicitement les vrais tokens des tokens de remplissage avec le \"attention mask\" 1 vrai 0 vide.\n"
      ]
    },
    {
      "cell_type": "code",
      "metadata": {
        "id": "DmGLYThLMuG4",
        "colab": {
          "base_uri": "https://localhost:8080/"
        },
        "outputId": "eec3ab36-03f5-44e7-d22c-07528ff5e2a9"
      },
      "source": [
        "!pip install sentencepiece"
      ],
      "execution_count": 20,
      "outputs": [
        {
          "output_type": "stream",
          "text": [
            "Collecting sentencepiece\n",
            "\u001b[?25l  Downloading https://files.pythonhosted.org/packages/ac/aa/1437691b0c7c83086ebb79ce2da16e00bef024f24fec2a5161c35476f499/sentencepiece-0.1.96-cp37-cp37m-manylinux_2_17_x86_64.manylinux2014_x86_64.whl (1.2MB)\n",
            "\u001b[K     |████████████████████████████████| 1.2MB 4.2MB/s \n",
            "\u001b[?25hInstalling collected packages: sentencepiece\n",
            "Successfully installed sentencepiece-0.1.96\n"
          ],
          "name": "stdout"
        }
      ]
    },
    {
      "cell_type": "code",
      "metadata": {
        "id": "R2mObaFwEETF"
      },
      "source": [
        "!wget --quiet https://raw.githubusercontent.com/tensorflow/models/master/official/nlp/bert/tokenization.py\n",
        "import tokenization"
      ],
      "execution_count": 21,
      "outputs": []
    },
    {
      "cell_type": "markdown",
      "metadata": {
        "id": "gRBYU10-NvYF"
      },
      "source": [
        "Importons le tokenizer à l'aide du vocab file d'origine, écrivons tous les mots en minuscules, puis tokenisons les logs."
      ]
    },
    {
      "cell_type": "code",
      "metadata": {
        "id": "0O7azPH2KZAa"
      },
      "source": [
        "vocab_file = bert_layer.resolved_object.vocab_file.asset_path.numpy()\n",
        "do_lower_case = bert_layer.resolved_object.do_lower_case.numpy()\n",
        "tokenizer = tokenization.FullTokenizer(vocab_file, do_lower_case)\n",
        "\n",
        "def bert_encode(texts, tokenizer, max_len=100):\n",
        "    all_tokens = []\n",
        "    all_masks = []\n",
        "    all_segments = []\n",
        "    \n",
        "    for text in texts:\n",
        "        text = tokenizer.tokenize(text)\n",
        "            \n",
        "        text = text[:max_len-2]\n",
        "        input_sequence = [\"[CLS]\"] + text + [\"[SEP]\"]\n",
        "        pad_len = max_len - len(input_sequence)\n",
        "        \n",
        "        tokens = tokenizer.convert_tokens_to_ids(input_sequence) + [0] * pad_len\n",
        "        pad_masks = [1] * len(input_sequence) + [0] * pad_len\n",
        "        segment_ids = [0] * max_len\n",
        "        \n",
        "        all_tokens.append(tokens)\n",
        "        all_masks.append(pad_masks)\n",
        "        all_segments.append(segment_ids)\n",
        "    \n",
        "    return np.array(all_tokens), np.array(all_masks), np.array(all_segments)"
      ],
      "execution_count": 22,
      "outputs": []
    },
    {
      "cell_type": "code",
      "metadata": {
        "id": "YNcgvXpSvcSx"
      },
      "source": [
        "X_train0, X_test0, y_train0, y_test0 = train_test_split(df['log'],df['label'], test_size=0.2,random_state=42)"
      ],
      "execution_count": 23,
      "outputs": []
    },
    {
      "cell_type": "code",
      "metadata": {
        "id": "ZpEeHgqLvTAr"
      },
      "source": [
        "max_len = 100\n",
        "train_input = bert_encode(X_train0, tokenizer, max_len=max_len)\n",
        "test_input = bert_encode(X_test0, tokenizer, max_len=max_len)"
      ],
      "execution_count": 24,
      "outputs": []
    },
    {
      "cell_type": "markdown",
      "metadata": {
        "id": "ylqKV-TlU235"
      },
      "source": [
        " ### **Building the Model**"
      ]
    },
    {
      "cell_type": "markdown",
      "metadata": {
        "id": "WOj0pvKRWhsv"
      },
      "source": [
        "Avant de voir l'architecture du modèle clarifions quelques choses\n",
        "Prenons un exemple de \"I am fine\".\n",
        "\n",
        "Avant de le transmettre au modèle bert, nous devons ajouter le token [CLS] au début et le token [SEP] à la fin de la phrase.\n",
        "\n",
        "Maintenant, la phrase est \"[CLS] I am fine [SEP]\".\n",
        "\n",
        "Maintenant, si nous donnons la phrase ci-dessus à Bert layer, nous obtiendrons 768 dimension embedding pour chaque token dans le log. Alors, \"sequence output\" donnera une sortie de dimension [1, 5, 768] puisqu'il y a 5 tokens dont [CLS] et [SEP] et \"pooled output\" donnera une sortie de dimension [1, 1, 768] qui est l'embedding de [CLS] token.\n"
      ]
    },
    {
      "cell_type": "code",
      "metadata": {
        "id": "wXI-ZEX2Qm9m"
      },
      "source": [
        "def AElog():\n",
        "    max_len=100\n",
        "    #Bert layer input a besoin des trois vect (input_word_ids,input_mask,segment_ids)\n",
        "    input_word_ids = tf.keras.Input(shape=(max_len,), dtype=tf.int32, name=\"input_word_ids\")\n",
        "\n",
        "    input_mask = tf.keras.Input(shape=(max_len,), dtype=tf.int32, name=\"input_mask\")\n",
        "    \n",
        "    segment_ids = tf.keras.Input(shape=(max_len,), dtype=tf.int32, name=\"segment_ids\")\n",
        "    # Créer un Bert layer\n",
        "    pooled_output, sequence_output = bert_layer([input_word_ids, input_mask, segment_ids])\n",
        "    # CLS \n",
        "    cls_output = pooled_output\n",
        "    #CNN Part\n",
        "    ###Building the Model. \n",
        "    input_tensor = Input(shape=(100,))\n",
        "    # Créer un embedding layer(2D)\n",
        "    input_layer= Embedding(vocab_size,100, weights=[embedding_matrix], input_length=maxlen , trainable=False)(input_tensor)\n",
        "    #liste où on va stocker l'output\n",
        "    uni_vec = []\n",
        "    #nous allons utiliser 3 filtres avec des n-grams différents( 2-grams, 3-grams, 4-grams)\n",
        "    filter_sizes = (2,3,4)\n",
        "    for ks in filter_sizes:\n",
        "    #applique 3 convolutions différents à l'embedding layer\n",
        "      conv_layer= Conv1D(128, kernel_size=ks, activation='relu')(input_layer)\n",
        "      maxpool_layer = MaxPooling1D(pool_size=maxlen-ks+1,strides=None, padding='valid')(conv_layer)\n",
        "      flat_layer= Flatten()(maxpool_layer)\n",
        "      uni_vec.append(flat_layer)\n",
        "    # concatiner les outputs de CNN\n",
        "    single_feature_vector = keras.layers.concatenate(uni_vec)\n",
        "    #AElog:\n",
        "    #nous allons concatiner l'output de BERT \"CLS\" et l'output de CNN \"single_feature_vector\"\n",
        "    outp = tf.keras.layers.concatenate([cls_output, single_feature_vector])\n",
        "    #AElog fully Connected Layers\n",
        "    dense = Dense(128, activation='relu')(outp)\n",
        "    dense2 = Dense(128, activation='relu')(dense)\n",
        "    out = Dense(1, activation='sigmoid')(dense2)\n",
        "    #input de CNN input_tensor\n",
        "    input1=input_tensor\n",
        "    #input de Bert layers et input_word_ids, input_mask, segment_ids\n",
        "    input2=[input_word_ids, input_mask, segment_ids]\n",
        "    # donc input du models est les 2\n",
        "    model = Model(inputs=[input1,input2],outputs=out)\n",
        "   #Compile Model\n",
        "    model.compile(tf.keras.optimizers.Adam(lr=1e-5), loss='binary_crossentropy', metrics=['accuracy'])\n",
        "    return model"
      ],
      "execution_count": 25,
      "outputs": []
    },
    {
      "cell_type": "code",
      "metadata": {
        "id": "uMEWeF39TJlt"
      },
      "source": [
        "model = AElog()"
      ],
      "execution_count": 26,
      "outputs": []
    },
    {
      "cell_type": "code",
      "metadata": {
        "id": "FcmAdGXj9ssj",
        "colab": {
          "base_uri": "https://localhost:8080/",
          "height": 1000
        },
        "outputId": "d3fd53ee-2a8f-4abb-f194-f1f47ba2c4c4"
      },
      "source": [
        "from IPython.display import SVG\n",
        "SVG(tf.keras.utils.model_to_dot(model, show_shapes=True, show_layer_names=True, dpi=65).create(prog='dot', format='svg'))"
      ],
      "execution_count": 27,
      "outputs": [
        {
          "output_type": "execute_result",
          "data": {
            "text/plain": [
              "<IPython.core.display.SVG object>"
            ],
            "image/svg+xml": "<svg height=\"724pt\" viewBox=\"0.00 0.00 1880.00 802.00\" width=\"1697pt\" xmlns=\"http://www.w3.org/2000/svg\" xmlns:xlink=\"http://www.w3.org/1999/xlink\">\n<g class=\"graph\" id=\"graph0\" transform=\"scale(.9028 .9028) rotate(0) translate(4 798)\">\n<title>G</title>\n<polygon fill=\"#ffffff\" points=\"-4,4 -4,-798 1876,-798 1876,4 -4,4\" stroke=\"transparent\"/>\n<!-- 140302947310288 -->\n<g class=\"node\" id=\"node1\">\n<title>140302947310288</title>\n<polygon fill=\"none\" points=\"417,-747.5 417,-793.5 679,-793.5 679,-747.5 417,-747.5\" stroke=\"#000000\"/>\n<text fill=\"#000000\" font-family=\"Times,serif\" font-size=\"14.00\" text-anchor=\"middle\" x=\"483.5\" y=\"-766.8\">input_1: InputLayer</text>\n<polyline fill=\"none\" points=\"550,-747.5 550,-793.5 \" stroke=\"#000000\"/>\n<text fill=\"#000000\" font-family=\"Times,serif\" font-size=\"14.00\" text-anchor=\"middle\" x=\"579\" y=\"-778.3\">input:</text>\n<polyline fill=\"none\" points=\"550,-770.5 608,-770.5 \" stroke=\"#000000\"/>\n<text fill=\"#000000\" font-family=\"Times,serif\" font-size=\"14.00\" text-anchor=\"middle\" x=\"579\" y=\"-755.3\">output:</text>\n<polyline fill=\"none\" points=\"608,-747.5 608,-793.5 \" stroke=\"#000000\"/>\n<text fill=\"#000000\" font-family=\"Times,serif\" font-size=\"14.00\" text-anchor=\"middle\" x=\"643.5\" y=\"-778.3\">[(?, 100)]</text>\n<polyline fill=\"none\" points=\"608,-770.5 679,-770.5 \" stroke=\"#000000\"/>\n<text fill=\"#000000\" font-family=\"Times,serif\" font-size=\"14.00\" text-anchor=\"middle\" x=\"643.5\" y=\"-755.3\">[(?, 100)]</text>\n</g>\n<!-- 140300778680592 -->\n<g class=\"node\" id=\"node2\">\n<title>140300778680592</title>\n<polygon fill=\"none\" points=\"395,-664.5 395,-710.5 701,-710.5 701,-664.5 395,-664.5\" stroke=\"#000000\"/>\n<text fill=\"#000000\" font-family=\"Times,serif\" font-size=\"14.00\" text-anchor=\"middle\" x=\"473\" y=\"-683.8\">embedding: Embedding</text>\n<polyline fill=\"none\" points=\"551,-664.5 551,-710.5 \" stroke=\"#000000\"/>\n<text fill=\"#000000\" font-family=\"Times,serif\" font-size=\"14.00\" text-anchor=\"middle\" x=\"580\" y=\"-695.3\">input:</text>\n<polyline fill=\"none\" points=\"551,-687.5 609,-687.5 \" stroke=\"#000000\"/>\n<text fill=\"#000000\" font-family=\"Times,serif\" font-size=\"14.00\" text-anchor=\"middle\" x=\"580\" y=\"-672.3\">output:</text>\n<polyline fill=\"none\" points=\"609,-664.5 609,-710.5 \" stroke=\"#000000\"/>\n<text fill=\"#000000\" font-family=\"Times,serif\" font-size=\"14.00\" text-anchor=\"middle\" x=\"655\" y=\"-695.3\">(?, 100)</text>\n<polyline fill=\"none\" points=\"609,-687.5 701,-687.5 \" stroke=\"#000000\"/>\n<text fill=\"#000000\" font-family=\"Times,serif\" font-size=\"14.00\" text-anchor=\"middle\" x=\"655\" y=\"-672.3\">(?, 100, 100)</text>\n</g>\n<!-- 140302947310288&#45;&gt;140300778680592 -->\n<g class=\"edge\" id=\"edge1\">\n<title>140302947310288-&gt;140300778680592</title>\n<path d=\"M548,-747.3799C548,-739.1745 548,-729.7679 548,-720.8786\" fill=\"none\" stroke=\"#000000\"/>\n<polygon fill=\"#000000\" points=\"551.5001,-720.784 548,-710.784 544.5001,-720.784 551.5001,-720.784\" stroke=\"#000000\"/>\n</g>\n<!-- 140302946905424 -->\n<g class=\"node\" id=\"node3\">\n<title>140302946905424</title>\n<polygon fill=\"none\" points=\"80,-581.5 80,-627.5 348,-627.5 348,-581.5 80,-581.5\" stroke=\"#000000\"/>\n<text fill=\"#000000\" font-family=\"Times,serif\" font-size=\"14.00\" text-anchor=\"middle\" x=\"139\" y=\"-600.8\">conv1d: Conv1D</text>\n<polyline fill=\"none\" points=\"198,-581.5 198,-627.5 \" stroke=\"#000000\"/>\n<text fill=\"#000000\" font-family=\"Times,serif\" font-size=\"14.00\" text-anchor=\"middle\" x=\"227\" y=\"-612.3\">input:</text>\n<polyline fill=\"none\" points=\"198,-604.5 256,-604.5 \" stroke=\"#000000\"/>\n<text fill=\"#000000\" font-family=\"Times,serif\" font-size=\"14.00\" text-anchor=\"middle\" x=\"227\" y=\"-589.3\">output:</text>\n<polyline fill=\"none\" points=\"256,-581.5 256,-627.5 \" stroke=\"#000000\"/>\n<text fill=\"#000000\" font-family=\"Times,serif\" font-size=\"14.00\" text-anchor=\"middle\" x=\"302\" y=\"-612.3\">(?, 100, 100)</text>\n<polyline fill=\"none\" points=\"256,-604.5 348,-604.5 \" stroke=\"#000000\"/>\n<text fill=\"#000000\" font-family=\"Times,serif\" font-size=\"14.00\" text-anchor=\"middle\" x=\"302\" y=\"-589.3\">(?, 99, 128)</text>\n</g>\n<!-- 140300778680592&#45;&gt;140302946905424 -->\n<g class=\"edge\" id=\"edge2\">\n<title>140300778680592-&gt;140302946905424</title>\n<path d=\"M455.4059,-664.4901C412.3299,-653.7856 360.9519,-641.018 316.6884,-630.0184\" fill=\"none\" stroke=\"#000000\"/>\n<polygon fill=\"#000000\" points=\"317.3231,-626.5697 306.7742,-627.5547 315.6349,-633.3631 317.3231,-626.5697\" stroke=\"#000000\"/>\n</g>\n<!-- 140299657769296 -->\n<g class=\"node\" id=\"node4\">\n<title>140299657769296</title>\n<polygon fill=\"none\" points=\"406.5,-581.5 406.5,-627.5 689.5,-627.5 689.5,-581.5 406.5,-581.5\" stroke=\"#000000\"/>\n<text fill=\"#000000\" font-family=\"Times,serif\" font-size=\"14.00\" text-anchor=\"middle\" x=\"473\" y=\"-600.8\">conv1d_1: Conv1D</text>\n<polyline fill=\"none\" points=\"539.5,-581.5 539.5,-627.5 \" stroke=\"#000000\"/>\n<text fill=\"#000000\" font-family=\"Times,serif\" font-size=\"14.00\" text-anchor=\"middle\" x=\"568.5\" y=\"-612.3\">input:</text>\n<polyline fill=\"none\" points=\"539.5,-604.5 597.5,-604.5 \" stroke=\"#000000\"/>\n<text fill=\"#000000\" font-family=\"Times,serif\" font-size=\"14.00\" text-anchor=\"middle\" x=\"568.5\" y=\"-589.3\">output:</text>\n<polyline fill=\"none\" points=\"597.5,-581.5 597.5,-627.5 \" stroke=\"#000000\"/>\n<text fill=\"#000000\" font-family=\"Times,serif\" font-size=\"14.00\" text-anchor=\"middle\" x=\"643.5\" y=\"-612.3\">(?, 100, 100)</text>\n<polyline fill=\"none\" points=\"597.5,-604.5 689.5,-604.5 \" stroke=\"#000000\"/>\n<text fill=\"#000000\" font-family=\"Times,serif\" font-size=\"14.00\" text-anchor=\"middle\" x=\"643.5\" y=\"-589.3\">(?, 98, 128)</text>\n</g>\n<!-- 140300778680592&#45;&gt;140299657769296 -->\n<g class=\"edge\" id=\"edge3\">\n<title>140300778680592-&gt;140299657769296</title>\n<path d=\"M548,-664.3799C548,-656.1745 548,-646.7679 548,-637.8786\" fill=\"none\" stroke=\"#000000\"/>\n<polygon fill=\"#000000\" points=\"551.5001,-637.784 548,-627.784 544.5001,-637.784 551.5001,-637.784\" stroke=\"#000000\"/>\n</g>\n<!-- 140302947127632 -->\n<g class=\"node\" id=\"node5\">\n<title>140302947127632</title>\n<polygon fill=\"none\" points=\"747.5,-581.5 747.5,-627.5 1030.5,-627.5 1030.5,-581.5 747.5,-581.5\" stroke=\"#000000\"/>\n<text fill=\"#000000\" font-family=\"Times,serif\" font-size=\"14.00\" text-anchor=\"middle\" x=\"814\" y=\"-600.8\">conv1d_2: Conv1D</text>\n<polyline fill=\"none\" points=\"880.5,-581.5 880.5,-627.5 \" stroke=\"#000000\"/>\n<text fill=\"#000000\" font-family=\"Times,serif\" font-size=\"14.00\" text-anchor=\"middle\" x=\"909.5\" y=\"-612.3\">input:</text>\n<polyline fill=\"none\" points=\"880.5,-604.5 938.5,-604.5 \" stroke=\"#000000\"/>\n<text fill=\"#000000\" font-family=\"Times,serif\" font-size=\"14.00\" text-anchor=\"middle\" x=\"909.5\" y=\"-589.3\">output:</text>\n<polyline fill=\"none\" points=\"938.5,-581.5 938.5,-627.5 \" stroke=\"#000000\"/>\n<text fill=\"#000000\" font-family=\"Times,serif\" font-size=\"14.00\" text-anchor=\"middle\" x=\"984.5\" y=\"-612.3\">(?, 100, 100)</text>\n<polyline fill=\"none\" points=\"938.5,-604.5 1030.5,-604.5 \" stroke=\"#000000\"/>\n<text fill=\"#000000\" font-family=\"Times,serif\" font-size=\"14.00\" text-anchor=\"middle\" x=\"984.5\" y=\"-589.3\">(?, 97, 128)</text>\n</g>\n<!-- 140300778680592&#45;&gt;140302947127632 -->\n<g class=\"edge\" id=\"edge4\">\n<title>140300778680592-&gt;140302947127632</title>\n<path d=\"M642.5347,-664.4901C686.6059,-653.7631 739.1887,-640.9643 784.4442,-629.9491\" fill=\"none\" stroke=\"#000000\"/>\n<polygon fill=\"#000000\" points=\"785.3929,-633.3204 794.2814,-627.5547 783.7373,-626.519 785.3929,-633.3204\" stroke=\"#000000\"/>\n</g>\n<!-- 140300778377424 -->\n<g class=\"node\" id=\"node6\">\n<title>140300778377424</title>\n<polygon fill=\"none\" points=\"0,-498.5 0,-544.5 348,-544.5 348,-498.5 0,-498.5\" stroke=\"#000000\"/>\n<text fill=\"#000000\" font-family=\"Times,serif\" font-size=\"14.00\" text-anchor=\"middle\" x=\"103\" y=\"-517.8\">max_pooling1d: MaxPooling1D</text>\n<polyline fill=\"none\" points=\"206,-498.5 206,-544.5 \" stroke=\"#000000\"/>\n<text fill=\"#000000\" font-family=\"Times,serif\" font-size=\"14.00\" text-anchor=\"middle\" x=\"235\" y=\"-529.3\">input:</text>\n<polyline fill=\"none\" points=\"206,-521.5 264,-521.5 \" stroke=\"#000000\"/>\n<text fill=\"#000000\" font-family=\"Times,serif\" font-size=\"14.00\" text-anchor=\"middle\" x=\"235\" y=\"-506.3\">output:</text>\n<polyline fill=\"none\" points=\"264,-498.5 264,-544.5 \" stroke=\"#000000\"/>\n<text fill=\"#000000\" font-family=\"Times,serif\" font-size=\"14.00\" text-anchor=\"middle\" x=\"306\" y=\"-529.3\">(?, 99, 128)</text>\n<polyline fill=\"none\" points=\"264,-521.5 348,-521.5 \" stroke=\"#000000\"/>\n<text fill=\"#000000\" font-family=\"Times,serif\" font-size=\"14.00\" text-anchor=\"middle\" x=\"306\" y=\"-506.3\">(?, 1, 128)</text>\n</g>\n<!-- 140302946905424&#45;&gt;140300778377424 -->\n<g class=\"edge\" id=\"edge5\">\n<title>140302946905424-&gt;140300778377424</title>\n<path d=\"M202.8578,-581.3799C198.7744,-572.907 194.0738,-563.1531 189.6678,-554.0107\" fill=\"none\" stroke=\"#000000\"/>\n<polygon fill=\"#000000\" points=\"192.7156,-552.2729 185.2212,-544.784 186.4097,-555.312 192.7156,-552.2729\" stroke=\"#000000\"/>\n</g>\n<!-- 140300778498768 -->\n<g class=\"node\" id=\"node7\">\n<title>140300778498768</title>\n<polygon fill=\"none\" points=\"366.5,-498.5 366.5,-544.5 729.5,-544.5 729.5,-498.5 366.5,-498.5\" stroke=\"#000000\"/>\n<text fill=\"#000000\" font-family=\"Times,serif\" font-size=\"14.00\" text-anchor=\"middle\" x=\"477\" y=\"-517.8\">max_pooling1d_1: MaxPooling1D</text>\n<polyline fill=\"none\" points=\"587.5,-498.5 587.5,-544.5 \" stroke=\"#000000\"/>\n<text fill=\"#000000\" font-family=\"Times,serif\" font-size=\"14.00\" text-anchor=\"middle\" x=\"616.5\" y=\"-529.3\">input:</text>\n<polyline fill=\"none\" points=\"587.5,-521.5 645.5,-521.5 \" stroke=\"#000000\"/>\n<text fill=\"#000000\" font-family=\"Times,serif\" font-size=\"14.00\" text-anchor=\"middle\" x=\"616.5\" y=\"-506.3\">output:</text>\n<polyline fill=\"none\" points=\"645.5,-498.5 645.5,-544.5 \" stroke=\"#000000\"/>\n<text fill=\"#000000\" font-family=\"Times,serif\" font-size=\"14.00\" text-anchor=\"middle\" x=\"687.5\" y=\"-529.3\">(?, 98, 128)</text>\n<polyline fill=\"none\" points=\"645.5,-521.5 729.5,-521.5 \" stroke=\"#000000\"/>\n<text fill=\"#000000\" font-family=\"Times,serif\" font-size=\"14.00\" text-anchor=\"middle\" x=\"687.5\" y=\"-506.3\">(?, 1, 128)</text>\n</g>\n<!-- 140299657769296&#45;&gt;140300778498768 -->\n<g class=\"edge\" id=\"edge6\">\n<title>140299657769296-&gt;140300778498768</title>\n<path d=\"M548,-581.3799C548,-573.1745 548,-563.7679 548,-554.8786\" fill=\"none\" stroke=\"#000000\"/>\n<polygon fill=\"#000000\" points=\"551.5001,-554.784 548,-544.784 544.5001,-554.784 551.5001,-554.784\" stroke=\"#000000\"/>\n</g>\n<!-- 140303003573712 -->\n<g class=\"node\" id=\"node8\">\n<title>140303003573712</title>\n<polygon fill=\"none\" points=\"747.5,-498.5 747.5,-544.5 1110.5,-544.5 1110.5,-498.5 747.5,-498.5\" stroke=\"#000000\"/>\n<text fill=\"#000000\" font-family=\"Times,serif\" font-size=\"14.00\" text-anchor=\"middle\" x=\"858\" y=\"-517.8\">max_pooling1d_2: MaxPooling1D</text>\n<polyline fill=\"none\" points=\"968.5,-498.5 968.5,-544.5 \" stroke=\"#000000\"/>\n<text fill=\"#000000\" font-family=\"Times,serif\" font-size=\"14.00\" text-anchor=\"middle\" x=\"997.5\" y=\"-529.3\">input:</text>\n<polyline fill=\"none\" points=\"968.5,-521.5 1026.5,-521.5 \" stroke=\"#000000\"/>\n<text fill=\"#000000\" font-family=\"Times,serif\" font-size=\"14.00\" text-anchor=\"middle\" x=\"997.5\" y=\"-506.3\">output:</text>\n<polyline fill=\"none\" points=\"1026.5,-498.5 1026.5,-544.5 \" stroke=\"#000000\"/>\n<text fill=\"#000000\" font-family=\"Times,serif\" font-size=\"14.00\" text-anchor=\"middle\" x=\"1068.5\" y=\"-529.3\">(?, 97, 128)</text>\n<polyline fill=\"none\" points=\"1026.5,-521.5 1110.5,-521.5 \" stroke=\"#000000\"/>\n<text fill=\"#000000\" font-family=\"Times,serif\" font-size=\"14.00\" text-anchor=\"middle\" x=\"1068.5\" y=\"-506.3\">(?, 1, 128)</text>\n</g>\n<!-- 140302947127632&#45;&gt;140303003573712 -->\n<g class=\"edge\" id=\"edge7\">\n<title>140302947127632-&gt;140303003573712</title>\n<path d=\"M900.1422,-581.3799C904.2256,-572.907 908.9262,-563.1531 913.3322,-554.0107\" fill=\"none\" stroke=\"#000000\"/>\n<polygon fill=\"#000000\" points=\"916.5903,-555.312 917.7788,-544.784 910.2844,-552.2729 916.5903,-555.312\" stroke=\"#000000\"/>\n</g>\n<!-- 140303003580304 -->\n<g class=\"node\" id=\"node12\">\n<title>140303003580304</title>\n<polygon fill=\"none\" points=\"115.5,-415.5 115.5,-461.5 348.5,-461.5 348.5,-415.5 115.5,-415.5\" stroke=\"#000000\"/>\n<text fill=\"#000000\" font-family=\"Times,serif\" font-size=\"14.00\" text-anchor=\"middle\" x=\"164.5\" y=\"-434.8\">flatten: Flatten</text>\n<polyline fill=\"none\" points=\"213.5,-415.5 213.5,-461.5 \" stroke=\"#000000\"/>\n<text fill=\"#000000\" font-family=\"Times,serif\" font-size=\"14.00\" text-anchor=\"middle\" x=\"242.5\" y=\"-446.3\">input:</text>\n<polyline fill=\"none\" points=\"213.5,-438.5 271.5,-438.5 \" stroke=\"#000000\"/>\n<text fill=\"#000000\" font-family=\"Times,serif\" font-size=\"14.00\" text-anchor=\"middle\" x=\"242.5\" y=\"-423.3\">output:</text>\n<polyline fill=\"none\" points=\"271.5,-415.5 271.5,-461.5 \" stroke=\"#000000\"/>\n<text fill=\"#000000\" font-family=\"Times,serif\" font-size=\"14.00\" text-anchor=\"middle\" x=\"310\" y=\"-446.3\">(?, 1, 128)</text>\n<polyline fill=\"none\" points=\"271.5,-438.5 348.5,-438.5 \" stroke=\"#000000\"/>\n<text fill=\"#000000\" font-family=\"Times,serif\" font-size=\"14.00\" text-anchor=\"middle\" x=\"310\" y=\"-423.3\">(?, 128)</text>\n</g>\n<!-- 140300778377424&#45;&gt;140303003580304 -->\n<g class=\"edge\" id=\"edge8\">\n<title>140300778377424-&gt;140303003580304</title>\n<path d=\"M190.1562,-498.3799C196.264,-489.6394 203.3244,-479.5358 209.8856,-470.1465\" fill=\"none\" stroke=\"#000000\"/>\n<polygon fill=\"#000000\" points=\"212.8702,-471.9858 215.7292,-461.784 207.1323,-467.9762 212.8702,-471.9858\" stroke=\"#000000\"/>\n</g>\n<!-- 140300778499600 -->\n<g class=\"node\" id=\"node13\">\n<title>140300778499600</title>\n<polygon fill=\"none\" points=\"424,-415.5 424,-461.5 672,-461.5 672,-415.5 424,-415.5\" stroke=\"#000000\"/>\n<text fill=\"#000000\" font-family=\"Times,serif\" font-size=\"14.00\" text-anchor=\"middle\" x=\"480.5\" y=\"-434.8\">flatten_1: Flatten</text>\n<polyline fill=\"none\" points=\"537,-415.5 537,-461.5 \" stroke=\"#000000\"/>\n<text fill=\"#000000\" font-family=\"Times,serif\" font-size=\"14.00\" text-anchor=\"middle\" x=\"566\" y=\"-446.3\">input:</text>\n<polyline fill=\"none\" points=\"537,-438.5 595,-438.5 \" stroke=\"#000000\"/>\n<text fill=\"#000000\" font-family=\"Times,serif\" font-size=\"14.00\" text-anchor=\"middle\" x=\"566\" y=\"-423.3\">output:</text>\n<polyline fill=\"none\" points=\"595,-415.5 595,-461.5 \" stroke=\"#000000\"/>\n<text fill=\"#000000\" font-family=\"Times,serif\" font-size=\"14.00\" text-anchor=\"middle\" x=\"633.5\" y=\"-446.3\">(?, 1, 128)</text>\n<polyline fill=\"none\" points=\"595,-438.5 672,-438.5 \" stroke=\"#000000\"/>\n<text fill=\"#000000\" font-family=\"Times,serif\" font-size=\"14.00\" text-anchor=\"middle\" x=\"633.5\" y=\"-423.3\">(?, 128)</text>\n</g>\n<!-- 140300778498768&#45;&gt;140300778499600 -->\n<g class=\"edge\" id=\"edge9\">\n<title>140300778498768-&gt;140300778499600</title>\n<path d=\"M548,-498.3799C548,-490.1745 548,-480.7679 548,-471.8786\" fill=\"none\" stroke=\"#000000\"/>\n<polygon fill=\"#000000\" points=\"551.5001,-471.784 548,-461.784 544.5001,-471.784 551.5001,-471.784\" stroke=\"#000000\"/>\n</g>\n<!-- 140302999181072 -->\n<g class=\"node\" id=\"node14\">\n<title>140302999181072</title>\n<polygon fill=\"none\" points=\"690,-415.5 690,-461.5 938,-461.5 938,-415.5 690,-415.5\" stroke=\"#000000\"/>\n<text fill=\"#000000\" font-family=\"Times,serif\" font-size=\"14.00\" text-anchor=\"middle\" x=\"746.5\" y=\"-434.8\">flatten_2: Flatten</text>\n<polyline fill=\"none\" points=\"803,-415.5 803,-461.5 \" stroke=\"#000000\"/>\n<text fill=\"#000000\" font-family=\"Times,serif\" font-size=\"14.00\" text-anchor=\"middle\" x=\"832\" y=\"-446.3\">input:</text>\n<polyline fill=\"none\" points=\"803,-438.5 861,-438.5 \" stroke=\"#000000\"/>\n<text fill=\"#000000\" font-family=\"Times,serif\" font-size=\"14.00\" text-anchor=\"middle\" x=\"832\" y=\"-423.3\">output:</text>\n<polyline fill=\"none\" points=\"861,-415.5 861,-461.5 \" stroke=\"#000000\"/>\n<text fill=\"#000000\" font-family=\"Times,serif\" font-size=\"14.00\" text-anchor=\"middle\" x=\"899.5\" y=\"-446.3\">(?, 1, 128)</text>\n<polyline fill=\"none\" points=\"861,-438.5 938,-438.5 \" stroke=\"#000000\"/>\n<text fill=\"#000000\" font-family=\"Times,serif\" font-size=\"14.00\" text-anchor=\"middle\" x=\"899.5\" y=\"-423.3\">(?, 128)</text>\n</g>\n<!-- 140303003573712&#45;&gt;140302999181072 -->\n<g class=\"edge\" id=\"edge10\">\n<title>140303003573712-&gt;140302999181072</title>\n<path d=\"M896.9661,-498.3799C883.8672,-488.9259 868.5588,-477.8772 854.6829,-467.8625\" fill=\"none\" stroke=\"#000000\"/>\n<polygon fill=\"#000000\" points=\"856.418,-464.7983 846.261,-461.784 852.3213,-470.4744 856.418,-464.7983\" stroke=\"#000000\"/>\n</g>\n<!-- 140302878609360 -->\n<g class=\"node\" id=\"node9\">\n<title>140302878609360</title>\n<polygon fill=\"none\" points=\"956,-415.5 956,-461.5 1264,-461.5 1264,-415.5 956,-415.5\" stroke=\"#000000\"/>\n<text fill=\"#000000\" font-family=\"Times,serif\" font-size=\"14.00\" text-anchor=\"middle\" x=\"1045.5\" y=\"-434.8\">input_word_ids: InputLayer</text>\n<polyline fill=\"none\" points=\"1135,-415.5 1135,-461.5 \" stroke=\"#000000\"/>\n<text fill=\"#000000\" font-family=\"Times,serif\" font-size=\"14.00\" text-anchor=\"middle\" x=\"1164\" y=\"-446.3\">input:</text>\n<polyline fill=\"none\" points=\"1135,-438.5 1193,-438.5 \" stroke=\"#000000\"/>\n<text fill=\"#000000\" font-family=\"Times,serif\" font-size=\"14.00\" text-anchor=\"middle\" x=\"1164\" y=\"-423.3\">output:</text>\n<polyline fill=\"none\" points=\"1193,-415.5 1193,-461.5 \" stroke=\"#000000\"/>\n<text fill=\"#000000\" font-family=\"Times,serif\" font-size=\"14.00\" text-anchor=\"middle\" x=\"1228.5\" y=\"-446.3\">[(?, 100)]</text>\n<polyline fill=\"none\" points=\"1193,-438.5 1264,-438.5 \" stroke=\"#000000\"/>\n<text fill=\"#000000\" font-family=\"Times,serif\" font-size=\"14.00\" text-anchor=\"middle\" x=\"1228.5\" y=\"-423.3\">[(?, 100)]</text>\n</g>\n<!-- 140302878509456 -->\n<g class=\"node\" id=\"node15\">\n<title>140302878509456</title>\n<polygon fill=\"none\" points=\"1010,-332.5 1010,-378.5 1398,-378.5 1398,-332.5 1010,-332.5\" stroke=\"#000000\"/>\n<text fill=\"#000000\" font-family=\"Times,serif\" font-size=\"14.00\" text-anchor=\"middle\" x=\"1087\" y=\"-351.8\">keras_layer: KerasLayer</text>\n<polyline fill=\"none\" points=\"1164,-332.5 1164,-378.5 \" stroke=\"#000000\"/>\n<text fill=\"#000000\" font-family=\"Times,serif\" font-size=\"14.00\" text-anchor=\"middle\" x=\"1193\" y=\"-363.3\">input:</text>\n<polyline fill=\"none\" points=\"1164,-355.5 1222,-355.5 \" stroke=\"#000000\"/>\n<text fill=\"#000000\" font-family=\"Times,serif\" font-size=\"14.00\" text-anchor=\"middle\" x=\"1193\" y=\"-340.3\">output:</text>\n<polyline fill=\"none\" points=\"1222,-332.5 1222,-378.5 \" stroke=\"#000000\"/>\n<text fill=\"#000000\" font-family=\"Times,serif\" font-size=\"14.00\" text-anchor=\"middle\" x=\"1310\" y=\"-363.3\">[(?, 100), (?, 100), (?, 100)]</text>\n<polyline fill=\"none\" points=\"1222,-355.5 1398,-355.5 \" stroke=\"#000000\"/>\n<text fill=\"#000000\" font-family=\"Times,serif\" font-size=\"14.00\" text-anchor=\"middle\" x=\"1310\" y=\"-340.3\">[(?, 768), (?, 100, 768)]</text>\n</g>\n<!-- 140302878609360&#45;&gt;140302878509456 -->\n<g class=\"edge\" id=\"edge11\">\n<title>140302878609360-&gt;140302878509456</title>\n<path d=\"M1136.1842,-415.3799C1146.6891,-406.1043 1158.9326,-395.2936 1170.1029,-385.4304\" fill=\"none\" stroke=\"#000000\"/>\n<polygon fill=\"#000000\" points=\"1172.4507,-388.0265 1177.6302,-378.784 1167.8175,-382.7793 1172.4507,-388.0265\" stroke=\"#000000\"/>\n</g>\n<!-- 140303682199120 -->\n<g class=\"node\" id=\"node10\">\n<title>140303682199120</title>\n<polygon fill=\"none\" points=\"1282,-415.5 1282,-461.5 1566,-461.5 1566,-415.5 1282,-415.5\" stroke=\"#000000\"/>\n<text fill=\"#000000\" font-family=\"Times,serif\" font-size=\"14.00\" text-anchor=\"middle\" x=\"1359.5\" y=\"-434.8\">input_mask: InputLayer</text>\n<polyline fill=\"none\" points=\"1437,-415.5 1437,-461.5 \" stroke=\"#000000\"/>\n<text fill=\"#000000\" font-family=\"Times,serif\" font-size=\"14.00\" text-anchor=\"middle\" x=\"1466\" y=\"-446.3\">input:</text>\n<polyline fill=\"none\" points=\"1437,-438.5 1495,-438.5 \" stroke=\"#000000\"/>\n<text fill=\"#000000\" font-family=\"Times,serif\" font-size=\"14.00\" text-anchor=\"middle\" x=\"1466\" y=\"-423.3\">output:</text>\n<polyline fill=\"none\" points=\"1495,-415.5 1495,-461.5 \" stroke=\"#000000\"/>\n<text fill=\"#000000\" font-family=\"Times,serif\" font-size=\"14.00\" text-anchor=\"middle\" x=\"1530.5\" y=\"-446.3\">[(?, 100)]</text>\n<polyline fill=\"none\" points=\"1495,-438.5 1566,-438.5 \" stroke=\"#000000\"/>\n<text fill=\"#000000\" font-family=\"Times,serif\" font-size=\"14.00\" text-anchor=\"middle\" x=\"1530.5\" y=\"-423.3\">[(?, 100)]</text>\n</g>\n<!-- 140303682199120&#45;&gt;140302878509456 -->\n<g class=\"edge\" id=\"edge12\">\n<title>140303682199120-&gt;140302878509456</title>\n<path d=\"M1363.0099,-415.4901C1335.5902,-405.1454 1303.0635,-392.874 1274.5946,-382.1334\" fill=\"none\" stroke=\"#000000\"/>\n<polygon fill=\"#000000\" points=\"1275.7005,-378.8099 1265.1088,-378.5547 1273.2296,-385.3593 1275.7005,-378.8099\" stroke=\"#000000\"/>\n</g>\n<!-- 140302947308176 -->\n<g class=\"node\" id=\"node11\">\n<title>140302947308176</title>\n<polygon fill=\"none\" points=\"1584,-415.5 1584,-461.5 1872,-461.5 1872,-415.5 1584,-415.5\" stroke=\"#000000\"/>\n<text fill=\"#000000\" font-family=\"Times,serif\" font-size=\"14.00\" text-anchor=\"middle\" x=\"1663.5\" y=\"-434.8\">segment_ids: InputLayer</text>\n<polyline fill=\"none\" points=\"1743,-415.5 1743,-461.5 \" stroke=\"#000000\"/>\n<text fill=\"#000000\" font-family=\"Times,serif\" font-size=\"14.00\" text-anchor=\"middle\" x=\"1772\" y=\"-446.3\">input:</text>\n<polyline fill=\"none\" points=\"1743,-438.5 1801,-438.5 \" stroke=\"#000000\"/>\n<text fill=\"#000000\" font-family=\"Times,serif\" font-size=\"14.00\" text-anchor=\"middle\" x=\"1772\" y=\"-423.3\">output:</text>\n<polyline fill=\"none\" points=\"1801,-415.5 1801,-461.5 \" stroke=\"#000000\"/>\n<text fill=\"#000000\" font-family=\"Times,serif\" font-size=\"14.00\" text-anchor=\"middle\" x=\"1836.5\" y=\"-446.3\">[(?, 100)]</text>\n<polyline fill=\"none\" points=\"1801,-438.5 1872,-438.5 \" stroke=\"#000000\"/>\n<text fill=\"#000000\" font-family=\"Times,serif\" font-size=\"14.00\" text-anchor=\"middle\" x=\"1836.5\" y=\"-423.3\">[(?, 100)]</text>\n</g>\n<!-- 140302947308176&#45;&gt;140302878509456 -->\n<g class=\"edge\" id=\"edge13\">\n<title>140302947308176-&gt;140302878509456</title>\n<path d=\"M1583.7747,-415.6552C1514.187,-404.6327 1430.6017,-391.393 1359.5836,-380.144\" fill=\"none\" stroke=\"#000000\"/>\n<polygon fill=\"#000000\" points=\"1360.0733,-376.678 1349.6488,-378.5703 1358.9781,-383.5918 1360.0733,-376.678\" stroke=\"#000000\"/>\n</g>\n<!-- 140300778462800 -->\n<g class=\"node\" id=\"node16\">\n<title>140300778462800</title>\n<polygon fill=\"none\" points=\"522,-332.5 522,-378.5 916,-378.5 916,-332.5 522,-332.5\" stroke=\"#000000\"/>\n<text fill=\"#000000\" font-family=\"Times,serif\" font-size=\"14.00\" text-anchor=\"middle\" x=\"602\" y=\"-351.8\">concatenate: Concatenate</text>\n<polyline fill=\"none\" points=\"682,-332.5 682,-378.5 \" stroke=\"#000000\"/>\n<text fill=\"#000000\" font-family=\"Times,serif\" font-size=\"14.00\" text-anchor=\"middle\" x=\"711\" y=\"-363.3\">input:</text>\n<polyline fill=\"none\" points=\"682,-355.5 740,-355.5 \" stroke=\"#000000\"/>\n<text fill=\"#000000\" font-family=\"Times,serif\" font-size=\"14.00\" text-anchor=\"middle\" x=\"711\" y=\"-340.3\">output:</text>\n<polyline fill=\"none\" points=\"740,-332.5 740,-378.5 \" stroke=\"#000000\"/>\n<text fill=\"#000000\" font-family=\"Times,serif\" font-size=\"14.00\" text-anchor=\"middle\" x=\"828\" y=\"-363.3\">[(?, 128), (?, 128), (?, 128)]</text>\n<polyline fill=\"none\" points=\"740,-355.5 916,-355.5 \" stroke=\"#000000\"/>\n<text fill=\"#000000\" font-family=\"Times,serif\" font-size=\"14.00\" text-anchor=\"middle\" x=\"828\" y=\"-340.3\">(?, 384)</text>\n</g>\n<!-- 140303003580304&#45;&gt;140300778462800 -->\n<g class=\"edge\" id=\"edge14\">\n<title>140303003580304-&gt;140300778462800</title>\n<path d=\"M348.6486,-418.6194C416.2405,-407.0997 501.9248,-392.4964 573.8488,-380.2383\" fill=\"none\" stroke=\"#000000\"/>\n<polygon fill=\"#000000\" points=\"574.6332,-383.6552 583.903,-378.5248 573.4571,-376.7547 574.6332,-383.6552\" stroke=\"#000000\"/>\n</g>\n<!-- 140300778499600&#45;&gt;140300778462800 -->\n<g class=\"edge\" id=\"edge15\">\n<title>140300778499600-&gt;140300778462800</title>\n<path d=\"M595.633,-415.3799C616.2994,-405.3488 640.6648,-393.5224 662.2597,-383.0406\" fill=\"none\" stroke=\"#000000\"/>\n<polygon fill=\"#000000\" points=\"663.8582,-386.1553 671.3261,-378.6399 660.8015,-379.8579 663.8582,-386.1553\" stroke=\"#000000\"/>\n</g>\n<!-- 140302999181072&#45;&gt;140300778462800 -->\n<g class=\"edge\" id=\"edge16\">\n<title>140302999181072-&gt;140300778462800</title>\n<path d=\"M787.5372,-415.3799C776.9206,-406.1043 764.5468,-395.2936 753.2577,-385.4304\" fill=\"none\" stroke=\"#000000\"/>\n<polygon fill=\"#000000\" points=\"755.4839,-382.7277 745.6504,-378.784 750.8783,-387.9992 755.4839,-382.7277\" stroke=\"#000000\"/>\n</g>\n<!-- 140303003669264 -->\n<g class=\"node\" id=\"node17\">\n<title>140303003669264</title>\n<polygon fill=\"none\" points=\"745,-249.5 745,-295.5 1101,-295.5 1101,-249.5 745,-249.5\" stroke=\"#000000\"/>\n<text fill=\"#000000\" font-family=\"Times,serif\" font-size=\"14.00\" text-anchor=\"middle\" x=\"832.5\" y=\"-268.8\">concatenate_1: Concatenate</text>\n<polyline fill=\"none\" points=\"920,-249.5 920,-295.5 \" stroke=\"#000000\"/>\n<text fill=\"#000000\" font-family=\"Times,serif\" font-size=\"14.00\" text-anchor=\"middle\" x=\"949\" y=\"-280.3\">input:</text>\n<polyline fill=\"none\" points=\"920,-272.5 978,-272.5 \" stroke=\"#000000\"/>\n<text fill=\"#000000\" font-family=\"Times,serif\" font-size=\"14.00\" text-anchor=\"middle\" x=\"949\" y=\"-257.3\">output:</text>\n<polyline fill=\"none\" points=\"978,-249.5 978,-295.5 \" stroke=\"#000000\"/>\n<text fill=\"#000000\" font-family=\"Times,serif\" font-size=\"14.00\" text-anchor=\"middle\" x=\"1039.5\" y=\"-280.3\">[(?, 768), (?, 384)]</text>\n<polyline fill=\"none\" points=\"978,-272.5 1101,-272.5 \" stroke=\"#000000\"/>\n<text fill=\"#000000\" font-family=\"Times,serif\" font-size=\"14.00\" text-anchor=\"middle\" x=\"1039.5\" y=\"-257.3\">(?, 1152)</text>\n</g>\n<!-- 140302878509456&#45;&gt;140303003669264 -->\n<g class=\"edge\" id=\"edge17\">\n<title>140302878509456-&gt;140303003669264</title>\n<path d=\"M1126.099,-332.4901C1090.3152,-321.9205 1047.7218,-309.3395 1010.8046,-298.4352\" fill=\"none\" stroke=\"#000000\"/>\n<polygon fill=\"#000000\" points=\"1011.6344,-295.0308 1001.0525,-295.5547 1009.6514,-301.7441 1011.6344,-295.0308\" stroke=\"#000000\"/>\n</g>\n<!-- 140300778462800&#45;&gt;140303003669264 -->\n<g class=\"edge\" id=\"edge18\">\n<title>140300778462800-&gt;140303003669264</title>\n<path d=\"M775.5545,-332.4901C800.7589,-322.2353 830.6169,-310.0872 856.85,-299.414\" fill=\"none\" stroke=\"#000000\"/>\n<polygon fill=\"#000000\" points=\"858.3919,-302.5653 866.3355,-295.5547 855.7538,-296.0814 858.3919,-302.5653\" stroke=\"#000000\"/>\n</g>\n<!-- 140299657678608 -->\n<g class=\"node\" id=\"node18\">\n<title>140299657678608</title>\n<polygon fill=\"none\" points=\"814,-166.5 814,-212.5 1032,-212.5 1032,-166.5 814,-166.5\" stroke=\"#000000\"/>\n<text fill=\"#000000\" font-family=\"Times,serif\" font-size=\"14.00\" text-anchor=\"middle\" x=\"860\" y=\"-185.8\">dense: Dense</text>\n<polyline fill=\"none\" points=\"906,-166.5 906,-212.5 \" stroke=\"#000000\"/>\n<text fill=\"#000000\" font-family=\"Times,serif\" font-size=\"14.00\" text-anchor=\"middle\" x=\"935\" y=\"-197.3\">input:</text>\n<polyline fill=\"none\" points=\"906,-189.5 964,-189.5 \" stroke=\"#000000\"/>\n<text fill=\"#000000\" font-family=\"Times,serif\" font-size=\"14.00\" text-anchor=\"middle\" x=\"935\" y=\"-174.3\">output:</text>\n<polyline fill=\"none\" points=\"964,-166.5 964,-212.5 \" stroke=\"#000000\"/>\n<text fill=\"#000000\" font-family=\"Times,serif\" font-size=\"14.00\" text-anchor=\"middle\" x=\"998\" y=\"-197.3\">(?, 1152)</text>\n<polyline fill=\"none\" points=\"964,-189.5 1032,-189.5 \" stroke=\"#000000\"/>\n<text fill=\"#000000\" font-family=\"Times,serif\" font-size=\"14.00\" text-anchor=\"middle\" x=\"998\" y=\"-174.3\">(?, 128)</text>\n</g>\n<!-- 140303003669264&#45;&gt;140299657678608 -->\n<g class=\"edge\" id=\"edge19\">\n<title>140303003669264-&gt;140299657678608</title>\n<path d=\"M923,-249.3799C923,-241.1745 923,-231.7679 923,-222.8786\" fill=\"none\" stroke=\"#000000\"/>\n<polygon fill=\"#000000\" points=\"926.5001,-222.784 923,-212.784 919.5001,-222.784 926.5001,-222.784\" stroke=\"#000000\"/>\n</g>\n<!-- 140302999502096 -->\n<g class=\"node\" id=\"node19\">\n<title>140302999502096</title>\n<polygon fill=\"none\" points=\"809.5,-83.5 809.5,-129.5 1036.5,-129.5 1036.5,-83.5 809.5,-83.5\" stroke=\"#000000\"/>\n<text fill=\"#000000\" font-family=\"Times,serif\" font-size=\"14.00\" text-anchor=\"middle\" x=\"863\" y=\"-102.8\">dense_1: Dense</text>\n<polyline fill=\"none\" points=\"916.5,-83.5 916.5,-129.5 \" stroke=\"#000000\"/>\n<text fill=\"#000000\" font-family=\"Times,serif\" font-size=\"14.00\" text-anchor=\"middle\" x=\"945.5\" y=\"-114.3\">input:</text>\n<polyline fill=\"none\" points=\"916.5,-106.5 974.5,-106.5 \" stroke=\"#000000\"/>\n<text fill=\"#000000\" font-family=\"Times,serif\" font-size=\"14.00\" text-anchor=\"middle\" x=\"945.5\" y=\"-91.3\">output:</text>\n<polyline fill=\"none\" points=\"974.5,-83.5 974.5,-129.5 \" stroke=\"#000000\"/>\n<text fill=\"#000000\" font-family=\"Times,serif\" font-size=\"14.00\" text-anchor=\"middle\" x=\"1005.5\" y=\"-114.3\">(?, 128)</text>\n<polyline fill=\"none\" points=\"974.5,-106.5 1036.5,-106.5 \" stroke=\"#000000\"/>\n<text fill=\"#000000\" font-family=\"Times,serif\" font-size=\"14.00\" text-anchor=\"middle\" x=\"1005.5\" y=\"-91.3\">(?, 128)</text>\n</g>\n<!-- 140299657678608&#45;&gt;140302999502096 -->\n<g class=\"edge\" id=\"edge20\">\n<title>140299657678608-&gt;140302999502096</title>\n<path d=\"M923,-166.3799C923,-158.1745 923,-148.7679 923,-139.8786\" fill=\"none\" stroke=\"#000000\"/>\n<polygon fill=\"#000000\" points=\"926.5001,-139.784 923,-129.784 919.5001,-139.784 926.5001,-139.784\" stroke=\"#000000\"/>\n</g>\n<!-- 140303003574096 -->\n<g class=\"node\" id=\"node20\">\n<title>140303003574096</title>\n<polygon fill=\"none\" points=\"809.5,-.5 809.5,-46.5 1036.5,-46.5 1036.5,-.5 809.5,-.5\" stroke=\"#000000\"/>\n<text fill=\"#000000\" font-family=\"Times,serif\" font-size=\"14.00\" text-anchor=\"middle\" x=\"863\" y=\"-19.8\">dense_2: Dense</text>\n<polyline fill=\"none\" points=\"916.5,-.5 916.5,-46.5 \" stroke=\"#000000\"/>\n<text fill=\"#000000\" font-family=\"Times,serif\" font-size=\"14.00\" text-anchor=\"middle\" x=\"945.5\" y=\"-31.3\">input:</text>\n<polyline fill=\"none\" points=\"916.5,-23.5 974.5,-23.5 \" stroke=\"#000000\"/>\n<text fill=\"#000000\" font-family=\"Times,serif\" font-size=\"14.00\" text-anchor=\"middle\" x=\"945.5\" y=\"-8.3\">output:</text>\n<polyline fill=\"none\" points=\"974.5,-.5 974.5,-46.5 \" stroke=\"#000000\"/>\n<text fill=\"#000000\" font-family=\"Times,serif\" font-size=\"14.00\" text-anchor=\"middle\" x=\"1005.5\" y=\"-31.3\">(?, 128)</text>\n<polyline fill=\"none\" points=\"974.5,-23.5 1036.5,-23.5 \" stroke=\"#000000\"/>\n<text fill=\"#000000\" font-family=\"Times,serif\" font-size=\"14.00\" text-anchor=\"middle\" x=\"1005.5\" y=\"-8.3\">(?, 1)</text>\n</g>\n<!-- 140302999502096&#45;&gt;140303003574096 -->\n<g class=\"edge\" id=\"edge21\">\n<title>140302999502096-&gt;140303003574096</title>\n<path d=\"M923,-83.3799C923,-75.1745 923,-65.7679 923,-56.8786\" fill=\"none\" stroke=\"#000000\"/>\n<polygon fill=\"#000000\" points=\"926.5001,-56.784 923,-46.784 919.5001,-56.784 926.5001,-56.784\" stroke=\"#000000\"/>\n</g>\n</g>\n</svg>"
          },
          "metadata": {
            "tags": []
          },
          "execution_count": 27
        }
      ]
    },
    {
      "cell_type": "code",
      "metadata": {
        "id": "dkzl9o2rOl9d",
        "colab": {
          "base_uri": "https://localhost:8080/"
        },
        "outputId": "84d64faa-126e-4d38-aa75-a660f815a564"
      },
      "source": [
        "history = model.fit([X_train,train_input],y_train0,validation_split=0.2,epochs=2,batch_size=64)    "
      ],
      "execution_count": 28,
      "outputs": [
        {
          "output_type": "stream",
          "text": [
            "Epoch 1/2\n",
            "10079/10079 [==============================] - 7644s 758ms/step - loss: 0.0028 - accuracy: 0.9993 - val_loss: 3.1959e-06 - val_accuracy: 1.0000\n",
            "Epoch 2/2\n",
            "10079/10079 [==============================] - 7647s 759ms/step - loss: 1.0952e-06 - accuracy: 1.0000 - val_loss: 2.9495e-08 - val_accuracy: 1.0000\n"
          ],
          "name": "stdout"
        }
      ]
    },
    {
      "cell_type": "code",
      "metadata": {
        "id": "O7YmpY7j4BO0",
        "colab": {
          "base_uri": "https://localhost:8080/"
        },
        "outputId": "1848a15b-28e4-46ed-d0e7-31fba3065592"
      },
      "source": [
        "score = model.evaluate([X_test,test_input],y_test0, verbose=1)           "
      ],
      "execution_count": 29,
      "outputs": [
        {
          "output_type": "stream",
          "text": [
            "6299/6299 [==============================] - 787s 125ms/step - loss: 2.9569e-08 - accuracy: 1.0000\n"
          ],
          "name": "stdout"
        }
      ]
    },
    {
      "cell_type": "code",
      "metadata": {
        "id": "z9u1TiQW69nL",
        "colab": {
          "base_uri": "https://localhost:8080/"
        },
        "outputId": "18559d13-9de6-401f-a528-00b061324374"
      },
      "source": [
        "model.save(r'/gdrive/My Drive/AELOG.h5')      \n",
        "model.save(r'/gdrive/My Drive/Aelog')"
      ],
      "execution_count": 31,
      "outputs": [
        {
          "output_type": "stream",
          "text": [
            "INFO:tensorflow:Assets written to: /gdrive/My Drive/Aelog/assets\n"
          ],
          "name": "stdout"
        },
        {
          "output_type": "stream",
          "text": [
            "INFO:tensorflow:Assets written to: /gdrive/My Drive/Aelog/assets\n"
          ],
          "name": "stderr"
        }
      ]
    }
  ]
}