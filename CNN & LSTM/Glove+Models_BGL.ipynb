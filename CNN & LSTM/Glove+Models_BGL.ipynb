{
  "nbformat": 4,
  "nbformat_minor": 0,
  "metadata": {
    "accelerator": "GPU",
    "colab": {
      "name": "Glove+Models BGL.ipynb",
      "provenance": [],
      "collapsed_sections": []
    },
    "kernelspec": {
      "display_name": "Python 3",
      "name": "python3"
    },
    "language_info": {
      "name": "python"
    }
  },
  "cells": [
    {
      "cell_type": "markdown",
      "metadata": {
        "id": "3UzO-0b5_tA3"
      },
      "source": [
        "# I- Introduction:\n",
        "Aprés avoir testé the state of the art model (Bert) nous alllons essayer dans ce projet d'utiliser deux types différents de deep neural network: Convolutional Neural Network (CNN) et Long Short Term Memory Network (LSTM), qui est une variante des Recurrent Neural Networks pour affiner rapidement et efficacement un modèle de classification des logs de Blue Gene/L supercompute, où notre objectif sera de détecter les anomalies dans des futurs logs.\n",
        "\n",
        "* **Dataset** - nous allons utiliser une DT open Source des logs de Blue Gene/L supercomputer(contient 4,747,963 logs mais nous allons utiliser seulement 172K logs),il est sous forme d'un Filelog donc on avait besoin d'utiliser excel(On peut utiliser Python mais excel reste simple) pour insérer les logs dans des dataframes.\n",
        "\n",
        "* **Objectif** - developper une solution qui permet de detecter les anomalies dans les logs.\n",
        "\n",
        "* **Methodologie** - nous allons considerer comme nous avons un probleme de text classification et construire un deep learning model pour attiendre l'objectif."
      ]
    },
    {
      "cell_type": "markdown",
      "metadata": {
        "id": "J2xQARwf_s1f"
      },
      "source": [
        "# II- Different Models:\n",
        "\n",
        "Il existe plusieurs types de modèles qui pourraient être utilisés pour créer la solution de la classification de texte parmi ces solutions on trouve:\n",
        "\n",
        "\n",
        "*   **1D- Conv Net** : \n",
        "les CNN peuvent être utilisés pour la classification des textes. ils sont plus rapides à s'entraîner.\n",
        "\n",
        "*   **Modèles basés sur RNN (LSTM, GRU)** :  ils peuvent capturer la nature séquentielle d'un texte. Mais ils sont plus lent à s'entraîner.\n",
        "\n",
        "* **Modèles basés sur des transformers (BERT, GPT2)** -\n",
        "Les modèles basés sur des transformers exploite plusieurs unités Transformer et un mécanisme d'attention à multihead.\n",
        "\n",
        "####Dans ce projet nous allons focaliser sur un model basé sur RNN(LSTM) et un autre basé sur les CNN.\n"
      ]
    },
    {
      "cell_type": "markdown",
      "metadata": {
        "id": "nWOg1foq_ssc"
      },
      "source": [
        "# III- Data Preprocessing"
      ]
    },
    {
      "cell_type": "markdown",
      "metadata": {
        "id": "CPM6Y9-x_sjc"
      },
      "source": [
        "### 1. Importing libraries and modules"
      ]
    },
    {
      "cell_type": "code",
      "metadata": {
        "id": "NYyobhk2enYZ"
      },
      "source": [
        "import pandas as pd\n",
        "import numpy as np\n",
        "import matplotlib.pyplot as plt\n",
        "import seaborn as sns\n",
        "import re\n",
        "from numpy import array\n",
        "import keras \n",
        "from keras.preprocessing.sequence import pad_sequences\n",
        "from keras.models import Sequential\n",
        "from keras.layers.core import Activation, Dropout, Dense\n",
        "from keras.layers import Flatten\n",
        "from keras.layers import GlobalMaxPooling1D\n",
        "from keras.layers.embeddings import Embedding\n",
        "from keras.preprocessing.text import Tokenizer\n",
        "from sklearn.utils import shuffle\n",
        "from google.colab import drive\n",
        "from sklearn.model_selection import train_test_split\n",
        "from keras.models import Sequential\n",
        "from keras.layers import Dense\n",
        "from keras.layers import Input, Dense, Dropout, Embedding, LSTM, Flatten\n",
        "from keras.models import Model\n",
        "from sklearn.metrics import accuracy_score"
      ],
      "execution_count": 1,
      "outputs": []
    },
    {
      "cell_type": "markdown",
      "metadata": {
        "id": "FQRMWg6qlJsg"
      },
      "source": [
        "###2. Loading Data"
      ]
    },
    {
      "cell_type": "markdown",
      "metadata": {
        "id": "bK_C6jL3Swj9"
      },
      "source": [
        "####**Importing files from Google Drive in Colab**\n",
        "notre dataset est stockée dans Google Drive donc nous avons besoin de \n",
        "lier notre compte Google Drive avec notre notebook.\n",
        "1. La première étape consiste à monter notre Google Drive en exécutant le code en dessous.\n",
        "2.  nous obtenons le code d'autorisation en nous connectant à notre compte Google.\n",
        "3.   nous collons le code d'autorisation et nous appuyons sur Entrée."
      ]
    },
    {
      "cell_type": "code",
      "metadata": {
        "colab": {
          "base_uri": "https://localhost:8080/"
        },
        "id": "ny55UZG3ggjK",
        "outputId": "f8912dce-778b-4d68-d596-b3d9b3decf74"
      },
      "source": [
        "drive.mount('/gdrive')\n",
        "%cd /gdrive"
      ],
      "execution_count": 2,
      "outputs": [
        {
          "output_type": "stream",
          "text": [
            "Mounted at /gdrive\n",
            "/gdrive\n"
          ],
          "name": "stdout"
        }
      ]
    },
    {
      "cell_type": "code",
      "metadata": {
        "id": "xtBvabavkZb5"
      },
      "source": [
        "PATH_normal=r'/gdrive/My Drive/bgl normal.xlsx'\n",
        "PATH_abnormal=r'/gdrive/My Drive/bgl abnormal.xlsx'"
      ],
      "execution_count": 3,
      "outputs": []
    },
    {
      "cell_type": "code",
      "metadata": {
        "id": "4PffwR6FkZSD"
      },
      "source": [
        "data_normal = pd.read_excel(PATH_normal)\n",
        "data_abnormal = pd.read_excel(PATH_abnormal)"
      ],
      "execution_count": 4,
      "outputs": []
    },
    {
      "cell_type": "code",
      "metadata": {
        "id": "CLlbEqQvkZCq"
      },
      "source": [
        "data_normal.to_csv(r'/gdrive/My Drive/bgl normal.csv')\n",
        "data_abnormal.to_csv(r'/gdrive/My Drive/bgl abnormal.csv')"
      ],
      "execution_count": 5,
      "outputs": []
    },
    {
      "cell_type": "code",
      "metadata": {
        "id": "OciB7qLAgvwY"
      },
      "source": [
        "df_normal = pd.read_csv(r'/gdrive/My Drive/bgl normal.csv')\n",
        "df_abnormal = pd.read_csv(r'/gdrive/My Drive/bgl abnormal.csv')"
      ],
      "execution_count": 6,
      "outputs": []
    },
    {
      "cell_type": "markdown",
      "metadata": {
        "id": "yy8ssvr1CrbT"
      },
      "source": [
        "* ajouter les labels"
      ]
    },
    {
      "cell_type": "code",
      "metadata": {
        "id": "xJDIE3BPgyTe"
      },
      "source": [
        "df_normal=df_normal[['log']]\n",
        "df_abnormal=df_abnormal[['log']]\n",
        "df_normal['label']=0\n",
        "df_abnormal['label']=1"
      ],
      "execution_count": 7,
      "outputs": []
    },
    {
      "cell_type": "markdown",
      "metadata": {
        "id": "f1EdX0Wys_3t"
      },
      "source": [
        "* concatenate and shuffle data"
      ]
    },
    {
      "cell_type": "code",
      "metadata": {
        "colab": {
          "base_uri": "https://localhost:8080/",
          "height": 359
        },
        "id": "PIwqBYhzgyJ4",
        "outputId": "691aa6fe-1f2a-436f-80d5-3c54741bf2b1"
      },
      "source": [
        "#concatinate\n",
        "df=pd.concat([df_normal,df_abnormal])\n",
        "# Shuffle the data\n",
        "df = shuffle(df).reset_index(drop=True)\n",
        "df.sample(10)"
      ],
      "execution_count": 8,
      "outputs": [
        {
          "output_type": "execute_result",
          "data": {
            "text/html": [
              "<div>\n",
              "<style scoped>\n",
              "    .dataframe tbody tr th:only-of-type {\n",
              "        vertical-align: middle;\n",
              "    }\n",
              "\n",
              "    .dataframe tbody tr th {\n",
              "        vertical-align: top;\n",
              "    }\n",
              "\n",
              "    .dataframe thead th {\n",
              "        text-align: right;\n",
              "    }\n",
              "</style>\n",
              "<table border=\"1\" class=\"dataframe\">\n",
              "  <thead>\n",
              "    <tr style=\"text-align: right;\">\n",
              "      <th></th>\n",
              "      <th>log</th>\n",
              "      <th>label</th>\n",
              "    </tr>\n",
              "  </thead>\n",
              "  <tbody>\n",
              "    <tr>\n",
              "      <th>69828</th>\n",
              "      <td>- 1117979341 2005.06.05 R05-M0-NC-C:J13-U11 20...</td>\n",
              "      <td>0</td>\n",
              "    </tr>\n",
              "    <tr>\n",
              "      <th>84292</th>\n",
              "      <td>KERNDTLB 1118540878 2005.06.11 R30-M0-N9-C:J16...</td>\n",
              "      <td>1</td>\n",
              "    </tr>\n",
              "    <tr>\n",
              "      <th>57548</th>\n",
              "      <td>- 1119482214 2005.06.22 R22-M1-N6-C:J17-U11 20...</td>\n",
              "      <td>0</td>\n",
              "    </tr>\n",
              "    <tr>\n",
              "      <th>150223</th>\n",
              "      <td>- 1118772818 2005.06.14 R27-M0-N7-C:J02-U01 20...</td>\n",
              "      <td>0</td>\n",
              "    </tr>\n",
              "    <tr>\n",
              "      <th>3240</th>\n",
              "      <td>APPREAD 1117869928 2005.06.04 R35-M0-N4-I:J18-...</td>\n",
              "      <td>1</td>\n",
              "    </tr>\n",
              "    <tr>\n",
              "      <th>164678</th>\n",
              "      <td>- 1118813313 2005.06.14 R02-M1-N0-C:J12-U11 20...</td>\n",
              "      <td>0</td>\n",
              "    </tr>\n",
              "    <tr>\n",
              "      <th>135658</th>\n",
              "      <td>KERNTERM 1132173428 2005.11.16 R46-M1-N2-C:J16...</td>\n",
              "      <td>1</td>\n",
              "    </tr>\n",
              "    <tr>\n",
              "      <th>75992</th>\n",
              "      <td>- 1117988219 2005.06.05 R37-M1-N4-C:J13-U01 20...</td>\n",
              "      <td>0</td>\n",
              "    </tr>\n",
              "    <tr>\n",
              "      <th>11531</th>\n",
              "      <td>- 1117839420 2005.06.03 R02-M1-N0-C:J12-U11 20...</td>\n",
              "      <td>0</td>\n",
              "    </tr>\n",
              "    <tr>\n",
              "      <th>152308</th>\n",
              "      <td>KERNDTLB 1118540267 2005.06.11 R30-M0-N9-C:J16...</td>\n",
              "      <td>1</td>\n",
              "    </tr>\n",
              "  </tbody>\n",
              "</table>\n",
              "</div>"
            ],
            "text/plain": [
              "                                                      log  label\n",
              "69828   - 1117979341 2005.06.05 R05-M0-NC-C:J13-U11 20...      0\n",
              "84292   KERNDTLB 1118540878 2005.06.11 R30-M0-N9-C:J16...      1\n",
              "57548   - 1119482214 2005.06.22 R22-M1-N6-C:J17-U11 20...      0\n",
              "150223  - 1118772818 2005.06.14 R27-M0-N7-C:J02-U01 20...      0\n",
              "3240    APPREAD 1117869928 2005.06.04 R35-M0-N4-I:J18-...      1\n",
              "164678  - 1118813313 2005.06.14 R02-M1-N0-C:J12-U11 20...      0\n",
              "135658  KERNTERM 1132173428 2005.11.16 R46-M1-N2-C:J16...      1\n",
              "75992   - 1117988219 2005.06.05 R37-M1-N4-C:J13-U01 20...      0\n",
              "11531   - 1117839420 2005.06.03 R02-M1-N0-C:J12-U11 20...      0\n",
              "152308  KERNDTLB 1118540267 2005.06.11 R30-M0-N9-C:J16...      1"
            ]
          },
          "metadata": {
            "tags": []
          },
          "execution_count": 8
        }
      ]
    },
    {
      "cell_type": "code",
      "metadata": {
        "colab": {
          "base_uri": "https://localhost:8080/"
        },
        "id": "FkrzMx3TloWk",
        "outputId": "719fa17e-293a-4c08-f488-034bdf9a5999"
      },
      "source": [
        "df.shape"
      ],
      "execution_count": 9,
      "outputs": [
        {
          "output_type": "execute_result",
          "data": {
            "text/plain": [
              "(172138, 2)"
            ]
          },
          "metadata": {
            "tags": []
          },
          "execution_count": 9
        }
      ]
    },
    {
      "cell_type": "markdown",
      "metadata": {
        "id": "685zpRDjC58h"
      },
      "source": [
        "* Vérifier les valeurs nulles"
      ]
    },
    {
      "cell_type": "code",
      "metadata": {
        "colab": {
          "base_uri": "https://localhost:8080/"
        },
        "id": "9-NmJdhmhK5W",
        "outputId": "78ecb449-c610-4306-c28a-1dcaadcfaad2"
      },
      "source": [
        "df.isnull().values.any()"
      ],
      "execution_count": 10,
      "outputs": [
        {
          "output_type": "execute_result",
          "data": {
            "text/plain": [
              "False"
            ]
          },
          "metadata": {
            "tags": []
          },
          "execution_count": 10
        }
      ]
    },
    {
      "cell_type": "markdown",
      "metadata": {
        "id": "mp3wlBLbltvM"
      },
      "source": [
        "* Nous supprimons ensuite les caractères non alphanumériques."
      ]
    },
    {
      "cell_type": "code",
      "metadata": {
        "id": "5dKtmLcIg-L6"
      },
      "source": [
        "def clean_data(log):\n",
        "    log = re.sub(\"'\", \"\", log)\n",
        "    log = re.sub(\"-\", \"\", log)\n",
        "    log = re.sub(\"(\\\\W)+\", \" \", log)\n",
        "    log = log.lower()\n",
        "    return log\n",
        "\n",
        "df['log'] = df['log'].apply(clean_data)"
      ],
      "execution_count": 11,
      "outputs": []
    },
    {
      "cell_type": "markdown",
      "metadata": {
        "id": "t94COKNemxbH"
      },
      "source": [
        "* Split the dataset into train set 80% et test sets 20%)"
      ]
    },
    {
      "cell_type": "code",
      "metadata": {
        "id": "n5kwEITAiez8"
      },
      "source": [
        "X_train, X_test, y_train, y_test = train_test_split(df['log'],df['label'], test_size=0.2,random_state=42)"
      ],
      "execution_count": 12,
      "outputs": []
    },
    {
      "cell_type": "markdown",
      "metadata": {
        "id": "Fs6cPEVJDvFm"
      },
      "source": [
        "# IV- Preparing the Embedding Layer"
      ]
    },
    {
      "cell_type": "markdown",
      "metadata": {
        "id": "Y6erncuPFx81"
      },
      "source": [
        "nous utiliserons la classe Tokenizer du module keras.preprocessing.text pour créer un dictionnaire de word-to-index . Dans le dictionnaire, chaque mot est utilisé comme clé, tandis qu'un index unique correspondant est utilisé comme valeur pour la clé."
      ]
    },
    {
      "cell_type": "code",
      "metadata": {
        "id": "Nv_DaokYjRFi"
      },
      "source": [
        "tokenizer = Tokenizer()\n",
        "tokenizer.fit_on_texts(X_train)\n",
        "\n",
        "X_train = tokenizer.texts_to_sequences(X_train)\n",
        "X_test = tokenizer.texts_to_sequences(X_test)"
      ],
      "execution_count": 13,
      "outputs": []
    },
    {
      "cell_type": "markdown",
      "metadata": {
        "id": "TOo_yb2QGP2q"
      },
      "source": [
        "Nous fixons la taille maximale à 86. Les listes de taille supérieure à 86 seront tronquées à 86. Pour les listes dont la longueur est inférieure à 86, nous ajouterons 0 à la fin de la liste jusqu'à ce qu'elle atteigne la longueur maximale."
      ]
    },
    {
      "cell_type": "code",
      "metadata": {
        "id": "2v1cM7DkjvfI"
      },
      "source": [
        "vocab_size = len(tokenizer.word_index) + 1\n",
        "\n",
        "maxlen = 86\n",
        "\n",
        "X_train = pad_sequences(X_train, padding='post', maxlen=maxlen)\n",
        "X_test = pad_sequences(X_test, padding='post', maxlen=maxlen)"
      ],
      "execution_count": 14,
      "outputs": []
    },
    {
      "cell_type": "markdown",
      "metadata": {
        "id": "04wvSErOG3FK"
      },
      "source": [
        "Nous utiliserons GloVe embeddings pour créer feature matrix, j'ai essayé d'importer Glove sur mon drive\n",
        "* vous pouvez la trouver sur : https://drive.google.com/file/d/17PIgUPWrXOLFbUYqTAnl1cgWqnWHgX1B/view?usp=sharing"
      ]
    },
    {
      "cell_type": "code",
      "metadata": {
        "id": "wOS5ffsdkAiu"
      },
      "source": [
        "from numpy import array\n",
        "from numpy import asarray\n",
        "from numpy import zeros\n",
        "\n",
        "glove_path=r'/gdrive/My Drive/glove.6B.100d.txt'\n",
        "embeddings_dictionary = dict()\n",
        "glove_file = open(glove_path, encoding=\"utf8\")\n",
        "\n",
        "for line in glove_file:\n",
        "    records = line.split()\n",
        "    word = records[0]\n",
        "    vector_dimensions = asarray(records[1:], dtype='float32')\n",
        "    embeddings_dictionary [word] = vector_dimensions\n",
        "glove_file.close()"
      ],
      "execution_count": 15,
      "outputs": []
    },
    {
      "cell_type": "markdown",
      "metadata": {
        "id": "jxW3vnn6INGC"
      },
      "source": [
        "Enfin, nous allons créer une embedding matrix où chaque numéro de ligne correspondra à l'index du mot. La matrice aura 100 colonnes où chaque colonne contiendra les embeddings de mots GloVe."
      ]
    },
    {
      "cell_type": "code",
      "metadata": {
        "id": "eKSc-2jom30B"
      },
      "source": [
        "embedding_matrix = zeros((vocab_size,100))\n",
        "for word, index in tokenizer.word_index.items():\n",
        "    embedding_vector = embeddings_dictionary.get(word)\n",
        "    if embedding_vector is not None:\n",
        "        embedding_matrix[index] = embedding_vector"
      ],
      "execution_count": 16,
      "outputs": []
    },
    {
      "cell_type": "markdown",
      "metadata": {
        "id": "QQUyrighIdMd"
      },
      "source": [
        "# V- CNN model"
      ]
    },
    {
      "cell_type": "markdown",
      "metadata": {
        "id": "mHfkvOXQoHFD"
      },
      "source": [
        "* Construire le model"
      ]
    },
    {
      "cell_type": "code",
      "metadata": {
        "id": "vnPEv7_tapmK"
      },
      "source": [
        "from keras.layers import MaxPooling1D,Conv1D,GlobalMaxPooling1D\n",
        "from keras.models import Sequential, Model\n",
        "from keras.layers import Activation, Dense, Dropout, Flatten, Input, merge,Concatenate\n",
        "\n",
        "\n",
        "\n",
        "###Building the Model. \n",
        "input_tensor = Input(shape=(86,))\n",
        "# Créer un embedding layer(2D)\n",
        "input_layer= Embedding(vocab_size,100, weights=[embedding_matrix], input_length=maxlen , trainable=False)(input_tensor)\n",
        "#liste où on va stocker l'output\n",
        "uni_vec = []\n",
        "#nous allons utiliser 3 filtres avec des n-grams différents( 2-grams, 3-grams, 4-grams\n",
        "filter_sizes = (2,3,4)\n",
        "for ks in filter_sizes:\n",
        "    #applique 3 convolutions différents à l'embedding layer\n",
        "    conv_layer= Conv1D(128, kernel_size=ks, activation='relu')(input_layer)\n",
        "    maxpool_layer = MaxPooling1D(pool_size=maxlen-ks+1,strides=None, padding='valid')(conv_layer)\n",
        "    flat_layer= Flatten()(maxpool_layer)\n",
        "    uni_vec.append(flat_layer)\n",
        "\n",
        "# concatiner les outputs \n",
        "single_feature_vector = keras.layers.concatenate(uni_vec)\n",
        "#fully Connected Layers\n",
        "dense = Dense(128, activation='relu')(single_feature_vector)\n",
        "dense2 = Dense(128, activation='relu')(dense)\n",
        "out = Dense(1, activation='sigmoid')(dense2)\n",
        "model = Model(inputs=input_tensor, outputs=out)\n",
        "\n"
      ],
      "execution_count": 17,
      "outputs": []
    },
    {
      "cell_type": "code",
      "metadata": {
        "colab": {
          "base_uri": "https://localhost:8080/",
          "height": 906
        },
        "id": "gR9pjhXteuXp",
        "outputId": "825eb41d-2de3-4356-b7fe-20c44bb803ae"
      },
      "source": [
        "from IPython.display import SVG\n",
        "from keras.utils.vis_utils import model_to_dot\n",
        "\n",
        "SVG(model_to_dot(model, show_shapes= True, show_layer_names=True, dpi=65).create(prog='dot', format='svg'))"
      ],
      "execution_count": 18,
      "outputs": [
        {
          "output_type": "execute_result",
          "data": {
            "text/plain": [
              "<IPython.core.display.SVG object>"
            ],
            "image/svg+xml": "<svg height=\"649pt\" viewBox=\"0.00 0.00 1196.50 719.00\" width=\"1080pt\" xmlns=\"http://www.w3.org/2000/svg\" xmlns:xlink=\"http://www.w3.org/1999/xlink\">\n<g class=\"graph\" id=\"graph0\" transform=\"scale(.9028 .9028) rotate(0) translate(4 715)\">\n<title>G</title>\n<polygon fill=\"#ffffff\" points=\"-4,4 -4,-715 1192.5,-715 1192.5,4 -4,4\" stroke=\"transparent\"/>\n<!-- 140559678255632 -->\n<g class=\"node\" id=\"node1\">\n<title>140559678255632</title>\n<polygon fill=\"none\" points=\"447,-664.5 447,-710.5 727,-710.5 727,-664.5 447,-664.5\" stroke=\"#000000\"/>\n<text fill=\"#000000\" font-family=\"Times,serif\" font-size=\"14.00\" text-anchor=\"middle\" x=\"513.5\" y=\"-683.8\">input_1: InputLayer</text>\n<polyline fill=\"none\" points=\"580,-664.5 580,-710.5 \" stroke=\"#000000\"/>\n<text fill=\"#000000\" font-family=\"Times,serif\" font-size=\"14.00\" text-anchor=\"middle\" x=\"609\" y=\"-695.3\">input:</text>\n<polyline fill=\"none\" points=\"580,-687.5 638,-687.5 \" stroke=\"#000000\"/>\n<text fill=\"#000000\" font-family=\"Times,serif\" font-size=\"14.00\" text-anchor=\"middle\" x=\"609\" y=\"-672.3\">output:</text>\n<polyline fill=\"none\" points=\"638,-664.5 638,-710.5 \" stroke=\"#000000\"/>\n<text fill=\"#000000\" font-family=\"Times,serif\" font-size=\"14.00\" text-anchor=\"middle\" x=\"682.5\" y=\"-695.3\">[(None, 86)]</text>\n<polyline fill=\"none\" points=\"638,-687.5 727,-687.5 \" stroke=\"#000000\"/>\n<text fill=\"#000000\" font-family=\"Times,serif\" font-size=\"14.00\" text-anchor=\"middle\" x=\"682.5\" y=\"-672.3\">[(None, 86)]</text>\n</g>\n<!-- 140559678176464 -->\n<g class=\"node\" id=\"node2\">\n<title>140559678176464</title>\n<polygon fill=\"none\" points=\"425,-581.5 425,-627.5 749,-627.5 749,-581.5 425,-581.5\" stroke=\"#000000\"/>\n<text fill=\"#000000\" font-family=\"Times,serif\" font-size=\"14.00\" text-anchor=\"middle\" x=\"503\" y=\"-600.8\">embedding: Embedding</text>\n<polyline fill=\"none\" points=\"581,-581.5 581,-627.5 \" stroke=\"#000000\"/>\n<text fill=\"#000000\" font-family=\"Times,serif\" font-size=\"14.00\" text-anchor=\"middle\" x=\"610\" y=\"-612.3\">input:</text>\n<polyline fill=\"none\" points=\"581,-604.5 639,-604.5 \" stroke=\"#000000\"/>\n<text fill=\"#000000\" font-family=\"Times,serif\" font-size=\"14.00\" text-anchor=\"middle\" x=\"610\" y=\"-589.3\">output:</text>\n<polyline fill=\"none\" points=\"639,-581.5 639,-627.5 \" stroke=\"#000000\"/>\n<text fill=\"#000000\" font-family=\"Times,serif\" font-size=\"14.00\" text-anchor=\"middle\" x=\"694\" y=\"-612.3\">(None, 86)</text>\n<polyline fill=\"none\" points=\"639,-604.5 749,-604.5 \" stroke=\"#000000\"/>\n<text fill=\"#000000\" font-family=\"Times,serif\" font-size=\"14.00\" text-anchor=\"middle\" x=\"694\" y=\"-589.3\">(None, 86, 100)</text>\n</g>\n<!-- 140559678255632&#45;&gt;140559678176464 -->\n<g class=\"edge\" id=\"edge1\">\n<title>140559678255632-&gt;140559678176464</title>\n<path d=\"M587,-664.3799C587,-656.1745 587,-646.7679 587,-637.8786\" fill=\"none\" stroke=\"#000000\"/>\n<polygon fill=\"#000000\" points=\"590.5001,-637.784 587,-627.784 583.5001,-637.784 590.5001,-637.784\" stroke=\"#000000\"/>\n</g>\n<!-- 140559677595984 -->\n<g class=\"node\" id=\"node3\">\n<title>140559677595984</title>\n<polygon fill=\"none\" points=\"88,-498.5 88,-544.5 374,-544.5 374,-498.5 88,-498.5\" stroke=\"#000000\"/>\n<text fill=\"#000000\" font-family=\"Times,serif\" font-size=\"14.00\" text-anchor=\"middle\" x=\"147\" y=\"-517.8\">conv1d: Conv1D</text>\n<polyline fill=\"none\" points=\"206,-498.5 206,-544.5 \" stroke=\"#000000\"/>\n<text fill=\"#000000\" font-family=\"Times,serif\" font-size=\"14.00\" text-anchor=\"middle\" x=\"235\" y=\"-529.3\">input:</text>\n<polyline fill=\"none\" points=\"206,-521.5 264,-521.5 \" stroke=\"#000000\"/>\n<text fill=\"#000000\" font-family=\"Times,serif\" font-size=\"14.00\" text-anchor=\"middle\" x=\"235\" y=\"-506.3\">output:</text>\n<polyline fill=\"none\" points=\"264,-498.5 264,-544.5 \" stroke=\"#000000\"/>\n<text fill=\"#000000\" font-family=\"Times,serif\" font-size=\"14.00\" text-anchor=\"middle\" x=\"319\" y=\"-529.3\">(None, 86, 100)</text>\n<polyline fill=\"none\" points=\"264,-521.5 374,-521.5 \" stroke=\"#000000\"/>\n<text fill=\"#000000\" font-family=\"Times,serif\" font-size=\"14.00\" text-anchor=\"middle\" x=\"319\" y=\"-506.3\">(None, 85, 128)</text>\n</g>\n<!-- 140559678176464&#45;&gt;140559677595984 -->\n<g class=\"edge\" id=\"edge2\">\n<title>140559678176464-&gt;140559677595984</title>\n<path d=\"M488.3069,-581.4901C442.2007,-570.7406 387.171,-557.9107 339.858,-546.8798\" fill=\"none\" stroke=\"#000000\"/>\n<polygon fill=\"#000000\" points=\"340.4186,-543.4167 329.8851,-544.5547 338.8292,-550.2339 340.4186,-543.4167\" stroke=\"#000000\"/>\n</g>\n<!-- 140559516489232 -->\n<g class=\"node\" id=\"node4\">\n<title>140559516489232</title>\n<polygon fill=\"none\" points=\"436.5,-498.5 436.5,-544.5 737.5,-544.5 737.5,-498.5 436.5,-498.5\" stroke=\"#000000\"/>\n<text fill=\"#000000\" font-family=\"Times,serif\" font-size=\"14.00\" text-anchor=\"middle\" x=\"503\" y=\"-517.8\">conv1d_1: Conv1D</text>\n<polyline fill=\"none\" points=\"569.5,-498.5 569.5,-544.5 \" stroke=\"#000000\"/>\n<text fill=\"#000000\" font-family=\"Times,serif\" font-size=\"14.00\" text-anchor=\"middle\" x=\"598.5\" y=\"-529.3\">input:</text>\n<polyline fill=\"none\" points=\"569.5,-521.5 627.5,-521.5 \" stroke=\"#000000\"/>\n<text fill=\"#000000\" font-family=\"Times,serif\" font-size=\"14.00\" text-anchor=\"middle\" x=\"598.5\" y=\"-506.3\">output:</text>\n<polyline fill=\"none\" points=\"627.5,-498.5 627.5,-544.5 \" stroke=\"#000000\"/>\n<text fill=\"#000000\" font-family=\"Times,serif\" font-size=\"14.00\" text-anchor=\"middle\" x=\"682.5\" y=\"-529.3\">(None, 86, 100)</text>\n<polyline fill=\"none\" points=\"627.5,-521.5 737.5,-521.5 \" stroke=\"#000000\"/>\n<text fill=\"#000000\" font-family=\"Times,serif\" font-size=\"14.00\" text-anchor=\"middle\" x=\"682.5\" y=\"-506.3\">(None, 84, 128)</text>\n</g>\n<!-- 140559678176464&#45;&gt;140559516489232 -->\n<g class=\"edge\" id=\"edge3\">\n<title>140559678176464-&gt;140559516489232</title>\n<path d=\"M587,-581.3799C587,-573.1745 587,-563.7679 587,-554.8786\" fill=\"none\" stroke=\"#000000\"/>\n<polygon fill=\"#000000\" points=\"590.5001,-554.784 587,-544.784 583.5001,-554.784 590.5001,-554.784\" stroke=\"#000000\"/>\n</g>\n<!-- 140559516536208 -->\n<g class=\"node\" id=\"node5\">\n<title>140559516536208</title>\n<polygon fill=\"none\" points=\"799.5,-498.5 799.5,-544.5 1100.5,-544.5 1100.5,-498.5 799.5,-498.5\" stroke=\"#000000\"/>\n<text fill=\"#000000\" font-family=\"Times,serif\" font-size=\"14.00\" text-anchor=\"middle\" x=\"866\" y=\"-517.8\">conv1d_2: Conv1D</text>\n<polyline fill=\"none\" points=\"932.5,-498.5 932.5,-544.5 \" stroke=\"#000000\"/>\n<text fill=\"#000000\" font-family=\"Times,serif\" font-size=\"14.00\" text-anchor=\"middle\" x=\"961.5\" y=\"-529.3\">input:</text>\n<polyline fill=\"none\" points=\"932.5,-521.5 990.5,-521.5 \" stroke=\"#000000\"/>\n<text fill=\"#000000\" font-family=\"Times,serif\" font-size=\"14.00\" text-anchor=\"middle\" x=\"961.5\" y=\"-506.3\">output:</text>\n<polyline fill=\"none\" points=\"990.5,-498.5 990.5,-544.5 \" stroke=\"#000000\"/>\n<text fill=\"#000000\" font-family=\"Times,serif\" font-size=\"14.00\" text-anchor=\"middle\" x=\"1045.5\" y=\"-529.3\">(None, 86, 100)</text>\n<polyline fill=\"none\" points=\"990.5,-521.5 1100.5,-521.5 \" stroke=\"#000000\"/>\n<text fill=\"#000000\" font-family=\"Times,serif\" font-size=\"14.00\" text-anchor=\"middle\" x=\"1045.5\" y=\"-506.3\">(None, 83, 128)</text>\n</g>\n<!-- 140559678176464&#45;&gt;140559516536208 -->\n<g class=\"edge\" id=\"edge4\">\n<title>140559678176464-&gt;140559516536208</title>\n<path d=\"M687.6337,-581.4901C734.7449,-570.7181 790.9931,-557.857 839.3042,-546.8106\" fill=\"none\" stroke=\"#000000\"/>\n<polygon fill=\"#000000\" points=\"840.2023,-550.1957 849.1706,-544.5547 838.642,-543.3718 840.2023,-550.1957\" stroke=\"#000000\"/>\n</g>\n<!-- 140559677599056 -->\n<g class=\"node\" id=\"node6\">\n<title>140559677599056</title>\n<polygon fill=\"none\" points=\"0,-415.5 0,-461.5 374,-461.5 374,-415.5 0,-415.5\" stroke=\"#000000\"/>\n<text fill=\"#000000\" font-family=\"Times,serif\" font-size=\"14.00\" text-anchor=\"middle\" x=\"103\" y=\"-434.8\">max_pooling1d: MaxPooling1D</text>\n<polyline fill=\"none\" points=\"206,-415.5 206,-461.5 \" stroke=\"#000000\"/>\n<text fill=\"#000000\" font-family=\"Times,serif\" font-size=\"14.00\" text-anchor=\"middle\" x=\"235\" y=\"-446.3\">input:</text>\n<polyline fill=\"none\" points=\"206,-438.5 264,-438.5 \" stroke=\"#000000\"/>\n<text fill=\"#000000\" font-family=\"Times,serif\" font-size=\"14.00\" text-anchor=\"middle\" x=\"235\" y=\"-423.3\">output:</text>\n<polyline fill=\"none\" points=\"264,-415.5 264,-461.5 \" stroke=\"#000000\"/>\n<text fill=\"#000000\" font-family=\"Times,serif\" font-size=\"14.00\" text-anchor=\"middle\" x=\"319\" y=\"-446.3\">(None, 85, 128)</text>\n<polyline fill=\"none\" points=\"264,-438.5 374,-438.5 \" stroke=\"#000000\"/>\n<text fill=\"#000000\" font-family=\"Times,serif\" font-size=\"14.00\" text-anchor=\"middle\" x=\"319\" y=\"-423.3\">(None, 1, 128)</text>\n</g>\n<!-- 140559677595984&#45;&gt;140559677599056 -->\n<g class=\"edge\" id=\"edge5\">\n<title>140559677595984-&gt;140559677599056</title>\n<path d=\"M218.7435,-498.3799C214.2046,-489.8178 208.9723,-479.9477 204.0817,-470.7222\" fill=\"none\" stroke=\"#000000\"/>\n<polygon fill=\"#000000\" points=\"207.1195,-468.98 199.3433,-461.784 200.9348,-472.2586 207.1195,-468.98\" stroke=\"#000000\"/>\n</g>\n<!-- 140559516506832 -->\n<g class=\"node\" id=\"node7\">\n<title>140559516506832</title>\n<polygon fill=\"none\" points=\"392.5,-415.5 392.5,-461.5 781.5,-461.5 781.5,-415.5 392.5,-415.5\" stroke=\"#000000\"/>\n<text fill=\"#000000\" font-family=\"Times,serif\" font-size=\"14.00\" text-anchor=\"middle\" x=\"503\" y=\"-434.8\">max_pooling1d_1: MaxPooling1D</text>\n<polyline fill=\"none\" points=\"613.5,-415.5 613.5,-461.5 \" stroke=\"#000000\"/>\n<text fill=\"#000000\" font-family=\"Times,serif\" font-size=\"14.00\" text-anchor=\"middle\" x=\"642.5\" y=\"-446.3\">input:</text>\n<polyline fill=\"none\" points=\"613.5,-438.5 671.5,-438.5 \" stroke=\"#000000\"/>\n<text fill=\"#000000\" font-family=\"Times,serif\" font-size=\"14.00\" text-anchor=\"middle\" x=\"642.5\" y=\"-423.3\">output:</text>\n<polyline fill=\"none\" points=\"671.5,-415.5 671.5,-461.5 \" stroke=\"#000000\"/>\n<text fill=\"#000000\" font-family=\"Times,serif\" font-size=\"14.00\" text-anchor=\"middle\" x=\"726.5\" y=\"-446.3\">(None, 84, 128)</text>\n<polyline fill=\"none\" points=\"671.5,-438.5 781.5,-438.5 \" stroke=\"#000000\"/>\n<text fill=\"#000000\" font-family=\"Times,serif\" font-size=\"14.00\" text-anchor=\"middle\" x=\"726.5\" y=\"-423.3\">(None, 1, 128)</text>\n</g>\n<!-- 140559516489232&#45;&gt;140559516506832 -->\n<g class=\"edge\" id=\"edge6\">\n<title>140559516489232-&gt;140559516506832</title>\n<path d=\"M587,-498.3799C587,-490.1745 587,-480.7679 587,-471.8786\" fill=\"none\" stroke=\"#000000\"/>\n<polygon fill=\"#000000\" points=\"590.5001,-471.784 587,-461.784 583.5001,-471.784 590.5001,-471.784\" stroke=\"#000000\"/>\n</g>\n<!-- 140559516575056 -->\n<g class=\"node\" id=\"node8\">\n<title>140559516575056</title>\n<polygon fill=\"none\" points=\"799.5,-415.5 799.5,-461.5 1188.5,-461.5 1188.5,-415.5 799.5,-415.5\" stroke=\"#000000\"/>\n<text fill=\"#000000\" font-family=\"Times,serif\" font-size=\"14.00\" text-anchor=\"middle\" x=\"910\" y=\"-434.8\">max_pooling1d_2: MaxPooling1D</text>\n<polyline fill=\"none\" points=\"1020.5,-415.5 1020.5,-461.5 \" stroke=\"#000000\"/>\n<text fill=\"#000000\" font-family=\"Times,serif\" font-size=\"14.00\" text-anchor=\"middle\" x=\"1049.5\" y=\"-446.3\">input:</text>\n<polyline fill=\"none\" points=\"1020.5,-438.5 1078.5,-438.5 \" stroke=\"#000000\"/>\n<text fill=\"#000000\" font-family=\"Times,serif\" font-size=\"14.00\" text-anchor=\"middle\" x=\"1049.5\" y=\"-423.3\">output:</text>\n<polyline fill=\"none\" points=\"1078.5,-415.5 1078.5,-461.5 \" stroke=\"#000000\"/>\n<text fill=\"#000000\" font-family=\"Times,serif\" font-size=\"14.00\" text-anchor=\"middle\" x=\"1133.5\" y=\"-446.3\">(None, 83, 128)</text>\n<polyline fill=\"none\" points=\"1078.5,-438.5 1188.5,-438.5 \" stroke=\"#000000\"/>\n<text fill=\"#000000\" font-family=\"Times,serif\" font-size=\"14.00\" text-anchor=\"middle\" x=\"1133.5\" y=\"-423.3\">(None, 1, 128)</text>\n</g>\n<!-- 140559516536208&#45;&gt;140559516575056 -->\n<g class=\"edge\" id=\"edge7\">\n<title>140559516536208-&gt;140559516575056</title>\n<path d=\"M962.2565,-498.3799C966.7954,-489.8178 972.0277,-479.9477 976.9183,-470.7222\" fill=\"none\" stroke=\"#000000\"/>\n<polygon fill=\"#000000\" points=\"980.0652,-472.2586 981.6567,-461.784 973.8805,-468.98 980.0652,-472.2586\" stroke=\"#000000\"/>\n</g>\n<!-- 140559516916816 -->\n<g class=\"node\" id=\"node9\">\n<title>140559516916816</title>\n<polygon fill=\"none\" points=\"116,-332.5 116,-378.5 374,-378.5 374,-332.5 116,-332.5\" stroke=\"#000000\"/>\n<text fill=\"#000000\" font-family=\"Times,serif\" font-size=\"14.00\" text-anchor=\"middle\" x=\"165\" y=\"-351.8\">flatten: Flatten</text>\n<polyline fill=\"none\" points=\"214,-332.5 214,-378.5 \" stroke=\"#000000\"/>\n<text fill=\"#000000\" font-family=\"Times,serif\" font-size=\"14.00\" text-anchor=\"middle\" x=\"243\" y=\"-363.3\">input:</text>\n<polyline fill=\"none\" points=\"214,-355.5 272,-355.5 \" stroke=\"#000000\"/>\n<text fill=\"#000000\" font-family=\"Times,serif\" font-size=\"14.00\" text-anchor=\"middle\" x=\"243\" y=\"-340.3\">output:</text>\n<polyline fill=\"none\" points=\"272,-332.5 272,-378.5 \" stroke=\"#000000\"/>\n<text fill=\"#000000\" font-family=\"Times,serif\" font-size=\"14.00\" text-anchor=\"middle\" x=\"323\" y=\"-363.3\">(None, 1, 128)</text>\n<polyline fill=\"none\" points=\"272,-355.5 374,-355.5 \" stroke=\"#000000\"/>\n<text fill=\"#000000\" font-family=\"Times,serif\" font-size=\"14.00\" text-anchor=\"middle\" x=\"323\" y=\"-340.3\">(None, 128)</text>\n</g>\n<!-- 140559677599056&#45;&gt;140559516916816 -->\n<g class=\"edge\" id=\"edge8\">\n<title>140559677599056-&gt;140559516916816</title>\n<path d=\"M203.1562,-415.3799C209.264,-406.6394 216.3244,-396.5358 222.8856,-387.1465\" fill=\"none\" stroke=\"#000000\"/>\n<polygon fill=\"#000000\" points=\"225.8702,-388.9858 228.7292,-378.784 220.1323,-384.9762 225.8702,-388.9858\" stroke=\"#000000\"/>\n</g>\n<!-- 140559516517520 -->\n<g class=\"node\" id=\"node10\">\n<title>140559516517520</title>\n<polygon fill=\"none\" points=\"450.5,-332.5 450.5,-378.5 723.5,-378.5 723.5,-332.5 450.5,-332.5\" stroke=\"#000000\"/>\n<text fill=\"#000000\" font-family=\"Times,serif\" font-size=\"14.00\" text-anchor=\"middle\" x=\"507\" y=\"-351.8\">flatten_1: Flatten</text>\n<polyline fill=\"none\" points=\"563.5,-332.5 563.5,-378.5 \" stroke=\"#000000\"/>\n<text fill=\"#000000\" font-family=\"Times,serif\" font-size=\"14.00\" text-anchor=\"middle\" x=\"592.5\" y=\"-363.3\">input:</text>\n<polyline fill=\"none\" points=\"563.5,-355.5 621.5,-355.5 \" stroke=\"#000000\"/>\n<text fill=\"#000000\" font-family=\"Times,serif\" font-size=\"14.00\" text-anchor=\"middle\" x=\"592.5\" y=\"-340.3\">output:</text>\n<polyline fill=\"none\" points=\"621.5,-332.5 621.5,-378.5 \" stroke=\"#000000\"/>\n<text fill=\"#000000\" font-family=\"Times,serif\" font-size=\"14.00\" text-anchor=\"middle\" x=\"672.5\" y=\"-363.3\">(None, 1, 128)</text>\n<polyline fill=\"none\" points=\"621.5,-355.5 723.5,-355.5 \" stroke=\"#000000\"/>\n<text fill=\"#000000\" font-family=\"Times,serif\" font-size=\"14.00\" text-anchor=\"middle\" x=\"672.5\" y=\"-340.3\">(None, 128)</text>\n</g>\n<!-- 140559516506832&#45;&gt;140559516517520 -->\n<g class=\"edge\" id=\"edge9\">\n<title>140559516506832-&gt;140559516517520</title>\n<path d=\"M587,-415.3799C587,-407.1745 587,-397.7679 587,-388.8786\" fill=\"none\" stroke=\"#000000\"/>\n<polygon fill=\"#000000\" points=\"590.5001,-388.784 587,-378.784 583.5001,-388.784 590.5001,-388.784\" stroke=\"#000000\"/>\n</g>\n<!-- 140559516550864 -->\n<g class=\"node\" id=\"node11\">\n<title>140559516550864</title>\n<polygon fill=\"none\" points=\"799.5,-332.5 799.5,-378.5 1072.5,-378.5 1072.5,-332.5 799.5,-332.5\" stroke=\"#000000\"/>\n<text fill=\"#000000\" font-family=\"Times,serif\" font-size=\"14.00\" text-anchor=\"middle\" x=\"856\" y=\"-351.8\">flatten_2: Flatten</text>\n<polyline fill=\"none\" points=\"912.5,-332.5 912.5,-378.5 \" stroke=\"#000000\"/>\n<text fill=\"#000000\" font-family=\"Times,serif\" font-size=\"14.00\" text-anchor=\"middle\" x=\"941.5\" y=\"-363.3\">input:</text>\n<polyline fill=\"none\" points=\"912.5,-355.5 970.5,-355.5 \" stroke=\"#000000\"/>\n<text fill=\"#000000\" font-family=\"Times,serif\" font-size=\"14.00\" text-anchor=\"middle\" x=\"941.5\" y=\"-340.3\">output:</text>\n<polyline fill=\"none\" points=\"970.5,-332.5 970.5,-378.5 \" stroke=\"#000000\"/>\n<text fill=\"#000000\" font-family=\"Times,serif\" font-size=\"14.00\" text-anchor=\"middle\" x=\"1021.5\" y=\"-363.3\">(None, 1, 128)</text>\n<polyline fill=\"none\" points=\"970.5,-355.5 1072.5,-355.5 \" stroke=\"#000000\"/>\n<text fill=\"#000000\" font-family=\"Times,serif\" font-size=\"14.00\" text-anchor=\"middle\" x=\"1021.5\" y=\"-340.3\">(None, 128)</text>\n</g>\n<!-- 140559516575056&#45;&gt;140559516550864 -->\n<g class=\"edge\" id=\"edge10\">\n<title>140559516575056-&gt;140559516550864</title>\n<path d=\"M977.8438,-415.3799C971.736,-406.6394 964.6756,-396.5358 958.1144,-387.1465\" fill=\"none\" stroke=\"#000000\"/>\n<polygon fill=\"#000000\" points=\"960.8677,-384.9762 952.2708,-378.784 955.1298,-388.9858 960.8677,-384.9762\" stroke=\"#000000\"/>\n</g>\n<!-- 140559678029968 -->\n<g class=\"node\" id=\"node12\">\n<title>140559678029968</title>\n<polygon fill=\"none\" points=\"352,-249.5 352,-295.5 822,-295.5 822,-249.5 352,-249.5\" stroke=\"#000000\"/>\n<text fill=\"#000000\" font-family=\"Times,serif\" font-size=\"14.00\" text-anchor=\"middle\" x=\"432\" y=\"-268.8\">concatenate: Concatenate</text>\n<polyline fill=\"none\" points=\"512,-249.5 512,-295.5 \" stroke=\"#000000\"/>\n<text fill=\"#000000\" font-family=\"Times,serif\" font-size=\"14.00\" text-anchor=\"middle\" x=\"541\" y=\"-280.3\">input:</text>\n<polyline fill=\"none\" points=\"512,-272.5 570,-272.5 \" stroke=\"#000000\"/>\n<text fill=\"#000000\" font-family=\"Times,serif\" font-size=\"14.00\" text-anchor=\"middle\" x=\"541\" y=\"-257.3\">output:</text>\n<polyline fill=\"none\" points=\"570,-249.5 570,-295.5 \" stroke=\"#000000\"/>\n<text fill=\"#000000\" font-family=\"Times,serif\" font-size=\"14.00\" text-anchor=\"middle\" x=\"696\" y=\"-280.3\">[(None, 128), (None, 128), (None, 128)]</text>\n<polyline fill=\"none\" points=\"570,-272.5 822,-272.5 \" stroke=\"#000000\"/>\n<text fill=\"#000000\" font-family=\"Times,serif\" font-size=\"14.00\" text-anchor=\"middle\" x=\"696\" y=\"-257.3\">(None, 384)</text>\n</g>\n<!-- 140559516916816&#45;&gt;140559678029968 -->\n<g class=\"edge\" id=\"edge11\">\n<title>140559516916816-&gt;140559678029968</title>\n<path d=\"M339.8119,-332.4901C384.0123,-321.7631 436.7494,-308.9643 482.1375,-297.9491\" fill=\"none\" stroke=\"#000000\"/>\n<polygon fill=\"#000000\" points=\"483.1112,-301.3144 492.0037,-295.5547 481.4603,-294.5119 483.1112,-301.3144\" stroke=\"#000000\"/>\n</g>\n<!-- 140559516517520&#45;&gt;140559678029968 -->\n<g class=\"edge\" id=\"edge12\">\n<title>140559516517520-&gt;140559678029968</title>\n<path d=\"M587,-332.3799C587,-324.1745 587,-314.7679 587,-305.8786\" fill=\"none\" stroke=\"#000000\"/>\n<polygon fill=\"#000000\" points=\"590.5001,-305.784 587,-295.784 583.5001,-305.784 590.5001,-305.784\" stroke=\"#000000\"/>\n</g>\n<!-- 140559516550864&#45;&gt;140559678029968 -->\n<g class=\"edge\" id=\"edge13\">\n<title>140559516550864-&gt;140559678029968</title>\n<path d=\"M839.2475,-332.4901C794.0478,-321.7406 740.1002,-308.9107 693.7176,-297.8798\" fill=\"none\" stroke=\"#000000\"/>\n<polygon fill=\"#000000\" points=\"694.4792,-294.4634 683.9407,-295.5547 692.8595,-301.2735 694.4792,-294.4634\" stroke=\"#000000\"/>\n</g>\n<!-- 140559677596688 -->\n<g class=\"node\" id=\"node13\">\n<title>140559677596688</title>\n<polygon fill=\"none\" points=\"468.5,-166.5 468.5,-212.5 705.5,-212.5 705.5,-166.5 468.5,-166.5\" stroke=\"#000000\"/>\n<text fill=\"#000000\" font-family=\"Times,serif\" font-size=\"14.00\" text-anchor=\"middle\" x=\"514.5\" y=\"-185.8\">dense: Dense</text>\n<polyline fill=\"none\" points=\"560.5,-166.5 560.5,-212.5 \" stroke=\"#000000\"/>\n<text fill=\"#000000\" font-family=\"Times,serif\" font-size=\"14.00\" text-anchor=\"middle\" x=\"589.5\" y=\"-197.3\">input:</text>\n<polyline fill=\"none\" points=\"560.5,-189.5 618.5,-189.5 \" stroke=\"#000000\"/>\n<text fill=\"#000000\" font-family=\"Times,serif\" font-size=\"14.00\" text-anchor=\"middle\" x=\"589.5\" y=\"-174.3\">output:</text>\n<polyline fill=\"none\" points=\"618.5,-166.5 618.5,-212.5 \" stroke=\"#000000\"/>\n<text fill=\"#000000\" font-family=\"Times,serif\" font-size=\"14.00\" text-anchor=\"middle\" x=\"662\" y=\"-197.3\">(None, 384)</text>\n<polyline fill=\"none\" points=\"618.5,-189.5 705.5,-189.5 \" stroke=\"#000000\"/>\n<text fill=\"#000000\" font-family=\"Times,serif\" font-size=\"14.00\" text-anchor=\"middle\" x=\"662\" y=\"-174.3\">(None, 128)</text>\n</g>\n<!-- 140559678029968&#45;&gt;140559677596688 -->\n<g class=\"edge\" id=\"edge14\">\n<title>140559678029968-&gt;140559677596688</title>\n<path d=\"M587,-249.3799C587,-241.1745 587,-231.7679 587,-222.8786\" fill=\"none\" stroke=\"#000000\"/>\n<polygon fill=\"#000000\" points=\"590.5001,-222.784 587,-212.784 583.5001,-222.784 590.5001,-222.784\" stroke=\"#000000\"/>\n</g>\n<!-- 140559516630480 -->\n<g class=\"node\" id=\"node14\">\n<title>140559516630480</title>\n<polygon fill=\"none\" points=\"461,-83.5 461,-129.5 713,-129.5 713,-83.5 461,-83.5\" stroke=\"#000000\"/>\n<text fill=\"#000000\" font-family=\"Times,serif\" font-size=\"14.00\" text-anchor=\"middle\" x=\"514.5\" y=\"-102.8\">dense_1: Dense</text>\n<polyline fill=\"none\" points=\"568,-83.5 568,-129.5 \" stroke=\"#000000\"/>\n<text fill=\"#000000\" font-family=\"Times,serif\" font-size=\"14.00\" text-anchor=\"middle\" x=\"597\" y=\"-114.3\">input:</text>\n<polyline fill=\"none\" points=\"568,-106.5 626,-106.5 \" stroke=\"#000000\"/>\n<text fill=\"#000000\" font-family=\"Times,serif\" font-size=\"14.00\" text-anchor=\"middle\" x=\"597\" y=\"-91.3\">output:</text>\n<polyline fill=\"none\" points=\"626,-83.5 626,-129.5 \" stroke=\"#000000\"/>\n<text fill=\"#000000\" font-family=\"Times,serif\" font-size=\"14.00\" text-anchor=\"middle\" x=\"669.5\" y=\"-114.3\">(None, 128)</text>\n<polyline fill=\"none\" points=\"626,-106.5 713,-106.5 \" stroke=\"#000000\"/>\n<text fill=\"#000000\" font-family=\"Times,serif\" font-size=\"14.00\" text-anchor=\"middle\" x=\"669.5\" y=\"-91.3\">(None, 128)</text>\n</g>\n<!-- 140559677596688&#45;&gt;140559516630480 -->\n<g class=\"edge\" id=\"edge15\">\n<title>140559677596688-&gt;140559516630480</title>\n<path d=\"M587,-166.3799C587,-158.1745 587,-148.7679 587,-139.8786\" fill=\"none\" stroke=\"#000000\"/>\n<polygon fill=\"#000000\" points=\"590.5001,-139.784 587,-129.784 583.5001,-139.784 590.5001,-139.784\" stroke=\"#000000\"/>\n</g>\n<!-- 140559516650128 -->\n<g class=\"node\" id=\"node15\">\n<title>140559516650128</title>\n<polygon fill=\"none\" points=\"461,-.5 461,-46.5 713,-46.5 713,-.5 461,-.5\" stroke=\"#000000\"/>\n<text fill=\"#000000\" font-family=\"Times,serif\" font-size=\"14.00\" text-anchor=\"middle\" x=\"514.5\" y=\"-19.8\">dense_2: Dense</text>\n<polyline fill=\"none\" points=\"568,-.5 568,-46.5 \" stroke=\"#000000\"/>\n<text fill=\"#000000\" font-family=\"Times,serif\" font-size=\"14.00\" text-anchor=\"middle\" x=\"597\" y=\"-31.3\">input:</text>\n<polyline fill=\"none\" points=\"568,-23.5 626,-23.5 \" stroke=\"#000000\"/>\n<text fill=\"#000000\" font-family=\"Times,serif\" font-size=\"14.00\" text-anchor=\"middle\" x=\"597\" y=\"-8.3\">output:</text>\n<polyline fill=\"none\" points=\"626,-.5 626,-46.5 \" stroke=\"#000000\"/>\n<text fill=\"#000000\" font-family=\"Times,serif\" font-size=\"14.00\" text-anchor=\"middle\" x=\"669.5\" y=\"-31.3\">(None, 128)</text>\n<polyline fill=\"none\" points=\"626,-23.5 713,-23.5 \" stroke=\"#000000\"/>\n<text fill=\"#000000\" font-family=\"Times,serif\" font-size=\"14.00\" text-anchor=\"middle\" x=\"669.5\" y=\"-8.3\">(None, 1)</text>\n</g>\n<!-- 140559516630480&#45;&gt;140559516650128 -->\n<g class=\"edge\" id=\"edge16\">\n<title>140559516630480-&gt;140559516650128</title>\n<path d=\"M587,-83.3799C587,-75.1745 587,-65.7679 587,-56.8786\" fill=\"none\" stroke=\"#000000\"/>\n<polygon fill=\"#000000\" points=\"590.5001,-56.784 587,-46.784 583.5001,-56.784 590.5001,-56.784\" stroke=\"#000000\"/>\n</g>\n</g>\n</svg>"
          },
          "metadata": {
            "tags": []
          },
          "execution_count": 18
        }
      ]
    },
    {
      "cell_type": "markdown",
      "metadata": {
        "id": "vQ4SabuZwA7E"
      },
      "source": [
        "* compiler le model"
      ]
    },
    {
      "cell_type": "code",
      "metadata": {
        "id": "qGO3pmPgb7sb"
      },
      "source": [
        "model.compile(optimizer='adam', loss='binary_crossentropy', metrics=['acc'])"
      ],
      "execution_count": 19,
      "outputs": []
    },
    {
      "cell_type": "markdown",
      "metadata": {
        "id": "E1Y8cIIqJDcn"
      },
      "source": [
        "* train le model"
      ]
    },
    {
      "cell_type": "code",
      "metadata": {
        "colab": {
          "base_uri": "https://localhost:8080/"
        },
        "id": "mvOS4Xc0pMPz",
        "outputId": "7ea161e9-42a3-4d81-83ef-e54eaca2a30f"
      },
      "source": [
        "history = model.fit(X_train, y_train, batch_size=64, epochs=10, verbose=1, validation_split=0.2)"
      ],
      "execution_count": 20,
      "outputs": [
        {
          "output_type": "stream",
          "text": [
            "Epoch 1/10\n",
            "1722/1722 [==============================] - 58s 8ms/step - loss: 0.0143 - acc: 0.9925 - val_loss: 3.8462e-04 - val_acc: 0.9999\n",
            "Epoch 2/10\n",
            "1722/1722 [==============================] - 12s 7ms/step - loss: 9.1189e-04 - acc: 0.9998 - val_loss: 3.8759e-04 - val_acc: 0.9999\n",
            "Epoch 3/10\n",
            "1722/1722 [==============================] - 12s 7ms/step - loss: 7.7106e-04 - acc: 0.9998 - val_loss: 4.8251e-04 - val_acc: 1.0000\n",
            "Epoch 4/10\n",
            "1722/1722 [==============================] - 12s 7ms/step - loss: 8.5940e-04 - acc: 0.9998 - val_loss: 2.0102e-04 - val_acc: 0.9999\n",
            "Epoch 5/10\n",
            "1722/1722 [==============================] - 12s 7ms/step - loss: 2.9701e-04 - acc: 0.9999 - val_loss: 5.3717e-04 - val_acc: 0.9999\n",
            "Epoch 6/10\n",
            "1722/1722 [==============================] - 12s 7ms/step - loss: 5.0658e-04 - acc: 0.9998 - val_loss: 3.7497e-04 - val_acc: 0.9999\n",
            "Epoch 7/10\n",
            "1722/1722 [==============================] - 12s 7ms/step - loss: 3.3912e-04 - acc: 0.9999 - val_loss: 6.0473e-04 - val_acc: 0.9997\n",
            "Epoch 8/10\n",
            "1722/1722 [==============================] - 12s 7ms/step - loss: 3.3766e-04 - acc: 0.9999 - val_loss: 3.7531e-04 - val_acc: 0.9999\n",
            "Epoch 9/10\n",
            "1722/1722 [==============================] - 12s 7ms/step - loss: 1.3262e-04 - acc: 0.9999 - val_loss: 6.8403e-04 - val_acc: 0.9998\n",
            "Epoch 10/10\n",
            "1722/1722 [==============================] - 12s 7ms/step - loss: 2.1659e-04 - acc: 0.9999 - val_loss: 7.2410e-04 - val_acc: 1.0000\n"
          ],
          "name": "stdout"
        }
      ]
    },
    {
      "cell_type": "markdown",
      "metadata": {
        "id": "6siFb31HJHAc"
      },
      "source": [
        "* evaluer le model sur test set"
      ]
    },
    {
      "cell_type": "code",
      "metadata": {
        "colab": {
          "base_uri": "https://localhost:8080/"
        },
        "id": "6oGV4ihXpOGn",
        "outputId": "f69f3926-5980-425f-ef7a-623372f14065"
      },
      "source": [
        "score = model.evaluate(X_test, y_test, verbose=1)"
      ],
      "execution_count": 21,
      "outputs": [
        {
          "output_type": "stream",
          "text": [
            "1076/1076 [==============================] - 4s 3ms/step - loss: 4.6319e-04 - acc: 0.9999\n"
          ],
          "name": "stdout"
        }
      ]
    },
    {
      "cell_type": "code",
      "metadata": {
        "colab": {
          "base_uri": "https://localhost:8080/"
        },
        "id": "Ld4aQAnUpOxS",
        "outputId": "0242f391-e6d7-4178-fe6e-dae7d6f53c3c"
      },
      "source": [
        "print(\"Test Score:\", score[0])\n",
        "print(\"Test Accuracy:\", score[1])"
      ],
      "execution_count": 22,
      "outputs": [
        {
          "output_type": "stream",
          "text": [
            "Test Score: 0.0004631898773368448\n",
            "Test Accuracy: 0.9999128580093384\n"
          ],
          "name": "stdout"
        }
      ]
    },
    {
      "cell_type": "markdown",
      "metadata": {
        "id": "yUeZmyDTwMiU"
      },
      "source": [
        "## **Comme vous pouvez voir nous avons atteindre une performance de 99,99% avec le CNN model** "
      ]
    },
    {
      "cell_type": "markdown",
      "metadata": {
        "id": "lCc2itVAJT0f"
      },
      "source": [
        "* Tracons la différence de loss et accuracy entre train set et test set"
      ]
    },
    {
      "cell_type": "code",
      "metadata": {
        "colab": {
          "base_uri": "https://localhost:8080/",
          "height": 573
        },
        "id": "91tcRM_zpR7Z",
        "outputId": "ff335e0f-0c42-4782-b9b3-df73ec620b1d"
      },
      "source": [
        "import matplotlib.pyplot as plt\n",
        "\n",
        "plt.plot(history.history['acc'])\n",
        "plt.plot(history.history['val_acc'])\n",
        "\n",
        "plt.title('model accuracy')\n",
        "plt.ylabel('accuracy')\n",
        "plt.xlabel('epoch')\n",
        "plt.legend(['train','test'], loc = 'upper left')\n",
        "plt.show()\n",
        "\n",
        "plt.plot(history.history['loss'])\n",
        "plt.plot(history.history['val_loss'])\n",
        "\n",
        "plt.title('model loss')\n",
        "plt.ylabel('loss')\n",
        "plt.xlabel('epoch')\n",
        "plt.legend(['train','test'], loc = 'upper left')\n",
        "plt.show()"
      ],
      "execution_count": 23,
      "outputs": [
        {
          "output_type": "display_data",
          "data": {
            "image/png": "[encoded data removed]",
            "text/plain": [
              "<Figure size 432x288 with 1 Axes>"
            ]
          },
          "metadata": {
            "tags": [],
            "needs_background": "light"
          }
        },
        {
          "output_type": "display_data",
          "data": {
            "image/png": "[encoded data removed]",
            "text/plain": [
              "<Figure size 432x288 with 1 Axes>"
            ]
          },
          "metadata": {
            "tags": [],
            "needs_background": "light"
          }
        }
      ]
    },
    {
      "cell_type": "markdown",
      "metadata": {
        "id": "R7uPb03U3Ydj"
      },
      "source": [
        "# VI- LSTM"
      ]
    },
    {
      "cell_type": "markdown",
      "metadata": {
        "id": "gr4ePt51J_8B"
      },
      "source": [
        "* Constriure le model"
      ]
    },
    {
      "cell_type": "code",
      "metadata": {
        "id": "lvjdragJpVNz"
      },
      "source": [
        "model1 = Sequential()\n",
        "embedding_layer = Embedding(vocab_size, 100, weights=[embedding_matrix], input_length=maxlen , trainable=False)\n",
        "model1.add(embedding_layer)\n",
        "model1.add(LSTM(128))\n",
        "model1.add(Dense(64, activation='relu'))\n",
        "model1.add(Dense(64, activation='relu'))\n",
        "model1.add(Dense(1, activation='sigmoid'))\n",
        "model1.compile(optimizer='adam', loss='binary_crossentropy', metrics=['acc'])\n"
      ],
      "execution_count": 24,
      "outputs": []
    },
    {
      "cell_type": "code",
      "metadata": {
        "colab": {
          "base_uri": "https://localhost:8080/",
          "height": 586
        },
        "id": "ThUIsr4PXYcW",
        "outputId": "1f0f03f8-a588-4eb8-eb59-362582fc83c7"
      },
      "source": [
        "SVG(model_to_dot(model1, show_shapes= True, show_layer_names=True, dpi=65).create(prog='dot', format='svg'))"
      ],
      "execution_count": 25,
      "outputs": [
        {
          "output_type": "execute_result",
          "data": {
            "text/plain": [
              "<IPython.core.display.SVG object>"
            ],
            "image/svg+xml": "<svg height=\"424pt\" viewBox=\"0.00 0.00 360.00 470.00\" width=\"325pt\" xmlns=\"http://www.w3.org/2000/svg\" xmlns:xlink=\"http://www.w3.org/1999/xlink\">\n<g class=\"graph\" id=\"graph0\" transform=\"scale(.9028 .9028) rotate(0) translate(4 466)\">\n<title>G</title>\n<polygon fill=\"#ffffff\" points=\"-4,4 -4,-466 356,-466 356,4 -4,4\" stroke=\"transparent\"/>\n<!-- 140559798643344 -->\n<g class=\"node\" id=\"node1\">\n<title>140559798643344</title>\n<polygon fill=\"none\" points=\"0,-415.5 0,-461.5 352,-461.5 352,-415.5 0,-415.5\" stroke=\"#000000\"/>\n<text fill=\"#000000\" font-family=\"Times,serif\" font-size=\"14.00\" text-anchor=\"middle\" x=\"102.5\" y=\"-434.8\">embedding_1_input: InputLayer</text>\n<polyline fill=\"none\" points=\"205,-415.5 205,-461.5 \" stroke=\"#000000\"/>\n<text fill=\"#000000\" font-family=\"Times,serif\" font-size=\"14.00\" text-anchor=\"middle\" x=\"234\" y=\"-446.3\">input:</text>\n<polyline fill=\"none\" points=\"205,-438.5 263,-438.5 \" stroke=\"#000000\"/>\n<text fill=\"#000000\" font-family=\"Times,serif\" font-size=\"14.00\" text-anchor=\"middle\" x=\"234\" y=\"-423.3\">output:</text>\n<polyline fill=\"none\" points=\"263,-415.5 263,-461.5 \" stroke=\"#000000\"/>\n<text fill=\"#000000\" font-family=\"Times,serif\" font-size=\"14.00\" text-anchor=\"middle\" x=\"307.5\" y=\"-446.3\">[(None, 86)]</text>\n<polyline fill=\"none\" points=\"263,-438.5 352,-438.5 \" stroke=\"#000000\"/>\n<text fill=\"#000000\" font-family=\"Times,serif\" font-size=\"14.00\" text-anchor=\"middle\" x=\"307.5\" y=\"-423.3\">[(None, 86)]</text>\n</g>\n<!-- 140559861863696 -->\n<g class=\"node\" id=\"node2\">\n<title>140559861863696</title>\n<polygon fill=\"none\" points=\"6.5,-332.5 6.5,-378.5 345.5,-378.5 345.5,-332.5 6.5,-332.5\" stroke=\"#000000\"/>\n<text fill=\"#000000\" font-family=\"Times,serif\" font-size=\"14.00\" text-anchor=\"middle\" x=\"92\" y=\"-351.8\">embedding_1: Embedding</text>\n<polyline fill=\"none\" points=\"177.5,-332.5 177.5,-378.5 \" stroke=\"#000000\"/>\n<text fill=\"#000000\" font-family=\"Times,serif\" font-size=\"14.00\" text-anchor=\"middle\" x=\"206.5\" y=\"-363.3\">input:</text>\n<polyline fill=\"none\" points=\"177.5,-355.5 235.5,-355.5 \" stroke=\"#000000\"/>\n<text fill=\"#000000\" font-family=\"Times,serif\" font-size=\"14.00\" text-anchor=\"middle\" x=\"206.5\" y=\"-340.3\">output:</text>\n<polyline fill=\"none\" points=\"235.5,-332.5 235.5,-378.5 \" stroke=\"#000000\"/>\n<text fill=\"#000000\" font-family=\"Times,serif\" font-size=\"14.00\" text-anchor=\"middle\" x=\"290.5\" y=\"-363.3\">(None, 86)</text>\n<polyline fill=\"none\" points=\"235.5,-355.5 345.5,-355.5 \" stroke=\"#000000\"/>\n<text fill=\"#000000\" font-family=\"Times,serif\" font-size=\"14.00\" text-anchor=\"middle\" x=\"290.5\" y=\"-340.3\">(None, 86, 100)</text>\n</g>\n<!-- 140559798643344&#45;&gt;140559861863696 -->\n<g class=\"edge\" id=\"edge1\">\n<title>140559798643344-&gt;140559861863696</title>\n<path d=\"M176,-415.3799C176,-407.1745 176,-397.7679 176,-388.8786\" fill=\"none\" stroke=\"#000000\"/>\n<polygon fill=\"#000000\" points=\"179.5001,-388.784 176,-378.784 172.5001,-388.784 179.5001,-388.784\" stroke=\"#000000\"/>\n</g>\n<!-- 140558110917264 -->\n<g class=\"node\" id=\"node3\">\n<title>140558110917264</title>\n<polygon fill=\"none\" points=\"48.5,-249.5 48.5,-295.5 303.5,-295.5 303.5,-249.5 48.5,-249.5\" stroke=\"#000000\"/>\n<text fill=\"#000000\" font-family=\"Times,serif\" font-size=\"14.00\" text-anchor=\"middle\" x=\"92\" y=\"-268.8\">lstm: LSTM</text>\n<polyline fill=\"none\" points=\"135.5,-249.5 135.5,-295.5 \" stroke=\"#000000\"/>\n<text fill=\"#000000\" font-family=\"Times,serif\" font-size=\"14.00\" text-anchor=\"middle\" x=\"164.5\" y=\"-280.3\">input:</text>\n<polyline fill=\"none\" points=\"135.5,-272.5 193.5,-272.5 \" stroke=\"#000000\"/>\n<text fill=\"#000000\" font-family=\"Times,serif\" font-size=\"14.00\" text-anchor=\"middle\" x=\"164.5\" y=\"-257.3\">output:</text>\n<polyline fill=\"none\" points=\"193.5,-249.5 193.5,-295.5 \" stroke=\"#000000\"/>\n<text fill=\"#000000\" font-family=\"Times,serif\" font-size=\"14.00\" text-anchor=\"middle\" x=\"248.5\" y=\"-280.3\">(None, 86, 100)</text>\n<polyline fill=\"none\" points=\"193.5,-272.5 303.5,-272.5 \" stroke=\"#000000\"/>\n<text fill=\"#000000\" font-family=\"Times,serif\" font-size=\"14.00\" text-anchor=\"middle\" x=\"248.5\" y=\"-257.3\">(None, 128)</text>\n</g>\n<!-- 140559861863696&#45;&gt;140558110917264 -->\n<g class=\"edge\" id=\"edge2\">\n<title>140559861863696-&gt;140558110917264</title>\n<path d=\"M176,-332.3799C176,-324.1745 176,-314.7679 176,-305.8786\" fill=\"none\" stroke=\"#000000\"/>\n<polygon fill=\"#000000\" points=\"179.5001,-305.784 176,-295.784 172.5001,-305.784 179.5001,-305.784\" stroke=\"#000000\"/>\n</g>\n<!-- 140559515778192 -->\n<g class=\"node\" id=\"node4\">\n<title>140559515778192</title>\n<polygon fill=\"none\" points=\"50,-166.5 50,-212.5 302,-212.5 302,-166.5 50,-166.5\" stroke=\"#000000\"/>\n<text fill=\"#000000\" font-family=\"Times,serif\" font-size=\"14.00\" text-anchor=\"middle\" x=\"103.5\" y=\"-185.8\">dense_3: Dense</text>\n<polyline fill=\"none\" points=\"157,-166.5 157,-212.5 \" stroke=\"#000000\"/>\n<text fill=\"#000000\" font-family=\"Times,serif\" font-size=\"14.00\" text-anchor=\"middle\" x=\"186\" y=\"-197.3\">input:</text>\n<polyline fill=\"none\" points=\"157,-189.5 215,-189.5 \" stroke=\"#000000\"/>\n<text fill=\"#000000\" font-family=\"Times,serif\" font-size=\"14.00\" text-anchor=\"middle\" x=\"186\" y=\"-174.3\">output:</text>\n<polyline fill=\"none\" points=\"215,-166.5 215,-212.5 \" stroke=\"#000000\"/>\n<text fill=\"#000000\" font-family=\"Times,serif\" font-size=\"14.00\" text-anchor=\"middle\" x=\"258.5\" y=\"-197.3\">(None, 128)</text>\n<polyline fill=\"none\" points=\"215,-189.5 302,-189.5 \" stroke=\"#000000\"/>\n<text fill=\"#000000\" font-family=\"Times,serif\" font-size=\"14.00\" text-anchor=\"middle\" x=\"258.5\" y=\"-174.3\">(None, 64)</text>\n</g>\n<!-- 140558110917264&#45;&gt;140559515778192 -->\n<g class=\"edge\" id=\"edge3\">\n<title>140558110917264-&gt;140559515778192</title>\n<path d=\"M176,-249.3799C176,-241.1745 176,-231.7679 176,-222.8786\" fill=\"none\" stroke=\"#000000\"/>\n<polygon fill=\"#000000\" points=\"179.5001,-222.784 176,-212.784 172.5001,-222.784 179.5001,-222.784\" stroke=\"#000000\"/>\n</g>\n<!-- 140558110640656 -->\n<g class=\"node\" id=\"node5\">\n<title>140558110640656</title>\n<polygon fill=\"none\" points=\"53.5,-83.5 53.5,-129.5 298.5,-129.5 298.5,-83.5 53.5,-83.5\" stroke=\"#000000\"/>\n<text fill=\"#000000\" font-family=\"Times,serif\" font-size=\"14.00\" text-anchor=\"middle\" x=\"107\" y=\"-102.8\">dense_4: Dense</text>\n<polyline fill=\"none\" points=\"160.5,-83.5 160.5,-129.5 \" stroke=\"#000000\"/>\n<text fill=\"#000000\" font-family=\"Times,serif\" font-size=\"14.00\" text-anchor=\"middle\" x=\"189.5\" y=\"-114.3\">input:</text>\n<polyline fill=\"none\" points=\"160.5,-106.5 218.5,-106.5 \" stroke=\"#000000\"/>\n<text fill=\"#000000\" font-family=\"Times,serif\" font-size=\"14.00\" text-anchor=\"middle\" x=\"189.5\" y=\"-91.3\">output:</text>\n<polyline fill=\"none\" points=\"218.5,-83.5 218.5,-129.5 \" stroke=\"#000000\"/>\n<text fill=\"#000000\" font-family=\"Times,serif\" font-size=\"14.00\" text-anchor=\"middle\" x=\"258.5\" y=\"-114.3\">(None, 64)</text>\n<polyline fill=\"none\" points=\"218.5,-106.5 298.5,-106.5 \" stroke=\"#000000\"/>\n<text fill=\"#000000\" font-family=\"Times,serif\" font-size=\"14.00\" text-anchor=\"middle\" x=\"258.5\" y=\"-91.3\">(None, 64)</text>\n</g>\n<!-- 140559515778192&#45;&gt;140558110640656 -->\n<g class=\"edge\" id=\"edge4\">\n<title>140559515778192-&gt;140558110640656</title>\n<path d=\"M176,-166.3799C176,-158.1745 176,-148.7679 176,-139.8786\" fill=\"none\" stroke=\"#000000\"/>\n<polygon fill=\"#000000\" points=\"179.5001,-139.784 176,-129.784 172.5001,-139.784 179.5001,-139.784\" stroke=\"#000000\"/>\n</g>\n<!-- 140558115757904 -->\n<g class=\"node\" id=\"node6\">\n<title>140558115757904</title>\n<polygon fill=\"none\" points=\"53.5,-.5 53.5,-46.5 298.5,-46.5 298.5,-.5 53.5,-.5\" stroke=\"#000000\"/>\n<text fill=\"#000000\" font-family=\"Times,serif\" font-size=\"14.00\" text-anchor=\"middle\" x=\"107\" y=\"-19.8\">dense_5: Dense</text>\n<polyline fill=\"none\" points=\"160.5,-.5 160.5,-46.5 \" stroke=\"#000000\"/>\n<text fill=\"#000000\" font-family=\"Times,serif\" font-size=\"14.00\" text-anchor=\"middle\" x=\"189.5\" y=\"-31.3\">input:</text>\n<polyline fill=\"none\" points=\"160.5,-23.5 218.5,-23.5 \" stroke=\"#000000\"/>\n<text fill=\"#000000\" font-family=\"Times,serif\" font-size=\"14.00\" text-anchor=\"middle\" x=\"189.5\" y=\"-8.3\">output:</text>\n<polyline fill=\"none\" points=\"218.5,-.5 218.5,-46.5 \" stroke=\"#000000\"/>\n<text fill=\"#000000\" font-family=\"Times,serif\" font-size=\"14.00\" text-anchor=\"middle\" x=\"258.5\" y=\"-31.3\">(None, 64)</text>\n<polyline fill=\"none\" points=\"218.5,-23.5 298.5,-23.5 \" stroke=\"#000000\"/>\n<text fill=\"#000000\" font-family=\"Times,serif\" font-size=\"14.00\" text-anchor=\"middle\" x=\"258.5\" y=\"-8.3\">(None, 1)</text>\n</g>\n<!-- 140558110640656&#45;&gt;140558115757904 -->\n<g class=\"edge\" id=\"edge5\">\n<title>140558110640656-&gt;140558115757904</title>\n<path d=\"M176,-83.3799C176,-75.1745 176,-65.7679 176,-56.8786\" fill=\"none\" stroke=\"#000000\"/>\n<polygon fill=\"#000000\" points=\"179.5001,-56.784 176,-46.784 172.5001,-56.784 179.5001,-56.784\" stroke=\"#000000\"/>\n</g>\n</g>\n</svg>"
          },
          "metadata": {
            "tags": []
          },
          "execution_count": 25
        }
      ]
    },
    {
      "cell_type": "markdown",
      "metadata": {
        "id": "a7pUJMetKF3r"
      },
      "source": [
        "* train model"
      ]
    },
    {
      "cell_type": "code",
      "metadata": {
        "colab": {
          "base_uri": "https://localhost:8080/"
        },
        "id": "Nn8RDPUupc1x",
        "outputId": "6c544385-6f66-4ca3-f62b-84eae807382b"
      },
      "source": [
        "history = model1.fit(X_train, y_train, batch_size=64, epochs=10, verbose=1, validation_split=0.2)"
      ],
      "execution_count": 26,
      "outputs": [
        {
          "output_type": "stream",
          "text": [
            "Epoch 1/10\n",
            "1722/1722 [==============================] - 23s 10ms/step - loss: 0.0989 - acc: 0.9710 - val_loss: 0.1528 - val_acc: 0.9631\n",
            "Epoch 2/10\n",
            "1722/1722 [==============================] - 16s 9ms/step - loss: 0.1518 - acc: 0.9632 - val_loss: 0.1535 - val_acc: 0.9629\n",
            "Epoch 3/10\n",
            "1722/1722 [==============================] - 16s 9ms/step - loss: 0.1478 - acc: 0.9644 - val_loss: 0.1534 - val_acc: 0.9631\n",
            "Epoch 4/10\n",
            "1722/1722 [==============================] - 16s 9ms/step - loss: 0.1495 - acc: 0.9638 - val_loss: 0.1510 - val_acc: 0.9631\n",
            "Epoch 5/10\n",
            "1722/1722 [==============================] - 15s 9ms/step - loss: 0.1513 - acc: 0.9632 - val_loss: 0.1519 - val_acc: 0.9631\n",
            "Epoch 6/10\n",
            "1722/1722 [==============================] - 15s 9ms/step - loss: 0.1516 - acc: 0.9630 - val_loss: 0.1508 - val_acc: 0.9631\n",
            "Epoch 7/10\n",
            "1722/1722 [==============================] - 15s 9ms/step - loss: 0.1523 - acc: 0.9628 - val_loss: 0.1508 - val_acc: 0.9631\n",
            "Epoch 8/10\n",
            "1722/1722 [==============================] - 16s 9ms/step - loss: 0.1558 - acc: 0.9617 - val_loss: 0.1509 - val_acc: 0.9631\n",
            "Epoch 9/10\n",
            "1722/1722 [==============================] - 15s 9ms/step - loss: 0.1639 - acc: 0.9576 - val_loss: 0.4792 - val_acc: 0.8135\n",
            "Epoch 10/10\n",
            "1722/1722 [==============================] - 15s 9ms/step - loss: 0.4750 - acc: 0.8163 - val_loss: 0.4791 - val_acc: 0.8135\n"
          ],
          "name": "stdout"
        }
      ]
    },
    {
      "cell_type": "markdown",
      "metadata": {
        "id": "Yn49GBAXKJKn"
      },
      "source": [
        "* evaluate model"
      ]
    },
    {
      "cell_type": "code",
      "metadata": {
        "colab": {
          "base_uri": "https://localhost:8080/"
        },
        "id": "0pS-cEJQpsMa",
        "outputId": "395f5b02-838d-48b7-e51a-72252289e818"
      },
      "source": [
        "score = model1.evaluate(X_test, y_test, verbose=1)"
      ],
      "execution_count": 27,
      "outputs": [
        {
          "output_type": "stream",
          "text": [
            "1076/1076 [==============================] - 4s 4ms/step - loss: 0.4748 - acc: 0.8161\n"
          ],
          "name": "stdout"
        }
      ]
    },
    {
      "cell_type": "code",
      "metadata": {
        "colab": {
          "base_uri": "https://localhost:8080/"
        },
        "id": "tVCgKEwHpwG8",
        "outputId": "c39f39cc-d96e-495b-cb21-185113b0b4ff"
      },
      "source": [
        "print(\"Test Score:\", score[0])\n",
        "print(\"Test Accuracy:\", score[1])"
      ],
      "execution_count": 28,
      "outputs": [
        {
          "output_type": "stream",
          "text": [
            "Test Score: 0.4748179316520691\n",
            "Test Accuracy: 0.8160508871078491\n"
          ],
          "name": "stdout"
        }
      ]
    },
    {
      "cell_type": "markdown",
      "metadata": {
        "id": "cpinqO6Jwxho"
      },
      "source": [
        "## **Comme vous pouvez voir nous avons atteindre une performance de 81,60% avec le LSTM model**"
      ]
    },
    {
      "cell_type": "markdown",
      "metadata": {
        "id": "nd8ziqCjKOeX"
      },
      "source": [
        "* Tracons la différence de loss et accuracy entre train set et test set"
      ]
    },
    {
      "cell_type": "code",
      "metadata": {
        "colab": {
          "base_uri": "https://localhost:8080/",
          "height": 573
        },
        "id": "lxYenPKmpxYq",
        "outputId": "e7cd0375-4fc8-4bb4-a064-dcb75766abd9"
      },
      "source": [
        "import matplotlib.pyplot as plt\n",
        "\n",
        "plt.plot(history.history['acc'])\n",
        "plt.plot(history.history['val_acc'])\n",
        "\n",
        "plt.title('model accuracy')\n",
        "plt.ylabel('accuracy')\n",
        "plt.xlabel('epoch')\n",
        "plt.legend(['train','test'], loc='upper left')\n",
        "plt.show()\n",
        "\n",
        "plt.plot(history.history['loss'])\n",
        "plt.plot(history.history['val_loss'])\n",
        "\n",
        "plt.title('model loss')\n",
        "plt.ylabel('loss')\n",
        "plt.xlabel('epoch')\n",
        "plt.legend(['train','test'], loc='upper left')\n",
        "plt.show()"
      ],
      "execution_count": 29,
      "outputs": [
        {
          "output_type": "display_data",
          "data": {
            "image/png": "[encoded data removed]",
            "text/plain": [
              "<Figure size 432x288 with 1 Axes>"
            ]
          },
          "metadata": {
            "tags": [],
            "needs_background": "light"
          }
        },
        {
          "output_type": "display_data",
          "data": {
            "image/png": "[encoded data removed]",
            "text/plain": [
              "<Figure size 432x288 with 1 Axes>"
            ]
          },
          "metadata": {
            "tags": [],
            "needs_background": "light"
          }
        }
      ]
    }
  ]
}