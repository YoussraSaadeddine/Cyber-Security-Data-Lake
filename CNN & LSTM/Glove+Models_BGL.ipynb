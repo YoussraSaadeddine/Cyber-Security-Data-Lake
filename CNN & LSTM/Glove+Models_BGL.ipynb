{
  "nbformat": 4,
  "nbformat_minor": 0,
  "metadata": {
    "colab": {
      "name": "Glove+Models BGL.ipynb",
      "provenance": [],
      "collapsed_sections": []
    },
    "kernelspec": {
      "name": "python3",
      "display_name": "Python 3"
    },
    "language_info": {
      "name": "python"
    },
    "accelerator": "GPU"
  },
  "cells": [
    {
      "cell_type": "markdown",
      "metadata": {
        "id": "3UzO-0b5_tA3"
      },
      "source": [
        "# I- Introduction:\n",
        "Aprés avoir testé the state of the art model (Bert) nous alllons essayer dans ce projet d'utiliser deux types différents de deep neural network: Convolutional Neural Network (CNN) et Long Short Term Memory Network (LSTM), qui est une variante des Recurrent Neural Networks pour affiner rapidement et efficacement un modèle de classification des logs de Blue Gene/L supercompute, où notre objectif sera de détecter les anomalies dans des futurs logs.\n",
        "\n",
        "* **Dataset** - nous allons utiliser une DT open Source des logs de Blue Gene/L supercomputer(contient 4,747,963 logs mais nous allons utiliser seulement 172K logs),il est sous forme d'un Filelog donc on avait besoin d'utiliser excel(On peut utiliser Python mais excel reste simple) pour insérer les logs dans des dataframes.\n",
        "\n",
        "* **Objectif** - developper une solution qui permet de detecter les anomalies dans les logs.\n",
        "\n",
        "* **Methodologie** - nous allons considerer comme nous avons un probleme de text classification et construire un deep learning model pour attiendre l'objectif."
      ]
    },
    {
      "cell_type": "markdown",
      "metadata": {
        "id": "J2xQARwf_s1f"
      },
      "source": [
        "# II- Different Models:\n",
        "\n",
        "Il existe plusieurs types de modèles qui pourraient être utilisés pour créer la solution de la classification de texte parmi ces solutions on trouve:\n",
        "\n",
        "\n",
        "*   **1D- Conv Net** : \n",
        "les CNN peuvent être utilisés pour la classification des textes. ils sont plus rapides à s'entraîner.\n",
        "\n",
        "*   **Modèles basés sur RNN (LSTM, GRU)** :  ils peuvent capturer la nature séquentielle d'un texte. Mais ils sont plus lent à s'entraîner.\n",
        "\n",
        "* **Modèles basés sur des transformers (BERT, GPT2)** -\n",
        "Les modèles basés sur des transformers exploite plusieurs unités Transformer et un mécanisme d'attention à multihead.\n",
        "\n",
        "####Dans ce projet nous allons focaliser sur un model basé sur RNN(LSTM) et un autre basé sur les CNN.\n"
      ]
    },
    {
      "cell_type": "markdown",
      "metadata": {
        "id": "nWOg1foq_ssc"
      },
      "source": [
        "# III- Data Preprocessing"
      ]
    },
    {
      "cell_type": "markdown",
      "metadata": {
        "id": "CPM6Y9-x_sjc"
      },
      "source": [
        "### 1. Importing libraries and modules"
      ]
    },
    {
      "cell_type": "code",
      "metadata": {
        "id": "NYyobhk2enYZ"
      },
      "source": [
        "import pandas as pd\n",
        "import numpy as np\n",
        "import matplotlib.pyplot as plt\n",
        "import seaborn as sns\n",
        "import re\n",
        "from numpy import array\n",
        "import keras \n",
        "from keras.preprocessing.sequence import pad_sequences\n",
        "from keras.models import Sequential\n",
        "from keras.layers.core import Activation, Dropout, Dense\n",
        "from keras.layers import Flatten\n",
        "from keras.layers import GlobalMaxPooling1D\n",
        "from keras.layers.embeddings import Embedding\n",
        "from keras.preprocessing.text import Tokenizer\n",
        "from sklearn.utils import shuffle\n",
        "from google.colab import drive\n",
        "from sklearn.model_selection import train_test_split\n",
        "from keras.models import Sequential\n",
        "from keras.layers import Dense\n",
        "from keras.layers import Input, Dense, Dropout, Embedding, LSTM, Flatten\n",
        "from keras.models import Model\n",
        "from sklearn.metrics import accuracy_score"
      ],
      "execution_count": 1,
      "outputs": []
    },
    {
      "cell_type": "markdown",
      "metadata": {
        "id": "FQRMWg6qlJsg"
      },
      "source": [
        "###2. Loading Data"
      ]
    },
    {
      "cell_type": "markdown",
      "metadata": {
        "id": "bK_C6jL3Swj9"
      },
      "source": [
        "####**Importing files from Google Drive in Colab**\n",
        "notre dataset est stockée dans Google Drive donc nous avons besoin de \n",
        "lier notre compte Google Drive avec notre notebook.\n",
        "1. La première étape consiste à monter notre Google Drive en exécutant le code en dessous.\n",
        "2.  nous obtenons le code d'autorisation en nous connectant à notre compte Google.\n",
        "3.   nous collons le code d'autorisation et nous appuyons sur Entrée."
      ]
    },
    {
      "cell_type": "code",
      "metadata": {
        "colab": {
          "base_uri": "https://localhost:8080/"
        },
        "id": "ny55UZG3ggjK",
        "outputId": "489f012f-87f2-4fac-f5c7-6f0c3dc7c11f"
      },
      "source": [
        "drive.mount('/gdrive')\n",
        "%cd /gdrive"
      ],
      "execution_count": 2,
      "outputs": [
        {
          "output_type": "stream",
          "text": [
            "Mounted at /gdrive\n",
            "/gdrive\n"
          ],
          "name": "stdout"
        }
      ]
    },
    {
      "cell_type": "code",
      "metadata": {
        "id": "xtBvabavkZb5"
      },
      "source": [
        "PATH_normal=r'/gdrive/My Drive/bgl normal.xlsx'\n",
        "PATH_abnormal=r'/gdrive/My Drive/bgl abnormal.xlsx'"
      ],
      "execution_count": 3,
      "outputs": []
    },
    {
      "cell_type": "code",
      "metadata": {
        "id": "4PffwR6FkZSD"
      },
      "source": [
        "data_normal = pd.read_excel(PATH_normal)\n",
        "data_abnormal = pd.read_excel(PATH_abnormal)"
      ],
      "execution_count": 4,
      "outputs": []
    },
    {
      "cell_type": "code",
      "metadata": {
        "id": "CLlbEqQvkZCq"
      },
      "source": [
        "data_normal.to_csv(r'/gdrive/My Drive/bgl normal.csv')\n",
        "data_abnormal.to_csv(r'/gdrive/My Drive/bgl abnormal.csv')"
      ],
      "execution_count": 5,
      "outputs": []
    },
    {
      "cell_type": "code",
      "metadata": {
        "id": "OciB7qLAgvwY"
      },
      "source": [
        "df_normal = pd.read_csv(r'/gdrive/My Drive/bgl normal.csv')\n",
        "df_abnormal = pd.read_csv(r'/gdrive/My Drive/bgl abnormal.csv')"
      ],
      "execution_count": 6,
      "outputs": []
    },
    {
      "cell_type": "markdown",
      "metadata": {
        "id": "yy8ssvr1CrbT"
      },
      "source": [
        "* ajouter les labels"
      ]
    },
    {
      "cell_type": "code",
      "metadata": {
        "id": "xJDIE3BPgyTe"
      },
      "source": [
        "df_normal=df_normal[['log']]\n",
        "df_abnormal=df_abnormal[['log']]\n",
        "df_normal['label']=0\n",
        "df_abnormal['label']=1"
      ],
      "execution_count": 7,
      "outputs": []
    },
    {
      "cell_type": "markdown",
      "metadata": {
        "id": "f1EdX0Wys_3t"
      },
      "source": [
        "* concatenate and shuffle data"
      ]
    },
    {
      "cell_type": "code",
      "metadata": {
        "colab": {
          "base_uri": "https://localhost:8080/",
          "height": 359
        },
        "id": "PIwqBYhzgyJ4",
        "outputId": "a7bd10a5-68bf-4d5b-a3fa-49ba01b83349"
      },
      "source": [
        "#concatinate\n",
        "df=pd.concat([df_normal,df_abnormal])\n",
        "# Shuffle the data\n",
        "df = shuffle(df).reset_index(drop=True)\n",
        "df.sample(10)"
      ],
      "execution_count": 8,
      "outputs": [
        {
          "output_type": "execute_result",
          "data": {
            "text/html": [
              "<div>\n",
              "<style scoped>\n",
              "    .dataframe tbody tr th:only-of-type {\n",
              "        vertical-align: middle;\n",
              "    }\n",
              "\n",
              "    .dataframe tbody tr th {\n",
              "        vertical-align: top;\n",
              "    }\n",
              "\n",
              "    .dataframe thead th {\n",
              "        text-align: right;\n",
              "    }\n",
              "</style>\n",
              "<table border=\"1\" class=\"dataframe\">\n",
              "  <thead>\n",
              "    <tr style=\"text-align: right;\">\n",
              "      <th></th>\n",
              "      <th>log</th>\n",
              "      <th>label</th>\n",
              "    </tr>\n",
              "  </thead>\n",
              "  <tbody>\n",
              "    <tr>\n",
              "      <th>137980</th>\n",
              "      <td>- 1117970567 2005.06.05 R22-M0-ND-C:J04-U11 20...</td>\n",
              "      <td>0</td>\n",
              "    </tr>\n",
              "    <tr>\n",
              "      <th>134877</th>\n",
              "      <td>- 1118769844 2005.06.14 R27-M0-N8-C:J10-U01 20...</td>\n",
              "      <td>0</td>\n",
              "    </tr>\n",
              "    <tr>\n",
              "      <th>157165</th>\n",
              "      <td>- 1117975662 2005.06.05 R27-M1-NB-C:J11-U01 20...</td>\n",
              "      <td>0</td>\n",
              "    </tr>\n",
              "    <tr>\n",
              "      <th>34</th>\n",
              "      <td>- 1118771052 2005.06.14 R21-M0-N1-C:J08-U01 20...</td>\n",
              "      <td>0</td>\n",
              "    </tr>\n",
              "    <tr>\n",
              "      <th>2450</th>\n",
              "      <td>KERNDTLB 1118539302 2005.06.11 R30-M0-N9-C:J16...</td>\n",
              "      <td>1</td>\n",
              "    </tr>\n",
              "    <tr>\n",
              "      <th>109735</th>\n",
              "      <td>- 1117845188 2005.06.03 R20-M0-NB-C:J09-U11 20...</td>\n",
              "      <td>0</td>\n",
              "    </tr>\n",
              "    <tr>\n",
              "      <th>61569</th>\n",
              "      <td>- 1117973843 2005.06.05 R30-M1-NF-C:J12-U01 20...</td>\n",
              "      <td>0</td>\n",
              "    </tr>\n",
              "    <tr>\n",
              "      <th>169842</th>\n",
              "      <td>- 1118771871 2005.06.14 R26-M0-NE-C:J11-U11 20...</td>\n",
              "      <td>0</td>\n",
              "    </tr>\n",
              "    <tr>\n",
              "      <th>125948</th>\n",
              "      <td>- 1119481842 2005.06.22 R23-M1-NC-C:J09-U11 20...</td>\n",
              "      <td>0</td>\n",
              "    </tr>\n",
              "    <tr>\n",
              "      <th>58279</th>\n",
              "      <td>- 1117842983 2005.06.03 R20-M0-N5-C:J09-U01 20...</td>\n",
              "      <td>0</td>\n",
              "    </tr>\n",
              "  </tbody>\n",
              "</table>\n",
              "</div>"
            ],
            "text/plain": [
              "                                                      log  label\n",
              "137980  - 1117970567 2005.06.05 R22-M0-ND-C:J04-U11 20...      0\n",
              "134877  - 1118769844 2005.06.14 R27-M0-N8-C:J10-U01 20...      0\n",
              "157165  - 1117975662 2005.06.05 R27-M1-NB-C:J11-U01 20...      0\n",
              "34      - 1118771052 2005.06.14 R21-M0-N1-C:J08-U01 20...      0\n",
              "2450    KERNDTLB 1118539302 2005.06.11 R30-M0-N9-C:J16...      1\n",
              "109735  - 1117845188 2005.06.03 R20-M0-NB-C:J09-U11 20...      0\n",
              "61569   - 1117973843 2005.06.05 R30-M1-NF-C:J12-U01 20...      0\n",
              "169842  - 1118771871 2005.06.14 R26-M0-NE-C:J11-U11 20...      0\n",
              "125948  - 1119481842 2005.06.22 R23-M1-NC-C:J09-U11 20...      0\n",
              "58279   - 1117842983 2005.06.03 R20-M0-N5-C:J09-U01 20...      0"
            ]
          },
          "metadata": {
            "tags": []
          },
          "execution_count": 8
        }
      ]
    },
    {
      "cell_type": "code",
      "metadata": {
        "colab": {
          "base_uri": "https://localhost:8080/"
        },
        "id": "FkrzMx3TloWk",
        "outputId": "f400ed8c-ac2e-4075-83bf-0c17f3a21615"
      },
      "source": [
        "df.shape"
      ],
      "execution_count": 9,
      "outputs": [
        {
          "output_type": "execute_result",
          "data": {
            "text/plain": [
              "(172138, 2)"
            ]
          },
          "metadata": {
            "tags": []
          },
          "execution_count": 9
        }
      ]
    },
    {
      "cell_type": "markdown",
      "metadata": {
        "id": "685zpRDjC58h"
      },
      "source": [
        "* Vérifier les valeurs nulles"
      ]
    },
    {
      "cell_type": "code",
      "metadata": {
        "colab": {
          "base_uri": "https://localhost:8080/"
        },
        "id": "9-NmJdhmhK5W",
        "outputId": "f9242d9b-61d5-4dd9-db26-0de3accb8ed5"
      },
      "source": [
        "df.isnull().values.any()"
      ],
      "execution_count": 10,
      "outputs": [
        {
          "output_type": "execute_result",
          "data": {
            "text/plain": [
              "False"
            ]
          },
          "metadata": {
            "tags": []
          },
          "execution_count": 10
        }
      ]
    },
    {
      "cell_type": "markdown",
      "metadata": {
        "id": "mp3wlBLbltvM"
      },
      "source": [
        "* Nous supprimons ensuite les caractères non alphanumériques."
      ]
    },
    {
      "cell_type": "code",
      "metadata": {
        "id": "5dKtmLcIg-L6"
      },
      "source": [
        "def clean_data(log):\n",
        "    log = re.sub(\"'\", \"\", log)\n",
        "    log = re.sub(\"-\", \"\", log)\n",
        "    log = re.sub(\"(\\\\W)+\", \" \", log)\n",
        "    log = log.lower()\n",
        "    return log\n",
        "\n",
        "df['log'] = df['log'].apply(clean_data)"
      ],
      "execution_count": 11,
      "outputs": []
    },
    {
      "cell_type": "markdown",
      "metadata": {
        "id": "t94COKNemxbH"
      },
      "source": [
        "* Split the dataset into train set 80% et test sets 20%)"
      ]
    },
    {
      "cell_type": "code",
      "metadata": {
        "id": "n5kwEITAiez8"
      },
      "source": [
        "X_train, X_test, y_train, y_test = train_test_split(df['log'],df['label'], test_size=0.2,random_state=42)"
      ],
      "execution_count": 12,
      "outputs": []
    },
    {
      "cell_type": "markdown",
      "metadata": {
        "id": "Fs6cPEVJDvFm"
      },
      "source": [
        "# IV- Preparing the Embedding Layer"
      ]
    },
    {
      "cell_type": "markdown",
      "metadata": {
        "id": "Y6erncuPFx81"
      },
      "source": [
        "nous utiliserons la classe Tokenizer du module keras.preprocessing.text pour créer un dictionnaire de word-to-index . Dans le dictionnaire, chaque mot est utilisé comme clé, tandis qu'un index unique correspondant est utilisé comme valeur pour la clé."
      ]
    },
    {
      "cell_type": "code",
      "metadata": {
        "id": "Nv_DaokYjRFi"
      },
      "source": [
        "tokenizer = Tokenizer()\n",
        "tokenizer.fit_on_texts(X_train)\n",
        "\n",
        "X_train = tokenizer.texts_to_sequences(X_train)\n",
        "X_test = tokenizer.texts_to_sequences(X_test)"
      ],
      "execution_count": 13,
      "outputs": []
    },
    {
      "cell_type": "markdown",
      "metadata": {
        "id": "TOo_yb2QGP2q"
      },
      "source": [
        "Nous fixons la taille maximale à 86. Les listes de taille supérieure à 86 seront tronquées à 86. Pour les listes dont la longueur est inférieure à 86, nous ajouterons 0 à la fin de la liste jusqu'à ce qu'elle atteigne la longueur maximale."
      ]
    },
    {
      "cell_type": "code",
      "metadata": {
        "id": "2v1cM7DkjvfI"
      },
      "source": [
        "vocab_size = len(tokenizer.word_index) + 1\n",
        "\n",
        "maxlen = 86\n",
        "\n",
        "X_train = pad_sequences(X_train, padding='post', maxlen=maxlen)\n",
        "X_test = pad_sequences(X_test, padding='post', maxlen=maxlen)"
      ],
      "execution_count": 14,
      "outputs": []
    },
    {
      "cell_type": "markdown",
      "metadata": {
        "id": "04wvSErOG3FK"
      },
      "source": [
        "Nous utiliserons GloVe embeddings pour créer feature matrix, j'ai essayé d'importer Glove sur mon drive\n",
        "* vous pouvez la trouver sur : https://drive.google.com/file/d/17PIgUPWrXOLFbUYqTAnl1cgWqnWHgX1B/view?usp=sharing"
      ]
    },
    {
      "cell_type": "code",
      "metadata": {
        "id": "wOS5ffsdkAiu"
      },
      "source": [
        "from numpy import array\n",
        "from numpy import asarray\n",
        "from numpy import zeros\n",
        "\n",
        "glove_path=r'/gdrive/My Drive/glove.6B.100d.txt'\n",
        "embeddings_dictionary = dict()\n",
        "glove_file = open(glove_path, encoding=\"utf8\")\n",
        "\n",
        "for line in glove_file:\n",
        "    records = line.split()\n",
        "    word = records[0]\n",
        "    vector_dimensions = asarray(records[1:], dtype='float32')\n",
        "    embeddings_dictionary [word] = vector_dimensions\n",
        "glove_file.close()"
      ],
      "execution_count": 15,
      "outputs": []
    },
    {
      "cell_type": "markdown",
      "metadata": {
        "id": "jxW3vnn6INGC"
      },
      "source": [
        "Enfin, nous allons créer une embedding matrix où chaque numéro de ligne correspondra à l'index du mot. La matrice aura 100 colonnes où chaque colonne contiendra les embeddings de mots GloVe."
      ]
    },
    {
      "cell_type": "code",
      "metadata": {
        "id": "eKSc-2jom30B"
      },
      "source": [
        "embedding_matrix = zeros((vocab_size,100))\n",
        "for word, index in tokenizer.word_index.items():\n",
        "    embedding_vector = embeddings_dictionary.get(word)\n",
        "    if embedding_vector is not None:\n",
        "        embedding_matrix[index] = embedding_vector"
      ],
      "execution_count": 16,
      "outputs": []
    },
    {
      "cell_type": "markdown",
      "metadata": {
        "id": "QQUyrighIdMd"
      },
      "source": [
        "# V- CNN model"
      ]
    },
    {
      "cell_type": "markdown",
      "metadata": {
        "id": "mHfkvOXQoHFD"
      },
      "source": [
        "* Construire le model"
      ]
    },
    {
      "cell_type": "code",
      "metadata": {
        "id": "vnPEv7_tapmK"
      },
      "source": [
        "from keras.layers import MaxPooling1D,Conv1D,GlobalMaxPooling1D\n",
        "from keras.models import Sequential, Model\n",
        "from keras.layers import Activation, Dense, Dropout, Flatten, Input, merge,Concatenate\n",
        "\n",
        "\n",
        "\n",
        "###Building the Model. \n",
        "input_tensor = Input(shape=(86,))\n",
        "# Créer un embedding layer(2D)\n",
        "input_layer= Embedding(vocab_size,100, weights=[embedding_matrix], input_length=maxlen , trainable=False)(input_tensor)\n",
        "#liste où on va stocker l'output\n",
        "uni_vec = []\n",
        "#nous allons utiliser 3 filtres avec des n-grams différents( 2-grams, 3-grams, 4-grams\n",
        "filter_sizes = (2,3,4)\n",
        "for ks in filter_sizes:\n",
        "    #applique 3 convolutions différents à l'embedding layer\n",
        "    conv_layer= Conv1D(128, kernel_size=ks, activation='relu')(input_layer)\n",
        "    maxpool_layer = MaxPooling1D(pool_size=4)(conv_layer)\n",
        "    flat_layer= Flatten()(maxpool_layer)\n",
        "    uni_vec.append(flat_layer)\n",
        "\n",
        "# concatiner les outputs \n",
        "single_feature_vector = keras.layers.concatenate(uni_vec)\n",
        "#fully Connected Layers\n",
        "dense = Dense(128, activation='relu')(single_feature_vector)\n",
        "dense2 = Dense(128, activation='relu')(dense)\n",
        "out = Dense(1, activation='sigmoid')(dense2)\n",
        "model = Model(inputs=input_tensor, outputs=out)\n",
        "\n"
      ],
      "execution_count": 17,
      "outputs": []
    },
    {
      "cell_type": "code",
      "metadata": {
        "colab": {
          "base_uri": "https://localhost:8080/"
        },
        "id": "gR9pjhXteuXp",
        "outputId": "711685b3-555f-4122-afd8-7d0658552eda"
      },
      "source": [
        "model.summary()"
      ],
      "execution_count": 18,
      "outputs": [
        {
          "output_type": "stream",
          "text": [
            "Model: \"model\"\n",
            "__________________________________________________________________________________________________\n",
            "Layer (type)                    Output Shape         Param #     Connected to                     \n",
            "==================================================================================================\n",
            "input_1 (InputLayer)            [(None, 86)]         0                                            \n",
            "__________________________________________________________________________________________________\n",
            "embedding (Embedding)           (None, 86, 100)      15795000    input_1[0][0]                    \n",
            "__________________________________________________________________________________________________\n",
            "conv1d (Conv1D)                 (None, 85, 128)      25728       embedding[0][0]                  \n",
            "__________________________________________________________________________________________________\n",
            "conv1d_1 (Conv1D)               (None, 84, 128)      38528       embedding[0][0]                  \n",
            "__________________________________________________________________________________________________\n",
            "conv1d_2 (Conv1D)               (None, 83, 128)      51328       embedding[0][0]                  \n",
            "__________________________________________________________________________________________________\n",
            "max_pooling1d (MaxPooling1D)    (None, 21, 128)      0           conv1d[0][0]                     \n",
            "__________________________________________________________________________________________________\n",
            "max_pooling1d_1 (MaxPooling1D)  (None, 21, 128)      0           conv1d_1[0][0]                   \n",
            "__________________________________________________________________________________________________\n",
            "max_pooling1d_2 (MaxPooling1D)  (None, 20, 128)      0           conv1d_2[0][0]                   \n",
            "__________________________________________________________________________________________________\n",
            "flatten (Flatten)               (None, 2688)         0           max_pooling1d[0][0]              \n",
            "__________________________________________________________________________________________________\n",
            "flatten_1 (Flatten)             (None, 2688)         0           max_pooling1d_1[0][0]            \n",
            "__________________________________________________________________________________________________\n",
            "flatten_2 (Flatten)             (None, 2560)         0           max_pooling1d_2[0][0]            \n",
            "__________________________________________________________________________________________________\n",
            "concatenate (Concatenate)       (None, 7936)         0           flatten[0][0]                    \n",
            "                                                                 flatten_1[0][0]                  \n",
            "                                                                 flatten_2[0][0]                  \n",
            "__________________________________________________________________________________________________\n",
            "dense (Dense)                   (None, 128)          1015936     concatenate[0][0]                \n",
            "__________________________________________________________________________________________________\n",
            "dense_1 (Dense)                 (None, 128)          16512       dense[0][0]                      \n",
            "__________________________________________________________________________________________________\n",
            "dense_2 (Dense)                 (None, 1)            129         dense_1[0][0]                    \n",
            "==================================================================================================\n",
            "Total params: 16,943,161\n",
            "Trainable params: 1,148,161\n",
            "Non-trainable params: 15,795,000\n",
            "__________________________________________________________________________________________________\n"
          ],
          "name": "stdout"
        }
      ]
    },
    {
      "cell_type": "markdown",
      "metadata": {
        "id": "vQ4SabuZwA7E"
      },
      "source": [
        "* compiler le model"
      ]
    },
    {
      "cell_type": "code",
      "metadata": {
        "id": "qGO3pmPgb7sb"
      },
      "source": [
        "model.compile(optimizer='adam', loss='binary_crossentropy', metrics=['acc'])"
      ],
      "execution_count": 19,
      "outputs": []
    },
    {
      "cell_type": "markdown",
      "metadata": {
        "id": "E1Y8cIIqJDcn"
      },
      "source": [
        "* train le model"
      ]
    },
    {
      "cell_type": "code",
      "metadata": {
        "colab": {
          "base_uri": "https://localhost:8080/"
        },
        "id": "mvOS4Xc0pMPz",
        "outputId": "8df70748-d3e0-4f05-b62f-812599a4ec04"
      },
      "source": [
        "history = model.fit(X_train, y_train, batch_size=64, epochs=10, verbose=1, validation_split=0.2)"
      ],
      "execution_count": 20,
      "outputs": [
        {
          "output_type": "stream",
          "text": [
            "Epoch 1/10\n",
            "1722/1722 [==============================] - 57s 7ms/step - loss: 0.0100 - acc: 0.9955 - val_loss: 5.1926e-04 - val_acc: 0.9999\n",
            "Epoch 2/10\n",
            "1722/1722 [==============================] - 10s 6ms/step - loss: 8.7441e-04 - acc: 0.9998 - val_loss: 6.9535e-04 - val_acc: 0.9998\n",
            "Epoch 3/10\n",
            "1722/1722 [==============================] - 10s 6ms/step - loss: 4.3859e-04 - acc: 0.9999 - val_loss: 0.0011 - val_acc: 0.9995\n",
            "Epoch 4/10\n",
            "1722/1722 [==============================] - 10s 6ms/step - loss: 2.5824e-04 - acc: 0.9999 - val_loss: 2.7987e-04 - val_acc: 0.9999\n",
            "Epoch 5/10\n",
            "1722/1722 [==============================] - 10s 6ms/step - loss: 5.1721e-04 - acc: 0.9998 - val_loss: 1.7902e-04 - val_acc: 0.9999\n",
            "Epoch 6/10\n",
            "1722/1722 [==============================] - 10s 6ms/step - loss: 2.5261e-04 - acc: 0.9999 - val_loss: 3.6472e-04 - val_acc: 0.9999\n",
            "Epoch 7/10\n",
            "1722/1722 [==============================] - 10s 6ms/step - loss: 3.2842e-04 - acc: 0.9999 - val_loss: 0.0013 - val_acc: 0.9998\n",
            "Epoch 8/10\n",
            "1722/1722 [==============================] - 10s 6ms/step - loss: 3.0282e-04 - acc: 0.9999 - val_loss: 2.1040e-04 - val_acc: 0.9999\n",
            "Epoch 9/10\n",
            "1722/1722 [==============================] - 10s 6ms/step - loss: 1.6212e-04 - acc: 1.0000 - val_loss: 1.1369e-04 - val_acc: 1.0000\n",
            "Epoch 10/10\n",
            "1722/1722 [==============================] - 10s 6ms/step - loss: 1.5544e-04 - acc: 0.9999 - val_loss: 1.0831e-04 - val_acc: 1.0000\n"
          ],
          "name": "stdout"
        }
      ]
    },
    {
      "cell_type": "markdown",
      "metadata": {
        "id": "6siFb31HJHAc"
      },
      "source": [
        "* evaluer le model sur test set"
      ]
    },
    {
      "cell_type": "code",
      "metadata": {
        "colab": {
          "base_uri": "https://localhost:8080/"
        },
        "id": "6oGV4ihXpOGn",
        "outputId": "c7051ba3-e904-44ab-d07f-7d11dbd42d6e"
      },
      "source": [
        "score = model.evaluate(X_test, y_test, verbose=1)"
      ],
      "execution_count": 21,
      "outputs": [
        {
          "output_type": "stream",
          "text": [
            "1076/1076 [==============================] - 3s 3ms/step - loss: 0.1662 - acc: 0.9497\n"
          ],
          "name": "stdout"
        }
      ]
    },
    {
      "cell_type": "code",
      "metadata": {
        "colab": {
          "base_uri": "https://localhost:8080/"
        },
        "id": "Ld4aQAnUpOxS",
        "outputId": "dab6d2a4-1b69-4f31-d349-70d6ff117fb4"
      },
      "source": [
        "print(\"Test Score:\", score[0])\n",
        "print(\"Test Accuracy:\", score[1])"
      ],
      "execution_count": 22,
      "outputs": [
        {
          "output_type": "stream",
          "text": [
            "Test Score: 0.1662461906671524\n",
            "Test Accuracy: 0.9496630430221558\n"
          ],
          "name": "stdout"
        }
      ]
    },
    {
      "cell_type": "markdown",
      "metadata": {
        "id": "yUeZmyDTwMiU"
      },
      "source": [
        "## **Comme vous pouvez voir nous avons atteindre une performance de 94,96% avec le CNN model** "
      ]
    },
    {
      "cell_type": "markdown",
      "metadata": {
        "id": "lCc2itVAJT0f"
      },
      "source": [
        "* Tracons la différence de loss et accuracy entre train set et test set"
      ]
    },
    {
      "cell_type": "code",
      "metadata": {
        "colab": {
          "base_uri": "https://localhost:8080/",
          "height": 573
        },
        "id": "91tcRM_zpR7Z",
        "outputId": "5012be0e-cd82-4dfa-bd39-9974042d2b55"
      },
      "source": [
        "import matplotlib.pyplot as plt\n",
        "\n",
        "plt.plot(history.history['acc'])\n",
        "plt.plot(history.history['val_acc'])\n",
        "\n",
        "plt.title('model accuracy')\n",
        "plt.ylabel('accuracy')\n",
        "plt.xlabel('epoch')\n",
        "plt.legend(['train','test'], loc = 'upper left')\n",
        "plt.show()\n",
        "\n",
        "plt.plot(history.history['loss'])\n",
        "plt.plot(history.history['val_loss'])\n",
        "\n",
        "plt.title('model loss')\n",
        "plt.ylabel('loss')\n",
        "plt.xlabel('epoch')\n",
        "plt.legend(['train','test'], loc = 'upper left')\n",
        "plt.show()"
      ],
      "execution_count": 23,
      "outputs": [
        {
          "output_type": "display_data",
          "data": {
            "image/png": "[encoded data removed]",
            "text/plain": [
              "<Figure size 432x288 with 1 Axes>"
            ]
          },
          "metadata": {
            "tags": [],
            "needs_background": "light"
          }
        },
        {
          "output_type": "display_data",
          "data": {
            "image/png": "[encoded data removed]",
            "text/plain": [
              "<Figure size 432x288 with 1 Axes>"
            ]
          },
          "metadata": {
            "tags": [],
            "needs_background": "light"
          }
        }
      ]
    },
    {
      "cell_type": "markdown",
      "metadata": {
        "id": "R7uPb03U3Ydj"
      },
      "source": [
        "# VI- LSTM"
      ]
    },
    {
      "cell_type": "markdown",
      "metadata": {
        "id": "gr4ePt51J_8B"
      },
      "source": [
        "* Constriure le model"
      ]
    },
    {
      "cell_type": "code",
      "metadata": {
        "id": "lvjdragJpVNz"
      },
      "source": [
        "model1 = Sequential()\n",
        "embedding_layer = Embedding(vocab_size, 100, weights=[embedding_matrix], input_length=maxlen , trainable=False)\n",
        "model1.add(embedding_layer)\n",
        "model1.add(LSTM(128))\n",
        "model1.add(Dense(64, activation='relu'))\n",
        "model1.add(Dense(64, activation='relu'))\n",
        "model1.add(Dense(1, activation='sigmoid'))\n",
        "model1.compile(optimizer='adam', loss='binary_crossentropy', metrics=['acc'])\n"
      ],
      "execution_count": 24,
      "outputs": []
    },
    {
      "cell_type": "markdown",
      "metadata": {
        "id": "a7pUJMetKF3r"
      },
      "source": [
        "* train model"
      ]
    },
    {
      "cell_type": "code",
      "metadata": {
        "colab": {
          "base_uri": "https://localhost:8080/"
        },
        "id": "Nn8RDPUupc1x",
        "outputId": "68c1ae34-9d4f-4827-b1de-57849c10130c"
      },
      "source": [
        "history = model1.fit(X_train, y_train, batch_size=64, epochs=10, verbose=1, validation_split=0.2)"
      ],
      "execution_count": 25,
      "outputs": [
        {
          "output_type": "stream",
          "text": [
            "Epoch 1/10\n",
            "1722/1722 [==============================] - 22s 9ms/step - loss: 0.5104 - acc: 0.7933 - val_loss: 0.5087 - val_acc: 0.7944\n",
            "Epoch 2/10\n",
            "1722/1722 [==============================] - 16s 9ms/step - loss: 0.5101 - acc: 0.7934 - val_loss: 0.5094 - val_acc: 0.7944\n",
            "Epoch 3/10\n",
            "1722/1722 [==============================] - 15s 9ms/step - loss: 0.5093 - acc: 0.7939 - val_loss: 0.5080 - val_acc: 0.7944\n",
            "Epoch 4/10\n",
            "1722/1722 [==============================] - 15s 9ms/step - loss: 0.5121 - acc: 0.7916 - val_loss: 0.5083 - val_acc: 0.7944\n",
            "Epoch 5/10\n",
            "1722/1722 [==============================] - 16s 9ms/step - loss: 0.5135 - acc: 0.7905 - val_loss: 0.5089 - val_acc: 0.7944\n",
            "Epoch 6/10\n",
            "1722/1722 [==============================] - 15s 9ms/step - loss: 0.5104 - acc: 0.7928 - val_loss: 0.5078 - val_acc: 0.7944\n",
            "Epoch 7/10\n",
            "1722/1722 [==============================] - 15s 9ms/step - loss: 0.5097 - acc: 0.7937 - val_loss: 0.5081 - val_acc: 0.7944\n",
            "Epoch 8/10\n",
            "1722/1722 [==============================] - 15s 9ms/step - loss: 0.5125 - acc: 0.7913 - val_loss: 0.5081 - val_acc: 0.7944\n",
            "Epoch 9/10\n",
            "1722/1722 [==============================] - 15s 9ms/step - loss: 0.5105 - acc: 0.7927 - val_loss: 0.5078 - val_acc: 0.7944\n",
            "Epoch 10/10\n",
            "1722/1722 [==============================] - 15s 9ms/step - loss: 0.5104 - acc: 0.7927 - val_loss: 0.5078 - val_acc: 0.7944\n"
          ],
          "name": "stdout"
        }
      ]
    },
    {
      "cell_type": "markdown",
      "metadata": {
        "id": "Yn49GBAXKJKn"
      },
      "source": [
        "* evaluate model"
      ]
    },
    {
      "cell_type": "code",
      "metadata": {
        "colab": {
          "base_uri": "https://localhost:8080/"
        },
        "id": "0pS-cEJQpsMa",
        "outputId": "f15dfaac-0253-4b7f-be5b-80a0cd592ad8"
      },
      "source": [
        "score = model1.evaluate(X_test, y_test, verbose=1)"
      ],
      "execution_count": 26,
      "outputs": [
        {
          "output_type": "stream",
          "text": [
            "1076/1076 [==============================] - 4s 4ms/step - loss: 0.5135 - acc: 0.7904\n"
          ],
          "name": "stdout"
        }
      ]
    },
    {
      "cell_type": "code",
      "metadata": {
        "colab": {
          "base_uri": "https://localhost:8080/"
        },
        "id": "tVCgKEwHpwG8",
        "outputId": "826b5e7a-2941-40bf-a2e7-77c833d99e30"
      },
      "source": [
        "print(\"Test Score:\", score[0])\n",
        "print(\"Test Accuracy:\", score[1])"
      ],
      "execution_count": 27,
      "outputs": [
        {
          "output_type": "stream",
          "text": [
            "Test Score: 0.5134709477424622\n",
            "Test Accuracy: 0.7904322147369385\n"
          ],
          "name": "stdout"
        }
      ]
    },
    {
      "cell_type": "markdown",
      "metadata": {
        "id": "cpinqO6Jwxho"
      },
      "source": [
        "## **Comme vous pouvez voir nous avons atteindre une performance de 79,04% avec le LSTM model**"
      ]
    },
    {
      "cell_type": "markdown",
      "metadata": {
        "id": "nd8ziqCjKOeX"
      },
      "source": [
        "* Tracons la différence de loss et accuracy entre train set et test set"
      ]
    },
    {
      "cell_type": "code",
      "metadata": {
        "colab": {
          "base_uri": "https://localhost:8080/",
          "height": 573
        },
        "id": "lxYenPKmpxYq",
        "outputId": "5469939d-dda8-404e-a278-96a14c45973d"
      },
      "source": [
        "import matplotlib.pyplot as plt\n",
        "\n",
        "plt.plot(history.history['acc'])\n",
        "plt.plot(history.history['val_acc'])\n",
        "\n",
        "plt.title('model accuracy')\n",
        "plt.ylabel('accuracy')\n",
        "plt.xlabel('epoch')\n",
        "plt.legend(['train','test'], loc='upper left')\n",
        "plt.show()\n",
        "\n",
        "plt.plot(history.history['loss'])\n",
        "plt.plot(history.history['val_loss'])\n",
        "\n",
        "plt.title('model loss')\n",
        "plt.ylabel('loss')\n",
        "plt.xlabel('epoch')\n",
        "plt.legend(['train','test'], loc='upper left')\n",
        "plt.show()"
      ],
      "execution_count": 28,
      "outputs": [
        {
          "output_type": "display_data",
          "data": {
            "image/png": "[encoded data removed]",
            "text/plain": [
              "<Figure size 432x288 with 1 Axes>"
            ]
          },
          "metadata": {
            "tags": [],
            "needs_background": "light"
          }
        },
        {
          "output_type": "display_data",
          "data": {
            "image/png": "[encoded data removed]",
            "text/plain": [
              "<Figure size 432x288 with 1 Axes>"
            ]
          },
          "metadata": {
            "tags": [],
            "needs_background": "light"
          }
        }
      ]
    }
  ]
}