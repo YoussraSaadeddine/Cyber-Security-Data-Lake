{
  "nbformat": 4,
  "nbformat_minor": 0,
  "metadata": {
    "colab": {
      "name": "Glove+Models OpenStack.ipynb",
      "provenance": [],
      "collapsed_sections": []
    },
    "kernelspec": {
      "name": "python3",
      "display_name": "Python 3"
    },
    "language_info": {
      "name": "python"
    },
    "accelerator": "GPU"
  },
  "cells": [
    {
      "cell_type": "markdown",
      "metadata": {
        "id": "3UzO-0b5_tA3"
      },
      "source": [
        "# I- Introduction:\n",
        "Aprés avoir testé the state of the art model (Bert) nous alllons essayer dans ce projet d'utiliser deux types différents de deep neural network: Convolutional Neural Network (CNN) et Long Short Term Memory Network (LSTM), qui est une variante des Recurrent Neural Networks pour affiner rapidement et efficacement un modèle de classification des logs d'Openstack, où notre objectif sera de détecter les anomalies dans des futurs logs.\n",
        "\n",
        "* **Dataset** - nous allons utiliser une DT open Source d'openstack(contient au total 207,820 logs) mais il est sous forme d'un Filelog donc on avait besoin d'utiliser excel(On peut utiliser Python mais excel reste simple) pour insérer les logs dans des dataframes.\n",
        "\n",
        "* **Objectif** - developper une solution qui permet de detecter les anomalies dans les logs.\n",
        "\n",
        "* **Methodologie** - nous allons considerer comme nous avons un probleme de text classification et construire un deep learning model pour attiendre l'objectif."
      ]
    },
    {
      "cell_type": "markdown",
      "metadata": {
        "id": "J2xQARwf_s1f"
      },
      "source": [
        "# II- Different Models:\n",
        "\n",
        "Il existe plusieurs types de modèles qui pourraient être utilisés pour créer la solution de la classification de texte parmi ces solutions on trouve:\n",
        "\n",
        "\n",
        "*   **1D- Conv Net** : \n",
        "les CNN peuvent être utilisés pour la classification des textes. ils sont plus rapides à s'entraîner.\n",
        "\n",
        "*   **Modèles basés sur RNN (LSTM, GRU)** :  ils peuvent capturer la nature séquentielle d'un texte. Mais ils sont plus lent à s'entraîner.\n",
        "\n",
        "* **Modèles basés sur des transformers (BERT, GPT2)** -\n",
        "Les modèles basés sur des transformers exploite plusieurs unités Transformer et un mécanisme d'attention à multihead.\n",
        "\n",
        "####Dans ce projet nous allons focaliser sur un model basé sur RNN(LSTM) et un autre basé sur les CNN.\n"
      ]
    },
    {
      "cell_type": "markdown",
      "metadata": {
        "id": "nWOg1foq_ssc"
      },
      "source": [
        "# III- Data Preprocessing"
      ]
    },
    {
      "cell_type": "markdown",
      "metadata": {
        "id": "CPM6Y9-x_sjc"
      },
      "source": [
        "### 1. Importing libraries and modules"
      ]
    },
    {
      "cell_type": "code",
      "metadata": {
        "id": "NYyobhk2enYZ"
      },
      "source": [
        "import pandas as pd\n",
        "import numpy as np\n",
        "import matplotlib.pyplot as plt\n",
        "import seaborn as sns\n",
        "import re\n",
        "from numpy import array\n",
        "import keras \n",
        "from keras.preprocessing.sequence import pad_sequences\n",
        "from keras.models import Sequential\n",
        "from keras.layers.core import Activation, Dropout, Dense\n",
        "from keras.layers import Flatten\n",
        "from keras.layers import GlobalMaxPooling1D\n",
        "from keras.layers.embeddings import Embedding\n",
        "from keras.preprocessing.text import Tokenizer\n",
        "from sklearn.utils import shuffle\n",
        "from google.colab import drive\n",
        "from sklearn.model_selection import train_test_split\n",
        "from keras.models import Sequential\n",
        "from keras.layers import Dense\n",
        "from keras.layers import Input, Dense, Dropout, Embedding, LSTM, Flatten\n",
        "from keras.models import Model\n",
        "from sklearn.metrics import accuracy_score"
      ],
      "execution_count": 1,
      "outputs": []
    },
    {
      "cell_type": "markdown",
      "metadata": {
        "id": "FQRMWg6qlJsg"
      },
      "source": [
        "###2. Loading Data"
      ]
    },
    {
      "cell_type": "markdown",
      "metadata": {
        "id": "bK_C6jL3Swj9"
      },
      "source": [
        "####**Importing files from Google Drive in Colab**\n",
        "notre dataset est stockée dans Google Drive donc nous avons besoin de \n",
        "lier notre compte Google Drive avec notre notebook.\n",
        "1. La première étape consiste à monter notre Google Drive en exécutant le code en dessous.\n",
        "2.  nous obtenons le code d'autorisation en nous connectant à notre compte Google.\n",
        "3.   nous collons le code d'autorisation et nous appuyons sur Entrée."
      ]
    },
    {
      "cell_type": "code",
      "metadata": {
        "colab": {
          "base_uri": "https://localhost:8080/"
        },
        "id": "ny55UZG3ggjK",
        "outputId": "74de17f0-284d-4736-e250-1d7c76d7c4bf"
      },
      "source": [
        "drive.mount('/gdrive')\n",
        "%cd /gdrive"
      ],
      "execution_count": 2,
      "outputs": [
        {
          "output_type": "stream",
          "text": [
            "Mounted at /gdrive\n",
            "/gdrive\n"
          ],
          "name": "stdout"
        }
      ]
    },
    {
      "cell_type": "code",
      "metadata": {
        "id": "xtBvabavkZb5"
      },
      "source": [
        "PATH_normal=r'/gdrive/My Drive/open normal.xlsx'\n",
        "PATH_abnormal=r'/gdrive/My Drive/Open stack abnormal.xlsx'"
      ],
      "execution_count": 3,
      "outputs": []
    },
    {
      "cell_type": "code",
      "metadata": {
        "id": "4PffwR6FkZSD"
      },
      "source": [
        "data_normal = pd.read_excel(PATH_normal)\n",
        "data_abnormal = pd.read_excel(PATH_abnormal)"
      ],
      "execution_count": 4,
      "outputs": []
    },
    {
      "cell_type": "code",
      "metadata": {
        "id": "CLlbEqQvkZCq"
      },
      "source": [
        "data_normal.to_csv(r'/gdrive/My Drive/open stack normal.csv')\n",
        "data_abnormal.to_csv(r'/gdrive/My Drive/open stack abnormal.csv')"
      ],
      "execution_count": 5,
      "outputs": []
    },
    {
      "cell_type": "code",
      "metadata": {
        "id": "OciB7qLAgvwY"
      },
      "source": [
        "df_normal = pd.read_csv(r'/gdrive/My Drive/open stack normal.csv')\n",
        "df_abnormal = pd.read_csv(r'/gdrive/My Drive/open stack abnormal.csv')"
      ],
      "execution_count": 6,
      "outputs": []
    },
    {
      "cell_type": "markdown",
      "metadata": {
        "id": "yy8ssvr1CrbT"
      },
      "source": [
        "* ajouter les labels"
      ]
    },
    {
      "cell_type": "code",
      "metadata": {
        "id": "xJDIE3BPgyTe"
      },
      "source": [
        "df_normal=df_normal[['log']]\n",
        "df_abnormal=df_abnormal[['log']]\n",
        "df_normal['label']=0\n",
        "df_abnormal['label']=1"
      ],
      "execution_count": 7,
      "outputs": []
    },
    {
      "cell_type": "markdown",
      "metadata": {
        "id": "f1EdX0Wys_3t"
      },
      "source": [
        "* concatenate and shuffle data"
      ]
    },
    {
      "cell_type": "code",
      "metadata": {
        "colab": {
          "base_uri": "https://localhost:8080/",
          "height": 359
        },
        "id": "PIwqBYhzgyJ4",
        "outputId": "38763388-da03-422b-e1b2-580c5f098ad8"
      },
      "source": [
        "#concatinate\n",
        "df=pd.concat([df_normal,df_abnormal])\n",
        "# Shuffle the data\n",
        "df = shuffle(df).reset_index(drop=True)\n",
        "df.sample(10)"
      ],
      "execution_count": 8,
      "outputs": [
        {
          "output_type": "execute_result",
          "data": {
            "text/html": [
              "<div>\n",
              "<style scoped>\n",
              "    .dataframe tbody tr th:only-of-type {\n",
              "        vertical-align: middle;\n",
              "    }\n",
              "\n",
              "    .dataframe tbody tr th {\n",
              "        vertical-align: top;\n",
              "    }\n",
              "\n",
              "    .dataframe thead th {\n",
              "        text-align: right;\n",
              "    }\n",
              "</style>\n",
              "<table border=\"1\" class=\"dataframe\">\n",
              "  <thead>\n",
              "    <tr style=\"text-align: right;\">\n",
              "      <th></th>\n",
              "      <th>log</th>\n",
              "      <th>label</th>\n",
              "    </tr>\n",
              "  </thead>\n",
              "  <tbody>\n",
              "    <tr>\n",
              "      <th>105228</th>\n",
              "      <td>nova-compute.log.1.2017-05-17_12:02:35 2017-05...</td>\n",
              "      <td>0</td>\n",
              "    </tr>\n",
              "    <tr>\n",
              "      <th>9142</th>\n",
              "      <td>nova-compute.log.1.2017-05-17_12:02:35 2017-05...</td>\n",
              "      <td>0</td>\n",
              "    </tr>\n",
              "    <tr>\n",
              "      <th>9272</th>\n",
              "      <td>nova-api.log.1.2017-05-17_12:02:19 2017-05-16 ...</td>\n",
              "      <td>0</td>\n",
              "    </tr>\n",
              "    <tr>\n",
              "      <th>30872</th>\n",
              "      <td>nova-compute.log.1.2017-05-17_12:02:35 2017-05...</td>\n",
              "      <td>0</td>\n",
              "    </tr>\n",
              "    <tr>\n",
              "      <th>197775</th>\n",
              "      <td>nova-api.log.1.2017-05-17_12:02:19 2017-05-16 ...</td>\n",
              "      <td>0</td>\n",
              "    </tr>\n",
              "    <tr>\n",
              "      <th>192495</th>\n",
              "      <td>nova-api.log.1.2017-05-17_12:02:19 2017-05-17 ...</td>\n",
              "      <td>0</td>\n",
              "    </tr>\n",
              "    <tr>\n",
              "      <th>120569</th>\n",
              "      <td>nova-compute.log.1.2017-05-17_12:02:35 2017-05...</td>\n",
              "      <td>0</td>\n",
              "    </tr>\n",
              "    <tr>\n",
              "      <th>130104</th>\n",
              "      <td>nova-compute.log.2017-05-14_21:56:26 2017-05-1...</td>\n",
              "      <td>1</td>\n",
              "    </tr>\n",
              "    <tr>\n",
              "      <th>28261</th>\n",
              "      <td>nova-api.log.1.2017-05-16_13:53:08 2017-05-16 ...</td>\n",
              "      <td>0</td>\n",
              "    </tr>\n",
              "    <tr>\n",
              "      <th>23918</th>\n",
              "      <td>nova-compute.log.1.2017-05-17_12:02:35 2017-05...</td>\n",
              "      <td>0</td>\n",
              "    </tr>\n",
              "  </tbody>\n",
              "</table>\n",
              "</div>"
            ],
            "text/plain": [
              "                                                      log  label\n",
              "105228  nova-compute.log.1.2017-05-17_12:02:35 2017-05...      0\n",
              "9142    nova-compute.log.1.2017-05-17_12:02:35 2017-05...      0\n",
              "9272    nova-api.log.1.2017-05-17_12:02:19 2017-05-16 ...      0\n",
              "30872   nova-compute.log.1.2017-05-17_12:02:35 2017-05...      0\n",
              "197775  nova-api.log.1.2017-05-17_12:02:19 2017-05-16 ...      0\n",
              "192495  nova-api.log.1.2017-05-17_12:02:19 2017-05-17 ...      0\n",
              "120569  nova-compute.log.1.2017-05-17_12:02:35 2017-05...      0\n",
              "130104  nova-compute.log.2017-05-14_21:56:26 2017-05-1...      1\n",
              "28261   nova-api.log.1.2017-05-16_13:53:08 2017-05-16 ...      0\n",
              "23918   nova-compute.log.1.2017-05-17_12:02:35 2017-05...      0"
            ]
          },
          "metadata": {
            "tags": []
          },
          "execution_count": 8
        }
      ]
    },
    {
      "cell_type": "code",
      "metadata": {
        "colab": {
          "base_uri": "https://localhost:8080/"
        },
        "id": "FkrzMx3TloWk",
        "outputId": "2a704996-c0f5-4b53-ef03-8f29be13f13d"
      },
      "source": [
        "df.shape"
      ],
      "execution_count": 9,
      "outputs": [
        {
          "output_type": "execute_result",
          "data": {
            "text/plain": [
              "(207820, 2)"
            ]
          },
          "metadata": {
            "tags": []
          },
          "execution_count": 9
        }
      ]
    },
    {
      "cell_type": "markdown",
      "metadata": {
        "id": "685zpRDjC58h"
      },
      "source": [
        "* Vérifier les valeurs nulles"
      ]
    },
    {
      "cell_type": "code",
      "metadata": {
        "colab": {
          "base_uri": "https://localhost:8080/"
        },
        "id": "9-NmJdhmhK5W",
        "outputId": "8503672f-084a-4c93-a811-97e2831cfd39"
      },
      "source": [
        "df.isnull().values.any()"
      ],
      "execution_count": 10,
      "outputs": [
        {
          "output_type": "execute_result",
          "data": {
            "text/plain": [
              "False"
            ]
          },
          "metadata": {
            "tags": []
          },
          "execution_count": 10
        }
      ]
    },
    {
      "cell_type": "markdown",
      "metadata": {
        "id": "mp3wlBLbltvM"
      },
      "source": [
        "* Nous supprimons ensuite les caractères non alphanumériques."
      ]
    },
    {
      "cell_type": "code",
      "metadata": {
        "id": "5dKtmLcIg-L6"
      },
      "source": [
        "def clean_data(log):\n",
        "    log = re.sub(\"'\", \"\", log)\n",
        "    log = re.sub(\"_\", \"\", log)\n",
        "    log = re.sub(\"(\\\\W)+\", \" \", log)\n",
        "    log = log.lower()\n",
        "    return log\n",
        "\n",
        "df['log'] = df['log'].apply(clean_data)"
      ],
      "execution_count": 11,
      "outputs": []
    },
    {
      "cell_type": "markdown",
      "metadata": {
        "id": "t94COKNemxbH"
      },
      "source": [
        "* Split the dataset into train set 80% et test sets 20%)"
      ]
    },
    {
      "cell_type": "code",
      "metadata": {
        "id": "n5kwEITAiez8"
      },
      "source": [
        "X_train, X_test, y_train, y_test = train_test_split(df['log'],df['label'], test_size=0.2,random_state=42)"
      ],
      "execution_count": 12,
      "outputs": []
    },
    {
      "cell_type": "markdown",
      "metadata": {
        "id": "Fs6cPEVJDvFm"
      },
      "source": [
        "# IV- Preparing the Embedding Layer"
      ]
    },
    {
      "cell_type": "markdown",
      "metadata": {
        "id": "Y6erncuPFx81"
      },
      "source": [
        "nous utiliserons la classe Tokenizer du module keras.preprocessing.text pour créer un dictionnaire de word-to-index . Dans le dictionnaire, chaque mot est utilisé comme clé, tandis qu'un index unique correspondant est utilisé comme valeur pour la clé."
      ]
    },
    {
      "cell_type": "code",
      "metadata": {
        "id": "Nv_DaokYjRFi"
      },
      "source": [
        "tokenizer = Tokenizer()\n",
        "tokenizer.fit_on_texts(X_train)\n",
        "\n",
        "X_train = tokenizer.texts_to_sequences(X_train)\n",
        "X_test = tokenizer.texts_to_sequences(X_test)"
      ],
      "execution_count": 13,
      "outputs": []
    },
    {
      "cell_type": "markdown",
      "metadata": {
        "id": "TOo_yb2QGP2q"
      },
      "source": [
        "Nous fixons la taille maximale à 178. Les listes de taille supérieure à 178 seront tronquées à 178. Pour les listes dont la longueur est inférieure à 178, nous ajouterons 0 à la fin de la liste jusqu'à ce qu'elle atteigne la longueur maximale."
      ]
    },
    {
      "cell_type": "code",
      "metadata": {
        "id": "2v1cM7DkjvfI"
      },
      "source": [
        "vocab_size = len(tokenizer.word_index) + 1\n",
        "\n",
        "maxlen = 178\n",
        "\n",
        "X_train = pad_sequences(X_train, padding='post', maxlen=maxlen)\n",
        "X_test = pad_sequences(X_test, padding='post', maxlen=maxlen)"
      ],
      "execution_count": 14,
      "outputs": []
    },
    {
      "cell_type": "markdown",
      "metadata": {
        "id": "04wvSErOG3FK"
      },
      "source": [
        "Nous utiliserons GloVe embeddings pour créer feature matrix, j'ai essayé d'importer Glove sur mon drive\n",
        "* vous pouvez la trouver sur : https://drive.google.com/file/d/17PIgUPWrXOLFbUYqTAnl1cgWqnWHgX1B/view?usp=sharing"
      ]
    },
    {
      "cell_type": "code",
      "metadata": {
        "id": "wOS5ffsdkAiu"
      },
      "source": [
        "from numpy import array\n",
        "from numpy import asarray\n",
        "from numpy import zeros\n",
        "\n",
        "glove_path=r'/gdrive/My Drive/glove.6B.100d.txt'\n",
        "embeddings_dictionary = dict()\n",
        "glove_file = open(glove_path, encoding=\"utf8\")\n",
        "\n",
        "for line in glove_file:\n",
        "    records = line.split()\n",
        "    word = records[0]\n",
        "    vector_dimensions = asarray(records[1:], dtype='float32')\n",
        "    embeddings_dictionary [word] = vector_dimensions\n",
        "glove_file.close()"
      ],
      "execution_count": 15,
      "outputs": []
    },
    {
      "cell_type": "markdown",
      "metadata": {
        "id": "jxW3vnn6INGC"
      },
      "source": [
        "Enfin, nous allons créer une embedding matrix où chaque numéro de ligne correspondra à l'index du mot. La matrice aura 100 colonnes où chaque colonne contiendra les embeddings de mots GloVe."
      ]
    },
    {
      "cell_type": "code",
      "metadata": {
        "id": "eKSc-2jom30B"
      },
      "source": [
        "embedding_matrix = zeros((vocab_size,100))\n",
        "for word, index in tokenizer.word_index.items():\n",
        "    embedding_vector = embeddings_dictionary.get(word)\n",
        "    if embedding_vector is not None:\n",
        "      embedding_matrix[index] = embedding_vector"
      ],
      "execution_count": 16,
      "outputs": []
    },
    {
      "cell_type": "code",
      "metadata": {
        "colab": {
          "base_uri": "https://localhost:8080/"
        },
        "id": "qcM2mY2rAMo4",
        "outputId": "9ce47fc9-f789-4e38-b8c8-eaa2db0f30ba"
      },
      "source": [
        "X_train.shape"
      ],
      "execution_count": 17,
      "outputs": [
        {
          "output_type": "execute_result",
          "data": {
            "text/plain": [
              "(166256, 178)"
            ]
          },
          "metadata": {
            "tags": []
          },
          "execution_count": 17
        }
      ]
    },
    {
      "cell_type": "markdown",
      "metadata": {
        "id": "QQUyrighIdMd"
      },
      "source": [
        "# V- CNN model"
      ]
    },
    {
      "cell_type": "markdown",
      "metadata": {
        "id": "mHfkvOXQoHFD"
      },
      "source": [
        "* Construire le model"
      ]
    },
    {
      "cell_type": "code",
      "metadata": {
        "id": "vnPEv7_tapmK"
      },
      "source": [
        "from keras.layers import MaxPooling1D,Conv1D,GlobalMaxPooling1D\n",
        "from keras.models import Sequential, Model\n",
        "from keras.layers import Activation, Dense, Dropout, Flatten, Input, merge,Concatenate\n",
        "\n",
        "\n",
        "\n",
        "###Building the Model. \n",
        "input_tensor = Input(shape=(178,))\n",
        "# Créer un embedding layer(2D)\n",
        "input_layer= Embedding(vocab_size,100, weights=[embedding_matrix], input_length=maxlen , trainable=False)(input_tensor)\n",
        "#liste où on va stocker l'output\n",
        "uni_vec = []\n",
        "#nous allons utiliser 3 filtres avec des n-grams différents( 2-grams, 3-grams, 4-grams\n",
        "filter_sizes = (2,3,4)\n",
        "for ks in filter_sizes:\n",
        "    #applique 3 convolutions différents à l'embedding layer\n",
        "    conv_layer= Conv1D(128, kernel_size=ks, activation='relu')(input_layer)\n",
        "    maxpool_layer = MaxPooling1D(pool_size=4)(conv_layer)\n",
        "    flat_layer= Flatten()(maxpool_layer)\n",
        "    uni_vec.append(flat_layer)\n",
        "\n",
        "# concatiner les outputs \n",
        "single_feature_vector = keras.layers.concatenate(uni_vec)\n",
        "#fully Connected Layers\n",
        "dense = Dense(128, activation='relu')(single_feature_vector)\n",
        "dense2 = Dense(128, activation='relu')(dense)\n",
        "out = Dense(1, activation='sigmoid')(dense2)\n",
        "model = Model(inputs=input_tensor, outputs=out)\n",
        "\n"
      ],
      "execution_count": 18,
      "outputs": []
    },
    {
      "cell_type": "code",
      "metadata": {
        "id": "qGO3pmPgb7sb"
      },
      "source": [
        "model.compile(optimizer='adam', loss='binary_crossentropy', metrics=['acc'])"
      ],
      "execution_count": 19,
      "outputs": []
    },
    {
      "cell_type": "markdown",
      "metadata": {
        "id": "E1Y8cIIqJDcn"
      },
      "source": [
        "* train le model"
      ]
    },
    {
      "cell_type": "code",
      "metadata": {
        "colab": {
          "base_uri": "https://localhost:8080/"
        },
        "id": "mvOS4Xc0pMPz",
        "outputId": "dd770560-b5be-4fcb-df80-0a50caf96e59"
      },
      "source": [
        "history = model.fit(X_train, y_train, batch_size=64, epochs=10, verbose=1, validation_split=0.2)"
      ],
      "execution_count": 20,
      "outputs": [
        {
          "output_type": "stream",
          "text": [
            "Epoch 1/10\n",
            "2079/2079 [==============================] - 62s 9ms/step - loss: 0.0104 - acc: 0.9967 - val_loss: 1.6597e-07 - val_acc: 1.0000\n",
            "Epoch 2/10\n",
            "2079/2079 [==============================] - 18s 8ms/step - loss: 1.0765e-07 - acc: 1.0000 - val_loss: 3.0085e-08 - val_acc: 1.0000\n",
            "Epoch 3/10\n",
            "2079/2079 [==============================] - 18s 9ms/step - loss: 2.1785e-08 - acc: 1.0000 - val_loss: 8.5149e-09 - val_acc: 1.0000\n",
            "Epoch 4/10\n",
            "2079/2079 [==============================] - 18s 9ms/step - loss: 6.8657e-09 - acc: 1.0000 - val_loss: 3.1006e-09 - val_acc: 1.0000\n",
            "Epoch 5/10\n",
            "2079/2079 [==============================] - 18s 9ms/step - loss: 2.3381e-09 - acc: 1.0000 - val_loss: 1.2307e-09 - val_acc: 1.0000\n",
            "Epoch 6/10\n",
            "2079/2079 [==============================] - 18s 9ms/step - loss: 8.8364e-10 - acc: 1.0000 - val_loss: 5.8723e-10 - val_acc: 1.0000\n",
            "Epoch 7/10\n",
            "2079/2079 [==============================] - 18s 9ms/step - loss: 5.0763e-10 - acc: 1.0000 - val_loss: 3.1122e-10 - val_acc: 1.0000\n",
            "Epoch 8/10\n",
            "2079/2079 [==============================] - 18s 8ms/step - loss: 2.6085e-10 - acc: 1.0000 - val_loss: 2.0642e-10 - val_acc: 1.0000\n",
            "Epoch 9/10\n",
            "2079/2079 [==============================] - 18s 8ms/step - loss: 1.7842e-10 - acc: 1.0000 - val_loss: 1.3463e-10 - val_acc: 1.0000\n",
            "Epoch 10/10\n",
            "2079/2079 [==============================] - 18s 8ms/step - loss: 1.2369e-10 - acc: 1.0000 - val_loss: 9.8624e-11 - val_acc: 1.0000\n"
          ],
          "name": "stdout"
        }
      ]
    },
    {
      "cell_type": "code",
      "metadata": {
        "colab": {
          "base_uri": "https://localhost:8080/"
        },
        "id": "634Ph2wTMii1",
        "outputId": "bdff1654-341f-4fa0-fc71-8b9b05c42ebd"
      },
      "source": [
        "model.summary()"
      ],
      "execution_count": 21,
      "outputs": [
        {
          "output_type": "stream",
          "text": [
            "Model: \"model\"\n",
            "__________________________________________________________________________________________________\n",
            "Layer (type)                    Output Shape         Param #     Connected to                     \n",
            "==================================================================================================\n",
            "input_1 (InputLayer)            [(None, 178)]        0                                            \n",
            "__________________________________________________________________________________________________\n",
            "embedding (Embedding)           (None, 178, 100)     26851800    input_1[0][0]                    \n",
            "__________________________________________________________________________________________________\n",
            "conv1d (Conv1D)                 (None, 177, 128)     25728       embedding[0][0]                  \n",
            "__________________________________________________________________________________________________\n",
            "conv1d_1 (Conv1D)               (None, 176, 128)     38528       embedding[0][0]                  \n",
            "__________________________________________________________________________________________________\n",
            "conv1d_2 (Conv1D)               (None, 175, 128)     51328       embedding[0][0]                  \n",
            "__________________________________________________________________________________________________\n",
            "max_pooling1d (MaxPooling1D)    (None, 44, 128)      0           conv1d[0][0]                     \n",
            "__________________________________________________________________________________________________\n",
            "max_pooling1d_1 (MaxPooling1D)  (None, 44, 128)      0           conv1d_1[0][0]                   \n",
            "__________________________________________________________________________________________________\n",
            "max_pooling1d_2 (MaxPooling1D)  (None, 43, 128)      0           conv1d_2[0][0]                   \n",
            "__________________________________________________________________________________________________\n",
            "flatten (Flatten)               (None, 5632)         0           max_pooling1d[0][0]              \n",
            "__________________________________________________________________________________________________\n",
            "flatten_1 (Flatten)             (None, 5632)         0           max_pooling1d_1[0][0]            \n",
            "__________________________________________________________________________________________________\n",
            "flatten_2 (Flatten)             (None, 5504)         0           max_pooling1d_2[0][0]            \n",
            "__________________________________________________________________________________________________\n",
            "concatenate (Concatenate)       (None, 16768)        0           flatten[0][0]                    \n",
            "                                                                 flatten_1[0][0]                  \n",
            "                                                                 flatten_2[0][0]                  \n",
            "__________________________________________________________________________________________________\n",
            "dense (Dense)                   (None, 128)          2146432     concatenate[0][0]                \n",
            "__________________________________________________________________________________________________\n",
            "dense_1 (Dense)                 (None, 128)          16512       dense[0][0]                      \n",
            "__________________________________________________________________________________________________\n",
            "dense_2 (Dense)                 (None, 1)            129         dense_1[0][0]                    \n",
            "==================================================================================================\n",
            "Total params: 29,130,457\n",
            "Trainable params: 2,278,657\n",
            "Non-trainable params: 26,851,800\n",
            "__________________________________________________________________________________________________\n"
          ],
          "name": "stdout"
        }
      ]
    },
    {
      "cell_type": "markdown",
      "metadata": {
        "id": "6siFb31HJHAc"
      },
      "source": [
        "* evaluer le model"
      ]
    },
    {
      "cell_type": "code",
      "metadata": {
        "colab": {
          "base_uri": "https://localhost:8080/"
        },
        "id": "6oGV4ihXpOGn",
        "outputId": "ef53ab01-c8e2-4d67-8b97-25a2bd4a1585"
      },
      "source": [
        "score = model.evaluate(X_test, y_test, verbose=1)"
      ],
      "execution_count": 22,
      "outputs": [
        {
          "output_type": "stream",
          "text": [
            "1299/1299 [==============================] - 4s 3ms/step - loss: 1.5316e-10 - acc: 1.0000\n"
          ],
          "name": "stdout"
        }
      ]
    },
    {
      "cell_type": "code",
      "metadata": {
        "colab": {
          "base_uri": "https://localhost:8080/"
        },
        "id": "Ld4aQAnUpOxS",
        "outputId": "30d9e149-ab40-45a0-cdb0-3b32ec43743a"
      },
      "source": [
        "print(\"Test Score:\", score[0])\n",
        "print(\"Test Accuracy:\", score[1])"
      ],
      "execution_count": 23,
      "outputs": [
        {
          "output_type": "stream",
          "text": [
            "Test Score: 1.5316382884211777e-10\n",
            "Test Accuracy: 1.0\n"
          ],
          "name": "stdout"
        }
      ]
    },
    {
      "cell_type": "markdown",
      "metadata": {
        "id": "yUeZmyDTwMiU"
      },
      "source": [
        "## **Comme vous pouvez voir nous avons atteindre une performance de 100% avec le CNN model** "
      ]
    },
    {
      "cell_type": "markdown",
      "metadata": {
        "id": "lCc2itVAJT0f"
      },
      "source": [
        "* Tracons la différence de loss et accuracy entre train set et test set"
      ]
    },
    {
      "cell_type": "code",
      "metadata": {
        "colab": {
          "base_uri": "https://localhost:8080/",
          "height": 573
        },
        "id": "91tcRM_zpR7Z",
        "outputId": "35e37f7f-0cf8-4309-8361-e6437acc3c7f"
      },
      "source": [
        "import matplotlib.pyplot as plt\n",
        "\n",
        "plt.plot(history.history['acc'])\n",
        "plt.plot(history.history['val_acc'])\n",
        "\n",
        "plt.title('model accuracy')\n",
        "plt.ylabel('accuracy')\n",
        "plt.xlabel('epoch')\n",
        "plt.legend(['train','test'], loc = 'upper left')\n",
        "plt.show()\n",
        "\n",
        "plt.plot(history.history['loss'])\n",
        "plt.plot(history.history['val_loss'])\n",
        "\n",
        "plt.title('model loss')\n",
        "plt.ylabel('loss')\n",
        "plt.xlabel('epoch')\n",
        "plt.legend(['train','test'], loc = 'upper left')\n",
        "plt.show()"
      ],
      "execution_count": 24,
      "outputs": [
        {
          "output_type": "display_data",
          "data": {
            "image/png": "[encoded data removed]",
            "text/plain": [
              "<Figure size 432x288 with 1 Axes>"
            ]
          },
          "metadata": {
            "tags": [],
            "needs_background": "light"
          }
        },
        {
          "output_type": "display_data",
          "data": {
            "image/png": "[encoded data removed]",
            "text/plain": [
              "<Figure size 432x288 with 1 Axes>"
            ]
          },
          "metadata": {
            "tags": [],
            "needs_background": "light"
          }
        }
      ]
    },
    {
      "cell_type": "markdown",
      "metadata": {
        "id": "R7uPb03U3Ydj"
      },
      "source": [
        "# VI- LSTM"
      ]
    },
    {
      "cell_type": "markdown",
      "metadata": {
        "id": "gr4ePt51J_8B"
      },
      "source": [
        "* Constriure le model"
      ]
    },
    {
      "cell_type": "code",
      "metadata": {
        "id": "lvjdragJpVNz"
      },
      "source": [
        "model1 = Sequential()\n",
        "embedding_layer = Embedding(vocab_size, 100, weights=[embedding_matrix], input_length=maxlen , trainable=False)\n",
        "model1.add(embedding_layer)\n",
        "model1.add(LSTM(128))\n",
        "model1.add(Dense(64, activation='relu'))\n",
        "model1.add(Dense(64, activation='relu'))\n",
        "model1.add(Dense(1, activation='sigmoid'))\n",
        "model1.compile(optimizer='adam', loss='binary_crossentropy', metrics=['acc'])\n"
      ],
      "execution_count": 25,
      "outputs": []
    },
    {
      "cell_type": "markdown",
      "metadata": {
        "id": "a7pUJMetKF3r"
      },
      "source": [
        "* train model"
      ]
    },
    {
      "cell_type": "code",
      "metadata": {
        "colab": {
          "base_uri": "https://localhost:8080/"
        },
        "id": "Nn8RDPUupc1x",
        "outputId": "2679158f-e7e8-4729-badf-08d3315ccbe8"
      },
      "source": [
        "history = model1.fit(X_train, y_train, batch_size=64, epochs=10, verbose=1, validation_split=0.2)"
      ],
      "execution_count": 26,
      "outputs": [
        {
          "output_type": "stream",
          "text": [
            "Epoch 1/10\n",
            "2079/2079 [==============================] - 34s 14ms/step - loss: 0.3141 - acc: 0.9097 - val_loss: 0.3003 - val_acc: 0.9111\n",
            "Epoch 2/10\n",
            "2079/2079 [==============================] - 28s 13ms/step - loss: 0.3027 - acc: 0.9102 - val_loss: 0.3002 - val_acc: 0.9111\n",
            "Epoch 3/10\n",
            "2079/2079 [==============================] - 28s 13ms/step - loss: 0.3011 - acc: 0.9110 - val_loss: 0.3012 - val_acc: 0.9111\n",
            "Epoch 4/10\n",
            "2079/2079 [==============================] - 28s 14ms/step - loss: 0.2989 - acc: 0.9118 - val_loss: 0.3004 - val_acc: 0.9111\n",
            "Epoch 5/10\n",
            "2079/2079 [==============================] - 28s 14ms/step - loss: 0.3004 - acc: 0.9112 - val_loss: 0.3000 - val_acc: 0.9111\n",
            "Epoch 6/10\n",
            "2079/2079 [==============================] - 28s 14ms/step - loss: 0.3005 - acc: 0.9111 - val_loss: 0.3005 - val_acc: 0.9111\n",
            "Epoch 7/10\n",
            "2079/2079 [==============================] - 28s 14ms/step - loss: 0.2995 - acc: 0.9115 - val_loss: 0.3002 - val_acc: 0.9111\n",
            "Epoch 8/10\n",
            "2079/2079 [==============================] - 28s 14ms/step - loss: 0.2997 - acc: 0.9114 - val_loss: 0.3003 - val_acc: 0.9111\n",
            "Epoch 9/10\n",
            "2079/2079 [==============================] - 28s 14ms/step - loss: 0.2992 - acc: 0.9117 - val_loss: 0.3004 - val_acc: 0.9111\n",
            "Epoch 10/10\n",
            "2079/2079 [==============================] - 28s 14ms/step - loss: 0.2988 - acc: 0.9118 - val_loss: 0.3001 - val_acc: 0.9111\n"
          ],
          "name": "stdout"
        }
      ]
    },
    {
      "cell_type": "markdown",
      "metadata": {
        "id": "Yn49GBAXKJKn"
      },
      "source": [
        "* evaluate model"
      ]
    },
    {
      "cell_type": "code",
      "metadata": {
        "colab": {
          "base_uri": "https://localhost:8080/"
        },
        "id": "0pS-cEJQpsMa",
        "outputId": "af4f0309-5fa1-498b-81cc-40c3e97ce2ef"
      },
      "source": [
        "score = model1.evaluate(X_test, y_test, verbose=1)"
      ],
      "execution_count": 27,
      "outputs": [
        {
          "output_type": "stream",
          "text": [
            "1299/1299 [==============================] - 7s 6ms/step - loss: 0.3017 - acc: 0.9104\n"
          ],
          "name": "stdout"
        }
      ]
    },
    {
      "cell_type": "code",
      "metadata": {
        "colab": {
          "base_uri": "https://localhost:8080/"
        },
        "id": "tVCgKEwHpwG8",
        "outputId": "76a6ea5a-20d2-4e29-e6c8-e85bd97af919"
      },
      "source": [
        "print(\"Test Score:\", score[0])\n",
        "print(\"Test Accuracy:\", score[1])"
      ],
      "execution_count": 28,
      "outputs": [
        {
          "output_type": "stream",
          "text": [
            "Test Score: 0.30165138840675354\n",
            "Test Accuracy: 0.9104272723197937\n"
          ],
          "name": "stdout"
        }
      ]
    },
    {
      "cell_type": "markdown",
      "metadata": {
        "id": "cpinqO6Jwxho"
      },
      "source": [
        "## **Comme vous pouvez voir nous avons atteindre une performance de 91,04% avec le LSTM model**"
      ]
    },
    {
      "cell_type": "markdown",
      "metadata": {
        "id": "nd8ziqCjKOeX"
      },
      "source": [
        "* Tracons la différence de loss et accuracy entre train set et test set"
      ]
    },
    {
      "cell_type": "code",
      "metadata": {
        "colab": {
          "base_uri": "https://localhost:8080/",
          "height": 573
        },
        "id": "lxYenPKmpxYq",
        "outputId": "188f7472-74b6-4dfd-98da-f213d0b0b57e"
      },
      "source": [
        "import matplotlib.pyplot as plt\n",
        "\n",
        "plt.plot(history.history['acc'])\n",
        "plt.plot(history.history['val_acc'])\n",
        "\n",
        "plt.title('model accuracy')\n",
        "plt.ylabel('accuracy')\n",
        "plt.xlabel('epoch')\n",
        "plt.legend(['train','test'], loc='upper left')\n",
        "plt.show()\n",
        "\n",
        "plt.plot(history.history['loss'])\n",
        "plt.plot(history.history['val_loss'])\n",
        "\n",
        "plt.title('model loss')\n",
        "plt.ylabel('loss')\n",
        "plt.xlabel('epoch')\n",
        "plt.legend(['train','test'], loc='upper left')\n",
        "plt.show()"
      ],
      "execution_count": 29,
      "outputs": [
        {
          "output_type": "display_data",
          "data": {
            "image/png": "[encoded data removed]",
            "text/plain": [
              "<Figure size 432x288 with 1 Axes>"
            ]
          },
          "metadata": {
            "tags": [],
            "needs_background": "light"
          }
        },
        {
          "output_type": "display_data",
          "data": {
            "image/png": "[encoded data removed]",
            "text/plain": [
              "<Figure size 432x288 with 1 Axes>"
            ]
          },
          "metadata": {
            "tags": [],
            "needs_background": "light"
          }
        }
      ]
    }
  ]
}