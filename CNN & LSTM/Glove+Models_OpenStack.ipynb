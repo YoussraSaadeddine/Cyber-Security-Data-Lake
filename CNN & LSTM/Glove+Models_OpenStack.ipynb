{
  "nbformat": 4,
  "nbformat_minor": 0,
  "metadata": {
    "colab": {
      "name": "Glove+Models OpenStack.ipynb",
      "provenance": [],
      "collapsed_sections": []
    },
    "kernelspec": {
      "name": "python3",
      "display_name": "Python 3"
    },
    "language_info": {
      "name": "python"
    },
    "accelerator": "GPU"
  },
  "cells": [
    {
      "cell_type": "markdown",
      "metadata": {
        "id": "3UzO-0b5_tA3"
      },
      "source": [
        "# I- Introduction:\n",
        "Aprés avoir testé the state of the art model (Bert) nous alllons essayer dans ce projet d'utiliser deux types différents de deep neural network: Convolutional Neural Network (CNN) et Long Short Term Memory Network (LSTM), qui est une variante des Recurrent Neural Networks pour affiner rapidement et efficacement un modèle de classification des logs d'Openstack, où notre objectif sera de détecter les anomalies dans des futurs logs.\n",
        "\n",
        "* **Dataset** - nous allons utiliser une DT open Source d'openstack(contient au total 207,820 logs) mais il est sous forme d'un Filelog donc on avait besoin d'utiliser excel(On peut utiliser Python mais excel reste simple) pour insérer les logs dans des dataframes.\n",
        "\n",
        "* **Objectif** - developper une solution qui permet de detecter les anomalies dans les logs.\n",
        "\n",
        "* **Methodologie** - nous allons considerer comme nous avons un probleme de text classification et construire un deep learning model pour attiendre l'objectif."
      ]
    },
    {
      "cell_type": "markdown",
      "metadata": {
        "id": "J2xQARwf_s1f"
      },
      "source": [
        "# II- Different Models:\n",
        "\n",
        "Il existe plusieurs types de modèles qui pourraient être utilisés pour créer la solution de la classification de texte parmi ces solutions on trouve:\n",
        "\n",
        "\n",
        "*   **1D- Conv Net** : \n",
        "les CNN peuvent être utilisés pour la classification des textes. ils sont plus rapides à s'entraîner.\n",
        "\n",
        "*   **Modèles basés sur RNN (LSTM, GRU)** :  ils peuvent capturer la nature séquentielle d'un texte. Mais ils sont plus lent à s'entraîner.\n",
        "\n",
        "* **Modèles basés sur des transformers (BERT, GPT2)** -\n",
        "Les modèles basés sur des transformers exploite plusieurs unités Transformer et un mécanisme d'attention à multihead.\n",
        "\n",
        "####Dans ce projet nous allons focaliser sur un model basé sur RNN(LSTM) et un autre basé sur les CNN.\n"
      ]
    },
    {
      "cell_type": "markdown",
      "metadata": {
        "id": "nWOg1foq_ssc"
      },
      "source": [
        "# III- Data Preprocessing"
      ]
    },
    {
      "cell_type": "markdown",
      "metadata": {
        "id": "CPM6Y9-x_sjc"
      },
      "source": [
        "### 1. Importing libraries and modules"
      ]
    },
    {
      "cell_type": "code",
      "metadata": {
        "id": "NYyobhk2enYZ"
      },
      "source": [
        "import pandas as pd\n",
        "import numpy as np\n",
        "import matplotlib.pyplot as plt\n",
        "import seaborn as sns\n",
        "import re\n",
        "from numpy import array\n",
        "import keras \n",
        "from keras.preprocessing.sequence import pad_sequences\n",
        "from keras.models import Sequential\n",
        "from keras.layers.core import Activation, Dropout, Dense\n",
        "from keras.layers import Flatten\n",
        "from keras.layers import GlobalMaxPooling1D\n",
        "from keras.layers.embeddings import Embedding\n",
        "from keras.preprocessing.text import Tokenizer\n",
        "from sklearn.utils import shuffle\n",
        "from google.colab import drive\n",
        "from sklearn.model_selection import train_test_split\n",
        "from keras.models import Sequential\n",
        "from keras.layers import Dense\n",
        "from keras.layers import Input, Dense, Dropout, Embedding, LSTM, Flatten\n",
        "from keras.models import Model\n",
        "from sklearn.metrics import accuracy_score"
      ],
      "execution_count": null,
      "outputs": []
    },
    {
      "cell_type": "markdown",
      "metadata": {
        "id": "FQRMWg6qlJsg"
      },
      "source": [
        "###2. Loading Data"
      ]
    },
    {
      "cell_type": "markdown",
      "metadata": {
        "id": "bK_C6jL3Swj9"
      },
      "source": [
        "####**Importing files from Google Drive in Colab**\n",
        "notre dataset est stockée dans Google Drive donc nous avons besoin de \n",
        "lier notre compte Google Drive avec notre notebook.\n",
        "1. La première étape consiste à monter notre Google Drive en exécutant le code en dessous.\n",
        "2.  nous obtenons le code d'autorisation en nous connectant à notre compte Google.\n",
        "3.   nous collons le code d'autorisation et nous appuyons sur Entrée."
      ]
    },
    {
      "cell_type": "code",
      "metadata": {
        "colab": {
          "base_uri": "https://localhost:8080/"
        },
        "id": "ny55UZG3ggjK",
        "outputId": "c74afa42-00b9-42d0-9344-02b5c30e0d1b"
      },
      "source": [
        "drive.mount('/gdrive')\n",
        "%cd /gdrive"
      ],
      "execution_count": null,
      "outputs": [
        {
          "output_type": "stream",
          "text": [
            "Mounted at /gdrive\n",
            "/gdrive\n"
          ],
          "name": "stdout"
        }
      ]
    },
    {
      "cell_type": "code",
      "metadata": {
        "id": "xtBvabavkZb5"
      },
      "source": [
        "PATH_normal=r'/gdrive/My Drive/open normal.xlsx'\n",
        "PATH_abnormal=r'/gdrive/My Drive/Open stack abnormal.xlsx'"
      ],
      "execution_count": null,
      "outputs": []
    },
    {
      "cell_type": "code",
      "metadata": {
        "id": "4PffwR6FkZSD"
      },
      "source": [
        "data_normal = pd.read_excel(PATH_normal)\n",
        "data_abnormal = pd.read_excel(PATH_abnormal)"
      ],
      "execution_count": null,
      "outputs": []
    },
    {
      "cell_type": "code",
      "metadata": {
        "id": "CLlbEqQvkZCq"
      },
      "source": [
        "data_normal.to_csv(r'/gdrive/My Drive/open stack normal.csv')\n",
        "data_abnormal.to_csv(r'/gdrive/My Drive/open stack abnormal.csv')"
      ],
      "execution_count": null,
      "outputs": []
    },
    {
      "cell_type": "code",
      "metadata": {
        "id": "OciB7qLAgvwY"
      },
      "source": [
        "df_normal = pd.read_csv(r'/gdrive/My Drive/open stack normal.csv')\n",
        "df_abnormal = pd.read_csv(r'/gdrive/My Drive/open stack abnormal.csv')"
      ],
      "execution_count": null,
      "outputs": []
    },
    {
      "cell_type": "markdown",
      "metadata": {
        "id": "yy8ssvr1CrbT"
      },
      "source": [
        "* ajouter les labels"
      ]
    },
    {
      "cell_type": "code",
      "metadata": {
        "id": "xJDIE3BPgyTe"
      },
      "source": [
        "df_normal=df_normal[['log']]\n",
        "df_abnormal=df_abnormal[['log']]\n",
        "df_normal['label']=0\n",
        "df_abnormal['label']=1"
      ],
      "execution_count": null,
      "outputs": []
    },
    {
      "cell_type": "markdown",
      "metadata": {
        "id": "f1EdX0Wys_3t"
      },
      "source": [
        "* concatenate and shuffle data"
      ]
    },
    {
      "cell_type": "code",
      "metadata": {
        "colab": {
          "base_uri": "https://localhost:8080/",
          "height": 359
        },
        "id": "PIwqBYhzgyJ4",
        "outputId": "afba8179-fd8f-4242-99ef-678bd3fdef8d"
      },
      "source": [
        "#concatinate\n",
        "df=pd.concat([df_normal,df_abnormal])\n",
        "# Shuffle the data\n",
        "df = shuffle(df).reset_index(drop=True)\n",
        "df.sample(10)"
      ],
      "execution_count": null,
      "outputs": [
        {
          "output_type": "execute_result",
          "data": {
            "text/html": [
              "<div>\n",
              "<style scoped>\n",
              "    .dataframe tbody tr th:only-of-type {\n",
              "        vertical-align: middle;\n",
              "    }\n",
              "\n",
              "    .dataframe tbody tr th {\n",
              "        vertical-align: top;\n",
              "    }\n",
              "\n",
              "    .dataframe thead th {\n",
              "        text-align: right;\n",
              "    }\n",
              "</style>\n",
              "<table border=\"1\" class=\"dataframe\">\n",
              "  <thead>\n",
              "    <tr style=\"text-align: right;\">\n",
              "      <th></th>\n",
              "      <th>log</th>\n",
              "      <th>label</th>\n",
              "    </tr>\n",
              "  </thead>\n",
              "  <tbody>\n",
              "    <tr>\n",
              "      <th>37497</th>\n",
              "      <td>nova-compute.log.1.2017-05-16_13:55:31 2017-05...</td>\n",
              "      <td>0</td>\n",
              "    </tr>\n",
              "    <tr>\n",
              "      <th>19072</th>\n",
              "      <td>nova-api.log.1.2017-05-17_12:02:19 2017-05-16 ...</td>\n",
              "      <td>0</td>\n",
              "    </tr>\n",
              "    <tr>\n",
              "      <th>100211</th>\n",
              "      <td>nova-api.log.1.2017-05-16_13:53:08 2017-05-16 ...</td>\n",
              "      <td>0</td>\n",
              "    </tr>\n",
              "    <tr>\n",
              "      <th>85144</th>\n",
              "      <td>nova-api.log.1.2017-05-17_12:02:19 2017-05-16 ...</td>\n",
              "      <td>0</td>\n",
              "    </tr>\n",
              "    <tr>\n",
              "      <th>156684</th>\n",
              "      <td>nova-compute.log.1.2017-05-16_13:55:31 2017-05...</td>\n",
              "      <td>0</td>\n",
              "    </tr>\n",
              "    <tr>\n",
              "      <th>80753</th>\n",
              "      <td>nova-compute.log.1.2017-05-17_12:02:35 2017-05...</td>\n",
              "      <td>0</td>\n",
              "    </tr>\n",
              "    <tr>\n",
              "      <th>110911</th>\n",
              "      <td>nova-api.log.1.2017-05-17_12:02:19 2017-05-16 ...</td>\n",
              "      <td>0</td>\n",
              "    </tr>\n",
              "    <tr>\n",
              "      <th>97345</th>\n",
              "      <td>nova-compute.log.1.2017-05-17_12:02:35 2017-05...</td>\n",
              "      <td>0</td>\n",
              "    </tr>\n",
              "    <tr>\n",
              "      <th>166771</th>\n",
              "      <td>nova-api.log.1.2017-05-17_12:02:19 2017-05-17 ...</td>\n",
              "      <td>0</td>\n",
              "    </tr>\n",
              "    <tr>\n",
              "      <th>51695</th>\n",
              "      <td>nova-compute.log.2017-05-14_21:56:26 2017-05-1...</td>\n",
              "      <td>1</td>\n",
              "    </tr>\n",
              "  </tbody>\n",
              "</table>\n",
              "</div>"
            ],
            "text/plain": [
              "                                                      log  label\n",
              "37497   nova-compute.log.1.2017-05-16_13:55:31 2017-05...      0\n",
              "19072   nova-api.log.1.2017-05-17_12:02:19 2017-05-16 ...      0\n",
              "100211  nova-api.log.1.2017-05-16_13:53:08 2017-05-16 ...      0\n",
              "85144   nova-api.log.1.2017-05-17_12:02:19 2017-05-16 ...      0\n",
              "156684  nova-compute.log.1.2017-05-16_13:55:31 2017-05...      0\n",
              "80753   nova-compute.log.1.2017-05-17_12:02:35 2017-05...      0\n",
              "110911  nova-api.log.1.2017-05-17_12:02:19 2017-05-16 ...      0\n",
              "97345   nova-compute.log.1.2017-05-17_12:02:35 2017-05...      0\n",
              "166771  nova-api.log.1.2017-05-17_12:02:19 2017-05-17 ...      0\n",
              "51695   nova-compute.log.2017-05-14_21:56:26 2017-05-1...      1"
            ]
          },
          "metadata": {
            "tags": []
          },
          "execution_count": 8
        }
      ]
    },
    {
      "cell_type": "code",
      "metadata": {
        "colab": {
          "base_uri": "https://localhost:8080/"
        },
        "id": "FkrzMx3TloWk",
        "outputId": "b908e24e-cb1b-46d9-afd1-962eebab7703"
      },
      "source": [
        "df.shape"
      ],
      "execution_count": null,
      "outputs": [
        {
          "output_type": "execute_result",
          "data": {
            "text/plain": [
              "(207820, 2)"
            ]
          },
          "metadata": {
            "tags": []
          },
          "execution_count": 9
        }
      ]
    },
    {
      "cell_type": "markdown",
      "metadata": {
        "id": "685zpRDjC58h"
      },
      "source": [
        "* Vérifier les valeurs nulles"
      ]
    },
    {
      "cell_type": "code",
      "metadata": {
        "colab": {
          "base_uri": "https://localhost:8080/"
        },
        "id": "9-NmJdhmhK5W",
        "outputId": "c2f345c6-7326-488d-e2ac-d3681dd8a3de"
      },
      "source": [
        "df.isnull().values.any()"
      ],
      "execution_count": null,
      "outputs": [
        {
          "output_type": "execute_result",
          "data": {
            "text/plain": [
              "False"
            ]
          },
          "metadata": {
            "tags": []
          },
          "execution_count": 10
        }
      ]
    },
    {
      "cell_type": "markdown",
      "metadata": {
        "id": "mp3wlBLbltvM"
      },
      "source": [
        "* Nous supprimons ensuite les caractères non alphanumériques."
      ]
    },
    {
      "cell_type": "code",
      "metadata": {
        "id": "5dKtmLcIg-L6"
      },
      "source": [
        "def clean_data(log):\n",
        "    log = re.sub(\"'\", \"\", log)\n",
        "    log = re.sub(\"_\", \"\", log)\n",
        "    log = re.sub(\"(\\\\W)+\", \" \", log)\n",
        "    log = log.lower()\n",
        "    return log\n",
        "\n",
        "df['log'] = df['log'].apply(clean_data)"
      ],
      "execution_count": null,
      "outputs": []
    },
    {
      "cell_type": "markdown",
      "metadata": {
        "id": "t94COKNemxbH"
      },
      "source": [
        "* Split the dataset into train set 80% et test sets 20%)"
      ]
    },
    {
      "cell_type": "code",
      "metadata": {
        "id": "n5kwEITAiez8"
      },
      "source": [
        "X_train, X_test, y_train, y_test = train_test_split(df['log'],df['label'], test_size=0.2,random_state=42)"
      ],
      "execution_count": null,
      "outputs": []
    },
    {
      "cell_type": "markdown",
      "metadata": {
        "id": "Fs6cPEVJDvFm"
      },
      "source": [
        "# IV- Preparing the Embedding Layer"
      ]
    },
    {
      "cell_type": "markdown",
      "metadata": {
        "id": "Y6erncuPFx81"
      },
      "source": [
        "nous utiliserons la classe Tokenizer du module keras.preprocessing.text pour créer un dictionnaire de word-to-index . Dans le dictionnaire, chaque mot est utilisé comme clé, tandis qu'un index unique correspondant est utilisé comme valeur pour la clé."
      ]
    },
    {
      "cell_type": "code",
      "metadata": {
        "id": "Nv_DaokYjRFi"
      },
      "source": [
        "tokenizer = Tokenizer()\n",
        "tokenizer.fit_on_texts(X_train)\n",
        "\n",
        "X_train = tokenizer.texts_to_sequences(X_train)\n",
        "X_test = tokenizer.texts_to_sequences(X_test)"
      ],
      "execution_count": null,
      "outputs": []
    },
    {
      "cell_type": "markdown",
      "metadata": {
        "id": "TOo_yb2QGP2q"
      },
      "source": [
        "Nous fixons la taille maximale à 178. Les listes de taille supérieure à 178 seront tronquées à 178. Pour les listes dont la longueur est inférieure à 178, nous ajouterons 0 à la fin de la liste jusqu'à ce qu'elle atteigne la longueur maximale."
      ]
    },
    {
      "cell_type": "code",
      "metadata": {
        "id": "2v1cM7DkjvfI"
      },
      "source": [
        "vocab_size = len(tokenizer.word_index) + 1\n",
        "\n",
        "maxlen = 178\n",
        "\n",
        "X_train = pad_sequences(X_train, padding='post', maxlen=maxlen)\n",
        "X_test = pad_sequences(X_test, padding='post', maxlen=maxlen)"
      ],
      "execution_count": null,
      "outputs": []
    },
    {
      "cell_type": "markdown",
      "metadata": {
        "id": "04wvSErOG3FK"
      },
      "source": [
        "Nous utiliserons GloVe embeddings pour créer feature matrix, j'ai essayé d'importer Glove sur mon drive\n",
        "* vous pouvez la trouver sur : https://drive.google.com/file/d/17PIgUPWrXOLFbUYqTAnl1cgWqnWHgX1B/view?usp=sharing"
      ]
    },
    {
      "cell_type": "code",
      "metadata": {
        "id": "wOS5ffsdkAiu"
      },
      "source": [
        "from numpy import array\n",
        "from numpy import asarray\n",
        "from numpy import zeros\n",
        "\n",
        "glove_path=r'/gdrive/My Drive/glove.6B.100d.txt'\n",
        "embeddings_dictionary = dict()\n",
        "glove_file = open(glove_path, encoding=\"utf8\")\n",
        "\n",
        "for line in glove_file:\n",
        "    records = line.split()\n",
        "    word = records[0]\n",
        "    vector_dimensions = asarray(records[1:], dtype='float32')\n",
        "    embeddings_dictionary [word] = vector_dimensions\n",
        "glove_file.close()"
      ],
      "execution_count": null,
      "outputs": []
    },
    {
      "cell_type": "markdown",
      "metadata": {
        "id": "jxW3vnn6INGC"
      },
      "source": [
        "Enfin, nous allons créer une embedding matrix où chaque numéro de ligne correspondra à l'index du mot. La matrice aura 100 colonnes où chaque colonne contiendra les embeddings de mots GloVe."
      ]
    },
    {
      "cell_type": "code",
      "metadata": {
        "id": "eKSc-2jom30B"
      },
      "source": [
        "embedding_matrix = zeros((vocab_size,100))\n",
        "for word, index in tokenizer.word_index.items():\n",
        "    embedding_vector = embeddings_dictionary.get(word)\n",
        "    if embedding_vector is not None:\n",
        "      embedding_matrix[index] = embedding_vector"
      ],
      "execution_count": null,
      "outputs": []
    },
    {
      "cell_type": "code",
      "metadata": {
        "colab": {
          "base_uri": "https://localhost:8080/"
        },
        "id": "qcM2mY2rAMo4",
        "outputId": "d4378ee8-a950-4a32-96e6-6c2d1c77c1e2"
      },
      "source": [
        "X_train.shape"
      ],
      "execution_count": null,
      "outputs": [
        {
          "output_type": "execute_result",
          "data": {
            "text/plain": [
              "(166256, 178)"
            ]
          },
          "metadata": {
            "tags": []
          },
          "execution_count": 17
        }
      ]
    },
    {
      "cell_type": "markdown",
      "metadata": {
        "id": "QQUyrighIdMd"
      },
      "source": [
        "# V- CNN model"
      ]
    },
    {
      "cell_type": "markdown",
      "metadata": {
        "id": "mHfkvOXQoHFD"
      },
      "source": [
        "* Construire le model"
      ]
    },
    {
      "cell_type": "code",
      "metadata": {
        "id": "vnPEv7_tapmK"
      },
      "source": [
        "from keras.layers import MaxPooling1D,Conv1D,GlobalMaxPooling1D\n",
        "from keras.models import Sequential, Model\n",
        "from keras.layers import Activation, Dense, Dropout, Flatten, Input, merge,Concatenate\n",
        "\n",
        "\n",
        "\n",
        "###Building the Model. \n",
        "input_tensor = Input(shape=(178,))\n",
        "# Créer un embedding layer(2D)\n",
        "input_layer= Embedding(vocab_size,100, weights=[embedding_matrix], input_length=maxlen , trainable=False)(input_tensor)\n",
        "#liste où on va stocker l'output\n",
        "uni_vec = []\n",
        "#nous allons utiliser 3 filtres avec des n-grams différents( 2-grams, 3-grams, 4-grams\n",
        "filter_sizes = (2,3,4)\n",
        "for ks in filter_sizes:\n",
        "    #applique 3 convolutions différents à l'embedding layer\n",
        "    conv_layer= Conv1D(128, kernel_size=ks, activation='relu')(input_layer)\n",
        "    maxpool_layer = MaxPooling1D(pool_size=4)(conv_layer)\n",
        "    flat_layer= Flatten()(maxpool_layer)\n",
        "    uni_vec.append(flat_layer)\n",
        "\n",
        "# concatiner les outputs \n",
        "single_feature_vector = keras.layers.concatenate(uni_vec)\n",
        "#fully Connected Layers\n",
        "dense = Dense(128, activation='relu')(single_feature_vector)\n",
        "dense2 = Dense(128, activation='relu')(dense)\n",
        "out = Dense(1, activation='sigmoid')(dense2)\n",
        "model = Model(inputs=input_tensor, outputs=out)\n",
        "\n"
      ],
      "execution_count": null,
      "outputs": []
    },
    {
      "cell_type": "code",
      "metadata": {
        "id": "qGO3pmPgb7sb"
      },
      "source": [
        "model.compile(optimizer='adam', loss='binary_crossentropy', metrics=['acc'])"
      ],
      "execution_count": 21,
      "outputs": []
    },
    {
      "cell_type": "code",
      "metadata": {
        "id": "DNYnIhgGRMts",
        "colab": {
          "base_uri": "https://localhost:8080/",
          "height": 906
        },
        "outputId": "05780bee-03cb-422f-ed95-eff79310b9e5"
      },
      "source": [
        "from IPython.display import SVG\n",
        "from keras.utils.vis_utils import model_to_dot\n",
        "\n",
        "SVG(model_to_dot(model, show_shapes= True, show_layer_names=True, dpi=65).create(prog='dot', format='svg'))"
      ],
      "execution_count": 37,
      "outputs": [
        {
          "output_type": "execute_result",
          "data": {
            "text/plain": [
              "<IPython.core.display.SVG object>"
            ],
            "image/svg+xml": "<svg height=\"649pt\" viewBox=\"0.00 0.00 1217.50 719.00\" width=\"1099pt\" xmlns=\"http://www.w3.org/2000/svg\" xmlns:xlink=\"http://www.w3.org/1999/xlink\">\n<g class=\"graph\" id=\"graph0\" transform=\"scale(.9028 .9028) rotate(0) translate(4 715)\">\n<title>G</title>\n<polygon fill=\"#ffffff\" points=\"-4,4 -4,-715 1213.5,-715 1213.5,4 -4,4\" stroke=\"transparent\"/>\n<!-- 139741220097872 -->\n<g class=\"node\" id=\"node1\">\n<title>139741220097872</title>\n<polygon fill=\"none\" points=\"454,-664.5 454,-710.5 741,-710.5 741,-664.5 454,-664.5\" stroke=\"#000000\"/>\n<text fill=\"#000000\" font-family=\"Times,serif\" font-size=\"14.00\" text-anchor=\"middle\" x=\"520.5\" y=\"-683.8\">input_1: InputLayer</text>\n<polyline fill=\"none\" points=\"587,-664.5 587,-710.5 \" stroke=\"#000000\"/>\n<text fill=\"#000000\" font-family=\"Times,serif\" font-size=\"14.00\" text-anchor=\"middle\" x=\"616\" y=\"-695.3\">input:</text>\n<polyline fill=\"none\" points=\"587,-687.5 645,-687.5 \" stroke=\"#000000\"/>\n<text fill=\"#000000\" font-family=\"Times,serif\" font-size=\"14.00\" text-anchor=\"middle\" x=\"616\" y=\"-672.3\">output:</text>\n<polyline fill=\"none\" points=\"645,-664.5 645,-710.5 \" stroke=\"#000000\"/>\n<text fill=\"#000000\" font-family=\"Times,serif\" font-size=\"14.00\" text-anchor=\"middle\" x=\"693\" y=\"-695.3\">[(None, 178)]</text>\n<polyline fill=\"none\" points=\"645,-687.5 741,-687.5 \" stroke=\"#000000\"/>\n<text fill=\"#000000\" font-family=\"Times,serif\" font-size=\"14.00\" text-anchor=\"middle\" x=\"693\" y=\"-672.3\">[(None, 178)]</text>\n</g>\n<!-- 139741220061712 -->\n<g class=\"node\" id=\"node2\">\n<title>139741220061712</title>\n<polygon fill=\"none\" points=\"432,-581.5 432,-627.5 763,-627.5 763,-581.5 432,-581.5\" stroke=\"#000000\"/>\n<text fill=\"#000000\" font-family=\"Times,serif\" font-size=\"14.00\" text-anchor=\"middle\" x=\"510\" y=\"-600.8\">embedding: Embedding</text>\n<polyline fill=\"none\" points=\"588,-581.5 588,-627.5 \" stroke=\"#000000\"/>\n<text fill=\"#000000\" font-family=\"Times,serif\" font-size=\"14.00\" text-anchor=\"middle\" x=\"617\" y=\"-612.3\">input:</text>\n<polyline fill=\"none\" points=\"588,-604.5 646,-604.5 \" stroke=\"#000000\"/>\n<text fill=\"#000000\" font-family=\"Times,serif\" font-size=\"14.00\" text-anchor=\"middle\" x=\"617\" y=\"-589.3\">output:</text>\n<polyline fill=\"none\" points=\"646,-581.5 646,-627.5 \" stroke=\"#000000\"/>\n<text fill=\"#000000\" font-family=\"Times,serif\" font-size=\"14.00\" text-anchor=\"middle\" x=\"704.5\" y=\"-612.3\">(None, 178)</text>\n<polyline fill=\"none\" points=\"646,-604.5 763,-604.5 \" stroke=\"#000000\"/>\n<text fill=\"#000000\" font-family=\"Times,serif\" font-size=\"14.00\" text-anchor=\"middle\" x=\"704.5\" y=\"-589.3\">(None, 178, 100)</text>\n</g>\n<!-- 139741220097872&#45;&gt;139741220061712 -->\n<g class=\"edge\" id=\"edge1\">\n<title>139741220097872-&gt;139741220061712</title>\n<path d=\"M597.5,-664.3799C597.5,-656.1745 597.5,-646.7679 597.5,-637.8786\" fill=\"none\" stroke=\"#000000\"/>\n<polygon fill=\"#000000\" points=\"601.0001,-637.784 597.5,-627.784 594.0001,-637.784 601.0001,-637.784\" stroke=\"#000000\"/>\n</g>\n<!-- 139741219663440 -->\n<g class=\"node\" id=\"node3\">\n<title>139741219663440</title>\n<polygon fill=\"none\" points=\"88,-498.5 88,-544.5 381,-544.5 381,-498.5 88,-498.5\" stroke=\"#000000\"/>\n<text fill=\"#000000\" font-family=\"Times,serif\" font-size=\"14.00\" text-anchor=\"middle\" x=\"147\" y=\"-517.8\">conv1d: Conv1D</text>\n<polyline fill=\"none\" points=\"206,-498.5 206,-544.5 \" stroke=\"#000000\"/>\n<text fill=\"#000000\" font-family=\"Times,serif\" font-size=\"14.00\" text-anchor=\"middle\" x=\"235\" y=\"-529.3\">input:</text>\n<polyline fill=\"none\" points=\"206,-521.5 264,-521.5 \" stroke=\"#000000\"/>\n<text fill=\"#000000\" font-family=\"Times,serif\" font-size=\"14.00\" text-anchor=\"middle\" x=\"235\" y=\"-506.3\">output:</text>\n<polyline fill=\"none\" points=\"264,-498.5 264,-544.5 \" stroke=\"#000000\"/>\n<text fill=\"#000000\" font-family=\"Times,serif\" font-size=\"14.00\" text-anchor=\"middle\" x=\"322.5\" y=\"-529.3\">(None, 178, 100)</text>\n<polyline fill=\"none\" points=\"264,-521.5 381,-521.5 \" stroke=\"#000000\"/>\n<text fill=\"#000000\" font-family=\"Times,serif\" font-size=\"14.00\" text-anchor=\"middle\" x=\"322.5\" y=\"-506.3\">(None, 177, 128)</text>\n</g>\n<!-- 139741220061712&#45;&gt;139741219663440 -->\n<g class=\"edge\" id=\"edge2\">\n<title>139741220061712-&gt;139741219663440</title>\n<path d=\"M496.8663,-581.4901C449.7551,-570.7181 393.5069,-557.857 345.1958,-546.8106\" fill=\"none\" stroke=\"#000000\"/>\n<polygon fill=\"#000000\" points=\"345.858,-543.3718 335.3294,-544.5547 344.2977,-550.1957 345.858,-543.3718\" stroke=\"#000000\"/>\n</g>\n<!-- 139741216597328 -->\n<g class=\"node\" id=\"node4\">\n<title>139741216597328</title>\n<polygon fill=\"none\" points=\"443.5,-498.5 443.5,-544.5 751.5,-544.5 751.5,-498.5 443.5,-498.5\" stroke=\"#000000\"/>\n<text fill=\"#000000\" font-family=\"Times,serif\" font-size=\"14.00\" text-anchor=\"middle\" x=\"510\" y=\"-517.8\">conv1d_1: Conv1D</text>\n<polyline fill=\"none\" points=\"576.5,-498.5 576.5,-544.5 \" stroke=\"#000000\"/>\n<text fill=\"#000000\" font-family=\"Times,serif\" font-size=\"14.00\" text-anchor=\"middle\" x=\"605.5\" y=\"-529.3\">input:</text>\n<polyline fill=\"none\" points=\"576.5,-521.5 634.5,-521.5 \" stroke=\"#000000\"/>\n<text fill=\"#000000\" font-family=\"Times,serif\" font-size=\"14.00\" text-anchor=\"middle\" x=\"605.5\" y=\"-506.3\">output:</text>\n<polyline fill=\"none\" points=\"634.5,-498.5 634.5,-544.5 \" stroke=\"#000000\"/>\n<text fill=\"#000000\" font-family=\"Times,serif\" font-size=\"14.00\" text-anchor=\"middle\" x=\"693\" y=\"-529.3\">(None, 178, 100)</text>\n<polyline fill=\"none\" points=\"634.5,-521.5 751.5,-521.5 \" stroke=\"#000000\"/>\n<text fill=\"#000000\" font-family=\"Times,serif\" font-size=\"14.00\" text-anchor=\"middle\" x=\"693\" y=\"-506.3\">(None, 176, 128)</text>\n</g>\n<!-- 139741220061712&#45;&gt;139741216597328 -->\n<g class=\"edge\" id=\"edge3\">\n<title>139741220061712-&gt;139741216597328</title>\n<path d=\"M597.5,-581.3799C597.5,-573.1745 597.5,-563.7679 597.5,-554.8786\" fill=\"none\" stroke=\"#000000\"/>\n<polygon fill=\"#000000\" points=\"601.0001,-554.784 597.5,-544.784 594.0001,-554.784 601.0001,-554.784\" stroke=\"#000000\"/>\n</g>\n<!-- 139741216680976 -->\n<g class=\"node\" id=\"node5\">\n<title>139741216680976</title>\n<polygon fill=\"none\" points=\"813.5,-498.5 813.5,-544.5 1121.5,-544.5 1121.5,-498.5 813.5,-498.5\" stroke=\"#000000\"/>\n<text fill=\"#000000\" font-family=\"Times,serif\" font-size=\"14.00\" text-anchor=\"middle\" x=\"880\" y=\"-517.8\">conv1d_2: Conv1D</text>\n<polyline fill=\"none\" points=\"946.5,-498.5 946.5,-544.5 \" stroke=\"#000000\"/>\n<text fill=\"#000000\" font-family=\"Times,serif\" font-size=\"14.00\" text-anchor=\"middle\" x=\"975.5\" y=\"-529.3\">input:</text>\n<polyline fill=\"none\" points=\"946.5,-521.5 1004.5,-521.5 \" stroke=\"#000000\"/>\n<text fill=\"#000000\" font-family=\"Times,serif\" font-size=\"14.00\" text-anchor=\"middle\" x=\"975.5\" y=\"-506.3\">output:</text>\n<polyline fill=\"none\" points=\"1004.5,-498.5 1004.5,-544.5 \" stroke=\"#000000\"/>\n<text fill=\"#000000\" font-family=\"Times,serif\" font-size=\"14.00\" text-anchor=\"middle\" x=\"1063\" y=\"-529.3\">(None, 178, 100)</text>\n<polyline fill=\"none\" points=\"1004.5,-521.5 1121.5,-521.5 \" stroke=\"#000000\"/>\n<text fill=\"#000000\" font-family=\"Times,serif\" font-size=\"14.00\" text-anchor=\"middle\" x=\"1063\" y=\"-506.3\">(None, 175, 128)</text>\n</g>\n<!-- 139741220061712&#45;&gt;139741216680976 -->\n<g class=\"edge\" id=\"edge4\">\n<title>139741220061712-&gt;139741216680976</title>\n<path d=\"M700.0743,-581.4901C748.094,-570.7181 805.4268,-557.857 854.6696,-546.8106\" fill=\"none\" stroke=\"#000000\"/>\n<polygon fill=\"#000000\" points=\"855.7348,-550.1587 864.7262,-544.5547 854.2026,-543.3285 855.7348,-550.1587\" stroke=\"#000000\"/>\n</g>\n<!-- 139741219880464 -->\n<g class=\"node\" id=\"node6\">\n<title>139741219880464</title>\n<polygon fill=\"none\" points=\"0,-415.5 0,-461.5 381,-461.5 381,-415.5 0,-415.5\" stroke=\"#000000\"/>\n<text fill=\"#000000\" font-family=\"Times,serif\" font-size=\"14.00\" text-anchor=\"middle\" x=\"103\" y=\"-434.8\">max_pooling1d: MaxPooling1D</text>\n<polyline fill=\"none\" points=\"206,-415.5 206,-461.5 \" stroke=\"#000000\"/>\n<text fill=\"#000000\" font-family=\"Times,serif\" font-size=\"14.00\" text-anchor=\"middle\" x=\"235\" y=\"-446.3\">input:</text>\n<polyline fill=\"none\" points=\"206,-438.5 264,-438.5 \" stroke=\"#000000\"/>\n<text fill=\"#000000\" font-family=\"Times,serif\" font-size=\"14.00\" text-anchor=\"middle\" x=\"235\" y=\"-423.3\">output:</text>\n<polyline fill=\"none\" points=\"264,-415.5 264,-461.5 \" stroke=\"#000000\"/>\n<text fill=\"#000000\" font-family=\"Times,serif\" font-size=\"14.00\" text-anchor=\"middle\" x=\"322.5\" y=\"-446.3\">(None, 177, 128)</text>\n<polyline fill=\"none\" points=\"264,-438.5 381,-438.5 \" stroke=\"#000000\"/>\n<text fill=\"#000000\" font-family=\"Times,serif\" font-size=\"14.00\" text-anchor=\"middle\" x=\"322.5\" y=\"-423.3\">(None, 44, 128)</text>\n</g>\n<!-- 139741219663440&#45;&gt;139741219880464 -->\n<g class=\"edge\" id=\"edge5\">\n<title>139741219663440-&gt;139741219880464</title>\n<path d=\"M222.2435,-498.3799C217.7046,-489.8178 212.4723,-479.9477 207.5817,-470.7222\" fill=\"none\" stroke=\"#000000\"/>\n<polygon fill=\"#000000\" points=\"210.6195,-468.98 202.8433,-461.784 204.4348,-472.2586 210.6195,-468.98\" stroke=\"#000000\"/>\n</g>\n<!-- 139741216616656 -->\n<g class=\"node\" id=\"node7\">\n<title>139741216616656</title>\n<polygon fill=\"none\" points=\"399.5,-415.5 399.5,-461.5 795.5,-461.5 795.5,-415.5 399.5,-415.5\" stroke=\"#000000\"/>\n<text fill=\"#000000\" font-family=\"Times,serif\" font-size=\"14.00\" text-anchor=\"middle\" x=\"510\" y=\"-434.8\">max_pooling1d_1: MaxPooling1D</text>\n<polyline fill=\"none\" points=\"620.5,-415.5 620.5,-461.5 \" stroke=\"#000000\"/>\n<text fill=\"#000000\" font-family=\"Times,serif\" font-size=\"14.00\" text-anchor=\"middle\" x=\"649.5\" y=\"-446.3\">input:</text>\n<polyline fill=\"none\" points=\"620.5,-438.5 678.5,-438.5 \" stroke=\"#000000\"/>\n<text fill=\"#000000\" font-family=\"Times,serif\" font-size=\"14.00\" text-anchor=\"middle\" x=\"649.5\" y=\"-423.3\">output:</text>\n<polyline fill=\"none\" points=\"678.5,-415.5 678.5,-461.5 \" stroke=\"#000000\"/>\n<text fill=\"#000000\" font-family=\"Times,serif\" font-size=\"14.00\" text-anchor=\"middle\" x=\"737\" y=\"-446.3\">(None, 176, 128)</text>\n<polyline fill=\"none\" points=\"678.5,-438.5 795.5,-438.5 \" stroke=\"#000000\"/>\n<text fill=\"#000000\" font-family=\"Times,serif\" font-size=\"14.00\" text-anchor=\"middle\" x=\"737\" y=\"-423.3\">(None, 44, 128)</text>\n</g>\n<!-- 139741216597328&#45;&gt;139741216616656 -->\n<g class=\"edge\" id=\"edge6\">\n<title>139741216597328-&gt;139741216616656</title>\n<path d=\"M597.5,-498.3799C597.5,-490.1745 597.5,-480.7679 597.5,-471.8786\" fill=\"none\" stroke=\"#000000\"/>\n<polygon fill=\"#000000\" points=\"601.0001,-471.784 597.5,-461.784 594.0001,-471.784 601.0001,-471.784\" stroke=\"#000000\"/>\n</g>\n<!-- 139741216702096 -->\n<g class=\"node\" id=\"node8\">\n<title>139741216702096</title>\n<polygon fill=\"none\" points=\"813.5,-415.5 813.5,-461.5 1209.5,-461.5 1209.5,-415.5 813.5,-415.5\" stroke=\"#000000\"/>\n<text fill=\"#000000\" font-family=\"Times,serif\" font-size=\"14.00\" text-anchor=\"middle\" x=\"924\" y=\"-434.8\">max_pooling1d_2: MaxPooling1D</text>\n<polyline fill=\"none\" points=\"1034.5,-415.5 1034.5,-461.5 \" stroke=\"#000000\"/>\n<text fill=\"#000000\" font-family=\"Times,serif\" font-size=\"14.00\" text-anchor=\"middle\" x=\"1063.5\" y=\"-446.3\">input:</text>\n<polyline fill=\"none\" points=\"1034.5,-438.5 1092.5,-438.5 \" stroke=\"#000000\"/>\n<text fill=\"#000000\" font-family=\"Times,serif\" font-size=\"14.00\" text-anchor=\"middle\" x=\"1063.5\" y=\"-423.3\">output:</text>\n<polyline fill=\"none\" points=\"1092.5,-415.5 1092.5,-461.5 \" stroke=\"#000000\"/>\n<text fill=\"#000000\" font-family=\"Times,serif\" font-size=\"14.00\" text-anchor=\"middle\" x=\"1151\" y=\"-446.3\">(None, 175, 128)</text>\n<polyline fill=\"none\" points=\"1092.5,-438.5 1209.5,-438.5 \" stroke=\"#000000\"/>\n<text fill=\"#000000\" font-family=\"Times,serif\" font-size=\"14.00\" text-anchor=\"middle\" x=\"1151\" y=\"-423.3\">(None, 43, 128)</text>\n</g>\n<!-- 139741216680976&#45;&gt;139741216702096 -->\n<g class=\"edge\" id=\"edge7\">\n<title>139741216680976-&gt;139741216702096</title>\n<path d=\"M979.7565,-498.3799C984.2954,-489.8178 989.5277,-479.9477 994.4183,-470.7222\" fill=\"none\" stroke=\"#000000\"/>\n<polygon fill=\"#000000\" points=\"997.5652,-472.2586 999.1567,-461.784 991.3805,-468.98 997.5652,-472.2586\" stroke=\"#000000\"/>\n</g>\n<!-- 139741217041104 -->\n<g class=\"node\" id=\"node9\">\n<title>139741217041104</title>\n<polygon fill=\"none\" points=\"115.5,-332.5 115.5,-378.5 381.5,-378.5 381.5,-332.5 115.5,-332.5\" stroke=\"#000000\"/>\n<text fill=\"#000000\" font-family=\"Times,serif\" font-size=\"14.00\" text-anchor=\"middle\" x=\"164.5\" y=\"-351.8\">flatten: Flatten</text>\n<polyline fill=\"none\" points=\"213.5,-332.5 213.5,-378.5 \" stroke=\"#000000\"/>\n<text fill=\"#000000\" font-family=\"Times,serif\" font-size=\"14.00\" text-anchor=\"middle\" x=\"242.5\" y=\"-363.3\">input:</text>\n<polyline fill=\"none\" points=\"213.5,-355.5 271.5,-355.5 \" stroke=\"#000000\"/>\n<text fill=\"#000000\" font-family=\"Times,serif\" font-size=\"14.00\" text-anchor=\"middle\" x=\"242.5\" y=\"-340.3\">output:</text>\n<polyline fill=\"none\" points=\"271.5,-332.5 271.5,-378.5 \" stroke=\"#000000\"/>\n<text fill=\"#000000\" font-family=\"Times,serif\" font-size=\"14.00\" text-anchor=\"middle\" x=\"326.5\" y=\"-363.3\">(None, 44, 128)</text>\n<polyline fill=\"none\" points=\"271.5,-355.5 381.5,-355.5 \" stroke=\"#000000\"/>\n<text fill=\"#000000\" font-family=\"Times,serif\" font-size=\"14.00\" text-anchor=\"middle\" x=\"326.5\" y=\"-340.3\">(None, 5632)</text>\n</g>\n<!-- 139741219880464&#45;&gt;139741217041104 -->\n<g class=\"edge\" id=\"edge8\">\n<title>139741219880464-&gt;139741217041104</title>\n<path d=\"M206.6562,-415.3799C212.764,-406.6394 219.8244,-396.5358 226.3856,-387.1465\" fill=\"none\" stroke=\"#000000\"/>\n<polygon fill=\"#000000\" points=\"229.3702,-388.9858 232.2292,-378.784 223.6323,-384.9762 229.3702,-388.9858\" stroke=\"#000000\"/>\n</g>\n<!-- 139741216666256 -->\n<g class=\"node\" id=\"node10\">\n<title>139741216666256</title>\n<polygon fill=\"none\" points=\"457,-332.5 457,-378.5 738,-378.5 738,-332.5 457,-332.5\" stroke=\"#000000\"/>\n<text fill=\"#000000\" font-family=\"Times,serif\" font-size=\"14.00\" text-anchor=\"middle\" x=\"513.5\" y=\"-351.8\">flatten_1: Flatten</text>\n<polyline fill=\"none\" points=\"570,-332.5 570,-378.5 \" stroke=\"#000000\"/>\n<text fill=\"#000000\" font-family=\"Times,serif\" font-size=\"14.00\" text-anchor=\"middle\" x=\"599\" y=\"-363.3\">input:</text>\n<polyline fill=\"none\" points=\"570,-355.5 628,-355.5 \" stroke=\"#000000\"/>\n<text fill=\"#000000\" font-family=\"Times,serif\" font-size=\"14.00\" text-anchor=\"middle\" x=\"599\" y=\"-340.3\">output:</text>\n<polyline fill=\"none\" points=\"628,-332.5 628,-378.5 \" stroke=\"#000000\"/>\n<text fill=\"#000000\" font-family=\"Times,serif\" font-size=\"14.00\" text-anchor=\"middle\" x=\"683\" y=\"-363.3\">(None, 44, 128)</text>\n<polyline fill=\"none\" points=\"628,-355.5 738,-355.5 \" stroke=\"#000000\"/>\n<text fill=\"#000000\" font-family=\"Times,serif\" font-size=\"14.00\" text-anchor=\"middle\" x=\"683\" y=\"-340.3\">(None, 5632)</text>\n</g>\n<!-- 139741216616656&#45;&gt;139741216666256 -->\n<g class=\"edge\" id=\"edge9\">\n<title>139741216616656-&gt;139741216666256</title>\n<path d=\"M597.5,-415.3799C597.5,-407.1745 597.5,-397.7679 597.5,-388.8786\" fill=\"none\" stroke=\"#000000\"/>\n<polygon fill=\"#000000\" points=\"601.0001,-388.784 597.5,-378.784 594.0001,-388.784 601.0001,-388.784\" stroke=\"#000000\"/>\n</g>\n<!-- 139741216668304 -->\n<g class=\"node\" id=\"node11\">\n<title>139741216668304</title>\n<polygon fill=\"none\" points=\"813,-332.5 813,-378.5 1094,-378.5 1094,-332.5 813,-332.5\" stroke=\"#000000\"/>\n<text fill=\"#000000\" font-family=\"Times,serif\" font-size=\"14.00\" text-anchor=\"middle\" x=\"869.5\" y=\"-351.8\">flatten_2: Flatten</text>\n<polyline fill=\"none\" points=\"926,-332.5 926,-378.5 \" stroke=\"#000000\"/>\n<text fill=\"#000000\" font-family=\"Times,serif\" font-size=\"14.00\" text-anchor=\"middle\" x=\"955\" y=\"-363.3\">input:</text>\n<polyline fill=\"none\" points=\"926,-355.5 984,-355.5 \" stroke=\"#000000\"/>\n<text fill=\"#000000\" font-family=\"Times,serif\" font-size=\"14.00\" text-anchor=\"middle\" x=\"955\" y=\"-340.3\">output:</text>\n<polyline fill=\"none\" points=\"984,-332.5 984,-378.5 \" stroke=\"#000000\"/>\n<text fill=\"#000000\" font-family=\"Times,serif\" font-size=\"14.00\" text-anchor=\"middle\" x=\"1039\" y=\"-363.3\">(None, 43, 128)</text>\n<polyline fill=\"none\" points=\"984,-355.5 1094,-355.5 \" stroke=\"#000000\"/>\n<text fill=\"#000000\" font-family=\"Times,serif\" font-size=\"14.00\" text-anchor=\"middle\" x=\"1039\" y=\"-340.3\">(None, 5504)</text>\n</g>\n<!-- 139741216702096&#45;&gt;139741216668304 -->\n<g class=\"edge\" id=\"edge10\">\n<title>139741216702096-&gt;139741216668304</title>\n<path d=\"M995.3438,-415.3799C989.236,-406.6394 982.1756,-396.5358 975.6144,-387.1465\" fill=\"none\" stroke=\"#000000\"/>\n<polygon fill=\"#000000\" points=\"978.3677,-384.9762 969.7708,-378.784 972.6298,-388.9858 978.3677,-384.9762\" stroke=\"#000000\"/>\n</g>\n<!-- 139741219662480 -->\n<g class=\"node\" id=\"node12\">\n<title>139741219662480</title>\n<polygon fill=\"none\" points=\"351,-249.5 351,-295.5 844,-295.5 844,-249.5 351,-249.5\" stroke=\"#000000\"/>\n<text fill=\"#000000\" font-family=\"Times,serif\" font-size=\"14.00\" text-anchor=\"middle\" x=\"431\" y=\"-268.8\">concatenate: Concatenate</text>\n<polyline fill=\"none\" points=\"511,-249.5 511,-295.5 \" stroke=\"#000000\"/>\n<text fill=\"#000000\" font-family=\"Times,serif\" font-size=\"14.00\" text-anchor=\"middle\" x=\"540\" y=\"-280.3\">input:</text>\n<polyline fill=\"none\" points=\"511,-272.5 569,-272.5 \" stroke=\"#000000\"/>\n<text fill=\"#000000\" font-family=\"Times,serif\" font-size=\"14.00\" text-anchor=\"middle\" x=\"540\" y=\"-257.3\">output:</text>\n<polyline fill=\"none\" points=\"569,-249.5 569,-295.5 \" stroke=\"#000000\"/>\n<text fill=\"#000000\" font-family=\"Times,serif\" font-size=\"14.00\" text-anchor=\"middle\" x=\"706.5\" y=\"-280.3\">[(None, 5632), (None, 5632), (None, 5504)]</text>\n<polyline fill=\"none\" points=\"569,-272.5 844,-272.5 \" stroke=\"#000000\"/>\n<text fill=\"#000000\" font-family=\"Times,serif\" font-size=\"14.00\" text-anchor=\"middle\" x=\"706.5\" y=\"-257.3\">(None, 16768)</text>\n</g>\n<!-- 139741217041104&#45;&gt;139741219662480 -->\n<g class=\"edge\" id=\"edge11\">\n<title>139741217041104-&gt;139741219662480</title>\n<path d=\"M345.2525,-332.4901C390.4522,-321.7406 444.3998,-308.9107 490.7824,-297.8798\" fill=\"none\" stroke=\"#000000\"/>\n<polygon fill=\"#000000\" points=\"491.6405,-301.2735 500.5593,-295.5547 490.0208,-294.4634 491.6405,-301.2735\" stroke=\"#000000\"/>\n</g>\n<!-- 139741216666256&#45;&gt;139741219662480 -->\n<g class=\"edge\" id=\"edge12\">\n<title>139741216666256-&gt;139741219662480</title>\n<path d=\"M597.5,-332.3799C597.5,-324.1745 597.5,-314.7679 597.5,-305.8786\" fill=\"none\" stroke=\"#000000\"/>\n<polygon fill=\"#000000\" points=\"601.0001,-305.784 597.5,-295.784 594.0001,-305.784 601.0001,-305.784\" stroke=\"#000000\"/>\n</g>\n<!-- 139741216668304&#45;&gt;139741219662480 -->\n<g class=\"edge\" id=\"edge13\">\n<title>139741216668304-&gt;139741219662480</title>\n<path d=\"M854.8069,-332.4901C808.7007,-321.7406 753.671,-308.9107 706.358,-297.8798\" fill=\"none\" stroke=\"#000000\"/>\n<polygon fill=\"#000000\" points=\"706.9186,-294.4167 696.3851,-295.5547 705.3292,-301.2339 706.9186,-294.4167\" stroke=\"#000000\"/>\n</g>\n<!-- 139741220118096 -->\n<g class=\"node\" id=\"node13\">\n<title>139741220118096</title>\n<polygon fill=\"none\" points=\"471.5,-166.5 471.5,-212.5 723.5,-212.5 723.5,-166.5 471.5,-166.5\" stroke=\"#000000\"/>\n<text fill=\"#000000\" font-family=\"Times,serif\" font-size=\"14.00\" text-anchor=\"middle\" x=\"517.5\" y=\"-185.8\">dense: Dense</text>\n<polyline fill=\"none\" points=\"563.5,-166.5 563.5,-212.5 \" stroke=\"#000000\"/>\n<text fill=\"#000000\" font-family=\"Times,serif\" font-size=\"14.00\" text-anchor=\"middle\" x=\"592.5\" y=\"-197.3\">input:</text>\n<polyline fill=\"none\" points=\"563.5,-189.5 621.5,-189.5 \" stroke=\"#000000\"/>\n<text fill=\"#000000\" font-family=\"Times,serif\" font-size=\"14.00\" text-anchor=\"middle\" x=\"592.5\" y=\"-174.3\">output:</text>\n<polyline fill=\"none\" points=\"621.5,-166.5 621.5,-212.5 \" stroke=\"#000000\"/>\n<text fill=\"#000000\" font-family=\"Times,serif\" font-size=\"14.00\" text-anchor=\"middle\" x=\"672.5\" y=\"-197.3\">(None, 16768)</text>\n<polyline fill=\"none\" points=\"621.5,-189.5 723.5,-189.5 \" stroke=\"#000000\"/>\n<text fill=\"#000000\" font-family=\"Times,serif\" font-size=\"14.00\" text-anchor=\"middle\" x=\"672.5\" y=\"-174.3\">(None, 128)</text>\n</g>\n<!-- 139741219662480&#45;&gt;139741220118096 -->\n<g class=\"edge\" id=\"edge14\">\n<title>139741219662480-&gt;139741220118096</title>\n<path d=\"M597.5,-249.3799C597.5,-241.1745 597.5,-231.7679 597.5,-222.8786\" fill=\"none\" stroke=\"#000000\"/>\n<polygon fill=\"#000000\" points=\"601.0001,-222.784 597.5,-212.784 594.0001,-222.784 601.0001,-222.784\" stroke=\"#000000\"/>\n</g>\n<!-- 139741216750032 -->\n<g class=\"node\" id=\"node14\">\n<title>139741216750032</title>\n<polygon fill=\"none\" points=\"471.5,-83.5 471.5,-129.5 723.5,-129.5 723.5,-83.5 471.5,-83.5\" stroke=\"#000000\"/>\n<text fill=\"#000000\" font-family=\"Times,serif\" font-size=\"14.00\" text-anchor=\"middle\" x=\"525\" y=\"-102.8\">dense_1: Dense</text>\n<polyline fill=\"none\" points=\"578.5,-83.5 578.5,-129.5 \" stroke=\"#000000\"/>\n<text fill=\"#000000\" font-family=\"Times,serif\" font-size=\"14.00\" text-anchor=\"middle\" x=\"607.5\" y=\"-114.3\">input:</text>\n<polyline fill=\"none\" points=\"578.5,-106.5 636.5,-106.5 \" stroke=\"#000000\"/>\n<text fill=\"#000000\" font-family=\"Times,serif\" font-size=\"14.00\" text-anchor=\"middle\" x=\"607.5\" y=\"-91.3\">output:</text>\n<polyline fill=\"none\" points=\"636.5,-83.5 636.5,-129.5 \" stroke=\"#000000\"/>\n<text fill=\"#000000\" font-family=\"Times,serif\" font-size=\"14.00\" text-anchor=\"middle\" x=\"680\" y=\"-114.3\">(None, 128)</text>\n<polyline fill=\"none\" points=\"636.5,-106.5 723.5,-106.5 \" stroke=\"#000000\"/>\n<text fill=\"#000000\" font-family=\"Times,serif\" font-size=\"14.00\" text-anchor=\"middle\" x=\"680\" y=\"-91.3\">(None, 128)</text>\n</g>\n<!-- 139741220118096&#45;&gt;139741216750032 -->\n<g class=\"edge\" id=\"edge15\">\n<title>139741220118096-&gt;139741216750032</title>\n<path d=\"M597.5,-166.3799C597.5,-158.1745 597.5,-148.7679 597.5,-139.8786\" fill=\"none\" stroke=\"#000000\"/>\n<polygon fill=\"#000000\" points=\"601.0001,-139.784 597.5,-129.784 594.0001,-139.784 601.0001,-139.784\" stroke=\"#000000\"/>\n</g>\n<!-- 139741216750224 -->\n<g class=\"node\" id=\"node15\">\n<title>139741216750224</title>\n<polygon fill=\"none\" points=\"471.5,-.5 471.5,-46.5 723.5,-46.5 723.5,-.5 471.5,-.5\" stroke=\"#000000\"/>\n<text fill=\"#000000\" font-family=\"Times,serif\" font-size=\"14.00\" text-anchor=\"middle\" x=\"525\" y=\"-19.8\">dense_2: Dense</text>\n<polyline fill=\"none\" points=\"578.5,-.5 578.5,-46.5 \" stroke=\"#000000\"/>\n<text fill=\"#000000\" font-family=\"Times,serif\" font-size=\"14.00\" text-anchor=\"middle\" x=\"607.5\" y=\"-31.3\">input:</text>\n<polyline fill=\"none\" points=\"578.5,-23.5 636.5,-23.5 \" stroke=\"#000000\"/>\n<text fill=\"#000000\" font-family=\"Times,serif\" font-size=\"14.00\" text-anchor=\"middle\" x=\"607.5\" y=\"-8.3\">output:</text>\n<polyline fill=\"none\" points=\"636.5,-.5 636.5,-46.5 \" stroke=\"#000000\"/>\n<text fill=\"#000000\" font-family=\"Times,serif\" font-size=\"14.00\" text-anchor=\"middle\" x=\"680\" y=\"-31.3\">(None, 128)</text>\n<polyline fill=\"none\" points=\"636.5,-23.5 723.5,-23.5 \" stroke=\"#000000\"/>\n<text fill=\"#000000\" font-family=\"Times,serif\" font-size=\"14.00\" text-anchor=\"middle\" x=\"680\" y=\"-8.3\">(None, 1)</text>\n</g>\n<!-- 139741216750032&#45;&gt;139741216750224 -->\n<g class=\"edge\" id=\"edge16\">\n<title>139741216750032-&gt;139741216750224</title>\n<path d=\"M597.5,-83.3799C597.5,-75.1745 597.5,-65.7679 597.5,-56.8786\" fill=\"none\" stroke=\"#000000\"/>\n<polygon fill=\"#000000\" points=\"601.0001,-56.784 597.5,-46.784 594.0001,-56.784 601.0001,-56.784\" stroke=\"#000000\"/>\n</g>\n</g>\n</svg>"
          },
          "metadata": {
            "tags": []
          },
          "execution_count": 37
        }
      ]
    },
    {
      "cell_type": "markdown",
      "metadata": {
        "id": "E1Y8cIIqJDcn"
      },
      "source": [
        "* train le model"
      ]
    },
    {
      "cell_type": "code",
      "metadata": {
        "colab": {
          "base_uri": "https://localhost:8080/"
        },
        "id": "mvOS4Xc0pMPz",
        "outputId": "6fc82505-b343-4d3f-b3c5-deff6287cc27"
      },
      "source": [
        "history = model.fit(X_train, y_train, batch_size=64, epochs=10, verbose=1, validation_split=0.2)"
      ],
      "execution_count": 25,
      "outputs": [
        {
          "output_type": "stream",
          "text": [
            "Epoch 1/10\n",
            "2079/2079 [==============================] - 27s 9ms/step - loss: 0.0141 - acc: 0.9949 - val_loss: 4.0497e-07 - val_acc: 1.0000\n",
            "Epoch 2/10\n",
            "2079/2079 [==============================] - 18s 8ms/step - loss: 3.0164e-07 - acc: 1.0000 - val_loss: 8.2738e-08 - val_acc: 1.0000\n",
            "Epoch 3/10\n",
            "2079/2079 [==============================] - 18s 8ms/step - loss: 6.2653e-08 - acc: 1.0000 - val_loss: 2.2855e-08 - val_acc: 1.0000\n",
            "Epoch 4/10\n",
            "2079/2079 [==============================] - 18s 8ms/step - loss: 1.8428e-08 - acc: 1.0000 - val_loss: 7.2300e-09 - val_acc: 1.0000\n",
            "Epoch 5/10\n",
            "2079/2079 [==============================] - 18s 9ms/step - loss: 5.7137e-09 - acc: 1.0000 - val_loss: 2.3694e-09 - val_acc: 1.0000\n",
            "Epoch 6/10\n",
            "2079/2079 [==============================] - 18s 8ms/step - loss: 1.9571e-09 - acc: 1.0000 - val_loss: 9.9266e-10 - val_acc: 1.0000\n",
            "Epoch 7/10\n",
            "2079/2079 [==============================] - 18s 8ms/step - loss: 8.3799e-10 - acc: 1.0000 - val_loss: 4.5967e-10 - val_acc: 1.0000\n",
            "Epoch 8/10\n",
            "2079/2079 [==============================] - 18s 8ms/step - loss: 4.1312e-10 - acc: 1.0000 - val_loss: 2.8301e-10 - val_acc: 1.0000\n",
            "Epoch 9/10\n",
            "2079/2079 [==============================] - 18s 8ms/step - loss: 2.6837e-10 - acc: 1.0000 - val_loss: 2.0994e-10 - val_acc: 1.0000\n",
            "Epoch 10/10\n",
            "2079/2079 [==============================] - 18s 8ms/step - loss: 1.9914e-10 - acc: 1.0000 - val_loss: 1.4705e-10 - val_acc: 1.0000\n"
          ],
          "name": "stdout"
        }
      ]
    },
    {
      "cell_type": "markdown",
      "metadata": {
        "id": "6siFb31HJHAc"
      },
      "source": [
        "* evaluer le model"
      ]
    },
    {
      "cell_type": "code",
      "metadata": {
        "id": "6oGV4ihXpOGn",
        "colab": {
          "base_uri": "https://localhost:8080/"
        },
        "outputId": "f4798851-faac-4304-ee6b-d27b60a1f224"
      },
      "source": [
        "score = model.evaluate(X_test, y_test, verbose=1)"
      ],
      "execution_count": 26,
      "outputs": [
        {
          "output_type": "stream",
          "text": [
            "1299/1299 [==============================] - 4s 3ms/step - loss: 1.7362e-10 - acc: 1.0000\n"
          ],
          "name": "stdout"
        }
      ]
    },
    {
      "cell_type": "code",
      "metadata": {
        "id": "Ld4aQAnUpOxS",
        "colab": {
          "base_uri": "https://localhost:8080/"
        },
        "outputId": "5370325e-8659-46a2-d36e-1d8a252456be"
      },
      "source": [
        "print(\"Test Score:\", score[0])\n",
        "print(\"Test Accuracy:\", score[1])"
      ],
      "execution_count": 27,
      "outputs": [
        {
          "output_type": "stream",
          "text": [
            "Test Score: 1.7362242199503441e-10\n",
            "Test Accuracy: 1.0\n"
          ],
          "name": "stdout"
        }
      ]
    },
    {
      "cell_type": "markdown",
      "metadata": {
        "id": "yUeZmyDTwMiU"
      },
      "source": [
        "## **Comme vous pouvez voir nous avons atteindre une performance de 100% avec le CNN model** "
      ]
    },
    {
      "cell_type": "markdown",
      "metadata": {
        "id": "lCc2itVAJT0f"
      },
      "source": [
        "* Tracons la différence de loss et accuracy entre train set et test set"
      ]
    },
    {
      "cell_type": "code",
      "metadata": {
        "id": "91tcRM_zpR7Z",
        "colab": {
          "base_uri": "https://localhost:8080/",
          "height": 573
        },
        "outputId": "d7824d23-0d3d-4856-8376-65bdfb18958d"
      },
      "source": [
        "import matplotlib.pyplot as plt\n",
        "\n",
        "plt.plot(history.history['acc'])\n",
        "plt.plot(history.history['val_acc'])\n",
        "\n",
        "plt.title('model accuracy')\n",
        "plt.ylabel('accuracy')\n",
        "plt.xlabel('epoch')\n",
        "plt.legend(['train','test'], loc = 'upper left')\n",
        "plt.show()\n",
        "\n",
        "plt.plot(history.history['loss'])\n",
        "plt.plot(history.history['val_loss'])\n",
        "\n",
        "plt.title('model loss')\n",
        "plt.ylabel('loss')\n",
        "plt.xlabel('epoch')\n",
        "plt.legend(['train','test'], loc = 'upper left')\n",
        "plt.show()"
      ],
      "execution_count": 28,
      "outputs": [
        {
          "output_type": "display_data",
          "data": {
            "image/png": "[encoded data removed]",
            "text/plain": [
              "<Figure size 432x288 with 1 Axes>"
            ]
          },
          "metadata": {
            "tags": [],
            "needs_background": "light"
          }
        },
        {
          "output_type": "display_data",
          "data": {
            "image/png": "[encoded data removed]",
            "text/plain": [
              "<Figure size 432x288 with 1 Axes>"
            ]
          },
          "metadata": {
            "tags": [],
            "needs_background": "light"
          }
        }
      ]
    },
    {
      "cell_type": "markdown",
      "metadata": {
        "id": "R7uPb03U3Ydj"
      },
      "source": [
        "# VI- LSTM"
      ]
    },
    {
      "cell_type": "markdown",
      "metadata": {
        "id": "gr4ePt51J_8B"
      },
      "source": [
        "* Constriure le model"
      ]
    },
    {
      "cell_type": "code",
      "metadata": {
        "id": "lvjdragJpVNz"
      },
      "source": [
        "model1 = Sequential()\n",
        "embedding_layer = Embedding(vocab_size, 100, weights=[embedding_matrix], input_length=maxlen , trainable=False)\n",
        "model1.add(embedding_layer)\n",
        "model1.add(LSTM(128))\n",
        "model1.add(Dense(64, activation='relu'))\n",
        "model1.add(Dense(64, activation='relu'))\n",
        "model1.add(Dense(1, activation='sigmoid'))\n",
        "model1.compile(optimizer='adam', loss='binary_crossentropy', metrics=['acc'])\n"
      ],
      "execution_count": 29,
      "outputs": []
    },
    {
      "cell_type": "code",
      "metadata": {
        "colab": {
          "base_uri": "https://localhost:8080/",
          "height": 586
        },
        "id": "aEskeIblTqVV",
        "outputId": "fbd3ec5a-adbe-49b5-917f-fb117acbf40b"
      },
      "source": [
        "SVG(model_to_dot(model1, show_shapes= True, show_layer_names=True, dpi=65).create(prog='dot', format='svg'))"
      ],
      "execution_count": 36,
      "outputs": [
        {
          "output_type": "execute_result",
          "data": {
            "text/plain": [
              "<IPython.core.display.SVG object>"
            ],
            "image/svg+xml": "<svg height=\"424pt\" viewBox=\"0.00 0.00 367.00 470.00\" width=\"331pt\" xmlns=\"http://www.w3.org/2000/svg\" xmlns:xlink=\"http://www.w3.org/1999/xlink\">\n<g class=\"graph\" id=\"graph0\" transform=\"scale(.9028 .9028) rotate(0) translate(4 466)\">\n<title>G</title>\n<polygon fill=\"#ffffff\" points=\"-4,4 -4,-466 363,-466 363,4 -4,4\" stroke=\"transparent\"/>\n<!-- 139741183317520 -->\n<g class=\"node\" id=\"node1\">\n<title>139741183317520</title>\n<polygon fill=\"none\" points=\"0,-415.5 0,-461.5 359,-461.5 359,-415.5 0,-415.5\" stroke=\"#000000\"/>\n<text fill=\"#000000\" font-family=\"Times,serif\" font-size=\"14.00\" text-anchor=\"middle\" x=\"102.5\" y=\"-434.8\">embedding_1_input: InputLayer</text>\n<polyline fill=\"none\" points=\"205,-415.5 205,-461.5 \" stroke=\"#000000\"/>\n<text fill=\"#000000\" font-family=\"Times,serif\" font-size=\"14.00\" text-anchor=\"middle\" x=\"234\" y=\"-446.3\">input:</text>\n<polyline fill=\"none\" points=\"205,-438.5 263,-438.5 \" stroke=\"#000000\"/>\n<text fill=\"#000000\" font-family=\"Times,serif\" font-size=\"14.00\" text-anchor=\"middle\" x=\"234\" y=\"-423.3\">output:</text>\n<polyline fill=\"none\" points=\"263,-415.5 263,-461.5 \" stroke=\"#000000\"/>\n<text fill=\"#000000\" font-family=\"Times,serif\" font-size=\"14.00\" text-anchor=\"middle\" x=\"311\" y=\"-446.3\">[(None, 178)]</text>\n<polyline fill=\"none\" points=\"263,-438.5 359,-438.5 \" stroke=\"#000000\"/>\n<text fill=\"#000000\" font-family=\"Times,serif\" font-size=\"14.00\" text-anchor=\"middle\" x=\"311\" y=\"-423.3\">[(None, 178)]</text>\n</g>\n<!-- 139741183317264 -->\n<g class=\"node\" id=\"node2\">\n<title>139741183317264</title>\n<polygon fill=\"none\" points=\"6.5,-332.5 6.5,-378.5 352.5,-378.5 352.5,-332.5 6.5,-332.5\" stroke=\"#000000\"/>\n<text fill=\"#000000\" font-family=\"Times,serif\" font-size=\"14.00\" text-anchor=\"middle\" x=\"92\" y=\"-351.8\">embedding_1: Embedding</text>\n<polyline fill=\"none\" points=\"177.5,-332.5 177.5,-378.5 \" stroke=\"#000000\"/>\n<text fill=\"#000000\" font-family=\"Times,serif\" font-size=\"14.00\" text-anchor=\"middle\" x=\"206.5\" y=\"-363.3\">input:</text>\n<polyline fill=\"none\" points=\"177.5,-355.5 235.5,-355.5 \" stroke=\"#000000\"/>\n<text fill=\"#000000\" font-family=\"Times,serif\" font-size=\"14.00\" text-anchor=\"middle\" x=\"206.5\" y=\"-340.3\">output:</text>\n<polyline fill=\"none\" points=\"235.5,-332.5 235.5,-378.5 \" stroke=\"#000000\"/>\n<text fill=\"#000000\" font-family=\"Times,serif\" font-size=\"14.00\" text-anchor=\"middle\" x=\"294\" y=\"-363.3\">(None, 178)</text>\n<polyline fill=\"none\" points=\"235.5,-355.5 352.5,-355.5 \" stroke=\"#000000\"/>\n<text fill=\"#000000\" font-family=\"Times,serif\" font-size=\"14.00\" text-anchor=\"middle\" x=\"294\" y=\"-340.3\">(None, 178, 100)</text>\n</g>\n<!-- 139741183317520&#45;&gt;139741183317264 -->\n<g class=\"edge\" id=\"edge1\">\n<title>139741183317520-&gt;139741183317264</title>\n<path d=\"M179.5,-415.3799C179.5,-407.1745 179.5,-397.7679 179.5,-388.8786\" fill=\"none\" stroke=\"#000000\"/>\n<polygon fill=\"#000000\" points=\"183.0001,-388.784 179.5,-378.784 176.0001,-388.784 183.0001,-388.784\" stroke=\"#000000\"/>\n</g>\n<!-- 139741183809744 -->\n<g class=\"node\" id=\"node3\">\n<title>139741183809744</title>\n<polygon fill=\"none\" points=\"48.5,-249.5 48.5,-295.5 310.5,-295.5 310.5,-249.5 48.5,-249.5\" stroke=\"#000000\"/>\n<text fill=\"#000000\" font-family=\"Times,serif\" font-size=\"14.00\" text-anchor=\"middle\" x=\"92\" y=\"-268.8\">lstm: LSTM</text>\n<polyline fill=\"none\" points=\"135.5,-249.5 135.5,-295.5 \" stroke=\"#000000\"/>\n<text fill=\"#000000\" font-family=\"Times,serif\" font-size=\"14.00\" text-anchor=\"middle\" x=\"164.5\" y=\"-280.3\">input:</text>\n<polyline fill=\"none\" points=\"135.5,-272.5 193.5,-272.5 \" stroke=\"#000000\"/>\n<text fill=\"#000000\" font-family=\"Times,serif\" font-size=\"14.00\" text-anchor=\"middle\" x=\"164.5\" y=\"-257.3\">output:</text>\n<polyline fill=\"none\" points=\"193.5,-249.5 193.5,-295.5 \" stroke=\"#000000\"/>\n<text fill=\"#000000\" font-family=\"Times,serif\" font-size=\"14.00\" text-anchor=\"middle\" x=\"252\" y=\"-280.3\">(None, 178, 100)</text>\n<polyline fill=\"none\" points=\"193.5,-272.5 310.5,-272.5 \" stroke=\"#000000\"/>\n<text fill=\"#000000\" font-family=\"Times,serif\" font-size=\"14.00\" text-anchor=\"middle\" x=\"252\" y=\"-257.3\">(None, 128)</text>\n</g>\n<!-- 139741183317264&#45;&gt;139741183809744 -->\n<g class=\"edge\" id=\"edge2\">\n<title>139741183317264-&gt;139741183809744</title>\n<path d=\"M179.5,-332.3799C179.5,-324.1745 179.5,-314.7679 179.5,-305.8786\" fill=\"none\" stroke=\"#000000\"/>\n<polygon fill=\"#000000\" points=\"183.0001,-305.784 179.5,-295.784 176.0001,-305.784 183.0001,-305.784\" stroke=\"#000000\"/>\n</g>\n<!-- 139741179340432 -->\n<g class=\"node\" id=\"node4\">\n<title>139741179340432</title>\n<polygon fill=\"none\" points=\"53.5,-166.5 53.5,-212.5 305.5,-212.5 305.5,-166.5 53.5,-166.5\" stroke=\"#000000\"/>\n<text fill=\"#000000\" font-family=\"Times,serif\" font-size=\"14.00\" text-anchor=\"middle\" x=\"107\" y=\"-185.8\">dense_3: Dense</text>\n<polyline fill=\"none\" points=\"160.5,-166.5 160.5,-212.5 \" stroke=\"#000000\"/>\n<text fill=\"#000000\" font-family=\"Times,serif\" font-size=\"14.00\" text-anchor=\"middle\" x=\"189.5\" y=\"-197.3\">input:</text>\n<polyline fill=\"none\" points=\"160.5,-189.5 218.5,-189.5 \" stroke=\"#000000\"/>\n<text fill=\"#000000\" font-family=\"Times,serif\" font-size=\"14.00\" text-anchor=\"middle\" x=\"189.5\" y=\"-174.3\">output:</text>\n<polyline fill=\"none\" points=\"218.5,-166.5 218.5,-212.5 \" stroke=\"#000000\"/>\n<text fill=\"#000000\" font-family=\"Times,serif\" font-size=\"14.00\" text-anchor=\"middle\" x=\"262\" y=\"-197.3\">(None, 128)</text>\n<polyline fill=\"none\" points=\"218.5,-189.5 305.5,-189.5 \" stroke=\"#000000\"/>\n<text fill=\"#000000\" font-family=\"Times,serif\" font-size=\"14.00\" text-anchor=\"middle\" x=\"262\" y=\"-174.3\">(None, 64)</text>\n</g>\n<!-- 139741183809744&#45;&gt;139741179340432 -->\n<g class=\"edge\" id=\"edge3\">\n<title>139741183809744-&gt;139741179340432</title>\n<path d=\"M179.5,-249.3799C179.5,-241.1745 179.5,-231.7679 179.5,-222.8786\" fill=\"none\" stroke=\"#000000\"/>\n<polygon fill=\"#000000\" points=\"183.0001,-222.784 179.5,-212.784 176.0001,-222.784 183.0001,-222.784\" stroke=\"#000000\"/>\n</g>\n<!-- 139741527926928 -->\n<g class=\"node\" id=\"node5\">\n<title>139741527926928</title>\n<polygon fill=\"none\" points=\"57,-83.5 57,-129.5 302,-129.5 302,-83.5 57,-83.5\" stroke=\"#000000\"/>\n<text fill=\"#000000\" font-family=\"Times,serif\" font-size=\"14.00\" text-anchor=\"middle\" x=\"110.5\" y=\"-102.8\">dense_4: Dense</text>\n<polyline fill=\"none\" points=\"164,-83.5 164,-129.5 \" stroke=\"#000000\"/>\n<text fill=\"#000000\" font-family=\"Times,serif\" font-size=\"14.00\" text-anchor=\"middle\" x=\"193\" y=\"-114.3\">input:</text>\n<polyline fill=\"none\" points=\"164,-106.5 222,-106.5 \" stroke=\"#000000\"/>\n<text fill=\"#000000\" font-family=\"Times,serif\" font-size=\"14.00\" text-anchor=\"middle\" x=\"193\" y=\"-91.3\">output:</text>\n<polyline fill=\"none\" points=\"222,-83.5 222,-129.5 \" stroke=\"#000000\"/>\n<text fill=\"#000000\" font-family=\"Times,serif\" font-size=\"14.00\" text-anchor=\"middle\" x=\"262\" y=\"-114.3\">(None, 64)</text>\n<polyline fill=\"none\" points=\"222,-106.5 302,-106.5 \" stroke=\"#000000\"/>\n<text fill=\"#000000\" font-family=\"Times,serif\" font-size=\"14.00\" text-anchor=\"middle\" x=\"262\" y=\"-91.3\">(None, 64)</text>\n</g>\n<!-- 139741179340432&#45;&gt;139741527926928 -->\n<g class=\"edge\" id=\"edge4\">\n<title>139741179340432-&gt;139741527926928</title>\n<path d=\"M179.5,-166.3799C179.5,-158.1745 179.5,-148.7679 179.5,-139.8786\" fill=\"none\" stroke=\"#000000\"/>\n<polygon fill=\"#000000\" points=\"183.0001,-139.784 179.5,-129.784 176.0001,-139.784 183.0001,-139.784\" stroke=\"#000000\"/>\n</g>\n<!-- 139741179342160 -->\n<g class=\"node\" id=\"node6\">\n<title>139741179342160</title>\n<polygon fill=\"none\" points=\"57,-.5 57,-46.5 302,-46.5 302,-.5 57,-.5\" stroke=\"#000000\"/>\n<text fill=\"#000000\" font-family=\"Times,serif\" font-size=\"14.00\" text-anchor=\"middle\" x=\"110.5\" y=\"-19.8\">dense_5: Dense</text>\n<polyline fill=\"none\" points=\"164,-.5 164,-46.5 \" stroke=\"#000000\"/>\n<text fill=\"#000000\" font-family=\"Times,serif\" font-size=\"14.00\" text-anchor=\"middle\" x=\"193\" y=\"-31.3\">input:</text>\n<polyline fill=\"none\" points=\"164,-23.5 222,-23.5 \" stroke=\"#000000\"/>\n<text fill=\"#000000\" font-family=\"Times,serif\" font-size=\"14.00\" text-anchor=\"middle\" x=\"193\" y=\"-8.3\">output:</text>\n<polyline fill=\"none\" points=\"222,-.5 222,-46.5 \" stroke=\"#000000\"/>\n<text fill=\"#000000\" font-family=\"Times,serif\" font-size=\"14.00\" text-anchor=\"middle\" x=\"262\" y=\"-31.3\">(None, 64)</text>\n<polyline fill=\"none\" points=\"222,-23.5 302,-23.5 \" stroke=\"#000000\"/>\n<text fill=\"#000000\" font-family=\"Times,serif\" font-size=\"14.00\" text-anchor=\"middle\" x=\"262\" y=\"-8.3\">(None, 1)</text>\n</g>\n<!-- 139741527926928&#45;&gt;139741179342160 -->\n<g class=\"edge\" id=\"edge5\">\n<title>139741527926928-&gt;139741179342160</title>\n<path d=\"M179.5,-83.3799C179.5,-75.1745 179.5,-65.7679 179.5,-56.8786\" fill=\"none\" stroke=\"#000000\"/>\n<polygon fill=\"#000000\" points=\"183.0001,-56.784 179.5,-46.784 176.0001,-56.784 183.0001,-56.784\" stroke=\"#000000\"/>\n</g>\n</g>\n</svg>"
          },
          "metadata": {
            "tags": []
          },
          "execution_count": 36
        }
      ]
    },
    {
      "cell_type": "markdown",
      "metadata": {
        "id": "a7pUJMetKF3r"
      },
      "source": [
        "* train model"
      ]
    },
    {
      "cell_type": "code",
      "metadata": {
        "id": "Nn8RDPUupc1x",
        "colab": {
          "base_uri": "https://localhost:8080/"
        },
        "outputId": "86afe1b7-3f93-4db7-e3db-d852660b5376"
      },
      "source": [
        "history = model1.fit(X_train, y_train, batch_size=64, epochs=10, verbose=1, validation_split=0.2)"
      ],
      "execution_count": 30,
      "outputs": [
        {
          "output_type": "stream",
          "text": [
            "Epoch 1/10\n",
            "2079/2079 [==============================] - 34s 13ms/step - loss: 0.3151 - acc: 0.9113 - val_loss: 0.3006 - val_acc: 0.9110\n",
            "Epoch 2/10\n",
            "2079/2079 [==============================] - 27s 13ms/step - loss: 0.2978 - acc: 0.9124 - val_loss: 0.3023 - val_acc: 0.9110\n",
            "Epoch 3/10\n",
            "2079/2079 [==============================] - 27s 13ms/step - loss: 0.2971 - acc: 0.9127 - val_loss: 0.3012 - val_acc: 0.9110\n",
            "Epoch 4/10\n",
            "2079/2079 [==============================] - 27s 13ms/step - loss: 0.3010 - acc: 0.9109 - val_loss: 0.3005 - val_acc: 0.9110\n",
            "Epoch 5/10\n",
            "2079/2079 [==============================] - 27s 13ms/step - loss: 0.3027 - acc: 0.9101 - val_loss: 0.3013 - val_acc: 0.9110\n",
            "Epoch 6/10\n",
            "2079/2079 [==============================] - 27s 13ms/step - loss: 0.2976 - acc: 0.9124 - val_loss: 0.3003 - val_acc: 0.9110\n",
            "Epoch 7/10\n",
            "2079/2079 [==============================] - 27s 13ms/step - loss: 0.2980 - acc: 0.9121 - val_loss: 0.3006 - val_acc: 0.9110\n",
            "Epoch 8/10\n",
            "2079/2079 [==============================] - 27s 13ms/step - loss: 0.2984 - acc: 0.9120 - val_loss: 0.3003 - val_acc: 0.9110\n",
            "Epoch 9/10\n",
            "2079/2079 [==============================] - 27s 13ms/step - loss: 0.2963 - acc: 0.9128 - val_loss: 0.3004 - val_acc: 0.9110\n",
            "Epoch 10/10\n",
            "2079/2079 [==============================] - 27s 13ms/step - loss: 0.2976 - acc: 0.9123 - val_loss: 0.3008 - val_acc: 0.9110\n"
          ],
          "name": "stdout"
        }
      ]
    },
    {
      "cell_type": "markdown",
      "metadata": {
        "id": "Yn49GBAXKJKn"
      },
      "source": [
        "* evaluate model"
      ]
    },
    {
      "cell_type": "code",
      "metadata": {
        "id": "0pS-cEJQpsMa",
        "colab": {
          "base_uri": "https://localhost:8080/"
        },
        "outputId": "1b335b9c-6a89-40d4-8863-aa5ae8545108"
      },
      "source": [
        "score = model1.evaluate(X_test, y_test, verbose=1)"
      ],
      "execution_count": 32,
      "outputs": [
        {
          "output_type": "stream",
          "text": [
            "1299/1299 [==============================] - 7s 6ms/step - loss: 0.3019 - acc: 0.9105\n"
          ],
          "name": "stdout"
        }
      ]
    },
    {
      "cell_type": "code",
      "metadata": {
        "id": "tVCgKEwHpwG8",
        "colab": {
          "base_uri": "https://localhost:8080/"
        },
        "outputId": "7fdff8d0-8df2-44d9-f918-2f4b20e94a5e"
      },
      "source": [
        "print(\"Test Score:\", score[0])\n",
        "print(\"Test Accuracy:\", score[1])"
      ],
      "execution_count": 33,
      "outputs": [
        {
          "output_type": "stream",
          "text": [
            "Test Score: 0.3018897473812103\n",
            "Test Accuracy: 0.910523533821106\n"
          ],
          "name": "stdout"
        }
      ]
    },
    {
      "cell_type": "markdown",
      "metadata": {
        "id": "cpinqO6Jwxho"
      },
      "source": [
        "## **Comme vous pouvez voir nous avons atteindre une performance de 91,05% avec le LSTM model**"
      ]
    },
    {
      "cell_type": "markdown",
      "metadata": {
        "id": "nd8ziqCjKOeX"
      },
      "source": [
        "* Tracons la différence de loss et accuracy entre train set et test set"
      ]
    },
    {
      "cell_type": "code",
      "metadata": {
        "id": "lxYenPKmpxYq",
        "colab": {
          "base_uri": "https://localhost:8080/",
          "height": 573
        },
        "outputId": "a0796fdd-0c5e-4bcf-900b-87f2fa04e26b"
      },
      "source": [
        "import matplotlib.pyplot as plt\n",
        "\n",
        "plt.plot(history.history['acc'])\n",
        "plt.plot(history.history['val_acc'])\n",
        "\n",
        "plt.title('model accuracy')\n",
        "plt.ylabel('accuracy')\n",
        "plt.xlabel('epoch')\n",
        "plt.legend(['train','test'], loc='upper left')\n",
        "plt.show()\n",
        "\n",
        "plt.plot(history.history['loss'])\n",
        "plt.plot(history.history['val_loss'])\n",
        "\n",
        "plt.title('model loss')\n",
        "plt.ylabel('loss')\n",
        "plt.xlabel('epoch')\n",
        "plt.legend(['train','test'], loc='upper left')\n",
        "plt.show()"
      ],
      "execution_count": 34,
      "outputs": [
        {
          "output_type": "display_data",
          "data": {
            "image/png": "[encoded data removed]",
            "text/plain": [
              "<Figure size 432x288 with 1 Axes>"
            ]
          },
          "metadata": {
            "tags": [],
            "needs_background": "light"
          }
        },
        {
          "output_type": "display_data",
          "data": {
            "image/png": "[encoded data removed]",
            "text/plain": [
              "<Figure size 432x288 with 1 Axes>"
            ]
          },
          "metadata": {
            "tags": [],
            "needs_background": "light"
          }
        }
      ]
    }
  ]
}