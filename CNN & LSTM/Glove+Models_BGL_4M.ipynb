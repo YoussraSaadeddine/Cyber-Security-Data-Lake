{
  "nbformat": 4,
  "nbformat_minor": 0,
  "metadata": {
    "accelerator": "GPU",
    "colab": {
      "name": "Glove+Models_BGL_4M.ipynb",
      "provenance": [],
      "collapsed_sections": []
    },
    "kernelspec": {
      "display_name": "Python 3",
      "name": "python3"
    },
    "language_info": {
      "name": "python"
    }
  },
  "cells": [
    {
      "cell_type": "markdown",
      "metadata": {
        "id": "3UzO-0b5_tA3"
      },
      "source": [
        "# I- Introduction:\n",
        "Aprés avoir testé the state of the art model (Bert) nous alllons essayer dans ce projet d'utiliser deux types différents de deep neural network: Convolutional Neural Network (CNN) et Long Short Term Memory Network (LSTM), qui est une variante des Recurrent Neural Networks pour affiner rapidement et efficacement un modèle de classification des logs de Blue Gene/L supercompute, où notre objectif sera de détecter les anomalies dans des futurs logs.\n",
        "\n",
        "* **Dataset** - nous allons utiliser une DT open Source des logs de Blue Gene/L supercomputer(contient 4,747,963 logs),il est sous forme d'un Filelog donc on avait besoin d'utiliser excel(On peut utiliser Python mais excel reste simple) pour insérer les logs dans des dataframes.\n",
        "\n",
        "* **Objectif** - developper une solution qui permet de detecter les anomalies dans les logs.\n",
        "\n",
        "* **Methodologie** - nous allons considerer comme nous avons un probleme de text classification et construire un deep learning model pour attiendre l'objectif."
      ]
    },
    {
      "cell_type": "markdown",
      "metadata": {
        "id": "J2xQARwf_s1f"
      },
      "source": [
        "# II- Different Models:\n",
        "\n",
        "Il existe plusieurs types de modèles qui pourraient être utilisés pour créer la solution de la classification de texte parmi ces solutions on trouve:\n",
        "\n",
        "\n",
        "*   **1D- Conv Net** : \n",
        "les CNN peuvent être utilisés pour la classification des textes. ils sont plus rapides à s'entraîner.\n",
        "\n",
        "*   **Modèles basés sur RNN (LSTM, GRU)** :  ils peuvent capturer la nature séquentielle d'un texte. Mais ils sont plus lent à s'entraîner.\n",
        "\n",
        "* **Modèles basés sur des transformers (BERT, GPT2)** -\n",
        "Les modèles basés sur des transformers exploite plusieurs unités Transformer et un mécanisme d'attention à multihead.\n",
        "\n",
        "####Dans ce projet nous allons focaliser sur un model basé sur RNN(LSTM) et un autre basé sur les CNN.\n"
      ]
    },
    {
      "cell_type": "markdown",
      "metadata": {
        "id": "nWOg1foq_ssc"
      },
      "source": [
        "# III- Data Preprocessing"
      ]
    },
    {
      "cell_type": "markdown",
      "metadata": {
        "id": "CPM6Y9-x_sjc"
      },
      "source": [
        "### 1. Importing libraries and modules"
      ]
    },
    {
      "cell_type": "code",
      "metadata": {
        "id": "NYyobhk2enYZ"
      },
      "source": [
        "import pandas as pd\n",
        "import numpy as np\n",
        "import matplotlib.pyplot as plt\n",
        "import seaborn as sns\n",
        "import re\n",
        "from numpy import array\n",
        "import keras \n",
        "from keras.preprocessing.sequence import pad_sequences\n",
        "from keras.models import Sequential\n",
        "from keras.layers.core import Activation, Dropout, Dense\n",
        "from keras.layers import Flatten\n",
        "from keras.layers import GlobalMaxPooling1D\n",
        "from keras.layers.embeddings import Embedding\n",
        "from keras.preprocessing.text import Tokenizer\n",
        "from sklearn.utils import shuffle\n",
        "from google.colab import drive\n",
        "from sklearn.model_selection import train_test_split\n",
        "from keras.models import Sequential\n",
        "from keras.layers import Dense\n",
        "from keras.layers import Input, Dense, Dropout, Embedding, LSTM, Flatten\n",
        "from keras.models import Model\n",
        "from sklearn.metrics import accuracy_score"
      ],
      "execution_count": 1,
      "outputs": []
    },
    {
      "cell_type": "markdown",
      "metadata": {
        "id": "FQRMWg6qlJsg"
      },
      "source": [
        "###2. Loading Data"
      ]
    },
    {
      "cell_type": "markdown",
      "metadata": {
        "id": "bK_C6jL3Swj9"
      },
      "source": [
        "####**Importing files from Google Drive in Colab**\n",
        "notre dataset est stockée dans Google Drive donc nous avons besoin de \n",
        "lier notre compte Google Drive avec notre notebook.\n",
        "1. La première étape consiste à monter notre Google Drive en exécutant le code en dessous.\n",
        "2.  nous obtenons le code d'autorisation en nous connectant à notre compte Google.\n",
        "3.   nous collons le code d'autorisation et nous appuyons sur Entrée."
      ]
    },
    {
      "cell_type": "code",
      "metadata": {
        "colab": {
          "base_uri": "https://localhost:8080/"
        },
        "id": "ny55UZG3ggjK",
        "outputId": "14313e4e-118a-48bb-963b-300e4d56e0a6"
      },
      "source": [
        "drive.mount('/gdrive')\n",
        "%cd /gdrive"
      ],
      "execution_count": 2,
      "outputs": [
        {
          "output_type": "stream",
          "text": [
            "Mounted at /gdrive\n",
            "/gdrive\n"
          ],
          "name": "stdout"
        }
      ]
    },
    {
      "cell_type": "code",
      "metadata": {
        "id": "OciB7qLAgvwY"
      },
      "source": [
        "df = pd.read_csv(r'/gdrive/My Drive/BGL_4M.csv')"
      ],
      "execution_count": 3,
      "outputs": []
    },
    {
      "cell_type": "code",
      "metadata": {
        "colab": {
          "base_uri": "https://localhost:8080/"
        },
        "id": "FkrzMx3TloWk",
        "outputId": "64a14927-79c9-40d3-cc11-ea3594c6ceb6"
      },
      "source": [
        "df.shape"
      ],
      "execution_count": null,
      "outputs": [
        {
          "output_type": "execute_result",
          "data": {
            "text/plain": [
              "(4600001, 3)"
            ]
          },
          "metadata": {
            "tags": []
          },
          "execution_count": 5
        }
      ]
    },
    {
      "cell_type": "code",
      "metadata": {
        "id": "GEIiAtMHik7q"
      },
      "source": [
        "del df['Unnamed: 0']"
      ],
      "execution_count": 4,
      "outputs": []
    },
    {
      "cell_type": "code",
      "metadata": {
        "colab": {
          "base_uri": "https://localhost:8080/",
          "height": 359
        },
        "id": "F3zIXkK-ihJv",
        "outputId": "ab529156-77a6-4b13-877f-7c04bb90b0d3"
      },
      "source": [
        "df.sample(10)"
      ],
      "execution_count": 5,
      "outputs": [
        {
          "output_type": "execute_result",
          "data": {
            "text/html": [
              "<div>\n",
              "<style scoped>\n",
              "    .dataframe tbody tr th:only-of-type {\n",
              "        vertical-align: middle;\n",
              "    }\n",
              "\n",
              "    .dataframe tbody tr th {\n",
              "        vertical-align: top;\n",
              "    }\n",
              "\n",
              "    .dataframe thead th {\n",
              "        text-align: right;\n",
              "    }\n",
              "</style>\n",
              "<table border=\"1\" class=\"dataframe\">\n",
              "  <thead>\n",
              "    <tr style=\"text-align: right;\">\n",
              "      <th></th>\n",
              "      <th>log</th>\n",
              "      <th>label</th>\n",
              "    </tr>\n",
              "  </thead>\n",
              "  <tbody>\n",
              "    <tr>\n",
              "      <th>3126497</th>\n",
              "      <td>- 1125223601 2005.08.28 R42-M0-N3-C:J05-U01 20...</td>\n",
              "      <td>0</td>\n",
              "    </tr>\n",
              "    <tr>\n",
              "      <th>4501680</th>\n",
              "      <td>- 1133971772 2005.12.07 R41-M0-N4-I:J18-U11 20...</td>\n",
              "      <td>0</td>\n",
              "    </tr>\n",
              "    <tr>\n",
              "      <th>3579676</th>\n",
              "      <td>- 1131058183 2005.11.03 R67-M0-N5-C:J16-U01 20...</td>\n",
              "      <td>0</td>\n",
              "    </tr>\n",
              "    <tr>\n",
              "      <th>2777161</th>\n",
              "      <td>- 1123031056 2005.08.02 R00-M1-N9 2005-08-02-1...</td>\n",
              "      <td>0</td>\n",
              "    </tr>\n",
              "    <tr>\n",
              "      <th>574701</th>\n",
              "      <td>- 1118770193 2005.06.14 R27-M1-N0-C:J15-U01 20...</td>\n",
              "      <td>0</td>\n",
              "    </tr>\n",
              "    <tr>\n",
              "      <th>1475941</th>\n",
              "      <td>- 1120760386 2005.07.07 R30-M1-N2-C:J13-U01 20...</td>\n",
              "      <td>0</td>\n",
              "    </tr>\n",
              "    <tr>\n",
              "      <th>3912975</th>\n",
              "      <td>- 1131408253 2005.11.07 R63-M0-NB-C:J13-U11 20...</td>\n",
              "      <td>0</td>\n",
              "    </tr>\n",
              "    <tr>\n",
              "      <th>4548057</th>\n",
              "      <td>- 1134961923 2005.12.18 R15-M0-NB-C:J09-U11 20...</td>\n",
              "      <td>0</td>\n",
              "    </tr>\n",
              "    <tr>\n",
              "      <th>3007409</th>\n",
              "      <td>- 1125083973 2005.08.26 R66-M0-N0-C:J02-U01 20...</td>\n",
              "      <td>0</td>\n",
              "    </tr>\n",
              "    <tr>\n",
              "      <th>1544951</th>\n",
              "      <td>- 1120923513 2005.07.09 R33-M1-N5-C:J11-U11 20...</td>\n",
              "      <td>0</td>\n",
              "    </tr>\n",
              "  </tbody>\n",
              "</table>\n",
              "</div>"
            ],
            "text/plain": [
              "                                                       log  label\n",
              "3126497  - 1125223601 2005.08.28 R42-M0-N3-C:J05-U01 20...      0\n",
              "4501680  - 1133971772 2005.12.07 R41-M0-N4-I:J18-U11 20...      0\n",
              "3579676  - 1131058183 2005.11.03 R67-M0-N5-C:J16-U01 20...      0\n",
              "2777161  - 1123031056 2005.08.02 R00-M1-N9 2005-08-02-1...      0\n",
              "574701   - 1118770193 2005.06.14 R27-M1-N0-C:J15-U01 20...      0\n",
              "1475941  - 1120760386 2005.07.07 R30-M1-N2-C:J13-U01 20...      0\n",
              "3912975  - 1131408253 2005.11.07 R63-M0-NB-C:J13-U11 20...      0\n",
              "4548057  - 1134961923 2005.12.18 R15-M0-NB-C:J09-U11 20...      0\n",
              "3007409  - 1125083973 2005.08.26 R66-M0-N0-C:J02-U01 20...      0\n",
              "1544951  - 1120923513 2005.07.09 R33-M1-N5-C:J11-U11 20...      0"
            ]
          },
          "metadata": {
            "tags": []
          },
          "execution_count": 5
        }
      ]
    },
    {
      "cell_type": "markdown",
      "metadata": {
        "id": "685zpRDjC58h"
      },
      "source": [
        "* Vérifier les valeurs nulles"
      ]
    },
    {
      "cell_type": "code",
      "metadata": {
        "colab": {
          "base_uri": "https://localhost:8080/"
        },
        "id": "9-NmJdhmhK5W",
        "outputId": "61955c5d-20e2-4952-9e50-800e3de7c9f7"
      },
      "source": [
        "df.isnull().values.any()"
      ],
      "execution_count": 6,
      "outputs": [
        {
          "output_type": "execute_result",
          "data": {
            "text/plain": [
              "False"
            ]
          },
          "metadata": {
            "tags": []
          },
          "execution_count": 6
        }
      ]
    },
    {
      "cell_type": "code",
      "metadata": {
        "id": "M20biFiMLOwq"
      },
      "source": [
        "def clean_data(log):\n",
        "    log = re.sub(\"'\", \"\", log)\n",
        "    log = re.sub(\"-\", \"\", log)\n",
        "    log = re.sub(\"_\", \"\", log)\n",
        "    log = re.sub(\"(\\\\W)+\", \" \", log)\n",
        "    log = log.lower()\n",
        "    return log"
      ],
      "execution_count": 7,
      "outputs": []
    },
    {
      "cell_type": "code",
      "metadata": {
        "colab": {
          "base_uri": "https://localhost:8080/"
        },
        "id": "32MXlsHzK8ym",
        "outputId": "591f8f3b-86c8-48fd-cfbb-37bcfbb5d497"
      },
      "source": [
        "len(clean_data('- 1117838570 2005.06.03 R02-M1-N0-C:J12-U11 2005-06-03-15.42.50.363779 R02-M1-N0-C:J12-U11 RAS KERNEL INFO instruction cache parity error corrected'))"
      ],
      "execution_count": 7,
      "outputs": [
        {
          "output_type": "execute_result",
          "data": {
            "text/plain": [
              "135"
            ]
          },
          "metadata": {
            "tags": []
          },
          "execution_count": 7
        }
      ]
    },
    {
      "cell_type": "code",
      "metadata": {
        "id": "cMDj-a84L1Qg"
      },
      "source": [
        "df['log'] = df['log'].apply(clean_data)"
      ],
      "execution_count": 8,
      "outputs": []
    },
    {
      "cell_type": "markdown",
      "metadata": {
        "id": "t94COKNemxbH"
      },
      "source": [
        "* Split the dataset into train set 80% et test sets 20%)"
      ]
    },
    {
      "cell_type": "code",
      "metadata": {
        "id": "n5kwEITAiez8"
      },
      "source": [
        "X_train, X_test, y_train, y_test = train_test_split(df['log'],df['label'], test_size=0.2,random_state=42)"
      ],
      "execution_count": 9,
      "outputs": []
    },
    {
      "cell_type": "markdown",
      "metadata": {
        "id": "Fs6cPEVJDvFm"
      },
      "source": [
        "# IV- Preparing the Embedding Layer"
      ]
    },
    {
      "cell_type": "markdown",
      "metadata": {
        "id": "Y6erncuPFx81"
      },
      "source": [
        "nous utiliserons la classe Tokenizer du module keras.preprocessing.text pour créer un dictionnaire de word-to-index . Dans le dictionnaire, chaque mot est utilisé comme clé, tandis qu'un index unique correspondant est utilisé comme valeur pour la clé."
      ]
    },
    {
      "cell_type": "code",
      "metadata": {
        "id": "Nv_DaokYjRFi"
      },
      "source": [
        "tokenizer = Tokenizer()\n",
        "tokenizer.fit_on_texts(X_train)\n",
        "\n",
        "X_train = tokenizer.texts_to_sequences(X_train)\n",
        "X_test = tokenizer.texts_to_sequences(X_test)"
      ],
      "execution_count": 10,
      "outputs": []
    },
    {
      "cell_type": "markdown",
      "metadata": {
        "id": "TOo_yb2QGP2q"
      },
      "source": [
        "Nous fixons la taille maximale à 140. Les listes de taille supérieure à 140 seront tronquées à 140. Pour les listes dont la longueur est inférieure à 140, nous ajouterons 0 à la fin de la liste jusqu'à ce qu'elle atteigne la longueur maximale."
      ]
    },
    {
      "cell_type": "code",
      "metadata": {
        "id": "2v1cM7DkjvfI"
      },
      "source": [
        "vocab_size = len(tokenizer.word_index) + 1\n",
        "\n",
        "maxlen = 140\n",
        "\n",
        "X_train = pad_sequences(X_train, padding='post', maxlen=maxlen)\n",
        "X_test = pad_sequences(X_test, padding='post', maxlen=maxlen)"
      ],
      "execution_count": 11,
      "outputs": []
    },
    {
      "cell_type": "markdown",
      "metadata": {
        "id": "04wvSErOG3FK"
      },
      "source": [
        "Nous utiliserons GloVe embeddings pour créer feature matrix, j'ai essayé d'importer Glove sur mon drive\n",
        "* vous pouvez la trouver sur : https://drive.google.com/file/d/17PIgUPWrXOLFbUYqTAnl1cgWqnWHgX1B/view?usp=sharing"
      ]
    },
    {
      "cell_type": "code",
      "metadata": {
        "id": "wOS5ffsdkAiu"
      },
      "source": [
        "from numpy import array\n",
        "from numpy import asarray\n",
        "from numpy import zeros\n",
        "\n",
        "glove_path=r'/gdrive/My Drive/glove.6B.100d.txt'\n",
        "embeddings_dictionary = dict()\n",
        "glove_file = open(glove_path, encoding=\"utf8\")\n",
        "\n",
        "for line in glove_file:\n",
        "    records = line.split()\n",
        "    word = records[0]\n",
        "    vector_dimensions = asarray(records[1:], dtype='float32')\n",
        "    embeddings_dictionary [word] = vector_dimensions\n",
        "glove_file.close()"
      ],
      "execution_count": 12,
      "outputs": []
    },
    {
      "cell_type": "markdown",
      "metadata": {
        "id": "jxW3vnn6INGC"
      },
      "source": [
        "Enfin, nous allons créer une embedding matrix où chaque numéro de ligne correspondra à l'index du mot. La matrice aura 100 colonnes où chaque colonne contiendra les embeddings de mots GloVe."
      ]
    },
    {
      "cell_type": "code",
      "metadata": {
        "id": "eKSc-2jom30B"
      },
      "source": [
        "embedding_matrix = zeros((vocab_size,100))\n",
        "for word, index in tokenizer.word_index.items():\n",
        "    embedding_vector = embeddings_dictionary.get(word)\n",
        "    if embedding_vector is not None:\n",
        "        embedding_matrix[index] = embedding_vector"
      ],
      "execution_count": 13,
      "outputs": []
    },
    {
      "cell_type": "markdown",
      "metadata": {
        "id": "QQUyrighIdMd"
      },
      "source": [
        "# V- CNN model"
      ]
    },
    {
      "cell_type": "markdown",
      "metadata": {
        "id": "mHfkvOXQoHFD"
      },
      "source": [
        "* Construire le model"
      ]
    },
    {
      "cell_type": "code",
      "metadata": {
        "id": "vnPEv7_tapmK"
      },
      "source": [
        "from keras.layers import MaxPooling1D,Conv1D,GlobalMaxPooling1D\n",
        "from keras.models import Sequential, Model\n",
        "from keras.layers import Activation, Dense, Dropout, Flatten, Input, merge,Concatenate\n",
        "\n",
        "\n",
        "\n",
        "###Building the Model. \n",
        "input_tensor = Input(shape=(140,))\n",
        "# Créer un embedding layer(2D)\n",
        "input_layer= Embedding(vocab_size,100, weights=[embedding_matrix], input_length=maxlen , trainable=False)(input_tensor)\n",
        "#liste où on va stocker l'output\n",
        "uni_vec = []\n",
        "#nous allons utiliser 3 filtres avec des n-grams différents( 2-grams, 3-grams, 4-grams\n",
        "filter_sizes = (2,3,4)\n",
        "for ks in filter_sizes:\n",
        "    #applique 3 convolutions différents à l'embedding layer\n",
        "    conv_layer= Conv1D(128, kernel_size=ks, activation='relu')(input_layer)\n",
        "    maxpool_layer = MaxPooling1D(pool_size=maxlen-ks+1,strides=None, padding='valid')(conv_layer)\n",
        "    flat_layer= Flatten()(maxpool_layer)\n",
        "    uni_vec.append(flat_layer)\n",
        "\n",
        "# concatiner les outputs \n",
        "single_feature_vector = keras.layers.concatenate(uni_vec)\n",
        "#fully Connected Layers\n",
        "dense = Dense(128, activation='relu')(single_feature_vector)\n",
        "dense2 = Dense(128, activation='relu')(dense)\n",
        "out = Dense(1, activation='sigmoid')(dense2)\n",
        "model = Model(inputs=input_tensor, outputs=out)\n",
        "\n"
      ],
      "execution_count": 14,
      "outputs": []
    },
    {
      "cell_type": "code",
      "metadata": {
        "colab": {
          "base_uri": "https://localhost:8080/",
          "height": 906
        },
        "id": "gR9pjhXteuXp",
        "outputId": "71758767-00dc-443e-c75a-22192c7b7301"
      },
      "source": [
        "from IPython.display import SVG\n",
        "from keras.utils.vis_utils import model_to_dot\n",
        "\n",
        "SVG(model_to_dot(model, show_shapes= True, show_layer_names=True, dpi=65).create(prog='dot', format='svg'))"
      ],
      "execution_count": 15,
      "outputs": [
        {
          "output_type": "execute_result",
          "data": {
            "text/plain": [
              "<IPython.core.display.SVG object>"
            ],
            "image/svg+xml": "<svg height=\"649pt\" viewBox=\"0.00 0.00 1217.50 719.00\" width=\"1099pt\" xmlns=\"http://www.w3.org/2000/svg\" xmlns:xlink=\"http://www.w3.org/1999/xlink\">\n<g class=\"graph\" id=\"graph0\" transform=\"scale(.9028 .9028) rotate(0) translate(4 715)\">\n<title>G</title>\n<polygon fill=\"#ffffff\" points=\"-4,4 -4,-715 1213.5,-715 1213.5,4 -4,4\" stroke=\"transparent\"/>\n<!-- 139802882622224 -->\n<g class=\"node\" id=\"node1\">\n<title>139802882622224</title>\n<polygon fill=\"none\" points=\"454,-664.5 454,-710.5 741,-710.5 741,-664.5 454,-664.5\" stroke=\"#000000\"/>\n<text fill=\"#000000\" font-family=\"Times,serif\" font-size=\"14.00\" text-anchor=\"middle\" x=\"520.5\" y=\"-683.8\">input_1: InputLayer</text>\n<polyline fill=\"none\" points=\"587,-664.5 587,-710.5 \" stroke=\"#000000\"/>\n<text fill=\"#000000\" font-family=\"Times,serif\" font-size=\"14.00\" text-anchor=\"middle\" x=\"616\" y=\"-695.3\">input:</text>\n<polyline fill=\"none\" points=\"587,-687.5 645,-687.5 \" stroke=\"#000000\"/>\n<text fill=\"#000000\" font-family=\"Times,serif\" font-size=\"14.00\" text-anchor=\"middle\" x=\"616\" y=\"-672.3\">output:</text>\n<polyline fill=\"none\" points=\"645,-664.5 645,-710.5 \" stroke=\"#000000\"/>\n<text fill=\"#000000\" font-family=\"Times,serif\" font-size=\"14.00\" text-anchor=\"middle\" x=\"693\" y=\"-695.3\">[(None, 140)]</text>\n<polyline fill=\"none\" points=\"645,-687.5 741,-687.5 \" stroke=\"#000000\"/>\n<text fill=\"#000000\" font-family=\"Times,serif\" font-size=\"14.00\" text-anchor=\"middle\" x=\"693\" y=\"-672.3\">[(None, 140)]</text>\n</g>\n<!-- 139802882514896 -->\n<g class=\"node\" id=\"node2\">\n<title>139802882514896</title>\n<polygon fill=\"none\" points=\"432,-581.5 432,-627.5 763,-627.5 763,-581.5 432,-581.5\" stroke=\"#000000\"/>\n<text fill=\"#000000\" font-family=\"Times,serif\" font-size=\"14.00\" text-anchor=\"middle\" x=\"510\" y=\"-600.8\">embedding: Embedding</text>\n<polyline fill=\"none\" points=\"588,-581.5 588,-627.5 \" stroke=\"#000000\"/>\n<text fill=\"#000000\" font-family=\"Times,serif\" font-size=\"14.00\" text-anchor=\"middle\" x=\"617\" y=\"-612.3\">input:</text>\n<polyline fill=\"none\" points=\"588,-604.5 646,-604.5 \" stroke=\"#000000\"/>\n<text fill=\"#000000\" font-family=\"Times,serif\" font-size=\"14.00\" text-anchor=\"middle\" x=\"617\" y=\"-589.3\">output:</text>\n<polyline fill=\"none\" points=\"646,-581.5 646,-627.5 \" stroke=\"#000000\"/>\n<text fill=\"#000000\" font-family=\"Times,serif\" font-size=\"14.00\" text-anchor=\"middle\" x=\"704.5\" y=\"-612.3\">(None, 140)</text>\n<polyline fill=\"none\" points=\"646,-604.5 763,-604.5 \" stroke=\"#000000\"/>\n<text fill=\"#000000\" font-family=\"Times,serif\" font-size=\"14.00\" text-anchor=\"middle\" x=\"704.5\" y=\"-589.3\">(None, 140, 100)</text>\n</g>\n<!-- 139802882622224&#45;&gt;139802882514896 -->\n<g class=\"edge\" id=\"edge1\">\n<title>139802882622224-&gt;139802882514896</title>\n<path d=\"M597.5,-664.3799C597.5,-656.1745 597.5,-646.7679 597.5,-637.8786\" fill=\"none\" stroke=\"#000000\"/>\n<polygon fill=\"#000000\" points=\"601.0001,-637.784 597.5,-627.784 594.0001,-637.784 601.0001,-637.784\" stroke=\"#000000\"/>\n</g>\n<!-- 139802882656400 -->\n<g class=\"node\" id=\"node3\">\n<title>139802882656400</title>\n<polygon fill=\"none\" points=\"88,-498.5 88,-544.5 381,-544.5 381,-498.5 88,-498.5\" stroke=\"#000000\"/>\n<text fill=\"#000000\" font-family=\"Times,serif\" font-size=\"14.00\" text-anchor=\"middle\" x=\"147\" y=\"-517.8\">conv1d: Conv1D</text>\n<polyline fill=\"none\" points=\"206,-498.5 206,-544.5 \" stroke=\"#000000\"/>\n<text fill=\"#000000\" font-family=\"Times,serif\" font-size=\"14.00\" text-anchor=\"middle\" x=\"235\" y=\"-529.3\">input:</text>\n<polyline fill=\"none\" points=\"206,-521.5 264,-521.5 \" stroke=\"#000000\"/>\n<text fill=\"#000000\" font-family=\"Times,serif\" font-size=\"14.00\" text-anchor=\"middle\" x=\"235\" y=\"-506.3\">output:</text>\n<polyline fill=\"none\" points=\"264,-498.5 264,-544.5 \" stroke=\"#000000\"/>\n<text fill=\"#000000\" font-family=\"Times,serif\" font-size=\"14.00\" text-anchor=\"middle\" x=\"322.5\" y=\"-529.3\">(None, 140, 100)</text>\n<polyline fill=\"none\" points=\"264,-521.5 381,-521.5 \" stroke=\"#000000\"/>\n<text fill=\"#000000\" font-family=\"Times,serif\" font-size=\"14.00\" text-anchor=\"middle\" x=\"322.5\" y=\"-506.3\">(None, 139, 128)</text>\n</g>\n<!-- 139802882514896&#45;&gt;139802882656400 -->\n<g class=\"edge\" id=\"edge2\">\n<title>139802882514896-&gt;139802882656400</title>\n<path d=\"M496.8663,-581.4901C449.7551,-570.7181 393.5069,-557.857 345.1958,-546.8106\" fill=\"none\" stroke=\"#000000\"/>\n<polygon fill=\"#000000\" points=\"345.858,-543.3718 335.3294,-544.5547 344.2977,-550.1957 345.858,-543.3718\" stroke=\"#000000\"/>\n</g>\n<!-- 139802881910672 -->\n<g class=\"node\" id=\"node4\">\n<title>139802881910672</title>\n<polygon fill=\"none\" points=\"443.5,-498.5 443.5,-544.5 751.5,-544.5 751.5,-498.5 443.5,-498.5\" stroke=\"#000000\"/>\n<text fill=\"#000000\" font-family=\"Times,serif\" font-size=\"14.00\" text-anchor=\"middle\" x=\"510\" y=\"-517.8\">conv1d_1: Conv1D</text>\n<polyline fill=\"none\" points=\"576.5,-498.5 576.5,-544.5 \" stroke=\"#000000\"/>\n<text fill=\"#000000\" font-family=\"Times,serif\" font-size=\"14.00\" text-anchor=\"middle\" x=\"605.5\" y=\"-529.3\">input:</text>\n<polyline fill=\"none\" points=\"576.5,-521.5 634.5,-521.5 \" stroke=\"#000000\"/>\n<text fill=\"#000000\" font-family=\"Times,serif\" font-size=\"14.00\" text-anchor=\"middle\" x=\"605.5\" y=\"-506.3\">output:</text>\n<polyline fill=\"none\" points=\"634.5,-498.5 634.5,-544.5 \" stroke=\"#000000\"/>\n<text fill=\"#000000\" font-family=\"Times,serif\" font-size=\"14.00\" text-anchor=\"middle\" x=\"693\" y=\"-529.3\">(None, 140, 100)</text>\n<polyline fill=\"none\" points=\"634.5,-521.5 751.5,-521.5 \" stroke=\"#000000\"/>\n<text fill=\"#000000\" font-family=\"Times,serif\" font-size=\"14.00\" text-anchor=\"middle\" x=\"693\" y=\"-506.3\">(None, 138, 128)</text>\n</g>\n<!-- 139802882514896&#45;&gt;139802881910672 -->\n<g class=\"edge\" id=\"edge3\">\n<title>139802882514896-&gt;139802881910672</title>\n<path d=\"M597.5,-581.3799C597.5,-573.1745 597.5,-563.7679 597.5,-554.8786\" fill=\"none\" stroke=\"#000000\"/>\n<polygon fill=\"#000000\" points=\"601.0001,-554.784 597.5,-544.784 594.0001,-554.784 601.0001,-554.784\" stroke=\"#000000\"/>\n</g>\n<!-- 139802881445712 -->\n<g class=\"node\" id=\"node5\">\n<title>139802881445712</title>\n<polygon fill=\"none\" points=\"813.5,-498.5 813.5,-544.5 1121.5,-544.5 1121.5,-498.5 813.5,-498.5\" stroke=\"#000000\"/>\n<text fill=\"#000000\" font-family=\"Times,serif\" font-size=\"14.00\" text-anchor=\"middle\" x=\"880\" y=\"-517.8\">conv1d_2: Conv1D</text>\n<polyline fill=\"none\" points=\"946.5,-498.5 946.5,-544.5 \" stroke=\"#000000\"/>\n<text fill=\"#000000\" font-family=\"Times,serif\" font-size=\"14.00\" text-anchor=\"middle\" x=\"975.5\" y=\"-529.3\">input:</text>\n<polyline fill=\"none\" points=\"946.5,-521.5 1004.5,-521.5 \" stroke=\"#000000\"/>\n<text fill=\"#000000\" font-family=\"Times,serif\" font-size=\"14.00\" text-anchor=\"middle\" x=\"975.5\" y=\"-506.3\">output:</text>\n<polyline fill=\"none\" points=\"1004.5,-498.5 1004.5,-544.5 \" stroke=\"#000000\"/>\n<text fill=\"#000000\" font-family=\"Times,serif\" font-size=\"14.00\" text-anchor=\"middle\" x=\"1063\" y=\"-529.3\">(None, 140, 100)</text>\n<polyline fill=\"none\" points=\"1004.5,-521.5 1121.5,-521.5 \" stroke=\"#000000\"/>\n<text fill=\"#000000\" font-family=\"Times,serif\" font-size=\"14.00\" text-anchor=\"middle\" x=\"1063\" y=\"-506.3\">(None, 137, 128)</text>\n</g>\n<!-- 139802882514896&#45;&gt;139802881445712 -->\n<g class=\"edge\" id=\"edge4\">\n<title>139802882514896-&gt;139802881445712</title>\n<path d=\"M700.0743,-581.4901C748.094,-570.7181 805.4268,-557.857 854.6696,-546.8106\" fill=\"none\" stroke=\"#000000\"/>\n<polygon fill=\"#000000\" points=\"855.7348,-550.1587 864.7262,-544.5547 854.2026,-543.3285 855.7348,-550.1587\" stroke=\"#000000\"/>\n</g>\n<!-- 139802881949072 -->\n<g class=\"node\" id=\"node6\">\n<title>139802881949072</title>\n<polygon fill=\"none\" points=\"0,-415.5 0,-461.5 381,-461.5 381,-415.5 0,-415.5\" stroke=\"#000000\"/>\n<text fill=\"#000000\" font-family=\"Times,serif\" font-size=\"14.00\" text-anchor=\"middle\" x=\"103\" y=\"-434.8\">max_pooling1d: MaxPooling1D</text>\n<polyline fill=\"none\" points=\"206,-415.5 206,-461.5 \" stroke=\"#000000\"/>\n<text fill=\"#000000\" font-family=\"Times,serif\" font-size=\"14.00\" text-anchor=\"middle\" x=\"235\" y=\"-446.3\">input:</text>\n<polyline fill=\"none\" points=\"206,-438.5 264,-438.5 \" stroke=\"#000000\"/>\n<text fill=\"#000000\" font-family=\"Times,serif\" font-size=\"14.00\" text-anchor=\"middle\" x=\"235\" y=\"-423.3\">output:</text>\n<polyline fill=\"none\" points=\"264,-415.5 264,-461.5 \" stroke=\"#000000\"/>\n<text fill=\"#000000\" font-family=\"Times,serif\" font-size=\"14.00\" text-anchor=\"middle\" x=\"322.5\" y=\"-446.3\">(None, 139, 128)</text>\n<polyline fill=\"none\" points=\"264,-438.5 381,-438.5 \" stroke=\"#000000\"/>\n<text fill=\"#000000\" font-family=\"Times,serif\" font-size=\"14.00\" text-anchor=\"middle\" x=\"322.5\" y=\"-423.3\">(None, 1, 128)</text>\n</g>\n<!-- 139802882656400&#45;&gt;139802881949072 -->\n<g class=\"edge\" id=\"edge5\">\n<title>139802882656400-&gt;139802881949072</title>\n<path d=\"M222.2435,-498.3799C217.7046,-489.8178 212.4723,-479.9477 207.5817,-470.7222\" fill=\"none\" stroke=\"#000000\"/>\n<polygon fill=\"#000000\" points=\"210.6195,-468.98 202.8433,-461.784 204.4348,-472.2586 210.6195,-468.98\" stroke=\"#000000\"/>\n</g>\n<!-- 139802881418704 -->\n<g class=\"node\" id=\"node7\">\n<title>139802881418704</title>\n<polygon fill=\"none\" points=\"399.5,-415.5 399.5,-461.5 795.5,-461.5 795.5,-415.5 399.5,-415.5\" stroke=\"#000000\"/>\n<text fill=\"#000000\" font-family=\"Times,serif\" font-size=\"14.00\" text-anchor=\"middle\" x=\"510\" y=\"-434.8\">max_pooling1d_1: MaxPooling1D</text>\n<polyline fill=\"none\" points=\"620.5,-415.5 620.5,-461.5 \" stroke=\"#000000\"/>\n<text fill=\"#000000\" font-family=\"Times,serif\" font-size=\"14.00\" text-anchor=\"middle\" x=\"649.5\" y=\"-446.3\">input:</text>\n<polyline fill=\"none\" points=\"620.5,-438.5 678.5,-438.5 \" stroke=\"#000000\"/>\n<text fill=\"#000000\" font-family=\"Times,serif\" font-size=\"14.00\" text-anchor=\"middle\" x=\"649.5\" y=\"-423.3\">output:</text>\n<polyline fill=\"none\" points=\"678.5,-415.5 678.5,-461.5 \" stroke=\"#000000\"/>\n<text fill=\"#000000\" font-family=\"Times,serif\" font-size=\"14.00\" text-anchor=\"middle\" x=\"737\" y=\"-446.3\">(None, 138, 128)</text>\n<polyline fill=\"none\" points=\"678.5,-438.5 795.5,-438.5 \" stroke=\"#000000\"/>\n<text fill=\"#000000\" font-family=\"Times,serif\" font-size=\"14.00\" text-anchor=\"middle\" x=\"737\" y=\"-423.3\">(None, 1, 128)</text>\n</g>\n<!-- 139802881910672&#45;&gt;139802881418704 -->\n<g class=\"edge\" id=\"edge6\">\n<title>139802881910672-&gt;139802881418704</title>\n<path d=\"M597.5,-498.3799C597.5,-490.1745 597.5,-480.7679 597.5,-471.8786\" fill=\"none\" stroke=\"#000000\"/>\n<polygon fill=\"#000000\" points=\"601.0001,-471.784 597.5,-461.784 594.0001,-471.784 601.0001,-471.784\" stroke=\"#000000\"/>\n</g>\n<!-- 139802881480400 -->\n<g class=\"node\" id=\"node8\">\n<title>139802881480400</title>\n<polygon fill=\"none\" points=\"813.5,-415.5 813.5,-461.5 1209.5,-461.5 1209.5,-415.5 813.5,-415.5\" stroke=\"#000000\"/>\n<text fill=\"#000000\" font-family=\"Times,serif\" font-size=\"14.00\" text-anchor=\"middle\" x=\"924\" y=\"-434.8\">max_pooling1d_2: MaxPooling1D</text>\n<polyline fill=\"none\" points=\"1034.5,-415.5 1034.5,-461.5 \" stroke=\"#000000\"/>\n<text fill=\"#000000\" font-family=\"Times,serif\" font-size=\"14.00\" text-anchor=\"middle\" x=\"1063.5\" y=\"-446.3\">input:</text>\n<polyline fill=\"none\" points=\"1034.5,-438.5 1092.5,-438.5 \" stroke=\"#000000\"/>\n<text fill=\"#000000\" font-family=\"Times,serif\" font-size=\"14.00\" text-anchor=\"middle\" x=\"1063.5\" y=\"-423.3\">output:</text>\n<polyline fill=\"none\" points=\"1092.5,-415.5 1092.5,-461.5 \" stroke=\"#000000\"/>\n<text fill=\"#000000\" font-family=\"Times,serif\" font-size=\"14.00\" text-anchor=\"middle\" x=\"1151\" y=\"-446.3\">(None, 137, 128)</text>\n<polyline fill=\"none\" points=\"1092.5,-438.5 1209.5,-438.5 \" stroke=\"#000000\"/>\n<text fill=\"#000000\" font-family=\"Times,serif\" font-size=\"14.00\" text-anchor=\"middle\" x=\"1151\" y=\"-423.3\">(None, 1, 128)</text>\n</g>\n<!-- 139802881445712&#45;&gt;139802881480400 -->\n<g class=\"edge\" id=\"edge7\">\n<title>139802881445712-&gt;139802881480400</title>\n<path d=\"M979.7565,-498.3799C984.2954,-489.8178 989.5277,-479.9477 994.4183,-470.7222\" fill=\"none\" stroke=\"#000000\"/>\n<polygon fill=\"#000000\" points=\"997.5652,-472.2586 999.1567,-461.784 991.3805,-468.98 997.5652,-472.2586\" stroke=\"#000000\"/>\n</g>\n<!-- 139802881897616 -->\n<g class=\"node\" id=\"node9\">\n<title>139802881897616</title>\n<polygon fill=\"none\" points=\"123.5,-332.5 123.5,-378.5 381.5,-378.5 381.5,-332.5 123.5,-332.5\" stroke=\"#000000\"/>\n<text fill=\"#000000\" font-family=\"Times,serif\" font-size=\"14.00\" text-anchor=\"middle\" x=\"172.5\" y=\"-351.8\">flatten: Flatten</text>\n<polyline fill=\"none\" points=\"221.5,-332.5 221.5,-378.5 \" stroke=\"#000000\"/>\n<text fill=\"#000000\" font-family=\"Times,serif\" font-size=\"14.00\" text-anchor=\"middle\" x=\"250.5\" y=\"-363.3\">input:</text>\n<polyline fill=\"none\" points=\"221.5,-355.5 279.5,-355.5 \" stroke=\"#000000\"/>\n<text fill=\"#000000\" font-family=\"Times,serif\" font-size=\"14.00\" text-anchor=\"middle\" x=\"250.5\" y=\"-340.3\">output:</text>\n<polyline fill=\"none\" points=\"279.5,-332.5 279.5,-378.5 \" stroke=\"#000000\"/>\n<text fill=\"#000000\" font-family=\"Times,serif\" font-size=\"14.00\" text-anchor=\"middle\" x=\"330.5\" y=\"-363.3\">(None, 1, 128)</text>\n<polyline fill=\"none\" points=\"279.5,-355.5 381.5,-355.5 \" stroke=\"#000000\"/>\n<text fill=\"#000000\" font-family=\"Times,serif\" font-size=\"14.00\" text-anchor=\"middle\" x=\"330.5\" y=\"-340.3\">(None, 128)</text>\n</g>\n<!-- 139802881949072&#45;&gt;139802881897616 -->\n<g class=\"edge\" id=\"edge8\">\n<title>139802881949072-&gt;139802881897616</title>\n<path d=\"M207.7705,-415.3799C214.3661,-406.5502 222.0009,-396.3295 229.075,-386.8593\" fill=\"none\" stroke=\"#000000\"/>\n<polygon fill=\"#000000\" points=\"231.9266,-388.8902 235.1071,-378.784 226.3185,-384.701 231.9266,-388.8902\" stroke=\"#000000\"/>\n</g>\n<!-- 139802881912144 -->\n<g class=\"node\" id=\"node10\">\n<title>139802881912144</title>\n<polygon fill=\"none\" points=\"461,-332.5 461,-378.5 734,-378.5 734,-332.5 461,-332.5\" stroke=\"#000000\"/>\n<text fill=\"#000000\" font-family=\"Times,serif\" font-size=\"14.00\" text-anchor=\"middle\" x=\"517.5\" y=\"-351.8\">flatten_1: Flatten</text>\n<polyline fill=\"none\" points=\"574,-332.5 574,-378.5 \" stroke=\"#000000\"/>\n<text fill=\"#000000\" font-family=\"Times,serif\" font-size=\"14.00\" text-anchor=\"middle\" x=\"603\" y=\"-363.3\">input:</text>\n<polyline fill=\"none\" points=\"574,-355.5 632,-355.5 \" stroke=\"#000000\"/>\n<text fill=\"#000000\" font-family=\"Times,serif\" font-size=\"14.00\" text-anchor=\"middle\" x=\"603\" y=\"-340.3\">output:</text>\n<polyline fill=\"none\" points=\"632,-332.5 632,-378.5 \" stroke=\"#000000\"/>\n<text fill=\"#000000\" font-family=\"Times,serif\" font-size=\"14.00\" text-anchor=\"middle\" x=\"683\" y=\"-363.3\">(None, 1, 128)</text>\n<polyline fill=\"none\" points=\"632,-355.5 734,-355.5 \" stroke=\"#000000\"/>\n<text fill=\"#000000\" font-family=\"Times,serif\" font-size=\"14.00\" text-anchor=\"middle\" x=\"683\" y=\"-340.3\">(None, 128)</text>\n</g>\n<!-- 139802881418704&#45;&gt;139802881912144 -->\n<g class=\"edge\" id=\"edge9\">\n<title>139802881418704-&gt;139802881912144</title>\n<path d=\"M597.5,-415.3799C597.5,-407.1745 597.5,-397.7679 597.5,-388.8786\" fill=\"none\" stroke=\"#000000\"/>\n<polygon fill=\"#000000\" points=\"601.0001,-388.784 597.5,-378.784 594.0001,-388.784 601.0001,-388.784\" stroke=\"#000000\"/>\n</g>\n<!-- 139802881522320 -->\n<g class=\"node\" id=\"node11\">\n<title>139802881522320</title>\n<polygon fill=\"none\" points=\"813,-332.5 813,-378.5 1086,-378.5 1086,-332.5 813,-332.5\" stroke=\"#000000\"/>\n<text fill=\"#000000\" font-family=\"Times,serif\" font-size=\"14.00\" text-anchor=\"middle\" x=\"869.5\" y=\"-351.8\">flatten_2: Flatten</text>\n<polyline fill=\"none\" points=\"926,-332.5 926,-378.5 \" stroke=\"#000000\"/>\n<text fill=\"#000000\" font-family=\"Times,serif\" font-size=\"14.00\" text-anchor=\"middle\" x=\"955\" y=\"-363.3\">input:</text>\n<polyline fill=\"none\" points=\"926,-355.5 984,-355.5 \" stroke=\"#000000\"/>\n<text fill=\"#000000\" font-family=\"Times,serif\" font-size=\"14.00\" text-anchor=\"middle\" x=\"955\" y=\"-340.3\">output:</text>\n<polyline fill=\"none\" points=\"984,-332.5 984,-378.5 \" stroke=\"#000000\"/>\n<text fill=\"#000000\" font-family=\"Times,serif\" font-size=\"14.00\" text-anchor=\"middle\" x=\"1035\" y=\"-363.3\">(None, 1, 128)</text>\n<polyline fill=\"none\" points=\"984,-355.5 1086,-355.5 \" stroke=\"#000000\"/>\n<text fill=\"#000000\" font-family=\"Times,serif\" font-size=\"14.00\" text-anchor=\"middle\" x=\"1035\" y=\"-340.3\">(None, 128)</text>\n</g>\n<!-- 139802881480400&#45;&gt;139802881522320 -->\n<g class=\"edge\" id=\"edge10\">\n<title>139802881480400-&gt;139802881522320</title>\n<path d=\"M994.2295,-415.3799C987.6339,-406.5502 979.9991,-396.3295 972.925,-386.8593\" fill=\"none\" stroke=\"#000000\"/>\n<polygon fill=\"#000000\" points=\"975.6815,-384.701 966.8929,-378.784 970.0734,-388.8902 975.6815,-384.701\" stroke=\"#000000\"/>\n</g>\n<!-- 139802882657872 -->\n<g class=\"node\" id=\"node12\">\n<title>139802882657872</title>\n<polygon fill=\"none\" points=\"362.5,-249.5 362.5,-295.5 832.5,-295.5 832.5,-249.5 362.5,-249.5\" stroke=\"#000000\"/>\n<text fill=\"#000000\" font-family=\"Times,serif\" font-size=\"14.00\" text-anchor=\"middle\" x=\"442.5\" y=\"-268.8\">concatenate: Concatenate</text>\n<polyline fill=\"none\" points=\"522.5,-249.5 522.5,-295.5 \" stroke=\"#000000\"/>\n<text fill=\"#000000\" font-family=\"Times,serif\" font-size=\"14.00\" text-anchor=\"middle\" x=\"551.5\" y=\"-280.3\">input:</text>\n<polyline fill=\"none\" points=\"522.5,-272.5 580.5,-272.5 \" stroke=\"#000000\"/>\n<text fill=\"#000000\" font-family=\"Times,serif\" font-size=\"14.00\" text-anchor=\"middle\" x=\"551.5\" y=\"-257.3\">output:</text>\n<polyline fill=\"none\" points=\"580.5,-249.5 580.5,-295.5 \" stroke=\"#000000\"/>\n<text fill=\"#000000\" font-family=\"Times,serif\" font-size=\"14.00\" text-anchor=\"middle\" x=\"706.5\" y=\"-280.3\">[(None, 128), (None, 128), (None, 128)]</text>\n<polyline fill=\"none\" points=\"580.5,-272.5 832.5,-272.5 \" stroke=\"#000000\"/>\n<text fill=\"#000000\" font-family=\"Times,serif\" font-size=\"14.00\" text-anchor=\"middle\" x=\"706.5\" y=\"-257.3\">(None, 384)</text>\n</g>\n<!-- 139802881897616&#45;&gt;139802882657872 -->\n<g class=\"edge\" id=\"edge11\">\n<title>139802881897616-&gt;139802882657872</title>\n<path d=\"M348.1436,-332.4901C392.7317,-321.7631 445.9314,-308.9643 491.7177,-297.9491\" fill=\"none\" stroke=\"#000000\"/>\n<polygon fill=\"#000000\" points=\"492.7665,-301.2967 501.6704,-295.5547 491.1291,-294.4909 492.7665,-301.2967\" stroke=\"#000000\"/>\n</g>\n<!-- 139802881912144&#45;&gt;139802882657872 -->\n<g class=\"edge\" id=\"edge12\">\n<title>139802881912144-&gt;139802882657872</title>\n<path d=\"M597.5,-332.3799C597.5,-324.1745 597.5,-314.7679 597.5,-305.8786\" fill=\"none\" stroke=\"#000000\"/>\n<polygon fill=\"#000000\" points=\"601.0001,-305.784 597.5,-295.784 594.0001,-305.784 601.0001,-305.784\" stroke=\"#000000\"/>\n</g>\n<!-- 139802881522320&#45;&gt;139802882657872 -->\n<g class=\"edge\" id=\"edge13\">\n<title>139802881522320-&gt;139802882657872</title>\n<path d=\"M851.9158,-332.4901C806.3276,-321.7406 751.9163,-308.9107 705.1349,-297.8798\" fill=\"none\" stroke=\"#000000\"/>\n<polygon fill=\"#000000\" points=\"705.8104,-294.4432 695.274,-295.5547 704.2038,-301.2563 705.8104,-294.4432\" stroke=\"#000000\"/>\n</g>\n<!-- 139802882657104 -->\n<g class=\"node\" id=\"node13\">\n<title>139802882657104</title>\n<polygon fill=\"none\" points=\"479,-166.5 479,-212.5 716,-212.5 716,-166.5 479,-166.5\" stroke=\"#000000\"/>\n<text fill=\"#000000\" font-family=\"Times,serif\" font-size=\"14.00\" text-anchor=\"middle\" x=\"525\" y=\"-185.8\">dense: Dense</text>\n<polyline fill=\"none\" points=\"571,-166.5 571,-212.5 \" stroke=\"#000000\"/>\n<text fill=\"#000000\" font-family=\"Times,serif\" font-size=\"14.00\" text-anchor=\"middle\" x=\"600\" y=\"-197.3\">input:</text>\n<polyline fill=\"none\" points=\"571,-189.5 629,-189.5 \" stroke=\"#000000\"/>\n<text fill=\"#000000\" font-family=\"Times,serif\" font-size=\"14.00\" text-anchor=\"middle\" x=\"600\" y=\"-174.3\">output:</text>\n<polyline fill=\"none\" points=\"629,-166.5 629,-212.5 \" stroke=\"#000000\"/>\n<text fill=\"#000000\" font-family=\"Times,serif\" font-size=\"14.00\" text-anchor=\"middle\" x=\"672.5\" y=\"-197.3\">(None, 384)</text>\n<polyline fill=\"none\" points=\"629,-189.5 716,-189.5 \" stroke=\"#000000\"/>\n<text fill=\"#000000\" font-family=\"Times,serif\" font-size=\"14.00\" text-anchor=\"middle\" x=\"672.5\" y=\"-174.3\">(None, 128)</text>\n</g>\n<!-- 139802882657872&#45;&gt;139802882657104 -->\n<g class=\"edge\" id=\"edge14\">\n<title>139802882657872-&gt;139802882657104</title>\n<path d=\"M597.5,-249.3799C597.5,-241.1745 597.5,-231.7679 597.5,-222.8786\" fill=\"none\" stroke=\"#000000\"/>\n<polygon fill=\"#000000\" points=\"601.0001,-222.784 597.5,-212.784 594.0001,-222.784 601.0001,-222.784\" stroke=\"#000000\"/>\n</g>\n<!-- 139802881438736 -->\n<g class=\"node\" id=\"node14\">\n<title>139802881438736</title>\n<polygon fill=\"none\" points=\"471.5,-83.5 471.5,-129.5 723.5,-129.5 723.5,-83.5 471.5,-83.5\" stroke=\"#000000\"/>\n<text fill=\"#000000\" font-family=\"Times,serif\" font-size=\"14.00\" text-anchor=\"middle\" x=\"525\" y=\"-102.8\">dense_1: Dense</text>\n<polyline fill=\"none\" points=\"578.5,-83.5 578.5,-129.5 \" stroke=\"#000000\"/>\n<text fill=\"#000000\" font-family=\"Times,serif\" font-size=\"14.00\" text-anchor=\"middle\" x=\"607.5\" y=\"-114.3\">input:</text>\n<polyline fill=\"none\" points=\"578.5,-106.5 636.5,-106.5 \" stroke=\"#000000\"/>\n<text fill=\"#000000\" font-family=\"Times,serif\" font-size=\"14.00\" text-anchor=\"middle\" x=\"607.5\" y=\"-91.3\">output:</text>\n<polyline fill=\"none\" points=\"636.5,-83.5 636.5,-129.5 \" stroke=\"#000000\"/>\n<text fill=\"#000000\" font-family=\"Times,serif\" font-size=\"14.00\" text-anchor=\"middle\" x=\"680\" y=\"-114.3\">(None, 128)</text>\n<polyline fill=\"none\" points=\"636.5,-106.5 723.5,-106.5 \" stroke=\"#000000\"/>\n<text fill=\"#000000\" font-family=\"Times,serif\" font-size=\"14.00\" text-anchor=\"middle\" x=\"680\" y=\"-91.3\">(None, 128)</text>\n</g>\n<!-- 139802882657104&#45;&gt;139802881438736 -->\n<g class=\"edge\" id=\"edge15\">\n<title>139802882657104-&gt;139802881438736</title>\n<path d=\"M597.5,-166.3799C597.5,-158.1745 597.5,-148.7679 597.5,-139.8786\" fill=\"none\" stroke=\"#000000\"/>\n<polygon fill=\"#000000\" points=\"601.0001,-139.784 597.5,-129.784 594.0001,-139.784 601.0001,-139.784\" stroke=\"#000000\"/>\n</g>\n<!-- 139802881584464 -->\n<g class=\"node\" id=\"node15\">\n<title>139802881584464</title>\n<polygon fill=\"none\" points=\"471.5,-.5 471.5,-46.5 723.5,-46.5 723.5,-.5 471.5,-.5\" stroke=\"#000000\"/>\n<text fill=\"#000000\" font-family=\"Times,serif\" font-size=\"14.00\" text-anchor=\"middle\" x=\"525\" y=\"-19.8\">dense_2: Dense</text>\n<polyline fill=\"none\" points=\"578.5,-.5 578.5,-46.5 \" stroke=\"#000000\"/>\n<text fill=\"#000000\" font-family=\"Times,serif\" font-size=\"14.00\" text-anchor=\"middle\" x=\"607.5\" y=\"-31.3\">input:</text>\n<polyline fill=\"none\" points=\"578.5,-23.5 636.5,-23.5 \" stroke=\"#000000\"/>\n<text fill=\"#000000\" font-family=\"Times,serif\" font-size=\"14.00\" text-anchor=\"middle\" x=\"607.5\" y=\"-8.3\">output:</text>\n<polyline fill=\"none\" points=\"636.5,-.5 636.5,-46.5 \" stroke=\"#000000\"/>\n<text fill=\"#000000\" font-family=\"Times,serif\" font-size=\"14.00\" text-anchor=\"middle\" x=\"680\" y=\"-31.3\">(None, 128)</text>\n<polyline fill=\"none\" points=\"636.5,-23.5 723.5,-23.5 \" stroke=\"#000000\"/>\n<text fill=\"#000000\" font-family=\"Times,serif\" font-size=\"14.00\" text-anchor=\"middle\" x=\"680\" y=\"-8.3\">(None, 1)</text>\n</g>\n<!-- 139802881438736&#45;&gt;139802881584464 -->\n<g class=\"edge\" id=\"edge16\">\n<title>139802881438736-&gt;139802881584464</title>\n<path d=\"M597.5,-83.3799C597.5,-75.1745 597.5,-65.7679 597.5,-56.8786\" fill=\"none\" stroke=\"#000000\"/>\n<polygon fill=\"#000000\" points=\"601.0001,-56.784 597.5,-46.784 594.0001,-56.784 601.0001,-56.784\" stroke=\"#000000\"/>\n</g>\n</g>\n</svg>"
          },
          "metadata": {
            "tags": []
          },
          "execution_count": 15
        }
      ]
    },
    {
      "cell_type": "markdown",
      "metadata": {
        "id": "vQ4SabuZwA7E"
      },
      "source": [
        "* compiler le model"
      ]
    },
    {
      "cell_type": "code",
      "metadata": {
        "id": "qGO3pmPgb7sb"
      },
      "source": [
        "model.compile(optimizer='adam', loss='binary_crossentropy', metrics=['acc'])"
      ],
      "execution_count": 16,
      "outputs": []
    },
    {
      "cell_type": "markdown",
      "metadata": {
        "id": "E1Y8cIIqJDcn"
      },
      "source": [
        "* train le model"
      ]
    },
    {
      "cell_type": "code",
      "metadata": {
        "colab": {
          "base_uri": "https://localhost:8080/"
        },
        "id": "mvOS4Xc0pMPz",
        "outputId": "8161f4a9-1aec-462a-ef0b-386abbb143d1"
      },
      "source": [
        "history = model.fit(X_train, y_train, batch_size=64, epochs=3, verbose=1, validation_split=0.2)"
      ],
      "execution_count": 17,
      "outputs": [
        {
          "output_type": "stream",
          "text": [
            "Epoch 1/3\n",
            "46000/46000 [==============================] - 1271s 27ms/step - loss: 0.0012 - acc: 0.9995 - val_loss: 1.0966e-13 - val_acc: 1.0000\n",
            "Epoch 2/3\n",
            "46000/46000 [==============================] - 1200s 26ms/step - loss: 1.1752e-13 - acc: 1.0000 - val_loss: 1.0673e-13 - val_acc: 1.0000\n",
            "Epoch 3/3\n",
            "46000/46000 [==============================] - 1211s 26ms/step - loss: 3.2019e-14 - acc: 1.0000 - val_loss: 9.3315e-14 - val_acc: 1.0000\n"
          ],
          "name": "stdout"
        }
      ]
    },
    {
      "cell_type": "markdown",
      "metadata": {
        "id": "6siFb31HJHAc"
      },
      "source": [
        "* evaluer le model sur test set"
      ]
    },
    {
      "cell_type": "code",
      "metadata": {
        "id": "6oGV4ihXpOGn",
        "colab": {
          "base_uri": "https://localhost:8080/"
        },
        "outputId": "b451a639-c51c-411d-a362-7a41c71fbb56"
      },
      "source": [
        "score = model.evaluate(X_test, y_test, verbose=1)"
      ],
      "execution_count": 18,
      "outputs": [
        {
          "output_type": "stream",
          "text": [
            "28751/28751 [==============================] - 224s 8ms/step - loss: 0.0077 - acc: 0.9998\n"
          ],
          "name": "stdout"
        }
      ]
    },
    {
      "cell_type": "code",
      "metadata": {
        "id": "Ld4aQAnUpOxS",
        "colab": {
          "base_uri": "https://localhost:8080/"
        },
        "outputId": "2b777c70-5870-46f4-8ca3-9f7f635f1265"
      },
      "source": [
        "print(\"Test Score:\", score[0])\n",
        "print(\"Test Accuracy:\", score[1]) "
      ],
      "execution_count": 19,
      "outputs": [
        {
          "output_type": "stream",
          "text": [
            "Test Score: 0.007662410847842693\n",
            "Test Accuracy: 0.9997739195823669\n"
          ],
          "name": "stdout"
        }
      ]
    },
    {
      "cell_type": "markdown",
      "metadata": {
        "id": "yUeZmyDTwMiU"
      },
      "source": [
        "## **Comme vous pouvez voir nous avons atteindre une performance de 99,97% avec le CNN model** "
      ]
    },
    {
      "cell_type": "markdown",
      "metadata": {
        "id": "lCc2itVAJT0f"
      },
      "source": [
        "* Tracons la différence de loss et accuracy entre train set et test set"
      ]
    },
    {
      "cell_type": "code",
      "metadata": {
        "id": "91tcRM_zpR7Z",
        "colab": {
          "base_uri": "https://localhost:8080/",
          "height": 573
        },
        "outputId": "a72919e2-4792-4569-8a09-08e22e8c157b"
      },
      "source": [
        "import matplotlib.pyplot as plt\n",
        "\n",
        "plt.plot(history.history['acc'])\n",
        "plt.plot(history.history['val_acc'])\n",
        "\n",
        "plt.title('model accuracy')\n",
        "plt.ylabel('accuracy')\n",
        "plt.xlabel('epoch')\n",
        "plt.legend(['train','test'], loc = 'upper left')\n",
        "plt.show()\n",
        "\n",
        "plt.plot(history.history['loss'])\n",
        "plt.plot(history.history['val_loss'])\n",
        "\n",
        "plt.title('model loss')\n",
        "plt.ylabel('loss')\n",
        "plt.xlabel('epoch')\n",
        "plt.legend(['train','test'], loc = 'upper left')\n",
        "plt.show()"
      ],
      "execution_count": 20,
      "outputs": [
        {
          "output_type": "display_data",
          "data": {
            "image/png": "[encoded data removed]",
            "text/plain": [
              "<Figure size 432x288 with 1 Axes>"
            ]
          },
          "metadata": {
            "tags": [],
            "needs_background": "light"
          }
        },
        {
          "output_type": "display_data",
          "data": {
            "image/png": "[encoded data removed]",
            "text/plain": [
              "<Figure size 432x288 with 1 Axes>"
            ]
          },
          "metadata": {
            "tags": [],
            "needs_background": "light"
          }
        }
      ]
    },
    {
      "cell_type": "markdown",
      "metadata": {
        "id": "R7uPb03U3Ydj"
      },
      "source": [
        "# VI- LSTM"
      ]
    },
    {
      "cell_type": "markdown",
      "metadata": {
        "id": "gr4ePt51J_8B"
      },
      "source": [
        "* Constriure le model"
      ]
    },
    {
      "cell_type": "code",
      "metadata": {
        "id": "lvjdragJpVNz"
      },
      "source": [
        "model1 = Sequential()\n",
        "embedding_layer = Embedding(vocab_size, 100, weights=[embedding_matrix], input_length=maxlen , trainable=False)\n",
        "model1.add(embedding_layer)\n",
        "model1.add(LSTM(128))\n",
        "model1.add(Dense(64, activation='relu'))\n",
        "model1.add(Dense(64, activation='relu'))\n",
        "model1.add(Dense(1, activation='sigmoid'))\n",
        "model1.compile(optimizer='adam', loss='binary_crossentropy', metrics=['acc'])\n"
      ],
      "execution_count": 21,
      "outputs": []
    },
    {
      "cell_type": "code",
      "metadata": {
        "id": "ThUIsr4PXYcW",
        "colab": {
          "base_uri": "https://localhost:8080/",
          "height": 586
        },
        "outputId": "2d8f2b57-244d-4da5-e1c7-9ce15a43c0eb"
      },
      "source": [
        "SVG(model_to_dot(model1, show_shapes= True, show_layer_names=True, dpi=65).create(prog='dot', format='svg'))"
      ],
      "execution_count": 22,
      "outputs": [
        {
          "output_type": "execute_result",
          "data": {
            "text/plain": [
              "<IPython.core.display.SVG object>"
            ],
            "image/svg+xml": "<svg height=\"424pt\" viewBox=\"0.00 0.00 367.00 470.00\" width=\"331pt\" xmlns=\"http://www.w3.org/2000/svg\" xmlns:xlink=\"http://www.w3.org/1999/xlink\">\n<g class=\"graph\" id=\"graph0\" transform=\"scale(.9028 .9028) rotate(0) translate(4 466)\">\n<title>G</title>\n<polygon fill=\"#ffffff\" points=\"-4,4 -4,-466 363,-466 363,4 -4,4\" stroke=\"transparent\"/>\n<!-- 139802740887376 -->\n<g class=\"node\" id=\"node1\">\n<title>139802740887376</title>\n<polygon fill=\"none\" points=\"0,-415.5 0,-461.5 359,-461.5 359,-415.5 0,-415.5\" stroke=\"#000000\"/>\n<text fill=\"#000000\" font-family=\"Times,serif\" font-size=\"14.00\" text-anchor=\"middle\" x=\"102.5\" y=\"-434.8\">embedding_1_input: InputLayer</text>\n<polyline fill=\"none\" points=\"205,-415.5 205,-461.5 \" stroke=\"#000000\"/>\n<text fill=\"#000000\" font-family=\"Times,serif\" font-size=\"14.00\" text-anchor=\"middle\" x=\"234\" y=\"-446.3\">input:</text>\n<polyline fill=\"none\" points=\"205,-438.5 263,-438.5 \" stroke=\"#000000\"/>\n<text fill=\"#000000\" font-family=\"Times,serif\" font-size=\"14.00\" text-anchor=\"middle\" x=\"234\" y=\"-423.3\">output:</text>\n<polyline fill=\"none\" points=\"263,-415.5 263,-461.5 \" stroke=\"#000000\"/>\n<text fill=\"#000000\" font-family=\"Times,serif\" font-size=\"14.00\" text-anchor=\"middle\" x=\"311\" y=\"-446.3\">[(None, 140)]</text>\n<polyline fill=\"none\" points=\"263,-438.5 359,-438.5 \" stroke=\"#000000\"/>\n<text fill=\"#000000\" font-family=\"Times,serif\" font-size=\"14.00\" text-anchor=\"middle\" x=\"311\" y=\"-423.3\">[(None, 140)]</text>\n</g>\n<!-- 139802859854032 -->\n<g class=\"node\" id=\"node2\">\n<title>139802859854032</title>\n<polygon fill=\"none\" points=\"6.5,-332.5 6.5,-378.5 352.5,-378.5 352.5,-332.5 6.5,-332.5\" stroke=\"#000000\"/>\n<text fill=\"#000000\" font-family=\"Times,serif\" font-size=\"14.00\" text-anchor=\"middle\" x=\"92\" y=\"-351.8\">embedding_1: Embedding</text>\n<polyline fill=\"none\" points=\"177.5,-332.5 177.5,-378.5 \" stroke=\"#000000\"/>\n<text fill=\"#000000\" font-family=\"Times,serif\" font-size=\"14.00\" text-anchor=\"middle\" x=\"206.5\" y=\"-363.3\">input:</text>\n<polyline fill=\"none\" points=\"177.5,-355.5 235.5,-355.5 \" stroke=\"#000000\"/>\n<text fill=\"#000000\" font-family=\"Times,serif\" font-size=\"14.00\" text-anchor=\"middle\" x=\"206.5\" y=\"-340.3\">output:</text>\n<polyline fill=\"none\" points=\"235.5,-332.5 235.5,-378.5 \" stroke=\"#000000\"/>\n<text fill=\"#000000\" font-family=\"Times,serif\" font-size=\"14.00\" text-anchor=\"middle\" x=\"294\" y=\"-363.3\">(None, 140)</text>\n<polyline fill=\"none\" points=\"235.5,-355.5 352.5,-355.5 \" stroke=\"#000000\"/>\n<text fill=\"#000000\" font-family=\"Times,serif\" font-size=\"14.00\" text-anchor=\"middle\" x=\"294\" y=\"-340.3\">(None, 140, 100)</text>\n</g>\n<!-- 139802740887376&#45;&gt;139802859854032 -->\n<g class=\"edge\" id=\"edge1\">\n<title>139802740887376-&gt;139802859854032</title>\n<path d=\"M179.5,-415.3799C179.5,-407.1745 179.5,-397.7679 179.5,-388.8786\" fill=\"none\" stroke=\"#000000\"/>\n<polygon fill=\"#000000\" points=\"183.0001,-388.784 179.5,-378.784 176.0001,-388.784 183.0001,-388.784\" stroke=\"#000000\"/>\n</g>\n<!-- 139802859854224 -->\n<g class=\"node\" id=\"node3\">\n<title>139802859854224</title>\n<polygon fill=\"none\" points=\"48.5,-249.5 48.5,-295.5 310.5,-295.5 310.5,-249.5 48.5,-249.5\" stroke=\"#000000\"/>\n<text fill=\"#000000\" font-family=\"Times,serif\" font-size=\"14.00\" text-anchor=\"middle\" x=\"92\" y=\"-268.8\">lstm: LSTM</text>\n<polyline fill=\"none\" points=\"135.5,-249.5 135.5,-295.5 \" stroke=\"#000000\"/>\n<text fill=\"#000000\" font-family=\"Times,serif\" font-size=\"14.00\" text-anchor=\"middle\" x=\"164.5\" y=\"-280.3\">input:</text>\n<polyline fill=\"none\" points=\"135.5,-272.5 193.5,-272.5 \" stroke=\"#000000\"/>\n<text fill=\"#000000\" font-family=\"Times,serif\" font-size=\"14.00\" text-anchor=\"middle\" x=\"164.5\" y=\"-257.3\">output:</text>\n<polyline fill=\"none\" points=\"193.5,-249.5 193.5,-295.5 \" stroke=\"#000000\"/>\n<text fill=\"#000000\" font-family=\"Times,serif\" font-size=\"14.00\" text-anchor=\"middle\" x=\"252\" y=\"-280.3\">(None, 140, 100)</text>\n<polyline fill=\"none\" points=\"193.5,-272.5 310.5,-272.5 \" stroke=\"#000000\"/>\n<text fill=\"#000000\" font-family=\"Times,serif\" font-size=\"14.00\" text-anchor=\"middle\" x=\"252\" y=\"-257.3\">(None, 128)</text>\n</g>\n<!-- 139802859854032&#45;&gt;139802859854224 -->\n<g class=\"edge\" id=\"edge2\">\n<title>139802859854032-&gt;139802859854224</title>\n<path d=\"M179.5,-332.3799C179.5,-324.1745 179.5,-314.7679 179.5,-305.8786\" fill=\"none\" stroke=\"#000000\"/>\n<polygon fill=\"#000000\" points=\"183.0001,-305.784 179.5,-295.784 176.0001,-305.784 183.0001,-305.784\" stroke=\"#000000\"/>\n</g>\n<!-- 139802740793424 -->\n<g class=\"node\" id=\"node4\">\n<title>139802740793424</title>\n<polygon fill=\"none\" points=\"53.5,-166.5 53.5,-212.5 305.5,-212.5 305.5,-166.5 53.5,-166.5\" stroke=\"#000000\"/>\n<text fill=\"#000000\" font-family=\"Times,serif\" font-size=\"14.00\" text-anchor=\"middle\" x=\"107\" y=\"-185.8\">dense_3: Dense</text>\n<polyline fill=\"none\" points=\"160.5,-166.5 160.5,-212.5 \" stroke=\"#000000\"/>\n<text fill=\"#000000\" font-family=\"Times,serif\" font-size=\"14.00\" text-anchor=\"middle\" x=\"189.5\" y=\"-197.3\">input:</text>\n<polyline fill=\"none\" points=\"160.5,-189.5 218.5,-189.5 \" stroke=\"#000000\"/>\n<text fill=\"#000000\" font-family=\"Times,serif\" font-size=\"14.00\" text-anchor=\"middle\" x=\"189.5\" y=\"-174.3\">output:</text>\n<polyline fill=\"none\" points=\"218.5,-166.5 218.5,-212.5 \" stroke=\"#000000\"/>\n<text fill=\"#000000\" font-family=\"Times,serif\" font-size=\"14.00\" text-anchor=\"middle\" x=\"262\" y=\"-197.3\">(None, 128)</text>\n<polyline fill=\"none\" points=\"218.5,-189.5 305.5,-189.5 \" stroke=\"#000000\"/>\n<text fill=\"#000000\" font-family=\"Times,serif\" font-size=\"14.00\" text-anchor=\"middle\" x=\"262\" y=\"-174.3\">(None, 64)</text>\n</g>\n<!-- 139802859854224&#45;&gt;139802740793424 -->\n<g class=\"edge\" id=\"edge3\">\n<title>139802859854224-&gt;139802740793424</title>\n<path d=\"M179.5,-249.3799C179.5,-241.1745 179.5,-231.7679 179.5,-222.8786\" fill=\"none\" stroke=\"#000000\"/>\n<polygon fill=\"#000000\" points=\"183.0001,-222.784 179.5,-212.784 176.0001,-222.784 183.0001,-222.784\" stroke=\"#000000\"/>\n</g>\n<!-- 139802742250192 -->\n<g class=\"node\" id=\"node5\">\n<title>139802742250192</title>\n<polygon fill=\"none\" points=\"57,-83.5 57,-129.5 302,-129.5 302,-83.5 57,-83.5\" stroke=\"#000000\"/>\n<text fill=\"#000000\" font-family=\"Times,serif\" font-size=\"14.00\" text-anchor=\"middle\" x=\"110.5\" y=\"-102.8\">dense_4: Dense</text>\n<polyline fill=\"none\" points=\"164,-83.5 164,-129.5 \" stroke=\"#000000\"/>\n<text fill=\"#000000\" font-family=\"Times,serif\" font-size=\"14.00\" text-anchor=\"middle\" x=\"193\" y=\"-114.3\">input:</text>\n<polyline fill=\"none\" points=\"164,-106.5 222,-106.5 \" stroke=\"#000000\"/>\n<text fill=\"#000000\" font-family=\"Times,serif\" font-size=\"14.00\" text-anchor=\"middle\" x=\"193\" y=\"-91.3\">output:</text>\n<polyline fill=\"none\" points=\"222,-83.5 222,-129.5 \" stroke=\"#000000\"/>\n<text fill=\"#000000\" font-family=\"Times,serif\" font-size=\"14.00\" text-anchor=\"middle\" x=\"262\" y=\"-114.3\">(None, 64)</text>\n<polyline fill=\"none\" points=\"222,-106.5 302,-106.5 \" stroke=\"#000000\"/>\n<text fill=\"#000000\" font-family=\"Times,serif\" font-size=\"14.00\" text-anchor=\"middle\" x=\"262\" y=\"-91.3\">(None, 64)</text>\n</g>\n<!-- 139802740793424&#45;&gt;139802742250192 -->\n<g class=\"edge\" id=\"edge4\">\n<title>139802740793424-&gt;139802742250192</title>\n<path d=\"M179.5,-166.3799C179.5,-158.1745 179.5,-148.7679 179.5,-139.8786\" fill=\"none\" stroke=\"#000000\"/>\n<polygon fill=\"#000000\" points=\"183.0001,-139.784 179.5,-129.784 176.0001,-139.784 183.0001,-139.784\" stroke=\"#000000\"/>\n</g>\n<!-- 139802797285776 -->\n<g class=\"node\" id=\"node6\">\n<title>139802797285776</title>\n<polygon fill=\"none\" points=\"57,-.5 57,-46.5 302,-46.5 302,-.5 57,-.5\" stroke=\"#000000\"/>\n<text fill=\"#000000\" font-family=\"Times,serif\" font-size=\"14.00\" text-anchor=\"middle\" x=\"110.5\" y=\"-19.8\">dense_5: Dense</text>\n<polyline fill=\"none\" points=\"164,-.5 164,-46.5 \" stroke=\"#000000\"/>\n<text fill=\"#000000\" font-family=\"Times,serif\" font-size=\"14.00\" text-anchor=\"middle\" x=\"193\" y=\"-31.3\">input:</text>\n<polyline fill=\"none\" points=\"164,-23.5 222,-23.5 \" stroke=\"#000000\"/>\n<text fill=\"#000000\" font-family=\"Times,serif\" font-size=\"14.00\" text-anchor=\"middle\" x=\"193\" y=\"-8.3\">output:</text>\n<polyline fill=\"none\" points=\"222,-.5 222,-46.5 \" stroke=\"#000000\"/>\n<text fill=\"#000000\" font-family=\"Times,serif\" font-size=\"14.00\" text-anchor=\"middle\" x=\"262\" y=\"-31.3\">(None, 64)</text>\n<polyline fill=\"none\" points=\"222,-23.5 302,-23.5 \" stroke=\"#000000\"/>\n<text fill=\"#000000\" font-family=\"Times,serif\" font-size=\"14.00\" text-anchor=\"middle\" x=\"262\" y=\"-8.3\">(None, 1)</text>\n</g>\n<!-- 139802742250192&#45;&gt;139802797285776 -->\n<g class=\"edge\" id=\"edge5\">\n<title>139802742250192-&gt;139802797285776</title>\n<path d=\"M179.5,-83.3799C179.5,-75.1745 179.5,-65.7679 179.5,-56.8786\" fill=\"none\" stroke=\"#000000\"/>\n<polygon fill=\"#000000\" points=\"183.0001,-56.784 179.5,-46.784 176.0001,-56.784 183.0001,-56.784\" stroke=\"#000000\"/>\n</g>\n</g>\n</svg>"
          },
          "metadata": {
            "tags": []
          },
          "execution_count": 22
        }
      ]
    },
    {
      "cell_type": "markdown",
      "metadata": {
        "id": "a7pUJMetKF3r"
      },
      "source": [
        "* train model"
      ]
    },
    {
      "cell_type": "code",
      "metadata": {
        "id": "Nn8RDPUupc1x",
        "colab": {
          "base_uri": "https://localhost:8080/"
        },
        "outputId": "382b2942-a736-4447-fcbc-ce68b5d3d5fa"
      },
      "source": [
        "history = model1.fit(X_train, y_train, batch_size=64, epochs=3, verbose=1, validation_split=0.2)"
      ],
      "execution_count": 23,
      "outputs": [
        {
          "output_type": "stream",
          "text": [
            "Epoch 1/3\n",
            "46000/46000 [==============================] - 2091s 45ms/step - loss: 0.2356 - acc: 0.9340 - val_loss: 2.7549e-09 - val_acc: 1.0000\n",
            "Epoch 2/3\n",
            "46000/46000 [==============================] - 2084s 45ms/step - loss: 2.3337e-09 - acc: 1.0000 - val_loss: 2.2480e-09 - val_acc: 1.0000\n",
            "Epoch 3/3\n",
            "46000/46000 [==============================] - 2099s 46ms/step - loss: 2.2463e-09 - acc: 1.0000 - val_loss: 2.2522e-09 - val_acc: 1.0000\n"
          ],
          "name": "stdout"
        }
      ]
    },
    {
      "cell_type": "markdown",
      "metadata": {
        "id": "Yn49GBAXKJKn"
      },
      "source": [
        "* evaluate model"
      ]
    },
    {
      "cell_type": "code",
      "metadata": {
        "id": "0pS-cEJQpsMa",
        "colab": {
          "base_uri": "https://localhost:8080/"
        },
        "outputId": "141c1b72-3182-4b2e-82f6-02adb7f7c145"
      },
      "source": [
        "score = model1.evaluate(X_test, y_test, verbose=1)"
      ],
      "execution_count": 24,
      "outputs": [
        {
          "output_type": "stream",
          "text": [
            "28751/28751 [==============================] - 399s 14ms/step - loss: 0.2228 - acc: 0.9873\n"
          ],
          "name": "stdout"
        }
      ]
    },
    {
      "cell_type": "code",
      "metadata": {
        "id": "tVCgKEwHpwG8",
        "colab": {
          "base_uri": "https://localhost:8080/"
        },
        "outputId": "7b035d10-7636-41fa-a989-792c83875bb8"
      },
      "source": [
        "print(\"Test Score:\", score[0])\n",
        "print(\"Test Accuracy:\", score[1])"
      ],
      "execution_count": 25,
      "outputs": [
        {
          "output_type": "stream",
          "text": [
            "Test Score: 0.22284182906150818\n",
            "Test Accuracy: 0.9872706532478333\n"
          ],
          "name": "stdout"
        }
      ]
    },
    {
      "cell_type": "markdown",
      "metadata": {
        "id": "cpinqO6Jwxho"
      },
      "source": [
        "## **Comme vous pouvez voir nous avons atteindre une performance de 98,72% avec le LSTM model**"
      ]
    },
    {
      "cell_type": "markdown",
      "metadata": {
        "id": "nd8ziqCjKOeX"
      },
      "source": [
        "* Tracons la différence de loss et accuracy entre train set et test set"
      ]
    },
    {
      "cell_type": "code",
      "metadata": {
        "id": "lxYenPKmpxYq",
        "colab": {
          "base_uri": "https://localhost:8080/",
          "height": 573
        },
        "outputId": "596bca1b-72e7-4441-8348-acb651cbca1b"
      },
      "source": [
        "import matplotlib.pyplot as plt\n",
        "\n",
        "plt.plot(history.history['acc'])\n",
        "plt.plot(history.history['val_acc'])\n",
        "\n",
        "plt.title('model accuracy')\n",
        "plt.ylabel('accuracy')\n",
        "plt.xlabel('epoch')\n",
        "plt.legend(['train','test'], loc='upper left')\n",
        "plt.show()\n",
        "\n",
        "plt.plot(history.history['loss'])\n",
        "plt.plot(history.history['val_loss'])\n",
        "\n",
        "plt.title('model loss')\n",
        "plt.ylabel('loss')\n",
        "plt.xlabel('epoch')\n",
        "plt.legend(['train','test'], loc='upper left')\n",
        "plt.show()"
      ],
      "execution_count": 26,
      "outputs": [
        {
          "output_type": "display_data",
          "data": {
            "image/png": "[encoded data removed]",
            "text/plain": [
              "<Figure size 432x288 with 1 Axes>"
            ]
          },
          "metadata": {
            "tags": [],
            "needs_background": "light"
          }
        },
        {
          "output_type": "display_data",
          "data": {
            "image/png": "[encoded data removed]",
            "text/plain": [
              "<Figure size 432x288 with 1 Axes>"
            ]
          },
          "metadata": {
            "tags": [],
            "needs_background": "light"
          }
        }
      ]
    }
  ]
}