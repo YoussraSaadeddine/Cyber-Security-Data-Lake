{
  "nbformat": 4,
  "nbformat_minor": 0,
  "metadata": {
    "accelerator": "GPU",
    "colab": {
      "name": "Glove+TH 4M CNN.ipynb",
      "provenance": [],
      "collapsed_sections": []
    },
    "kernelspec": {
      "display_name": "Python 3",
      "name": "python3"
    },
    "language_info": {
      "name": "python"
    }
  },
  "cells": [
    {
      "cell_type": "markdown",
      "metadata": {
        "id": "3UzO-0b5_tA3"
      },
      "source": [
        "# I- Introduction:\n",
        "Aprés avoir testé the state of the art model (Bert) nous alllons essayer dans ce projet d'utiliser deux types différents de deep neural network: Convolutional Neural Network (CNN) et Long Short Term Memory Network (LSTM), qui est une variante des Recurrent Neural Networks pour affiner rapidement et efficacement un modèle de classification des logs de Blue Gene/L supercompute, où notre objectif sera de détecter les anomalies dans des futurs logs.\n",
        "\n",
        "* **Dataset** - nous allons utiliser une DT open Source des logs de Thunderbird supercomputer,il est sous forme d'un Filelog donc on avait besoin d'utiliser excel(On peut utiliser Python mais excel reste simple) pour insérer les logs dans des dataframes.\n",
        "\n",
        "* **Objectif** - developper une solution qui permet de detecter les anomalies dans les logs.\n",
        "\n",
        "* **Methodologie** - nous allons considerer comme nous avons un probleme de text classification et construire un deep learning model pour attiendre l'objectif."
      ]
    },
    {
      "cell_type": "markdown",
      "metadata": {
        "id": "J2xQARwf_s1f"
      },
      "source": [
        "# II- Different Models:\n",
        "\n",
        "Il existe plusieurs types de modèles qui pourraient être utilisés pour créer la solution de la classification de texte parmi ces solutions on trouve:\n",
        "\n",
        "\n",
        "*   **1D- Conv Net** : \n",
        "les CNN peuvent être utilisés pour la classification des textes. ils sont plus rapides à s'entraîner.\n",
        "\n",
        "*   **Modèles basés sur RNN (LSTM, GRU)** :  ils peuvent capturer la nature séquentielle d'un texte. Mais ils sont plus lent à s'entraîner.\n",
        "\n",
        "* **Modèles basés sur des transformers (BERT, GPT2)** -\n",
        "Les modèles basés sur des transformers exploite plusieurs unités Transformer et un mécanisme d'attention à multihead.\n",
        "\n",
        "####Dans ce projet nous allons focaliser sur un model basé sur RNN(LSTM) et un autre basé sur les CNN.\n"
      ]
    },
    {
      "cell_type": "markdown",
      "metadata": {
        "id": "nWOg1foq_ssc"
      },
      "source": [
        "# III- Data Preprocessing"
      ]
    },
    {
      "cell_type": "markdown",
      "metadata": {
        "id": "CPM6Y9-x_sjc"
      },
      "source": [
        "### 1. Importing libraries and modules"
      ]
    },
    {
      "cell_type": "code",
      "metadata": {
        "id": "NYyobhk2enYZ"
      },
      "source": [
        "import pandas as pd\n",
        "import numpy as np\n",
        "import matplotlib.pyplot as plt\n",
        "import seaborn as sns\n",
        "import re\n",
        "from numpy import array\n",
        "import keras \n",
        "from keras.preprocessing.sequence import pad_sequences\n",
        "from keras.models import Sequential\n",
        "from keras.layers.core import Activation, Dropout, Dense\n",
        "from keras.layers import Flatten\n",
        "from keras.layers import GlobalMaxPooling1D\n",
        "from keras.layers.embeddings import Embedding\n",
        "from keras.preprocessing.text import Tokenizer\n",
        "from sklearn.utils import shuffle\n",
        "from google.colab import drive\n",
        "from sklearn.model_selection import train_test_split\n",
        "from keras.models import Sequential\n",
        "from keras.layers import Dense\n",
        "from keras.layers import Input, Dense, Dropout, Embedding, LSTM, Flatten\n",
        "from keras.models import Model\n",
        "from sklearn.metrics import accuracy_score"
      ],
      "execution_count": 1,
      "outputs": []
    },
    {
      "cell_type": "markdown",
      "metadata": {
        "id": "FQRMWg6qlJsg"
      },
      "source": [
        "###2. Loading Data"
      ]
    },
    {
      "cell_type": "markdown",
      "metadata": {
        "id": "bK_C6jL3Swj9"
      },
      "source": [
        "####**Importing files from Google Drive in Colab**\n",
        "notre dataset est stockée dans Google Drive donc nous avons besoin de \n",
        "lier notre compte Google Drive avec notre notebook.\n",
        "1. La première étape consiste à monter notre Google Drive en exécutant le code en dessous.\n",
        "2.  nous obtenons le code d'autorisation en nous connectant à notre compte Google.\n",
        "3.   nous collons le code d'autorisation et nous appuyons sur Entrée."
      ]
    },
    {
      "cell_type": "code",
      "metadata": {
        "colab": {
          "base_uri": "https://localhost:8080/"
        },
        "id": "ny55UZG3ggjK",
        "outputId": "cfe490ac-30e4-479c-fd35-22508983a316"
      },
      "source": [
        "drive.mount('/gdrive')\n",
        "%cd /gdrive"
      ],
      "execution_count": 2,
      "outputs": [
        {
          "output_type": "stream",
          "text": [
            "Mounted at /gdrive\n",
            "/gdrive\n"
          ],
          "name": "stdout"
        }
      ]
    },
    {
      "cell_type": "code",
      "metadata": {
        "id": "OciB7qLAgvwY"
      },
      "source": [
        "df1 = pd.read_csv(r'/gdrive/My Drive/t1.csv')\n",
        "df2 = pd.read_csv(r'/gdrive/My Drive/t2.csv')\n",
        "df3 = pd.read_csv(r'/gdrive/My Drive/t3.csv')\n",
        "df4 = pd.read_csv(r'/gdrive/My Drive/t4.csv')\n",
        "df5 = pd.read_csv(r'/gdrive/My Drive/t5.csv')\n",
        "df6 = pd.read_csv(r'/gdrive/My Drive/t6.csv')"
      ],
      "execution_count": 3,
      "outputs": []
    },
    {
      "cell_type": "code",
      "metadata": {
        "id": "MAHSt-UvvgAJ"
      },
      "source": [
        "#concatinate\n",
        "df=pd.concat([df1,df2,df3,df4,df5,df6])"
      ],
      "execution_count": 4,
      "outputs": []
    },
    {
      "cell_type": "code",
      "metadata": {
        "id": "LcRqktkuzNG1"
      },
      "source": [
        "def clean_data(log):\n",
        "    log = re.sub(\"'\", \"\", log)\n",
        "    log = re.sub(\"-\", \"\", log)\n",
        "    log = re.sub(\"_\", \"\", log)\n",
        "    log = re.sub(\"(\\\\W)+\", \" \", log)\n",
        "    log = log.lower()\n",
        "    return log\n",
        "\n"
      ],
      "execution_count": 6,
      "outputs": []
    },
    {
      "cell_type": "code",
      "metadata": {
        "colab": {
          "base_uri": "https://localhost:8080/",
          "height": 52
        },
        "id": "jvFYBuzW1dkk",
        "outputId": "e2f880e5-320c-4a72-9995-cd5cbf10a311"
      },
      "source": [
        "clean_data(\"VAPI 1132063624 2005.11.15 dn30 Nov 15 06:07:04 dn30/dn30 kernel: [KERNEL_IB][tsIbTavorMadProcess][/mnt_projects/sysapps/src/ib/topspin/topspin-src-3.2.0-16/ib/tavor/provider/obj_host_amd64_custom1_rhel4/ts_ib_tavor/tavor_mad.c:152]InfiniHost0: EVAPI_process_local_mad failed, return code = -254 (Fatal error (Local Catastrophic Error))\")"
      ],
      "execution_count": 7,
      "outputs": [
        {
          "output_type": "execute_result",
          "data": {
            "application/vnd.google.colaboratory.intrinsic+json": {
              "type": "string"
            },
            "text/plain": [
              "'vapi 1132063624 2005 11 15 dn30 nov 15 06 07 04 dn30 dn30 kernel kernelib tsibtavormadprocess mntprojects sysapps src ib topspin topspinsrc3 2 016 ib tavor provider objhostamd64custom1rhel4 tsibtavor tavormad c 152 infinihost0 evapiprocesslocalmad failed return code 254 fatal error local catastrophic error '"
            ]
          },
          "metadata": {
            "tags": []
          },
          "execution_count": 7
        }
      ]
    },
    {
      "cell_type": "code",
      "metadata": {
        "id": "ia2U3mt0123z"
      },
      "source": [
        "df['log'] = df['log'].apply(clean_data)"
      ],
      "execution_count": 8,
      "outputs": []
    },
    {
      "cell_type": "code",
      "metadata": {
        "id": "UDyoOqlj397W"
      },
      "source": [
        "del df['Unnamed: 0']"
      ],
      "execution_count": 11,
      "outputs": []
    },
    {
      "cell_type": "code",
      "metadata": {
        "colab": {
          "base_uri": "https://localhost:8080/"
        },
        "id": "FkrzMx3TloWk",
        "outputId": "d3ea3abb-c3c4-4d90-c8f7-35029088e10e"
      },
      "source": [
        "df.shape"
      ],
      "execution_count": 12,
      "outputs": [
        {
          "output_type": "execute_result",
          "data": {
            "text/plain": [
              "(4370918, 2)"
            ]
          },
          "metadata": {
            "tags": []
          },
          "execution_count": 12
        }
      ]
    },
    {
      "cell_type": "code",
      "metadata": {
        "colab": {
          "base_uri": "https://localhost:8080/",
          "height": 359
        },
        "id": "F3zIXkK-ihJv",
        "outputId": "219d687e-7056-4eb6-f499-a9c479bd4630"
      },
      "source": [
        "df.sample(10)"
      ],
      "execution_count": 13,
      "outputs": [
        {
          "output_type": "execute_result",
          "data": {
            "text/html": [
              "<div>\n",
              "<style scoped>\n",
              "    .dataframe tbody tr th:only-of-type {\n",
              "        vertical-align: middle;\n",
              "    }\n",
              "\n",
              "    .dataframe tbody tr th {\n",
              "        vertical-align: top;\n",
              "    }\n",
              "\n",
              "    .dataframe thead th {\n",
              "        text-align: right;\n",
              "    }\n",
              "</style>\n",
              "<table border=\"1\" class=\"dataframe\">\n",
              "  <thead>\n",
              "    <tr style=\"text-align: right;\">\n",
              "      <th></th>\n",
              "      <th>log</th>\n",
              "      <th>label</th>\n",
              "    </tr>\n",
              "  </thead>\n",
              "  <tbody>\n",
              "    <tr>\n",
              "      <th>172620</th>\n",
              "      <td>1131778520 2005 11 11 dn939 nov 11 22 55 20 d...</td>\n",
              "      <td>0</td>\n",
              "    </tr>\n",
              "    <tr>\n",
              "      <th>276854</th>\n",
              "      <td>1131667905 2005 11 10 dn824 nov 10 16 11 45 d...</td>\n",
              "      <td>0</td>\n",
              "    </tr>\n",
              "    <tr>\n",
              "      <th>59151</th>\n",
              "      <td>1131757543 2005 11 11 cn554 nov 11 17 05 43 c...</td>\n",
              "      <td>0</td>\n",
              "    </tr>\n",
              "    <tr>\n",
              "      <th>633627</th>\n",
              "      <td>1131671971 2005 11 10 an20 nov 10 17 19 31 an...</td>\n",
              "      <td>0</td>\n",
              "    </tr>\n",
              "    <tr>\n",
              "      <th>372552</th>\n",
              "      <td>1131959775 2005 11 14 tbirdadmin1 nov 14 01 1...</td>\n",
              "      <td>0</td>\n",
              "    </tr>\n",
              "    <tr>\n",
              "      <th>862739</th>\n",
              "      <td>1131751166 2005 11 11 an138 nov 11 15 19 26 a...</td>\n",
              "      <td>0</td>\n",
              "    </tr>\n",
              "    <tr>\n",
              "      <th>311140</th>\n",
              "      <td>1131692329 2005 11 10 dn584 nov 10 22 58 49 d...</td>\n",
              "      <td>0</td>\n",
              "    </tr>\n",
              "    <tr>\n",
              "      <th>252188</th>\n",
              "      <td>1132024578 2005 11 14 bn139 nov 14 19 16 18 b...</td>\n",
              "      <td>0</td>\n",
              "    </tr>\n",
              "    <tr>\n",
              "      <th>156059</th>\n",
              "      <td>1131628904 2005 11 10 dn613 nov 10 05 21 44 d...</td>\n",
              "      <td>0</td>\n",
              "    </tr>\n",
              "    <tr>\n",
              "      <th>649059</th>\n",
              "      <td>1131671972 2005 11 10 dn533 nov 10 17 19 32 d...</td>\n",
              "      <td>0</td>\n",
              "    </tr>\n",
              "  </tbody>\n",
              "</table>\n",
              "</div>"
            ],
            "text/plain": [
              "                                                      log  label\n",
              "172620   1131778520 2005 11 11 dn939 nov 11 22 55 20 d...      0\n",
              "276854   1131667905 2005 11 10 dn824 nov 10 16 11 45 d...      0\n",
              "59151    1131757543 2005 11 11 cn554 nov 11 17 05 43 c...      0\n",
              "633627   1131671971 2005 11 10 an20 nov 10 17 19 31 an...      0\n",
              "372552   1131959775 2005 11 14 tbirdadmin1 nov 14 01 1...      0\n",
              "862739   1131751166 2005 11 11 an138 nov 11 15 19 26 a...      0\n",
              "311140   1131692329 2005 11 10 dn584 nov 10 22 58 49 d...      0\n",
              "252188   1132024578 2005 11 14 bn139 nov 14 19 16 18 b...      0\n",
              "156059   1131628904 2005 11 10 dn613 nov 10 05 21 44 d...      0\n",
              "649059   1131671972 2005 11 10 dn533 nov 10 17 19 32 d...      0"
            ]
          },
          "metadata": {
            "tags": []
          },
          "execution_count": 13
        }
      ]
    },
    {
      "cell_type": "markdown",
      "metadata": {
        "id": "685zpRDjC58h"
      },
      "source": [
        "* Vérifier les valeurs nulles"
      ]
    },
    {
      "cell_type": "code",
      "metadata": {
        "colab": {
          "base_uri": "https://localhost:8080/"
        },
        "id": "9-NmJdhmhK5W",
        "outputId": "3a32cab3-4975-4e1a-a4ce-83e675e22497"
      },
      "source": [
        "df.isnull().values.any()"
      ],
      "execution_count": 14,
      "outputs": [
        {
          "output_type": "execute_result",
          "data": {
            "text/plain": [
              "False"
            ]
          },
          "metadata": {
            "tags": []
          },
          "execution_count": 14
        }
      ]
    },
    {
      "cell_type": "markdown",
      "metadata": {
        "id": "t94COKNemxbH"
      },
      "source": [
        "* Split the dataset into train set 80% et test sets 20%)"
      ]
    },
    {
      "cell_type": "code",
      "metadata": {
        "id": "n5kwEITAiez8"
      },
      "source": [
        "X_train, X_test, y_train, y_test = train_test_split(df['log'],df['label'], test_size=0.2,random_state=42)"
      ],
      "execution_count": 15,
      "outputs": []
    },
    {
      "cell_type": "markdown",
      "metadata": {
        "id": "Fs6cPEVJDvFm"
      },
      "source": [
        "# IV- Preparing the Embedding Layer"
      ]
    },
    {
      "cell_type": "markdown",
      "metadata": {
        "id": "Y6erncuPFx81"
      },
      "source": [
        "nous utiliserons la classe Tokenizer du module keras.preprocessing.text pour créer un dictionnaire de word-to-index . Dans le dictionnaire, chaque mot est utilisé comme clé, tandis qu'un index unique correspondant est utilisé comme valeur pour la clé."
      ]
    },
    {
      "cell_type": "code",
      "metadata": {
        "id": "Nv_DaokYjRFi"
      },
      "source": [
        "tokenizer = Tokenizer()\n",
        "tokenizer.fit_on_texts(X_train)\n",
        "\n",
        "X_train = tokenizer.texts_to_sequences(X_train)\n",
        "X_test = tokenizer.texts_to_sequences(X_test)"
      ],
      "execution_count": 16,
      "outputs": []
    },
    {
      "cell_type": "markdown",
      "metadata": {
        "id": "TOo_yb2QGP2q"
      },
      "source": [
        "Nous fixons la taille maximale à 300. Les listes de taille supérieure à 300 seront tronquées à 300. Pour les listes dont la longueur est inférieure à 300, nous ajouterons 0 à la fin de la liste jusqu'à ce qu'elle atteigne la longueur maximale."
      ]
    },
    {
      "cell_type": "code",
      "metadata": {
        "id": "2v1cM7DkjvfI"
      },
      "source": [
        "vocab_size = len(tokenizer.word_index) + 1\n",
        "\n",
        "maxlen = 300\n",
        "\n",
        "X_train = pad_sequences(X_train, padding='post', maxlen=maxlen)\n",
        "X_test = pad_sequences(X_test, padding='post', maxlen=maxlen)"
      ],
      "execution_count": 17,
      "outputs": []
    },
    {
      "cell_type": "markdown",
      "metadata": {
        "id": "04wvSErOG3FK"
      },
      "source": [
        "Nous utiliserons GloVe embeddings pour créer feature matrix, j'ai essayé d'importer Glove sur mon drive\n",
        "* vous pouvez la trouver sur : https://drive.google.com/file/d/17PIgUPWrXOLFbUYqTAnl1cgWqnWHgX1B/view?usp=sharing"
      ]
    },
    {
      "cell_type": "code",
      "metadata": {
        "id": "wOS5ffsdkAiu"
      },
      "source": [
        "from numpy import array\n",
        "from numpy import asarray\n",
        "from numpy import zeros\n",
        "\n",
        "glove_path=r'/gdrive/My Drive/glove.6B.100d.txt'\n",
        "embeddings_dictionary = dict()\n",
        "glove_file = open(glove_path, encoding=\"utf8\")\n",
        "\n",
        "for line in glove_file:\n",
        "    records = line.split()\n",
        "    word = records[0]\n",
        "    vector_dimensions = asarray(records[1:], dtype='float32')\n",
        "    embeddings_dictionary [word] = vector_dimensions\n",
        "glove_file.close()"
      ],
      "execution_count": 18,
      "outputs": []
    },
    {
      "cell_type": "markdown",
      "metadata": {
        "id": "jxW3vnn6INGC"
      },
      "source": [
        "Enfin, nous allons créer une embedding matrix où chaque numéro de ligne correspondra à l'index du mot. La matrice aura 100 colonnes où chaque colonne contiendra les embeddings de mots GloVe."
      ]
    },
    {
      "cell_type": "code",
      "metadata": {
        "id": "eKSc-2jom30B"
      },
      "source": [
        "embedding_matrix = zeros((vocab_size,100))\n",
        "for word, index in tokenizer.word_index.items():\n",
        "    embedding_vector = embeddings_dictionary.get(word)\n",
        "    if embedding_vector is not None:\n",
        "        embedding_matrix[index] = embedding_vector"
      ],
      "execution_count": 19,
      "outputs": []
    },
    {
      "cell_type": "markdown",
      "metadata": {
        "id": "QQUyrighIdMd"
      },
      "source": [
        "# V- CNN model"
      ]
    },
    {
      "cell_type": "markdown",
      "metadata": {
        "id": "mHfkvOXQoHFD"
      },
      "source": [
        "* Construire le model"
      ]
    },
    {
      "cell_type": "code",
      "metadata": {
        "id": "vnPEv7_tapmK"
      },
      "source": [
        "from keras.layers import MaxPooling1D,Conv1D,GlobalMaxPooling1D\n",
        "from keras.models import Sequential, Model\n",
        "from keras.layers import Activation, Dense, Dropout, Flatten, Input, merge,Concatenate\n",
        "\n",
        "\n",
        "\n",
        "###Building the Model. \n",
        "input_tensor = Input(shape=(300,))\n",
        "# Créer un embedding layer(2D)\n",
        "input_layer= Embedding(vocab_size,100, weights=[embedding_matrix], input_length=maxlen , trainable=False)(input_tensor)\n",
        "#liste où on va stocker l'output\n",
        "uni_vec = []\n",
        "#nous allons utiliser 3 filtres avec des n-grams différents( 2-grams, 3-grams, 4-grams\n",
        "filter_sizes = (2,3,4)\n",
        "for ks in filter_sizes:\n",
        "    #applique 3 convolutions différents à l'embedding layer\n",
        "    conv_layer= Conv1D(128, kernel_size=ks, activation='relu')(input_layer)\n",
        "    maxpool_layer = MaxPooling1D(pool_size=maxlen-ks+1,strides=None, padding='valid')(conv_layer)\n",
        "    flat_layer= Flatten()(maxpool_layer)\n",
        "    uni_vec.append(flat_layer)\n",
        "\n",
        "# concatiner les outputs \n",
        "single_feature_vector = keras.layers.concatenate(uni_vec)\n",
        "#fully Connected Layers\n",
        "dense = Dense(128, activation='relu')(single_feature_vector)\n",
        "dense2 = Dense(128, activation='relu')(dense)\n",
        "out = Dense(1, activation='sigmoid')(dense2)\n",
        "model = Model(inputs=input_tensor, outputs=out)\n",
        "\n"
      ],
      "execution_count": 20,
      "outputs": []
    },
    {
      "cell_type": "code",
      "metadata": {
        "colab": {
          "base_uri": "https://localhost:8080/",
          "height": 906
        },
        "id": "gR9pjhXteuXp",
        "outputId": "9f457a4b-7ea6-41de-f3ac-97449c790eca"
      },
      "source": [
        "from IPython.display import SVG\n",
        "from keras.utils.vis_utils import model_to_dot\n",
        "\n",
        "SVG(model_to_dot(model, show_shapes= True, show_layer_names=True, dpi=65).create(prog='dot', format='svg'))"
      ],
      "execution_count": 21,
      "outputs": [
        {
          "output_type": "execute_result",
          "data": {
            "text/plain": [
              "<IPython.core.display.SVG object>"
            ],
            "image/svg+xml": "<svg height=\"649pt\" viewBox=\"0.00 0.00 1217.50 719.00\" width=\"1099pt\" xmlns=\"http://www.w3.org/2000/svg\" xmlns:xlink=\"http://www.w3.org/1999/xlink\">\n<g class=\"graph\" id=\"graph0\" transform=\"scale(.9028 .9028) rotate(0) translate(4 715)\">\n<title>G</title>\n<polygon fill=\"#ffffff\" points=\"-4,4 -4,-715 1213.5,-715 1213.5,4 -4,4\" stroke=\"transparent\"/>\n<!-- 139719736607696 -->\n<g class=\"node\" id=\"node1\">\n<title>139719736607696</title>\n<polygon fill=\"none\" points=\"454,-664.5 454,-710.5 741,-710.5 741,-664.5 454,-664.5\" stroke=\"#000000\"/>\n<text fill=\"#000000\" font-family=\"Times,serif\" font-size=\"14.00\" text-anchor=\"middle\" x=\"520.5\" y=\"-683.8\">input_1: InputLayer</text>\n<polyline fill=\"none\" points=\"587,-664.5 587,-710.5 \" stroke=\"#000000\"/>\n<text fill=\"#000000\" font-family=\"Times,serif\" font-size=\"14.00\" text-anchor=\"middle\" x=\"616\" y=\"-695.3\">input:</text>\n<polyline fill=\"none\" points=\"587,-687.5 645,-687.5 \" stroke=\"#000000\"/>\n<text fill=\"#000000\" font-family=\"Times,serif\" font-size=\"14.00\" text-anchor=\"middle\" x=\"616\" y=\"-672.3\">output:</text>\n<polyline fill=\"none\" points=\"645,-664.5 645,-710.5 \" stroke=\"#000000\"/>\n<text fill=\"#000000\" font-family=\"Times,serif\" font-size=\"14.00\" text-anchor=\"middle\" x=\"693\" y=\"-695.3\">[(None, 300)]</text>\n<polyline fill=\"none\" points=\"645,-687.5 741,-687.5 \" stroke=\"#000000\"/>\n<text fill=\"#000000\" font-family=\"Times,serif\" font-size=\"14.00\" text-anchor=\"middle\" x=\"693\" y=\"-672.3\">[(None, 300)]</text>\n</g>\n<!-- 139719736608592 -->\n<g class=\"node\" id=\"node2\">\n<title>139719736608592</title>\n<polygon fill=\"none\" points=\"432,-581.5 432,-627.5 763,-627.5 763,-581.5 432,-581.5\" stroke=\"#000000\"/>\n<text fill=\"#000000\" font-family=\"Times,serif\" font-size=\"14.00\" text-anchor=\"middle\" x=\"510\" y=\"-600.8\">embedding: Embedding</text>\n<polyline fill=\"none\" points=\"588,-581.5 588,-627.5 \" stroke=\"#000000\"/>\n<text fill=\"#000000\" font-family=\"Times,serif\" font-size=\"14.00\" text-anchor=\"middle\" x=\"617\" y=\"-612.3\">input:</text>\n<polyline fill=\"none\" points=\"588,-604.5 646,-604.5 \" stroke=\"#000000\"/>\n<text fill=\"#000000\" font-family=\"Times,serif\" font-size=\"14.00\" text-anchor=\"middle\" x=\"617\" y=\"-589.3\">output:</text>\n<polyline fill=\"none\" points=\"646,-581.5 646,-627.5 \" stroke=\"#000000\"/>\n<text fill=\"#000000\" font-family=\"Times,serif\" font-size=\"14.00\" text-anchor=\"middle\" x=\"704.5\" y=\"-612.3\">(None, 300)</text>\n<polyline fill=\"none\" points=\"646,-604.5 763,-604.5 \" stroke=\"#000000\"/>\n<text fill=\"#000000\" font-family=\"Times,serif\" font-size=\"14.00\" text-anchor=\"middle\" x=\"704.5\" y=\"-589.3\">(None, 300, 100)</text>\n</g>\n<!-- 139719736607696&#45;&gt;139719736608592 -->\n<g class=\"edge\" id=\"edge1\">\n<title>139719736607696-&gt;139719736608592</title>\n<path d=\"M597.5,-664.3799C597.5,-656.1745 597.5,-646.7679 597.5,-637.8786\" fill=\"none\" stroke=\"#000000\"/>\n<polygon fill=\"#000000\" points=\"601.0001,-637.784 597.5,-627.784 594.0001,-637.784 601.0001,-637.784\" stroke=\"#000000\"/>\n</g>\n<!-- 139719600968912 -->\n<g class=\"node\" id=\"node3\">\n<title>139719600968912</title>\n<polygon fill=\"none\" points=\"88,-498.5 88,-544.5 381,-544.5 381,-498.5 88,-498.5\" stroke=\"#000000\"/>\n<text fill=\"#000000\" font-family=\"Times,serif\" font-size=\"14.00\" text-anchor=\"middle\" x=\"147\" y=\"-517.8\">conv1d: Conv1D</text>\n<polyline fill=\"none\" points=\"206,-498.5 206,-544.5 \" stroke=\"#000000\"/>\n<text fill=\"#000000\" font-family=\"Times,serif\" font-size=\"14.00\" text-anchor=\"middle\" x=\"235\" y=\"-529.3\">input:</text>\n<polyline fill=\"none\" points=\"206,-521.5 264,-521.5 \" stroke=\"#000000\"/>\n<text fill=\"#000000\" font-family=\"Times,serif\" font-size=\"14.00\" text-anchor=\"middle\" x=\"235\" y=\"-506.3\">output:</text>\n<polyline fill=\"none\" points=\"264,-498.5 264,-544.5 \" stroke=\"#000000\"/>\n<text fill=\"#000000\" font-family=\"Times,serif\" font-size=\"14.00\" text-anchor=\"middle\" x=\"322.5\" y=\"-529.3\">(None, 300, 100)</text>\n<polyline fill=\"none\" points=\"264,-521.5 381,-521.5 \" stroke=\"#000000\"/>\n<text fill=\"#000000\" font-family=\"Times,serif\" font-size=\"14.00\" text-anchor=\"middle\" x=\"322.5\" y=\"-506.3\">(None, 299, 128)</text>\n</g>\n<!-- 139719736608592&#45;&gt;139719600968912 -->\n<g class=\"edge\" id=\"edge2\">\n<title>139719736608592-&gt;139719600968912</title>\n<path d=\"M496.8663,-581.4901C449.7551,-570.7181 393.5069,-557.857 345.1958,-546.8106\" fill=\"none\" stroke=\"#000000\"/>\n<polygon fill=\"#000000\" points=\"345.858,-543.3718 335.3294,-544.5547 344.2977,-550.1957 345.858,-543.3718\" stroke=\"#000000\"/>\n</g>\n<!-- 139719581179856 -->\n<g class=\"node\" id=\"node4\">\n<title>139719581179856</title>\n<polygon fill=\"none\" points=\"443.5,-498.5 443.5,-544.5 751.5,-544.5 751.5,-498.5 443.5,-498.5\" stroke=\"#000000\"/>\n<text fill=\"#000000\" font-family=\"Times,serif\" font-size=\"14.00\" text-anchor=\"middle\" x=\"510\" y=\"-517.8\">conv1d_1: Conv1D</text>\n<polyline fill=\"none\" points=\"576.5,-498.5 576.5,-544.5 \" stroke=\"#000000\"/>\n<text fill=\"#000000\" font-family=\"Times,serif\" font-size=\"14.00\" text-anchor=\"middle\" x=\"605.5\" y=\"-529.3\">input:</text>\n<polyline fill=\"none\" points=\"576.5,-521.5 634.5,-521.5 \" stroke=\"#000000\"/>\n<text fill=\"#000000\" font-family=\"Times,serif\" font-size=\"14.00\" text-anchor=\"middle\" x=\"605.5\" y=\"-506.3\">output:</text>\n<polyline fill=\"none\" points=\"634.5,-498.5 634.5,-544.5 \" stroke=\"#000000\"/>\n<text fill=\"#000000\" font-family=\"Times,serif\" font-size=\"14.00\" text-anchor=\"middle\" x=\"693\" y=\"-529.3\">(None, 300, 100)</text>\n<polyline fill=\"none\" points=\"634.5,-521.5 751.5,-521.5 \" stroke=\"#000000\"/>\n<text fill=\"#000000\" font-family=\"Times,serif\" font-size=\"14.00\" text-anchor=\"middle\" x=\"693\" y=\"-506.3\">(None, 298, 128)</text>\n</g>\n<!-- 139719736608592&#45;&gt;139719581179856 -->\n<g class=\"edge\" id=\"edge3\">\n<title>139719736608592-&gt;139719581179856</title>\n<path d=\"M597.5,-581.3799C597.5,-573.1745 597.5,-563.7679 597.5,-554.8786\" fill=\"none\" stroke=\"#000000\"/>\n<polygon fill=\"#000000\" points=\"601.0001,-554.784 597.5,-544.784 594.0001,-554.784 601.0001,-554.784\" stroke=\"#000000\"/>\n</g>\n<!-- 139719581280080 -->\n<g class=\"node\" id=\"node5\">\n<title>139719581280080</title>\n<polygon fill=\"none\" points=\"813.5,-498.5 813.5,-544.5 1121.5,-544.5 1121.5,-498.5 813.5,-498.5\" stroke=\"#000000\"/>\n<text fill=\"#000000\" font-family=\"Times,serif\" font-size=\"14.00\" text-anchor=\"middle\" x=\"880\" y=\"-517.8\">conv1d_2: Conv1D</text>\n<polyline fill=\"none\" points=\"946.5,-498.5 946.5,-544.5 \" stroke=\"#000000\"/>\n<text fill=\"#000000\" font-family=\"Times,serif\" font-size=\"14.00\" text-anchor=\"middle\" x=\"975.5\" y=\"-529.3\">input:</text>\n<polyline fill=\"none\" points=\"946.5,-521.5 1004.5,-521.5 \" stroke=\"#000000\"/>\n<text fill=\"#000000\" font-family=\"Times,serif\" font-size=\"14.00\" text-anchor=\"middle\" x=\"975.5\" y=\"-506.3\">output:</text>\n<polyline fill=\"none\" points=\"1004.5,-498.5 1004.5,-544.5 \" stroke=\"#000000\"/>\n<text fill=\"#000000\" font-family=\"Times,serif\" font-size=\"14.00\" text-anchor=\"middle\" x=\"1063\" y=\"-529.3\">(None, 300, 100)</text>\n<polyline fill=\"none\" points=\"1004.5,-521.5 1121.5,-521.5 \" stroke=\"#000000\"/>\n<text fill=\"#000000\" font-family=\"Times,serif\" font-size=\"14.00\" text-anchor=\"middle\" x=\"1063\" y=\"-506.3\">(None, 297, 128)</text>\n</g>\n<!-- 139719736608592&#45;&gt;139719581280080 -->\n<g class=\"edge\" id=\"edge4\">\n<title>139719736608592-&gt;139719581280080</title>\n<path d=\"M700.0743,-581.4901C748.094,-570.7181 805.4268,-557.857 854.6696,-546.8106\" fill=\"none\" stroke=\"#000000\"/>\n<polygon fill=\"#000000\" points=\"855.7348,-550.1587 864.7262,-544.5547 854.2026,-543.3285 855.7348,-550.1587\" stroke=\"#000000\"/>\n</g>\n<!-- 139719592327184 -->\n<g class=\"node\" id=\"node6\">\n<title>139719592327184</title>\n<polygon fill=\"none\" points=\"0,-415.5 0,-461.5 381,-461.5 381,-415.5 0,-415.5\" stroke=\"#000000\"/>\n<text fill=\"#000000\" font-family=\"Times,serif\" font-size=\"14.00\" text-anchor=\"middle\" x=\"103\" y=\"-434.8\">max_pooling1d: MaxPooling1D</text>\n<polyline fill=\"none\" points=\"206,-415.5 206,-461.5 \" stroke=\"#000000\"/>\n<text fill=\"#000000\" font-family=\"Times,serif\" font-size=\"14.00\" text-anchor=\"middle\" x=\"235\" y=\"-446.3\">input:</text>\n<polyline fill=\"none\" points=\"206,-438.5 264,-438.5 \" stroke=\"#000000\"/>\n<text fill=\"#000000\" font-family=\"Times,serif\" font-size=\"14.00\" text-anchor=\"middle\" x=\"235\" y=\"-423.3\">output:</text>\n<polyline fill=\"none\" points=\"264,-415.5 264,-461.5 \" stroke=\"#000000\"/>\n<text fill=\"#000000\" font-family=\"Times,serif\" font-size=\"14.00\" text-anchor=\"middle\" x=\"322.5\" y=\"-446.3\">(None, 299, 128)</text>\n<polyline fill=\"none\" points=\"264,-438.5 381,-438.5 \" stroke=\"#000000\"/>\n<text fill=\"#000000\" font-family=\"Times,serif\" font-size=\"14.00\" text-anchor=\"middle\" x=\"322.5\" y=\"-423.3\">(None, 1, 128)</text>\n</g>\n<!-- 139719600968912&#45;&gt;139719592327184 -->\n<g class=\"edge\" id=\"edge5\">\n<title>139719600968912-&gt;139719592327184</title>\n<path d=\"M222.2435,-498.3799C217.7046,-489.8178 212.4723,-479.9477 207.5817,-470.7222\" fill=\"none\" stroke=\"#000000\"/>\n<polygon fill=\"#000000\" points=\"210.6195,-468.98 202.8433,-461.784 204.4348,-472.2586 210.6195,-468.98\" stroke=\"#000000\"/>\n</g>\n<!-- 139719581194768 -->\n<g class=\"node\" id=\"node7\">\n<title>139719581194768</title>\n<polygon fill=\"none\" points=\"399.5,-415.5 399.5,-461.5 795.5,-461.5 795.5,-415.5 399.5,-415.5\" stroke=\"#000000\"/>\n<text fill=\"#000000\" font-family=\"Times,serif\" font-size=\"14.00\" text-anchor=\"middle\" x=\"510\" y=\"-434.8\">max_pooling1d_1: MaxPooling1D</text>\n<polyline fill=\"none\" points=\"620.5,-415.5 620.5,-461.5 \" stroke=\"#000000\"/>\n<text fill=\"#000000\" font-family=\"Times,serif\" font-size=\"14.00\" text-anchor=\"middle\" x=\"649.5\" y=\"-446.3\">input:</text>\n<polyline fill=\"none\" points=\"620.5,-438.5 678.5,-438.5 \" stroke=\"#000000\"/>\n<text fill=\"#000000\" font-family=\"Times,serif\" font-size=\"14.00\" text-anchor=\"middle\" x=\"649.5\" y=\"-423.3\">output:</text>\n<polyline fill=\"none\" points=\"678.5,-415.5 678.5,-461.5 \" stroke=\"#000000\"/>\n<text fill=\"#000000\" font-family=\"Times,serif\" font-size=\"14.00\" text-anchor=\"middle\" x=\"737\" y=\"-446.3\">(None, 298, 128)</text>\n<polyline fill=\"none\" points=\"678.5,-438.5 795.5,-438.5 \" stroke=\"#000000\"/>\n<text fill=\"#000000\" font-family=\"Times,serif\" font-size=\"14.00\" text-anchor=\"middle\" x=\"737\" y=\"-423.3\">(None, 1, 128)</text>\n</g>\n<!-- 139719581179856&#45;&gt;139719581194768 -->\n<g class=\"edge\" id=\"edge6\">\n<title>139719581179856-&gt;139719581194768</title>\n<path d=\"M597.5,-498.3799C597.5,-490.1745 597.5,-480.7679 597.5,-471.8786\" fill=\"none\" stroke=\"#000000\"/>\n<polygon fill=\"#000000\" points=\"601.0001,-471.784 597.5,-461.784 594.0001,-471.784 601.0001,-471.784\" stroke=\"#000000\"/>\n</g>\n<!-- 139719581278480 -->\n<g class=\"node\" id=\"node8\">\n<title>139719581278480</title>\n<polygon fill=\"none\" points=\"813.5,-415.5 813.5,-461.5 1209.5,-461.5 1209.5,-415.5 813.5,-415.5\" stroke=\"#000000\"/>\n<text fill=\"#000000\" font-family=\"Times,serif\" font-size=\"14.00\" text-anchor=\"middle\" x=\"924\" y=\"-434.8\">max_pooling1d_2: MaxPooling1D</text>\n<polyline fill=\"none\" points=\"1034.5,-415.5 1034.5,-461.5 \" stroke=\"#000000\"/>\n<text fill=\"#000000\" font-family=\"Times,serif\" font-size=\"14.00\" text-anchor=\"middle\" x=\"1063.5\" y=\"-446.3\">input:</text>\n<polyline fill=\"none\" points=\"1034.5,-438.5 1092.5,-438.5 \" stroke=\"#000000\"/>\n<text fill=\"#000000\" font-family=\"Times,serif\" font-size=\"14.00\" text-anchor=\"middle\" x=\"1063.5\" y=\"-423.3\">output:</text>\n<polyline fill=\"none\" points=\"1092.5,-415.5 1092.5,-461.5 \" stroke=\"#000000\"/>\n<text fill=\"#000000\" font-family=\"Times,serif\" font-size=\"14.00\" text-anchor=\"middle\" x=\"1151\" y=\"-446.3\">(None, 297, 128)</text>\n<polyline fill=\"none\" points=\"1092.5,-438.5 1209.5,-438.5 \" stroke=\"#000000\"/>\n<text fill=\"#000000\" font-family=\"Times,serif\" font-size=\"14.00\" text-anchor=\"middle\" x=\"1151\" y=\"-423.3\">(None, 1, 128)</text>\n</g>\n<!-- 139719581280080&#45;&gt;139719581278480 -->\n<g class=\"edge\" id=\"edge7\">\n<title>139719581280080-&gt;139719581278480</title>\n<path d=\"M979.7565,-498.3799C984.2954,-489.8178 989.5277,-479.9477 994.4183,-470.7222\" fill=\"none\" stroke=\"#000000\"/>\n<polygon fill=\"#000000\" points=\"997.5652,-472.2586 999.1567,-461.784 991.3805,-468.98 997.5652,-472.2586\" stroke=\"#000000\"/>\n</g>\n<!-- 139719581154448 -->\n<g class=\"node\" id=\"node9\">\n<title>139719581154448</title>\n<polygon fill=\"none\" points=\"123.5,-332.5 123.5,-378.5 381.5,-378.5 381.5,-332.5 123.5,-332.5\" stroke=\"#000000\"/>\n<text fill=\"#000000\" font-family=\"Times,serif\" font-size=\"14.00\" text-anchor=\"middle\" x=\"172.5\" y=\"-351.8\">flatten: Flatten</text>\n<polyline fill=\"none\" points=\"221.5,-332.5 221.5,-378.5 \" stroke=\"#000000\"/>\n<text fill=\"#000000\" font-family=\"Times,serif\" font-size=\"14.00\" text-anchor=\"middle\" x=\"250.5\" y=\"-363.3\">input:</text>\n<polyline fill=\"none\" points=\"221.5,-355.5 279.5,-355.5 \" stroke=\"#000000\"/>\n<text fill=\"#000000\" font-family=\"Times,serif\" font-size=\"14.00\" text-anchor=\"middle\" x=\"250.5\" y=\"-340.3\">output:</text>\n<polyline fill=\"none\" points=\"279.5,-332.5 279.5,-378.5 \" stroke=\"#000000\"/>\n<text fill=\"#000000\" font-family=\"Times,serif\" font-size=\"14.00\" text-anchor=\"middle\" x=\"330.5\" y=\"-363.3\">(None, 1, 128)</text>\n<polyline fill=\"none\" points=\"279.5,-355.5 381.5,-355.5 \" stroke=\"#000000\"/>\n<text fill=\"#000000\" font-family=\"Times,serif\" font-size=\"14.00\" text-anchor=\"middle\" x=\"330.5\" y=\"-340.3\">(None, 128)</text>\n</g>\n<!-- 139719592327184&#45;&gt;139719581154448 -->\n<g class=\"edge\" id=\"edge8\">\n<title>139719592327184-&gt;139719581154448</title>\n<path d=\"M207.7705,-415.3799C214.3661,-406.5502 222.0009,-396.3295 229.075,-386.8593\" fill=\"none\" stroke=\"#000000\"/>\n<polygon fill=\"#000000\" points=\"231.9266,-388.8902 235.1071,-378.784 226.3185,-384.701 231.9266,-388.8902\" stroke=\"#000000\"/>\n</g>\n<!-- 139719581239248 -->\n<g class=\"node\" id=\"node10\">\n<title>139719581239248</title>\n<polygon fill=\"none\" points=\"461,-332.5 461,-378.5 734,-378.5 734,-332.5 461,-332.5\" stroke=\"#000000\"/>\n<text fill=\"#000000\" font-family=\"Times,serif\" font-size=\"14.00\" text-anchor=\"middle\" x=\"517.5\" y=\"-351.8\">flatten_1: Flatten</text>\n<polyline fill=\"none\" points=\"574,-332.5 574,-378.5 \" stroke=\"#000000\"/>\n<text fill=\"#000000\" font-family=\"Times,serif\" font-size=\"14.00\" text-anchor=\"middle\" x=\"603\" y=\"-363.3\">input:</text>\n<polyline fill=\"none\" points=\"574,-355.5 632,-355.5 \" stroke=\"#000000\"/>\n<text fill=\"#000000\" font-family=\"Times,serif\" font-size=\"14.00\" text-anchor=\"middle\" x=\"603\" y=\"-340.3\">output:</text>\n<polyline fill=\"none\" points=\"632,-332.5 632,-378.5 \" stroke=\"#000000\"/>\n<text fill=\"#000000\" font-family=\"Times,serif\" font-size=\"14.00\" text-anchor=\"middle\" x=\"683\" y=\"-363.3\">(None, 1, 128)</text>\n<polyline fill=\"none\" points=\"632,-355.5 734,-355.5 \" stroke=\"#000000\"/>\n<text fill=\"#000000\" font-family=\"Times,serif\" font-size=\"14.00\" text-anchor=\"middle\" x=\"683\" y=\"-340.3\">(None, 128)</text>\n</g>\n<!-- 139719581194768&#45;&gt;139719581239248 -->\n<g class=\"edge\" id=\"edge9\">\n<title>139719581194768-&gt;139719581239248</title>\n<path d=\"M597.5,-415.3799C597.5,-407.1745 597.5,-397.7679 597.5,-388.8786\" fill=\"none\" stroke=\"#000000\"/>\n<polygon fill=\"#000000\" points=\"601.0001,-388.784 597.5,-378.784 594.0001,-388.784 601.0001,-388.784\" stroke=\"#000000\"/>\n</g>\n<!-- 139719581297168 -->\n<g class=\"node\" id=\"node11\">\n<title>139719581297168</title>\n<polygon fill=\"none\" points=\"813,-332.5 813,-378.5 1086,-378.5 1086,-332.5 813,-332.5\" stroke=\"#000000\"/>\n<text fill=\"#000000\" font-family=\"Times,serif\" font-size=\"14.00\" text-anchor=\"middle\" x=\"869.5\" y=\"-351.8\">flatten_2: Flatten</text>\n<polyline fill=\"none\" points=\"926,-332.5 926,-378.5 \" stroke=\"#000000\"/>\n<text fill=\"#000000\" font-family=\"Times,serif\" font-size=\"14.00\" text-anchor=\"middle\" x=\"955\" y=\"-363.3\">input:</text>\n<polyline fill=\"none\" points=\"926,-355.5 984,-355.5 \" stroke=\"#000000\"/>\n<text fill=\"#000000\" font-family=\"Times,serif\" font-size=\"14.00\" text-anchor=\"middle\" x=\"955\" y=\"-340.3\">output:</text>\n<polyline fill=\"none\" points=\"984,-332.5 984,-378.5 \" stroke=\"#000000\"/>\n<text fill=\"#000000\" font-family=\"Times,serif\" font-size=\"14.00\" text-anchor=\"middle\" x=\"1035\" y=\"-363.3\">(None, 1, 128)</text>\n<polyline fill=\"none\" points=\"984,-355.5 1086,-355.5 \" stroke=\"#000000\"/>\n<text fill=\"#000000\" font-family=\"Times,serif\" font-size=\"14.00\" text-anchor=\"middle\" x=\"1035\" y=\"-340.3\">(None, 128)</text>\n</g>\n<!-- 139719581278480&#45;&gt;139719581297168 -->\n<g class=\"edge\" id=\"edge10\">\n<title>139719581278480-&gt;139719581297168</title>\n<path d=\"M994.2295,-415.3799C987.6339,-406.5502 979.9991,-396.3295 972.925,-386.8593\" fill=\"none\" stroke=\"#000000\"/>\n<polygon fill=\"#000000\" points=\"975.6815,-384.701 966.8929,-378.784 970.0734,-388.8902 975.6815,-384.701\" stroke=\"#000000\"/>\n</g>\n<!-- 139719600969680 -->\n<g class=\"node\" id=\"node12\">\n<title>139719600969680</title>\n<polygon fill=\"none\" points=\"362.5,-249.5 362.5,-295.5 832.5,-295.5 832.5,-249.5 362.5,-249.5\" stroke=\"#000000\"/>\n<text fill=\"#000000\" font-family=\"Times,serif\" font-size=\"14.00\" text-anchor=\"middle\" x=\"442.5\" y=\"-268.8\">concatenate: Concatenate</text>\n<polyline fill=\"none\" points=\"522.5,-249.5 522.5,-295.5 \" stroke=\"#000000\"/>\n<text fill=\"#000000\" font-family=\"Times,serif\" font-size=\"14.00\" text-anchor=\"middle\" x=\"551.5\" y=\"-280.3\">input:</text>\n<polyline fill=\"none\" points=\"522.5,-272.5 580.5,-272.5 \" stroke=\"#000000\"/>\n<text fill=\"#000000\" font-family=\"Times,serif\" font-size=\"14.00\" text-anchor=\"middle\" x=\"551.5\" y=\"-257.3\">output:</text>\n<polyline fill=\"none\" points=\"580.5,-249.5 580.5,-295.5 \" stroke=\"#000000\"/>\n<text fill=\"#000000\" font-family=\"Times,serif\" font-size=\"14.00\" text-anchor=\"middle\" x=\"706.5\" y=\"-280.3\">[(None, 128), (None, 128), (None, 128)]</text>\n<polyline fill=\"none\" points=\"580.5,-272.5 832.5,-272.5 \" stroke=\"#000000\"/>\n<text fill=\"#000000\" font-family=\"Times,serif\" font-size=\"14.00\" text-anchor=\"middle\" x=\"706.5\" y=\"-257.3\">(None, 384)</text>\n</g>\n<!-- 139719581154448&#45;&gt;139719600969680 -->\n<g class=\"edge\" id=\"edge11\">\n<title>139719581154448-&gt;139719600969680</title>\n<path d=\"M348.1436,-332.4901C392.7317,-321.7631 445.9314,-308.9643 491.7177,-297.9491\" fill=\"none\" stroke=\"#000000\"/>\n<polygon fill=\"#000000\" points=\"492.7665,-301.2967 501.6704,-295.5547 491.1291,-294.4909 492.7665,-301.2967\" stroke=\"#000000\"/>\n</g>\n<!-- 139719581239248&#45;&gt;139719600969680 -->\n<g class=\"edge\" id=\"edge12\">\n<title>139719581239248-&gt;139719600969680</title>\n<path d=\"M597.5,-332.3799C597.5,-324.1745 597.5,-314.7679 597.5,-305.8786\" fill=\"none\" stroke=\"#000000\"/>\n<polygon fill=\"#000000\" points=\"601.0001,-305.784 597.5,-295.784 594.0001,-305.784 601.0001,-305.784\" stroke=\"#000000\"/>\n</g>\n<!-- 139719581297168&#45;&gt;139719600969680 -->\n<g class=\"edge\" id=\"edge13\">\n<title>139719581297168-&gt;139719600969680</title>\n<path d=\"M851.9158,-332.4901C806.3276,-321.7406 751.9163,-308.9107 705.1349,-297.8798\" fill=\"none\" stroke=\"#000000\"/>\n<polygon fill=\"#000000\" points=\"705.8104,-294.4432 695.274,-295.5547 704.2038,-301.2563 705.8104,-294.4432\" stroke=\"#000000\"/>\n</g>\n<!-- 139719600968848 -->\n<g class=\"node\" id=\"node13\">\n<title>139719600968848</title>\n<polygon fill=\"none\" points=\"479,-166.5 479,-212.5 716,-212.5 716,-166.5 479,-166.5\" stroke=\"#000000\"/>\n<text fill=\"#000000\" font-family=\"Times,serif\" font-size=\"14.00\" text-anchor=\"middle\" x=\"525\" y=\"-185.8\">dense: Dense</text>\n<polyline fill=\"none\" points=\"571,-166.5 571,-212.5 \" stroke=\"#000000\"/>\n<text fill=\"#000000\" font-family=\"Times,serif\" font-size=\"14.00\" text-anchor=\"middle\" x=\"600\" y=\"-197.3\">input:</text>\n<polyline fill=\"none\" points=\"571,-189.5 629,-189.5 \" stroke=\"#000000\"/>\n<text fill=\"#000000\" font-family=\"Times,serif\" font-size=\"14.00\" text-anchor=\"middle\" x=\"600\" y=\"-174.3\">output:</text>\n<polyline fill=\"none\" points=\"629,-166.5 629,-212.5 \" stroke=\"#000000\"/>\n<text fill=\"#000000\" font-family=\"Times,serif\" font-size=\"14.00\" text-anchor=\"middle\" x=\"672.5\" y=\"-197.3\">(None, 384)</text>\n<polyline fill=\"none\" points=\"629,-189.5 716,-189.5 \" stroke=\"#000000\"/>\n<text fill=\"#000000\" font-family=\"Times,serif\" font-size=\"14.00\" text-anchor=\"middle\" x=\"672.5\" y=\"-174.3\">(None, 128)</text>\n</g>\n<!-- 139719600969680&#45;&gt;139719600968848 -->\n<g class=\"edge\" id=\"edge14\">\n<title>139719600969680-&gt;139719600968848</title>\n<path d=\"M597.5,-249.3799C597.5,-241.1745 597.5,-231.7679 597.5,-222.8786\" fill=\"none\" stroke=\"#000000\"/>\n<polygon fill=\"#000000\" points=\"601.0001,-222.784 597.5,-212.784 594.0001,-222.784 601.0001,-222.784\" stroke=\"#000000\"/>\n</g>\n<!-- 139719581356944 -->\n<g class=\"node\" id=\"node14\">\n<title>139719581356944</title>\n<polygon fill=\"none\" points=\"471.5,-83.5 471.5,-129.5 723.5,-129.5 723.5,-83.5 471.5,-83.5\" stroke=\"#000000\"/>\n<text fill=\"#000000\" font-family=\"Times,serif\" font-size=\"14.00\" text-anchor=\"middle\" x=\"525\" y=\"-102.8\">dense_1: Dense</text>\n<polyline fill=\"none\" points=\"578.5,-83.5 578.5,-129.5 \" stroke=\"#000000\"/>\n<text fill=\"#000000\" font-family=\"Times,serif\" font-size=\"14.00\" text-anchor=\"middle\" x=\"607.5\" y=\"-114.3\">input:</text>\n<polyline fill=\"none\" points=\"578.5,-106.5 636.5,-106.5 \" stroke=\"#000000\"/>\n<text fill=\"#000000\" font-family=\"Times,serif\" font-size=\"14.00\" text-anchor=\"middle\" x=\"607.5\" y=\"-91.3\">output:</text>\n<polyline fill=\"none\" points=\"636.5,-83.5 636.5,-129.5 \" stroke=\"#000000\"/>\n<text fill=\"#000000\" font-family=\"Times,serif\" font-size=\"14.00\" text-anchor=\"middle\" x=\"680\" y=\"-114.3\">(None, 128)</text>\n<polyline fill=\"none\" points=\"636.5,-106.5 723.5,-106.5 \" stroke=\"#000000\"/>\n<text fill=\"#000000\" font-family=\"Times,serif\" font-size=\"14.00\" text-anchor=\"middle\" x=\"680\" y=\"-91.3\">(None, 128)</text>\n</g>\n<!-- 139719600968848&#45;&gt;139719581356944 -->\n<g class=\"edge\" id=\"edge15\">\n<title>139719600968848-&gt;139719581356944</title>\n<path d=\"M597.5,-166.3799C597.5,-158.1745 597.5,-148.7679 597.5,-139.8786\" fill=\"none\" stroke=\"#000000\"/>\n<polygon fill=\"#000000\" points=\"601.0001,-139.784 597.5,-129.784 594.0001,-139.784 601.0001,-139.784\" stroke=\"#000000\"/>\n</g>\n<!-- 139719581332240 -->\n<g class=\"node\" id=\"node15\">\n<title>139719581332240</title>\n<polygon fill=\"none\" points=\"471.5,-.5 471.5,-46.5 723.5,-46.5 723.5,-.5 471.5,-.5\" stroke=\"#000000\"/>\n<text fill=\"#000000\" font-family=\"Times,serif\" font-size=\"14.00\" text-anchor=\"middle\" x=\"525\" y=\"-19.8\">dense_2: Dense</text>\n<polyline fill=\"none\" points=\"578.5,-.5 578.5,-46.5 \" stroke=\"#000000\"/>\n<text fill=\"#000000\" font-family=\"Times,serif\" font-size=\"14.00\" text-anchor=\"middle\" x=\"607.5\" y=\"-31.3\">input:</text>\n<polyline fill=\"none\" points=\"578.5,-23.5 636.5,-23.5 \" stroke=\"#000000\"/>\n<text fill=\"#000000\" font-family=\"Times,serif\" font-size=\"14.00\" text-anchor=\"middle\" x=\"607.5\" y=\"-8.3\">output:</text>\n<polyline fill=\"none\" points=\"636.5,-.5 636.5,-46.5 \" stroke=\"#000000\"/>\n<text fill=\"#000000\" font-family=\"Times,serif\" font-size=\"14.00\" text-anchor=\"middle\" x=\"680\" y=\"-31.3\">(None, 128)</text>\n<polyline fill=\"none\" points=\"636.5,-23.5 723.5,-23.5 \" stroke=\"#000000\"/>\n<text fill=\"#000000\" font-family=\"Times,serif\" font-size=\"14.00\" text-anchor=\"middle\" x=\"680\" y=\"-8.3\">(None, 1)</text>\n</g>\n<!-- 139719581356944&#45;&gt;139719581332240 -->\n<g class=\"edge\" id=\"edge16\">\n<title>139719581356944-&gt;139719581332240</title>\n<path d=\"M597.5,-83.3799C597.5,-75.1745 597.5,-65.7679 597.5,-56.8786\" fill=\"none\" stroke=\"#000000\"/>\n<polygon fill=\"#000000\" points=\"601.0001,-56.784 597.5,-46.784 594.0001,-56.784 601.0001,-56.784\" stroke=\"#000000\"/>\n</g>\n</g>\n</svg>"
          },
          "metadata": {
            "tags": []
          },
          "execution_count": 21
        }
      ]
    },
    {
      "cell_type": "markdown",
      "metadata": {
        "id": "vQ4SabuZwA7E"
      },
      "source": [
        "* compiler le model"
      ]
    },
    {
      "cell_type": "code",
      "metadata": {
        "id": "qGO3pmPgb7sb"
      },
      "source": [
        "model.compile(optimizer='adam', loss='binary_crossentropy', metrics=['acc'])"
      ],
      "execution_count": 22,
      "outputs": []
    },
    {
      "cell_type": "markdown",
      "metadata": {
        "id": "E1Y8cIIqJDcn"
      },
      "source": [
        "* train le model"
      ]
    },
    {
      "cell_type": "code",
      "metadata": {
        "colab": {
          "base_uri": "https://localhost:8080/"
        },
        "id": "mvOS4Xc0pMPz",
        "outputId": "5061304f-75da-4215-fdd0-85c90922c1ef"
      },
      "source": [
        "history = model.fit(X_train, y_train, batch_size=64, epochs=3, verbose=1, validation_split=0.2)"
      ],
      "execution_count": 23,
      "outputs": [
        {
          "output_type": "stream",
          "text": [
            "Epoch 1/3\n",
            "43710/43710 [==============================] - 2272s 51ms/step - loss: 0.0011 - acc: 0.9998 - val_loss: 1.3792e-04 - val_acc: 1.0000\n",
            "Epoch 2/3\n",
            "43710/43710 [==============================] - 2189s 50ms/step - loss: 1.7006e-04 - acc: 1.0000 - val_loss: 3.2620e-04 - val_acc: 1.0000\n",
            "Epoch 3/3\n",
            "43710/43710 [==============================] - 2180s 50ms/step - loss: 8.8628e-05 - acc: 1.0000 - val_loss: 9.4100e-07 - val_acc: 1.0000\n"
          ],
          "name": "stdout"
        }
      ]
    },
    {
      "cell_type": "markdown",
      "metadata": {
        "id": "6siFb31HJHAc"
      },
      "source": [
        "* evaluer le model sur test set"
      ]
    },
    {
      "cell_type": "code",
      "metadata": {
        "colab": {
          "base_uri": "https://localhost:8080/"
        },
        "id": "6oGV4ihXpOGn",
        "outputId": "d6aaebc0-37ba-4f79-ae56-16189c46e2fe"
      },
      "source": [
        "score = model.evaluate(X_test, y_test, verbose=1)"
      ],
      "execution_count": 24,
      "outputs": [
        {
          "output_type": "stream",
          "text": [
            "27319/27319 [==============================] - 246s 9ms/step - loss: 7.0058e-06 - acc: 1.0000\n"
          ],
          "name": "stdout"
        }
      ]
    },
    {
      "cell_type": "code",
      "metadata": {
        "colab": {
          "base_uri": "https://localhost:8080/"
        },
        "id": "Ld4aQAnUpOxS",
        "outputId": "7b92aea4-24d6-4c1a-bd2a-c54103e32ab9"
      },
      "source": [
        "print(\"Test Score:\", score[0])\n",
        "print(\"Test Accuracy:\", score[1]) "
      ],
      "execution_count": 25,
      "outputs": [
        {
          "output_type": "stream",
          "text": [
            "Test Score: 7.005797669989988e-06\n",
            "Test Accuracy: 0.9999977350234985\n"
          ],
          "name": "stdout"
        }
      ]
    },
    {
      "cell_type": "markdown",
      "metadata": {
        "id": "yUeZmyDTwMiU"
      },
      "source": [
        "## **Comme vous pouvez voir nous avons atteindre une performance de 99,99% avec le CNN model** "
      ]
    }
  ]
}