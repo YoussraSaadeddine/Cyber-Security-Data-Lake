{
  "nbformat": 4,
  "nbformat_minor": 0,
  "metadata": {
    "colab": {
      "name": "Glove+Models_Thunderbird.ipynb",
      "provenance": [],
      "collapsed_sections": []
    },
    "kernelspec": {
      "name": "python3",
      "display_name": "Python 3"
    },
    "language_info": {
      "name": "python"
    },
    "accelerator": "GPU"
  },
  "cells": [
    {
      "cell_type": "markdown",
      "metadata": {
        "id": "3UzO-0b5_tA3"
      },
      "source": [
        "# I- Introduction:\n",
        "Aprés avoir testé the state of the art model (Bert) nous alllons essayer dans ce projet d'utiliser deux types différents de deep neural network: Convolutional Neural Network (CNN) et Long Short Term Memory Network (LSTM), qui est une variante des Recurrent Neural Networks pour affiner rapidement et efficacement un modèle de classification des logs de de Thunderbird supercomputer, où notre objectif sera de détecter les anomalies dans des futurs logs.\n",
        "\n",
        "* **Dataset** - nous allons utiliser une DT open Source des logs de Thunderbird supercomputer(contient 211,212,192 logs mais nous allons uiliser seulement 221220 logs),il est sous forme d'un Filelog donc on avait besoin d'utiliser excel(On peut utiliser Python mais excel reste simple) pour insérer les logs dans des dataframes.\n",
        "\n",
        "* **Objectif** - developper une solution qui permet de detecter les anomalies dans les logs.\n",
        "\n",
        "* **Methodologie** - nous allons considerer comme nous avons un probleme de text classification et construire un deep learning model pour attiendre l'objectif."
      ]
    },
    {
      "cell_type": "markdown",
      "metadata": {
        "id": "J2xQARwf_s1f"
      },
      "source": [
        "# II- Different Models:\n",
        "\n",
        "Il existe plusieurs types de modèles qui pourraient être utilisés pour créer la solution de la classification de texte parmi ces solutions on trouve:\n",
        "\n",
        "\n",
        "*   **1D- Conv Net** : \n",
        "les CNN peuvent être utilisés pour la classification des textes. ils sont plus rapides à s'entraîner.\n",
        "\n",
        "*   **Modèles basés sur RNN (LSTM, GRU)** :  ils peuvent capturer la nature séquentielle d'un texte. Mais ils sont plus lent à s'entraîner.\n",
        "\n",
        "* **Modèles basés sur des transformers (BERT, GPT2)** -\n",
        "Les modèles basés sur des transformers exploite plusieurs unités Transformer et un mécanisme d'attention à multihead.\n",
        "\n",
        "####Dans ce projet nous allons focaliser sur un model basé sur RNN(LSTM) et un autre basé sur les CNN.\n"
      ]
    },
    {
      "cell_type": "markdown",
      "metadata": {
        "id": "nWOg1foq_ssc"
      },
      "source": [
        "# III- Data Preprocessing"
      ]
    },
    {
      "cell_type": "markdown",
      "metadata": {
        "id": "CPM6Y9-x_sjc"
      },
      "source": [
        "### 1. Importing libraries and modules"
      ]
    },
    {
      "cell_type": "code",
      "metadata": {
        "id": "NYyobhk2enYZ"
      },
      "source": [
        "import pandas as pd\n",
        "import numpy as np\n",
        "import matplotlib.pyplot as plt\n",
        "import seaborn as sns\n",
        "import re\n",
        "from numpy import array\n",
        "import keras \n",
        "from keras.preprocessing.sequence import pad_sequences\n",
        "from keras.models import Sequential\n",
        "from keras.layers.core import Activation, Dropout, Dense\n",
        "from keras.layers import Flatten\n",
        "from keras.layers import GlobalMaxPooling1D\n",
        "from keras.layers.embeddings import Embedding\n",
        "from keras.preprocessing.text import Tokenizer\n",
        "from sklearn.utils import shuffle\n",
        "from google.colab import drive\n",
        "from sklearn.model_selection import train_test_split\n",
        "from keras.models import Sequential\n",
        "from keras.layers import Dense\n",
        "from keras.layers import Input, Dense, Dropout, Embedding, LSTM, Flatten\n",
        "from keras.models import Model\n",
        "from sklearn.metrics import accuracy_score"
      ],
      "execution_count": 1,
      "outputs": []
    },
    {
      "cell_type": "markdown",
      "metadata": {
        "id": "FQRMWg6qlJsg"
      },
      "source": [
        "###2. Loading Data"
      ]
    },
    {
      "cell_type": "markdown",
      "metadata": {
        "id": "bK_C6jL3Swj9"
      },
      "source": [
        "####**Importing files from Google Drive in Colab**\n",
        "notre dataset est stockée dans Google Drive donc nous avons besoin de \n",
        "lier notre compte Google Drive avec notre notebook.\n",
        "1. La première étape consiste à monter notre Google Drive en exécutant le code en dessous.\n",
        "2.  nous obtenons le code d'autorisation en nous connectant à notre compte Google.\n",
        "3.   nous collons le code d'autorisation et nous appuyons sur Entrée."
      ]
    },
    {
      "cell_type": "code",
      "metadata": {
        "colab": {
          "base_uri": "https://localhost:8080/"
        },
        "id": "ny55UZG3ggjK",
        "outputId": "10577e6f-0c86-45bc-f16c-a9e6bf20278d"
      },
      "source": [
        "drive.mount('/gdrive')\n",
        "%cd /gdrive"
      ],
      "execution_count": 2,
      "outputs": [
        {
          "output_type": "stream",
          "text": [
            "Mounted at /gdrive\n",
            "/gdrive\n"
          ],
          "name": "stdout"
        }
      ]
    },
    {
      "cell_type": "code",
      "metadata": {
        "id": "xtBvabavkZb5"
      },
      "source": [
        "PATH_data=r'/gdrive/My Drive/thunderbird V.xlsx' "
      ],
      "execution_count": 3,
      "outputs": []
    },
    {
      "cell_type": "code",
      "metadata": {
        "id": "4PffwR6FkZSD"
      },
      "source": [
        "data = pd.read_excel(PATH_data)"
      ],
      "execution_count": 4,
      "outputs": []
    },
    {
      "cell_type": "code",
      "metadata": {
        "id": "CLlbEqQvkZCq"
      },
      "source": [
        "data.to_csv(r'/gdrive/My Drive/thunderbird v.csv')"
      ],
      "execution_count": 5,
      "outputs": []
    },
    {
      "cell_type": "code",
      "metadata": {
        "id": "OciB7qLAgvwY"
      },
      "source": [
        "df = pd.read_csv(r'/gdrive/My Drive/thunderbird v.csv') "
      ],
      "execution_count": 6,
      "outputs": []
    },
    {
      "cell_type": "code",
      "metadata": {
        "colab": {
          "base_uri": "https://localhost:8080/",
          "height": 204
        },
        "id": "ZDBL71sZiAsN",
        "outputId": "2cd0e38b-690c-45fb-fb95-279eb8d2e9ff"
      },
      "source": [
        "df.head()"
      ],
      "execution_count": 7,
      "outputs": [
        {
          "output_type": "execute_result",
          "data": {
            "text/html": [
              "<div>\n",
              "<style scoped>\n",
              "    .dataframe tbody tr th:only-of-type {\n",
              "        vertical-align: middle;\n",
              "    }\n",
              "\n",
              "    .dataframe tbody tr th {\n",
              "        vertical-align: top;\n",
              "    }\n",
              "\n",
              "    .dataframe thead th {\n",
              "        text-align: right;\n",
              "    }\n",
              "</style>\n",
              "<table border=\"1\" class=\"dataframe\">\n",
              "  <thead>\n",
              "    <tr style=\"text-align: right;\">\n",
              "      <th></th>\n",
              "      <th>Unnamed: 0</th>\n",
              "      <th>log</th>\n",
              "      <th>label</th>\n",
              "    </tr>\n",
              "  </thead>\n",
              "  <tbody>\n",
              "    <tr>\n",
              "      <th>0</th>\n",
              "      <td>0</td>\n",
              "      <td>- 1131965931 2005.11.14 an933 Nov 14 02:58:51 ...</td>\n",
              "      <td>0</td>\n",
              "    </tr>\n",
              "    <tr>\n",
              "      <th>1</th>\n",
              "      <td>1</td>\n",
              "      <td>- 1131965931 2005.11.14 an933 Nov 14 02:58:51 ...</td>\n",
              "      <td>0</td>\n",
              "    </tr>\n",
              "    <tr>\n",
              "      <th>2</th>\n",
              "      <td>2</td>\n",
              "      <td>- 1131965931 2005.11.14 an933 Nov 14 02:58:51 ...</td>\n",
              "      <td>0</td>\n",
              "    </tr>\n",
              "    <tr>\n",
              "      <th>3</th>\n",
              "      <td>3</td>\n",
              "      <td>- 1131965931 2005.11.14 an933 Nov 14 02:58:51 ...</td>\n",
              "      <td>0</td>\n",
              "    </tr>\n",
              "    <tr>\n",
              "      <th>4</th>\n",
              "      <td>4</td>\n",
              "      <td>- 1131965931 2005.11.14 an933 Nov 14 02:58:51 ...</td>\n",
              "      <td>0</td>\n",
              "    </tr>\n",
              "  </tbody>\n",
              "</table>\n",
              "</div>"
            ],
            "text/plain": [
              "   Unnamed: 0                                                log  label\n",
              "0           0  - 1131965931 2005.11.14 an933 Nov 14 02:58:51 ...      0\n",
              "1           1  - 1131965931 2005.11.14 an933 Nov 14 02:58:51 ...      0\n",
              "2           2  - 1131965931 2005.11.14 an933 Nov 14 02:58:51 ...      0\n",
              "3           3  - 1131965931 2005.11.14 an933 Nov 14 02:58:51 ...      0\n",
              "4           4  - 1131965931 2005.11.14 an933 Nov 14 02:58:51 ...      0"
            ]
          },
          "metadata": {
            "tags": []
          },
          "execution_count": 7
        }
      ]
    },
    {
      "cell_type": "code",
      "metadata": {
        "id": "FkrzMx3TloWk"
      },
      "source": [
        "del df['Unnamed: 0']"
      ],
      "execution_count": 8,
      "outputs": []
    },
    {
      "cell_type": "code",
      "metadata": {
        "colab": {
          "base_uri": "https://localhost:8080/"
        },
        "id": "1ZAMoM2ajA6I",
        "outputId": "c78b5958-10bc-4771-dbed-34136b75f444"
      },
      "source": [
        "df.shape"
      ],
      "execution_count": 9,
      "outputs": [
        {
          "output_type": "execute_result",
          "data": {
            "text/plain": [
              "(221220, 2)"
            ]
          },
          "metadata": {
            "tags": []
          },
          "execution_count": 9
        }
      ]
    },
    {
      "cell_type": "markdown",
      "metadata": {
        "id": "685zpRDjC58h"
      },
      "source": [
        "* Vérifier les valeurs nulles"
      ]
    },
    {
      "cell_type": "code",
      "metadata": {
        "colab": {
          "base_uri": "https://localhost:8080/"
        },
        "id": "9-NmJdhmhK5W",
        "outputId": "99bc6e7e-01ca-43eb-e9f9-9ddd5833fe6c"
      },
      "source": [
        "df.isnull().values.any()"
      ],
      "execution_count": 10,
      "outputs": [
        {
          "output_type": "execute_result",
          "data": {
            "text/plain": [
              "False"
            ]
          },
          "metadata": {
            "tags": []
          },
          "execution_count": 10
        }
      ]
    },
    {
      "cell_type": "markdown",
      "metadata": {
        "id": "mp3wlBLbltvM"
      },
      "source": [
        "* Nous supprimons ensuite les caractères non alphanumériques."
      ]
    },
    {
      "cell_type": "code",
      "metadata": {
        "id": "5dKtmLcIg-L6"
      },
      "source": [
        "def clean_data(log):\n",
        "    log = re.sub(\"'\", \"\", log)\n",
        "    log = re.sub(\"-\", \"\", log)\n",
        "    log = re.sub(\"(\\\\W)+\", \" \", log)\n",
        "    log = log.lower()\n",
        "    return log\n",
        "\n",
        "df['log'] = df['log'].apply(clean_data)"
      ],
      "execution_count": 11,
      "outputs": []
    },
    {
      "cell_type": "markdown",
      "metadata": {
        "id": "t94COKNemxbH"
      },
      "source": [
        "* Split the dataset into train set 80% et test sets 20%)"
      ]
    },
    {
      "cell_type": "code",
      "metadata": {
        "id": "n5kwEITAiez8"
      },
      "source": [
        "X_train, X_test, y_train, y_test = train_test_split(df['log'],df['label'], test_size=0.2,random_state=42)"
      ],
      "execution_count": 12,
      "outputs": []
    },
    {
      "cell_type": "markdown",
      "metadata": {
        "id": "Fs6cPEVJDvFm"
      },
      "source": [
        "# IV- Preparing the Embedding Layer"
      ]
    },
    {
      "cell_type": "markdown",
      "metadata": {
        "id": "Y6erncuPFx81"
      },
      "source": [
        "nous utiliserons la classe Tokenizer du module keras.preprocessing.text pour créer un dictionnaire de word-to-index . Dans le dictionnaire, chaque mot est utilisé comme clé, tandis qu'un index unique correspondant est utilisé comme valeur pour la clé."
      ]
    },
    {
      "cell_type": "code",
      "metadata": {
        "id": "Nv_DaokYjRFi"
      },
      "source": [
        "tokenizer = Tokenizer()\n",
        "tokenizer.fit_on_texts(X_train)\n",
        "\n",
        "X_train = tokenizer.texts_to_sequences(X_train)\n",
        "X_test = tokenizer.texts_to_sequences(X_test)"
      ],
      "execution_count": 13,
      "outputs": []
    },
    {
      "cell_type": "markdown",
      "metadata": {
        "id": "TOo_yb2QGP2q"
      },
      "source": [
        "Nous fixons la taille maximale à 114. Les listes de taille supérieure à 114 seront tronquées à 114. Pour les listes dont la longueur est inférieure à 114, nous ajouterons 0 à la fin de la liste jusqu'à ce qu'elle atteigne la longueur maximale."
      ]
    },
    {
      "cell_type": "code",
      "metadata": {
        "id": "2v1cM7DkjvfI"
      },
      "source": [
        "vocab_size = len(tokenizer.word_index) + 1\n",
        "\n",
        "maxlen = 114\n",
        "\n",
        "X_train = pad_sequences(X_train, padding='post', maxlen=maxlen)\n",
        "X_test = pad_sequences(X_test, padding='post', maxlen=maxlen)"
      ],
      "execution_count": 14,
      "outputs": []
    },
    {
      "cell_type": "markdown",
      "metadata": {
        "id": "04wvSErOG3FK"
      },
      "source": [
        "Nous utiliserons GloVe embeddings pour créer feature matrix, j'ai essayé d'importer Glove sur mon drive\n",
        "* vous pouvez la trouver sur : https://drive.google.com/file/d/17PIgUPWrXOLFbUYqTAnl1cgWqnWHgX1B/view?usp=sharing"
      ]
    },
    {
      "cell_type": "code",
      "metadata": {
        "id": "wOS5ffsdkAiu"
      },
      "source": [
        "from numpy import array\n",
        "from numpy import asarray\n",
        "from numpy import zeros\n",
        "\n",
        "glove_path=r'/gdrive/My Drive/glove.6B.100d.txt'\n",
        "embeddings_dictionary = dict()\n",
        "glove_file = open(glove_path, encoding=\"utf8\")\n",
        "\n",
        "for line in glove_file:\n",
        "    records = line.split()\n",
        "    word = records[0]\n",
        "    vector_dimensions = asarray(records[1:], dtype='float32')\n",
        "    embeddings_dictionary [word] = vector_dimensions\n",
        "glove_file.close()"
      ],
      "execution_count": 15,
      "outputs": []
    },
    {
      "cell_type": "markdown",
      "metadata": {
        "id": "jxW3vnn6INGC"
      },
      "source": [
        "Enfin, nous allons créer une embedding matrix où chaque numéro de ligne correspondra à l'index du mot. La matrice aura 100 colonnes où chaque colonne contiendra les embeddings de mots GloVe."
      ]
    },
    {
      "cell_type": "code",
      "metadata": {
        "id": "eKSc-2jom30B"
      },
      "source": [
        "embedding_matrix = zeros((vocab_size,100))\n",
        "for word, index in tokenizer.word_index.items():\n",
        "    embedding_vector = embeddings_dictionary.get(word)\n",
        "    if embedding_vector is not None:\n",
        "        embedding_matrix[index] = embedding_vector"
      ],
      "execution_count": 16,
      "outputs": []
    },
    {
      "cell_type": "markdown",
      "metadata": {
        "id": "QQUyrighIdMd"
      },
      "source": [
        "# V- CNN model"
      ]
    },
    {
      "cell_type": "markdown",
      "metadata": {
        "id": "mHfkvOXQoHFD"
      },
      "source": [
        "* Construire le model"
      ]
    },
    {
      "cell_type": "code",
      "metadata": {
        "id": "vnPEv7_tapmK"
      },
      "source": [
        "from keras.layers import MaxPooling1D,Conv1D,GlobalMaxPooling1D\n",
        "from keras.models import Sequential, Model\n",
        "from keras.layers import Activation, Dense, Dropout, Flatten, Input, merge,Concatenate\n",
        "\n",
        "\n",
        "\n",
        "###Building the Model. \n",
        "input_tensor = Input(shape=(114,))\n",
        "# Créer un embedding layer(2D)\n",
        "input_layer= Embedding(vocab_size,100, weights=[embedding_matrix], input_length=maxlen , trainable=False)(input_tensor)\n",
        "#liste où on va stocker l'output\n",
        "uni_vec = []\n",
        "#nous allons utiliser 3 filtres avec des n-grams différents( 2-grams, 3-grams, 4-grams)\n",
        "filter_sizes = (2,3,4)\n",
        "for ks in filter_sizes:\n",
        "    #applique 3 convolutions différents à l'embedding layer\n",
        "    conv_layer= Conv1D(128, kernel_size=ks, activation='relu')(input_layer)\n",
        "    maxpool_layer = MaxPooling1D(4)(conv_layer)\n",
        "    flat_layer= Flatten()(maxpool_layer)\n",
        "    uni_vec.append(flat_layer)\n",
        "\n",
        "# concatiner les outputs \n",
        "single_feature_vector = keras.layers.concatenate(uni_vec)\n",
        "#fully Connected Layers\n",
        "dense = Dense(128, activation='relu')(single_feature_vector)\n",
        "dense2 = Dense(128, activation='relu')(dense)\n",
        "out = Dense(1, activation='sigmoid')(dense2)\n",
        "model = Model(inputs=input_tensor, outputs=out)\n",
        "\n"
      ],
      "execution_count": 34,
      "outputs": []
    },
    {
      "cell_type": "code",
      "metadata": {
        "colab": {
          "base_uri": "https://localhost:8080/",
          "height": 906
        },
        "id": "gR9pjhXteuXp",
        "outputId": "9e53c33c-9fa1-4c51-ff13-846ee3abe749"
      },
      "source": [
        "from IPython.display import SVG\n",
        "from keras.utils.vis_utils import model_to_dot\n",
        "\n",
        "SVG(model_to_dot(model, show_shapes= True, show_layer_names=True, dpi=65).create(prog='dot', format='svg'))"
      ],
      "execution_count": 35,
      "outputs": [
        {
          "output_type": "execute_result",
          "data": {
            "text/plain": [
              "<IPython.core.display.SVG object>"
            ],
            "image/svg+xml": "<svg height=\"649pt\" viewBox=\"0.00 0.00 1244.50 719.00\" width=\"1124pt\" xmlns=\"http://www.w3.org/2000/svg\" xmlns:xlink=\"http://www.w3.org/1999/xlink\">\n<g class=\"graph\" id=\"graph0\" transform=\"scale(.9028 .9028) rotate(0) translate(4 715)\">\n<title>G</title>\n<polygon fill=\"#ffffff\" points=\"-4,4 -4,-715 1240.5,-715 1240.5,4 -4,4\" stroke=\"transparent\"/>\n<!-- 140554766528080 -->\n<g class=\"node\" id=\"node1\">\n<title>140554766528080</title>\n<polygon fill=\"none\" points=\"471.5,-664.5 471.5,-710.5 757.5,-710.5 757.5,-664.5 471.5,-664.5\" stroke=\"#000000\"/>\n<text fill=\"#000000\" font-family=\"Times,serif\" font-size=\"14.00\" text-anchor=\"middle\" x=\"538\" y=\"-683.8\">input_4: InputLayer</text>\n<polyline fill=\"none\" points=\"604.5,-664.5 604.5,-710.5 \" stroke=\"#000000\"/>\n<text fill=\"#000000\" font-family=\"Times,serif\" font-size=\"14.00\" text-anchor=\"middle\" x=\"633.5\" y=\"-695.3\">input:</text>\n<polyline fill=\"none\" points=\"604.5,-687.5 662.5,-687.5 \" stroke=\"#000000\"/>\n<text fill=\"#000000\" font-family=\"Times,serif\" font-size=\"14.00\" text-anchor=\"middle\" x=\"633.5\" y=\"-672.3\">output:</text>\n<polyline fill=\"none\" points=\"662.5,-664.5 662.5,-710.5 \" stroke=\"#000000\"/>\n<text fill=\"#000000\" font-family=\"Times,serif\" font-size=\"14.00\" text-anchor=\"middle\" x=\"710\" y=\"-695.3\">[(None, 114)]</text>\n<polyline fill=\"none\" points=\"662.5,-687.5 757.5,-687.5 \" stroke=\"#000000\"/>\n<text fill=\"#000000\" font-family=\"Times,serif\" font-size=\"14.00\" text-anchor=\"middle\" x=\"710\" y=\"-672.3\">[(None, 114)]</text>\n</g>\n<!-- 140554772843920 -->\n<g class=\"node\" id=\"node2\">\n<title>140554772843920</title>\n<polygon fill=\"none\" points=\"442,-581.5 442,-627.5 787,-627.5 787,-581.5 442,-581.5\" stroke=\"#000000\"/>\n<text fill=\"#000000\" font-family=\"Times,serif\" font-size=\"14.00\" text-anchor=\"middle\" x=\"527.5\" y=\"-600.8\">embedding_4: Embedding</text>\n<polyline fill=\"none\" points=\"613,-581.5 613,-627.5 \" stroke=\"#000000\"/>\n<text fill=\"#000000\" font-family=\"Times,serif\" font-size=\"14.00\" text-anchor=\"middle\" x=\"642\" y=\"-612.3\">input:</text>\n<polyline fill=\"none\" points=\"613,-604.5 671,-604.5 \" stroke=\"#000000\"/>\n<text fill=\"#000000\" font-family=\"Times,serif\" font-size=\"14.00\" text-anchor=\"middle\" x=\"642\" y=\"-589.3\">output:</text>\n<polyline fill=\"none\" points=\"671,-581.5 671,-627.5 \" stroke=\"#000000\"/>\n<text fill=\"#000000\" font-family=\"Times,serif\" font-size=\"14.00\" text-anchor=\"middle\" x=\"729\" y=\"-612.3\">(None, 114)</text>\n<polyline fill=\"none\" points=\"671,-604.5 787,-604.5 \" stroke=\"#000000\"/>\n<text fill=\"#000000\" font-family=\"Times,serif\" font-size=\"14.00\" text-anchor=\"middle\" x=\"729\" y=\"-589.3\">(None, 114, 100)</text>\n</g>\n<!-- 140554766528080&#45;&gt;140554772843920 -->\n<g class=\"edge\" id=\"edge1\">\n<title>140554766528080-&gt;140554772843920</title>\n<path d=\"M614.5,-664.3799C614.5,-656.1745 614.5,-646.7679 614.5,-637.8786\" fill=\"none\" stroke=\"#000000\"/>\n<polygon fill=\"#000000\" points=\"618.0001,-637.784 614.5,-627.784 611.0001,-637.784 618.0001,-637.784\" stroke=\"#000000\"/>\n</g>\n<!-- 140554746019344 -->\n<g class=\"node\" id=\"node3\">\n<title>140554746019344</title>\n<polygon fill=\"none\" points=\"88,-498.5 88,-544.5 395,-544.5 395,-498.5 88,-498.5\" stroke=\"#000000\"/>\n<text fill=\"#000000\" font-family=\"Times,serif\" font-size=\"14.00\" text-anchor=\"middle\" x=\"154.5\" y=\"-517.8\">conv1d_9: Conv1D</text>\n<polyline fill=\"none\" points=\"221,-498.5 221,-544.5 \" stroke=\"#000000\"/>\n<text fill=\"#000000\" font-family=\"Times,serif\" font-size=\"14.00\" text-anchor=\"middle\" x=\"250\" y=\"-529.3\">input:</text>\n<polyline fill=\"none\" points=\"221,-521.5 279,-521.5 \" stroke=\"#000000\"/>\n<text fill=\"#000000\" font-family=\"Times,serif\" font-size=\"14.00\" text-anchor=\"middle\" x=\"250\" y=\"-506.3\">output:</text>\n<polyline fill=\"none\" points=\"279,-498.5 279,-544.5 \" stroke=\"#000000\"/>\n<text fill=\"#000000\" font-family=\"Times,serif\" font-size=\"14.00\" text-anchor=\"middle\" x=\"337\" y=\"-529.3\">(None, 114, 100)</text>\n<polyline fill=\"none\" points=\"279,-521.5 395,-521.5 \" stroke=\"#000000\"/>\n<text fill=\"#000000\" font-family=\"Times,serif\" font-size=\"14.00\" text-anchor=\"middle\" x=\"337\" y=\"-506.3\">(None, 113, 128)</text>\n</g>\n<!-- 140554772843920&#45;&gt;140554746019344 -->\n<g class=\"edge\" id=\"edge2\">\n<title>140554772843920-&gt;140554746019344</title>\n<path d=\"M511.094,-581.4901C462.5839,-570.6956 404.6459,-557.8033 354.9345,-546.7415\" fill=\"none\" stroke=\"#000000\"/>\n<polygon fill=\"#000000\" points=\"355.6286,-543.3104 345.1071,-544.5547 354.1081,-550.1433 355.6286,-543.3104\" stroke=\"#000000\"/>\n</g>\n<!-- 140554747193424 -->\n<g class=\"node\" id=\"node4\">\n<title>140554747193424</title>\n<polygon fill=\"none\" points=\"457.5,-498.5 457.5,-544.5 771.5,-544.5 771.5,-498.5 457.5,-498.5\" stroke=\"#000000\"/>\n<text fill=\"#000000\" font-family=\"Times,serif\" font-size=\"14.00\" text-anchor=\"middle\" x=\"527.5\" y=\"-517.8\">conv1d_10: Conv1D</text>\n<polyline fill=\"none\" points=\"597.5,-498.5 597.5,-544.5 \" stroke=\"#000000\"/>\n<text fill=\"#000000\" font-family=\"Times,serif\" font-size=\"14.00\" text-anchor=\"middle\" x=\"626.5\" y=\"-529.3\">input:</text>\n<polyline fill=\"none\" points=\"597.5,-521.5 655.5,-521.5 \" stroke=\"#000000\"/>\n<text fill=\"#000000\" font-family=\"Times,serif\" font-size=\"14.00\" text-anchor=\"middle\" x=\"626.5\" y=\"-506.3\">output:</text>\n<polyline fill=\"none\" points=\"655.5,-498.5 655.5,-544.5 \" stroke=\"#000000\"/>\n<text fill=\"#000000\" font-family=\"Times,serif\" font-size=\"14.00\" text-anchor=\"middle\" x=\"713.5\" y=\"-529.3\">(None, 114, 100)</text>\n<polyline fill=\"none\" points=\"655.5,-521.5 771.5,-521.5 \" stroke=\"#000000\"/>\n<text fill=\"#000000\" font-family=\"Times,serif\" font-size=\"14.00\" text-anchor=\"middle\" x=\"713.5\" y=\"-506.3\">(None, 112, 128)</text>\n</g>\n<!-- 140554772843920&#45;&gt;140554747193424 -->\n<g class=\"edge\" id=\"edge3\">\n<title>140554772843920-&gt;140554747193424</title>\n<path d=\"M614.5,-581.3799C614.5,-573.1745 614.5,-563.7679 614.5,-554.8786\" fill=\"none\" stroke=\"#000000\"/>\n<polygon fill=\"#000000\" points=\"618.0001,-554.784 614.5,-544.784 611.0001,-554.784 618.0001,-554.784\" stroke=\"#000000\"/>\n</g>\n<!-- 140554750444688 -->\n<g class=\"node\" id=\"node5\">\n<title>140554750444688</title>\n<polygon fill=\"none\" points=\"833.5,-498.5 833.5,-544.5 1147.5,-544.5 1147.5,-498.5 833.5,-498.5\" stroke=\"#000000\"/>\n<text fill=\"#000000\" font-family=\"Times,serif\" font-size=\"14.00\" text-anchor=\"middle\" x=\"903.5\" y=\"-517.8\">conv1d_11: Conv1D</text>\n<polyline fill=\"none\" points=\"973.5,-498.5 973.5,-544.5 \" stroke=\"#000000\"/>\n<text fill=\"#000000\" font-family=\"Times,serif\" font-size=\"14.00\" text-anchor=\"middle\" x=\"1002.5\" y=\"-529.3\">input:</text>\n<polyline fill=\"none\" points=\"973.5,-521.5 1031.5,-521.5 \" stroke=\"#000000\"/>\n<text fill=\"#000000\" font-family=\"Times,serif\" font-size=\"14.00\" text-anchor=\"middle\" x=\"1002.5\" y=\"-506.3\">output:</text>\n<polyline fill=\"none\" points=\"1031.5,-498.5 1031.5,-544.5 \" stroke=\"#000000\"/>\n<text fill=\"#000000\" font-family=\"Times,serif\" font-size=\"14.00\" text-anchor=\"middle\" x=\"1089.5\" y=\"-529.3\">(None, 114, 100)</text>\n<polyline fill=\"none\" points=\"1031.5,-521.5 1147.5,-521.5 \" stroke=\"#000000\"/>\n<text fill=\"#000000\" font-family=\"Times,serif\" font-size=\"14.00\" text-anchor=\"middle\" x=\"1089.5\" y=\"-506.3\">(None, 111, 128)</text>\n</g>\n<!-- 140554772843920&#45;&gt;140554750444688 -->\n<g class=\"edge\" id=\"edge4\">\n<title>140554772843920-&gt;140554750444688</title>\n<path d=\"M718.7376,-581.4901C767.6379,-570.6956 826.0419,-557.8033 876.1532,-546.7415\" fill=\"none\" stroke=\"#000000\"/>\n<polygon fill=\"#000000\" points=\"877.0491,-550.128 886.0596,-544.5547 875.5402,-543.2926 877.0491,-550.128\" stroke=\"#000000\"/>\n</g>\n<!-- 140554756480144 -->\n<g class=\"node\" id=\"node6\">\n<title>140554756480144</title>\n<polygon fill=\"none\" points=\"0,-415.5 0,-461.5 395,-461.5 395,-415.5 0,-415.5\" stroke=\"#000000\"/>\n<text fill=\"#000000\" font-family=\"Times,serif\" font-size=\"14.00\" text-anchor=\"middle\" x=\"110.5\" y=\"-434.8\">max_pooling1d_9: MaxPooling1D</text>\n<polyline fill=\"none\" points=\"221,-415.5 221,-461.5 \" stroke=\"#000000\"/>\n<text fill=\"#000000\" font-family=\"Times,serif\" font-size=\"14.00\" text-anchor=\"middle\" x=\"250\" y=\"-446.3\">input:</text>\n<polyline fill=\"none\" points=\"221,-438.5 279,-438.5 \" stroke=\"#000000\"/>\n<text fill=\"#000000\" font-family=\"Times,serif\" font-size=\"14.00\" text-anchor=\"middle\" x=\"250\" y=\"-423.3\">output:</text>\n<polyline fill=\"none\" points=\"279,-415.5 279,-461.5 \" stroke=\"#000000\"/>\n<text fill=\"#000000\" font-family=\"Times,serif\" font-size=\"14.00\" text-anchor=\"middle\" x=\"337\" y=\"-446.3\">(None, 113, 128)</text>\n<polyline fill=\"none\" points=\"279,-438.5 395,-438.5 \" stroke=\"#000000\"/>\n<text fill=\"#000000\" font-family=\"Times,serif\" font-size=\"14.00\" text-anchor=\"middle\" x=\"337\" y=\"-423.3\">(None, 28, 128)</text>\n</g>\n<!-- 140554746019344&#45;&gt;140554756480144 -->\n<g class=\"edge\" id=\"edge5\">\n<title>140554746019344-&gt;140554756480144</title>\n<path d=\"M229.2435,-498.3799C224.7046,-489.8178 219.4723,-479.9477 214.5817,-470.7222\" fill=\"none\" stroke=\"#000000\"/>\n<polygon fill=\"#000000\" points=\"217.6195,-468.98 209.8433,-461.784 211.4348,-472.2586 217.6195,-468.98\" stroke=\"#000000\"/>\n</g>\n<!-- 140554746953488 -->\n<g class=\"node\" id=\"node7\">\n<title>140554746953488</title>\n<polygon fill=\"none\" points=\"413,-415.5 413,-461.5 816,-461.5 816,-415.5 413,-415.5\" stroke=\"#000000\"/>\n<text fill=\"#000000\" font-family=\"Times,serif\" font-size=\"14.00\" text-anchor=\"middle\" x=\"527.5\" y=\"-434.8\">max_pooling1d_10: MaxPooling1D</text>\n<polyline fill=\"none\" points=\"642,-415.5 642,-461.5 \" stroke=\"#000000\"/>\n<text fill=\"#000000\" font-family=\"Times,serif\" font-size=\"14.00\" text-anchor=\"middle\" x=\"671\" y=\"-446.3\">input:</text>\n<polyline fill=\"none\" points=\"642,-438.5 700,-438.5 \" stroke=\"#000000\"/>\n<text fill=\"#000000\" font-family=\"Times,serif\" font-size=\"14.00\" text-anchor=\"middle\" x=\"671\" y=\"-423.3\">output:</text>\n<polyline fill=\"none\" points=\"700,-415.5 700,-461.5 \" stroke=\"#000000\"/>\n<text fill=\"#000000\" font-family=\"Times,serif\" font-size=\"14.00\" text-anchor=\"middle\" x=\"758\" y=\"-446.3\">(None, 112, 128)</text>\n<polyline fill=\"none\" points=\"700,-438.5 816,-438.5 \" stroke=\"#000000\"/>\n<text fill=\"#000000\" font-family=\"Times,serif\" font-size=\"14.00\" text-anchor=\"middle\" x=\"758\" y=\"-423.3\">(None, 28, 128)</text>\n</g>\n<!-- 140554747193424&#45;&gt;140554746953488 -->\n<g class=\"edge\" id=\"edge6\">\n<title>140554747193424-&gt;140554746953488</title>\n<path d=\"M614.5,-498.3799C614.5,-490.1745 614.5,-480.7679 614.5,-471.8786\" fill=\"none\" stroke=\"#000000\"/>\n<polygon fill=\"#000000\" points=\"618.0001,-471.784 614.5,-461.784 611.0001,-471.784 618.0001,-471.784\" stroke=\"#000000\"/>\n</g>\n<!-- 140554764444816 -->\n<g class=\"node\" id=\"node8\">\n<title>140554764444816</title>\n<polygon fill=\"none\" points=\"834.5,-415.5 834.5,-461.5 1236.5,-461.5 1236.5,-415.5 834.5,-415.5\" stroke=\"#000000\"/>\n<text fill=\"#000000\" font-family=\"Times,serif\" font-size=\"14.00\" text-anchor=\"middle\" x=\"948.5\" y=\"-434.8\">max_pooling1d_11: MaxPooling1D</text>\n<polyline fill=\"none\" points=\"1062.5,-415.5 1062.5,-461.5 \" stroke=\"#000000\"/>\n<text fill=\"#000000\" font-family=\"Times,serif\" font-size=\"14.00\" text-anchor=\"middle\" x=\"1091.5\" y=\"-446.3\">input:</text>\n<polyline fill=\"none\" points=\"1062.5,-438.5 1120.5,-438.5 \" stroke=\"#000000\"/>\n<text fill=\"#000000\" font-family=\"Times,serif\" font-size=\"14.00\" text-anchor=\"middle\" x=\"1091.5\" y=\"-423.3\">output:</text>\n<polyline fill=\"none\" points=\"1120.5,-415.5 1120.5,-461.5 \" stroke=\"#000000\"/>\n<text fill=\"#000000\" font-family=\"Times,serif\" font-size=\"14.00\" text-anchor=\"middle\" x=\"1178.5\" y=\"-446.3\">(None, 111, 128)</text>\n<polyline fill=\"none\" points=\"1120.5,-438.5 1236.5,-438.5 \" stroke=\"#000000\"/>\n<text fill=\"#000000\" font-family=\"Times,serif\" font-size=\"14.00\" text-anchor=\"middle\" x=\"1178.5\" y=\"-423.3\">(None, 27, 128)</text>\n</g>\n<!-- 140554750444688&#45;&gt;140554764444816 -->\n<g class=\"edge\" id=\"edge7\">\n<title>140554750444688-&gt;140554764444816</title>\n<path d=\"M1003.035,-498.3799C1007.6771,-489.8178 1013.0284,-479.9477 1018.0301,-470.7222\" fill=\"none\" stroke=\"#000000\"/>\n<polygon fill=\"#000000\" points=\"1021.1867,-472.2433 1022.8761,-461.784 1015.033,-468.9069 1021.1867,-472.2433\" stroke=\"#000000\"/>\n</g>\n<!-- 140554745226896 -->\n<g class=\"node\" id=\"node9\">\n<title>140554745226896</title>\n<polygon fill=\"none\" points=\"114,-332.5 114,-378.5 395,-378.5 395,-332.5 114,-332.5\" stroke=\"#000000\"/>\n<text fill=\"#000000\" font-family=\"Times,serif\" font-size=\"14.00\" text-anchor=\"middle\" x=\"170.5\" y=\"-351.8\">flatten_9: Flatten</text>\n<polyline fill=\"none\" points=\"227,-332.5 227,-378.5 \" stroke=\"#000000\"/>\n<text fill=\"#000000\" font-family=\"Times,serif\" font-size=\"14.00\" text-anchor=\"middle\" x=\"256\" y=\"-363.3\">input:</text>\n<polyline fill=\"none\" points=\"227,-355.5 285,-355.5 \" stroke=\"#000000\"/>\n<text fill=\"#000000\" font-family=\"Times,serif\" font-size=\"14.00\" text-anchor=\"middle\" x=\"256\" y=\"-340.3\">output:</text>\n<polyline fill=\"none\" points=\"285,-332.5 285,-378.5 \" stroke=\"#000000\"/>\n<text fill=\"#000000\" font-family=\"Times,serif\" font-size=\"14.00\" text-anchor=\"middle\" x=\"340\" y=\"-363.3\">(None, 28, 128)</text>\n<polyline fill=\"none\" points=\"285,-355.5 395,-355.5 \" stroke=\"#000000\"/>\n<text fill=\"#000000\" font-family=\"Times,serif\" font-size=\"14.00\" text-anchor=\"middle\" x=\"340\" y=\"-340.3\">(None, 3584)</text>\n</g>\n<!-- 140554756480144&#45;&gt;140554745226896 -->\n<g class=\"edge\" id=\"edge8\">\n<title>140554756480144-&gt;140554745226896</title>\n<path d=\"M213.3777,-415.3799C219.3802,-406.6394 226.3188,-396.5358 232.7669,-387.1465\" fill=\"none\" stroke=\"#000000\"/>\n<polygon fill=\"#000000\" points=\"235.7338,-389.0087 238.5098,-378.784 229.9635,-385.0459 235.7338,-389.0087\" stroke=\"#000000\"/>\n</g>\n<!-- 140554745308944 -->\n<g class=\"node\" id=\"node10\">\n<title>140554745308944</title>\n<polygon fill=\"none\" points=\"470,-332.5 470,-378.5 759,-378.5 759,-332.5 470,-332.5\" stroke=\"#000000\"/>\n<text fill=\"#000000\" font-family=\"Times,serif\" font-size=\"14.00\" text-anchor=\"middle\" x=\"530.5\" y=\"-351.8\">flatten_10: Flatten</text>\n<polyline fill=\"none\" points=\"591,-332.5 591,-378.5 \" stroke=\"#000000\"/>\n<text fill=\"#000000\" font-family=\"Times,serif\" font-size=\"14.00\" text-anchor=\"middle\" x=\"620\" y=\"-363.3\">input:</text>\n<polyline fill=\"none\" points=\"591,-355.5 649,-355.5 \" stroke=\"#000000\"/>\n<text fill=\"#000000\" font-family=\"Times,serif\" font-size=\"14.00\" text-anchor=\"middle\" x=\"620\" y=\"-340.3\">output:</text>\n<polyline fill=\"none\" points=\"649,-332.5 649,-378.5 \" stroke=\"#000000\"/>\n<text fill=\"#000000\" font-family=\"Times,serif\" font-size=\"14.00\" text-anchor=\"middle\" x=\"704\" y=\"-363.3\">(None, 28, 128)</text>\n<polyline fill=\"none\" points=\"649,-355.5 759,-355.5 \" stroke=\"#000000\"/>\n<text fill=\"#000000\" font-family=\"Times,serif\" font-size=\"14.00\" text-anchor=\"middle\" x=\"704\" y=\"-340.3\">(None, 3584)</text>\n</g>\n<!-- 140554746953488&#45;&gt;140554745308944 -->\n<g class=\"edge\" id=\"edge9\">\n<title>140554746953488-&gt;140554745308944</title>\n<path d=\"M614.5,-415.3799C614.5,-407.1745 614.5,-397.7679 614.5,-388.8786\" fill=\"none\" stroke=\"#000000\"/>\n<polygon fill=\"#000000\" points=\"618.0001,-388.784 614.5,-378.784 611.0001,-388.784 618.0001,-388.784\" stroke=\"#000000\"/>\n</g>\n<!-- 140554744618576 -->\n<g class=\"node\" id=\"node11\">\n<title>140554744618576</title>\n<polygon fill=\"none\" points=\"834.5,-332.5 834.5,-378.5 1122.5,-378.5 1122.5,-332.5 834.5,-332.5\" stroke=\"#000000\"/>\n<text fill=\"#000000\" font-family=\"Times,serif\" font-size=\"14.00\" text-anchor=\"middle\" x=\"894.5\" y=\"-351.8\">flatten_11: Flatten</text>\n<polyline fill=\"none\" points=\"954.5,-332.5 954.5,-378.5 \" stroke=\"#000000\"/>\n<text fill=\"#000000\" font-family=\"Times,serif\" font-size=\"14.00\" text-anchor=\"middle\" x=\"983.5\" y=\"-363.3\">input:</text>\n<polyline fill=\"none\" points=\"954.5,-355.5 1012.5,-355.5 \" stroke=\"#000000\"/>\n<text fill=\"#000000\" font-family=\"Times,serif\" font-size=\"14.00\" text-anchor=\"middle\" x=\"983.5\" y=\"-340.3\">output:</text>\n<polyline fill=\"none\" points=\"1012.5,-332.5 1012.5,-378.5 \" stroke=\"#000000\"/>\n<text fill=\"#000000\" font-family=\"Times,serif\" font-size=\"14.00\" text-anchor=\"middle\" x=\"1067.5\" y=\"-363.3\">(None, 27, 128)</text>\n<polyline fill=\"none\" points=\"1012.5,-355.5 1122.5,-355.5 \" stroke=\"#000000\"/>\n<text fill=\"#000000\" font-family=\"Times,serif\" font-size=\"14.00\" text-anchor=\"middle\" x=\"1067.5\" y=\"-340.3\">(None, 3456)</text>\n</g>\n<!-- 140554764444816&#45;&gt;140554744618576 -->\n<g class=\"edge\" id=\"edge10\">\n<title>140554764444816-&gt;140554744618576</title>\n<path d=\"M1019.6223,-415.3799C1013.6198,-406.6394 1006.6812,-396.5358 1000.2331,-387.1465\" fill=\"none\" stroke=\"#000000\"/>\n<polygon fill=\"#000000\" points=\"1003.0365,-385.0459 994.4902,-378.784 997.2662,-389.0087 1003.0365,-385.0459\" stroke=\"#000000\"/>\n</g>\n<!-- 140554757214736 -->\n<g class=\"node\" id=\"node12\">\n<title>140554757214736</title>\n<polygon fill=\"none\" points=\"360.5,-249.5 360.5,-295.5 868.5,-295.5 868.5,-249.5 360.5,-249.5\" stroke=\"#000000\"/>\n<text fill=\"#000000\" font-family=\"Times,serif\" font-size=\"14.00\" text-anchor=\"middle\" x=\"448\" y=\"-268.8\">concatenate_3: Concatenate</text>\n<polyline fill=\"none\" points=\"535.5,-249.5 535.5,-295.5 \" stroke=\"#000000\"/>\n<text fill=\"#000000\" font-family=\"Times,serif\" font-size=\"14.00\" text-anchor=\"middle\" x=\"564.5\" y=\"-280.3\">input:</text>\n<polyline fill=\"none\" points=\"535.5,-272.5 593.5,-272.5 \" stroke=\"#000000\"/>\n<text fill=\"#000000\" font-family=\"Times,serif\" font-size=\"14.00\" text-anchor=\"middle\" x=\"564.5\" y=\"-257.3\">output:</text>\n<polyline fill=\"none\" points=\"593.5,-249.5 593.5,-295.5 \" stroke=\"#000000\"/>\n<text fill=\"#000000\" font-family=\"Times,serif\" font-size=\"14.00\" text-anchor=\"middle\" x=\"731\" y=\"-280.3\">[(None, 3584), (None, 3584), (None, 3456)]</text>\n<polyline fill=\"none\" points=\"593.5,-272.5 868.5,-272.5 \" stroke=\"#000000\"/>\n<text fill=\"#000000\" font-family=\"Times,serif\" font-size=\"14.00\" text-anchor=\"middle\" x=\"731\" y=\"-257.3\">(None, 10624)</text>\n</g>\n<!-- 140554745226896&#45;&gt;140554757214736 -->\n<g class=\"edge\" id=\"edge11\">\n<title>140554745226896-&gt;140554757214736</title>\n<path d=\"M354.302,-332.4901C401.0238,-321.7181 456.8072,-308.857 504.719,-297.8106\" fill=\"none\" stroke=\"#000000\"/>\n<polygon fill=\"#000000\" points=\"505.5458,-301.2119 514.5039,-295.5547 503.9731,-294.3908 505.5458,-301.2119\" stroke=\"#000000\"/>\n</g>\n<!-- 140554745308944&#45;&gt;140554757214736 -->\n<g class=\"edge\" id=\"edge12\">\n<title>140554745308944-&gt;140554757214736</title>\n<path d=\"M614.5,-332.3799C614.5,-324.1745 614.5,-314.7679 614.5,-305.8786\" fill=\"none\" stroke=\"#000000\"/>\n<polygon fill=\"#000000\" points=\"618.0001,-305.784 614.5,-295.784 611.0001,-305.784 618.0001,-305.784\" stroke=\"#000000\"/>\n</g>\n<!-- 140554744618576&#45;&gt;140554757214736 -->\n<g class=\"edge\" id=\"edge13\">\n<title>140554744618576-&gt;140554757214736</title>\n<path d=\"M877.5891,-332.4901C830.3481,-321.7181 773.945,-308.857 725.5008,-297.8106\" fill=\"none\" stroke=\"#000000\"/>\n<polygon fill=\"#000000\" points=\"726.1351,-294.3655 715.6072,-295.5547 724.5788,-301.1903 726.1351,-294.3655\" stroke=\"#000000\"/>\n</g>\n<!-- 140554750446928 -->\n<g class=\"node\" id=\"node13\">\n<title>140554750446928</title>\n<polygon fill=\"none\" points=\"477.5,-166.5 477.5,-212.5 751.5,-212.5 751.5,-166.5 477.5,-166.5\" stroke=\"#000000\"/>\n<text fill=\"#000000\" font-family=\"Times,serif\" font-size=\"14.00\" text-anchor=\"middle\" x=\"534.5\" y=\"-185.8\">dense_12: Dense</text>\n<polyline fill=\"none\" points=\"591.5,-166.5 591.5,-212.5 \" stroke=\"#000000\"/>\n<text fill=\"#000000\" font-family=\"Times,serif\" font-size=\"14.00\" text-anchor=\"middle\" x=\"620.5\" y=\"-197.3\">input:</text>\n<polyline fill=\"none\" points=\"591.5,-189.5 649.5,-189.5 \" stroke=\"#000000\"/>\n<text fill=\"#000000\" font-family=\"Times,serif\" font-size=\"14.00\" text-anchor=\"middle\" x=\"620.5\" y=\"-174.3\">output:</text>\n<polyline fill=\"none\" points=\"649.5,-166.5 649.5,-212.5 \" stroke=\"#000000\"/>\n<text fill=\"#000000\" font-family=\"Times,serif\" font-size=\"14.00\" text-anchor=\"middle\" x=\"700.5\" y=\"-197.3\">(None, 10624)</text>\n<polyline fill=\"none\" points=\"649.5,-189.5 751.5,-189.5 \" stroke=\"#000000\"/>\n<text fill=\"#000000\" font-family=\"Times,serif\" font-size=\"14.00\" text-anchor=\"middle\" x=\"700.5\" y=\"-174.3\">(None, 128)</text>\n</g>\n<!-- 140554757214736&#45;&gt;140554750446928 -->\n<g class=\"edge\" id=\"edge14\">\n<title>140554757214736-&gt;140554750446928</title>\n<path d=\"M614.5,-249.3799C614.5,-241.1745 614.5,-231.7679 614.5,-222.8786\" fill=\"none\" stroke=\"#000000\"/>\n<polygon fill=\"#000000\" points=\"618.0001,-222.784 614.5,-212.784 611.0001,-222.784 618.0001,-222.784\" stroke=\"#000000\"/>\n</g>\n<!-- 140554745370576 -->\n<g class=\"node\" id=\"node14\">\n<title>140554745370576</title>\n<polygon fill=\"none\" points=\"485,-83.5 485,-129.5 744,-129.5 744,-83.5 485,-83.5\" stroke=\"#000000\"/>\n<text fill=\"#000000\" font-family=\"Times,serif\" font-size=\"14.00\" text-anchor=\"middle\" x=\"542\" y=\"-102.8\">dense_13: Dense</text>\n<polyline fill=\"none\" points=\"599,-83.5 599,-129.5 \" stroke=\"#000000\"/>\n<text fill=\"#000000\" font-family=\"Times,serif\" font-size=\"14.00\" text-anchor=\"middle\" x=\"628\" y=\"-114.3\">input:</text>\n<polyline fill=\"none\" points=\"599,-106.5 657,-106.5 \" stroke=\"#000000\"/>\n<text fill=\"#000000\" font-family=\"Times,serif\" font-size=\"14.00\" text-anchor=\"middle\" x=\"628\" y=\"-91.3\">output:</text>\n<polyline fill=\"none\" points=\"657,-83.5 657,-129.5 \" stroke=\"#000000\"/>\n<text fill=\"#000000\" font-family=\"Times,serif\" font-size=\"14.00\" text-anchor=\"middle\" x=\"700.5\" y=\"-114.3\">(None, 128)</text>\n<polyline fill=\"none\" points=\"657,-106.5 744,-106.5 \" stroke=\"#000000\"/>\n<text fill=\"#000000\" font-family=\"Times,serif\" font-size=\"14.00\" text-anchor=\"middle\" x=\"700.5\" y=\"-91.3\">(None, 128)</text>\n</g>\n<!-- 140554750446928&#45;&gt;140554745370576 -->\n<g class=\"edge\" id=\"edge15\">\n<title>140554750446928-&gt;140554745370576</title>\n<path d=\"M614.5,-166.3799C614.5,-158.1745 614.5,-148.7679 614.5,-139.8786\" fill=\"none\" stroke=\"#000000\"/>\n<polygon fill=\"#000000\" points=\"618.0001,-139.784 614.5,-129.784 611.0001,-139.784 618.0001,-139.784\" stroke=\"#000000\"/>\n</g>\n<!-- 140554744668752 -->\n<g class=\"node\" id=\"node15\">\n<title>140554744668752</title>\n<polygon fill=\"none\" points=\"485,-.5 485,-46.5 744,-46.5 744,-.5 485,-.5\" stroke=\"#000000\"/>\n<text fill=\"#000000\" font-family=\"Times,serif\" font-size=\"14.00\" text-anchor=\"middle\" x=\"542\" y=\"-19.8\">dense_14: Dense</text>\n<polyline fill=\"none\" points=\"599,-.5 599,-46.5 \" stroke=\"#000000\"/>\n<text fill=\"#000000\" font-family=\"Times,serif\" font-size=\"14.00\" text-anchor=\"middle\" x=\"628\" y=\"-31.3\">input:</text>\n<polyline fill=\"none\" points=\"599,-23.5 657,-23.5 \" stroke=\"#000000\"/>\n<text fill=\"#000000\" font-family=\"Times,serif\" font-size=\"14.00\" text-anchor=\"middle\" x=\"628\" y=\"-8.3\">output:</text>\n<polyline fill=\"none\" points=\"657,-.5 657,-46.5 \" stroke=\"#000000\"/>\n<text fill=\"#000000\" font-family=\"Times,serif\" font-size=\"14.00\" text-anchor=\"middle\" x=\"700.5\" y=\"-31.3\">(None, 128)</text>\n<polyline fill=\"none\" points=\"657,-23.5 744,-23.5 \" stroke=\"#000000\"/>\n<text fill=\"#000000\" font-family=\"Times,serif\" font-size=\"14.00\" text-anchor=\"middle\" x=\"700.5\" y=\"-8.3\">(None, 1)</text>\n</g>\n<!-- 140554745370576&#45;&gt;140554744668752 -->\n<g class=\"edge\" id=\"edge16\">\n<title>140554745370576-&gt;140554744668752</title>\n<path d=\"M614.5,-83.3799C614.5,-75.1745 614.5,-65.7679 614.5,-56.8786\" fill=\"none\" stroke=\"#000000\"/>\n<polygon fill=\"#000000\" points=\"618.0001,-56.784 614.5,-46.784 611.0001,-56.784 618.0001,-56.784\" stroke=\"#000000\"/>\n</g>\n</g>\n</svg>"
          },
          "metadata": {
            "tags": []
          },
          "execution_count": 35
        }
      ]
    },
    {
      "cell_type": "markdown",
      "metadata": {
        "id": "vQ4SabuZwA7E"
      },
      "source": [
        "* compiler le model"
      ]
    },
    {
      "cell_type": "code",
      "metadata": {
        "id": "qGO3pmPgb7sb"
      },
      "source": [
        "model.compile(optimizer='adam', loss='binary_crossentropy', metrics=['acc'])"
      ],
      "execution_count": 19,
      "outputs": []
    },
    {
      "cell_type": "markdown",
      "metadata": {
        "id": "E1Y8cIIqJDcn"
      },
      "source": [
        "* train le model"
      ]
    },
    {
      "cell_type": "code",
      "metadata": {
        "colab": {
          "base_uri": "https://localhost:8080/"
        },
        "id": "mvOS4Xc0pMPz",
        "outputId": "36fab57b-b15b-44b3-f364-12b358d16d56"
      },
      "source": [
        "history = model.fit(X_train, y_train, batch_size=64, epochs=10, verbose=1, validation_split=0.2)"
      ],
      "execution_count": 20,
      "outputs": [
        {
          "output_type": "stream",
          "text": [
            "Epoch 1/10\n",
            "2213/2213 [==============================] - 64s 9ms/step - loss: 0.0038 - acc: 0.9983 - val_loss: 2.5950e-08 - val_acc: 1.0000\n",
            "Epoch 2/10\n",
            "2213/2213 [==============================] - 20s 9ms/step - loss: 1.8217e-08 - acc: 1.0000 - val_loss: 6.4437e-09 - val_acc: 1.0000\n",
            "Epoch 3/10\n",
            "2213/2213 [==============================] - 20s 9ms/step - loss: 5.3575e-09 - acc: 1.0000 - val_loss: 4.2943e-09 - val_acc: 1.0000\n",
            "Epoch 4/10\n",
            "2213/2213 [==============================] - 20s 9ms/step - loss: 3.9747e-09 - acc: 1.0000 - val_loss: 3.5683e-09 - val_acc: 1.0000\n",
            "Epoch 5/10\n",
            "2213/2213 [==============================] - 20s 9ms/step - loss: 3.3755e-09 - acc: 1.0000 - val_loss: 3.2130e-09 - val_acc: 1.0000\n",
            "Epoch 6/10\n",
            "2213/2213 [==============================] - 20s 9ms/step - loss: 3.1334e-09 - acc: 1.0000 - val_loss: 2.9500e-09 - val_acc: 1.0000\n",
            "Epoch 7/10\n",
            "2213/2213 [==============================] - 19s 9ms/step - loss: 2.8809e-09 - acc: 1.0000 - val_loss: 2.8080e-09 - val_acc: 1.0000\n",
            "Epoch 8/10\n",
            "2213/2213 [==============================] - 19s 9ms/step - loss: 2.7433e-09 - acc: 1.0000 - val_loss: 2.6205e-09 - val_acc: 1.0000\n",
            "Epoch 9/10\n",
            "2213/2213 [==============================] - 19s 9ms/step - loss: 2.6001e-09 - acc: 1.0000 - val_loss: 2.4316e-09 - val_acc: 1.0000\n",
            "Epoch 10/10\n",
            "2213/2213 [==============================] - 19s 9ms/step - loss: 2.4970e-09 - acc: 1.0000 - val_loss: 2.4045e-09 - val_acc: 1.0000\n"
          ],
          "name": "stdout"
        }
      ]
    },
    {
      "cell_type": "markdown",
      "metadata": {
        "id": "6siFb31HJHAc"
      },
      "source": [
        "* evaluer le model sur test set"
      ]
    },
    {
      "cell_type": "code",
      "metadata": {
        "colab": {
          "base_uri": "https://localhost:8080/"
        },
        "id": "6oGV4ihXpOGn",
        "outputId": "b8086ea0-cfa2-4bec-d1b7-0389774762ac"
      },
      "source": [
        "score = model.evaluate(X_test, y_test, verbose=1)"
      ],
      "execution_count": 21,
      "outputs": [
        {
          "output_type": "stream",
          "text": [
            "1383/1383 [==============================] - 5s 3ms/step - loss: 1.8194e-05 - acc: 1.0000\n"
          ],
          "name": "stdout"
        }
      ]
    },
    {
      "cell_type": "code",
      "metadata": {
        "colab": {
          "base_uri": "https://localhost:8080/"
        },
        "id": "Ld4aQAnUpOxS",
        "outputId": "502926a2-33e4-40ba-807a-cec58369f87d"
      },
      "source": [
        "print(\"Test Score:\", score[0])\n",
        "print(\"Test Accuracy:\", score[1])"
      ],
      "execution_count": 22,
      "outputs": [
        {
          "output_type": "stream",
          "text": [
            "Test Score: 1.8193921277998015e-05\n",
            "Test Accuracy: 0.9999774098396301\n"
          ],
          "name": "stdout"
        }
      ]
    },
    {
      "cell_type": "markdown",
      "metadata": {
        "id": "yUeZmyDTwMiU"
      },
      "source": [
        "## **Comme vous pouvez voir nous avons atteindre une performance de 99,99% avec le CNN model** "
      ]
    },
    {
      "cell_type": "markdown",
      "metadata": {
        "id": "lCc2itVAJT0f"
      },
      "source": [
        "* Tracons la différence de loss et accuracy entre train set et test set"
      ]
    },
    {
      "cell_type": "code",
      "metadata": {
        "colab": {
          "base_uri": "https://localhost:8080/",
          "height": 573
        },
        "id": "91tcRM_zpR7Z",
        "outputId": "9420ece4-e439-4068-bd22-db4739958f85"
      },
      "source": [
        "import matplotlib.pyplot as plt\n",
        "\n",
        "plt.plot(history.history['acc'])\n",
        "plt.plot(history.history['val_acc'])\n",
        "\n",
        "plt.title('model accuracy')\n",
        "plt.ylabel('accuracy')\n",
        "plt.xlabel('epoch')\n",
        "plt.legend(['train','test'], loc = 'upper left')\n",
        "plt.show()\n",
        "\n",
        "plt.plot(history.history['loss'])\n",
        "plt.plot(history.history['val_loss'])\n",
        "\n",
        "plt.title('model loss')\n",
        "plt.ylabel('loss')\n",
        "plt.xlabel('epoch')\n",
        "plt.legend(['train','test'], loc = 'upper left')\n",
        "plt.show()"
      ],
      "execution_count": 23,
      "outputs": [
        {
          "output_type": "display_data",
          "data": {
            "image/png": "[encoded data removed]",
            "text/plain": [
              "<Figure size 432x288 with 1 Axes>"
            ]
          },
          "metadata": {
            "tags": [],
            "needs_background": "light"
          }
        },
        {
          "output_type": "display_data",
          "data": {
            "image/png": "[encoded data removed]",
            "text/plain": [
              "<Figure size 432x288 with 1 Axes>"
            ]
          },
          "metadata": {
            "tags": [],
            "needs_background": "light"
          }
        }
      ]
    },
    {
      "cell_type": "markdown",
      "metadata": {
        "id": "R7uPb03U3Ydj"
      },
      "source": [
        "# VI- LSTM"
      ]
    },
    {
      "cell_type": "markdown",
      "metadata": {
        "id": "gr4ePt51J_8B"
      },
      "source": [
        "* Constriure le model"
      ]
    },
    {
      "cell_type": "code",
      "metadata": {
        "id": "lvjdragJpVNz"
      },
      "source": [
        "model1 = Sequential()\n",
        "embedding_layer = Embedding(vocab_size, 100, weights=[embedding_matrix], input_length=maxlen , trainable=False)\n",
        "model1.add(embedding_layer)\n",
        "model1.add(LSTM(128))\n",
        "model1.add(Dense(64, activation='relu'))\n",
        "model1.add(Dense(64, activation='relu'))\n",
        "model1.add(Dense(1, activation='sigmoid'))\n",
        "model1.compile(optimizer='adam', loss='binary_crossentropy', metrics=['acc'])\n"
      ],
      "execution_count": 24,
      "outputs": []
    },
    {
      "cell_type": "code",
      "metadata": {
        "colab": {
          "base_uri": "https://localhost:8080/",
          "height": 586
        },
        "id": "2vho9FWLeuVe",
        "outputId": "33abceb4-a4bd-420d-aecf-25fa5388018b"
      },
      "source": [
        "SVG(model_to_dot(model1, show_shapes= True, show_layer_names=True, dpi=65).create(prog='dot', format='svg'))"
      ],
      "execution_count": 25,
      "outputs": [
        {
          "output_type": "execute_result",
          "data": {
            "text/plain": [
              "<IPython.core.display.SVG object>"
            ],
            "image/svg+xml": "<svg height=\"424pt\" viewBox=\"0.00 0.00 366.00 470.00\" width=\"330pt\" xmlns=\"http://www.w3.org/2000/svg\" xmlns:xlink=\"http://www.w3.org/1999/xlink\">\n<g class=\"graph\" id=\"graph0\" transform=\"scale(.9028 .9028) rotate(0) translate(4 466)\">\n<title>G</title>\n<polygon fill=\"#ffffff\" points=\"-4,4 -4,-466 362,-466 362,4 -4,4\" stroke=\"transparent\"/>\n<!-- 140554781179152 -->\n<g class=\"node\" id=\"node1\">\n<title>140554781179152</title>\n<polygon fill=\"none\" points=\"0,-415.5 0,-461.5 358,-461.5 358,-415.5 0,-415.5\" stroke=\"#000000\"/>\n<text fill=\"#000000\" font-family=\"Times,serif\" font-size=\"14.00\" text-anchor=\"middle\" x=\"102.5\" y=\"-434.8\">embedding_1_input: InputLayer</text>\n<polyline fill=\"none\" points=\"205,-415.5 205,-461.5 \" stroke=\"#000000\"/>\n<text fill=\"#000000\" font-family=\"Times,serif\" font-size=\"14.00\" text-anchor=\"middle\" x=\"234\" y=\"-446.3\">input:</text>\n<polyline fill=\"none\" points=\"205,-438.5 263,-438.5 \" stroke=\"#000000\"/>\n<text fill=\"#000000\" font-family=\"Times,serif\" font-size=\"14.00\" text-anchor=\"middle\" x=\"234\" y=\"-423.3\">output:</text>\n<polyline fill=\"none\" points=\"263,-415.5 263,-461.5 \" stroke=\"#000000\"/>\n<text fill=\"#000000\" font-family=\"Times,serif\" font-size=\"14.00\" text-anchor=\"middle\" x=\"310.5\" y=\"-446.3\">[(None, 114)]</text>\n<polyline fill=\"none\" points=\"263,-438.5 358,-438.5 \" stroke=\"#000000\"/>\n<text fill=\"#000000\" font-family=\"Times,serif\" font-size=\"14.00\" text-anchor=\"middle\" x=\"310.5\" y=\"-423.3\">[(None, 114)]</text>\n</g>\n<!-- 140554760363088 -->\n<g class=\"node\" id=\"node2\">\n<title>140554760363088</title>\n<polygon fill=\"none\" points=\"6.5,-332.5 6.5,-378.5 351.5,-378.5 351.5,-332.5 6.5,-332.5\" stroke=\"#000000\"/>\n<text fill=\"#000000\" font-family=\"Times,serif\" font-size=\"14.00\" text-anchor=\"middle\" x=\"92\" y=\"-351.8\">embedding_1: Embedding</text>\n<polyline fill=\"none\" points=\"177.5,-332.5 177.5,-378.5 \" stroke=\"#000000\"/>\n<text fill=\"#000000\" font-family=\"Times,serif\" font-size=\"14.00\" text-anchor=\"middle\" x=\"206.5\" y=\"-363.3\">input:</text>\n<polyline fill=\"none\" points=\"177.5,-355.5 235.5,-355.5 \" stroke=\"#000000\"/>\n<text fill=\"#000000\" font-family=\"Times,serif\" font-size=\"14.00\" text-anchor=\"middle\" x=\"206.5\" y=\"-340.3\">output:</text>\n<polyline fill=\"none\" points=\"235.5,-332.5 235.5,-378.5 \" stroke=\"#000000\"/>\n<text fill=\"#000000\" font-family=\"Times,serif\" font-size=\"14.00\" text-anchor=\"middle\" x=\"293.5\" y=\"-363.3\">(None, 114)</text>\n<polyline fill=\"none\" points=\"235.5,-355.5 351.5,-355.5 \" stroke=\"#000000\"/>\n<text fill=\"#000000\" font-family=\"Times,serif\" font-size=\"14.00\" text-anchor=\"middle\" x=\"293.5\" y=\"-340.3\">(None, 114, 100)</text>\n</g>\n<!-- 140554781179152&#45;&gt;140554760363088 -->\n<g class=\"edge\" id=\"edge1\">\n<title>140554781179152-&gt;140554760363088</title>\n<path d=\"M179,-415.3799C179,-407.1745 179,-397.7679 179,-388.8786\" fill=\"none\" stroke=\"#000000\"/>\n<polygon fill=\"#000000\" points=\"182.5001,-388.784 179,-378.784 175.5001,-388.784 182.5001,-388.784\" stroke=\"#000000\"/>\n</g>\n<!-- 140554759620368 -->\n<g class=\"node\" id=\"node3\">\n<title>140554759620368</title>\n<polygon fill=\"none\" points=\"48.5,-249.5 48.5,-295.5 309.5,-295.5 309.5,-249.5 48.5,-249.5\" stroke=\"#000000\"/>\n<text fill=\"#000000\" font-family=\"Times,serif\" font-size=\"14.00\" text-anchor=\"middle\" x=\"92\" y=\"-268.8\">lstm: LSTM</text>\n<polyline fill=\"none\" points=\"135.5,-249.5 135.5,-295.5 \" stroke=\"#000000\"/>\n<text fill=\"#000000\" font-family=\"Times,serif\" font-size=\"14.00\" text-anchor=\"middle\" x=\"164.5\" y=\"-280.3\">input:</text>\n<polyline fill=\"none\" points=\"135.5,-272.5 193.5,-272.5 \" stroke=\"#000000\"/>\n<text fill=\"#000000\" font-family=\"Times,serif\" font-size=\"14.00\" text-anchor=\"middle\" x=\"164.5\" y=\"-257.3\">output:</text>\n<polyline fill=\"none\" points=\"193.5,-249.5 193.5,-295.5 \" stroke=\"#000000\"/>\n<text fill=\"#000000\" font-family=\"Times,serif\" font-size=\"14.00\" text-anchor=\"middle\" x=\"251.5\" y=\"-280.3\">(None, 114, 100)</text>\n<polyline fill=\"none\" points=\"193.5,-272.5 309.5,-272.5 \" stroke=\"#000000\"/>\n<text fill=\"#000000\" font-family=\"Times,serif\" font-size=\"14.00\" text-anchor=\"middle\" x=\"251.5\" y=\"-257.3\">(None, 128)</text>\n</g>\n<!-- 140554760363088&#45;&gt;140554759620368 -->\n<g class=\"edge\" id=\"edge2\">\n<title>140554760363088-&gt;140554759620368</title>\n<path d=\"M179,-332.3799C179,-324.1745 179,-314.7679 179,-305.8786\" fill=\"none\" stroke=\"#000000\"/>\n<polygon fill=\"#000000\" points=\"182.5001,-305.784 179,-295.784 175.5001,-305.784 182.5001,-305.784\" stroke=\"#000000\"/>\n</g>\n<!-- 140554761403280 -->\n<g class=\"node\" id=\"node4\">\n<title>140554761403280</title>\n<polygon fill=\"none\" points=\"53,-166.5 53,-212.5 305,-212.5 305,-166.5 53,-166.5\" stroke=\"#000000\"/>\n<text fill=\"#000000\" font-family=\"Times,serif\" font-size=\"14.00\" text-anchor=\"middle\" x=\"106.5\" y=\"-185.8\">dense_3: Dense</text>\n<polyline fill=\"none\" points=\"160,-166.5 160,-212.5 \" stroke=\"#000000\"/>\n<text fill=\"#000000\" font-family=\"Times,serif\" font-size=\"14.00\" text-anchor=\"middle\" x=\"189\" y=\"-197.3\">input:</text>\n<polyline fill=\"none\" points=\"160,-189.5 218,-189.5 \" stroke=\"#000000\"/>\n<text fill=\"#000000\" font-family=\"Times,serif\" font-size=\"14.00\" text-anchor=\"middle\" x=\"189\" y=\"-174.3\">output:</text>\n<polyline fill=\"none\" points=\"218,-166.5 218,-212.5 \" stroke=\"#000000\"/>\n<text fill=\"#000000\" font-family=\"Times,serif\" font-size=\"14.00\" text-anchor=\"middle\" x=\"261.5\" y=\"-197.3\">(None, 128)</text>\n<polyline fill=\"none\" points=\"218,-189.5 305,-189.5 \" stroke=\"#000000\"/>\n<text fill=\"#000000\" font-family=\"Times,serif\" font-size=\"14.00\" text-anchor=\"middle\" x=\"261.5\" y=\"-174.3\">(None, 64)</text>\n</g>\n<!-- 140554759620368&#45;&gt;140554761403280 -->\n<g class=\"edge\" id=\"edge3\">\n<title>140554759620368-&gt;140554761403280</title>\n<path d=\"M179,-249.3799C179,-241.1745 179,-231.7679 179,-222.8786\" fill=\"none\" stroke=\"#000000\"/>\n<polygon fill=\"#000000\" points=\"182.5001,-222.784 179,-212.784 175.5001,-222.784 182.5001,-222.784\" stroke=\"#000000\"/>\n</g>\n<!-- 140554761401872 -->\n<g class=\"node\" id=\"node5\">\n<title>140554761401872</title>\n<polygon fill=\"none\" points=\"56.5,-83.5 56.5,-129.5 301.5,-129.5 301.5,-83.5 56.5,-83.5\" stroke=\"#000000\"/>\n<text fill=\"#000000\" font-family=\"Times,serif\" font-size=\"14.00\" text-anchor=\"middle\" x=\"110\" y=\"-102.8\">dense_4: Dense</text>\n<polyline fill=\"none\" points=\"163.5,-83.5 163.5,-129.5 \" stroke=\"#000000\"/>\n<text fill=\"#000000\" font-family=\"Times,serif\" font-size=\"14.00\" text-anchor=\"middle\" x=\"192.5\" y=\"-114.3\">input:</text>\n<polyline fill=\"none\" points=\"163.5,-106.5 221.5,-106.5 \" stroke=\"#000000\"/>\n<text fill=\"#000000\" font-family=\"Times,serif\" font-size=\"14.00\" text-anchor=\"middle\" x=\"192.5\" y=\"-91.3\">output:</text>\n<polyline fill=\"none\" points=\"221.5,-83.5 221.5,-129.5 \" stroke=\"#000000\"/>\n<text fill=\"#000000\" font-family=\"Times,serif\" font-size=\"14.00\" text-anchor=\"middle\" x=\"261.5\" y=\"-114.3\">(None, 64)</text>\n<polyline fill=\"none\" points=\"221.5,-106.5 301.5,-106.5 \" stroke=\"#000000\"/>\n<text fill=\"#000000\" font-family=\"Times,serif\" font-size=\"14.00\" text-anchor=\"middle\" x=\"261.5\" y=\"-91.3\">(None, 64)</text>\n</g>\n<!-- 140554761403280&#45;&gt;140554761401872 -->\n<g class=\"edge\" id=\"edge4\">\n<title>140554761403280-&gt;140554761401872</title>\n<path d=\"M179,-166.3799C179,-158.1745 179,-148.7679 179,-139.8786\" fill=\"none\" stroke=\"#000000\"/>\n<polygon fill=\"#000000\" points=\"182.5001,-139.784 179,-129.784 175.5001,-139.784 182.5001,-139.784\" stroke=\"#000000\"/>\n</g>\n<!-- 140554761400976 -->\n<g class=\"node\" id=\"node6\">\n<title>140554761400976</title>\n<polygon fill=\"none\" points=\"56.5,-.5 56.5,-46.5 301.5,-46.5 301.5,-.5 56.5,-.5\" stroke=\"#000000\"/>\n<text fill=\"#000000\" font-family=\"Times,serif\" font-size=\"14.00\" text-anchor=\"middle\" x=\"110\" y=\"-19.8\">dense_5: Dense</text>\n<polyline fill=\"none\" points=\"163.5,-.5 163.5,-46.5 \" stroke=\"#000000\"/>\n<text fill=\"#000000\" font-family=\"Times,serif\" font-size=\"14.00\" text-anchor=\"middle\" x=\"192.5\" y=\"-31.3\">input:</text>\n<polyline fill=\"none\" points=\"163.5,-23.5 221.5,-23.5 \" stroke=\"#000000\"/>\n<text fill=\"#000000\" font-family=\"Times,serif\" font-size=\"14.00\" text-anchor=\"middle\" x=\"192.5\" y=\"-8.3\">output:</text>\n<polyline fill=\"none\" points=\"221.5,-.5 221.5,-46.5 \" stroke=\"#000000\"/>\n<text fill=\"#000000\" font-family=\"Times,serif\" font-size=\"14.00\" text-anchor=\"middle\" x=\"261.5\" y=\"-31.3\">(None, 64)</text>\n<polyline fill=\"none\" points=\"221.5,-23.5 301.5,-23.5 \" stroke=\"#000000\"/>\n<text fill=\"#000000\" font-family=\"Times,serif\" font-size=\"14.00\" text-anchor=\"middle\" x=\"261.5\" y=\"-8.3\">(None, 1)</text>\n</g>\n<!-- 140554761401872&#45;&gt;140554761400976 -->\n<g class=\"edge\" id=\"edge5\">\n<title>140554761401872-&gt;140554761400976</title>\n<path d=\"M179,-83.3799C179,-75.1745 179,-65.7679 179,-56.8786\" fill=\"none\" stroke=\"#000000\"/>\n<polygon fill=\"#000000\" points=\"182.5001,-56.784 179,-46.784 175.5001,-56.784 182.5001,-56.784\" stroke=\"#000000\"/>\n</g>\n</g>\n</svg>"
          },
          "metadata": {
            "tags": []
          },
          "execution_count": 25
        }
      ]
    },
    {
      "cell_type": "markdown",
      "metadata": {
        "id": "a7pUJMetKF3r"
      },
      "source": [
        "* train model"
      ]
    },
    {
      "cell_type": "code",
      "metadata": {
        "colab": {
          "base_uri": "https://localhost:8080/"
        },
        "id": "Nn8RDPUupc1x",
        "outputId": "e705c5d3-d253-47b9-a1bd-209572add8d9"
      },
      "source": [
        "history = model1.fit(X_train, y_train, batch_size=64, epochs=10, verbose=1, validation_split=0.2)"
      ],
      "execution_count": 26,
      "outputs": [
        {
          "output_type": "stream",
          "text": [
            "Epoch 1/10\n",
            "2213/2213 [==============================] - 31s 12ms/step - loss: 0.0493 - acc: 0.9839 - val_loss: 0.4345 - val_acc: 0.8437\n",
            "Epoch 2/10\n",
            "2213/2213 [==============================] - 26s 12ms/step - loss: 0.4348 - acc: 0.8428 - val_loss: 0.0097 - val_acc: 0.9988\n",
            "Epoch 3/10\n",
            "2213/2213 [==============================] - 26s 12ms/step - loss: 0.0988 - acc: 0.9651 - val_loss: 2.7446e-04 - val_acc: 1.0000\n",
            "Epoch 4/10\n",
            "2213/2213 [==============================] - 26s 12ms/step - loss: 0.0067 - acc: 0.9987 - val_loss: 9.5517e-04 - val_acc: 0.9998\n",
            "Epoch 5/10\n",
            "2213/2213 [==============================] - 26s 12ms/step - loss: 0.0012 - acc: 0.9998 - val_loss: 1.8103e-04 - val_acc: 1.0000\n",
            "Epoch 6/10\n",
            "2213/2213 [==============================] - 26s 12ms/step - loss: 2.4744e-04 - acc: 1.0000 - val_loss: 0.2756 - val_acc: 0.8437\n",
            "Epoch 7/10\n",
            "2213/2213 [==============================] - 26s 12ms/step - loss: 0.0613 - acc: 0.9759 - val_loss: 5.9279e-04 - val_acc: 0.9999\n",
            "Epoch 8/10\n",
            "2213/2213 [==============================] - 26s 12ms/step - loss: 3.7940e-04 - acc: 0.9999 - val_loss: 4.7404e-05 - val_acc: 1.0000\n",
            "Epoch 9/10\n",
            "2213/2213 [==============================] - 26s 12ms/step - loss: 2.0919e-05 - acc: 1.0000 - val_loss: 1.2439e-05 - val_acc: 1.0000\n",
            "Epoch 10/10\n",
            "2213/2213 [==============================] - 26s 12ms/step - loss: 4.3549e-04 - acc: 0.9999 - val_loss: 0.0978 - val_acc: 0.9895\n"
          ],
          "name": "stdout"
        }
      ]
    },
    {
      "cell_type": "markdown",
      "metadata": {
        "id": "Yn49GBAXKJKn"
      },
      "source": [
        "* evaluate model"
      ]
    },
    {
      "cell_type": "code",
      "metadata": {
        "colab": {
          "base_uri": "https://localhost:8080/"
        },
        "id": "0pS-cEJQpsMa",
        "outputId": "172b2c6a-53c3-44cd-85e3-a288b8696f4d"
      },
      "source": [
        "score = model1.evaluate(X_test, y_test, verbose=1)"
      ],
      "execution_count": 27,
      "outputs": [
        {
          "output_type": "stream",
          "text": [
            "1383/1383 [==============================] - 6s 5ms/step - loss: 0.1022 - acc: 0.9844\n"
          ],
          "name": "stdout"
        }
      ]
    },
    {
      "cell_type": "code",
      "metadata": {
        "colab": {
          "base_uri": "https://localhost:8080/"
        },
        "id": "tVCgKEwHpwG8",
        "outputId": "bb76010b-4b51-499b-dd37-9c8fd862717d"
      },
      "source": [
        "print(\"Test Score:\", score[0])\n",
        "print(\"Test Accuracy:\", score[1])"
      ],
      "execution_count": 28,
      "outputs": [
        {
          "output_type": "stream",
          "text": [
            "Test Score: 0.1021546944975853\n",
            "Test Accuracy: 0.9843594431877136\n"
          ],
          "name": "stdout"
        }
      ]
    },
    {
      "cell_type": "markdown",
      "metadata": {
        "id": "cpinqO6Jwxho"
      },
      "source": [
        "## **Comme vous pouvez voir nous avons atteindre une performance de 98,43% avec le LSTM model**"
      ]
    },
    {
      "cell_type": "markdown",
      "metadata": {
        "id": "nd8ziqCjKOeX"
      },
      "source": [
        "* Tracons la différence de loss et accuracy entre train set et test set"
      ]
    },
    {
      "cell_type": "code",
      "metadata": {
        "colab": {
          "base_uri": "https://localhost:8080/",
          "height": 573
        },
        "id": "lxYenPKmpxYq",
        "outputId": "be278fc1-5139-4264-a406-50e9f2687b68"
      },
      "source": [
        "import matplotlib.pyplot as plt\n",
        "\n",
        "plt.plot(history.history['acc'])\n",
        "plt.plot(history.history['val_acc'])\n",
        "\n",
        "plt.title('model accuracy')\n",
        "plt.ylabel('accuracy')\n",
        "plt.xlabel('epoch')\n",
        "plt.legend(['train','test'], loc='upper left')\n",
        "plt.show()\n",
        "\n",
        "plt.plot(history.history['loss'])\n",
        "plt.plot(history.history['val_loss'])\n",
        "\n",
        "plt.title('model loss')\n",
        "plt.ylabel('loss')\n",
        "plt.xlabel('epoch')\n",
        "plt.legend(['train','test'], loc='upper left')\n",
        "plt.show()"
      ],
      "execution_count": 29,
      "outputs": [
        {
          "output_type": "display_data",
          "data": {
            "image/png": "[encoded data removed]",
            "text/plain": [
              "<Figure size 432x288 with 1 Axes>"
            ]
          },
          "metadata": {
            "tags": [],
            "needs_background": "light"
          }
        },
        {
          "output_type": "display_data",
          "data": {
            "image/png": "[encoded data removed]",
            "text/plain": [
              "<Figure size 432x288 with 1 Axes>"
            ]
          },
          "metadata": {
            "tags": [],
            "needs_background": "light"
          }
        }
      ]
    }
  ]
}