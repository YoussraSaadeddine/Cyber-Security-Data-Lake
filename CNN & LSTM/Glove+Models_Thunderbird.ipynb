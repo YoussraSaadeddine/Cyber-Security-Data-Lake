{
  "nbformat": 4,
  "nbformat_minor": 0,
  "metadata": {
    "colab": {
      "name": "Glove+Models_Thunderbird.ipynb",
      "provenance": [],
      "collapsed_sections": []
    },
    "kernelspec": {
      "name": "python3",
      "display_name": "Python 3"
    },
    "language_info": {
      "name": "python"
    },
    "accelerator": "GPU"
  },
  "cells": [
    {
      "cell_type": "markdown",
      "metadata": {
        "id": "3UzO-0b5_tA3"
      },
      "source": [
        "# I- Introduction:\n",
        "Aprés avoir testé the state of the art model (Bert) nous alllons essayer dans ce projet d'utiliser deux types différents de deep neural network: Convolutional Neural Network (CNN) et Long Short Term Memory Network (LSTM), qui est une variante des Recurrent Neural Networks pour affiner rapidement et efficacement un modèle de classification des logs de de Thunderbird supercomputer, où notre objectif sera de détecter les anomalies dans des futurs logs.\n",
        "\n",
        "* **Dataset** - nous allons utiliser une DT open Source des logs de Thunderbird supercomputer(contient 211,212,192 logs mais nous allons uiliser seulement 221220 logs),il est sous forme d'un Filelog donc on avait besoin d'utiliser excel(On peut utiliser Python mais excel reste simple) pour insérer les logs dans des dataframes.\n",
        "\n",
        "* **Objectif** - developper une solution qui permet de detecter les anomalies dans les logs.\n",
        "\n",
        "* **Methodologie** - nous allons considerer comme nous avons un probleme de text classification et construire un deep learning model pour attiendre l'objectif."
      ]
    },
    {
      "cell_type": "markdown",
      "metadata": {
        "id": "J2xQARwf_s1f"
      },
      "source": [
        "# II- Different Models:\n",
        "\n",
        "Il existe plusieurs types de modèles qui pourraient être utilisés pour créer la solution de la classification de texte parmi ces solutions on trouve:\n",
        "\n",
        "\n",
        "*   **1D- Conv Net** : \n",
        "les CNN peuvent être utilisés pour la classification des textes. ils sont plus rapides à s'entraîner.\n",
        "\n",
        "*   **Modèles basés sur RNN (LSTM, GRU)** :  ils peuvent capturer la nature séquentielle d'un texte. Mais ils sont plus lent à s'entraîner.\n",
        "\n",
        "* **Modèles basés sur des transformers (BERT, GPT2)** -\n",
        "Les modèles basés sur des transformers exploite plusieurs unités Transformer et un mécanisme d'attention à multihead.\n",
        "\n",
        "####Dans ce projet nous allons focaliser sur un model basé sur RNN(LSTM) et un autre basé sur les CNN.\n"
      ]
    },
    {
      "cell_type": "markdown",
      "metadata": {
        "id": "nWOg1foq_ssc"
      },
      "source": [
        "# III- Data Preprocessing"
      ]
    },
    {
      "cell_type": "markdown",
      "metadata": {
        "id": "CPM6Y9-x_sjc"
      },
      "source": [
        "### 1. Importing libraries and modules"
      ]
    },
    {
      "cell_type": "code",
      "metadata": {
        "id": "NYyobhk2enYZ"
      },
      "source": [
        "import pandas as pd\n",
        "import numpy as np\n",
        "import matplotlib.pyplot as plt\n",
        "import seaborn as sns\n",
        "import re\n",
        "from numpy import array\n",
        "import keras \n",
        "from keras.preprocessing.sequence import pad_sequences\n",
        "from keras.models import Sequential\n",
        "from keras.layers.core import Activation, Dropout, Dense\n",
        "from keras.layers import Flatten\n",
        "from keras.layers import GlobalMaxPooling1D\n",
        "from keras.layers.embeddings import Embedding\n",
        "from keras.preprocessing.text import Tokenizer\n",
        "from sklearn.utils import shuffle\n",
        "from google.colab import drive\n",
        "from sklearn.model_selection import train_test_split\n",
        "from keras.models import Sequential\n",
        "from keras.layers import Dense\n",
        "from keras.layers import Input, Dense, Dropout, Embedding, LSTM, Flatten\n",
        "from keras.models import Model\n",
        "from sklearn.metrics import accuracy_score"
      ],
      "execution_count": 1,
      "outputs": []
    },
    {
      "cell_type": "markdown",
      "metadata": {
        "id": "FQRMWg6qlJsg"
      },
      "source": [
        "###2. Loading Data"
      ]
    },
    {
      "cell_type": "markdown",
      "metadata": {
        "id": "bK_C6jL3Swj9"
      },
      "source": [
        "####**Importing files from Google Drive in Colab**\n",
        "notre dataset est stockée dans Google Drive donc nous avons besoin de \n",
        "lier notre compte Google Drive avec notre notebook.\n",
        "1. La première étape consiste à monter notre Google Drive en exécutant le code en dessous.\n",
        "2.  nous obtenons le code d'autorisation en nous connectant à notre compte Google.\n",
        "3.   nous collons le code d'autorisation et nous appuyons sur Entrée."
      ]
    },
    {
      "cell_type": "code",
      "metadata": {
        "colab": {
          "base_uri": "https://localhost:8080/"
        },
        "id": "ny55UZG3ggjK",
        "outputId": "210f61ad-0c6c-4642-d5db-e19bd93b89c8"
      },
      "source": [
        "drive.mount('/gdrive')\n",
        "%cd /gdrive"
      ],
      "execution_count": 2,
      "outputs": [
        {
          "output_type": "stream",
          "text": [
            "Mounted at /gdrive\n",
            "/gdrive\n"
          ],
          "name": "stdout"
        }
      ]
    },
    {
      "cell_type": "code",
      "metadata": {
        "id": "xtBvabavkZb5"
      },
      "source": [
        "PATH_data=r'/gdrive/My Drive/thunderbird V.xlsx' "
      ],
      "execution_count": 3,
      "outputs": []
    },
    {
      "cell_type": "code",
      "metadata": {
        "id": "4PffwR6FkZSD"
      },
      "source": [
        "data = pd.read_excel(PATH_data)"
      ],
      "execution_count": 4,
      "outputs": []
    },
    {
      "cell_type": "code",
      "metadata": {
        "id": "CLlbEqQvkZCq"
      },
      "source": [
        "data.to_csv(r'/gdrive/My Drive/thunderbird v.csv')"
      ],
      "execution_count": 5,
      "outputs": []
    },
    {
      "cell_type": "code",
      "metadata": {
        "id": "OciB7qLAgvwY"
      },
      "source": [
        "df = pd.read_csv(r'/gdrive/My Drive/thunderbird v.csv') "
      ],
      "execution_count": 6,
      "outputs": []
    },
    {
      "cell_type": "code",
      "metadata": {
        "colab": {
          "base_uri": "https://localhost:8080/",
          "height": 204
        },
        "id": "ZDBL71sZiAsN",
        "outputId": "3d2a76f5-87a8-44f9-9000-93447893df86"
      },
      "source": [
        "df.head()"
      ],
      "execution_count": 7,
      "outputs": [
        {
          "output_type": "execute_result",
          "data": {
            "text/html": [
              "<div>\n",
              "<style scoped>\n",
              "    .dataframe tbody tr th:only-of-type {\n",
              "        vertical-align: middle;\n",
              "    }\n",
              "\n",
              "    .dataframe tbody tr th {\n",
              "        vertical-align: top;\n",
              "    }\n",
              "\n",
              "    .dataframe thead th {\n",
              "        text-align: right;\n",
              "    }\n",
              "</style>\n",
              "<table border=\"1\" class=\"dataframe\">\n",
              "  <thead>\n",
              "    <tr style=\"text-align: right;\">\n",
              "      <th></th>\n",
              "      <th>Unnamed: 0</th>\n",
              "      <th>log</th>\n",
              "      <th>label</th>\n",
              "    </tr>\n",
              "  </thead>\n",
              "  <tbody>\n",
              "    <tr>\n",
              "      <th>0</th>\n",
              "      <td>0</td>\n",
              "      <td>- 1131965931 2005.11.14 an933 Nov 14 02:58:51 ...</td>\n",
              "      <td>0</td>\n",
              "    </tr>\n",
              "    <tr>\n",
              "      <th>1</th>\n",
              "      <td>1</td>\n",
              "      <td>- 1131965931 2005.11.14 an933 Nov 14 02:58:51 ...</td>\n",
              "      <td>0</td>\n",
              "    </tr>\n",
              "    <tr>\n",
              "      <th>2</th>\n",
              "      <td>2</td>\n",
              "      <td>- 1131965931 2005.11.14 an933 Nov 14 02:58:51 ...</td>\n",
              "      <td>0</td>\n",
              "    </tr>\n",
              "    <tr>\n",
              "      <th>3</th>\n",
              "      <td>3</td>\n",
              "      <td>- 1131965931 2005.11.14 an933 Nov 14 02:58:51 ...</td>\n",
              "      <td>0</td>\n",
              "    </tr>\n",
              "    <tr>\n",
              "      <th>4</th>\n",
              "      <td>4</td>\n",
              "      <td>- 1131965931 2005.11.14 an933 Nov 14 02:58:51 ...</td>\n",
              "      <td>0</td>\n",
              "    </tr>\n",
              "  </tbody>\n",
              "</table>\n",
              "</div>"
            ],
            "text/plain": [
              "   Unnamed: 0                                                log  label\n",
              "0           0  - 1131965931 2005.11.14 an933 Nov 14 02:58:51 ...      0\n",
              "1           1  - 1131965931 2005.11.14 an933 Nov 14 02:58:51 ...      0\n",
              "2           2  - 1131965931 2005.11.14 an933 Nov 14 02:58:51 ...      0\n",
              "3           3  - 1131965931 2005.11.14 an933 Nov 14 02:58:51 ...      0\n",
              "4           4  - 1131965931 2005.11.14 an933 Nov 14 02:58:51 ...      0"
            ]
          },
          "metadata": {
            "tags": []
          },
          "execution_count": 7
        }
      ]
    },
    {
      "cell_type": "code",
      "metadata": {
        "id": "FkrzMx3TloWk"
      },
      "source": [
        "del df['Unnamed: 0']"
      ],
      "execution_count": 8,
      "outputs": []
    },
    {
      "cell_type": "code",
      "metadata": {
        "colab": {
          "base_uri": "https://localhost:8080/"
        },
        "id": "1ZAMoM2ajA6I",
        "outputId": "6da08ff4-3019-4ae4-8532-c639246c8399"
      },
      "source": [
        "df.shape"
      ],
      "execution_count": 9,
      "outputs": [
        {
          "output_type": "execute_result",
          "data": {
            "text/plain": [
              "(221220, 2)"
            ]
          },
          "metadata": {
            "tags": []
          },
          "execution_count": 9
        }
      ]
    },
    {
      "cell_type": "markdown",
      "metadata": {
        "id": "685zpRDjC58h"
      },
      "source": [
        "* Vérifier les valeurs nulles"
      ]
    },
    {
      "cell_type": "code",
      "metadata": {
        "colab": {
          "base_uri": "https://localhost:8080/"
        },
        "id": "9-NmJdhmhK5W",
        "outputId": "74838bbc-20a6-46cd-b1a3-ac1d635d9d24"
      },
      "source": [
        "df.isnull().values.any()"
      ],
      "execution_count": 10,
      "outputs": [
        {
          "output_type": "execute_result",
          "data": {
            "text/plain": [
              "False"
            ]
          },
          "metadata": {
            "tags": []
          },
          "execution_count": 10
        }
      ]
    },
    {
      "cell_type": "markdown",
      "metadata": {
        "id": "mp3wlBLbltvM"
      },
      "source": [
        "* Nous supprimons ensuite les caractères non alphanumériques."
      ]
    },
    {
      "cell_type": "code",
      "metadata": {
        "id": "5dKtmLcIg-L6"
      },
      "source": [
        "def clean_data(log):\n",
        "    log = re.sub(\"'\", \"\", log)\n",
        "    log = re.sub(\"-\", \"\", log)\n",
        "    log = re.sub(\"(\\\\W)+\", \" \", log)\n",
        "    log = log.lower()\n",
        "    return log\n",
        "\n",
        "df['log'] = df['log'].apply(clean_data)"
      ],
      "execution_count": 11,
      "outputs": []
    },
    {
      "cell_type": "markdown",
      "metadata": {
        "id": "t94COKNemxbH"
      },
      "source": [
        "* Split the dataset into train set 80% et test sets 20%)"
      ]
    },
    {
      "cell_type": "code",
      "metadata": {
        "id": "n5kwEITAiez8"
      },
      "source": [
        "X_train, X_test, y_train, y_test = train_test_split(df['log'],df['label'], test_size=0.2,random_state=42)"
      ],
      "execution_count": 12,
      "outputs": []
    },
    {
      "cell_type": "markdown",
      "metadata": {
        "id": "Fs6cPEVJDvFm"
      },
      "source": [
        "# IV- Preparing the Embedding Layer"
      ]
    },
    {
      "cell_type": "markdown",
      "metadata": {
        "id": "Y6erncuPFx81"
      },
      "source": [
        "nous utiliserons la classe Tokenizer du module keras.preprocessing.text pour créer un dictionnaire de word-to-index . Dans le dictionnaire, chaque mot est utilisé comme clé, tandis qu'un index unique correspondant est utilisé comme valeur pour la clé."
      ]
    },
    {
      "cell_type": "code",
      "metadata": {
        "id": "Nv_DaokYjRFi"
      },
      "source": [
        "tokenizer = Tokenizer()\n",
        "tokenizer.fit_on_texts(X_train)\n",
        "\n",
        "X_train = tokenizer.texts_to_sequences(X_train)\n",
        "X_test = tokenizer.texts_to_sequences(X_test)"
      ],
      "execution_count": 13,
      "outputs": []
    },
    {
      "cell_type": "markdown",
      "metadata": {
        "id": "TOo_yb2QGP2q"
      },
      "source": [
        "Nous fixons la taille maximale à 114. Les listes de taille supérieure à 114 seront tronquées à 114. Pour les listes dont la longueur est inférieure à 114, nous ajouterons 0 à la fin de la liste jusqu'à ce qu'elle atteigne la longueur maximale."
      ]
    },
    {
      "cell_type": "code",
      "metadata": {
        "id": "2v1cM7DkjvfI"
      },
      "source": [
        "vocab_size = len(tokenizer.word_index) + 1\n",
        "\n",
        "maxlen = 114\n",
        "\n",
        "X_train = pad_sequences(X_train, padding='post', maxlen=maxlen)\n",
        "X_test = pad_sequences(X_test, padding='post', maxlen=maxlen)"
      ],
      "execution_count": 14,
      "outputs": []
    },
    {
      "cell_type": "markdown",
      "metadata": {
        "id": "04wvSErOG3FK"
      },
      "source": [
        "Nous utiliserons GloVe embeddings pour créer feature matrix, j'ai essayé d'importer Glove sur mon drive\n",
        "* vous pouvez la trouver sur : https://drive.google.com/file/d/17PIgUPWrXOLFbUYqTAnl1cgWqnWHgX1B/view?usp=sharing"
      ]
    },
    {
      "cell_type": "code",
      "metadata": {
        "id": "wOS5ffsdkAiu"
      },
      "source": [
        "from numpy import array\n",
        "from numpy import asarray\n",
        "from numpy import zeros\n",
        "\n",
        "glove_path=r'/gdrive/My Drive/glove.6B.100d.txt'\n",
        "embeddings_dictionary = dict()\n",
        "glove_file = open(glove_path, encoding=\"utf8\")\n",
        "\n",
        "for line in glove_file:\n",
        "    records = line.split()\n",
        "    word = records[0]\n",
        "    vector_dimensions = asarray(records[1:], dtype='float32')\n",
        "    embeddings_dictionary [word] = vector_dimensions\n",
        "glove_file.close()"
      ],
      "execution_count": 15,
      "outputs": []
    },
    {
      "cell_type": "markdown",
      "metadata": {
        "id": "jxW3vnn6INGC"
      },
      "source": [
        "Enfin, nous allons créer une embedding matrix où chaque numéro de ligne correspondra à l'index du mot. La matrice aura 100 colonnes où chaque colonne contiendra les embeddings de mots GloVe."
      ]
    },
    {
      "cell_type": "code",
      "metadata": {
        "id": "eKSc-2jom30B"
      },
      "source": [
        "embedding_matrix = zeros((vocab_size,100))\n",
        "for word, index in tokenizer.word_index.items():\n",
        "    embedding_vector = embeddings_dictionary.get(word)\n",
        "    if embedding_vector is not None:\n",
        "        embedding_matrix[index] = embedding_vector"
      ],
      "execution_count": 16,
      "outputs": []
    },
    {
      "cell_type": "markdown",
      "metadata": {
        "id": "QQUyrighIdMd"
      },
      "source": [
        "# V- CNN model"
      ]
    },
    {
      "cell_type": "markdown",
      "metadata": {
        "id": "mHfkvOXQoHFD"
      },
      "source": [
        "* Construire le model"
      ]
    },
    {
      "cell_type": "code",
      "metadata": {
        "id": "vnPEv7_tapmK"
      },
      "source": [
        "from keras.layers import MaxPooling1D,Conv1D,GlobalMaxPooling1D\n",
        "from keras.models import Sequential, Model\n",
        "from keras.layers import Activation, Dense, Dropout, Flatten, Input, merge,Concatenate\n",
        "\n",
        "\n",
        "\n",
        "###Building the Model. \n",
        "input_tensor = Input(shape=(114,))\n",
        "# Créer un embedding layer(2D)\n",
        "input_layer= Embedding(vocab_size,100, weights=[embedding_matrix], input_length=maxlen , trainable=False)(input_tensor)\n",
        "#liste où on va stocker l'output\n",
        "uni_vec = []\n",
        "#nous allons utiliser 3 filtres avec des n-grams différents( 2-grams, 3-grams, 4-grams)\n",
        "filter_sizes = (2,3,4)\n",
        "for ks in filter_sizes:\n",
        "    #applique 3 convolutions différents à l'embedding layer\n",
        "    conv_layer= Conv1D(128, kernel_size=ks, activation='relu')(input_layer)\n",
        "    maxpool_layer = MaxPooling1D(pool_size=maxlen-ks+1,strides=None, padding='valid')(conv_layer)\n",
        "    flat_layer= Flatten()(maxpool_layer)\n",
        "    uni_vec.append(flat_layer)\n",
        "\n",
        "# concatiner les outputs \n",
        "single_feature_vector = keras.layers.concatenate(uni_vec)\n",
        "#fully Connected Layers\n",
        "dense = Dense(128, activation='relu')(single_feature_vector)\n",
        "dense2 = Dense(128, activation='relu')(dense)\n",
        "out = Dense(1, activation='sigmoid')(dense2)\n",
        "model = Model(inputs=input_tensor, outputs=out)\n",
        "\n"
      ],
      "execution_count": 17,
      "outputs": []
    },
    {
      "cell_type": "code",
      "metadata": {
        "colab": {
          "base_uri": "https://localhost:8080/",
          "height": 906
        },
        "id": "gR9pjhXteuXp",
        "outputId": "1b491027-a65d-4448-c4e0-63cf3fd1b8ef"
      },
      "source": [
        "from IPython.display import SVG\n",
        "from keras.utils.vis_utils import model_to_dot\n",
        "\n",
        "SVG(model_to_dot(model, show_shapes= True, show_layer_names=True, dpi=65).create(prog='dot', format='svg'))"
      ],
      "execution_count": 18,
      "outputs": [
        {
          "output_type": "execute_result",
          "data": {
            "text/plain": [
              "<IPython.core.display.SVG object>"
            ],
            "image/svg+xml": "<svg height=\"649pt\" viewBox=\"0.00 0.00 1214.50 719.00\" width=\"1096pt\" xmlns=\"http://www.w3.org/2000/svg\" xmlns:xlink=\"http://www.w3.org/1999/xlink\">\n<g class=\"graph\" id=\"graph0\" transform=\"scale(.9028 .9028) rotate(0) translate(4 715)\">\n<title>G</title>\n<polygon fill=\"#ffffff\" points=\"-4,4 -4,-715 1210.5,-715 1210.5,4 -4,4\" stroke=\"transparent\"/>\n<!-- 140097451613520 -->\n<g class=\"node\" id=\"node1\">\n<title>140097451613520</title>\n<polygon fill=\"none\" points=\"453,-664.5 453,-710.5 739,-710.5 739,-664.5 453,-664.5\" stroke=\"#000000\"/>\n<text fill=\"#000000\" font-family=\"Times,serif\" font-size=\"14.00\" text-anchor=\"middle\" x=\"519.5\" y=\"-683.8\">input_1: InputLayer</text>\n<polyline fill=\"none\" points=\"586,-664.5 586,-710.5 \" stroke=\"#000000\"/>\n<text fill=\"#000000\" font-family=\"Times,serif\" font-size=\"14.00\" text-anchor=\"middle\" x=\"615\" y=\"-695.3\">input:</text>\n<polyline fill=\"none\" points=\"586,-687.5 644,-687.5 \" stroke=\"#000000\"/>\n<text fill=\"#000000\" font-family=\"Times,serif\" font-size=\"14.00\" text-anchor=\"middle\" x=\"615\" y=\"-672.3\">output:</text>\n<polyline fill=\"none\" points=\"644,-664.5 644,-710.5 \" stroke=\"#000000\"/>\n<text fill=\"#000000\" font-family=\"Times,serif\" font-size=\"14.00\" text-anchor=\"middle\" x=\"691.5\" y=\"-695.3\">[(None, 114)]</text>\n<polyline fill=\"none\" points=\"644,-687.5 739,-687.5 \" stroke=\"#000000\"/>\n<text fill=\"#000000\" font-family=\"Times,serif\" font-size=\"14.00\" text-anchor=\"middle\" x=\"691.5\" y=\"-672.3\">[(None, 114)]</text>\n</g>\n<!-- 140097451582032 -->\n<g class=\"node\" id=\"node2\">\n<title>140097451582032</title>\n<polygon fill=\"none\" points=\"431,-581.5 431,-627.5 761,-627.5 761,-581.5 431,-581.5\" stroke=\"#000000\"/>\n<text fill=\"#000000\" font-family=\"Times,serif\" font-size=\"14.00\" text-anchor=\"middle\" x=\"509\" y=\"-600.8\">embedding: Embedding</text>\n<polyline fill=\"none\" points=\"587,-581.5 587,-627.5 \" stroke=\"#000000\"/>\n<text fill=\"#000000\" font-family=\"Times,serif\" font-size=\"14.00\" text-anchor=\"middle\" x=\"616\" y=\"-612.3\">input:</text>\n<polyline fill=\"none\" points=\"587,-604.5 645,-604.5 \" stroke=\"#000000\"/>\n<text fill=\"#000000\" font-family=\"Times,serif\" font-size=\"14.00\" text-anchor=\"middle\" x=\"616\" y=\"-589.3\">output:</text>\n<polyline fill=\"none\" points=\"645,-581.5 645,-627.5 \" stroke=\"#000000\"/>\n<text fill=\"#000000\" font-family=\"Times,serif\" font-size=\"14.00\" text-anchor=\"middle\" x=\"703\" y=\"-612.3\">(None, 114)</text>\n<polyline fill=\"none\" points=\"645,-604.5 761,-604.5 \" stroke=\"#000000\"/>\n<text fill=\"#000000\" font-family=\"Times,serif\" font-size=\"14.00\" text-anchor=\"middle\" x=\"703\" y=\"-589.3\">(None, 114, 100)</text>\n</g>\n<!-- 140097451613520&#45;&gt;140097451582032 -->\n<g class=\"edge\" id=\"edge1\">\n<title>140097451613520-&gt;140097451582032</title>\n<path d=\"M596,-664.3799C596,-656.1745 596,-646.7679 596,-637.8786\" fill=\"none\" stroke=\"#000000\"/>\n<polygon fill=\"#000000\" points=\"599.5001,-637.784 596,-627.784 592.5001,-637.784 599.5001,-637.784\" stroke=\"#000000\"/>\n</g>\n<!-- 140097451736144 -->\n<g class=\"node\" id=\"node3\">\n<title>140097451736144</title>\n<polygon fill=\"none\" points=\"88,-498.5 88,-544.5 380,-544.5 380,-498.5 88,-498.5\" stroke=\"#000000\"/>\n<text fill=\"#000000\" font-family=\"Times,serif\" font-size=\"14.00\" text-anchor=\"middle\" x=\"147\" y=\"-517.8\">conv1d: Conv1D</text>\n<polyline fill=\"none\" points=\"206,-498.5 206,-544.5 \" stroke=\"#000000\"/>\n<text fill=\"#000000\" font-family=\"Times,serif\" font-size=\"14.00\" text-anchor=\"middle\" x=\"235\" y=\"-529.3\">input:</text>\n<polyline fill=\"none\" points=\"206,-521.5 264,-521.5 \" stroke=\"#000000\"/>\n<text fill=\"#000000\" font-family=\"Times,serif\" font-size=\"14.00\" text-anchor=\"middle\" x=\"235\" y=\"-506.3\">output:</text>\n<polyline fill=\"none\" points=\"264,-498.5 264,-544.5 \" stroke=\"#000000\"/>\n<text fill=\"#000000\" font-family=\"Times,serif\" font-size=\"14.00\" text-anchor=\"middle\" x=\"322\" y=\"-529.3\">(None, 114, 100)</text>\n<polyline fill=\"none\" points=\"264,-521.5 380,-521.5 \" stroke=\"#000000\"/>\n<text fill=\"#000000\" font-family=\"Times,serif\" font-size=\"14.00\" text-anchor=\"middle\" x=\"322\" y=\"-506.3\">(None, 113, 128)</text>\n</g>\n<!-- 140097451582032&#45;&gt;140097451736144 -->\n<g class=\"edge\" id=\"edge2\">\n<title>140097451582032-&gt;140097451736144</title>\n<path d=\"M495.6435,-581.4901C448.6621,-570.7181 392.5689,-557.857 344.3909,-546.8106\" fill=\"none\" stroke=\"#000000\"/>\n<polygon fill=\"#000000\" points=\"345.081,-543.3781 334.5517,-544.5547 343.5165,-550.201 345.081,-543.3781\" stroke=\"#000000\"/>\n</g>\n<!-- 140097448665040 -->\n<g class=\"node\" id=\"node4\">\n<title>140097448665040</title>\n<polygon fill=\"none\" points=\"442.5,-498.5 442.5,-544.5 749.5,-544.5 749.5,-498.5 442.5,-498.5\" stroke=\"#000000\"/>\n<text fill=\"#000000\" font-family=\"Times,serif\" font-size=\"14.00\" text-anchor=\"middle\" x=\"509\" y=\"-517.8\">conv1d_1: Conv1D</text>\n<polyline fill=\"none\" points=\"575.5,-498.5 575.5,-544.5 \" stroke=\"#000000\"/>\n<text fill=\"#000000\" font-family=\"Times,serif\" font-size=\"14.00\" text-anchor=\"middle\" x=\"604.5\" y=\"-529.3\">input:</text>\n<polyline fill=\"none\" points=\"575.5,-521.5 633.5,-521.5 \" stroke=\"#000000\"/>\n<text fill=\"#000000\" font-family=\"Times,serif\" font-size=\"14.00\" text-anchor=\"middle\" x=\"604.5\" y=\"-506.3\">output:</text>\n<polyline fill=\"none\" points=\"633.5,-498.5 633.5,-544.5 \" stroke=\"#000000\"/>\n<text fill=\"#000000\" font-family=\"Times,serif\" font-size=\"14.00\" text-anchor=\"middle\" x=\"691.5\" y=\"-529.3\">(None, 114, 100)</text>\n<polyline fill=\"none\" points=\"633.5,-521.5 749.5,-521.5 \" stroke=\"#000000\"/>\n<text fill=\"#000000\" font-family=\"Times,serif\" font-size=\"14.00\" text-anchor=\"middle\" x=\"691.5\" y=\"-506.3\">(None, 112, 128)</text>\n</g>\n<!-- 140097451582032&#45;&gt;140097448665040 -->\n<g class=\"edge\" id=\"edge3\">\n<title>140097451582032-&gt;140097448665040</title>\n<path d=\"M596,-581.3799C596,-573.1745 596,-563.7679 596,-554.8786\" fill=\"none\" stroke=\"#000000\"/>\n<polygon fill=\"#000000\" points=\"599.5001,-554.784 596,-544.784 592.5001,-554.784 599.5001,-554.784\" stroke=\"#000000\"/>\n</g>\n<!-- 140097448757008 -->\n<g class=\"node\" id=\"node5\">\n<title>140097448757008</title>\n<polygon fill=\"none\" points=\"811.5,-498.5 811.5,-544.5 1118.5,-544.5 1118.5,-498.5 811.5,-498.5\" stroke=\"#000000\"/>\n<text fill=\"#000000\" font-family=\"Times,serif\" font-size=\"14.00\" text-anchor=\"middle\" x=\"878\" y=\"-517.8\">conv1d_2: Conv1D</text>\n<polyline fill=\"none\" points=\"944.5,-498.5 944.5,-544.5 \" stroke=\"#000000\"/>\n<text fill=\"#000000\" font-family=\"Times,serif\" font-size=\"14.00\" text-anchor=\"middle\" x=\"973.5\" y=\"-529.3\">input:</text>\n<polyline fill=\"none\" points=\"944.5,-521.5 1002.5,-521.5 \" stroke=\"#000000\"/>\n<text fill=\"#000000\" font-family=\"Times,serif\" font-size=\"14.00\" text-anchor=\"middle\" x=\"973.5\" y=\"-506.3\">output:</text>\n<polyline fill=\"none\" points=\"1002.5,-498.5 1002.5,-544.5 \" stroke=\"#000000\"/>\n<text fill=\"#000000\" font-family=\"Times,serif\" font-size=\"14.00\" text-anchor=\"middle\" x=\"1060.5\" y=\"-529.3\">(None, 114, 100)</text>\n<polyline fill=\"none\" points=\"1002.5,-521.5 1118.5,-521.5 \" stroke=\"#000000\"/>\n<text fill=\"#000000\" font-family=\"Times,serif\" font-size=\"14.00\" text-anchor=\"middle\" x=\"1060.5\" y=\"-506.3\">(None, 111, 128)</text>\n</g>\n<!-- 140097451582032&#45;&gt;140097448757008 -->\n<g class=\"edge\" id=\"edge4\">\n<title>140097451582032-&gt;140097448757008</title>\n<path d=\"M698.297,-581.4901C746.1869,-570.7181 803.3648,-557.857 852.4745,-546.8106\" fill=\"none\" stroke=\"#000000\"/>\n<polygon fill=\"#000000\" points=\"853.5158,-550.1639 862.504,-544.5547 851.9796,-543.3345 853.5158,-550.1639\" stroke=\"#000000\"/>\n</g>\n<!-- 140097451734480 -->\n<g class=\"node\" id=\"node6\">\n<title>140097451734480</title>\n<polygon fill=\"none\" points=\"0,-415.5 0,-461.5 380,-461.5 380,-415.5 0,-415.5\" stroke=\"#000000\"/>\n<text fill=\"#000000\" font-family=\"Times,serif\" font-size=\"14.00\" text-anchor=\"middle\" x=\"103\" y=\"-434.8\">max_pooling1d: MaxPooling1D</text>\n<polyline fill=\"none\" points=\"206,-415.5 206,-461.5 \" stroke=\"#000000\"/>\n<text fill=\"#000000\" font-family=\"Times,serif\" font-size=\"14.00\" text-anchor=\"middle\" x=\"235\" y=\"-446.3\">input:</text>\n<polyline fill=\"none\" points=\"206,-438.5 264,-438.5 \" stroke=\"#000000\"/>\n<text fill=\"#000000\" font-family=\"Times,serif\" font-size=\"14.00\" text-anchor=\"middle\" x=\"235\" y=\"-423.3\">output:</text>\n<polyline fill=\"none\" points=\"264,-415.5 264,-461.5 \" stroke=\"#000000\"/>\n<text fill=\"#000000\" font-family=\"Times,serif\" font-size=\"14.00\" text-anchor=\"middle\" x=\"322\" y=\"-446.3\">(None, 113, 128)</text>\n<polyline fill=\"none\" points=\"264,-438.5 380,-438.5 \" stroke=\"#000000\"/>\n<text fill=\"#000000\" font-family=\"Times,serif\" font-size=\"14.00\" text-anchor=\"middle\" x=\"322\" y=\"-423.3\">(None, 1, 128)</text>\n</g>\n<!-- 140097451736144&#45;&gt;140097451734480 -->\n<g class=\"edge\" id=\"edge5\">\n<title>140097451736144-&gt;140097451734480</title>\n<path d=\"M221.7435,-498.3799C217.2046,-489.8178 211.9723,-479.9477 207.0817,-470.7222\" fill=\"none\" stroke=\"#000000\"/>\n<polygon fill=\"#000000\" points=\"210.1195,-468.98 202.3433,-461.784 203.9348,-472.2586 210.1195,-468.98\" stroke=\"#000000\"/>\n</g>\n<!-- 140097448688464 -->\n<g class=\"node\" id=\"node7\">\n<title>140097448688464</title>\n<polygon fill=\"none\" points=\"398.5,-415.5 398.5,-461.5 793.5,-461.5 793.5,-415.5 398.5,-415.5\" stroke=\"#000000\"/>\n<text fill=\"#000000\" font-family=\"Times,serif\" font-size=\"14.00\" text-anchor=\"middle\" x=\"509\" y=\"-434.8\">max_pooling1d_1: MaxPooling1D</text>\n<polyline fill=\"none\" points=\"619.5,-415.5 619.5,-461.5 \" stroke=\"#000000\"/>\n<text fill=\"#000000\" font-family=\"Times,serif\" font-size=\"14.00\" text-anchor=\"middle\" x=\"648.5\" y=\"-446.3\">input:</text>\n<polyline fill=\"none\" points=\"619.5,-438.5 677.5,-438.5 \" stroke=\"#000000\"/>\n<text fill=\"#000000\" font-family=\"Times,serif\" font-size=\"14.00\" text-anchor=\"middle\" x=\"648.5\" y=\"-423.3\">output:</text>\n<polyline fill=\"none\" points=\"677.5,-415.5 677.5,-461.5 \" stroke=\"#000000\"/>\n<text fill=\"#000000\" font-family=\"Times,serif\" font-size=\"14.00\" text-anchor=\"middle\" x=\"735.5\" y=\"-446.3\">(None, 112, 128)</text>\n<polyline fill=\"none\" points=\"677.5,-438.5 793.5,-438.5 \" stroke=\"#000000\"/>\n<text fill=\"#000000\" font-family=\"Times,serif\" font-size=\"14.00\" text-anchor=\"middle\" x=\"735.5\" y=\"-423.3\">(None, 1, 128)</text>\n</g>\n<!-- 140097448665040&#45;&gt;140097448688464 -->\n<g class=\"edge\" id=\"edge6\">\n<title>140097448665040-&gt;140097448688464</title>\n<path d=\"M596,-498.3799C596,-490.1745 596,-480.7679 596,-471.8786\" fill=\"none\" stroke=\"#000000\"/>\n<polygon fill=\"#000000\" points=\"599.5001,-471.784 596,-461.784 592.5001,-471.784 599.5001,-471.784\" stroke=\"#000000\"/>\n</g>\n<!-- 140097448757520 -->\n<g class=\"node\" id=\"node8\">\n<title>140097448757520</title>\n<polygon fill=\"none\" points=\"811.5,-415.5 811.5,-461.5 1206.5,-461.5 1206.5,-415.5 811.5,-415.5\" stroke=\"#000000\"/>\n<text fill=\"#000000\" font-family=\"Times,serif\" font-size=\"14.00\" text-anchor=\"middle\" x=\"922\" y=\"-434.8\">max_pooling1d_2: MaxPooling1D</text>\n<polyline fill=\"none\" points=\"1032.5,-415.5 1032.5,-461.5 \" stroke=\"#000000\"/>\n<text fill=\"#000000\" font-family=\"Times,serif\" font-size=\"14.00\" text-anchor=\"middle\" x=\"1061.5\" y=\"-446.3\">input:</text>\n<polyline fill=\"none\" points=\"1032.5,-438.5 1090.5,-438.5 \" stroke=\"#000000\"/>\n<text fill=\"#000000\" font-family=\"Times,serif\" font-size=\"14.00\" text-anchor=\"middle\" x=\"1061.5\" y=\"-423.3\">output:</text>\n<polyline fill=\"none\" points=\"1090.5,-415.5 1090.5,-461.5 \" stroke=\"#000000\"/>\n<text fill=\"#000000\" font-family=\"Times,serif\" font-size=\"14.00\" text-anchor=\"middle\" x=\"1148.5\" y=\"-446.3\">(None, 111, 128)</text>\n<polyline fill=\"none\" points=\"1090.5,-438.5 1206.5,-438.5 \" stroke=\"#000000\"/>\n<text fill=\"#000000\" font-family=\"Times,serif\" font-size=\"14.00\" text-anchor=\"middle\" x=\"1148.5\" y=\"-423.3\">(None, 1, 128)</text>\n</g>\n<!-- 140097448757008&#45;&gt;140097448757520 -->\n<g class=\"edge\" id=\"edge7\">\n<title>140097448757008-&gt;140097448757520</title>\n<path d=\"M977.2565,-498.3799C981.7954,-489.8178 987.0277,-479.9477 991.9183,-470.7222\" fill=\"none\" stroke=\"#000000\"/>\n<polygon fill=\"#000000\" points=\"995.0652,-472.2586 996.6567,-461.784 988.8805,-468.98 995.0652,-472.2586\" stroke=\"#000000\"/>\n</g>\n<!-- 140097448652496 -->\n<g class=\"node\" id=\"node9\">\n<title>140097448652496</title>\n<polygon fill=\"none\" points=\"122,-332.5 122,-378.5 380,-378.5 380,-332.5 122,-332.5\" stroke=\"#000000\"/>\n<text fill=\"#000000\" font-family=\"Times,serif\" font-size=\"14.00\" text-anchor=\"middle\" x=\"171\" y=\"-351.8\">flatten: Flatten</text>\n<polyline fill=\"none\" points=\"220,-332.5 220,-378.5 \" stroke=\"#000000\"/>\n<text fill=\"#000000\" font-family=\"Times,serif\" font-size=\"14.00\" text-anchor=\"middle\" x=\"249\" y=\"-363.3\">input:</text>\n<polyline fill=\"none\" points=\"220,-355.5 278,-355.5 \" stroke=\"#000000\"/>\n<text fill=\"#000000\" font-family=\"Times,serif\" font-size=\"14.00\" text-anchor=\"middle\" x=\"249\" y=\"-340.3\">output:</text>\n<polyline fill=\"none\" points=\"278,-332.5 278,-378.5 \" stroke=\"#000000\"/>\n<text fill=\"#000000\" font-family=\"Times,serif\" font-size=\"14.00\" text-anchor=\"middle\" x=\"329\" y=\"-363.3\">(None, 1, 128)</text>\n<polyline fill=\"none\" points=\"278,-355.5 380,-355.5 \" stroke=\"#000000\"/>\n<text fill=\"#000000\" font-family=\"Times,serif\" font-size=\"14.00\" text-anchor=\"middle\" x=\"329\" y=\"-340.3\">(None, 128)</text>\n</g>\n<!-- 140097451734480&#45;&gt;140097448652496 -->\n<g class=\"edge\" id=\"edge8\">\n<title>140097451734480-&gt;140097448652496</title>\n<path d=\"M206.9919,-415.3799C213.4812,-406.5502 220.9928,-396.3295 227.9528,-386.8593\" fill=\"none\" stroke=\"#000000\"/>\n<polygon fill=\"#000000\" points=\"230.7858,-388.9146 233.8877,-378.784 225.1453,-384.7692 230.7858,-388.9146\" stroke=\"#000000\"/>\n</g>\n<!-- 140097448716240 -->\n<g class=\"node\" id=\"node10\">\n<title>140097448716240</title>\n<polygon fill=\"none\" points=\"459.5,-332.5 459.5,-378.5 732.5,-378.5 732.5,-332.5 459.5,-332.5\" stroke=\"#000000\"/>\n<text fill=\"#000000\" font-family=\"Times,serif\" font-size=\"14.00\" text-anchor=\"middle\" x=\"516\" y=\"-351.8\">flatten_1: Flatten</text>\n<polyline fill=\"none\" points=\"572.5,-332.5 572.5,-378.5 \" stroke=\"#000000\"/>\n<text fill=\"#000000\" font-family=\"Times,serif\" font-size=\"14.00\" text-anchor=\"middle\" x=\"601.5\" y=\"-363.3\">input:</text>\n<polyline fill=\"none\" points=\"572.5,-355.5 630.5,-355.5 \" stroke=\"#000000\"/>\n<text fill=\"#000000\" font-family=\"Times,serif\" font-size=\"14.00\" text-anchor=\"middle\" x=\"601.5\" y=\"-340.3\">output:</text>\n<polyline fill=\"none\" points=\"630.5,-332.5 630.5,-378.5 \" stroke=\"#000000\"/>\n<text fill=\"#000000\" font-family=\"Times,serif\" font-size=\"14.00\" text-anchor=\"middle\" x=\"681.5\" y=\"-363.3\">(None, 1, 128)</text>\n<polyline fill=\"none\" points=\"630.5,-355.5 732.5,-355.5 \" stroke=\"#000000\"/>\n<text fill=\"#000000\" font-family=\"Times,serif\" font-size=\"14.00\" text-anchor=\"middle\" x=\"681.5\" y=\"-340.3\">(None, 128)</text>\n</g>\n<!-- 140097448688464&#45;&gt;140097448716240 -->\n<g class=\"edge\" id=\"edge9\">\n<title>140097448688464-&gt;140097448716240</title>\n<path d=\"M596,-415.3799C596,-407.1745 596,-397.7679 596,-388.8786\" fill=\"none\" stroke=\"#000000\"/>\n<polygon fill=\"#000000\" points=\"599.5001,-388.784 596,-378.784 592.5001,-388.784 599.5001,-388.784\" stroke=\"#000000\"/>\n</g>\n<!-- 140097448709072 -->\n<g class=\"node\" id=\"node11\">\n<title>140097448709072</title>\n<polygon fill=\"none\" points=\"811.5,-332.5 811.5,-378.5 1084.5,-378.5 1084.5,-332.5 811.5,-332.5\" stroke=\"#000000\"/>\n<text fill=\"#000000\" font-family=\"Times,serif\" font-size=\"14.00\" text-anchor=\"middle\" x=\"868\" y=\"-351.8\">flatten_2: Flatten</text>\n<polyline fill=\"none\" points=\"924.5,-332.5 924.5,-378.5 \" stroke=\"#000000\"/>\n<text fill=\"#000000\" font-family=\"Times,serif\" font-size=\"14.00\" text-anchor=\"middle\" x=\"953.5\" y=\"-363.3\">input:</text>\n<polyline fill=\"none\" points=\"924.5,-355.5 982.5,-355.5 \" stroke=\"#000000\"/>\n<text fill=\"#000000\" font-family=\"Times,serif\" font-size=\"14.00\" text-anchor=\"middle\" x=\"953.5\" y=\"-340.3\">output:</text>\n<polyline fill=\"none\" points=\"982.5,-332.5 982.5,-378.5 \" stroke=\"#000000\"/>\n<text fill=\"#000000\" font-family=\"Times,serif\" font-size=\"14.00\" text-anchor=\"middle\" x=\"1033.5\" y=\"-363.3\">(None, 1, 128)</text>\n<polyline fill=\"none\" points=\"982.5,-355.5 1084.5,-355.5 \" stroke=\"#000000\"/>\n<text fill=\"#000000\" font-family=\"Times,serif\" font-size=\"14.00\" text-anchor=\"middle\" x=\"1033.5\" y=\"-340.3\">(None, 128)</text>\n</g>\n<!-- 140097448757520&#45;&gt;140097448709072 -->\n<g class=\"edge\" id=\"edge10\">\n<title>140097448757520-&gt;140097448709072</title>\n<path d=\"M992.0081,-415.3799C985.5188,-406.5502 978.0072,-396.3295 971.0472,-386.8593\" fill=\"none\" stroke=\"#000000\"/>\n<polygon fill=\"#000000\" points=\"973.8547,-384.7692 965.1123,-378.784 968.2142,-388.9146 973.8547,-384.7692\" stroke=\"#000000\"/>\n</g>\n<!-- 140097451735184 -->\n<g class=\"node\" id=\"node12\">\n<title>140097451735184</title>\n<polygon fill=\"none\" points=\"361,-249.5 361,-295.5 831,-295.5 831,-249.5 361,-249.5\" stroke=\"#000000\"/>\n<text fill=\"#000000\" font-family=\"Times,serif\" font-size=\"14.00\" text-anchor=\"middle\" x=\"441\" y=\"-268.8\">concatenate: Concatenate</text>\n<polyline fill=\"none\" points=\"521,-249.5 521,-295.5 \" stroke=\"#000000\"/>\n<text fill=\"#000000\" font-family=\"Times,serif\" font-size=\"14.00\" text-anchor=\"middle\" x=\"550\" y=\"-280.3\">input:</text>\n<polyline fill=\"none\" points=\"521,-272.5 579,-272.5 \" stroke=\"#000000\"/>\n<text fill=\"#000000\" font-family=\"Times,serif\" font-size=\"14.00\" text-anchor=\"middle\" x=\"550\" y=\"-257.3\">output:</text>\n<polyline fill=\"none\" points=\"579,-249.5 579,-295.5 \" stroke=\"#000000\"/>\n<text fill=\"#000000\" font-family=\"Times,serif\" font-size=\"14.00\" text-anchor=\"middle\" x=\"705\" y=\"-280.3\">[(None, 128), (None, 128), (None, 128)]</text>\n<polyline fill=\"none\" points=\"579,-272.5 831,-272.5 \" stroke=\"#000000\"/>\n<text fill=\"#000000\" font-family=\"Times,serif\" font-size=\"14.00\" text-anchor=\"middle\" x=\"705\" y=\"-257.3\">(None, 384)</text>\n</g>\n<!-- 140097448652496&#45;&gt;140097451735184 -->\n<g class=\"edge\" id=\"edge11\">\n<title>140097448652496-&gt;140097451735184</title>\n<path d=\"M346.6436,-332.4901C391.2317,-321.7631 444.4314,-308.9643 490.2177,-297.9491\" fill=\"none\" stroke=\"#000000\"/>\n<polygon fill=\"#000000\" points=\"491.2665,-301.2967 500.1704,-295.5547 489.6291,-294.4909 491.2665,-301.2967\" stroke=\"#000000\"/>\n</g>\n<!-- 140097448716240&#45;&gt;140097451735184 -->\n<g class=\"edge\" id=\"edge12\">\n<title>140097448716240-&gt;140097451735184</title>\n<path d=\"M596,-332.3799C596,-324.1745 596,-314.7679 596,-305.8786\" fill=\"none\" stroke=\"#000000\"/>\n<polygon fill=\"#000000\" points=\"599.5001,-305.784 596,-295.784 592.5001,-305.784 599.5001,-305.784\" stroke=\"#000000\"/>\n</g>\n<!-- 140097448709072&#45;&gt;140097451735184 -->\n<g class=\"edge\" id=\"edge13\">\n<title>140097448709072-&gt;140097451735184</title>\n<path d=\"M850.4158,-332.4901C804.8276,-321.7406 750.4163,-308.9107 703.6349,-297.8798\" fill=\"none\" stroke=\"#000000\"/>\n<polygon fill=\"#000000\" points=\"704.3104,-294.4432 693.774,-295.5547 702.7038,-301.2563 704.3104,-294.4432\" stroke=\"#000000\"/>\n</g>\n<!-- 140097451734416 -->\n<g class=\"node\" id=\"node13\">\n<title>140097451734416</title>\n<polygon fill=\"none\" points=\"477.5,-166.5 477.5,-212.5 714.5,-212.5 714.5,-166.5 477.5,-166.5\" stroke=\"#000000\"/>\n<text fill=\"#000000\" font-family=\"Times,serif\" font-size=\"14.00\" text-anchor=\"middle\" x=\"523.5\" y=\"-185.8\">dense: Dense</text>\n<polyline fill=\"none\" points=\"569.5,-166.5 569.5,-212.5 \" stroke=\"#000000\"/>\n<text fill=\"#000000\" font-family=\"Times,serif\" font-size=\"14.00\" text-anchor=\"middle\" x=\"598.5\" y=\"-197.3\">input:</text>\n<polyline fill=\"none\" points=\"569.5,-189.5 627.5,-189.5 \" stroke=\"#000000\"/>\n<text fill=\"#000000\" font-family=\"Times,serif\" font-size=\"14.00\" text-anchor=\"middle\" x=\"598.5\" y=\"-174.3\">output:</text>\n<polyline fill=\"none\" points=\"627.5,-166.5 627.5,-212.5 \" stroke=\"#000000\"/>\n<text fill=\"#000000\" font-family=\"Times,serif\" font-size=\"14.00\" text-anchor=\"middle\" x=\"671\" y=\"-197.3\">(None, 384)</text>\n<polyline fill=\"none\" points=\"627.5,-189.5 714.5,-189.5 \" stroke=\"#000000\"/>\n<text fill=\"#000000\" font-family=\"Times,serif\" font-size=\"14.00\" text-anchor=\"middle\" x=\"671\" y=\"-174.3\">(None, 128)</text>\n</g>\n<!-- 140097451735184&#45;&gt;140097451734416 -->\n<g class=\"edge\" id=\"edge14\">\n<title>140097451735184-&gt;140097451734416</title>\n<path d=\"M596,-249.3799C596,-241.1745 596,-231.7679 596,-222.8786\" fill=\"none\" stroke=\"#000000\"/>\n<polygon fill=\"#000000\" points=\"599.5001,-222.784 596,-212.784 592.5001,-222.784 599.5001,-222.784\" stroke=\"#000000\"/>\n</g>\n<!-- 140097448285200 -->\n<g class=\"node\" id=\"node14\">\n<title>140097448285200</title>\n<polygon fill=\"none\" points=\"470,-83.5 470,-129.5 722,-129.5 722,-83.5 470,-83.5\" stroke=\"#000000\"/>\n<text fill=\"#000000\" font-family=\"Times,serif\" font-size=\"14.00\" text-anchor=\"middle\" x=\"523.5\" y=\"-102.8\">dense_1: Dense</text>\n<polyline fill=\"none\" points=\"577,-83.5 577,-129.5 \" stroke=\"#000000\"/>\n<text fill=\"#000000\" font-family=\"Times,serif\" font-size=\"14.00\" text-anchor=\"middle\" x=\"606\" y=\"-114.3\">input:</text>\n<polyline fill=\"none\" points=\"577,-106.5 635,-106.5 \" stroke=\"#000000\"/>\n<text fill=\"#000000\" font-family=\"Times,serif\" font-size=\"14.00\" text-anchor=\"middle\" x=\"606\" y=\"-91.3\">output:</text>\n<polyline fill=\"none\" points=\"635,-83.5 635,-129.5 \" stroke=\"#000000\"/>\n<text fill=\"#000000\" font-family=\"Times,serif\" font-size=\"14.00\" text-anchor=\"middle\" x=\"678.5\" y=\"-114.3\">(None, 128)</text>\n<polyline fill=\"none\" points=\"635,-106.5 722,-106.5 \" stroke=\"#000000\"/>\n<text fill=\"#000000\" font-family=\"Times,serif\" font-size=\"14.00\" text-anchor=\"middle\" x=\"678.5\" y=\"-91.3\">(None, 128)</text>\n</g>\n<!-- 140097451734416&#45;&gt;140097448285200 -->\n<g class=\"edge\" id=\"edge15\">\n<title>140097451734416-&gt;140097448285200</title>\n<path d=\"M596,-166.3799C596,-158.1745 596,-148.7679 596,-139.8786\" fill=\"none\" stroke=\"#000000\"/>\n<polygon fill=\"#000000\" points=\"599.5001,-139.784 596,-129.784 592.5001,-139.784 599.5001,-139.784\" stroke=\"#000000\"/>\n</g>\n<!-- 140097448287504 -->\n<g class=\"node\" id=\"node15\">\n<title>140097448287504</title>\n<polygon fill=\"none\" points=\"470,-.5 470,-46.5 722,-46.5 722,-.5 470,-.5\" stroke=\"#000000\"/>\n<text fill=\"#000000\" font-family=\"Times,serif\" font-size=\"14.00\" text-anchor=\"middle\" x=\"523.5\" y=\"-19.8\">dense_2: Dense</text>\n<polyline fill=\"none\" points=\"577,-.5 577,-46.5 \" stroke=\"#000000\"/>\n<text fill=\"#000000\" font-family=\"Times,serif\" font-size=\"14.00\" text-anchor=\"middle\" x=\"606\" y=\"-31.3\">input:</text>\n<polyline fill=\"none\" points=\"577,-23.5 635,-23.5 \" stroke=\"#000000\"/>\n<text fill=\"#000000\" font-family=\"Times,serif\" font-size=\"14.00\" text-anchor=\"middle\" x=\"606\" y=\"-8.3\">output:</text>\n<polyline fill=\"none\" points=\"635,-.5 635,-46.5 \" stroke=\"#000000\"/>\n<text fill=\"#000000\" font-family=\"Times,serif\" font-size=\"14.00\" text-anchor=\"middle\" x=\"678.5\" y=\"-31.3\">(None, 128)</text>\n<polyline fill=\"none\" points=\"635,-23.5 722,-23.5 \" stroke=\"#000000\"/>\n<text fill=\"#000000\" font-family=\"Times,serif\" font-size=\"14.00\" text-anchor=\"middle\" x=\"678.5\" y=\"-8.3\">(None, 1)</text>\n</g>\n<!-- 140097448285200&#45;&gt;140097448287504 -->\n<g class=\"edge\" id=\"edge16\">\n<title>140097448285200-&gt;140097448287504</title>\n<path d=\"M596,-83.3799C596,-75.1745 596,-65.7679 596,-56.8786\" fill=\"none\" stroke=\"#000000\"/>\n<polygon fill=\"#000000\" points=\"599.5001,-56.784 596,-46.784 592.5001,-56.784 599.5001,-56.784\" stroke=\"#000000\"/>\n</g>\n</g>\n</svg>"
          },
          "metadata": {
            "tags": []
          },
          "execution_count": 18
        }
      ]
    },
    {
      "cell_type": "markdown",
      "metadata": {
        "id": "vQ4SabuZwA7E"
      },
      "source": [
        "* compiler le model"
      ]
    },
    {
      "cell_type": "code",
      "metadata": {
        "id": "qGO3pmPgb7sb"
      },
      "source": [
        "model.compile(optimizer='adam', loss='binary_crossentropy', metrics=['acc'])"
      ],
      "execution_count": 19,
      "outputs": []
    },
    {
      "cell_type": "markdown",
      "metadata": {
        "id": "E1Y8cIIqJDcn"
      },
      "source": [
        "* train le model"
      ]
    },
    {
      "cell_type": "code",
      "metadata": {
        "colab": {
          "base_uri": "https://localhost:8080/"
        },
        "id": "mvOS4Xc0pMPz",
        "outputId": "f9c53571-8df3-4574-a225-73b0e7e38eac"
      },
      "source": [
        "history = model.fit(X_train, y_train, batch_size=64, epochs=10, verbose=1, validation_split=0.2)"
      ],
      "execution_count": 20,
      "outputs": [
        {
          "output_type": "stream",
          "text": [
            "Epoch 1/10\n",
            "2213/2213 [==============================] - 64s 9ms/step - loss: 0.0050 - acc: 0.9984 - val_loss: 4.4416e-09 - val_acc: 1.0000\n",
            "Epoch 2/10\n",
            "2213/2213 [==============================] - 18s 8ms/step - loss: 3.9055e-09 - acc: 1.0000 - val_loss: 2.8574e-09 - val_acc: 1.0000\n",
            "Epoch 3/10\n",
            "2213/2213 [==============================] - 18s 8ms/step - loss: 2.6336e-09 - acc: 1.0000 - val_loss: 2.1362e-09 - val_acc: 1.0000\n",
            "Epoch 4/10\n",
            "2213/2213 [==============================] - 18s 8ms/step - loss: 2.1508e-09 - acc: 1.0000 - val_loss: 1.9605e-09 - val_acc: 1.0000\n",
            "Epoch 5/10\n",
            "2213/2213 [==============================] - 18s 8ms/step - loss: 1.9127e-09 - acc: 1.0000 - val_loss: 1.8351e-09 - val_acc: 1.0000\n",
            "Epoch 6/10\n",
            "2213/2213 [==============================] - 18s 8ms/step - loss: 1.8212e-09 - acc: 1.0000 - val_loss: 1.8250e-09 - val_acc: 1.0000\n",
            "Epoch 7/10\n",
            "2213/2213 [==============================] - 18s 8ms/step - loss: 1.7436e-09 - acc: 1.0000 - val_loss: 1.7632e-09 - val_acc: 1.0000\n",
            "Epoch 8/10\n",
            "2213/2213 [==============================] - 18s 8ms/step - loss: 1.6800e-09 - acc: 1.0000 - val_loss: 1.7122e-09 - val_acc: 1.0000\n",
            "Epoch 9/10\n",
            "2213/2213 [==============================] - 18s 8ms/step - loss: 1.6303e-09 - acc: 1.0000 - val_loss: 1.6117e-09 - val_acc: 1.0000\n",
            "Epoch 10/10\n",
            "2213/2213 [==============================] - 18s 8ms/step - loss: 1.5235e-09 - acc: 1.0000 - val_loss: 1.5989e-09 - val_acc: 1.0000\n"
          ],
          "name": "stdout"
        }
      ]
    },
    {
      "cell_type": "markdown",
      "metadata": {
        "id": "6siFb31HJHAc"
      },
      "source": [
        "* evaluer le model sur test set"
      ]
    },
    {
      "cell_type": "code",
      "metadata": {
        "colab": {
          "base_uri": "https://localhost:8080/"
        },
        "id": "6oGV4ihXpOGn",
        "outputId": "d922d955-c877-40f6-a766-f74329d95d2c"
      },
      "source": [
        "score = model.evaluate(X_test, y_test, verbose=1)"
      ],
      "execution_count": 21,
      "outputs": [
        {
          "output_type": "stream",
          "text": [
            "1383/1383 [==============================] - 5s 3ms/step - loss: 1.8769e-05 - acc: 1.0000\n"
          ],
          "name": "stdout"
        }
      ]
    },
    {
      "cell_type": "code",
      "metadata": {
        "colab": {
          "base_uri": "https://localhost:8080/"
        },
        "id": "Ld4aQAnUpOxS",
        "outputId": "746d47bf-dd4e-4b0a-b4e8-eecb2c2d502a"
      },
      "source": [
        "print(\"Test Score:\", score[0])\n",
        "print(\"Test Accuracy:\", score[1])"
      ],
      "execution_count": 22,
      "outputs": [
        {
          "output_type": "stream",
          "text": [
            "Test Score: 1.876874921435956e-05\n",
            "Test Accuracy: 0.9999774098396301\n"
          ],
          "name": "stdout"
        }
      ]
    },
    {
      "cell_type": "markdown",
      "metadata": {
        "id": "yUeZmyDTwMiU"
      },
      "source": [
        "## **Comme vous pouvez voir nous avons atteindre une performance de 99,99% avec le CNN model** "
      ]
    },
    {
      "cell_type": "markdown",
      "metadata": {
        "id": "lCc2itVAJT0f"
      },
      "source": [
        "* Tracons la différence de loss et accuracy entre train set et test set"
      ]
    },
    {
      "cell_type": "code",
      "metadata": {
        "colab": {
          "base_uri": "https://localhost:8080/",
          "height": 573
        },
        "id": "91tcRM_zpR7Z",
        "outputId": "99afae33-f5ab-4e9a-882c-c2b147c9a2c2"
      },
      "source": [
        "import matplotlib.pyplot as plt\n",
        "\n",
        "plt.plot(history.history['acc'])\n",
        "plt.plot(history.history['val_acc'])\n",
        "\n",
        "plt.title('model accuracy')\n",
        "plt.ylabel('accuracy')\n",
        "plt.xlabel('epoch')\n",
        "plt.legend(['train','test'], loc = 'upper left')\n",
        "plt.show()\n",
        "\n",
        "plt.plot(history.history['loss'])\n",
        "plt.plot(history.history['val_loss'])\n",
        "\n",
        "plt.title('model loss')\n",
        "plt.ylabel('loss')\n",
        "plt.xlabel('epoch')\n",
        "plt.legend(['train','test'], loc = 'upper left')\n",
        "plt.show()"
      ],
      "execution_count": 23,
      "outputs": [
        {
          "output_type": "display_data",
          "data": {
            "image/png": "[encoded data removed]",
            "text/plain": [
              "<Figure size 432x288 with 1 Axes>"
            ]
          },
          "metadata": {
            "tags": [],
            "needs_background": "light"
          }
        },
        {
          "output_type": "display_data",
          "data": {
            "image/png": "[encoded data removed]",
            "text/plain": [
              "<Figure size 432x288 with 1 Axes>"
            ]
          },
          "metadata": {
            "tags": [],
            "needs_background": "light"
          }
        }
      ]
    },
    {
      "cell_type": "markdown",
      "metadata": {
        "id": "R7uPb03U3Ydj"
      },
      "source": [
        "# VI- LSTM"
      ]
    },
    {
      "cell_type": "markdown",
      "metadata": {
        "id": "gr4ePt51J_8B"
      },
      "source": [
        "* Constriure le model"
      ]
    },
    {
      "cell_type": "code",
      "metadata": {
        "id": "lvjdragJpVNz"
      },
      "source": [
        "model1 = Sequential()\n",
        "embedding_layer = Embedding(vocab_size, 100, weights=[embedding_matrix], input_length=maxlen , trainable=False)\n",
        "model1.add(embedding_layer)\n",
        "model1.add(LSTM(128))\n",
        "model1.add(Dense(64, activation='relu'))\n",
        "model1.add(Dense(64, activation='relu'))\n",
        "model1.add(Dense(1, activation='sigmoid'))\n",
        "model1.compile(optimizer='adam', loss='binary_crossentropy', metrics=['acc'])\n"
      ],
      "execution_count": 24,
      "outputs": []
    },
    {
      "cell_type": "code",
      "metadata": {
        "colab": {
          "base_uri": "https://localhost:8080/",
          "height": 586
        },
        "id": "2vho9FWLeuVe",
        "outputId": "fbebb0ed-90fc-4603-8e76-e49eeac31aa6"
      },
      "source": [
        "SVG(model_to_dot(model1, show_shapes= True, show_layer_names=True, dpi=65).create(prog='dot', format='svg'))"
      ],
      "execution_count": 25,
      "outputs": [
        {
          "output_type": "execute_result",
          "data": {
            "text/plain": [
              "<IPython.core.display.SVG object>"
            ],
            "image/svg+xml": "<svg height=\"424pt\" viewBox=\"0.00 0.00 366.00 470.00\" width=\"330pt\" xmlns=\"http://www.w3.org/2000/svg\" xmlns:xlink=\"http://www.w3.org/1999/xlink\">\n<g class=\"graph\" id=\"graph0\" transform=\"scale(.9028 .9028) rotate(0) translate(4 466)\">\n<title>G</title>\n<polygon fill=\"#ffffff\" points=\"-4,4 -4,-466 362,-466 362,4 -4,4\" stroke=\"transparent\"/>\n<!-- 140097414877584 -->\n<g class=\"node\" id=\"node1\">\n<title>140097414877584</title>\n<polygon fill=\"none\" points=\"0,-415.5 0,-461.5 358,-461.5 358,-415.5 0,-415.5\" stroke=\"#000000\"/>\n<text fill=\"#000000\" font-family=\"Times,serif\" font-size=\"14.00\" text-anchor=\"middle\" x=\"102.5\" y=\"-434.8\">embedding_1_input: InputLayer</text>\n<polyline fill=\"none\" points=\"205,-415.5 205,-461.5 \" stroke=\"#000000\"/>\n<text fill=\"#000000\" font-family=\"Times,serif\" font-size=\"14.00\" text-anchor=\"middle\" x=\"234\" y=\"-446.3\">input:</text>\n<polyline fill=\"none\" points=\"205,-438.5 263,-438.5 \" stroke=\"#000000\"/>\n<text fill=\"#000000\" font-family=\"Times,serif\" font-size=\"14.00\" text-anchor=\"middle\" x=\"234\" y=\"-423.3\">output:</text>\n<polyline fill=\"none\" points=\"263,-415.5 263,-461.5 \" stroke=\"#000000\"/>\n<text fill=\"#000000\" font-family=\"Times,serif\" font-size=\"14.00\" text-anchor=\"middle\" x=\"310.5\" y=\"-446.3\">[(None, 114)]</text>\n<polyline fill=\"none\" points=\"263,-438.5 358,-438.5 \" stroke=\"#000000\"/>\n<text fill=\"#000000\" font-family=\"Times,serif\" font-size=\"14.00\" text-anchor=\"middle\" x=\"310.5\" y=\"-423.3\">[(None, 114)]</text>\n</g>\n<!-- 140097424614288 -->\n<g class=\"node\" id=\"node2\">\n<title>140097424614288</title>\n<polygon fill=\"none\" points=\"6.5,-332.5 6.5,-378.5 351.5,-378.5 351.5,-332.5 6.5,-332.5\" stroke=\"#000000\"/>\n<text fill=\"#000000\" font-family=\"Times,serif\" font-size=\"14.00\" text-anchor=\"middle\" x=\"92\" y=\"-351.8\">embedding_1: Embedding</text>\n<polyline fill=\"none\" points=\"177.5,-332.5 177.5,-378.5 \" stroke=\"#000000\"/>\n<text fill=\"#000000\" font-family=\"Times,serif\" font-size=\"14.00\" text-anchor=\"middle\" x=\"206.5\" y=\"-363.3\">input:</text>\n<polyline fill=\"none\" points=\"177.5,-355.5 235.5,-355.5 \" stroke=\"#000000\"/>\n<text fill=\"#000000\" font-family=\"Times,serif\" font-size=\"14.00\" text-anchor=\"middle\" x=\"206.5\" y=\"-340.3\">output:</text>\n<polyline fill=\"none\" points=\"235.5,-332.5 235.5,-378.5 \" stroke=\"#000000\"/>\n<text fill=\"#000000\" font-family=\"Times,serif\" font-size=\"14.00\" text-anchor=\"middle\" x=\"293.5\" y=\"-363.3\">(None, 114)</text>\n<polyline fill=\"none\" points=\"235.5,-355.5 351.5,-355.5 \" stroke=\"#000000\"/>\n<text fill=\"#000000\" font-family=\"Times,serif\" font-size=\"14.00\" text-anchor=\"middle\" x=\"293.5\" y=\"-340.3\">(None, 114, 100)</text>\n</g>\n<!-- 140097414877584&#45;&gt;140097424614288 -->\n<g class=\"edge\" id=\"edge1\">\n<title>140097414877584-&gt;140097424614288</title>\n<path d=\"M179,-415.3799C179,-407.1745 179,-397.7679 179,-388.8786\" fill=\"none\" stroke=\"#000000\"/>\n<polygon fill=\"#000000\" points=\"182.5001,-388.784 179,-378.784 175.5001,-388.784 182.5001,-388.784\" stroke=\"#000000\"/>\n</g>\n<!-- 140097425806160 -->\n<g class=\"node\" id=\"node3\">\n<title>140097425806160</title>\n<polygon fill=\"none\" points=\"48.5,-249.5 48.5,-295.5 309.5,-295.5 309.5,-249.5 48.5,-249.5\" stroke=\"#000000\"/>\n<text fill=\"#000000\" font-family=\"Times,serif\" font-size=\"14.00\" text-anchor=\"middle\" x=\"92\" y=\"-268.8\">lstm: LSTM</text>\n<polyline fill=\"none\" points=\"135.5,-249.5 135.5,-295.5 \" stroke=\"#000000\"/>\n<text fill=\"#000000\" font-family=\"Times,serif\" font-size=\"14.00\" text-anchor=\"middle\" x=\"164.5\" y=\"-280.3\">input:</text>\n<polyline fill=\"none\" points=\"135.5,-272.5 193.5,-272.5 \" stroke=\"#000000\"/>\n<text fill=\"#000000\" font-family=\"Times,serif\" font-size=\"14.00\" text-anchor=\"middle\" x=\"164.5\" y=\"-257.3\">output:</text>\n<polyline fill=\"none\" points=\"193.5,-249.5 193.5,-295.5 \" stroke=\"#000000\"/>\n<text fill=\"#000000\" font-family=\"Times,serif\" font-size=\"14.00\" text-anchor=\"middle\" x=\"251.5\" y=\"-280.3\">(None, 114, 100)</text>\n<polyline fill=\"none\" points=\"193.5,-272.5 309.5,-272.5 \" stroke=\"#000000\"/>\n<text fill=\"#000000\" font-family=\"Times,serif\" font-size=\"14.00\" text-anchor=\"middle\" x=\"251.5\" y=\"-257.3\">(None, 128)</text>\n</g>\n<!-- 140097424614288&#45;&gt;140097425806160 -->\n<g class=\"edge\" id=\"edge2\">\n<title>140097424614288-&gt;140097425806160</title>\n<path d=\"M179,-332.3799C179,-324.1745 179,-314.7679 179,-305.8786\" fill=\"none\" stroke=\"#000000\"/>\n<polygon fill=\"#000000\" points=\"182.5001,-305.784 179,-295.784 175.5001,-305.784 182.5001,-305.784\" stroke=\"#000000\"/>\n</g>\n<!-- 140097436172176 -->\n<g class=\"node\" id=\"node4\">\n<title>140097436172176</title>\n<polygon fill=\"none\" points=\"53,-166.5 53,-212.5 305,-212.5 305,-166.5 53,-166.5\" stroke=\"#000000\"/>\n<text fill=\"#000000\" font-family=\"Times,serif\" font-size=\"14.00\" text-anchor=\"middle\" x=\"106.5\" y=\"-185.8\">dense_3: Dense</text>\n<polyline fill=\"none\" points=\"160,-166.5 160,-212.5 \" stroke=\"#000000\"/>\n<text fill=\"#000000\" font-family=\"Times,serif\" font-size=\"14.00\" text-anchor=\"middle\" x=\"189\" y=\"-197.3\">input:</text>\n<polyline fill=\"none\" points=\"160,-189.5 218,-189.5 \" stroke=\"#000000\"/>\n<text fill=\"#000000\" font-family=\"Times,serif\" font-size=\"14.00\" text-anchor=\"middle\" x=\"189\" y=\"-174.3\">output:</text>\n<polyline fill=\"none\" points=\"218,-166.5 218,-212.5 \" stroke=\"#000000\"/>\n<text fill=\"#000000\" font-family=\"Times,serif\" font-size=\"14.00\" text-anchor=\"middle\" x=\"261.5\" y=\"-197.3\">(None, 128)</text>\n<polyline fill=\"none\" points=\"218,-189.5 305,-189.5 \" stroke=\"#000000\"/>\n<text fill=\"#000000\" font-family=\"Times,serif\" font-size=\"14.00\" text-anchor=\"middle\" x=\"261.5\" y=\"-174.3\">(None, 64)</text>\n</g>\n<!-- 140097425806160&#45;&gt;140097436172176 -->\n<g class=\"edge\" id=\"edge3\">\n<title>140097425806160-&gt;140097436172176</title>\n<path d=\"M179,-249.3799C179,-241.1745 179,-231.7679 179,-222.8786\" fill=\"none\" stroke=\"#000000\"/>\n<polygon fill=\"#000000\" points=\"182.5001,-222.784 179,-212.784 175.5001,-222.784 182.5001,-222.784\" stroke=\"#000000\"/>\n</g>\n<!-- 140097442486864 -->\n<g class=\"node\" id=\"node5\">\n<title>140097442486864</title>\n<polygon fill=\"none\" points=\"56.5,-83.5 56.5,-129.5 301.5,-129.5 301.5,-83.5 56.5,-83.5\" stroke=\"#000000\"/>\n<text fill=\"#000000\" font-family=\"Times,serif\" font-size=\"14.00\" text-anchor=\"middle\" x=\"110\" y=\"-102.8\">dense_4: Dense</text>\n<polyline fill=\"none\" points=\"163.5,-83.5 163.5,-129.5 \" stroke=\"#000000\"/>\n<text fill=\"#000000\" font-family=\"Times,serif\" font-size=\"14.00\" text-anchor=\"middle\" x=\"192.5\" y=\"-114.3\">input:</text>\n<polyline fill=\"none\" points=\"163.5,-106.5 221.5,-106.5 \" stroke=\"#000000\"/>\n<text fill=\"#000000\" font-family=\"Times,serif\" font-size=\"14.00\" text-anchor=\"middle\" x=\"192.5\" y=\"-91.3\">output:</text>\n<polyline fill=\"none\" points=\"221.5,-83.5 221.5,-129.5 \" stroke=\"#000000\"/>\n<text fill=\"#000000\" font-family=\"Times,serif\" font-size=\"14.00\" text-anchor=\"middle\" x=\"261.5\" y=\"-114.3\">(None, 64)</text>\n<polyline fill=\"none\" points=\"221.5,-106.5 301.5,-106.5 \" stroke=\"#000000\"/>\n<text fill=\"#000000\" font-family=\"Times,serif\" font-size=\"14.00\" text-anchor=\"middle\" x=\"261.5\" y=\"-91.3\">(None, 64)</text>\n</g>\n<!-- 140097436172176&#45;&gt;140097442486864 -->\n<g class=\"edge\" id=\"edge4\">\n<title>140097436172176-&gt;140097442486864</title>\n<path d=\"M179,-166.3799C179,-158.1745 179,-148.7679 179,-139.8786\" fill=\"none\" stroke=\"#000000\"/>\n<polygon fill=\"#000000\" points=\"182.5001,-139.784 179,-129.784 175.5001,-139.784 182.5001,-139.784\" stroke=\"#000000\"/>\n</g>\n<!-- 140097435695632 -->\n<g class=\"node\" id=\"node6\">\n<title>140097435695632</title>\n<polygon fill=\"none\" points=\"56.5,-.5 56.5,-46.5 301.5,-46.5 301.5,-.5 56.5,-.5\" stroke=\"#000000\"/>\n<text fill=\"#000000\" font-family=\"Times,serif\" font-size=\"14.00\" text-anchor=\"middle\" x=\"110\" y=\"-19.8\">dense_5: Dense</text>\n<polyline fill=\"none\" points=\"163.5,-.5 163.5,-46.5 \" stroke=\"#000000\"/>\n<text fill=\"#000000\" font-family=\"Times,serif\" font-size=\"14.00\" text-anchor=\"middle\" x=\"192.5\" y=\"-31.3\">input:</text>\n<polyline fill=\"none\" points=\"163.5,-23.5 221.5,-23.5 \" stroke=\"#000000\"/>\n<text fill=\"#000000\" font-family=\"Times,serif\" font-size=\"14.00\" text-anchor=\"middle\" x=\"192.5\" y=\"-8.3\">output:</text>\n<polyline fill=\"none\" points=\"221.5,-.5 221.5,-46.5 \" stroke=\"#000000\"/>\n<text fill=\"#000000\" font-family=\"Times,serif\" font-size=\"14.00\" text-anchor=\"middle\" x=\"261.5\" y=\"-31.3\">(None, 64)</text>\n<polyline fill=\"none\" points=\"221.5,-23.5 301.5,-23.5 \" stroke=\"#000000\"/>\n<text fill=\"#000000\" font-family=\"Times,serif\" font-size=\"14.00\" text-anchor=\"middle\" x=\"261.5\" y=\"-8.3\">(None, 1)</text>\n</g>\n<!-- 140097442486864&#45;&gt;140097435695632 -->\n<g class=\"edge\" id=\"edge5\">\n<title>140097442486864-&gt;140097435695632</title>\n<path d=\"M179,-83.3799C179,-75.1745 179,-65.7679 179,-56.8786\" fill=\"none\" stroke=\"#000000\"/>\n<polygon fill=\"#000000\" points=\"182.5001,-56.784 179,-46.784 175.5001,-56.784 182.5001,-56.784\" stroke=\"#000000\"/>\n</g>\n</g>\n</svg>"
          },
          "metadata": {
            "tags": []
          },
          "execution_count": 25
        }
      ]
    },
    {
      "cell_type": "markdown",
      "metadata": {
        "id": "a7pUJMetKF3r"
      },
      "source": [
        "* train model"
      ]
    },
    {
      "cell_type": "code",
      "metadata": {
        "colab": {
          "base_uri": "https://localhost:8080/"
        },
        "id": "Nn8RDPUupc1x",
        "outputId": "15d42235-1598-4ffd-9bb3-db09a1234b52"
      },
      "source": [
        "history = model1.fit(X_train, y_train, batch_size=64, epochs=10, verbose=1, validation_split=0.2)"
      ],
      "execution_count": 26,
      "outputs": [
        {
          "output_type": "stream",
          "text": [
            "Epoch 1/10\n",
            "2213/2213 [==============================] - 29s 10ms/step - loss: 0.0920 - acc: 0.9593 - val_loss: 2.7572e-06 - val_acc: 1.0000\n",
            "Epoch 2/10\n",
            "2213/2213 [==============================] - 22s 10ms/step - loss: 1.7868e-06 - acc: 1.0000 - val_loss: 4.4995e-07 - val_acc: 1.0000\n",
            "Epoch 3/10\n",
            "2213/2213 [==============================] - 22s 10ms/step - loss: 3.2140e-07 - acc: 1.0000 - val_loss: 1.0348e-07 - val_acc: 1.0000\n",
            "Epoch 4/10\n",
            "2213/2213 [==============================] - 23s 10ms/step - loss: 7.6701e-08 - acc: 1.0000 - val_loss: 2.7590e-08 - val_acc: 1.0000\n",
            "Epoch 5/10\n",
            "2213/2213 [==============================] - 23s 10ms/step - loss: 2.1092e-08 - acc: 1.0000 - val_loss: 8.2827e-09 - val_acc: 1.0000\n",
            "Epoch 6/10\n",
            "2213/2213 [==============================] - 23s 10ms/step - loss: 7.3484e-09 - acc: 1.0000 - val_loss: 5.7913e-09 - val_acc: 1.0000\n",
            "Epoch 7/10\n",
            "2213/2213 [==============================] - 22s 10ms/step - loss: 5.5078e-09 - acc: 1.0000 - val_loss: 5.2292e-09 - val_acc: 1.0000\n",
            "Epoch 8/10\n",
            "2213/2213 [==============================] - 23s 10ms/step - loss: 4.8924e-09 - acc: 1.0000 - val_loss: 9.7064e-09 - val_acc: 1.0000\n",
            "Epoch 9/10\n",
            "2213/2213 [==============================] - 23s 10ms/step - loss: 4.8092e-09 - acc: 1.0000 - val_loss: 7.7477e-09 - val_acc: 1.0000\n",
            "Epoch 10/10\n",
            "2213/2213 [==============================] - 22s 10ms/step - loss: 4.6669e-09 - acc: 1.0000 - val_loss: 1.1090e-08 - val_acc: 1.0000\n"
          ],
          "name": "stdout"
        }
      ]
    },
    {
      "cell_type": "markdown",
      "metadata": {
        "id": "Yn49GBAXKJKn"
      },
      "source": [
        "* evaluate model"
      ]
    },
    {
      "cell_type": "code",
      "metadata": {
        "colab": {
          "base_uri": "https://localhost:8080/"
        },
        "id": "0pS-cEJQpsMa",
        "outputId": "aec2312e-5718-4de9-ee5b-292b9da7e1d9"
      },
      "source": [
        "score = model1.evaluate(X_test, y_test, verbose=1)"
      ],
      "execution_count": 27,
      "outputs": [
        {
          "output_type": "stream",
          "text": [
            "1383/1383 [==============================] - 6s 4ms/step - loss: 5.4706e-04 - acc: 1.0000\n"
          ],
          "name": "stdout"
        }
      ]
    },
    {
      "cell_type": "code",
      "metadata": {
        "colab": {
          "base_uri": "https://localhost:8080/"
        },
        "id": "tVCgKEwHpwG8",
        "outputId": "f495ee39-ad29-4a31-e0ab-69ecaced2cad"
      },
      "source": [
        "print(\"Test Score:\", score[0])\n",
        "print(\"Test Accuracy:\", score[1])"
      ],
      "execution_count": 28,
      "outputs": [
        {
          "output_type": "stream",
          "text": [
            "Test Score: 0.000547056901268661\n",
            "Test Accuracy: 0.9999774098396301\n"
          ],
          "name": "stdout"
        }
      ]
    },
    {
      "cell_type": "markdown",
      "metadata": {
        "id": "cpinqO6Jwxho"
      },
      "source": [
        "## **Comme vous pouvez voir nous avons atteindre une performance de 99,99% avec le LSTM model**"
      ]
    },
    {
      "cell_type": "markdown",
      "metadata": {
        "id": "nd8ziqCjKOeX"
      },
      "source": [
        "* Tracons la différence de loss et accuracy entre train set et test set"
      ]
    },
    {
      "cell_type": "code",
      "metadata": {
        "colab": {
          "base_uri": "https://localhost:8080/",
          "height": 573
        },
        "id": "lxYenPKmpxYq",
        "outputId": "ea011a3f-b87b-42d8-eb27-0175a6533439"
      },
      "source": [
        "import matplotlib.pyplot as plt\n",
        "\n",
        "plt.plot(history.history['acc'])\n",
        "plt.plot(history.history['val_acc'])\n",
        "\n",
        "plt.title('model accuracy')\n",
        "plt.ylabel('accuracy')\n",
        "plt.xlabel('epoch')\n",
        "plt.legend(['train','test'], loc='upper left')\n",
        "plt.show()\n",
        "\n",
        "plt.plot(history.history['loss'])\n",
        "plt.plot(history.history['val_loss'])\n",
        "\n",
        "plt.title('model loss')\n",
        "plt.ylabel('loss')\n",
        "plt.xlabel('epoch')\n",
        "plt.legend(['train','test'], loc='upper left')\n",
        "plt.show()"
      ],
      "execution_count": 29,
      "outputs": [
        {
          "output_type": "display_data",
          "data": {
            "image/png": "[encoded data removed]",
            "text/plain": [
              "<Figure size 432x288 with 1 Axes>"
            ]
          },
          "metadata": {
            "tags": [],
            "needs_background": "light"
          }
        },
        {
          "output_type": "display_data",
          "data": {
            "image/png": "[encoded data removed]",
            "text/plain": [
              "<Figure size 432x288 with 1 Axes>"
            ]
          },
          "metadata": {
            "tags": [],
            "needs_background": "light"
          }
        }
      ]
    }
  ]
}