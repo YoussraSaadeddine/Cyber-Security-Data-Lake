{
  "nbformat": 4,
  "nbformat_minor": 0,
  "metadata": {
    "colab": {
      "name": "Firewall.ipynb",
      "provenance": [],
      "collapsed_sections": []
    },
    "kernelspec": {
      "name": "python3",
      "display_name": "Python 3"
    },
    "language_info": {
      "name": "python"
    }
  },
  "cells": [
    {
      "cell_type": "markdown",
      "metadata": {
        "id": "lF7ZIwMZC4Om"
      },
      "source": [
        "# **Firewall log classification**"
      ]
    },
    {
      "cell_type": "markdown",
      "metadata": {
        "id": "CI5UEBECDOXB"
      },
      "source": [
        "## Introduction"
      ]
    },
    {
      "cell_type": "markdown",
      "metadata": {
        "id": "Xz9p3o4cDStr"
      },
      "source": [
        "#####Après avoir importé les logs dans Elasticsearch et les analyser et visualiser c'est le temps d'utiliser des algorithmes ML.\n",
        "#####Dans ce projet, nous allons résoudre un problème de classification de 65000 logs d'un firewall paloalto, où notre objectif sera de prédire quelle action va etre appliquer à un log d'entrée. \n",
        "#####Dans ce projet, nous allons utiliser  les algorithmes de classification les plus connus à savoir k-Nearest Neighbors,Decision Trees,Naive Bayes,Random Forest et nous allons contruire un DNN.\n"
      ]
    },
    {
      "cell_type": "markdown",
      "metadata": {
        "id": "Hmzh3p53EoZd"
      },
      "source": [
        "## table de matiére\n",
        "\n",
        "\n",
        "1.   Importing libraries and modules,\n",
        "2.   Load data,\n",
        "3.   Preparing Data,\n",
        "4.   GBN Classifier,\n",
        "5.   KNN Classifier,\n",
        "6.   Random forest Classifier,\n",
        "7.   Decision tree Classifier\n",
        "8.   Deep NN"
      ]
    },
    {
      "cell_type": "markdown",
      "metadata": {
        "id": "CJp2rdsI2djW"
      },
      "source": [
        "## 1. Importing libraries and modules."
      ]
    },
    {
      "cell_type": "code",
      "metadata": {
        "id": "GEDB-yZw2Htq"
      },
      "source": [
        "import pandas as pd\n",
        "from sklearn.preprocessing import LabelEncoder\n",
        "from sklearn.model_selection import train_test_split\n",
        "from sklearn.naive_bayes import GaussianNB\n",
        "from sklearn.neighbors import KNeighborsClassifier\n",
        "from sklearn.ensemble import RandomForestClassifier\n",
        "from sklearn.tree import DecisionTreeClassifier"
      ],
      "execution_count": 1,
      "outputs": []
    },
    {
      "cell_type": "markdown",
      "metadata": {
        "id": "lSbshq_qFMSj"
      },
      "source": [
        "## 2. Load Data"
      ]
    },
    {
      "cell_type": "markdown",
      "metadata": {
        "id": "lkHpif4x2y5i"
      },
      "source": [
        "####**Importing files from Google Drive in Colab**\n",
        "notre dataset est stockée dans Google Drive donc nous avons besoin de \n",
        "lier notre compte Google Drive avec notre notebook.\n",
        "1. La première étape consiste à monter notre Google Drive en exécutant le code en dessous.\n",
        "2.  nous obtenons le code d'autorisation en nous connectant à notre compte Google.\n",
        "3.   nous collons le code d'autorisation et nous appuyons sur Entrée."
      ]
    },
    {
      "cell_type": "code",
      "metadata": {
        "colab": {
          "base_uri": "https://localhost:8080/"
        },
        "id": "Ka1jIgIK21NY",
        "outputId": "f653a912-f179-437e-afc4-29c13ea3cd19"
      },
      "source": [
        "from google.colab import drive\n",
        "drive.mount('/gdrive')\n",
        "%cd /gdrive"
      ],
      "execution_count": 2,
      "outputs": [
        {
          "output_type": "stream",
          "text": [
            "Mounted at /gdrive\n",
            "/gdrive\n"
          ],
          "name": "stdout"
        }
      ]
    },
    {
      "cell_type": "code",
      "metadata": {
        "id": "FULY8jLr3jB6"
      },
      "source": [
        "Data_PATH=r'/gdrive/My Drive/firewall_csv.csv'"
      ],
      "execution_count": 3,
      "outputs": []
    },
    {
      "cell_type": "code",
      "metadata": {
        "id": "wEk5ZllW4Ea3"
      },
      "source": [
        "df=pd.read_csv(Data_PATH)"
      ],
      "execution_count": 4,
      "outputs": []
    },
    {
      "cell_type": "code",
      "metadata": {
        "colab": {
          "base_uri": "https://localhost:8080/",
          "height": 204
        },
        "id": "Zq8H2C6e4KoI",
        "outputId": "036f9b5c-bcaf-4edd-ccd8-5558d8bf2cac"
      },
      "source": [
        "df.head()"
      ],
      "execution_count": 5,
      "outputs": [
        {
          "output_type": "execute_result",
          "data": {
            "text/html": [
              "<div>\n",
              "<style scoped>\n",
              "    .dataframe tbody tr th:only-of-type {\n",
              "        vertical-align: middle;\n",
              "    }\n",
              "\n",
              "    .dataframe tbody tr th {\n",
              "        vertical-align: top;\n",
              "    }\n",
              "\n",
              "    .dataframe thead th {\n",
              "        text-align: right;\n",
              "    }\n",
              "</style>\n",
              "<table border=\"1\" class=\"dataframe\">\n",
              "  <thead>\n",
              "    <tr style=\"text-align: right;\">\n",
              "      <th></th>\n",
              "      <th>@timestamp</th>\n",
              "      <th>Source Port</th>\n",
              "      <th>Destination Port</th>\n",
              "      <th>Action</th>\n",
              "      <th>Bytes Sent</th>\n",
              "      <th>Bytes Received</th>\n",
              "      <th>Packets</th>\n",
              "      <th>pkts_sent</th>\n",
              "      <th>pkts_received</th>\n",
              "      <th>Bytes</th>\n",
              "      <th>Elapsed Time (sec)</th>\n",
              "    </tr>\n",
              "  </thead>\n",
              "  <tbody>\n",
              "    <tr>\n",
              "      <th>0</th>\n",
              "      <td>2021-04-30T14:30:17.796Z</td>\n",
              "      <td>50270</td>\n",
              "      <td>445</td>\n",
              "      <td>drop</td>\n",
              "      <td>66</td>\n",
              "      <td>0</td>\n",
              "      <td>1</td>\n",
              "      <td>1</td>\n",
              "      <td>0</td>\n",
              "      <td>66</td>\n",
              "      <td>0</td>\n",
              "    </tr>\n",
              "    <tr>\n",
              "      <th>1</th>\n",
              "      <td>2021-04-30T14:30:17.796Z</td>\n",
              "      <td>50268</td>\n",
              "      <td>445</td>\n",
              "      <td>drop</td>\n",
              "      <td>66</td>\n",
              "      <td>0</td>\n",
              "      <td>1</td>\n",
              "      <td>1</td>\n",
              "      <td>0</td>\n",
              "      <td>66</td>\n",
              "      <td>0</td>\n",
              "    </tr>\n",
              "    <tr>\n",
              "      <th>2</th>\n",
              "      <td>2021-04-30T14:30:17.796Z</td>\n",
              "      <td>56103</td>\n",
              "      <td>21247</td>\n",
              "      <td>deny</td>\n",
              "      <td>66</td>\n",
              "      <td>0</td>\n",
              "      <td>1</td>\n",
              "      <td>1</td>\n",
              "      <td>0</td>\n",
              "      <td>66</td>\n",
              "      <td>0</td>\n",
              "    </tr>\n",
              "    <tr>\n",
              "      <th>3</th>\n",
              "      <td>2021-04-30T14:30:17.796Z</td>\n",
              "      <td>54874</td>\n",
              "      <td>445</td>\n",
              "      <td>drop</td>\n",
              "      <td>70</td>\n",
              "      <td>0</td>\n",
              "      <td>1</td>\n",
              "      <td>1</td>\n",
              "      <td>0</td>\n",
              "      <td>70</td>\n",
              "      <td>0</td>\n",
              "    </tr>\n",
              "    <tr>\n",
              "      <th>4</th>\n",
              "      <td>2021-04-30T14:30:17.796Z</td>\n",
              "      <td>54013</td>\n",
              "      <td>37965</td>\n",
              "      <td>deny</td>\n",
              "      <td>66</td>\n",
              "      <td>0</td>\n",
              "      <td>1</td>\n",
              "      <td>1</td>\n",
              "      <td>0</td>\n",
              "      <td>66</td>\n",
              "      <td>0</td>\n",
              "    </tr>\n",
              "  </tbody>\n",
              "</table>\n",
              "</div>"
            ],
            "text/plain": [
              "                 @timestamp  Source Port  ...  Bytes Elapsed Time (sec)\n",
              "0  2021-04-30T14:30:17.796Z        50270  ...     66                  0\n",
              "1  2021-04-30T14:30:17.796Z        50268  ...     66                  0\n",
              "2  2021-04-30T14:30:17.796Z        56103  ...     66                  0\n",
              "3  2021-04-30T14:30:17.796Z        54874  ...     70                  0\n",
              "4  2021-04-30T14:30:17.796Z        54013  ...     66                  0\n",
              "\n",
              "[5 rows x 11 columns]"
            ]
          },
          "metadata": {
            "tags": []
          },
          "execution_count": 5
        }
      ]
    },
    {
      "cell_type": "markdown",
      "metadata": {
        "id": "9D3TOMf0FcLR"
      },
      "source": [
        "#3. Preparing Data"
      ]
    },
    {
      "cell_type": "code",
      "metadata": {
        "id": "WXDiKEbn4P1Q"
      },
      "source": [
        "data=df.copy()"
      ],
      "execution_count": 6,
      "outputs": []
    },
    {
      "cell_type": "code",
      "metadata": {
        "id": "qMJ9d1SF4UAa"
      },
      "source": [
        "data=data[[\"Source Port\",\"Destination Port\",\"Bytes\",\"Packets\",\"Action\",\"Elapsed Time (sec)\"]]"
      ],
      "execution_count": 7,
      "outputs": []
    },
    {
      "cell_type": "code",
      "metadata": {
        "colab": {
          "base_uri": "https://localhost:8080/"
        },
        "id": "ZUfLK_Uj4auu",
        "outputId": "96c0ff1f-3e9a-4b56-a72a-27f43fb64e17"
      },
      "source": [
        "print('The dataset contain {} rows and {} columns'.format(data.shape[0], data.shape[1]))"
      ],
      "execution_count": 8,
      "outputs": [
        {
          "output_type": "stream",
          "text": [
            "The dataset contain 65532 rows and 6 columns\n"
          ],
          "name": "stdout"
        }
      ]
    },
    {
      "cell_type": "code",
      "metadata": {
        "colab": {
          "base_uri": "https://localhost:8080/"
        },
        "id": "VMwi4_BZ4gkj",
        "outputId": "c9ae6d8b-f91d-4053-810d-4971951c8edd"
      },
      "source": [
        "data.dtypes"
      ],
      "execution_count": 9,
      "outputs": [
        {
          "output_type": "execute_result",
          "data": {
            "text/plain": [
              "Source Port            int64\n",
              "Destination Port       int64\n",
              "Bytes                  int64\n",
              "Packets                int64\n",
              "Action                object\n",
              "Elapsed Time (sec)     int64\n",
              "dtype: object"
            ]
          },
          "metadata": {
            "tags": []
          },
          "execution_count": 9
        }
      ]
    },
    {
      "cell_type": "code",
      "metadata": {
        "colab": {
          "base_uri": "https://localhost:8080/"
        },
        "id": "NWOPfGME4iPL",
        "outputId": "7da03d24-c0d5-4cba-d9ba-3130e4e360a2"
      },
      "source": [
        "(data.isna().sum()/data.shape[0]).sort_values()"
      ],
      "execution_count": 10,
      "outputs": [
        {
          "output_type": "execute_result",
          "data": {
            "text/plain": [
              "Source Port           0.0\n",
              "Destination Port      0.0\n",
              "Bytes                 0.0\n",
              "Packets               0.0\n",
              "Action                0.0\n",
              "Elapsed Time (sec)    0.0\n",
              "dtype: float64"
            ]
          },
          "metadata": {
            "tags": []
          },
          "execution_count": 10
        }
      ]
    },
    {
      "cell_type": "code",
      "metadata": {
        "id": "FuNVHtHL4qHD"
      },
      "source": [
        "X=data[[\"Source Port\",\"Destination Port\",\"Bytes\",\"Packets\",\"Elapsed Time (sec)\"]]\n",
        "Y=data[\"Action\"]"
      ],
      "execution_count": 11,
      "outputs": []
    },
    {
      "cell_type": "code",
      "metadata": {
        "id": "soldXEGG7Que"
      },
      "source": [
        "le = LabelEncoder()\n",
        "y=le.fit_transform(Y)\n"
      ],
      "execution_count": 12,
      "outputs": []
    },
    {
      "cell_type": "code",
      "metadata": {
        "id": "ulw8_kfd8ID4"
      },
      "source": [
        "X_train, X_test, y_train, y_test = train_test_split(X,y,test_size = 0.20)"
      ],
      "execution_count": 13,
      "outputs": []
    },
    {
      "cell_type": "markdown",
      "metadata": {
        "id": "EKwe5RfI8SRt"
      },
      "source": [
        "# 4.Gaussian Naive Bayes Classifier"
      ]
    },
    {
      "cell_type": "code",
      "metadata": {
        "colab": {
          "base_uri": "https://localhost:8080/"
        },
        "id": "e0gBRZ7C8RY_",
        "outputId": "f92805a4-668c-40a6-db6a-9307c97a3fbb"
      },
      "source": [
        "model=GaussianNB()\n",
        "gnb=model.fit(X_train,y_train)\n",
        "\n",
        "print(\"Testing score\",gnb.score(X_test,y_test))"
      ],
      "execution_count": 14,
      "outputs": [
        {
          "output_type": "stream",
          "text": [
            "Testing score 0.6436255436026551\n"
          ],
          "name": "stdout"
        }
      ]
    },
    {
      "cell_type": "code",
      "metadata": {
        "colab": {
          "base_uri": "https://localhost:8080/"
        },
        "id": "1YDjdJW6Yrvw",
        "outputId": "81bd0b0b-c90b-4d89-b12c-11d943dcb5c5"
      },
      "source": [
        "from sklearn.metrics import classification_report\n",
        "print(\"Classification Report\")\n",
        "print(classification_report(y_test,gnb.predict(X_test)))"
      ],
      "execution_count": 15,
      "outputs": [
        {
          "output_type": "stream",
          "text": [
            "Classification Report\n",
            "              precision    recall  f1-score   support\n",
            "\n",
            "           0       1.00      0.39      0.56      7502\n",
            "           1       0.71      0.98      0.82      3039\n",
            "           2       0.43      1.00      0.60      2559\n",
            "           3       0.00      0.00      0.00         7\n",
            "\n",
            "    accuracy                           0.64     13107\n",
            "   macro avg       0.53      0.59      0.49     13107\n",
            "weighted avg       0.82      0.64      0.63     13107\n",
            "\n"
          ],
          "name": "stdout"
        },
        {
          "output_type": "stream",
          "text": [
            "/usr/local/lib/python3.7/dist-packages/sklearn/metrics/_classification.py:1272: UndefinedMetricWarning: Precision and F-score are ill-defined and being set to 0.0 in labels with no predicted samples. Use `zero_division` parameter to control this behavior.\n",
            "  _warn_prf(average, modifier, msg_start, len(result))\n"
          ],
          "name": "stderr"
        }
      ]
    },
    {
      "cell_type": "code",
      "metadata": {
        "colab": {
          "base_uri": "https://localhost:8080/",
          "height": 295
        },
        "id": "PBtg7tgiCqyo",
        "outputId": "fef79af6-0e05-433b-9191-acae1a23a855"
      },
      "source": [
        "import seaborn as sb\n",
        "from sklearn.metrics import confusion_matrix\n",
        "from matplotlib import pyplot as plt\n",
        "\n",
        "gnb_predicted=gnb.predict(X_test)\n",
        "gnb_confuse=confusion_matrix(y_test,gnb_predicted)\n",
        "df_cm=pd.DataFrame(gnb_confuse)\n",
        "\n",
        "plt.figure(figsize=(5.5,4))\n",
        "sb.heatmap(df_cm,annot=True,fmt='g',cmap='Blues')\n",
        "plt.title(\"Confusion Matrix Heatmap\")\n",
        "plt.xlabel(\"True Label\")\n",
        "plt.ylabel(\"Predicted Label\")\n",
        "plt.show()"
      ],
      "execution_count": 16,
      "outputs": [
        {
          "output_type": "display_data",
          "data": {
            "image/png": "[encoded data removed]",
            "text/plain": [
              "<Figure size 396x288 with 2 Axes>"
            ]
          },
          "metadata": {
            "tags": [],
            "needs_background": "light"
          }
        }
      ]
    },
    {
      "cell_type": "markdown",
      "metadata": {
        "id": "MBR7kszq9E6D"
      },
      "source": [
        "# 5. KNeighborsClassifier"
      ]
    },
    {
      "cell_type": "code",
      "metadata": {
        "colab": {
          "base_uri": "https://localhost:8080/"
        },
        "id": "8DB0ohBm811Y",
        "outputId": "427a6b0e-91cc-41f1-8045-07eec6db73c4"
      },
      "source": [
        "model=KNeighborsClassifier(n_neighbors=2)\n",
        "knn=model.fit(X_train,y_train)\n",
        "\n",
        "print(\"Testing score\",knn.score(X_test,y_test))"
      ],
      "execution_count": 17,
      "outputs": [
        {
          "output_type": "stream",
          "text": [
            "Testing score 0.9775692378118562\n"
          ],
          "name": "stdout"
        }
      ]
    },
    {
      "cell_type": "code",
      "metadata": {
        "colab": {
          "base_uri": "https://localhost:8080/"
        },
        "id": "dyIfg0D8aJl7",
        "outputId": "312eda5c-d0b7-4b75-f26f-425100cebd5a"
      },
      "source": [
        "from sklearn.metrics import classification_report\n",
        "print(\"Classification Report\")\n",
        "print(classification_report(y_test,knn.predict(X_test)))"
      ],
      "execution_count": 18,
      "outputs": [
        {
          "output_type": "stream",
          "text": [
            "Classification Report\n",
            "              precision    recall  f1-score   support\n",
            "\n",
            "           0       0.98      0.99      0.98      7502\n",
            "           1       0.96      0.94      0.95      3039\n",
            "           2       0.99      0.99      0.99      2559\n",
            "           3       0.00      0.00      0.00         7\n",
            "\n",
            "    accuracy                           0.98     13107\n",
            "   macro avg       0.73      0.73      0.73     13107\n",
            "weighted avg       0.98      0.98      0.98     13107\n",
            "\n"
          ],
          "name": "stdout"
        },
        {
          "output_type": "stream",
          "text": [
            "/usr/local/lib/python3.7/dist-packages/sklearn/metrics/_classification.py:1272: UndefinedMetricWarning: Precision and F-score are ill-defined and being set to 0.0 in labels with no predicted samples. Use `zero_division` parameter to control this behavior.\n",
            "  _warn_prf(average, modifier, msg_start, len(result))\n"
          ],
          "name": "stderr"
        }
      ]
    },
    {
      "cell_type": "code",
      "metadata": {
        "colab": {
          "base_uri": "https://localhost:8080/",
          "height": 295
        },
        "id": "grPB76IZHr-H",
        "outputId": "75486271-9b39-4662-eaed-2fd00236a6d3"
      },
      "source": [
        "import seaborn as sb\n",
        "from sklearn.metrics import confusion_matrix\n",
        "from matplotlib import pyplot as plt\n",
        "\n",
        "knn_predicted=knn.predict(X_test)\n",
        "knn_confuse=confusion_matrix(y_test,knn_predicted)\n",
        "df_cm=pd.DataFrame(knn_confuse)\n",
        "\n",
        "plt.figure(figsize=(5.5,4))\n",
        "sb.heatmap(df_cm,annot=True,fmt='g')\n",
        "plt.title(\"Confusion Matrix Heatmap\")\n",
        "plt.xlabel(\"True Label\")\n",
        "plt.ylabel(\"Predicted Label\")\n",
        "plt.show()"
      ],
      "execution_count": 19,
      "outputs": [
        {
          "output_type": "display_data",
          "data": {
            "image/png": "[encoded data removed]",
            "text/plain": [
              "<Figure size 396x288 with 2 Axes>"
            ]
          },
          "metadata": {
            "tags": [],
            "needs_background": "light"
          }
        }
      ]
    },
    {
      "cell_type": "markdown",
      "metadata": {
        "id": "JI5WceTW_GgP"
      },
      "source": [
        "#6. Random Forest"
      ]
    },
    {
      "cell_type": "code",
      "metadata": {
        "colab": {
          "base_uri": "https://localhost:8080/"
        },
        "id": "8t-H-u7T9ZvN",
        "outputId": "34fe78c9-1fd5-496c-ee27-446ca0c81ab9"
      },
      "source": [
        "model=RandomForestClassifier(n_estimators=100)\n",
        "rf=model.fit(X_train,y_train)\n",
        "print(\"Testing score\",rf.score(X_test,y_test))"
      ],
      "execution_count": 20,
      "outputs": [
        {
          "output_type": "stream",
          "text": [
            "Testing score 0.997940032043946\n"
          ],
          "name": "stdout"
        }
      ]
    },
    {
      "cell_type": "code",
      "metadata": {
        "colab": {
          "base_uri": "https://localhost:8080/"
        },
        "id": "xxRU14rIa7Uo",
        "outputId": "9e330a5d-fa3a-45c2-ac29-add11b2dd6dc"
      },
      "source": [
        "from sklearn.metrics import classification_report\n",
        "print(\"Classification Report\")\n",
        "print(classification_report(y_test,rf.predict(X_test)))"
      ],
      "execution_count": 21,
      "outputs": [
        {
          "output_type": "stream",
          "text": [
            "Classification Report\n",
            "              precision    recall  f1-score   support\n",
            "\n",
            "           0       1.00      1.00      1.00      7502\n",
            "           1       0.99      1.00      1.00      3039\n",
            "           2       1.00      1.00      1.00      2559\n",
            "           3       0.75      0.43      0.55         7\n",
            "\n",
            "    accuracy                           1.00     13107\n",
            "   macro avg       0.94      0.86      0.88     13107\n",
            "weighted avg       1.00      1.00      1.00     13107\n",
            "\n"
          ],
          "name": "stdout"
        }
      ]
    },
    {
      "cell_type": "code",
      "metadata": {
        "colab": {
          "base_uri": "https://localhost:8080/",
          "height": 295
        },
        "id": "HJ_-thAOI2D-",
        "outputId": "732ed2d0-68ae-4108-ac2d-6446696de542"
      },
      "source": [
        "import seaborn as sb\n",
        "from sklearn.metrics import confusion_matrix\n",
        "from matplotlib import pyplot as plt\n",
        "\n",
        "rf_predicted=rf.predict(X_test)\n",
        "rf_confuse=confusion_matrix(y_test,rf_predicted)\n",
        "df_cm=pd.DataFrame(rf_confuse)\n",
        "\n",
        "plt.figure(figsize=(5.5,4))\n",
        "sb.heatmap(df_cm,annot=True,fmt='g')\n",
        "plt.title(\"Confusion Matrix Heatmap\")\n",
        "plt.xlabel(\"True Label\")\n",
        "plt.ylabel(\"Predicted Label\")\n",
        "plt.show()"
      ],
      "execution_count": 22,
      "outputs": [
        {
          "output_type": "display_data",
          "data": {
            "image/png": "[encoded data removed]",
            "text/plain": [
              "<Figure size 396x288 with 2 Axes>"
            ]
          },
          "metadata": {
            "tags": [],
            "needs_background": "light"
          }
        }
      ]
    },
    {
      "cell_type": "markdown",
      "metadata": {
        "id": "pTcOBb4O_xo7"
      },
      "source": [
        "#7. Decision Tree"
      ]
    },
    {
      "cell_type": "code",
      "metadata": {
        "colab": {
          "base_uri": "https://localhost:8080/"
        },
        "id": "bCPiO6J28oWa",
        "outputId": "77c313e4-b230-4adf-f6d5-e5c24ae66b42"
      },
      "source": [
        "model=DecisionTreeClassifier()\n",
        "dt=model.fit(X_train,y_train)\n",
        "print(\"Testing score\",dt.score(X_test,y_test))"
      ],
      "execution_count": 23,
      "outputs": [
        {
          "output_type": "stream",
          "text": [
            "Testing score 0.9977111467154955\n"
          ],
          "name": "stdout"
        }
      ]
    },
    {
      "cell_type": "code",
      "metadata": {
        "colab": {
          "base_uri": "https://localhost:8080/"
        },
        "id": "x0jtp8-YbfUk",
        "outputId": "7a07465e-95ea-418b-b21d-1dd631ea9800"
      },
      "source": [
        "from sklearn.metrics import classification_report\n",
        "print(\"Classification Report\")\n",
        "print(classification_report(y_test,dt.predict(X_test)))"
      ],
      "execution_count": 24,
      "outputs": [
        {
          "output_type": "stream",
          "text": [
            "Classification Report\n",
            "              precision    recall  f1-score   support\n",
            "\n",
            "           0       1.00      1.00      1.00      7502\n",
            "           1       0.99      1.00      1.00      3039\n",
            "           2       1.00      1.00      1.00      2559\n",
            "           3       0.29      0.29      0.29         7\n",
            "\n",
            "    accuracy                           1.00     13107\n",
            "   macro avg       0.82      0.82      0.82     13107\n",
            "weighted avg       1.00      1.00      1.00     13107\n",
            "\n"
          ],
          "name": "stdout"
        }
      ]
    },
    {
      "cell_type": "code",
      "metadata": {
        "colab": {
          "base_uri": "https://localhost:8080/",
          "height": 295
        },
        "id": "OYDPYKMIJgAY",
        "outputId": "78137875-47cb-42c2-cbdc-17a63173c256"
      },
      "source": [
        "import seaborn as sb\n",
        "from sklearn.metrics import confusion_matrix\n",
        "from matplotlib import pyplot as plt\n",
        "\n",
        "dt_predicted=rf.predict(X_test)\n",
        "dt_confuse=confusion_matrix(y_test,dt_predicted)\n",
        "df_cm=pd.DataFrame(dt_confuse)\n",
        "\n",
        "plt.figure(figsize=(5.5,4))\n",
        "sb.heatmap(df_cm,annot=True,fmt='g')\n",
        "plt.title(\"Confusion Matrix Heatmap\")\n",
        "plt.xlabel(\"True Label\")\n",
        "plt.ylabel(\"Predicted Label\")\n",
        "plt.show()"
      ],
      "execution_count": 26,
      "outputs": [
        {
          "output_type": "display_data",
          "data": {
            "image/png": "[encoded data removed]",
            "text/plain": [
              "<Figure size 396x288 with 2 Axes>"
            ]
          },
          "metadata": {
            "tags": [],
            "needs_background": "light"
          }
        }
      ]
    },
    {
      "cell_type": "markdown",
      "metadata": {
        "id": "CY23AGFfSLte"
      },
      "source": [
        "#8. DNN"
      ]
    },
    {
      "cell_type": "code",
      "metadata": {
        "id": "JRxotwz-9oHO"
      },
      "source": [
        "from keras.utils import to_categorical\n",
        "y_train = to_categorical(y_train,4)\n",
        "y_test = to_categorical(y_test,4)"
      ],
      "execution_count": 28,
      "outputs": []
    },
    {
      "cell_type": "code",
      "metadata": {
        "id": "aklAKK1LSfmp"
      },
      "source": [
        ""
      ],
      "execution_count": null,
      "outputs": []
    },
    {
      "cell_type": "code",
      "metadata": {
        "id": "eRuRaTRt7hDA"
      },
      "source": [
        "import tensorflow as tf\n",
        "from keras.models import Sequential\n",
        "import pandas as pd\n",
        "from keras.layers import Dense"
      ],
      "execution_count": 29,
      "outputs": []
    },
    {
      "cell_type": "code",
      "metadata": {
        "colab": {
          "base_uri": "https://localhost:8080/"
        },
        "id": "UJAei1ippji2",
        "outputId": "11cc2ba7-e266-4281-f179-82b7b73f9f59"
      },
      "source": [
        "model = Sequential()\n",
        "\n",
        "model.add(Dense(16, activation='relu', input_shape=(5,)))\n",
        "model.add(Dense(16, activation='relu'))\n",
        "model.add(Dense(16, activation='relu'))\n",
        "model.add(Dense(8, activation='relu'))\n",
        "model.add(Dense(8, activation='relu'))\n",
        "model.add(Dense(8, activation='relu'))\n",
        "\n",
        "model.add(Dense(4, activation='softmax'))\n",
        "\n",
        "\n",
        "model.compile(loss='categorical_crossentropy',\n",
        "              optimizer='adam',\n",
        "              metrics=['accuracy'])\n",
        "                   \n",
        "model.fit(X_train,y_train,epochs=10, batch_size=64, verbose=1)"
      ],
      "execution_count": 30,
      "outputs": [
        {
          "output_type": "stream",
          "text": [
            "Epoch 1/10\n",
            "820/820 [==============================] - 2s 1ms/step - loss: 468.8003 - accuracy: 0.6118\n",
            "Epoch 2/10\n",
            "820/820 [==============================] - 1s 1ms/step - loss: 3.7840 - accuracy: 0.7747\n",
            "Epoch 3/10\n",
            "820/820 [==============================] - 1s 1ms/step - loss: 3.8355 - accuracy: 0.7852\n",
            "Epoch 4/10\n",
            "820/820 [==============================] - 1s 1ms/step - loss: 2.8163 - accuracy: 0.8207\n",
            "Epoch 5/10\n",
            "820/820 [==============================] - 1s 1ms/step - loss: 1.7030 - accuracy: 0.8557\n",
            "Epoch 6/10\n",
            "820/820 [==============================] - 1s 1ms/step - loss: 2.8981 - accuracy: 0.8518\n",
            "Epoch 7/10\n",
            "820/820 [==============================] - 1s 1ms/step - loss: 1.4654 - accuracy: 0.8770\n",
            "Epoch 8/10\n",
            "820/820 [==============================] - 1s 1ms/step - loss: 0.6027 - accuracy: 0.9076\n",
            "Epoch 9/10\n",
            "820/820 [==============================] - 1s 1ms/step - loss: 3.1073 - accuracy: 0.8552\n",
            "Epoch 10/10\n",
            "820/820 [==============================] - 1s 1ms/step - loss: 0.3601 - accuracy: 0.9076\n"
          ],
          "name": "stdout"
        },
        {
          "output_type": "execute_result",
          "data": {
            "text/plain": [
              "<tensorflow.python.keras.callbacks.History at 0x7f4c0c7b2590>"
            ]
          },
          "metadata": {
            "tags": []
          },
          "execution_count": 30
        }
      ]
    },
    {
      "cell_type": "code",
      "metadata": {
        "colab": {
          "base_uri": "https://localhost:8080/"
        },
        "id": "jU5dJjW9pjgn",
        "outputId": "e5bf8689-898b-4318-d87e-97032535fe62"
      },
      "source": [
        "#train set\n",
        "print(\"TRAIN SET:\")\n",
        "print(\"Loss du model est: \" , model.evaluate(X_train,y_train)[0])\n",
        "print(\"L'Accuracy du model est: \" , model.evaluate(X_train,y_train)[1]*100 , \"%\")\n",
        "# test set\n",
        "print(\"TEST SET:\")\n",
        "print(\"Loss du model est: \" , model.evaluate(X_test,y_test)[0])\n",
        "print(\"L'Accuracy du model est: \" , model.evaluate(X_test,y_test)[1]*100 , \"%\")\n"
      ],
      "execution_count": 31,
      "outputs": [
        {
          "output_type": "stream",
          "text": [
            "TRAIN SET:\n",
            "1639/1639 [==============================] - 2s 954us/step - loss: 0.3561 - accuracy: 0.8956\n",
            "Loss du model est:  0.3560827076435089\n",
            "1639/1639 [==============================] - 2s 969us/step - loss: 0.3561 - accuracy: 0.8956\n",
            "L'Accuracy du model est:  89.56032395362854 %\n",
            "TEST SET:\n",
            "410/410 [==============================] - 0s 920us/step - loss: 0.3543 - accuracy: 0.8949\n",
            "Loss du model est:  0.3542711138725281\n",
            "410/410 [==============================] - 0s 953us/step - loss: 0.3543 - accuracy: 0.8949\n",
            "L'Accuracy du model est:  89.49416279792786 %\n"
          ],
          "name": "stdout"
        }
      ]
    }
  ]
}