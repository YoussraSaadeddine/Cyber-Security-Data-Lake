{
  "nbformat": 4,
  "nbformat_minor": 0,
  "metadata": {
    "colab": {
      "name": "Windows event.ipynb",
      "provenance": []
    },
    "kernelspec": {
      "name": "python3",
      "display_name": "Python 3"
    },
    "language_info": {
      "name": "python"
    }
  },
  "cells": [
    {
      "cell_type": "code",
      "metadata": {
        "id": "T81YYUlGfvmm"
      },
      "source": [
        "import pandas as pd\n",
        "import numpy as np\n",
        "import matplotlib.pyplot as plt\n",
        "import seaborn as sns\n",
        "import re\n",
        "from google.colab import drive"
      ],
      "execution_count": 1,
      "outputs": []
    },
    {
      "cell_type": "code",
      "metadata": {
        "colab": {
          "base_uri": "https://localhost:8080/"
        },
        "id": "vRSEeUbYf4D-",
        "outputId": "0c1fed60-c952-4096-8cce-abdb9bf02688"
      },
      "source": [
        "from google.colab import drive\n",
        "drive.mount('/gdrive')\n",
        "%cd /gdrive"
      ],
      "execution_count": 2,
      "outputs": [
        {
          "output_type": "stream",
          "text": [
            "Mounted at /gdrive\n",
            "/gdrive\n"
          ],
          "name": "stdout"
        }
      ]
    },
    {
      "cell_type": "code",
      "metadata": {
        "id": "ULu_zDjGgFkB"
      },
      "source": [
        "df=pd.read_csv(r'/gdrive/My Drive/eventlog.csv')"
      ],
      "execution_count": 3,
      "outputs": []
    },
    {
      "cell_type": "code",
      "metadata": {
        "colab": {
          "base_uri": "https://localhost:8080/"
        },
        "id": "MafRiIqmgMnG",
        "outputId": "16b0a62d-cbed-46aa-b427-cefe306d050a"
      },
      "source": [
        "df.shape"
      ],
      "execution_count": 4,
      "outputs": [
        {
          "output_type": "execute_result",
          "data": {
            "text/plain": [
              "(158184, 13)"
            ]
          },
          "metadata": {
            "tags": []
          },
          "execution_count": 4
        }
      ]
    },
    {
      "cell_type": "code",
      "metadata": {
        "id": "00pvp0YZgQpt"
      },
      "source": [
        "del df['Unnamed: 0']"
      ],
      "execution_count": 6,
      "outputs": []
    },
    {
      "cell_type": "code",
      "metadata": {
        "colab": {
          "base_uri": "https://localhost:8080/",
          "height": 513
        },
        "id": "2ClOKvASgc6U",
        "outputId": "2719d4f6-e0a8-4372-dd78-eed761d35bdf"
      },
      "source": [
        "df.sample(10)"
      ],
      "execution_count": 7,
      "outputs": [
        {
          "output_type": "execute_result",
          "data": {
            "text/html": [
              "<div>\n",
              "<style scoped>\n",
              "    .dataframe tbody tr th:only-of-type {\n",
              "        vertical-align: middle;\n",
              "    }\n",
              "\n",
              "    .dataframe tbody tr th {\n",
              "        vertical-align: top;\n",
              "    }\n",
              "\n",
              "    .dataframe thead th {\n",
              "        text-align: right;\n",
              "    }\n",
              "</style>\n",
              "<table border=\"1\" class=\"dataframe\">\n",
              "  <thead>\n",
              "    <tr style=\"text-align: right;\">\n",
              "      <th></th>\n",
              "      <th>MachineName</th>\n",
              "      <th>Category</th>\n",
              "      <th>EntryType</th>\n",
              "      <th>Message</th>\n",
              "      <th>Source</th>\n",
              "      <th>TimeGenerated</th>\n",
              "      <th>country</th>\n",
              "      <th>regionName</th>\n",
              "      <th>city</th>\n",
              "      <th>zip</th>\n",
              "      <th>timezone</th>\n",
              "      <th>isp</th>\n",
              "    </tr>\n",
              "  </thead>\n",
              "  <tbody>\n",
              "    <tr>\n",
              "      <th>4003</th>\n",
              "      <td>LAPTOP-1MKMTVPM</td>\n",
              "      <td>General</td>\n",
              "      <td>Information</td>\n",
              "      <td>svchost (12784,D,50) DS_Token_DB: The database...</td>\n",
              "      <td>ESENT</td>\n",
              "      <td>2020-10-01 13:53:43</td>\n",
              "      <td>India</td>\n",
              "      <td>Gujarat</td>\n",
              "      <td>Ahmedabad</td>\n",
              "      <td>380007</td>\n",
              "      <td>Asia/Kolkata</td>\n",
              "      <td>GTPL A. J. Enterprise</td>\n",
              "    </tr>\n",
              "    <tr>\n",
              "      <th>68140</th>\n",
              "      <td>Mehul</td>\n",
              "      <td>(0)</td>\n",
              "      <td>Information</td>\n",
              "      <td>The Software Protection service has completed ...</td>\n",
              "      <td>Software Protection Platform Service</td>\n",
              "      <td>2020-12-04 18:21:03</td>\n",
              "      <td>India</td>\n",
              "      <td>Gujarat</td>\n",
              "      <td>Surat</td>\n",
              "      <td>395007</td>\n",
              "      <td>Asia/Kolkata</td>\n",
              "      <td>BSNL Internet</td>\n",
              "    </tr>\n",
              "    <tr>\n",
              "      <th>119633</th>\n",
              "      <td>LAPTOP-1MKMTVPM</td>\n",
              "      <td>Logging/Recovery</td>\n",
              "      <td>Information</td>\n",
              "      <td>Video.UI (8804,R,98) {AA75514A-BBBB-4538-A18A-...</td>\n",
              "      <td>ESENT</td>\n",
              "      <td>2021-03-10 14:31:13</td>\n",
              "      <td>India</td>\n",
              "      <td>Gujarat</td>\n",
              "      <td>Ahmedabad</td>\n",
              "      <td>382350</td>\n",
              "      <td>Asia/Kolkata</td>\n",
              "      <td>Go Transformation Private Limited</td>\n",
              "    </tr>\n",
              "    <tr>\n",
              "      <th>128962</th>\n",
              "      <td>TMP249-G3-M</td>\n",
              "      <td>(0)</td>\n",
              "      <td>Information</td>\n",
              "      <td>The winlogon notification subscriber &lt;SessionE...</td>\n",
              "      <td>Wlclntfy</td>\n",
              "      <td>2019-12-24 18:07:35</td>\n",
              "      <td>India</td>\n",
              "      <td>Gujarat</td>\n",
              "      <td>Ahmedabad</td>\n",
              "      <td>382350</td>\n",
              "      <td>Asia/Kolkata</td>\n",
              "      <td>Bharti Airtel Limited</td>\n",
              "    </tr>\n",
              "    <tr>\n",
              "      <th>148100</th>\n",
              "      <td>TMP249-G3-M</td>\n",
              "      <td>(0)</td>\n",
              "      <td>Information</td>\n",
              "      <td>Service started successfully.</td>\n",
              "      <td>Service1</td>\n",
              "      <td>2020-02-03 12:06:04</td>\n",
              "      <td>India</td>\n",
              "      <td>Gujarat</td>\n",
              "      <td>Ahmedabad</td>\n",
              "      <td>382350</td>\n",
              "      <td>Asia/Kolkata</td>\n",
              "      <td>Vaji Communications Pvt. Ltd.</td>\n",
              "    </tr>\n",
              "    <tr>\n",
              "      <th>142599</th>\n",
              "      <td>TMP249-G3-M</td>\n",
              "      <td>(1)</td>\n",
              "      <td>Information</td>\n",
              "      <td>Content successfully updated.\\r\\n\\r\\nMajor Ver...</td>\n",
              "      <td>AVLogEvent</td>\n",
              "      <td>2021-02-09 16:32:17</td>\n",
              "      <td>India</td>\n",
              "      <td>Gujarat</td>\n",
              "      <td>Ahmedabad</td>\n",
              "      <td>382350</td>\n",
              "      <td>Asia/Kolkata</td>\n",
              "      <td>Vaji Communications Pvt. Ltd.</td>\n",
              "    </tr>\n",
              "    <tr>\n",
              "      <th>77769</th>\n",
              "      <td>LAPTOP-1MKMTVPM</td>\n",
              "      <td>(0)</td>\n",
              "      <td>Information</td>\n",
              "      <td>Successfully scheduled Software Protection ser...</td>\n",
              "      <td>Software Protection Platform Service</td>\n",
              "      <td>2020-10-03 16:10:10</td>\n",
              "      <td>India</td>\n",
              "      <td>Gujarat</td>\n",
              "      <td>Ahmedabad</td>\n",
              "      <td>380008</td>\n",
              "      <td>Asia/Kolkata</td>\n",
              "      <td>Gtpl Chelikam Networks India Pvt. Ltd.</td>\n",
              "    </tr>\n",
              "    <tr>\n",
              "      <th>121670</th>\n",
              "      <td>TMP249-G3-M</td>\n",
              "      <td>(0)</td>\n",
              "      <td>Information</td>\n",
              "      <td>Updated McAfee Firewall status successfully to...</td>\n",
              "      <td>SecurityCenter</td>\n",
              "      <td>2021-02-15 15:26:48</td>\n",
              "      <td>India</td>\n",
              "      <td>Gujarat</td>\n",
              "      <td>Ahmedabad</td>\n",
              "      <td>382350</td>\n",
              "      <td>Asia/Kolkata</td>\n",
              "      <td>Bharti Airtel Limited</td>\n",
              "    </tr>\n",
              "    <tr>\n",
              "      <th>68010</th>\n",
              "      <td>Mehul</td>\n",
              "      <td>(0)</td>\n",
              "      <td>Information</td>\n",
              "      <td>The Software Protection service has completed ...</td>\n",
              "      <td>Software Protection Platform Service</td>\n",
              "      <td>2020-12-04 06:50:03</td>\n",
              "      <td>India</td>\n",
              "      <td>Gujarat</td>\n",
              "      <td>Surat</td>\n",
              "      <td>395007</td>\n",
              "      <td>Asia/Kolkata</td>\n",
              "      <td>BSNL Internet</td>\n",
              "    </tr>\n",
              "    <tr>\n",
              "      <th>157278</th>\n",
              "      <td>DESKTOP-U66O8IT</td>\n",
              "      <td>(0)</td>\n",
              "      <td>Information</td>\n",
              "      <td>The Desktop Window Manager has registered the ...</td>\n",
              "      <td>Desktop Window Manager</td>\n",
              "      <td>2021-03-13 17:19:51</td>\n",
              "      <td>India</td>\n",
              "      <td>Gujarat</td>\n",
              "      <td>Ahmedabad</td>\n",
              "      <td>382350</td>\n",
              "      <td>Asia/Kolkata</td>\n",
              "      <td>GTPL A. J. Enterprise</td>\n",
              "    </tr>\n",
              "  </tbody>\n",
              "</table>\n",
              "</div>"
            ],
            "text/plain": [
              "            MachineName  ...                                     isp\n",
              "4003    LAPTOP-1MKMTVPM  ...                   GTPL A. J. Enterprise\n",
              "68140             Mehul  ...                           BSNL Internet\n",
              "119633  LAPTOP-1MKMTVPM  ...       Go Transformation Private Limited\n",
              "128962      TMP249-G3-M  ...                   Bharti Airtel Limited\n",
              "148100      TMP249-G3-M  ...           Vaji Communications Pvt. Ltd.\n",
              "142599      TMP249-G3-M  ...           Vaji Communications Pvt. Ltd.\n",
              "77769   LAPTOP-1MKMTVPM  ...  Gtpl Chelikam Networks India Pvt. Ltd.\n",
              "121670      TMP249-G3-M  ...                   Bharti Airtel Limited\n",
              "68010             Mehul  ...                           BSNL Internet\n",
              "157278  DESKTOP-U66O8IT  ...                   GTPL A. J. Enterprise\n",
              "\n",
              "[10 rows x 12 columns]"
            ]
          },
          "metadata": {
            "tags": []
          },
          "execution_count": 7
        }
      ]
    },
    {
      "cell_type": "code",
      "metadata": {
        "id": "Y3Rmr2CNhqfs"
      },
      "source": [
        "df"
      ],
      "execution_count": null,
      "outputs": []
    }
  ]
}