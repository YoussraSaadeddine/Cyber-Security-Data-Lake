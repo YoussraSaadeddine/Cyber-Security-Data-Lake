{
  "nbformat": 4,
  "nbformat_minor": 0,
  "metadata": {
    "colab": {
      "name": "Firewall 2.ipynb",
      "provenance": [],
      "collapsed_sections": []
    },
    "kernelspec": {
      "name": "python3",
      "display_name": "Python 3"
    },
    "language_info": {
      "name": "python"
    }
  },
  "cells": [
    {
      "cell_type": "markdown",
      "metadata": {
        "id": "CI5UEBECDOXB"
      },
      "source": [
        "## Introduction"
      ]
    },
    {
      "cell_type": "markdown",
      "metadata": {
        "id": "Xz9p3o4cDStr"
      },
      "source": [
        "#####Après avoir testé les algorithmes de classification sur la premiere DT de 65k logs.\n",
        "#####Dans ce projet, nous allons essayer de tester les mémes algorithmes sur une autre Dataset de 172838 logs pour voir est-ce-que nos algorithmes vont garder les memes performances. \n",
        "\n"
      ]
    },
    {
      "cell_type": "markdown",
      "metadata": {
        "id": "Hmzh3p53EoZd"
      },
      "source": [
        "## table de matiére\n",
        "\n",
        "\n",
        "1.   Importing libraries and modules,\n",
        "2.   Load data,\n",
        "3.   Preparing Data,\n",
        "4.   GBN Classifier,\n",
        "5.   KNN Classifier,\n",
        "6.   Random forest Classifier,\n",
        "7.   Decision tree Classifier\n",
        "8.   DNN"
      ]
    },
    {
      "cell_type": "markdown",
      "metadata": {
        "id": "CJp2rdsI2djW"
      },
      "source": [
        "## 1. Importing libraries and modules."
      ]
    },
    {
      "cell_type": "code",
      "metadata": {
        "id": "OU5TON4-aqM6"
      },
      "source": [
        "import pandas as pd\n",
        "from sklearn.preprocessing import LabelEncoder\n",
        "from sklearn.model_selection import train_test_split\n",
        "from sklearn.naive_bayes import GaussianNB\n",
        "from sklearn.neighbors import KNeighborsClassifier\n",
        "from sklearn.ensemble import RandomForestClassifier\n",
        "from sklearn.tree import DecisionTreeClassifier"
      ],
      "execution_count": null,
      "outputs": []
    },
    {
      "cell_type": "markdown",
      "metadata": {
        "id": "lSbshq_qFMSj"
      },
      "source": [
        "## 2. Load Data"
      ]
    },
    {
      "cell_type": "code",
      "metadata": {
        "colab": {
          "base_uri": "https://localhost:8080/"
        },
        "id": "wZwrdqhRavhN",
        "outputId": "0269d877-e172-403d-f984-6d3f60995059"
      },
      "source": [
        "from google.colab import drive\n",
        "drive.mount('/gdrive')\n",
        "%cd /gdrive"
      ],
      "execution_count": null,
      "outputs": [
        {
          "output_type": "stream",
          "text": [
            "Mounted at /gdrive\n",
            "/gdrive\n"
          ],
          "name": "stdout"
        }
      ]
    },
    {
      "cell_type": "code",
      "metadata": {
        "id": "rELMtkMRa5cC"
      },
      "source": [
        "Data_PATH=r'/gdrive/My Drive/CIDDS-001-external-week1.csv'"
      ],
      "execution_count": null,
      "outputs": []
    },
    {
      "cell_type": "code",
      "metadata": {
        "id": "f4kN4nMHa5Y8"
      },
      "source": [
        "df=pd.read_csv(Data_PATH)"
      ],
      "execution_count": null,
      "outputs": []
    },
    {
      "cell_type": "code",
      "metadata": {
        "colab": {
          "base_uri": "https://localhost:8080/",
          "height": 326
        },
        "id": "KMJHdK0ua5VY",
        "outputId": "85728bf5-c282-41c9-f5ca-68f5fe8c5079"
      },
      "source": [
        "df.head()"
      ],
      "execution_count": null,
      "outputs": [
        {
          "output_type": "execute_result",
          "data": {
            "text/html": [
              "<div>\n",
              "<style scoped>\n",
              "    .dataframe tbody tr th:only-of-type {\n",
              "        vertical-align: middle;\n",
              "    }\n",
              "\n",
              "    .dataframe tbody tr th {\n",
              "        vertical-align: top;\n",
              "    }\n",
              "\n",
              "    .dataframe thead th {\n",
              "        text-align: right;\n",
              "    }\n",
              "</style>\n",
              "<table border=\"1\" class=\"dataframe\">\n",
              "  <thead>\n",
              "    <tr style=\"text-align: right;\">\n",
              "      <th></th>\n",
              "      <th>Date first seen</th>\n",
              "      <th>Duration</th>\n",
              "      <th>Proto</th>\n",
              "      <th>Src IP Addr</th>\n",
              "      <th>Src Pt</th>\n",
              "      <th>Dst IP Addr</th>\n",
              "      <th>Dst Pt</th>\n",
              "      <th>Packets</th>\n",
              "      <th>Bytes</th>\n",
              "      <th>Flows</th>\n",
              "      <th>Flags</th>\n",
              "      <th>Tos</th>\n",
              "      <th>class</th>\n",
              "      <th>attackType</th>\n",
              "      <th>attackID</th>\n",
              "      <th>attackDescription</th>\n",
              "    </tr>\n",
              "  </thead>\n",
              "  <tbody>\n",
              "    <tr>\n",
              "      <th>0</th>\n",
              "      <td>2017-03-14 17:43:57.172</td>\n",
              "      <td>81412.697</td>\n",
              "      <td>TCP</td>\n",
              "      <td>EXT_SERVER</td>\n",
              "      <td>8082</td>\n",
              "      <td>OPENSTACK_NET</td>\n",
              "      <td>56978.0</td>\n",
              "      <td>3057</td>\n",
              "      <td>2.1 M</td>\n",
              "      <td>1</td>\n",
              "      <td>.AP...</td>\n",
              "      <td>0</td>\n",
              "      <td>normal</td>\n",
              "      <td>---</td>\n",
              "      <td>---</td>\n",
              "      <td>---</td>\n",
              "    </tr>\n",
              "    <tr>\n",
              "      <th>1</th>\n",
              "      <td>2017-03-14 17:43:57.172</td>\n",
              "      <td>81412.697</td>\n",
              "      <td>TCP</td>\n",
              "      <td>OPENSTACK_NET</td>\n",
              "      <td>56978</td>\n",
              "      <td>EXT_SERVER</td>\n",
              "      <td>8082.0</td>\n",
              "      <td>4748</td>\n",
              "      <td>2.5 M</td>\n",
              "      <td>1</td>\n",
              "      <td>.AP...</td>\n",
              "      <td>0</td>\n",
              "      <td>normal</td>\n",
              "      <td>---</td>\n",
              "      <td>---</td>\n",
              "      <td>---</td>\n",
              "    </tr>\n",
              "    <tr>\n",
              "      <th>2</th>\n",
              "      <td>2017-03-14 17:43:26.135</td>\n",
              "      <td>81504.787</td>\n",
              "      <td>TCP</td>\n",
              "      <td>EXT_SERVER</td>\n",
              "      <td>8082</td>\n",
              "      <td>OPENSTACK_NET</td>\n",
              "      <td>56979.0</td>\n",
              "      <td>8639</td>\n",
              "      <td>9.1 M</td>\n",
              "      <td>1</td>\n",
              "      <td>.AP...</td>\n",
              "      <td>0</td>\n",
              "      <td>normal</td>\n",
              "      <td>---</td>\n",
              "      <td>---</td>\n",
              "      <td>---</td>\n",
              "    </tr>\n",
              "    <tr>\n",
              "      <th>3</th>\n",
              "      <td>2017-03-14 17:43:26.135</td>\n",
              "      <td>81504.787</td>\n",
              "      <td>TCP</td>\n",
              "      <td>OPENSTACK_NET</td>\n",
              "      <td>56979</td>\n",
              "      <td>EXT_SERVER</td>\n",
              "      <td>8082.0</td>\n",
              "      <td>12024</td>\n",
              "      <td>10.3 M</td>\n",
              "      <td>1</td>\n",
              "      <td>.AP...</td>\n",
              "      <td>0</td>\n",
              "      <td>normal</td>\n",
              "      <td>---</td>\n",
              "      <td>---</td>\n",
              "      <td>---</td>\n",
              "    </tr>\n",
              "    <tr>\n",
              "      <th>4</th>\n",
              "      <td>2017-03-14 18:17:09.005</td>\n",
              "      <td>82100.692</td>\n",
              "      <td>TCP</td>\n",
              "      <td>EXT_SERVER</td>\n",
              "      <td>8082</td>\n",
              "      <td>OPENSTACK_NET</td>\n",
              "      <td>51649.0</td>\n",
              "      <td>11012</td>\n",
              "      <td>27.2 M</td>\n",
              "      <td>1</td>\n",
              "      <td>.AP.S.</td>\n",
              "      <td>0</td>\n",
              "      <td>normal</td>\n",
              "      <td>---</td>\n",
              "      <td>---</td>\n",
              "      <td>---</td>\n",
              "    </tr>\n",
              "  </tbody>\n",
              "</table>\n",
              "</div>"
            ],
            "text/plain": [
              "           Date first seen   Duration  ... attackID attackDescription\n",
              "0  2017-03-14 17:43:57.172  81412.697  ...      ---               ---\n",
              "1  2017-03-14 17:43:57.172  81412.697  ...      ---               ---\n",
              "2  2017-03-14 17:43:26.135  81504.787  ...      ---               ---\n",
              "3  2017-03-14 17:43:26.135  81504.787  ...      ---               ---\n",
              "4  2017-03-14 18:17:09.005  82100.692  ...      ---               ---\n",
              "\n",
              "[5 rows x 16 columns]"
            ]
          },
          "metadata": {
            "tags": []
          },
          "execution_count": 5
        }
      ]
    },
    {
      "cell_type": "markdown",
      "metadata": {
        "id": "9D3TOMf0FcLR"
      },
      "source": [
        "#3. Preparing Data"
      ]
    },
    {
      "cell_type": "code",
      "metadata": {
        "id": "FXxhnPJ-a5Ti"
      },
      "source": [
        "data=df.copy()"
      ],
      "execution_count": null,
      "outputs": []
    },
    {
      "cell_type": "code",
      "metadata": {
        "id": "f3QtxtxEa5Qi"
      },
      "source": [
        "data=data[[\"Src Pt\",\"Dst Pt\",\"Bytes\",\"Packets\",\"class\",\"Duration\"]]"
      ],
      "execution_count": null,
      "outputs": []
    },
    {
      "cell_type": "code",
      "metadata": {
        "colab": {
          "base_uri": "https://localhost:8080/"
        },
        "id": "z98_uHuaa5Ov",
        "outputId": "4ad3985e-a71d-4da2-c83a-2b9372050924"
      },
      "source": [
        "print('The dataset contain {} rows and {} columns'.format(data.shape[0], data.shape[1]))"
      ],
      "execution_count": null,
      "outputs": [
        {
          "output_type": "stream",
          "text": [
            "The dataset contain 172838 rows and 6 columns\n"
          ],
          "name": "stdout"
        }
      ]
    },
    {
      "cell_type": "code",
      "metadata": {
        "colab": {
          "base_uri": "https://localhost:8080/"
        },
        "id": "qA3SxnuacDe_",
        "outputId": "1d2d2046-81fb-44c6-98ca-544828c9678e"
      },
      "source": [
        "data.dtypes"
      ],
      "execution_count": null,
      "outputs": [
        {
          "output_type": "execute_result",
          "data": {
            "text/plain": [
              "Src Pt        int64\n",
              "Dst Pt      float64\n",
              "Bytes        object\n",
              "Packets       int64\n",
              "class        object\n",
              "Duration    float64\n",
              "dtype: object"
            ]
          },
          "metadata": {
            "tags": []
          },
          "execution_count": 9
        }
      ]
    },
    {
      "cell_type": "code",
      "metadata": {
        "id": "BLzV0BFVeYV1"
      },
      "source": [
        "import re\n",
        "def convtonum(data):\n",
        "    num1=data[\"Bytes\"]\n",
        "    if \"M\" in data[\"Bytes\"]:\n",
        "        num=re.findall(\"[0-9.0-9]\",data[\"Bytes\"])\n",
        "        num1 = float(\"\".join(num))*100000\n",
        "    num1 = float(num1)\n",
        "    return num1"
      ],
      "execution_count": null,
      "outputs": []
    },
    {
      "cell_type": "code",
      "metadata": {
        "id": "L9NHjP8eeRNW"
      },
      "source": [
        "data[\"Bytes\"] = data.apply(convtonum,axis = 1)"
      ],
      "execution_count": null,
      "outputs": []
    },
    {
      "cell_type": "code",
      "metadata": {
        "colab": {
          "base_uri": "https://localhost:8080/"
        },
        "id": "Uze8gjI1cyrH",
        "outputId": "a9685687-59df-4749-803d-a74cb32ed151"
      },
      "source": [
        "(data.isna().sum()/data.shape[0]).sort_values()"
      ],
      "execution_count": null,
      "outputs": [
        {
          "output_type": "execute_result",
          "data": {
            "text/plain": [
              "Src Pt      0.0\n",
              "Dst Pt      0.0\n",
              "Bytes       0.0\n",
              "Packets     0.0\n",
              "class       0.0\n",
              "Duration    0.0\n",
              "dtype: float64"
            ]
          },
          "metadata": {
            "tags": []
          },
          "execution_count": 12
        }
      ]
    },
    {
      "cell_type": "code",
      "metadata": {
        "colab": {
          "base_uri": "https://localhost:8080/",
          "height": 341
        },
        "id": "znCNcjSZdfXX",
        "outputId": "6880c010-a7e1-4a7c-9910-42666f2c53d8"
      },
      "source": [
        "import matplotlib.pyplot as plt\n",
        "import seaborn as sns\n",
        "plt.figure(figsize=(18,5))\n",
        "sns.heatmap(data.corr(),annot=True,cmap = \"RdYlGn\")"
      ],
      "execution_count": null,
      "outputs": [
        {
          "output_type": "execute_result",
          "data": {
            "text/plain": [
              "<matplotlib.axes._subplots.AxesSubplot at 0x7f29ed611750>"
            ]
          },
          "metadata": {
            "tags": []
          },
          "execution_count": 13
        },
        {
          "output_type": "display_data",
          "data": {
            "image/png": "[encoded data removed]",
            "text/plain": [
              "<Figure size 1296x360 with 2 Axes>"
            ]
          },
          "metadata": {
            "tags": [],
            "needs_background": "light"
          }
        }
      ]
    },
    {
      "cell_type": "code",
      "metadata": {
        "id": "DIDveXotivAf"
      },
      "source": [
        "X=data[[\"Src Pt\",\"Dst Pt\",\"Bytes\",\"Packets\",\"Duration\"]]\n",
        "Y=data[\"class\"]"
      ],
      "execution_count": null,
      "outputs": []
    },
    {
      "cell_type": "code",
      "metadata": {
        "id": "mC5bhuCp-Sof"
      },
      "source": [
        "le = LabelEncoder()\n",
        "y=le.fit_transform(Y)"
      ],
      "execution_count": null,
      "outputs": []
    },
    {
      "cell_type": "code",
      "metadata": {
        "id": "xUQPXRSNixxY"
      },
      "source": [
        "X_train, X_test, y_train, y_test = train_test_split(X,y,test_size = 0.20)"
      ],
      "execution_count": null,
      "outputs": []
    },
    {
      "cell_type": "markdown",
      "metadata": {
        "id": "EKwe5RfI8SRt"
      },
      "source": [
        "# 4.Gaussian Naive Bayes Classifier"
      ]
    },
    {
      "cell_type": "code",
      "metadata": {
        "colab": {
          "base_uri": "https://localhost:8080/"
        },
        "id": "hoWlRV4HixuO",
        "outputId": "8f4ef4d8-f2b1-43a7-c153-8318089a4a7d"
      },
      "source": [
        "model=GaussianNB()\n",
        "gnb=model.fit(X_train,y_train)\n",
        "\n",
        "print(\"Testing score\",gnb.score(X_test,y_test))"
      ],
      "execution_count": null,
      "outputs": [
        {
          "output_type": "stream",
          "text": [
            "Testing score 0.6060807683406619\n"
          ],
          "name": "stdout"
        }
      ]
    },
    {
      "cell_type": "markdown",
      "metadata": {
        "id": "MBR7kszq9E6D"
      },
      "source": [
        "# 5. KNeighborsClassifier"
      ]
    },
    {
      "cell_type": "code",
      "metadata": {
        "colab": {
          "base_uri": "https://localhost:8080/"
        },
        "id": "9T4k3xmXixqf",
        "outputId": "856ff026-b522-414a-b46b-f76d4d5cadd8"
      },
      "source": [
        "model=KNeighborsClassifier(n_neighbors=2)\n",
        "knn=model.fit(X_train,y_train)\n",
        "\n",
        "print(\"Testing score\",knn.score(X_test,y_test))"
      ],
      "execution_count": null,
      "outputs": [
        {
          "output_type": "stream",
          "text": [
            "Testing score 0.9843496875723212\n"
          ],
          "name": "stdout"
        }
      ]
    },
    {
      "cell_type": "markdown",
      "metadata": {
        "id": "JI5WceTW_GgP"
      },
      "source": [
        "#6. Random Forest"
      ]
    },
    {
      "cell_type": "code",
      "metadata": {
        "colab": {
          "base_uri": "https://localhost:8080/"
        },
        "id": "sbMoNqQpixml",
        "outputId": "78acee71-41f3-47f9-a4e8-1c2052135fd9"
      },
      "source": [
        "model=RandomForestClassifier(n_estimators=100)\n",
        "rf=model.fit(X_train,y_train)\n",
        "print(\"Testing score\",rf.score(X_test,y_test))"
      ],
      "execution_count": null,
      "outputs": [
        {
          "output_type": "stream",
          "text": [
            "Testing score 0.999537144179588\n"
          ],
          "name": "stdout"
        }
      ]
    },
    {
      "cell_type": "markdown",
      "metadata": {
        "id": "pTcOBb4O_xo7"
      },
      "source": [
        "#7. Decision Tree"
      ]
    },
    {
      "cell_type": "code",
      "metadata": {
        "colab": {
          "base_uri": "https://localhost:8080/"
        },
        "id": "UYZd8r1Hixkm",
        "outputId": "fc5a318a-2fb8-4d04-bcdd-476e17c94ec3"
      },
      "source": [
        "model=DecisionTreeClassifier()\n",
        "dt=model.fit(X_train,y_train)\n",
        "print(\"Testing score\",dt.score(X_test,y_test))"
      ],
      "execution_count": null,
      "outputs": [
        {
          "output_type": "stream",
          "text": [
            "Testing score 0.9990453598704003\n"
          ],
          "name": "stdout"
        }
      ]
    },
    {
      "cell_type": "code",
      "metadata": {
        "colab": {
          "base_uri": "https://localhost:8080/",
          "height": 295
        },
        "id": "3P1qi5_kjv0m",
        "outputId": "2f65c0ec-7d58-4607-c15b-b31994991e08"
      },
      "source": [
        "import seaborn as sb\n",
        "from sklearn.metrics import confusion_matrix\n",
        "from matplotlib import pyplot as plt\n",
        "\n",
        "dt_predicted=rf.predict(X_test)\n",
        "dt_confuse=confusion_matrix(y_test,dt_predicted)\n",
        "df_cm=pd.DataFrame(dt_confuse)\n",
        "\n",
        "plt.figure(figsize=(5.5,4))\n",
        "sb.heatmap(df_cm,annot=True,fmt='g')\n",
        "plt.title(\"Confusion Matrix Heatmap\")\n",
        "plt.xlabel(\"True Label\")\n",
        "plt.ylabel(\"Predicted Label\")\n",
        "plt.show()"
      ],
      "execution_count": null,
      "outputs": [
        {
          "output_type": "display_data",
          "data": {
            "image/png": "[encoded data removed]",
            "text/plain": [
              "<Figure size 396x288 with 2 Axes>"
            ]
          },
          "metadata": {
            "tags": [],
            "needs_background": "light"
          }
        }
      ]
    },
    {
      "cell_type": "markdown",
      "metadata": {
        "id": "CY23AGFfSLte"
      },
      "source": [
        "#8. DNN"
      ]
    },
    {
      "cell_type": "code",
      "metadata": {
        "id": "JRxotwz-9oHO"
      },
      "source": [
        "from keras.utils import to_categorical\n",
        "y_train = to_categorical(y_train, 3)\n",
        "y_test = to_categorical(y_test, 3)"
      ],
      "execution_count": null,
      "outputs": []
    },
    {
      "cell_type": "code",
      "metadata": {
        "id": "eRuRaTRt7hDA"
      },
      "source": [
        "import tensorflow as tf\n",
        "from keras.models import Sequential\n",
        "import pandas as pd\n",
        "from keras.layers import Dense"
      ],
      "execution_count": null,
      "outputs": []
    },
    {
      "cell_type": "code",
      "metadata": {
        "colab": {
          "base_uri": "https://localhost:8080/"
        },
        "id": "UJAei1ippji2",
        "outputId": "10bd0e8a-6248-4f86-f44d-1c77c953224f"
      },
      "source": [
        "model = Sequential()\n",
        "\n",
        "model.add(Dense(16, activation='relu', input_shape=(5,)))\n",
        "model.add(Dense(16, activation='relu'))\n",
        "model.add(Dense(16, activation='relu'))\n",
        "model.add(Dense(8, activation='relu'))\n",
        "model.add(Dense(8, activation='relu'))\n",
        "model.add(Dense(8, activation='relu'))\n",
        "\n",
        "model.add(Dense(3, activation='softmax'))\n",
        "\n",
        "\n",
        "model.compile(loss='categorical_crossentropy',\n",
        "              optimizer='adam',\n",
        "              metrics=['accuracy'])\n",
        "                   \n",
        "model.fit(X_train,y_train,epochs=10, batch_size=64, verbose=1)"
      ],
      "execution_count": null,
      "outputs": [
        {
          "output_type": "stream",
          "text": [
            "Epoch 1/10\n",
            "2161/2161 [==============================] - 3s 1ms/step - loss: 94.1886 - accuracy: 0.7612\n",
            "Epoch 2/10\n",
            "2161/2161 [==============================] - 3s 1ms/step - loss: 0.4046 - accuracy: 0.8498\n",
            "Epoch 3/10\n",
            "2161/2161 [==============================] - 3s 1ms/step - loss: 0.3814 - accuracy: 0.8605\n",
            "Epoch 4/10\n",
            "2161/2161 [==============================] - 3s 1ms/step - loss: 0.3982 - accuracy: 0.8749\n",
            "Epoch 5/10\n",
            "2161/2161 [==============================] - 3s 1ms/step - loss: 0.3942 - accuracy: 0.8845\n",
            "Epoch 6/10\n",
            "2161/2161 [==============================] - 3s 1ms/step - loss: 0.3756 - accuracy: 0.8875\n",
            "Epoch 7/10\n",
            "2161/2161 [==============================] - 2s 1ms/step - loss: 0.3346 - accuracy: 0.8904\n",
            "Epoch 8/10\n",
            "2161/2161 [==============================] - 3s 1ms/step - loss: 0.3064 - accuracy: 0.8944\n",
            "Epoch 9/10\n",
            "2161/2161 [==============================] - 3s 1ms/step - loss: 0.2579 - accuracy: 0.8973\n",
            "Epoch 10/10\n",
            "2161/2161 [==============================] - 2s 1ms/step - loss: 0.2510 - accuracy: 0.8996\n"
          ],
          "name": "stdout"
        },
        {
          "output_type": "execute_result",
          "data": {
            "text/plain": [
              "<tensorflow.python.keras.callbacks.History at 0x7f29b51b1a90>"
            ]
          },
          "metadata": {
            "tags": []
          },
          "execution_count": 25
        }
      ]
    },
    {
      "cell_type": "code",
      "metadata": {
        "colab": {
          "base_uri": "https://localhost:8080/"
        },
        "id": "jU5dJjW9pjgn",
        "outputId": "990fc43a-943f-4c39-c3cb-3af91be3aaba"
      },
      "source": [
        "#train set\n",
        "print(\"TRAIN SET:\")\n",
        "print(\"Loss du model est: \" , model.evaluate(X_train,y_train)[0])\n",
        "print(\"L'Accuracy du model est: \" , model.evaluate(X_train,y_train)[1]*100 , \"%\")\n",
        "# test set\n",
        "print(\"TEST SET:\")\n",
        "print(\"Loss du model est: \" , model.evaluate(X_test,y_test)[0])\n",
        "print(\"L'Accuracy du model est: \" , model.evaluate(X_test,y_test)[1]*100 , \"%\")\n"
      ],
      "execution_count": null,
      "outputs": [
        {
          "output_type": "stream",
          "text": [
            "TRAIN SET:\n",
            "4321/4321 [==============================] - 4s 913us/step - loss: 0.2559 - accuracy: 0.8926\n",
            "Loss du model est:  0.2559358477592468\n",
            "4321/4321 [==============================] - 4s 927us/step - loss: 0.2559 - accuracy: 0.8926\n",
            "L'Accuracy du model est:  89.25580382347107 %\n",
            "TEST SET:\n",
            "1081/1081 [==============================] - 1s 892us/step - loss: 0.2574 - accuracy: 0.8943\n",
            "Loss du model est:  0.25741297006607056\n",
            "1081/1081 [==============================] - 1s 896us/step - loss: 0.2574 - accuracy: 0.8943\n",
            "L'Accuracy du model est:  89.42663669586182 %\n"
          ],
          "name": "stdout"
        }
      ]
    }
  ]
}